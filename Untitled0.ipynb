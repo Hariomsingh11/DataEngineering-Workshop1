{
  "cells": [
    {
      "cell_type": "markdown",
      "metadata": {
        "id": "view-in-github",
        "colab_type": "text"
      },
      "source": [
        "<a href=\"https://colab.research.google.com/github/Hariomsingh11/DataEngineering-Workshop1/blob/main/Untitled0.ipynb\" target=\"_parent\"><img src=\"https://colab.research.google.com/assets/colab-badge.svg\" alt=\"Open In Colab\"/></a>"
      ]
    },
    {
      "cell_type": "code",
      "execution_count": null,
      "metadata": {
        "colab": {
          "base_uri": "https://localhost:8080/"
        },
        "id": "pYaq4Q0l2Yjy",
        "outputId": "f21d4686-14ba-49c2-f09c-81b345d11bd1"
      },
      "outputs": [
        {
          "name": "stdout",
          "output_type": "stream",
          "text": [
            "Hello World\n"
          ]
        }
      ],
      "source": [
        "print(\"Hello World\")"
      ]
    },
    {
      "cell_type": "code",
      "execution_count": null,
      "metadata": {
        "id": "oElrSqjR22gc"
      },
      "outputs": [],
      "source": [
        "#variable\n",
        "a = 10\n",
        "b = 20"
      ]
    },
    {
      "cell_type": "code",
      "execution_count": null,
      "metadata": {
        "colab": {
          "base_uri": "https://localhost:8080/"
        },
        "id": "myLSUEje3MNg",
        "outputId": "f84dd6f8-5e42-4b89-c48a-736b35f4bed8"
      },
      "outputs": [
        {
          "data": {
            "text/plain": [
              "10"
            ]
          },
          "execution_count": 4,
          "metadata": {},
          "output_type": "execute_result"
        }
      ],
      "source": [
        "a"
      ]
    },
    {
      "cell_type": "code",
      "execution_count": null,
      "metadata": {
        "colab": {
          "base_uri": "https://localhost:8080/"
        },
        "id": "QGNX30QU3Vyb",
        "outputId": "031aae5c-a1a5-4094-eea5-bd49da664db0"
      },
      "outputs": [
        {
          "data": {
            "text/plain": [
              "int"
            ]
          },
          "execution_count": 6,
          "metadata": {},
          "output_type": "execute_result"
        }
      ],
      "source": [
        "type(a)"
      ]
    },
    {
      "cell_type": "code",
      "execution_count": null,
      "metadata": {
        "colab": {
          "base_uri": "https://localhost:8080/"
        },
        "id": "XhnP0A5c3YaS",
        "outputId": "74b1c345-9c48-4cb6-c51c-da8698a209ca"
      },
      "outputs": [
        {
          "data": {
            "text/plain": [
              "False"
            ]
          },
          "execution_count": 12,
          "metadata": {},
          "output_type": "execute_result"
        }
      ],
      "source": [
        "isinstance(a,float)"
      ]
    },
    {
      "cell_type": "code",
      "execution_count": null,
      "metadata": {
        "id": "vEYb7ubK4-6X"
      },
      "outputs": [],
      "source": [
        "#comment\n",
        "a=10\n",
        "b=20\n",
        "c=a+b"
      ]
    },
    {
      "cell_type": "code",
      "execution_count": null,
      "metadata": {
        "id": "8fM5FBSe5IeD"
      },
      "outputs": [],
      "source": [
        "sum=a+b"
      ]
    },
    {
      "cell_type": "code",
      "execution_count": null,
      "metadata": {
        "id": "dKF0_elY5cuX"
      },
      "outputs": [],
      "source": [
        "sub =b-a\n"
      ]
    },
    {
      "cell_type": "code",
      "execution_count": null,
      "metadata": {
        "colab": {
          "base_uri": "https://localhost:8080/"
        },
        "id": "LOuytIag5fYk",
        "outputId": "6c7db205-5fbc-438d-dce5-1d913355ba35"
      },
      "outputs": [
        {
          "data": {
            "text/plain": [
              "200"
            ]
          },
          "execution_count": 20,
          "metadata": {},
          "output_type": "execute_result"
        }
      ],
      "source": [
        "a*b"
      ]
    },
    {
      "cell_type": "code",
      "execution_count": null,
      "metadata": {
        "colab": {
          "base_uri": "https://localhost:8080/"
        },
        "id": "-T8ubCEn5ijn",
        "outputId": "bd0562f6-bad3-48a6-8286-b47f684e59d8"
      },
      "outputs": [
        {
          "name": "stdout",
          "output_type": "stream",
          "text": [
            "the sum is 30\n"
          ]
        }
      ],
      "source": [
        "print(\"the sum is\",a+b)"
      ]
    },
    {
      "cell_type": "code",
      "execution_count": null,
      "metadata": {
        "colab": {
          "base_uri": "https://localhost:8080/"
        },
        "id": "fKr1jWbO51hH",
        "outputId": "1400e8ea-fbdb-4fa2-e4a7-5c2aa51f46b2"
      },
      "outputs": [
        {
          "name": "stdout",
          "output_type": "stream",
          "text": [
            "the sub is -10\n"
          ]
        }
      ],
      "source": [
        "print(\"the sub is\",b-a)"
      ]
    },
    {
      "cell_type": "code",
      "execution_count": null,
      "metadata": {
        "colab": {
          "base_uri": "https://localhost:8080/"
        },
        "id": "2mCwRbhx6Gai",
        "outputId": "94afa9e2-a993-462b-d83a-7c9ed10ca606"
      },
      "outputs": [
        {
          "name": "stdout",
          "output_type": "stream",
          "text": [
            "the mul is 200\n"
          ]
        }
      ],
      "source": [
        "print(\"the mul is\",a*b)"
      ]
    },
    {
      "cell_type": "code",
      "execution_count": null,
      "metadata": {
        "colab": {
          "base_uri": "https://localhost:8080/"
        },
        "id": "etfL-bo56LZJ",
        "outputId": "803fc9db-3cd1-4ad1-f7c3-e777e6bfd5ca"
      },
      "outputs": [
        {
          "name": "stdout",
          "output_type": "stream",
          "text": [
            "the divsion is 0.5\n"
          ]
        }
      ],
      "source": [
        "print(\"the divsion is\",a/b)"
      ]
    },
    {
      "cell_type": "code",
      "execution_count": null,
      "metadata": {
        "colab": {
          "base_uri": "https://localhost:8080/"
        },
        "id": "uk71jmaR6kWT",
        "outputId": "511a17ed-4c4a-4ef1-b00f-33a6a1fe2bd8"
      },
      "outputs": [
        {
          "name": "stdout",
          "output_type": "stream",
          "text": [
            "sum of10 and 20 is30\n"
          ]
        }
      ],
      "source": [
        "print(\"sum of{} and {} is{}\".format(a,b,c))"
      ]
    },
    {
      "cell_type": "code",
      "execution_count": null,
      "metadata": {
        "colab": {
          "base_uri": "https://localhost:8080/"
        },
        "id": "M-9dq7g37L3u",
        "outputId": "754c4c5f-21ea-493d-ff67-94698281acd9"
      },
      "outputs": [
        {
          "name": "stdout",
          "output_type": "stream",
          "text": [
            "HARIOM\n"
          ]
        }
      ],
      "source": [
        "#input statements\n",
        "user = input()"
      ]
    },
    {
      "cell_type": "code",
      "execution_count": null,
      "metadata": {
        "colab": {
          "base_uri": "https://localhost:8080/"
        },
        "id": "-SkhYGuQ7g64",
        "outputId": "9c0ec154-d117-431d-ef25-3ebf6e2bec8a"
      },
      "outputs": [
        {
          "name": "stdout",
          "output_type": "stream",
          "text": [
            "enter a number10\n"
          ]
        }
      ],
      "source": [
        "a = input(\"enter a number\")"
      ]
    },
    {
      "cell_type": "code",
      "execution_count": null,
      "metadata": {
        "colab": {
          "base_uri": "https://localhost:8080/"
        },
        "id": "CCQKzSVZ71ko",
        "outputId": "91e95aae-d617-4eed-b2a2-1546adf7e202"
      },
      "outputs": [
        {
          "name": "stdout",
          "output_type": "stream",
          "text": [
            "enter a number10\n"
          ]
        }
      ],
      "source": [
        "a=int(input(\"enter a number\"))"
      ]
    },
    {
      "cell_type": "code",
      "execution_count": null,
      "metadata": {
        "colab": {
          "base_uri": "https://localhost:8080/"
        },
        "id": "S1Y4DTlO8AOf",
        "outputId": "ceed0095-55cc-41f8-e353-4033817df8a2"
      },
      "outputs": [
        {
          "data": {
            "text/plain": [
              "int"
            ]
          },
          "execution_count": 41,
          "metadata": {},
          "output_type": "execute_result"
        }
      ],
      "source": [
        "type(a)"
      ]
    },
    {
      "cell_type": "code",
      "execution_count": null,
      "metadata": {
        "colab": {
          "base_uri": "https://localhost:8080/"
        },
        "id": "_bXvbWfn8DN7",
        "outputId": "24ad09ec-2675-490e-f04b-05b2c53c31c9"
      },
      "outputs": [
        {
          "name": "stdout",
          "output_type": "stream",
          "text": [
            "enter the value of a20\n",
            "enter the value of b10\n"
          ]
        }
      ],
      "source": [
        "a=int(input(\"enter the value of a\"))\n",
        "b=int(input(\"enter the value of b\"))\n"
      ]
    },
    {
      "cell_type": "code",
      "execution_count": null,
      "metadata": {
        "colab": {
          "base_uri": "https://localhost:8080/"
        },
        "id": "psDo3sKq84ga",
        "outputId": "f477f301-0ebd-4cb4-b906-32f16990c966"
      },
      "outputs": [
        {
          "data": {
            "text/plain": [
              "15"
            ]
          },
          "execution_count": 51,
          "metadata": {},
          "output_type": "execute_result"
        }
      ],
      "source": [
        "a+b\n",
        "a-b"
      ]
    },
    {
      "cell_type": "code",
      "execution_count": null,
      "metadata": {
        "id": "Mu0A86Ae9Lbv"
      },
      "outputs": [],
      "source": [
        "'''\n",
        "print the following output\n",
        "---------(20)\n",
        "hello world\n",
        "----------(20)\n",
        "'''"
      ]
    },
    {
      "cell_type": "code",
      "execution_count": null,
      "metadata": {
        "colab": {
          "base_uri": "https://localhost:8080/"
        },
        "id": "sZDjiw9O9fpr",
        "outputId": "b5654fc0-73be-46de-fee9-b7803d4a6fb0"
      },
      "outputs": [
        {
          "name": "stdout",
          "output_type": "stream",
          "text": [
            "--------------------\n",
            "Hello world\n",
            "--------------------\n"
          ]
        }
      ],
      "source": [
        "print(\"-\"*20)\n",
        "print(\"Hello world\")\n",
        "print(\"-\"*20)"
      ]
    },
    {
      "cell_type": "code",
      "execution_count": null,
      "metadata": {
        "colab": {
          "base_uri": "https://localhost:8080/"
        },
        "id": "44kmoVHp-HYp",
        "outputId": "b7d591e3-b5d3-418d-ba69-07600373ca17"
      },
      "outputs": [
        {
          "name": "stdout",
          "output_type": "stream",
          "text": [
            "this is if statement\n",
            "python is easy\n"
          ]
        }
      ],
      "source": [
        "if a>b:\n",
        " print(\"this is if statement\")\n",
        " print(\"python is easy\")\n",
        "else:\n",
        "  print(\"else statement\")"
      ]
    },
    {
      "cell_type": "code",
      "execution_count": null,
      "metadata": {
        "colab": {
          "base_uri": "https://localhost:8080/"
        },
        "id": "7i2GB3h9-V_Y",
        "outputId": "46e690cf-08f6-452e-8134-1764b11eeaaa"
      },
      "outputs": [
        {
          "name": "stdout",
          "output_type": "stream",
          "text": [
            "a is larger than b\n"
          ]
        }
      ],
      "source": [
        "if sum>sub:\n",
        "  print(\"a is larger than b\")\n",
        "else:\n",
        "    print(\"b is greater\")\n"
      ]
    },
    {
      "cell_type": "code",
      "execution_count": null,
      "metadata": {
        "colab": {
          "base_uri": "https://localhost:8080/"
        },
        "id": "jhZseJsKALUZ",
        "outputId": "028d17bb-e572-40f5-b686-e3ec44f25dc4"
      },
      "outputs": [
        {
          "name": "stdout",
          "output_type": "stream",
          "text": [
            "even number\n"
          ]
        }
      ],
      "source": [
        "if sum%2==0:\n",
        "  print(\"even number\")\n",
        "else:\n",
        " print(\"odd number\")"
      ]
    },
    {
      "cell_type": "code",
      "execution_count": null,
      "metadata": {
        "colab": {
          "base_uri": "https://localhost:8080/"
        },
        "id": "IjDYCacYApi8",
        "outputId": "6b52a259-cca1-4a4f-d490-c8969b853920"
      },
      "outputs": [
        {
          "name": "stdout",
          "output_type": "stream",
          "text": [
            "a is greater\n"
          ]
        }
      ],
      "source": [
        "if (a >b)and(a>c):\n",
        "  print(\"a is greater\")\n",
        "else:\n",
        "  print(\"a is smaller\")"
      ]
    },
    {
      "cell_type": "code",
      "execution_count": null,
      "metadata": {
        "colab": {
          "base_uri": "https://localhost:8080/"
        },
        "id": "1j7cqTp9BDRN",
        "outputId": "db5decde-9588-4cee-cd14-cbf2280a5cc1"
      },
      "outputs": [
        {
          "name": "stdout",
          "output_type": "stream",
          "text": [
            "5\n",
            "31 days\n"
          ]
        }
      ],
      "source": [
        "a=int(input(\"\"))\n",
        "if (a==1)or(a==3)or(a==5)or(a==7)or(a==9)or(a==11):\n",
        "  print(\"31 days\")\n",
        "elif(a==4) or (a==6) or (a==8) or (a==12):\n",
        "  print(\"30 days\")\n",
        "elif(a==2):\n",
        "   print(\"28 days\")"
      ]
    },
    {
      "cell_type": "code",
      "execution_count": null,
      "metadata": {
        "colab": {
          "base_uri": "https://localhost:8080/"
        },
        "id": "l4c1tpXKFWvn",
        "outputId": "d6492bbf-5099-437c-c651-6f7b90fccf57"
      },
      "outputs": [
        {
          "name": "stdout",
          "output_type": "stream",
          "text": [
            "chooseb\n",
            "31 days\n"
          ]
        }
      ],
      "source": [
        "a,b,c,d,e,f,g,h,i,j,k,l=1,2,3,4,5,6,7,8,9,10,11,12\n",
        "month=input(\"choose\")\n",
        "if (a)or(c)or(e)or(g)or(i)or(k):\n",
        "  print(\"31 days\")\n",
        "elif(d)or(f) or (h) or (j) or (l):\n",
        "  print(\"30 days\")\n",
        "elif(b):\n",
        "   print(\"28 days\")"
      ]
    },
    {
      "cell_type": "code",
      "execution_count": null,
      "metadata": {
        "colab": {
          "base_uri": "https://localhost:8080/",
          "height": 225
        },
        "id": "0OEPDCa9GZQv",
        "outputId": "1afd0600-9b32-4790-f251-c4471e6f073e"
      },
      "outputs": [
        {
          "name": "stdout",
          "output_type": "stream",
          "text": [
            "2\n"
          ]
        },
        {
          "ename": "TypeError",
          "evalue": "ignored",
          "output_type": "error",
          "traceback": [
            "\u001b[0;31m---------------------------------------------------------------------------\u001b[0m",
            "\u001b[0;31mTypeError\u001b[0m                                 Traceback (most recent call last)",
            "\u001b[0;32m<ipython-input-86-2bf8983e9768>\u001b[0m in \u001b[0;36m<module>\u001b[0;34m\u001b[0m\n\u001b[1;32m      1\u001b[0m \u001b[0mf\u001b[0m\u001b[0;34m=\u001b[0m\u001b[0mint\u001b[0m\u001b[0;34m(\u001b[0m\u001b[0minput\u001b[0m\u001b[0;34m(\u001b[0m\u001b[0;34m\"\"\u001b[0m\u001b[0;34m)\u001b[0m\u001b[0;34m)\u001b[0m\u001b[0;34m\u001b[0m\u001b[0;34m\u001b[0m\u001b[0m\n\u001b[1;32m      2\u001b[0m \u001b[0;32mfor\u001b[0m \u001b[0mi\u001b[0m \u001b[0;32min\u001b[0m \u001b[0mrange\u001b[0m\u001b[0;34m(\u001b[0m\u001b[0;36m1\u001b[0m\u001b[0;34m)\u001b[0m\u001b[0;34m:\u001b[0m\u001b[0;34m\u001b[0m\u001b[0;34m\u001b[0m\u001b[0m\n\u001b[0;32m----> 3\u001b[0;31m   \u001b[0mprint\u001b[0m\u001b[0;34m(\u001b[0m\u001b[0mf\u001b[0m\u001b[0;34m[\u001b[0m\u001b[0mi\u001b[0m\u001b[0;34m]\u001b[0m\u001b[0;34m)\u001b[0m\u001b[0;34m\u001b[0m\u001b[0;34m\u001b[0m\u001b[0m\n\u001b[0m",
            "\u001b[0;31mTypeError\u001b[0m: 'int' object is not subscriptable"
          ]
        }
      ],
      "source": [
        "f=int(input(\"\"))\n",
        "for i in range(1):\n",
        "  print(f[i])"
      ]
    },
    {
      "cell_type": "code",
      "execution_count": null,
      "metadata": {
        "colab": {
          "base_uri": "https://localhost:8080/"
        },
        "id": "fksvKeZcHPtD",
        "outputId": "8c6ab0ad-e080-43c6-d465-eb13991f832b"
      },
      "outputs": [
        {
          "name": "stdout",
          "output_type": "stream",
          "text": [
            "2\n",
            "[2, 4, 6, 8, 10, 12, 14, 16, 18, 20]\n"
          ]
        }
      ],
      "source": [
        "f=int(input(\"\"))\n",
        "print(list(range(f,f*11,f)))"
      ]
    },
    {
      "cell_type": "code",
      "execution_count": null,
      "metadata": {
        "colab": {
          "base_uri": "https://localhost:8080/"
        },
        "id": "AX4a54iIHY1O",
        "outputId": "ba603516-522a-46a0-9b7e-3f8b8dbb6493"
      },
      "outputs": [
        {
          "name": "stdout",
          "output_type": "stream",
          "text": [
            "6\n",
            "6 * 1 = 6\n",
            "6 * 2 = 12\n",
            "6 * 3 = 18\n",
            "6 * 4 = 24\n",
            "6 * 5 = 30\n",
            "6 * 6 = 36\n",
            "6 * 7 = 42\n",
            "6 * 8 = 48\n",
            "6 * 9 = 54\n",
            "6 * 10 = 60\n",
            "end of for loop\n"
          ]
        }
      ],
      "source": [
        "g=int(input(\"\"))\n",
        "for count in range(1, 11):\n",
        "  print(g, '*', count, '=', g * count)\n",
        "print(\"end of for loop\")"
      ]
    },
    {
      "cell_type": "code",
      "execution_count": null,
      "metadata": {
        "colab": {
          "base_uri": "https://localhost:8080/"
        },
        "id": "F0-3gkk7Jo4n",
        "outputId": "a6594e5d-6563-4bd3-8697-272132253648"
      },
      "outputs": [
        {
          "name": "stdout",
          "output_type": "stream",
          "text": [
            "200\n",
            "unit\n",
            "unit\n",
            "unit\n",
            "unit\n",
            "unit\n",
            "unit\n",
            "unit\n",
            "unit\n",
            "unit\n",
            "unit\n",
            "unit\n",
            "unit\n",
            "unit\n",
            "unit\n",
            "unit\n",
            "unit\n",
            "unit\n",
            "unit\n",
            "unit\n",
            "unit\n",
            "unit\n",
            "unit\n",
            "unit\n",
            "unit\n",
            "unit\n",
            "unit\n",
            "unit\n",
            "unit\n",
            "unit\n",
            "unit\n",
            "unit\n",
            "unit\n",
            "unit\n",
            "unit\n",
            "unit\n",
            "unit\n",
            "unit\n",
            "unit\n",
            "unit\n",
            "unit\n",
            "unit\n",
            "unit\n",
            "unit\n",
            "unit\n",
            "unit\n",
            "unit\n",
            "unit\n",
            "unit\n",
            "unit\n",
            "unit\n",
            "unit\n",
            "unit\n",
            "unit\n",
            "unit\n",
            "unit\n",
            "unit\n",
            "unit\n",
            "unit\n",
            "unit\n",
            "unit\n",
            "unit\n",
            "unit\n",
            "unit\n",
            "unit\n",
            "unit\n",
            "unit\n",
            "unit\n",
            "unit\n",
            "unit\n",
            "unit\n",
            "unit\n",
            "unit\n",
            "unit\n",
            "unit\n",
            "unit\n",
            "unit\n",
            "unit\n",
            "unit\n",
            "unit\n",
            "unit\n",
            "unit\n",
            "unit\n",
            "unit\n",
            "unit\n",
            "unit\n",
            "unit\n",
            "unit\n",
            "unit\n",
            "unit\n",
            "unit\n",
            "unit\n",
            "unit\n",
            "unit\n",
            "unit\n",
            "unit\n",
            "unit\n",
            "unit\n",
            "unit\n",
            "unit\n",
            "101 = 505\n",
            "102 = 510\n",
            "103 = 515\n",
            "104 = 520\n",
            "105 = 525\n",
            "106 = 530\n",
            "107 = 535\n",
            "108 = 540\n",
            "109 = 545\n",
            "110 = 550\n",
            "111 = 555\n",
            "112 = 560\n",
            "113 = 565\n",
            "114 = 570\n",
            "115 = 575\n",
            "116 = 580\n",
            "117 = 585\n",
            "118 = 590\n",
            "119 = 595\n",
            "120 = 600\n",
            "121 = 605\n",
            "122 = 610\n",
            "123 = 615\n",
            "124 = 620\n",
            "125 = 625\n",
            "126 = 630\n",
            "127 = 635\n",
            "128 = 640\n",
            "129 = 645\n",
            "130 = 650\n",
            "131 = 655\n",
            "132 = 660\n",
            "133 = 665\n",
            "134 = 670\n",
            "135 = 675\n",
            "136 = 680\n",
            "137 = 685\n",
            "138 = 690\n",
            "139 = 695\n",
            "140 = 700\n",
            "141 = 705\n",
            "142 = 710\n",
            "143 = 715\n",
            "144 = 720\n",
            "145 = 725\n",
            "146 = 730\n",
            "147 = 735\n",
            "148 = 740\n",
            "149 = 745\n",
            "150 = 750\n",
            "151 = 755\n",
            "152 = 760\n",
            "153 = 765\n",
            "154 = 770\n",
            "155 = 775\n",
            "156 = 780\n",
            "157 = 785\n",
            "158 = 790\n",
            "159 = 795\n",
            "160 = 800\n",
            "161 = 805\n",
            "162 = 810\n",
            "163 = 815\n",
            "164 = 820\n",
            "165 = 825\n",
            "166 = 830\n",
            "167 = 835\n",
            "168 = 840\n",
            "169 = 845\n",
            "170 = 850\n",
            "171 = 855\n",
            "172 = 860\n",
            "173 = 865\n",
            "174 = 870\n",
            "175 = 875\n",
            "176 = 880\n",
            "177 = 885\n",
            "178 = 890\n",
            "179 = 895\n",
            "180 = 900\n",
            "181 = 905\n",
            "182 = 910\n",
            "183 = 915\n",
            "184 = 920\n",
            "185 = 925\n",
            "186 = 930\n",
            "187 = 935\n",
            "188 = 940\n",
            "189 = 945\n",
            "190 = 950\n",
            "191 = 955\n",
            "192 = 960\n",
            "193 = 965\n",
            "194 = 970\n",
            "195 = 975\n",
            "196 = 980\n",
            "197 = 985\n",
            "198 = 990\n",
            "199 = 995\n",
            "201 = 2010\n",
            "202 = 2020\n",
            "203 = 2030\n",
            "204 = 2040\n",
            "205 = 2050\n",
            "206 = 2060\n",
            "207 = 2070\n",
            "208 = 2080\n",
            "209 = 2090\n",
            "210 = 2100\n",
            "211 = 2110\n",
            "212 = 2120\n",
            "213 = 2130\n",
            "214 = 2140\n",
            "215 = 2150\n",
            "216 = 2160\n",
            "217 = 2170\n",
            "218 = 2180\n",
            "219 = 2190\n",
            "220 = 2200\n",
            "221 = 2210\n",
            "222 = 2220\n",
            "223 = 2230\n",
            "224 = 2240\n",
            "225 = 2250\n",
            "226 = 2260\n",
            "227 = 2270\n",
            "228 = 2280\n",
            "229 = 2290\n",
            "230 = 2300\n",
            "231 = 2310\n",
            "232 = 2320\n",
            "233 = 2330\n",
            "234 = 2340\n",
            "235 = 2350\n",
            "236 = 2360\n",
            "237 = 2370\n",
            "238 = 2380\n",
            "239 = 2390\n",
            "240 = 2400\n",
            "241 = 2410\n",
            "242 = 2420\n",
            "243 = 2430\n",
            "244 = 2440\n",
            "245 = 2450\n",
            "246 = 2460\n",
            "247 = 2470\n",
            "248 = 2480\n",
            "249 = 2490\n",
            "250 = 2500\n",
            "251 = 2510\n",
            "252 = 2520\n",
            "253 = 2530\n",
            "254 = 2540\n",
            "255 = 2550\n",
            "256 = 2560\n",
            "257 = 2570\n",
            "258 = 2580\n",
            "259 = 2590\n",
            "260 = 2600\n",
            "261 = 2610\n",
            "262 = 2620\n",
            "263 = 2630\n",
            "264 = 2640\n",
            "265 = 2650\n",
            "266 = 2660\n",
            "267 = 2670\n",
            "268 = 2680\n",
            "269 = 2690\n",
            "270 = 2700\n",
            "271 = 2710\n",
            "272 = 2720\n",
            "273 = 2730\n",
            "274 = 2740\n",
            "275 = 2750\n",
            "276 = 2760\n",
            "277 = 2770\n",
            "278 = 2780\n",
            "279 = 2790\n",
            "280 = 2800\n",
            "281 = 2810\n",
            "282 = 2820\n",
            "283 = 2830\n",
            "284 = 2840\n",
            "285 = 2850\n",
            "286 = 2860\n",
            "287 = 2870\n",
            "288 = 2880\n",
            "289 = 2890\n",
            "290 = 2900\n",
            "291 = 2910\n",
            "292 = 2920\n",
            "293 = 2930\n",
            "294 = 2940\n",
            "295 = 2950\n",
            "296 = 2960\n",
            "297 = 2970\n",
            "298 = 2980\n",
            "299 = 2990\n"
          ]
        }
      ],
      "source": [
        "unit=int(input(\"\"))\n",
        " if():\n",
        "  print(\"unit\")\n",
        "for unit in range(101,200):\n",
        "  print(unit , \"=\", unit*5)\n",
        "for unit in range(201,300):\n",
        "  print(unit , \"=\",  unit*10)"
      ]
    },
    {
      "cell_type": "markdown",
      "source": [],
      "metadata": {
        "id": "7bbDRxDlTEQ2"
      }
    },
    {
      "cell_type": "code",
      "execution_count": null,
      "metadata": {
        "id": "O2mOMeJ_jw7v"
      },
      "outputs": [],
      "source": [
        "hello=\"Hello simplilearn\""
      ]
    },
    {
      "cell_type": "code",
      "execution_count": null,
      "metadata": {
        "colab": {
          "base_uri": "https://localhost:8080/"
        },
        "id": "60i4vYipslme",
        "outputId": "553e7d9c-7857-4668-956f-ec295745bc30"
      },
      "outputs": [
        {
          "name": "stdout",
          "output_type": "stream",
          "text": [
            "Hello simplilearn\n"
          ]
        }
      ],
      "source": [
        "print(hello)"
      ]
    },
    {
      "cell_type": "code",
      "execution_count": null,
      "metadata": {
        "colab": {
          "base_uri": "https://localhost:8080/",
          "height": 265
        },
        "id": "6mx18mcWuaXo",
        "outputId": "13c74b94-d9dc-4dd7-dc27-051250b779e3"
      },
      "outputs": [
        {
          "data": {
            "image/png": "[encoded data removed]",
            "text/plain": [
              "<Figure size 432x288 with 1 Axes>"
            ]
          },
          "metadata": {},
          "output_type": "display_data"
        }
      ],
      "source": [
        "import matplotlib.pyplot as plt\n",
        "plt.plot([1,2,3,4],[1,2,3,4])\n",
        "plt.show()"
      ]
    },
    {
      "cell_type": "code",
      "execution_count": null,
      "metadata": {
        "colab": {
          "base_uri": "https://localhost:8080/",
          "height": 265
        },
        "id": "3rKnpzjVuiWO",
        "outputId": "6febe790-f712-491b-bbce-1acc664b7833"
      },
      "outputs": [
        {
          "data": {
            "image/png": "[encoded data removed]",
            "text/plain": [
              "<Figure size 432x288 with 1 Axes>"
            ]
          },
          "metadata": {},
          "output_type": "display_data"
        }
      ],
      "source": [
        "\n",
        "plt.plot([1,2,3,4],[1,2,3,4])\n",
        "plt.show()"
      ]
    },
    {
      "cell_type": "code",
      "execution_count": null,
      "metadata": {
        "id": "7A4iDm2GuzQi"
      },
      "outputs": [],
      "source": [
        "plt.show()"
      ]
    },
    {
      "cell_type": "code",
      "execution_count": null,
      "metadata": {
        "id": "bTvEJp6cwZ_Y"
      },
      "outputs": [],
      "source": [
        "x=100"
      ]
    },
    {
      "cell_type": "code",
      "execution_count": null,
      "metadata": {
        "colab": {
          "base_uri": "https://localhost:8080/"
        },
        "id": "pLkbHzqlwboa",
        "outputId": "2a063528-074b-40f8-e9ee-223ce8d9f75d"
      },
      "outputs": [
        {
          "data": {
            "text/plain": [
              "int"
            ]
          },
          "execution_count": 7,
          "metadata": {},
          "output_type": "execute_result"
        }
      ],
      "source": [
        "type(x)"
      ]
    },
    {
      "cell_type": "code",
      "execution_count": null,
      "metadata": {
        "colab": {
          "base_uri": "https://localhost:8080/"
        },
        "id": "R9YLNsXLweRQ",
        "outputId": "e7a3e942-39f8-43cb-f2c8-1e589bd1ae4f"
      },
      "outputs": [
        {
          "data": {
            "text/plain": [
              "int"
            ]
          },
          "execution_count": 8,
          "metadata": {},
          "output_type": "execute_result"
        }
      ],
      "source": [
        "x=654*6734\n",
        "type(x)"
      ]
    },
    {
      "cell_type": "code",
      "execution_count": null,
      "metadata": {
        "colab": {
          "base_uri": "https://localhost:8080/"
        },
        "id": "UVR9_GrEwlgE",
        "outputId": "e214f217-8549-40a6-c333-8b77b3268314"
      },
      "outputs": [
        {
          "name": "stdout",
          "output_type": "stream",
          "text": [
            "4404036\n"
          ]
        }
      ],
      "source": [
        "print(x)"
      ]
    },
    {
      "cell_type": "code",
      "execution_count": null,
      "metadata": {
        "id": "Woa4cM1ywoY5"
      },
      "outputs": [],
      "source": [
        "x=3.14"
      ]
    },
    {
      "cell_type": "code",
      "execution_count": null,
      "metadata": {
        "colab": {
          "base_uri": "https://localhost:8080/"
        },
        "id": "Q8ZdFaDmwsOy",
        "outputId": "d71339aa-664f-452a-b2cd-9db2216691c0"
      },
      "outputs": [
        {
          "name": "stdout",
          "output_type": "stream",
          "text": [
            "3.14\n"
          ]
        }
      ],
      "source": [
        "print(x)"
      ]
    },
    {
      "cell_type": "code",
      "execution_count": null,
      "metadata": {
        "colab": {
          "base_uri": "https://localhost:8080/"
        },
        "id": "Old9_HgRwv7X",
        "outputId": "ae202ca8-c453-4a1a-824e-e80b5e28729d"
      },
      "outputs": [
        {
          "data": {
            "text/plain": [
              "float"
            ]
          },
          "execution_count": 12,
          "metadata": {},
          "output_type": "execute_result"
        }
      ],
      "source": [
        "type(x)"
      ]
    },
    {
      "cell_type": "code",
      "execution_count": null,
      "metadata": {
        "id": "Z7iP392Sw0zS"
      },
      "outputs": [],
      "source": [
        "x=\"Simplilearn\""
      ]
    },
    {
      "cell_type": "code",
      "execution_count": null,
      "metadata": {
        "colab": {
          "base_uri": "https://localhost:8080/"
        },
        "id": "g6iJoen1w40J",
        "outputId": "11c914dd-f966-48f3-f82e-56f7e9e3d2d7"
      },
      "outputs": [
        {
          "name": "stdout",
          "output_type": "stream",
          "text": [
            "Simplilearn\n"
          ]
        }
      ],
      "source": [
        "print(x)"
      ]
    },
    {
      "cell_type": "code",
      "execution_count": null,
      "metadata": {
        "id": "Ed8-4o0Mw-pU"
      },
      "outputs": [],
      "source": [
        "x=[14,67,9]"
      ]
    },
    {
      "cell_type": "code",
      "execution_count": null,
      "metadata": {
        "colab": {
          "base_uri": "https://localhost:8080/"
        },
        "id": "ywIj_k2VxDJ-",
        "outputId": "d5d68b72-1ebc-44a9-b51c-a9d4a384cbee"
      },
      "outputs": [
        {
          "name": "stdout",
          "output_type": "stream",
          "text": [
            "[14, 67, 9]\n"
          ]
        }
      ],
      "source": [
        "print(x)"
      ]
    },
    {
      "cell_type": "code",
      "execution_count": null,
      "metadata": {
        "colab": {
          "base_uri": "https://localhost:8080/"
        },
        "id": "ZzEY03XAxFrA",
        "outputId": "f981bc41-70e3-46ed-ee60-f46975ed64dc"
      },
      "outputs": [
        {
          "data": {
            "text/plain": [
              "list"
            ]
          },
          "execution_count": 17,
          "metadata": {},
          "output_type": "execute_result"
        }
      ],
      "source": [
        "type(x)"
      ]
    },
    {
      "cell_type": "code",
      "execution_count": null,
      "metadata": {
        "colab": {
          "base_uri": "https://localhost:8080/"
        },
        "id": "oUcvk07gxIOS",
        "outputId": "144afd2e-bf24-4a0f-e114-80b2b9ffdca3"
      },
      "outputs": [
        {
          "name": "stdout",
          "output_type": "stream",
          "text": [
            "14\n"
          ]
        }
      ],
      "source": [
        "print(x[0])"
      ]
    },
    {
      "cell_type": "code",
      "execution_count": null,
      "metadata": {
        "colab": {
          "base_uri": "https://localhost:8080/"
        },
        "id": "WxCRgW95xVfY",
        "outputId": "1c94513a-7c65-4eb9-de00-38ca720ed601"
      },
      "outputs": [
        {
          "name": "stdout",
          "output_type": "stream",
          "text": [
            "9\n"
          ]
        }
      ],
      "source": [
        "print(x[2])"
      ]
    },
    {
      "cell_type": "code",
      "execution_count": null,
      "metadata": {
        "id": "MKZ6kuhOxZ_E"
      },
      "outputs": [],
      "source": [
        "x[2]=67"
      ]
    },
    {
      "cell_type": "code",
      "execution_count": null,
      "metadata": {
        "colab": {
          "base_uri": "https://localhost:8080/"
        },
        "id": "NpCH5Z9rxdMt",
        "outputId": "9388751d-81e1-4fe7-8e17-0318f08ec415"
      },
      "outputs": [
        {
          "name": "stdout",
          "output_type": "stream",
          "text": [
            "[14, 67, 67]\n"
          ]
        }
      ],
      "source": [
        "print(x)"
      ]
    },
    {
      "cell_type": "code",
      "execution_count": null,
      "metadata": {
        "colab": {
          "base_uri": "https://localhost:8080/"
        },
        "id": "FR0Q1EFLxfwu",
        "outputId": "14a5505b-d515-47e2-8095-fb3f7b2c3878"
      },
      "outputs": [
        {
          "name": "stdout",
          "output_type": "stream",
          "text": [
            "67\n"
          ]
        }
      ],
      "source": [
        "print(x[2])"
      ]
    },
    {
      "cell_type": "code",
      "execution_count": null,
      "metadata": {
        "colab": {
          "base_uri": "https://localhost:8080/"
        },
        "id": "I-GA5NZ0xntN",
        "outputId": "d47bcb49-7513-49a6-fdb1-072a7f148599"
      },
      "outputs": [
        {
          "name": "stdout",
          "output_type": "stream",
          "text": [
            "(4, 8, 6)\n"
          ]
        }
      ],
      "source": [
        "x=(4,8,6)\n",
        "print(x)"
      ]
    },
    {
      "cell_type": "code",
      "execution_count": null,
      "metadata": {
        "colab": {
          "base_uri": "https://localhost:8080/"
        },
        "id": "VlUTDps_xuNJ",
        "outputId": "27cd0825-2b2e-44e7-c623-ef2fe9d90e66"
      },
      "outputs": [
        {
          "data": {
            "text/plain": [
              "tuple"
            ]
          },
          "execution_count": 25,
          "metadata": {},
          "output_type": "execute_result"
        }
      ],
      "source": [
        "type(x)"
      ]
    },
    {
      "cell_type": "code",
      "execution_count": null,
      "metadata": {
        "colab": {
          "base_uri": "https://localhost:8080/"
        },
        "id": "_JSfjfFfx2vz",
        "outputId": "e7100748-917d-403f-a9cf-a80d116134de"
      },
      "outputs": [
        {
          "name": "stdout",
          "output_type": "stream",
          "text": [
            "8\n"
          ]
        }
      ],
      "source": [
        "print(x[1])"
      ]
    },
    {
      "cell_type": "code",
      "execution_count": null,
      "metadata": {
        "colab": {
          "base_uri": "https://localhost:8080/",
          "height": 171
        },
        "id": "kMIU3C2Zx5_s",
        "outputId": "308a9fa7-dd55-4c55-d069-8873f2eadb19"
      },
      "outputs": [
        {
          "ename": "TypeError",
          "evalue": "ignored",
          "output_type": "error",
          "traceback": [
            "\u001b[0;31m---------------------------------------------------------------------------\u001b[0m",
            "\u001b[0;31mTypeError\u001b[0m                                 Traceback (most recent call last)",
            "\u001b[0;32m<ipython-input-27-0586ef3e8b02>\u001b[0m in \u001b[0;36m<module>\u001b[0;34m\u001b[0m\n\u001b[0;32m----> 1\u001b[0;31m \u001b[0mx\u001b[0m\u001b[0;34m[\u001b[0m\u001b[0;36m1\u001b[0m\u001b[0;34m]\u001b[0m\u001b[0;34m=\u001b[0m\u001b[0;36m5\u001b[0m\u001b[0;34m\u001b[0m\u001b[0;34m\u001b[0m\u001b[0m\n\u001b[0m",
            "\u001b[0;31mTypeError\u001b[0m: 'tuple' object does not support item assignment"
          ]
        }
      ],
      "source": [
        "x[1]=5"
      ]
    },
    {
      "cell_type": "code",
      "execution_count": null,
      "metadata": {
        "colab": {
          "base_uri": "https://localhost:8080/",
          "height": 171
        },
        "id": "BFL5J4TByJWL",
        "outputId": "1a70e621-4ea6-4d9f-ef31-5605946589e9"
      },
      "outputs": [
        {
          "ename": "FileNotFoundError",
          "evalue": "ignored",
          "output_type": "error",
          "traceback": [
            "\u001b[0;31m---------------------------------------------------------------------------\u001b[0m",
            "\u001b[0;31mFileNotFoundError\u001b[0m                         Traceback (most recent call last)",
            "\u001b[0;32m<ipython-input-28-916b875bb0e8>\u001b[0m in \u001b[0;36m<module>\u001b[0;34m\u001b[0m\n\u001b[0;32m----> 1\u001b[0;31m \u001b[0mx\u001b[0m\u001b[0;34m=\u001b[0m\u001b[0mopen\u001b[0m\u001b[0;34m(\u001b[0m\u001b[0;34m'variable_com.ipynb'\u001b[0m\u001b[0;34m,\u001b[0m\u001b[0;34m'r'\u001b[0m\u001b[0;34m)\u001b[0m\u001b[0;34m\u001b[0m\u001b[0;34m\u001b[0m\u001b[0m\n\u001b[0m",
            "\u001b[0;31mFileNotFoundError\u001b[0m: [Errno 2] No such file or directory: 'variable_com.ipynb'"
          ]
        }
      ],
      "source": [
        "x=open('variable_com.ipynb','r')"
      ]
    },
    {
      "cell_type": "code",
      "execution_count": null,
      "metadata": {
        "id": "R_0jQkZ-yYur"
      },
      "outputs": [],
      "source": [
        "(x,y,z)=5,10,7"
      ]
    },
    {
      "cell_type": "code",
      "execution_count": null,
      "metadata": {
        "colab": {
          "base_uri": "https://localhost:8080/"
        },
        "id": "4FRXggN8yja8",
        "outputId": "5d8d1f33-8a3d-471f-8881-f9656cd09387"
      },
      "outputs": [
        {
          "name": "stdout",
          "output_type": "stream",
          "text": [
            "5 10 7\n"
          ]
        }
      ],
      "source": [
        "print(x,y,z)"
      ]
    },
    {
      "cell_type": "code",
      "execution_count": null,
      "metadata": {
        "id": "p8U5phDS6xBr"
      },
      "outputs": [],
      "source": [
        "num=[1,2,3,4,]"
      ]
    },
    {
      "cell_type": "code",
      "execution_count": null,
      "metadata": {
        "colab": {
          "base_uri": "https://localhost:8080/"
        },
        "id": "Arm2Zk0D6z0W",
        "outputId": "b780f3ce-83af-42cf-88a9-d24302bff78e"
      },
      "outputs": [
        {
          "name": "stdout",
          "output_type": "stream",
          "text": [
            "[1, 2, 3, 4]\n"
          ]
        }
      ],
      "source": [
        "print(num)"
      ]
    },
    {
      "cell_type": "code",
      "execution_count": null,
      "metadata": {
        "id": "9PmvNezd63Qj"
      },
      "outputs": [],
      "source": [
        "letter=['a','b','c','d']"
      ]
    },
    {
      "cell_type": "code",
      "execution_count": null,
      "metadata": {
        "colab": {
          "base_uri": "https://localhost:8080/"
        },
        "id": "5eQEEixx6_41",
        "outputId": "991fd0a4-d146-4847-eb0d-5f64abcfb866"
      },
      "outputs": [
        {
          "name": "stdout",
          "output_type": "stream",
          "text": [
            "['a', 'b', 'c', 'd']\n"
          ]
        }
      ],
      "source": [
        "print(letter)"
      ]
    },
    {
      "cell_type": "code",
      "execution_count": null,
      "metadata": {
        "colab": {
          "base_uri": "https://localhost:8080/"
        },
        "id": "CnDAZ5a77Dth",
        "outputId": "6ea1ca3b-4ff0-46d0-b57a-8020a0b6afe3"
      },
      "outputs": [
        {
          "name": "stdout",
          "output_type": "stream",
          "text": [
            "['get', 'certified', 'get', 'ahead']\n"
          ]
        }
      ],
      "source": [
        "stg=[\"get\",\"certified\",\"get\",\"ahead\"]\n",
        "print(stg)"
      ]
    },
    {
      "cell_type": "code",
      "execution_count": null,
      "metadata": {
        "colab": {
          "base_uri": "https://localhost:8080/"
        },
        "id": "_ct-T1a_7W7q",
        "outputId": "03ab0d04-f65e-4603-e20e-3eddd635baad"
      },
      "outputs": [
        {
          "name": "stdout",
          "output_type": "stream",
          "text": [
            "[1, 2, 'simlilearn', 'get', 'certified']\n"
          ]
        }
      ],
      "source": [
        "mix=[1,2,'simlilearn',\"get\",\"certified\"]\n",
        "print(mix)"
      ]
    },
    {
      "cell_type": "code",
      "execution_count": null,
      "metadata": {
        "colab": {
          "base_uri": "https://localhost:8080/"
        },
        "id": "t2tyiDXa7iy6",
        "outputId": "e74e07fc-3604-4951-d842-8416bd165da9"
      },
      "outputs": [
        {
          "name": "stdout",
          "output_type": "stream",
          "text": [
            "[[1, 2], ['a', 'b', 'c', 'd']]\n"
          ]
        }
      ],
      "source": [
        "mat=[[1,2],['a','b','c','d']]\n",
        "print(mat)"
      ]
    },
    {
      "cell_type": "code",
      "execution_count": null,
      "metadata": {
        "colab": {
          "base_uri": "https://localhost:8080/",
          "height": 36
        },
        "id": "O8I6bz9u7waW",
        "outputId": "6560de10-615f-40c0-c6d2-8961dd6348f7"
      },
      "outputs": [
        {
          "data": {
            "application/vnd.google.colaboratory.intrinsic+json": {
              "type": "string"
            },
            "text/plain": [
              "'get'"
            ]
          },
          "execution_count": 40,
          "metadata": {},
          "output_type": "execute_result"
        }
      ],
      "source": [
        "mix[3]\n"
      ]
    },
    {
      "cell_type": "code",
      "execution_count": null,
      "metadata": {
        "colab": {
          "base_uri": "https://localhost:8080/",
          "height": 36
        },
        "id": "qusBoMpm79zi",
        "outputId": "f09548ed-63c2-4db6-f60a-7dd7e796d150"
      },
      "outputs": [
        {
          "data": {
            "application/vnd.google.colaboratory.intrinsic+json": {
              "type": "string"
            },
            "text/plain": [
              "'get'"
            ]
          },
          "execution_count": 41,
          "metadata": {},
          "output_type": "execute_result"
        }
      ],
      "source": [
        "mix[-2]"
      ]
    },
    {
      "cell_type": "code",
      "execution_count": null,
      "metadata": {
        "colab": {
          "base_uri": "https://localhost:8080/"
        },
        "id": "ZixYObsq8KU5",
        "outputId": "a3d55034-0aba-42ec-bf01-05b794ade6df"
      },
      "outputs": [
        {
          "data": {
            "text/plain": [
              "[1, 2, 'simlilearn']"
            ]
          },
          "execution_count": 42,
          "metadata": {},
          "output_type": "execute_result"
        }
      ],
      "source": [
        "mix[0:3]"
      ]
    },
    {
      "cell_type": "code",
      "execution_count": null,
      "metadata": {
        "colab": {
          "base_uri": "https://localhost:8080/"
        },
        "id": "LJGptUMc8O2t",
        "outputId": "c654b02b-866d-45b0-8c28-0fa8225709b8"
      },
      "outputs": [
        {
          "data": {
            "text/plain": [
              "['get', 'certified']"
            ]
          },
          "execution_count": 44,
          "metadata": {},
          "output_type": "execute_result"
        }
      ],
      "source": [
        "mix[3:]"
      ]
    },
    {
      "cell_type": "code",
      "execution_count": null,
      "metadata": {
        "colab": {
          "base_uri": "https://localhost:8080/"
        },
        "id": "TClJ3kOq87pI",
        "outputId": "b68d2e24-441c-48db-f8cc-17aa2fd05d75"
      },
      "outputs": [
        {
          "data": {
            "text/plain": [
              "[1, 'simlilearn', 'certified']"
            ]
          },
          "execution_count": 45,
          "metadata": {},
          "output_type": "execute_result"
        }
      ],
      "source": [
        "mix[::2]"
      ]
    },
    {
      "cell_type": "code",
      "execution_count": null,
      "metadata": {
        "colab": {
          "base_uri": "https://localhost:8080/"
        },
        "id": "WHVq_jWj8-9k",
        "outputId": "6c617124-28ab-444f-cd49-cbdd54b79d1a"
      },
      "outputs": [
        {
          "data": {
            "text/plain": [
              "['certified', 'get', 'simlilearn', 2, 1]"
            ]
          },
          "execution_count": 46,
          "metadata": {},
          "output_type": "execute_result"
        }
      ],
      "source": [
        "mix[::-1]"
      ]
    },
    {
      "cell_type": "code",
      "execution_count": null,
      "metadata": {
        "id": "KgkAlPfo9ada"
      },
      "outputs": [],
      "source": []
    },
    {
      "cell_type": "code",
      "execution_count": null,
      "metadata": {
        "colab": {
          "base_uri": "https://localhost:8080/"
        },
        "id": "KhK9WUlt9Qel",
        "outputId": "8a614690-23e0-4c8b-c11f-0309f3cf1496"
      },
      "outputs": [
        {
          "name": "stdout",
          "output_type": "stream",
          "text": [
            "[0, 0, 0, 0, 0, 0, 0, 0, 0, 0, 0, 0, 0, 0, 0, 0, 0, 0, 0, 0, 0, 0, 0, 0, 0, 0, 0, 0, 0, 0, 0, 0, 0, 0, 0, 0, 0, 0, 0, 0, 0, 0, 0, 0, 0, 0, 0, 0, 0, 0, 0, 0, 0, 0, 0, 0, 0, 0, 0, 0, 0, 0, 0, 0, 0, 0, 0, 0, 0, 0, 0, 0, 0, 0, 0, 0, 0, 0, 0, 0, 0, 0, 0, 0, 0, 0, 0, 0, 0, 0, 0, 0, 0, 0, 0, 0, 0, 0, 0, 0]\n"
          ]
        }
      ],
      "source": [
        "z=[0]*100\n",
        "print(z)"
      ]
    },
    {
      "cell_type": "code",
      "execution_count": null,
      "metadata": {
        "colab": {
          "base_uri": "https://localhost:8080/"
        },
        "id": "mPm_b3gg90YV",
        "outputId": "dac48082-ac29-4bf1-8372-be67eb42cd77"
      },
      "outputs": [
        {
          "name": "stdout",
          "output_type": "stream",
          "text": [
            "['a', 'b', 'c', 'd']\n"
          ]
        }
      ],
      "source": [
        "print(letter)"
      ]
    },
    {
      "cell_type": "code",
      "execution_count": null,
      "metadata": {
        "colab": {
          "base_uri": "https://localhost:8080/"
        },
        "id": "5IOk-Ymw-zlF",
        "outputId": "90afaf7f-60b4-4518-ef02-8877c8b61c6d"
      },
      "outputs": [
        {
          "name": "stdout",
          "output_type": "stream",
          "text": [
            "[1, 2, 3, 4]\n"
          ]
        }
      ],
      "source": [
        "print(num)"
      ]
    },
    {
      "cell_type": "code",
      "execution_count": null,
      "metadata": {
        "id": "RBmJLhNA-9EV"
      },
      "outputs": [],
      "source": [
        "num.append(6)"
      ]
    },
    {
      "cell_type": "code",
      "execution_count": null,
      "metadata": {
        "colab": {
          "base_uri": "https://localhost:8080/"
        },
        "id": "QguLLkvn_B2n",
        "outputId": "9933aeb4-4e2f-4b8b-f514-c364af4e961c"
      },
      "outputs": [
        {
          "name": "stdout",
          "output_type": "stream",
          "text": [
            "[1, 2, 3, 4, 6]\n"
          ]
        }
      ],
      "source": [
        "print(num)"
      ]
    },
    {
      "cell_type": "code",
      "execution_count": null,
      "metadata": {
        "id": "P3WqufQ7_Faq"
      },
      "outputs": [],
      "source": [
        "num.append(10)"
      ]
    },
    {
      "cell_type": "code",
      "execution_count": null,
      "metadata": {
        "colab": {
          "base_uri": "https://localhost:8080/"
        },
        "id": "7oLLzR_q_KmV",
        "outputId": "f002ee7b-f06d-4b8b-d496-e808f5468777"
      },
      "outputs": [
        {
          "name": "stdout",
          "output_type": "stream",
          "text": [
            "[1, 2, 3, 4, 6, 10]\n"
          ]
        }
      ],
      "source": [
        "print(num)"
      ]
    },
    {
      "cell_type": "code",
      "execution_count": null,
      "metadata": {
        "id": "b78e2uG7_QCw"
      },
      "outputs": [],
      "source": [
        "num.extend(stg)"
      ]
    },
    {
      "cell_type": "code",
      "execution_count": null,
      "metadata": {
        "colab": {
          "base_uri": "https://localhost:8080/"
        },
        "id": "VHhTeKLH_YIM",
        "outputId": "26f0d042-8431-4916-970b-a44d06dc8d72"
      },
      "outputs": [
        {
          "name": "stdout",
          "output_type": "stream",
          "text": [
            "[1, 2, 3, 4, 6, 10, 'get', 'certified', 'get', 'ahead']\n"
          ]
        }
      ],
      "source": [
        "print(num)"
      ]
    },
    {
      "cell_type": "code",
      "execution_count": null,
      "metadata": {
        "id": "MOmnOMSL_p55"
      },
      "outputs": [],
      "source": [
        "num.insert(5,\"simplilearn\")"
      ]
    },
    {
      "cell_type": "code",
      "execution_count": null,
      "metadata": {
        "colab": {
          "base_uri": "https://localhost:8080/"
        },
        "id": "tb-RbTey_v_7",
        "outputId": "d145a4bb-d947-4d84-8408-add182bcffcb"
      },
      "outputs": [
        {
          "name": "stdout",
          "output_type": "stream",
          "text": [
            "[1, 2, 3, 4, 6, 'simplilearn', 10, 'get', 'certified', 'get', 'ahead']\n"
          ]
        }
      ],
      "source": [
        "print(num)"
      ]
    },
    {
      "cell_type": "code",
      "execution_count": null,
      "metadata": {
        "id": "MaSws1X1_1EQ"
      },
      "outputs": [],
      "source": [
        "num.remove(\"simplilearn\")"
      ]
    },
    {
      "cell_type": "code",
      "execution_count": null,
      "metadata": {
        "colab": {
          "base_uri": "https://localhost:8080/"
        },
        "id": "7mYAW8j9_7yt",
        "outputId": "53d10c69-27fe-4848-b698-96995e8932ae"
      },
      "outputs": [
        {
          "name": "stdout",
          "output_type": "stream",
          "text": [
            "[1, 2, 3, 4, 6, 10, 'get', 'certified', 'get', 'ahead']\n"
          ]
        }
      ],
      "source": [
        "print(num)"
      ]
    },
    {
      "cell_type": "code",
      "execution_count": null,
      "metadata": {
        "colab": {
          "base_uri": "https://localhost:8080/"
        },
        "id": "inQcsO_8ABCv",
        "outputId": "cad1e1f9-cd97-4a81-8224-cc10bc8bfa27"
      },
      "outputs": [
        {
          "name": "stdout",
          "output_type": "stream",
          "text": [
            "['b', 'a', 'r']\n"
          ]
        }
      ],
      "source": [
        "var1=['b','a','r']\n",
        "print(var1)"
      ]
    },
    {
      "cell_type": "code",
      "execution_count": null,
      "metadata": {
        "colab": {
          "base_uri": "https://localhost:8080/"
        },
        "id": "kOTmDDaBAjId",
        "outputId": "a6d6859b-33f9-42f8-a9cb-bddcc11fd5f8"
      },
      "outputs": [
        {
          "data": {
            "text/plain": [
              "5"
            ]
          },
          "execution_count": 61,
          "metadata": {},
          "output_type": "execute_result"
        }
      ],
      "source": [
        "x=[9,8,7,6,5]\n",
        "len(x)"
      ]
    },
    {
      "cell_type": "code",
      "execution_count": null,
      "metadata": {
        "colab": {
          "base_uri": "https://localhost:8080/"
        },
        "id": "rAts5jHxAq3K",
        "outputId": "a975d5ee-3504-48f3-9108-8086f78bc0b9"
      },
      "outputs": [
        {
          "data": {
            "text/plain": [
              "5"
            ]
          },
          "execution_count": 62,
          "metadata": {},
          "output_type": "execute_result"
        }
      ],
      "source": [
        "min(x)"
      ]
    },
    {
      "cell_type": "code",
      "execution_count": null,
      "metadata": {
        "colab": {
          "base_uri": "https://localhost:8080/"
        },
        "id": "wLpHJUv5AtJf",
        "outputId": "c4ef2fd8-45b5-493d-90e4-06c099917abd"
      },
      "outputs": [
        {
          "data": {
            "text/plain": [
              "9"
            ]
          },
          "execution_count": 63,
          "metadata": {},
          "output_type": "execute_result"
        }
      ],
      "source": [
        "max(x)"
      ]
    },
    {
      "cell_type": "code",
      "execution_count": null,
      "metadata": {
        "colab": {
          "base_uri": "https://localhost:8080/"
        },
        "id": "7iKOlVi3AxXm",
        "outputId": "c4db6730-f31e-4a27-890a-03b81461fad5"
      },
      "outputs": [
        {
          "data": {
            "text/plain": [
              "35"
            ]
          },
          "execution_count": 64,
          "metadata": {},
          "output_type": "execute_result"
        }
      ],
      "source": [
        "sum(x)"
      ]
    },
    {
      "cell_type": "code",
      "execution_count": null,
      "metadata": {
        "colab": {
          "base_uri": "https://localhost:8080/"
        },
        "id": "0B2g4z2LA0PL",
        "outputId": "3e7a9fe9-5b32-4fb3-ec74-22f07decfb1f"
      },
      "outputs": [
        {
          "name": "stdout",
          "output_type": "stream",
          "text": [
            "0\n"
          ]
        }
      ],
      "source": [
        "print(sum(x)%len(x))"
      ]
    },
    {
      "cell_type": "code",
      "execution_count": null,
      "metadata": {
        "colab": {
          "base_uri": "https://localhost:8080/"
        },
        "id": "cmOFiDgIVZJB",
        "outputId": "4c71191f-9af7-4c18-8346-5c50d4d353dd"
      },
      "outputs": [
        {
          "name": "stdout",
          "output_type": "stream",
          "text": [
            "simplilearn\n"
          ]
        }
      ],
      "source": [
        "stg=\"simplilearn\"\n",
        "print(stg)"
      ]
    },
    {
      "cell_type": "code",
      "execution_count": null,
      "metadata": {
        "colab": {
          "base_uri": "https://localhost:8080/"
        },
        "id": "rk4Mhb_JVuth",
        "outputId": "6fbdf376-ad53-4242-9e71-ea1aed97f18e"
      },
      "outputs": [
        {
          "name": "stdout",
          "output_type": "stream",
          "text": [
            "Tin's birthday\n"
          ]
        }
      ],
      "source": [
        "stg=\"Tin's birthday\"\n",
        "print(stg)"
      ]
    },
    {
      "cell_type": "code",
      "execution_count": null,
      "metadata": {
        "colab": {
          "base_uri": "https://localhost:8080/"
        },
        "id": "YwF6ct_vV475",
        "outputId": "8a583d27-4c33-4c33-9d7c-c793c8974552"
      },
      "outputs": [
        {
          "name": "stdout",
          "output_type": "stream",
          "text": [
            "Hello everyone,\n",
            "lets start learn python\n"
          ]
        }
      ],
      "source": [
        "stg='''Hello everyone,\n",
        "lets start learn python'''\n",
        "print(stg)"
      ]
    },
    {
      "cell_type": "code",
      "execution_count": null,
      "metadata": {
        "colab": {
          "base_uri": "https://localhost:8080/"
        },
        "id": "2PHy4TQ6WNUC",
        "outputId": "2aab7a26-5ddc-4a85-d866-f94317cc1337"
      },
      "outputs": [
        {
          "name": "stdout",
          "output_type": "stream",
          "text": [
            "Tin said,\"I 'm busy today\".\n"
          ]
        }
      ],
      "source": [
        "stg='Tin said,\"I \\'m busy today\".'\n",
        "print(stg)"
      ]
    },
    {
      "cell_type": "code",
      "execution_count": null,
      "metadata": {
        "colab": {
          "base_uri": "https://localhost:8080/"
        },
        "id": "yGKGlaq-WidY",
        "outputId": "fadb5643-9993-4d26-9729-dca738e9a640"
      },
      "outputs": [
        {
          "name": "stdout",
          "output_type": "stream",
          "text": [
            "27\n"
          ]
        }
      ],
      "source": [
        "print(len(stg))"
      ]
    },
    {
      "cell_type": "code",
      "execution_count": null,
      "metadata": {
        "colab": {
          "base_uri": "https://localhost:8080/"
        },
        "id": "bGfw_NTQW50E",
        "outputId": "eb439d48-5c00-42d7-cb9f-0cbe0ccd1ce3"
      },
      "outputs": [
        {
          "output_type": "stream",
          "name": "stdout",
          "text": [
            "<built-in function len>\n"
          ]
        }
      ],
      "source": [
        "stg='simplilearn'\n",
        "print(len)"
      ]
    },
    {
      "cell_type": "code",
      "source": [
        "d1={}\n",
        "print(d1)\n",
        "print(type(d1))"
      ],
      "metadata": {
        "colab": {
          "base_uri": "https://localhost:8080/"
        },
        "id": "C1bfx7TZVU5G",
        "outputId": "ad7ca994-0090-4467-fd9e-d270915a7b8a"
      },
      "execution_count": null,
      "outputs": [
        {
          "output_type": "stream",
          "name": "stdout",
          "text": [
            "{}\n",
            "<class 'dict'>\n"
          ]
        }
      ]
    },
    {
      "cell_type": "code",
      "source": [
        "d2={1:\"WELCOME\",2:\"to\",3:\"Python\",4:\"Tutorial\"}\n",
        "print(d2)"
      ],
      "metadata": {
        "colab": {
          "base_uri": "https://localhost:8080/"
        },
        "id": "4ZPHBBV3ViLE",
        "outputId": "f4b9c36e-3199-41cb-d792-1de67c166a32"
      },
      "execution_count": null,
      "outputs": [
        {
          "output_type": "stream",
          "name": "stdout",
          "text": [
            "{1: 'WELCOME', 2: 'to', 3: 'Python', 4: 'Tutorial'}\n"
          ]
        }
      ]
    },
    {
      "cell_type": "code",
      "source": [
        "d3={\"name\":\"sam\",\"Age\":22,\"profession\":\"Student\"}\n",
        "print(d3)"
      ],
      "metadata": {
        "colab": {
          "base_uri": "https://localhost:8080/"
        },
        "id": "lqQyFwiLWYDQ",
        "outputId": "b419bd41-3784-4844-a622-421d51643ba7"
      },
      "execution_count": null,
      "outputs": [
        {
          "output_type": "stream",
          "name": "stdout",
          "text": [
            "{'name': 'sam', 'Age': 22, 'profession': 'Student'}\n"
          ]
        }
      ]
    },
    {
      "cell_type": "code",
      "source": [
        "d4=dict({1:\"WELCOME\",2:\"to\",3:\"Python\",4:\"Tutorial\"})\n",
        "print(d4)"
      ],
      "metadata": {
        "colab": {
          "base_uri": "https://localhost:8080/"
        },
        "id": "XsdLhgxoWwTm",
        "outputId": "9bad493e-4aa1-455c-be4c-58cef84cb051"
      },
      "execution_count": null,
      "outputs": [
        {
          "output_type": "stream",
          "name": "stdout",
          "text": [
            "{1: 'WELCOME', 2: 'to', 3: 'Python', 4: 'Tutorial'}\n"
          ]
        }
      ]
    },
    {
      "cell_type": "code",
      "source": [
        "d5=dict([(1,\"welcome\"),(2,\"to\"),(3,\"python\"),(4,\"tutorial\")])\n",
        "print(d5)"
      ],
      "metadata": {
        "colab": {
          "base_uri": "https://localhost:8080/"
        },
        "id": "8P9sfl1EXD43",
        "outputId": "513fdedb-9f31-44ac-aa4f-17815dc37487"
      },
      "execution_count": null,
      "outputs": [
        {
          "output_type": "stream",
          "name": "stdout",
          "text": [
            "{1: 'welcome', 2: 'to', 3: 'python', 4: 'tutorial'}\n"
          ]
        }
      ]
    },
    {
      "cell_type": "code",
      "source": [
        "d6={\"name\":{\"first\":\"sam\",\"last\":\"crew\"},\"Age\":22,\"profession\":\"Student\"}\n",
        "print(d6)"
      ],
      "metadata": {
        "colab": {
          "base_uri": "https://localhost:8080/"
        },
        "id": "K31qNi8lXpJG",
        "outputId": "e150afb3-583c-498a-d5f2-c72c07c0f673"
      },
      "execution_count": null,
      "outputs": [
        {
          "output_type": "stream",
          "name": "stdout",
          "text": [
            "{'name': {'first': 'sam', 'last': 'crew'}, 'Age': 22, 'profession': 'Student'}\n"
          ]
        }
      ]
    },
    {
      "cell_type": "markdown",
      "source": [
        "Adding element"
      ],
      "metadata": {
        "id": "DtxWHsMaX8f7"
      }
    },
    {
      "cell_type": "code",
      "source": [
        "d={}\n",
        "d[0]=\"welcome\"\n",
        "print(d)"
      ],
      "metadata": {
        "colab": {
          "base_uri": "https://localhost:8080/"
        },
        "id": "tYNxI1V4X_3o",
        "outputId": "2da7cf05-e5f4-4fbb-a43f-826fd29980ed"
      },
      "execution_count": null,
      "outputs": [
        {
          "output_type": "stream",
          "name": "stdout",
          "text": [
            "{0: 'welcome'}\n"
          ]
        }
      ]
    },
    {
      "cell_type": "code",
      "source": [
        "d[1]=(\"How\",\"are\",\"you\")\n",
        "print(d)"
      ],
      "metadata": {
        "colab": {
          "base_uri": "https://localhost:8080/"
        },
        "id": "pLryJ1yxYJ0W",
        "outputId": "12aec570-29b1-49b2-8955-49d76050939d"
      },
      "execution_count": null,
      "outputs": [
        {
          "output_type": "stream",
          "name": "stdout",
          "text": [
            "{0: 'welcome', 1: ('How', 'are', 'you')}\n"
          ]
        }
      ]
    },
    {
      "cell_type": "code",
      "source": [
        "d[\"name\"]=\"sam\"\n",
        "print(d)"
      ],
      "metadata": {
        "colab": {
          "base_uri": "https://localhost:8080/"
        },
        "id": "zFis8KywYaqq",
        "outputId": "20155642-dc03-49db-9aa2-4a077dbca5a2"
      },
      "execution_count": null,
      "outputs": [
        {
          "output_type": "stream",
          "name": "stdout",
          "text": [
            "{1: ('How', 'are', 'you'), 'name': 'sam'}\n"
          ]
        }
      ]
    },
    {
      "cell_type": "code",
      "source": [
        "d[\"name\"]={\"first\":\"sam\",\"last\":\"crew\"}\n",
        "print(d)"
      ],
      "metadata": {
        "colab": {
          "base_uri": "https://localhost:8080/"
        },
        "id": "bDhdIaq1YjP0",
        "outputId": "2863b900-167c-4e31-a02a-a0824a69ccf7"
      },
      "execution_count": null,
      "outputs": [
        {
          "output_type": "stream",
          "name": "stdout",
          "text": [
            "{1: ('How', 'are', 'you'), 'name': {'first': 'sam', 'last': 'crew'}}\n"
          ]
        }
      ]
    },
    {
      "cell_type": "markdown",
      "source": [
        "Accessing elements\n"
      ],
      "metadata": {
        "id": "Leu8IfHZY0Ck"
      }
    },
    {
      "cell_type": "code",
      "source": [
        "print(d)"
      ],
      "metadata": {
        "colab": {
          "base_uri": "https://localhost:8080/"
        },
        "id": "O_jmiN_ZY3_5",
        "outputId": "3898478e-3662-4474-c537-beab1d9e20b7"
      },
      "execution_count": null,
      "outputs": [
        {
          "output_type": "stream",
          "name": "stdout",
          "text": [
            "{1: ('How', 'are', 'you')}\n"
          ]
        }
      ]
    },
    {
      "cell_type": "code",
      "source": [
        "print(d[\"name\"])"
      ],
      "metadata": {
        "colab": {
          "base_uri": "https://localhost:8080/"
        },
        "id": "Jb4sfg81YxiJ",
        "outputId": "487d6197-4695-435f-8a4b-f5efee5a3c5b"
      },
      "execution_count": null,
      "outputs": [
        {
          "output_type": "stream",
          "name": "stdout",
          "text": [
            "{'first': 'sam', 'last': 'crew'}\n"
          ]
        }
      ]
    },
    {
      "cell_type": "code",
      "source": [
        "print(d[\"name\"][\"first\"])"
      ],
      "metadata": {
        "colab": {
          "base_uri": "https://localhost:8080/"
        },
        "id": "Apec1YTbY_ju",
        "outputId": "94c4376b-046c-4825-b54e-b73c16246dc5"
      },
      "execution_count": null,
      "outputs": [
        {
          "output_type": "stream",
          "name": "stdout",
          "text": [
            "sam\n"
          ]
        }
      ]
    },
    {
      "cell_type": "code",
      "source": [
        "print(d.get(1))"
      ],
      "metadata": {
        "colab": {
          "base_uri": "https://localhost:8080/"
        },
        "id": "ZeWuFgwOZFSZ",
        "outputId": "ecc9af2e-8ddc-45e1-91d2-ca03dc316208"
      },
      "execution_count": null,
      "outputs": [
        {
          "output_type": "stream",
          "name": "stdout",
          "text": [
            "('How', 'are', 'you')\n"
          ]
        }
      ]
    },
    {
      "cell_type": "markdown",
      "source": [
        "Deleting elements"
      ],
      "metadata": {
        "id": "JGQU-JexZKwp"
      }
    },
    {
      "cell_type": "code",
      "source": [
        "print(d)"
      ],
      "metadata": {
        "colab": {
          "base_uri": "https://localhost:8080/"
        },
        "id": "HomsA60mZKMK",
        "outputId": "de9c073b-5ce4-4037-dc6f-c0bbee94c178"
      },
      "execution_count": null,
      "outputs": [
        {
          "output_type": "stream",
          "name": "stdout",
          "text": [
            "{1: ('How', 'are', 'you')}\n"
          ]
        }
      ]
    },
    {
      "cell_type": "code",
      "source": [
        "d.pop(0)"
      ],
      "metadata": {
        "colab": {
          "base_uri": "https://localhost:8080/",
          "height": 36
        },
        "id": "oHig4TZiZP4c",
        "outputId": "e3b08275-a60e-4349-9715-af03d82ebc0b"
      },
      "execution_count": null,
      "outputs": [
        {
          "output_type": "execute_result",
          "data": {
            "text/plain": [
              "'welcome'"
            ],
            "application/vnd.google.colaboratory.intrinsic+json": {
              "type": "string"
            }
          },
          "metadata": {},
          "execution_count": 19
        }
      ]
    },
    {
      "cell_type": "code",
      "source": [
        "print(d)"
      ],
      "metadata": {
        "colab": {
          "base_uri": "https://localhost:8080/"
        },
        "id": "qiHPB8F_ZUDs",
        "outputId": "252ee283-f51d-4938-ea2a-54ac2c83109b"
      },
      "execution_count": null,
      "outputs": [
        {
          "output_type": "stream",
          "name": "stdout",
          "text": [
            "{1: ('How', 'are', 'you'), 'name': {'first': 'sam', 'last': 'crew'}}\n"
          ]
        }
      ]
    },
    {
      "cell_type": "code",
      "source": [
        "d.popitem()"
      ],
      "metadata": {
        "colab": {
          "base_uri": "https://localhost:8080/"
        },
        "id": "B9xKEN1_ZX2c",
        "outputId": "71e7aebc-ae20-4f1b-8c8e-7c206fe73c4a"
      },
      "execution_count": null,
      "outputs": [
        {
          "output_type": "execute_result",
          "data": {
            "text/plain": [
              "('name', {'first': 'sam', 'last': 'crew'})"
            ]
          },
          "metadata": {},
          "execution_count": 21
        }
      ]
    },
    {
      "cell_type": "code",
      "source": [
        "print(d)"
      ],
      "metadata": {
        "colab": {
          "base_uri": "https://localhost:8080/"
        },
        "id": "WNv98IbpZbhI",
        "outputId": "96650e84-60ef-4aad-98c8-c80441cf91cb"
      },
      "execution_count": null,
      "outputs": [
        {
          "output_type": "stream",
          "name": "stdout",
          "text": [
            "{1: ('How', 'are', 'you'), 'name': {'first': 'sam', 'last': 'crew'}}\n"
          ]
        }
      ]
    },
    {
      "cell_type": "markdown",
      "source": [
        "using built in function\n"
      ],
      "metadata": {
        "id": "vQXgOBYDaWoc"
      }
    },
    {
      "cell_type": "code",
      "source": [
        "d.values()"
      ],
      "metadata": {
        "colab": {
          "base_uri": "https://localhost:8080/"
        },
        "id": "HM8ySX7daUhu",
        "outputId": "93f56fe0-d49b-41a7-dfbc-c0a43bf285d4"
      },
      "execution_count": null,
      "outputs": [
        {
          "output_type": "execute_result",
          "data": {
            "text/plain": [
              "dict_values([('How', 'are', 'you'), {'first': 'sam', 'last': 'crew'}])"
            ]
          },
          "metadata": {},
          "execution_count": 33
        }
      ]
    },
    {
      "cell_type": "code",
      "source": [
        "keys={'a','b','c','d'}\n",
        "value=1\n",
        "dict.fromkeys(keys,value)"
      ],
      "metadata": {
        "colab": {
          "base_uri": "https://localhost:8080/"
        },
        "id": "5QqJqpLlZeP7",
        "outputId": "65fbecfa-2ea3-46f2-e655-8ae4eddd6c9d"
      },
      "execution_count": null,
      "outputs": [
        {
          "output_type": "execute_result",
          "data": {
            "text/plain": [
              "{'c': 1, 'a': 1, 'd': 1, 'b': 1}"
            ]
          },
          "metadata": {},
          "execution_count": 34
        }
      ]
    },
    {
      "cell_type": "code",
      "source": [
        "d.clear()"
      ],
      "metadata": {
        "id": "W5OXxP3iaxaZ"
      },
      "execution_count": null,
      "outputs": []
    },
    {
      "cell_type": "markdown",
      "source": [],
      "metadata": {
        "id": "UTRZQCDRurSw"
      }
    },
    {
      "cell_type": "code",
      "source": [
        "print(d)"
      ],
      "metadata": {
        "colab": {
          "base_uri": "https://localhost:8080/"
        },
        "id": "MeT6Q6-ia0Rm",
        "outputId": "2db77bbd-dbf5-4289-e0df-b9c801c777e6"
      },
      "execution_count": null,
      "outputs": [
        {
          "output_type": "stream",
          "name": "stdout",
          "text": [
            "{}\n"
          ]
        }
      ]
    },
    {
      "cell_type": "markdown",
      "source": [
        "Sets"
      ],
      "metadata": {
        "id": "2icxWoDtbSgN"
      }
    },
    {
      "cell_type": "code",
      "source": [
        "s=set([1,2,3,4])\n",
        "print(s)\n",
        "print(type(s))"
      ],
      "metadata": {
        "colab": {
          "base_uri": "https://localhost:8080/"
        },
        "id": "rdtCyMHLbVDu",
        "outputId": "c33bfe96-1230-4bc6-8b64-3adddab51b33"
      },
      "execution_count": null,
      "outputs": [
        {
          "output_type": "stream",
          "name": "stdout",
          "text": [
            "{1, 2, 3, 4}\n",
            "<class 'set'>\n"
          ]
        }
      ]
    },
    {
      "cell_type": "code",
      "source": [
        "s.add('a')"
      ],
      "metadata": {
        "id": "qZMYgCQ4bhJL"
      },
      "execution_count": null,
      "outputs": []
    },
    {
      "cell_type": "code",
      "source": [
        "print(s)"
      ],
      "metadata": {
        "colab": {
          "base_uri": "https://localhost:8080/"
        },
        "id": "zI0NHXI5bkOa",
        "outputId": "693cf8e0-eff4-42aa-c1de-bd16704550a1"
      },
      "execution_count": null,
      "outputs": [
        {
          "output_type": "stream",
          "name": "stdout",
          "text": [
            "{1, 2, 3, 4, 'a'}\n"
          ]
        }
      ]
    },
    {
      "cell_type": "code",
      "source": [
        "fs=frozenset([1,2,3,4])\n",
        "print(fs)"
      ],
      "metadata": {
        "colab": {
          "base_uri": "https://localhost:8080/"
        },
        "id": "F2IboIlabm9t",
        "outputId": "3daa3905-5263-466d-a42f-21234fc622fd"
      },
      "execution_count": null,
      "outputs": [
        {
          "output_type": "stream",
          "name": "stdout",
          "text": [
            "frozenset({1, 2, 3, 4})\n"
          ]
        }
      ]
    },
    {
      "cell_type": "code",
      "source": [
        "fs.add(\"a\")"
      ],
      "metadata": {
        "colab": {
          "base_uri": "https://localhost:8080/",
          "height": 171
        },
        "id": "MxXX3v1VbxT9",
        "outputId": "f10003df-afc6-436e-da26-ff888970d2c5"
      },
      "execution_count": null,
      "outputs": [
        {
          "output_type": "error",
          "ename": "AttributeError",
          "evalue": "ignored",
          "traceback": [
            "\u001b[0;31m---------------------------------------------------------------------------\u001b[0m",
            "\u001b[0;31mAttributeError\u001b[0m                            Traceback (most recent call last)",
            "\u001b[0;32m<ipython-input-41-2f2a0f444f16>\u001b[0m in \u001b[0;36m<module>\u001b[0;34m\u001b[0m\n\u001b[0;32m----> 1\u001b[0;31m \u001b[0mfs\u001b[0m\u001b[0;34m.\u001b[0m\u001b[0madd\u001b[0m\u001b[0;34m(\u001b[0m\u001b[0;34m\"a\"\u001b[0m\u001b[0;34m)\u001b[0m\u001b[0;34m\u001b[0m\u001b[0;34m\u001b[0m\u001b[0m\n\u001b[0m",
            "\u001b[0;31mAttributeError\u001b[0m: 'frozenset' object has no attribute 'add'"
          ]
        }
      ]
    },
    {
      "cell_type": "code",
      "source": [
        "s1=set([1,3,7,2])\n",
        "s2=set([3,2,8,9])\n",
        "s1.union(s2)\n"
      ],
      "metadata": {
        "colab": {
          "base_uri": "https://localhost:8080/"
        },
        "id": "esSltlxEb11C",
        "outputId": "13872eea-340b-4e41-ee91-bb1bbcfab5e0"
      },
      "execution_count": null,
      "outputs": [
        {
          "output_type": "execute_result",
          "data": {
            "text/plain": [
              "{1, 2, 3, 7, 8, 9}"
            ]
          },
          "metadata": {},
          "execution_count": 44
        }
      ]
    },
    {
      "cell_type": "code",
      "source": [
        "s1.difference(s2)"
      ],
      "metadata": {
        "colab": {
          "base_uri": "https://localhost:8080/"
        },
        "id": "fxLXIxEPcoLt",
        "outputId": "1d312b2a-5c78-418d-99f8-d07b94d1d4cb"
      },
      "execution_count": null,
      "outputs": [
        {
          "output_type": "execute_result",
          "data": {
            "text/plain": [
              "{1, 7}"
            ]
          },
          "metadata": {},
          "execution_count": 45
        }
      ]
    },
    {
      "cell_type": "markdown",
      "source": [
        "if else"
      ],
      "metadata": {
        "id": "9lyx7yzicrV8"
      }
    },
    {
      "cell_type": "code",
      "source": [
        "a=60\n",
        "if a>50:\n",
        "   print(\"This is the if body\")\n",
        "print(\"This is the outside the if block \")"
      ],
      "metadata": {
        "colab": {
          "base_uri": "https://localhost:8080/"
        },
        "id": "CIFHfu7xcqce",
        "outputId": "3fae9278-4125-49e2-d78c-22b00256d6df"
      },
      "execution_count": null,
      "outputs": [
        {
          "output_type": "stream",
          "name": "stdout",
          "text": [
            "This is the if body\n",
            "This is the outside the if block \n"
          ]
        }
      ]
    },
    {
      "cell_type": "code",
      "source": [
        "i=20\n",
        "if i%2==0:\n",
        "  print(\"This is the if block\")\n",
        "  print(\"i is an even number\")\n",
        "else:\n",
        "  print(\"This is the else block\")\n",
        "  print(\"i is not an even number\")"
      ],
      "metadata": {
        "colab": {
          "base_uri": "https://localhost:8080/"
        },
        "id": "Ral8LCl-dCjX",
        "outputId": "517df255-1019-4d84-fb12-5dbc7df5b762"
      },
      "execution_count": null,
      "outputs": [
        {
          "output_type": "stream",
          "name": "stdout",
          "text": [
            "This is the if block\n",
            "i is an even number\n"
          ]
        }
      ]
    },
    {
      "cell_type": "code",
      "source": [
        "c=21\n",
        "if c<25:\n",
        "  if c%2==0:\n",
        "    print(\"c is an even number less than 25\")\n",
        "  else:\n",
        "    print(\"c is an odd number less than 25\")\n",
        "else:\n",
        "  print(\"c is greater than 25\")"
      ],
      "metadata": {
        "colab": {
          "base_uri": "https://localhost:8080/"
        },
        "id": "0Y_bqsBseT-1",
        "outputId": "573f9628-b915-45c8-e5f7-b4459dca843c"
      },
      "execution_count": null,
      "outputs": [
        {
          "output_type": "stream",
          "name": "stdout",
          "text": [
            "c is an odd number less than 25\n"
          ]
        }
      ]
    },
    {
      "cell_type": "code",
      "source": [
        "var=\"z\"\n",
        "if var==\"a\":\n",
        "   print(\"This is a vowel\")\n",
        "elif var==\"e\":\n",
        "   print(\"This is a vowel\")\n",
        "elif var==\"i\":\n",
        "   print(\"This is a vowel\")\n",
        "elif var==\"o\":\n",
        "   print(\"This is a vowel\")\n",
        "elif var==\"u\":\n",
        "   print(\"This is a vowel\")\n",
        "else:\n",
        "  print(\"This is a consonant\")"
      ],
      "metadata": {
        "colab": {
          "base_uri": "https://localhost:8080/"
        },
        "id": "xEHytsM5fO4O",
        "outputId": "1cabc44f-3c97-4e0b-ef71-8987a0381322"
      },
      "execution_count": null,
      "outputs": [
        {
          "output_type": "stream",
          "name": "stdout",
          "text": [
            "This is a consonant\n"
          ]
        }
      ]
    },
    {
      "cell_type": "markdown",
      "source": [
        "Loops"
      ],
      "metadata": {
        "id": "wh5TXnMjBBNP"
      }
    },
    {
      "cell_type": "code",
      "source": [
        "import re\n",
        "str=\"This is  a string\"\n",
        "x=re.findall(\"is\",str)\n",
        "print(x)"
      ],
      "metadata": {
        "id": "-TP3sWtWBAL5",
        "colab": {
          "base_uri": "https://localhost:8080/"
        },
        "outputId": "a01606b5-507b-4efe-b25d-fe06d604e325"
      },
      "execution_count": null,
      "outputs": [
        {
          "output_type": "stream",
          "name": "stdout",
          "text": [
            "['is', 'is']\n"
          ]
        }
      ]
    },
    {
      "cell_type": "code",
      "source": [
        "import requests\n",
        "x = requests.get(\"https://en.wikipedia.org/wiki/Data_science\")\n",
        "print(x.text)"
      ],
      "metadata": {
        "id": "wKRe-6MZBEKu",
        "colab": {
          "base_uri": "https://localhost:8080/"
        },
        "outputId": "d460664d-1e4c-4525-cd23-e69362287aec"
      },
      "execution_count": null,
      "outputs": [
        {
          "output_type": "stream",
          "name": "stdout",
          "text": [
            "<!DOCTYPE html>\n",
            "<html class=\"client-nojs\" lang=\"en\" dir=\"ltr\">\n",
            "<head>\n",
            "<meta charset=\"UTF-8\"/>\n",
            "<title>Data science - Wikipedia</title>\n",
            "<script>document.documentElement.className=\"client-js\";RLCONF={\"wgBreakFrames\":false,\"wgSeparatorTransformTable\":[\"\",\"\"],\"wgDigitTransformTable\":[\"\",\"\"],\"wgDefaultDateFormat\":\"dmy\",\"wgMonthNames\":[\"\",\"January\",\"February\",\"March\",\"April\",\"May\",\"June\",\"July\",\"August\",\"September\",\"October\",\"November\",\"December\"],\"wgRequestId\":\"8a2773a0-97d5-4f54-a13d-ae59ef5c7294\",\"wgCSPNonce\":false,\"wgCanonicalNamespace\":\"\",\"wgCanonicalSpecialPageName\":false,\"wgNamespaceNumber\":0,\"wgPageName\":\"Data_science\",\"wgTitle\":\"Data science\",\"wgCurRevisionId\":1120574273,\"wgRevisionId\":1120574273,\"wgArticleId\":35458904,\"wgIsArticle\":true,\"wgIsRedirect\":false,\"wgAction\":\"view\",\"wgUserName\":null,\"wgUserGroups\":[\"*\"],\"wgCategories\":[\"Articles with short description\",\"Short description matches Wikidata\",\"Use dmy dates from August 2021\",\"Information science\",\"Computer occupations\",\"Computational fields of study\",\"Data analysis\"],\"wgPageContentLanguage\":\"en\",\"wgPageContentModel\":\"wikitext\",\"wgRelevantPageName\":\"Data_science\",\n",
            "\"wgRelevantArticleId\":35458904,\"wgIsProbablyEditable\":true,\"wgRelevantPageIsProbablyEditable\":true,\"wgRestrictionEdit\":[],\"wgRestrictionMove\":[],\"wgFlaggedRevsParams\":{\"tags\":{\"status\":{\"levels\":1}}},\"wgVisualEditor\":{\"pageLanguageCode\":\"en\",\"pageLanguageDir\":\"ltr\",\"pageVariantFallbacks\":\"en\"},\"wgMFDisplayWikibaseDescriptions\":{\"search\":true,\"watchlist\":true,\"tagline\":false,\"nearby\":true},\"wgWMESchemaEditAttemptStepOversample\":false,\"wgWMEPageLength\":20000,\"wgNoticeProject\":\"wikipedia\",\"wgVector2022PreviewPages\":[],\"wgMediaViewerOnClick\":true,\"wgMediaViewerEnabledByDefault\":true,\"wgPopupsFlags\":10,\"wgULSCurrentAutonym\":\"English\",\"wgEditSubmitButtonLabelPublish\":true,\"wgCentralAuthMobileDomain\":false,\"wgULSPosition\":\"interlanguage\",\"wgULSisCompactLinksEnabled\":true,\"wgWikibaseItemId\":\"Q2374463\",\"GEHomepageSuggestedEditsEnableTopics\":true,\"wgGETopicsMatchModeEnabled\":false,\"wgGEStructuredTaskRejectionReasonTextInputEnabled\":false};RLSTATE={\"ext.globalCssJs.user.styles\":\"ready\",\n",
            "\"site.styles\":\"ready\",\"user.styles\":\"ready\",\"ext.globalCssJs.user\":\"ready\",\"user\":\"ready\",\"user.options\":\"loading\",\"ext.cite.styles\":\"ready\",\"skins.vector.styles.legacy\":\"ready\",\"jquery.makeCollapsible.styles\":\"ready\",\"ext.visualEditor.desktopArticleTarget.noscript\":\"ready\",\"ext.wikimediaBadges\":\"ready\",\"ext.uls.interlanguage\":\"ready\",\"wikibase.client.init\":\"ready\"};RLPAGEMODULES=[\"ext.cite.ux-enhancements\",\"site\",\"mediawiki.page.ready\",\"jquery.makeCollapsible\",\"mediawiki.toc\",\"skins.vector.legacy.js\",\"mmv.head\",\"mmv.bootstrap.autostart\",\"ext.visualEditor.desktopArticleTarget.init\",\"ext.visualEditor.targetLoader\",\"ext.eventLogging\",\"ext.wikimediaEvents\",\"ext.navigationTiming\",\"ext.cx.eventlogging.campaigns\",\"ext.centralNotice.geoIP\",\"ext.centralNotice.startUp\",\"ext.gadget.ReferenceTooltips\",\"ext.gadget.charinsert\",\"ext.gadget.extra-toolbar-buttons\",\"ext.gadget.switcher\",\"ext.centralauth.centralautologin\",\"ext.popups\",\"ext.uls.compactlinks\",\"ext.uls.interface\",\n",
            "\"ext.growthExperiments.SuggestedEditSession\"];</script>\n",
            "<script>(RLQ=window.RLQ||[]).push(function(){mw.loader.implement(\"user.options@12s5i\",function($,jQuery,require,module){mw.user.tokens.set({\"patrolToken\":\"+\\\\\",\"watchToken\":\"+\\\\\",\"csrfToken\":\"+\\\\\"});});});</script>\n",
            "<link rel=\"stylesheet\" href=\"/w/load.php?lang=en&amp;modules=ext.cite.styles%7Cext.uls.interlanguage%7Cext.visualEditor.desktopArticleTarget.noscript%7Cext.wikimediaBadges%7Cjquery.makeCollapsible.styles%7Cskins.vector.styles.legacy%7Cwikibase.client.init&amp;only=styles&amp;skin=vector\"/>\n",
            "<script async=\"\" src=\"/w/load.php?lang=en&amp;modules=startup&amp;only=scripts&amp;raw=1&amp;skin=vector\"></script>\n",
            "<meta name=\"ResourceLoaderDynamicStyles\" content=\"\"/>\n",
            "<link rel=\"stylesheet\" href=\"/w/load.php?lang=en&amp;modules=site.styles&amp;only=styles&amp;skin=vector\"/>\n",
            "<meta name=\"generator\" content=\"MediaWiki 1.40.0-wmf.10\"/>\n",
            "<meta name=\"referrer\" content=\"origin\"/>\n",
            "<meta name=\"referrer\" content=\"origin-when-crossorigin\"/>\n",
            "<meta name=\"referrer\" content=\"origin-when-cross-origin\"/>\n",
            "<meta name=\"robots\" content=\"max-image-preview:standard\"/>\n",
            "<meta name=\"format-detection\" content=\"telephone=no\"/>\n",
            "<meta property=\"og:image\" content=\"https://upload.wikimedia.org/wikipedia/commons/thumb/4/45/PIA23792-1600x1200%281%29.jpg/1200px-PIA23792-1600x1200%281%29.jpg\"/>\n",
            "<meta property=\"og:image:width\" content=\"1200\"/>\n",
            "<meta property=\"og:image:height\" content=\"900\"/>\n",
            "<meta property=\"og:image\" content=\"https://upload.wikimedia.org/wikipedia/commons/thumb/4/45/PIA23792-1600x1200%281%29.jpg/800px-PIA23792-1600x1200%281%29.jpg\"/>\n",
            "<meta property=\"og:image:width\" content=\"800\"/>\n",
            "<meta property=\"og:image:height\" content=\"600\"/>\n",
            "<meta property=\"og:image\" content=\"https://upload.wikimedia.org/wikipedia/commons/thumb/4/45/PIA23792-1600x1200%281%29.jpg/640px-PIA23792-1600x1200%281%29.jpg\"/>\n",
            "<meta property=\"og:image:width\" content=\"640\"/>\n",
            "<meta property=\"og:image:height\" content=\"480\"/>\n",
            "<meta name=\"viewport\" content=\"width=1000\"/>\n",
            "<meta property=\"og:title\" content=\"Data science - Wikipedia\"/>\n",
            "<meta property=\"og:type\" content=\"website\"/>\n",
            "<link rel=\"preconnect\" href=\"//upload.wikimedia.org\"/>\n",
            "<link rel=\"alternate\" media=\"only screen and (max-width: 720px)\" href=\"//en.m.wikipedia.org/wiki/Data_science\"/>\n",
            "<link rel=\"alternate\" type=\"application/x-wiki\" title=\"Edit this page\" href=\"/w/index.php?title=Data_science&amp;action=edit\"/>\n",
            "<link rel=\"apple-touch-icon\" href=\"/static/apple-touch/wikipedia.png\"/>\n",
            "<link rel=\"icon\" href=\"/static/favicon/wikipedia.ico\"/>\n",
            "<link rel=\"search\" type=\"application/opensearchdescription+xml\" href=\"/w/opensearch_desc.php\" title=\"Wikipedia (en)\"/>\n",
            "<link rel=\"EditURI\" type=\"application/rsd+xml\" href=\"//en.wikipedia.org/w/api.php?action=rsd\"/>\n",
            "<link rel=\"license\" href=\"https://creativecommons.org/licenses/by-sa/3.0/\"/>\n",
            "<link rel=\"canonical\" href=\"https://en.wikipedia.org/wiki/Data_science\"/>\n",
            "<link rel=\"dns-prefetch\" href=\"//meta.wikimedia.org\" />\n",
            "<link rel=\"dns-prefetch\" href=\"//login.wikimedia.org\"/>\n",
            "</head>\n",
            "<body class=\"skin-vector-legacy mediawiki ltr sitedir-ltr mw-hide-empty-elt ns-0 ns-subject mw-editable page-Data_science rootpage-Data_science skin-vector action-view vector-feature-language-in-header-enabled vector-feature-language-in-main-page-header-disabled vector-feature-language-alert-in-sidebar-enabled vector-feature-sticky-header-disabled vector-feature-sticky-header-edit-disabled vector-feature-table-of-contents-legacy-toc-disabled vector-feature-visual-enhancement-next-enabled vector-feature-page-tools-disabled vector-feature-limited-width-enabled vector-feature-limited-width-content-enabled\"><div id=\"mw-page-base\" class=\"noprint\"></div>\n",
            "<div id=\"mw-head-base\" class=\"noprint\"></div>\n",
            "<div id=\"content\" class=\"mw-body\" role=\"main\">\n",
            "\t<a id=\"top\"></a>\n",
            "\t<div id=\"siteNotice\"><!-- CentralNotice --><!--esi <esi:include src=\"/esitest-fa8a495983347898/content\" /> --> </div>\n",
            "\t<div class=\"mw-indicators\">\n",
            "\t</div>\n",
            "\t<h1 id=\"firstHeading\" class=\"firstHeading mw-first-heading\"><span class=\"mw-page-title-main\">Data science</span></h1>\n",
            "\t<div id=\"bodyContent\" class=\"vector-body\">\n",
            "\t\t<div id=\"siteSub\" class=\"noprint\">From Wikipedia, the free encyclopedia</div>\n",
            "\t\t<div id=\"contentSub\"></div>\n",
            "\t\t<div id=\"contentSub2\"></div>\n",
            "\t\t\n",
            "\t\t<div id=\"jump-to-nav\"></div>\n",
            "\t\t<a class=\"mw-jump-link\" href=\"#mw-head\">Jump to navigation</a>\n",
            "\t\t<a class=\"mw-jump-link\" href=\"#searchInput\">Jump to search</a>\n",
            "\t\t<div id=\"mw-content-text\" class=\"mw-body-content mw-content-ltr\" lang=\"en\" dir=\"ltr\"><div class=\"mw-parser-output\"><div class=\"shortdescription nomobile noexcerpt noprint searchaux\" style=\"display:none\">Interdisciplinary field of study focused on deriving knowledge and insights from data</div>\n",
            "<style data-mw-deduplicate=\"TemplateStyles:r1033289096\">.mw-parser-output .hatnote{font-style:italic}.mw-parser-output div.hatnote{padding-left:1.6em;margin-bottom:0.5em}.mw-parser-output .hatnote i{font-style:normal}.mw-parser-output .hatnote+link+.hatnote{margin-top:-0.5em}</style><div role=\"note\" class=\"hatnote navigation-not-searchable\">Not to be confused with <a href=\"/wiki/Information_science\" title=\"Information science\">information science</a>.</div>\n",
            "<p class=\"mw-empty-elt\">\n",
            "</p>\n",
            "<div class=\"thumb tright\"><div class=\"thumbinner\" style=\"width:222px;\"><a href=\"/wiki/File:PIA23792-1600x1200(1).jpg\" class=\"image\"><img alt=\"\" src=\"//upload.wikimedia.org/wikipedia/commons/thumb/4/45/PIA23792-1600x1200%281%29.jpg/220px-PIA23792-1600x1200%281%29.jpg\" decoding=\"async\" width=\"220\" height=\"165\" class=\"thumbimage\" srcset=\"//upload.wikimedia.org/wikipedia/commons/thumb/4/45/PIA23792-1600x1200%281%29.jpg/330px-PIA23792-1600x1200%281%29.jpg 1.5x, //upload.wikimedia.org/wikipedia/commons/thumb/4/45/PIA23792-1600x1200%281%29.jpg/440px-PIA23792-1600x1200%281%29.jpg 2x\" data-file-width=\"1600\" data-file-height=\"1200\" /></a>  <div class=\"thumbcaption\"><div class=\"magnify\"><a href=\"/wiki/File:PIA23792-1600x1200(1).jpg\" class=\"internal\" title=\"Enlarge\"></a></div>The existence of <a href=\"/wiki/Comet_NEOWISE\" title=\"Comet NEOWISE\">Comet NEOWISE</a> (here depicted as a series of red dots) was discovered by analyzing <a href=\"/wiki/Astronomical_survey\" title=\"Astronomical survey\">astronomical survey</a> data acquired by a <a href=\"/wiki/Space_telescope\" title=\"Space telescope\">space telescope</a>, the <a href=\"/wiki/Wide-field_Infrared_Survey_Explorer\" title=\"Wide-field Infrared Survey Explorer\">Wide-field Infrared Survey Explorer</a>.</div></div></div>\n",
            "<p><b>Data science</b> is an <a href=\"/wiki/Interdisciplinary\" class=\"mw-redirect\" title=\"Interdisciplinary\">interdisciplinary</a> field that uses <a href=\"/wiki/Scientific_method\" title=\"Scientific method\">scientific methods</a>, processes, <a href=\"/wiki/Algorithm\" title=\"Algorithm\">algorithms</a> and systems to extract or extrapolate <a href=\"/wiki/Knowledge\" title=\"Knowledge\">knowledge</a> and insights from noisy, structured and <a href=\"/wiki/Unstructured_data\" title=\"Unstructured data\">unstructured data</a>,<sup id=\"cite_ref-1\" class=\"reference\"><a href=\"#cite_note-1\">&#91;1&#93;</a></sup><sup id=\"cite_ref-2\" class=\"reference\"><a href=\"#cite_note-2\">&#91;2&#93;</a></sup> and apply knowledge from data across a broad range of application domains. Data science is related to <a href=\"/wiki/Data_mining\" title=\"Data mining\">data mining</a>, <a href=\"/wiki/Machine_learning\" title=\"Machine learning\">machine learning</a>, <a href=\"/wiki/Big_data\" title=\"Big data\">big data</a>, <a href=\"/wiki/Computational_statistics\" title=\"Computational statistics\">computational statistics</a> and <a href=\"/wiki/Analytics\" title=\"Analytics\">analytics</a>.<sup id=\"cite_ref-:2_3-0\" class=\"reference\"><a href=\"#cite_note-:2-3\">&#91;3&#93;</a></sup>\n",
            "</p><p>Data science is a \"concept to unify <a href=\"/wiki/Statistics\" title=\"Statistics\">statistics</a>, <a href=\"/wiki/Data_analysis\" title=\"Data analysis\">data analysis</a>, <a href=\"/wiki/Informatics\" title=\"Informatics\">informatics</a>, and their related <a href=\"/wiki/Scientific_method\" title=\"Scientific method\">methods</a>\" in order to \"understand and analyse actual <a href=\"/wiki/Phenomena\" class=\"mw-redirect\" title=\"Phenomena\">phenomena</a>\" with <a href=\"/wiki/Data\" title=\"Data\">data</a>.<sup id=\"cite_ref-4\" class=\"reference\"><a href=\"#cite_note-4\">&#91;4&#93;</a></sup> It uses techniques and theories drawn from many fields within the context of <a href=\"/wiki/Mathematics\" title=\"Mathematics\">mathematics</a>, statistics, <a href=\"/wiki/Computer_science\" title=\"Computer science\">computer science</a>, <a href=\"/wiki/Information_science\" title=\"Information science\">information science</a>, and <a href=\"/wiki/Domain_knowledge\" title=\"Domain knowledge\">domain knowledge</a>.<sup id=\"cite_ref-:2_3-1\" class=\"reference\"><a href=\"#cite_note-:2-3\">&#91;3&#93;</a></sup> However, data science is different from <a href=\"/wiki/Computer_science\" title=\"Computer science\">computer science</a> and information science. <a href=\"/wiki/Turing_Award\" title=\"Turing Award\">Turing Award</a> winner <a href=\"/wiki/Jim_Gray_(computer_scientist)\" title=\"Jim Gray (computer scientist)\">Jim Gray</a> imagined data science as a \"fourth paradigm\" of science (<a href=\"/wiki/Empirical_research\" title=\"Empirical research\">empirical</a>, <a href=\"/wiki/Basic_research\" title=\"Basic research\">theoretical</a>, <a href=\"/wiki/Computational_science\" title=\"Computational science\">computational</a>, and now data-driven) and asserted that \"everything about science is changing because of the impact of <a href=\"/wiki/Information_technology\" title=\"Information technology\">information technology</a>\" and the <a href=\"/wiki/Information_explosion\" title=\"Information explosion\">data deluge</a>.<sup id=\"cite_ref-TansleyTolle2009_5-0\" class=\"reference\"><a href=\"#cite_note-TansleyTolle2009-5\">&#91;5&#93;</a></sup><sup id=\"cite_ref-BellHey2009_6-0\" class=\"reference\"><a href=\"#cite_note-BellHey2009-6\">&#91;6&#93;</a></sup>\n",
            "</p><p>A <b>data scientist</b> is someone who creates programming code and combines it with statistical knowledge to create insights from data.<sup id=\"cite_ref-7\" class=\"reference\"><a href=\"#cite_note-7\">&#91;7&#93;</a></sup>\n",
            "</p>\n",
            "<div id=\"toc\" class=\"toc\" role=\"navigation\" aria-labelledby=\"mw-toc-heading\"><input type=\"checkbox\" role=\"button\" id=\"toctogglecheckbox\" class=\"toctogglecheckbox\" style=\"display:none\" /><div class=\"toctitle\" lang=\"en\" dir=\"ltr\"><h2 id=\"mw-toc-heading\">Contents</h2><span class=\"toctogglespan\"><label class=\"toctogglelabel\" for=\"toctogglecheckbox\"></label></span></div>\n",
            "<ul>\n",
            "<li class=\"toclevel-1 tocsection-1\"><a href=\"#Foundations\"><span class=\"tocnumber\">1</span> <span class=\"toctext\">Foundations</span></a>\n",
            "<ul>\n",
            "<li class=\"toclevel-2 tocsection-2\"><a href=\"#Relationship_to_statistics\"><span class=\"tocnumber\">1.1</span> <span class=\"toctext\">Relationship to statistics</span></a></li>\n",
            "</ul>\n",
            "</li>\n",
            "<li class=\"toclevel-1 tocsection-3\"><a href=\"#Etymology\"><span class=\"tocnumber\">2</span> <span class=\"toctext\">Etymology</span></a>\n",
            "<ul>\n",
            "<li class=\"toclevel-2 tocsection-4\"><a href=\"#Early_usage\"><span class=\"tocnumber\">2.1</span> <span class=\"toctext\">Early usage</span></a></li>\n",
            "<li class=\"toclevel-2 tocsection-5\"><a href=\"#Modern_usage\"><span class=\"tocnumber\">2.2</span> <span class=\"toctext\">Modern usage</span></a></li>\n",
            "</ul>\n",
            "</li>\n",
            "<li class=\"toclevel-1 tocsection-6\"><a href=\"#See_also\"><span class=\"tocnumber\">3</span> <span class=\"toctext\">See also</span></a></li>\n",
            "<li class=\"toclevel-1 tocsection-7\"><a href=\"#References\"><span class=\"tocnumber\">4</span> <span class=\"toctext\">References</span></a></li>\n",
            "</ul>\n",
            "</div>\n",
            "\n",
            "<h2><span class=\"mw-headline\" id=\"Foundations\">Foundations</span><span class=\"mw-editsection\"><span class=\"mw-editsection-bracket\">[</span><a href=\"/w/index.php?title=Data_science&amp;action=edit&amp;section=1\" title=\"Edit section: Foundations\">edit</a><span class=\"mw-editsection-bracket\">]</span></span></h2>\n",
            "<p>Data science is an <a href=\"/wiki/Interdisciplinarity\" title=\"Interdisciplinarity\">interdisciplinary</a> <a href=\"/wiki/Academic_discipline\" title=\"Academic discipline\">field</a><sup id=\"cite_ref-8\" class=\"reference\"><a href=\"#cite_note-8\">&#91;8&#93;</a></sup> focused on extracting knowledge from typically <a href=\"/wiki/Big_data\" title=\"Big data\">large</a> <a href=\"/wiki/Data_set\" title=\"Data set\">data sets</a> and applying the knowledge and insights from that data to <a href=\"/wiki/Problem_solving\" title=\"Problem solving\">solve problems</a> in a wide range of application domains.<sup id=\"cite_ref-9\" class=\"reference\"><a href=\"#cite_note-9\">&#91;9&#93;</a></sup> The field encompasses preparing data for analysis, formulating data science problems, <a href=\"/wiki/Analysis\" title=\"Analysis\">analyzing</a> data, developing data-driven solutions, and presenting findings to inform high-level decisions in a broad range of application domains. As such, it incorporates skills from computer science, statistics, information science, mathematics, <a href=\"/wiki/Data_visualization\" class=\"mw-redirect\" title=\"Data visualization\">data visualization</a>, <a href=\"/wiki/Information_visualization\" class=\"mw-redirect\" title=\"Information visualization\">information visualization</a>, <a href=\"/wiki/Data_sonification\" title=\"Data sonification\">data sonification</a>, data <a href=\"/wiki/Data_integration\" title=\"Data integration\">integration</a>, <a href=\"/wiki/Graphic_design\" title=\"Graphic design\">graphic design</a>, <a href=\"/wiki/Complex_systems\" class=\"mw-redirect\" title=\"Complex systems\">complex systems</a>, <a href=\"/wiki/Communication\" title=\"Communication\">communication</a> and <a href=\"/wiki/Business\" title=\"Business\">business</a>.<sup id=\"cite_ref-10\" class=\"reference\"><a href=\"#cite_note-10\">&#91;10&#93;</a></sup><sup id=\"cite_ref-11\" class=\"reference\"><a href=\"#cite_note-11\">&#91;11&#93;</a></sup> Statistician <a href=\"/wiki/Nathan_Yau\" title=\"Nathan Yau\">Nathan Yau</a>, drawing on <a href=\"/wiki/Ben_Fry\" title=\"Ben Fry\">Ben Fry</a>, also links data science to <a href=\"/wiki/Human%E2%80%93computer_interaction\" title=\"Human–computer interaction\">human–computer interaction</a>: users should be able to intuitively control and <a href=\"/wiki/Exploration\" title=\"Exploration\">explore</a> data.<sup id=\"cite_ref-12\" class=\"reference\"><a href=\"#cite_note-12\">&#91;12&#93;</a></sup><sup id=\"cite_ref-13\" class=\"reference\"><a href=\"#cite_note-13\">&#91;13&#93;</a></sup> In 2015, the <a href=\"/wiki/American_Statistical_Association\" title=\"American Statistical Association\">American Statistical Association</a> identified <a href=\"/wiki/Database\" title=\"Database\">database</a> management, statistics and <a href=\"/wiki/Machine_learning\" title=\"Machine learning\">machine learning</a>, and <a href=\"/wiki/Distributed_computing\" title=\"Distributed computing\">distributed and parallel systems</a> as the three emerging foundational professional communities.<sup id=\"cite_ref-14\" class=\"reference\"><a href=\"#cite_note-14\">&#91;14&#93;</a></sup>\n",
            "</p>\n",
            "<h3><span class=\"mw-headline\" id=\"Relationship_to_statistics\">Relationship to statistics</span><span class=\"mw-editsection\"><span class=\"mw-editsection-bracket\">[</span><a href=\"/w/index.php?title=Data_science&amp;action=edit&amp;section=2\" title=\"Edit section: Relationship to statistics\">edit</a><span class=\"mw-editsection-bracket\">]</span></span></h3>\n",
            "<p>Many statisticians, including <a href=\"/wiki/Nate_Silver\" title=\"Nate Silver\">Nate Silver</a>, have argued that data science is not a new field, but rather another name for statistics.<sup id=\"cite_ref-15\" class=\"reference\"><a href=\"#cite_note-15\">&#91;15&#93;</a></sup> Others argue that data science is distinct from statistics because it focuses on problems and techniques unique to digital data.<sup id=\"cite_ref-16\" class=\"reference\"><a href=\"#cite_note-16\">&#91;16&#93;</a></sup> <a href=\"/wiki/Vasant_Dhar\" title=\"Vasant Dhar\">Vasant Dhar</a> writes that statistics emphasizes quantitative data and description. In contrast, data science deals with quantitative and qualitative data (e.g. from images, text, sensors, transactions or customer information, etc) and emphasizes prediction and action.<sup id=\"cite_ref-17\" class=\"reference\"><a href=\"#cite_note-17\">&#91;17&#93;</a></sup> <a href=\"/wiki/Andrew_Gelman\" title=\"Andrew Gelman\">Andrew Gelman</a> of <a href=\"/wiki/Columbia_University\" title=\"Columbia University\">Columbia University</a> has described statistics as a nonessential part of data science.<sup id=\"cite_ref-18\" class=\"reference\"><a href=\"#cite_note-18\">&#91;18&#93;</a></sup>\n",
            "</p><p>Stanford professor <a href=\"/wiki/David_Donoho\" title=\"David Donoho\">David Donoho</a> writes that data science is not distinguished from statistics by the size of datasets or use of computing and that many graduate programs misleadingly advertise their analytics and statistics training as the essence of a data-science program. He describes data science as an applied field growing out of traditional statistics.<sup id=\"cite_ref-:7_19-0\" class=\"reference\"><a href=\"#cite_note-:7-19\">&#91;19&#93;</a></sup>\n",
            "</p>\n",
            "<h2><span class=\"mw-headline\" id=\"Etymology\">Etymology</span><span class=\"mw-editsection\"><span class=\"mw-editsection-bracket\">[</span><a href=\"/w/index.php?title=Data_science&amp;action=edit&amp;section=3\" title=\"Edit section: Etymology\">edit</a><span class=\"mw-editsection-bracket\">]</span></span></h2>\n",
            "<h3><span class=\"mw-headline\" id=\"Early_usage\">Early usage</span><span class=\"mw-editsection\"><span class=\"mw-editsection-bracket\">[</span><a href=\"/w/index.php?title=Data_science&amp;action=edit&amp;section=4\" title=\"Edit section: Early usage\">edit</a><span class=\"mw-editsection-bracket\">]</span></span></h3>\n",
            "<p>In 1962, <a href=\"/wiki/John_Tukey\" title=\"John Tukey\">John Tukey</a> described a field he called \"data analysis\", which resembles modern data science.<sup id=\"cite_ref-:7_19-1\" class=\"reference\"><a href=\"#cite_note-:7-19\">&#91;19&#93;</a></sup> In 1985, in a lecture given to the Chinese Academy of Sciences in Beijing, <a href=\"/wiki/C._F._Jeff_Wu\" title=\"C. F. Jeff Wu\">C.&#160;F. Jeff Wu</a> used the term \"data science\" for the first time as an alternative name for statistics.<sup id=\"cite_ref-20\" class=\"reference\"><a href=\"#cite_note-20\">&#91;20&#93;</a></sup> Later, attendees at a 1992 statistics symposium at the <a href=\"/wiki/Montpellier_2_University\" title=\"Montpellier 2 University\">University of Montpellier&#160;II</a> acknowledged the emergence of a new discipline focused on data of various origins and forms, combining established concepts and principles of statistics and data analysis with computing.<sup id=\"cite_ref-21\" class=\"reference\"><a href=\"#cite_note-21\">&#91;21&#93;</a></sup><sup id=\"cite_ref-Murtagh_2018_14_22-0\" class=\"reference\"><a href=\"#cite_note-Murtagh_2018_14-22\">&#91;22&#93;</a></sup>\n",
            "</p><p>The term \"data science\" has been traced back to 1974, when <a href=\"/wiki/Peter_Naur\" title=\"Peter Naur\">Peter Naur</a> proposed it as an alternative name for computer science.<sup id=\"cite_ref-:2_3-2\" class=\"reference\"><a href=\"#cite_note-:2-3\">&#91;3&#93;</a></sup> In 1996, the International Federation of Classification Societies became the first conference to specifically feature data science as a topic.<sup id=\"cite_ref-:2_3-3\" class=\"reference\"><a href=\"#cite_note-:2-3\">&#91;3&#93;</a></sup> However, the definition was still in flux. After the 1985 lecture at the Chinese Academy of Sciences in Beijing, in 1997 <a href=\"/wiki/C._F._Jeff_Wu\" title=\"C. F. Jeff Wu\">C.&#160;F. Jeff Wu</a> again suggested that statistics should be renamed data science. He reasoned that a new name would help statistics shed inaccurate stereotypes, such as being synonymous with accounting or limited to describing data.<sup id=\"cite_ref-23\" class=\"reference\"><a href=\"#cite_note-23\">&#91;23&#93;</a></sup> In 1998, Hayashi Chikio argued for data science as a new, interdisciplinary concept, with three aspects: data design, collection, and analysis.<sup id=\"cite_ref-Murtagh_2018_14_22-1\" class=\"reference\"><a href=\"#cite_note-Murtagh_2018_14-22\">&#91;22&#93;</a></sup>\n",
            "</p><p>During the 1990s, popular terms for the process of finding patterns in datasets (which were increasingly large) included \"knowledge discovery\" and \"<a href=\"/wiki/Data_mining\" title=\"Data mining\">data mining</a>\".<sup id=\"cite_ref-:2_3-4\" class=\"reference\"><a href=\"#cite_note-:2-3\">&#91;3&#93;</a></sup><sup id=\"cite_ref-:1_24-0\" class=\"reference\"><a href=\"#cite_note-:1-24\">&#91;24&#93;</a></sup>\n",
            "</p>\n",
            "<h3><span class=\"mw-headline\" id=\"Modern_usage\">Modern usage</span><span class=\"mw-editsection\"><span class=\"mw-editsection-bracket\">[</span><a href=\"/w/index.php?title=Data_science&amp;action=edit&amp;section=5\" title=\"Edit section: Modern usage\">edit</a><span class=\"mw-editsection-bracket\">]</span></span></h3>\n",
            "<p>In 2012, technologists <a href=\"/wiki/Thomas_H._Davenport\" title=\"Thomas H. Davenport\">Thomas H. Davenport</a> and <a href=\"/wiki/DJ_Patil\" title=\"DJ Patil\">DJ Patil</a> declared \"Data Scientist: The Sexiest Job of the 21st Century\",<sup id=\"cite_ref-25\" class=\"reference\"><a href=\"#cite_note-25\">&#91;25&#93;</a></sup> a catch-phrase that was picked up even by major-city newspapers like the <a href=\"/wiki/New_York_Times\" class=\"mw-redirect\" title=\"New York Times\">New York Times</a><sup id=\"cite_ref-26\" class=\"reference\"><a href=\"#cite_note-26\">&#91;26&#93;</a></sup> and the <a href=\"/wiki/Boston_Globe\" class=\"mw-redirect\" title=\"Boston Globe\">Boston Globe</a>.<sup id=\"cite_ref-27\" class=\"reference\"><a href=\"#cite_note-27\">&#91;27&#93;</a></sup> A decade later, they reaffirmed it, stating \"the job is more in demand than ever with employers\".<sup id=\"cite_ref-28\" class=\"reference\"><a href=\"#cite_note-28\">&#91;28&#93;</a></sup>\n",
            "</p><p>The modern conception of data science as an independent discipline is sometimes attributed to <a href=\"/wiki/William_S._Cleveland\" title=\"William S. Cleveland\">William S. Cleveland</a>.<sup id=\"cite_ref-29\" class=\"reference\"><a href=\"#cite_note-29\">&#91;29&#93;</a></sup> In a 2001 paper, he advocated an expansion of statistics beyond theory into technical areas; because this would significantly change the field, it warranted a new name.<sup id=\"cite_ref-:1_24-1\" class=\"reference\"><a href=\"#cite_note-:1-24\">&#91;24&#93;</a></sup> \"Data science\" became more widely used in the next few years: in 2002, the <a href=\"/wiki/Committee_on_Data_for_Science_and_Technology\" class=\"mw-redirect\" title=\"Committee on Data for Science and Technology\">Committee on Data for Science and Technology</a> launched <i>Data Science Journal</i>. In 2003, Columbia University launched <i>The Journal of Data Science</i>.<sup id=\"cite_ref-:1_24-2\" class=\"reference\"><a href=\"#cite_note-:1-24\">&#91;24&#93;</a></sup> In 2014, the <a href=\"/wiki/American_Statistical_Association\" title=\"American Statistical Association\">American Statistical Association</a>'s Section on Statistical Learning and Data Mining changed its name to the Section on Statistical Learning and Data Science, reflecting the ascendant popularity of data science.<sup id=\"cite_ref-30\" class=\"reference\"><a href=\"#cite_note-30\">&#91;30&#93;</a></sup>\n",
            "</p><p>The professional title of \"data scientist\" has been attributed to <a href=\"/wiki/DJ_Patil\" title=\"DJ Patil\">DJ Patil</a> and <a href=\"/wiki/Jeff_Hammerbacher\" title=\"Jeff Hammerbacher\">Jeff Hammerbacher</a> in 2008.<sup id=\"cite_ref-31\" class=\"reference\"><a href=\"#cite_note-31\">&#91;31&#93;</a></sup> Though it was used by the <a href=\"/wiki/National_Science_Board\" title=\"National Science Board\">National Science Board</a> in their 2005 report \"Long-Lived Digital Data Collections: Enabling Research and Education in the 21st Century\", it referred broadly to any key role in managing a digital data collection.<sup id=\"cite_ref-32\" class=\"reference\"><a href=\"#cite_note-32\">&#91;32&#93;</a></sup>\n",
            "</p><p>There is still no consensus on the definition of data science, and it is considered by some to be a <a href=\"/wiki/Buzzword\" title=\"Buzzword\">buzzword</a>.<sup id=\"cite_ref-33\" class=\"reference\"><a href=\"#cite_note-33\">&#91;33&#93;</a></sup> <a href=\"/wiki/Big_data\" title=\"Big data\">Big data</a> is a related marketing term.<sup id=\"cite_ref-:5_34-0\" class=\"reference\"><a href=\"#cite_note-:5-34\">&#91;34&#93;</a></sup> Data scientists are responsible for breaking down big data into usable information and creating software and algorithms that help companies and organizations determine optimal operations.<sup id=\"cite_ref-:6_35-0\" class=\"reference\"><a href=\"#cite_note-:6-35\">&#91;35&#93;</a></sup>\n",
            "</p>\n",
            "<h2><span class=\"mw-headline\" id=\"See_also\">See also</span><span class=\"mw-editsection\"><span class=\"mw-editsection-bracket\">[</span><a href=\"/w/index.php?title=Data_science&amp;action=edit&amp;section=6\" title=\"Edit section: See also\">edit</a><span class=\"mw-editsection-bracket\">]</span></span></h2>\n",
            "<ul><li><a href=\"/wiki/ODSC\" title=\"ODSC\">Open Data Science Conference</a></li>\n",
            "<li><a href=\"/wiki/Scientific_Data_(journal)\" title=\"Scientific Data (journal)\">Scientific Data</a></li>\n",
            "<li><a href=\"/wiki/Women_in_Data\" title=\"Women in Data\">Women in Data</a></li></ul>\n",
            "<h2><span class=\"mw-headline\" id=\"References\">References</span><span class=\"mw-editsection\"><span class=\"mw-editsection-bracket\">[</span><a href=\"/w/index.php?title=Data_science&amp;action=edit&amp;section=7\" title=\"Edit section: References\">edit</a><span class=\"mw-editsection-bracket\">]</span></span></h2>\n",
            "<style data-mw-deduplicate=\"TemplateStyles:r1011085734\">.mw-parser-output .reflist{font-size:90%;margin-bottom:0.5em;list-style-type:decimal}.mw-parser-output .reflist .references{font-size:100%;margin-bottom:0;list-style-type:inherit}.mw-parser-output .reflist-columns-2{column-width:30em}.mw-parser-output .reflist-columns-3{column-width:25em}.mw-parser-output .reflist-columns{margin-top:0.3em}.mw-parser-output .reflist-columns ol{margin-top:0}.mw-parser-output .reflist-columns li{page-break-inside:avoid;break-inside:avoid-column}.mw-parser-output .reflist-upper-alpha{list-style-type:upper-alpha}.mw-parser-output .reflist-upper-roman{list-style-type:upper-roman}.mw-parser-output .reflist-lower-alpha{list-style-type:lower-alpha}.mw-parser-output .reflist-lower-greek{list-style-type:lower-greek}.mw-parser-output .reflist-lower-roman{list-style-type:lower-roman}</style><div class=\"reflist reflist-columns references-column-width\" style=\"column-width: 30em;\">\n",
            "<ol class=\"references\">\n",
            "<li id=\"cite_note-1\"><span class=\"mw-cite-backlink\"><b><a href=\"#cite_ref-1\">^</a></b></span> <span class=\"reference-text\"><style data-mw-deduplicate=\"TemplateStyles:r1067248974\">.mw-parser-output cite.citation{font-style:inherit;word-wrap:break-word}.mw-parser-output .citation q{quotes:\"\\\"\"\"\\\"\"\"'\"\"'\"}.mw-parser-output .citation:target{background-color:rgba(0,127,255,0.133)}.mw-parser-output .id-lock-free a,.mw-parser-output .citation .cs1-lock-free a{background:linear-gradient(transparent,transparent),url(\"//upload.wikimedia.org/wikipedia/commons/6/65/Lock-green.svg\")right 0.1em center/9px no-repeat}.mw-parser-output .id-lock-limited a,.mw-parser-output .id-lock-registration a,.mw-parser-output .citation .cs1-lock-limited a,.mw-parser-output .citation .cs1-lock-registration a{background:linear-gradient(transparent,transparent),url(\"//upload.wikimedia.org/wikipedia/commons/d/d6/Lock-gray-alt-2.svg\")right 0.1em center/9px no-repeat}.mw-parser-output .id-lock-subscription a,.mw-parser-output .citation .cs1-lock-subscription a{background:linear-gradient(transparent,transparent),url(\"//upload.wikimedia.org/wikipedia/commons/a/aa/Lock-red-alt-2.svg\")right 0.1em center/9px no-repeat}.mw-parser-output .cs1-ws-icon a{background:linear-gradient(transparent,transparent),url(\"//upload.wikimedia.org/wikipedia/commons/4/4c/Wikisource-logo.svg\")right 0.1em center/12px no-repeat}.mw-parser-output .cs1-code{color:inherit;background:inherit;border:none;padding:inherit}.mw-parser-output .cs1-hidden-error{display:none;color:#d33}.mw-parser-output .cs1-visible-error{color:#d33}.mw-parser-output .cs1-maint{display:none;color:#3a3;margin-left:0.3em}.mw-parser-output .cs1-format{font-size:95%}.mw-parser-output .cs1-kern-left{padding-left:0.2em}.mw-parser-output .cs1-kern-right{padding-right:0.2em}.mw-parser-output .citation .mw-selflink{font-weight:inherit}</style><cite id=\"CITEREFDhar2013\" class=\"citation journal cs1\">Dhar, V. (2013). <a rel=\"nofollow\" class=\"external text\" href=\"http://cacm.acm.org/magazines/2013/12/169933-data-science-and-prediction/fulltext\">\"Data science and prediction\"</a>. <i>Communications of the ACM</i>. <b>56</b> (12): 64–73. <a href=\"/wiki/Doi_(identifier)\" class=\"mw-redirect\" title=\"Doi (identifier)\">doi</a>:<a rel=\"nofollow\" class=\"external text\" href=\"https://doi.org/10.1145%2F2500499\">10.1145/2500499</a>. <a href=\"/wiki/S2CID_(identifier)\" class=\"mw-redirect\" title=\"S2CID (identifier)\">S2CID</a>&#160;<a rel=\"nofollow\" class=\"external text\" href=\"https://api.semanticscholar.org/CorpusID:6107147\">6107147</a>. <a rel=\"nofollow\" class=\"external text\" href=\"https://web.archive.org/web/20141109113411/http://cacm.acm.org/magazines/2013/12/169933-data-science-and-prediction/fulltext\">Archived</a> from the original on 9 November 2014<span class=\"reference-accessdate\">. Retrieved <span class=\"nowrap\">2 September</span> 2015</span>.</cite><span title=\"ctx_ver=Z39.88-2004&amp;rft_val_fmt=info%3Aofi%2Ffmt%3Akev%3Amtx%3Ajournal&amp;rft.genre=article&amp;rft.jtitle=Communications+of+the+ACM&amp;rft.atitle=Data+science+and+prediction&amp;rft.volume=56&amp;rft.issue=12&amp;rft.pages=64-73&amp;rft.date=2013&amp;rft_id=info%3Adoi%2F10.1145%2F2500499&amp;rft_id=https%3A%2F%2Fapi.semanticscholar.org%2FCorpusID%3A6107147%23id-name%3DS2CID&amp;rft.aulast=Dhar&amp;rft.aufirst=V.&amp;rft_id=http%3A%2F%2Fcacm.acm.org%2Fmagazines%2F2013%2F12%2F169933-data-science-and-prediction%2Ffulltext&amp;rfr_id=info%3Asid%2Fen.wikipedia.org%3AData+science\" class=\"Z3988\"></span></span>\n",
            "</li>\n",
            "<li id=\"cite_note-2\"><span class=\"mw-cite-backlink\"><b><a href=\"#cite_ref-2\">^</a></b></span> <span class=\"reference-text\"><link rel=\"mw-deduplicated-inline-style\" href=\"mw-data:TemplateStyles:r1067248974\"/><cite id=\"CITEREFJeff_Leek2013\" class=\"citation web cs1\"><a href=\"/wiki/Jeffrey_T._Leek\" title=\"Jeffrey T. Leek\">Jeff Leek</a> (12 December 2013). <a rel=\"nofollow\" class=\"external text\" href=\"http://simplystatistics.org/2013/12/12/the-key-word-in-data-science-is-not-data-it-is-science/\">\"The key word in \"Data Science\" is not Data, it is Science\"</a>. Simply Statistics. <a rel=\"nofollow\" class=\"external text\" href=\"https://web.archive.org/web/20140102194117/http://simplystatistics.org/2013/12/12/the-key-word-in-data-science-is-not-data-it-is-science/\">Archived</a> from the original on 2 January 2014<span class=\"reference-accessdate\">. Retrieved <span class=\"nowrap\">1 January</span> 2014</span>.</cite><span title=\"ctx_ver=Z39.88-2004&amp;rft_val_fmt=info%3Aofi%2Ffmt%3Akev%3Amtx%3Abook&amp;rft.genre=unknown&amp;rft.btitle=The+key+word+in+%22Data+Science%22+is+not+Data%2C+it+is+Science&amp;rft.pub=Simply+Statistics&amp;rft.date=2013-12-12&amp;rft.au=Jeff+Leek&amp;rft_id=http%3A%2F%2Fsimplystatistics.org%2F2013%2F12%2F12%2Fthe-key-word-in-data-science-is-not-data-it-is-science%2F&amp;rfr_id=info%3Asid%2Fen.wikipedia.org%3AData+science\" class=\"Z3988\"></span></span>\n",
            "</li>\n",
            "<li id=\"cite_note-:2-3\"><span class=\"mw-cite-backlink\">^ <a href=\"#cite_ref-:2_3-0\"><sup><i><b>a</b></i></sup></a> <a href=\"#cite_ref-:2_3-1\"><sup><i><b>b</b></i></sup></a> <a href=\"#cite_ref-:2_3-2\"><sup><i><b>c</b></i></sup></a> <a href=\"#cite_ref-:2_3-3\"><sup><i><b>d</b></i></sup></a> <a href=\"#cite_ref-:2_3-4\"><sup><i><b>e</b></i></sup></a></span> <span class=\"reference-text\"><link rel=\"mw-deduplicated-inline-style\" href=\"mw-data:TemplateStyles:r1067248974\"/><cite id=\"CITEREFCao2017\" class=\"citation journal cs1\">Cao, Longbing (29 June 2017). \"Data Science: A Comprehensive Overview\". <i>ACM Computing Surveys</i>. <b>50</b> (3): 43:1–43:42. <a href=\"/wiki/Doi_(identifier)\" class=\"mw-redirect\" title=\"Doi (identifier)\">doi</a>:<a rel=\"nofollow\" class=\"external text\" href=\"https://doi.org/10.1145%2F3076253\">10.1145/3076253</a>. <a href=\"/wiki/ISSN_(identifier)\" class=\"mw-redirect\" title=\"ISSN (identifier)\">ISSN</a>&#160;<a rel=\"nofollow\" class=\"external text\" href=\"//www.worldcat.org/issn/0360-0300\">0360-0300</a>. <a href=\"/wiki/S2CID_(identifier)\" class=\"mw-redirect\" title=\"S2CID (identifier)\">S2CID</a>&#160;<a rel=\"nofollow\" class=\"external text\" href=\"https://api.semanticscholar.org/CorpusID:207595944\">207595944</a>.</cite><span title=\"ctx_ver=Z39.88-2004&amp;rft_val_fmt=info%3Aofi%2Ffmt%3Akev%3Amtx%3Ajournal&amp;rft.genre=article&amp;rft.jtitle=ACM+Computing+Surveys&amp;rft.atitle=Data+Science%3A+A+Comprehensive+Overview&amp;rft.volume=50&amp;rft.issue=3&amp;rft.pages=43%3A1-43%3A42&amp;rft.date=2017-06-29&amp;rft_id=https%3A%2F%2Fapi.semanticscholar.org%2FCorpusID%3A207595944%23id-name%3DS2CID&amp;rft.issn=0360-0300&amp;rft_id=info%3Adoi%2F10.1145%2F3076253&amp;rft.aulast=Cao&amp;rft.aufirst=Longbing&amp;rfr_id=info%3Asid%2Fen.wikipedia.org%3AData+science\" class=\"Z3988\"></span></span>\n",
            "</li>\n",
            "<li id=\"cite_note-4\"><span class=\"mw-cite-backlink\"><b><a href=\"#cite_ref-4\">^</a></b></span> <span class=\"reference-text\"><link rel=\"mw-deduplicated-inline-style\" href=\"mw-data:TemplateStyles:r1067248974\"/><cite id=\"CITEREFHayashi1998\" class=\"citation book cs1\">Hayashi, Chikio (1 January 1998). <a rel=\"nofollow\" class=\"external text\" href=\"https://www.springer.com/book/9784431702085\">\"What is Data Science? Fundamental Concepts and a Heuristic Example\"</a>.  In Hayashi, Chikio; Yajima, Keiji; Bock, Hans-Hermann; Ohsumi, Noboru; Tanaka, Yutaka; Baba, Yasumasa (eds.). <i>Data Science, Classification, and Related Methods</i>. Studies in Classification, Data Analysis, and Knowledge Organization. Springer Japan. pp.&#160;40–51. <a href=\"/wiki/Doi_(identifier)\" class=\"mw-redirect\" title=\"Doi (identifier)\">doi</a>:<a rel=\"nofollow\" class=\"external text\" href=\"https://doi.org/10.1007%2F978-4-431-65950-1_3\">10.1007/978-4-431-65950-1_3</a>. <a href=\"/wiki/ISBN_(identifier)\" class=\"mw-redirect\" title=\"ISBN (identifier)\">ISBN</a>&#160;<a href=\"/wiki/Special:BookSources/9784431702085\" title=\"Special:BookSources/9784431702085\"><bdi>9784431702085</bdi></a>.</cite><span title=\"ctx_ver=Z39.88-2004&amp;rft_val_fmt=info%3Aofi%2Ffmt%3Akev%3Amtx%3Abook&amp;rft.genre=bookitem&amp;rft.atitle=What+is+Data+Science%3F+Fundamental+Concepts+and+a+Heuristic+Example&amp;rft.btitle=Data+Science%2C+Classification%2C+and+Related+Methods&amp;rft.series=Studies+in+Classification%2C+Data+Analysis%2C+and+Knowledge+Organization&amp;rft.pages=40-51&amp;rft.pub=Springer+Japan&amp;rft.date=1998-01-01&amp;rft_id=info%3Adoi%2F10.1007%2F978-4-431-65950-1_3&amp;rft.isbn=9784431702085&amp;rft.aulast=Hayashi&amp;rft.aufirst=Chikio&amp;rft_id=https%3A%2F%2Fwww.springer.com%2Fbook%2F9784431702085&amp;rfr_id=info%3Asid%2Fen.wikipedia.org%3AData+science\" class=\"Z3988\"></span></span>\n",
            "</li>\n",
            "<li id=\"cite_note-TansleyTolle2009-5\"><span class=\"mw-cite-backlink\"><b><a href=\"#cite_ref-TansleyTolle2009_5-0\">^</a></b></span> <span class=\"reference-text\"><link rel=\"mw-deduplicated-inline-style\" href=\"mw-data:TemplateStyles:r1067248974\"/><cite id=\"CITEREFTony_HeyStewart_TansleyKristin_Michele_Tolle2009\" class=\"citation book cs1\">Tony Hey; Stewart Tansley; Kristin Michele Tolle (2009). <a rel=\"nofollow\" class=\"external text\" href=\"https://books.google.com/books?id=oGs_AQAAIAAJ\"><i>The Fourth Paradigm: Data-intensive Scientific Discovery</i></a>. Microsoft Research. <a href=\"/wiki/ISBN_(identifier)\" class=\"mw-redirect\" title=\"ISBN (identifier)\">ISBN</a>&#160;<a href=\"/wiki/Special:BookSources/978-0-9825442-0-4\" title=\"Special:BookSources/978-0-9825442-0-4\"><bdi>978-0-9825442-0-4</bdi></a>. <a rel=\"nofollow\" class=\"external text\" href=\"https://web.archive.org/web/20170320193019/https://books.google.com/books?id=oGs_AQAAIAAJ\">Archived</a> from the original on 20 March 2017.</cite><span title=\"ctx_ver=Z39.88-2004&amp;rft_val_fmt=info%3Aofi%2Ffmt%3Akev%3Amtx%3Abook&amp;rft.genre=book&amp;rft.btitle=The+Fourth+Paradigm%3A+Data-intensive+Scientific+Discovery&amp;rft.pub=Microsoft+Research&amp;rft.date=2009&amp;rft.isbn=978-0-9825442-0-4&amp;rft.au=Tony+Hey&amp;rft.au=Stewart+Tansley&amp;rft.au=Kristin+Michele+Tolle&amp;rft_id=https%3A%2F%2Fbooks.google.com%2Fbooks%3Fid%3DoGs_AQAAIAAJ&amp;rfr_id=info%3Asid%2Fen.wikipedia.org%3AData+science\" class=\"Z3988\"></span></span>\n",
            "</li>\n",
            "<li id=\"cite_note-BellHey2009-6\"><span class=\"mw-cite-backlink\"><b><a href=\"#cite_ref-BellHey2009_6-0\">^</a></b></span> <span class=\"reference-text\"><link rel=\"mw-deduplicated-inline-style\" href=\"mw-data:TemplateStyles:r1067248974\"/><cite id=\"CITEREFBellHeySzalay2009\" class=\"citation journal cs1\">Bell, G.; Hey, T.; Szalay, A. (2009). \"Computer Science: Beyond the Data Deluge\". <i>Science</i>. <b>323</b> (5919): 1297–1298. <a href=\"/wiki/Doi_(identifier)\" class=\"mw-redirect\" title=\"Doi (identifier)\">doi</a>:<a rel=\"nofollow\" class=\"external text\" href=\"https://doi.org/10.1126%2Fscience.1170411\">10.1126/science.1170411</a>. <a href=\"/wiki/ISSN_(identifier)\" class=\"mw-redirect\" title=\"ISSN (identifier)\">ISSN</a>&#160;<a rel=\"nofollow\" class=\"external text\" href=\"//www.worldcat.org/issn/0036-8075\">0036-8075</a>. <a href=\"/wiki/PMID_(identifier)\" class=\"mw-redirect\" title=\"PMID (identifier)\">PMID</a>&#160;<a rel=\"nofollow\" class=\"external text\" href=\"//pubmed.ncbi.nlm.nih.gov/19265007\">19265007</a>. <a href=\"/wiki/S2CID_(identifier)\" class=\"mw-redirect\" title=\"S2CID (identifier)\">S2CID</a>&#160;<a rel=\"nofollow\" class=\"external text\" href=\"https://api.semanticscholar.org/CorpusID:9743327\">9743327</a>.</cite><span title=\"ctx_ver=Z39.88-2004&amp;rft_val_fmt=info%3Aofi%2Ffmt%3Akev%3Amtx%3Ajournal&amp;rft.genre=article&amp;rft.jtitle=Science&amp;rft.atitle=Computer+Science%3A+Beyond+the+Data+Deluge&amp;rft.volume=323&amp;rft.issue=5919&amp;rft.pages=1297-1298&amp;rft.date=2009&amp;rft.issn=0036-8075&amp;rft_id=https%3A%2F%2Fapi.semanticscholar.org%2FCorpusID%3A9743327%23id-name%3DS2CID&amp;rft_id=info%3Apmid%2F19265007&amp;rft_id=info%3Adoi%2F10.1126%2Fscience.1170411&amp;rft.aulast=Bell&amp;rft.aufirst=G.&amp;rft.au=Hey%2C+T.&amp;rft.au=Szalay%2C+A.&amp;rfr_id=info%3Asid%2Fen.wikipedia.org%3AData+science\" class=\"Z3988\"></span></span>\n",
            "</li>\n",
            "<li id=\"cite_note-7\"><span class=\"mw-cite-backlink\"><b><a href=\"#cite_ref-7\">^</a></b></span> <span class=\"reference-text\"><link rel=\"mw-deduplicated-inline-style\" href=\"mw-data:TemplateStyles:r1067248974\"/><cite id=\"CITEREFDavenportPatil2012\" class=\"citation journal cs1\">Davenport, Thomas H.; Patil, D. J. (October 2012). <a rel=\"nofollow\" class=\"external text\" href=\"https://hbr.org/2012/10/data-scientist-the-sexiest-job-of-the-21st-century/\">\"Data Scientist: The Sexiest Job of the 21st Century\"</a>. <i>Harvard Business Review</i>. <b>90</b> (10): 70–76, 128. <a href=\"/wiki/PMID_(identifier)\" class=\"mw-redirect\" title=\"PMID (identifier)\">PMID</a>&#160;<a rel=\"nofollow\" class=\"external text\" href=\"//pubmed.ncbi.nlm.nih.gov/23074866\">23074866</a><span class=\"reference-accessdate\">. Retrieved <span class=\"nowrap\">18 January</span> 2016</span>.</cite><span title=\"ctx_ver=Z39.88-2004&amp;rft_val_fmt=info%3Aofi%2Ffmt%3Akev%3Amtx%3Ajournal&amp;rft.genre=article&amp;rft.jtitle=Harvard+Business+Review&amp;rft.atitle=Data+Scientist%3A+The+Sexiest+Job+of+the+21st+Century&amp;rft.volume=90&amp;rft.issue=10&amp;rft.pages=70-76%2C+128&amp;rft.date=2012-10&amp;rft_id=info%3Apmid%2F23074866&amp;rft.aulast=Davenport&amp;rft.aufirst=Thomas+H.&amp;rft.au=Patil%2C+D.+J.&amp;rft_id=https%3A%2F%2Fhbr.org%2F2012%2F10%2Fdata-scientist-the-sexiest-job-of-the-21st-century%2F&amp;rfr_id=info%3Asid%2Fen.wikipedia.org%3AData+science\" class=\"Z3988\"></span></span>\n",
            "</li>\n",
            "<li id=\"cite_note-8\"><span class=\"mw-cite-backlink\"><b><a href=\"#cite_ref-8\">^</a></b></span> <span class=\"reference-text\"><link rel=\"mw-deduplicated-inline-style\" href=\"mw-data:TemplateStyles:r1067248974\"/><cite id=\"CITEREFEmmert-StreibDehmer2018\" class=\"citation journal cs1\">Emmert-Streib, Frank; Dehmer, Matthias (2018). <a rel=\"nofollow\" class=\"external text\" href=\"https://doi.org/10.3390%2Fmake1010015\">\"Defining data science by a data-driven quantification of the community\"</a>. <i>Machine Learning and Knowledge Extraction</i>. <b>1</b>: 235–251. <a href=\"/wiki/Doi_(identifier)\" class=\"mw-redirect\" title=\"Doi (identifier)\">doi</a>:<span class=\"cs1-lock-free\" title=\"Freely accessible\"><a rel=\"nofollow\" class=\"external text\" href=\"https://doi.org/10.3390%2Fmake1010015\">10.3390/make1010015</a></span>.</cite><span title=\"ctx_ver=Z39.88-2004&amp;rft_val_fmt=info%3Aofi%2Ffmt%3Akev%3Amtx%3Ajournal&amp;rft.genre=article&amp;rft.jtitle=Machine+Learning+and+Knowledge+Extraction&amp;rft.atitle=Defining+data+science+by+a+data-driven+quantification+of+the+community&amp;rft.volume=1&amp;rft.pages=235-251&amp;rft.date=2018&amp;rft_id=info%3Adoi%2F10.3390%2Fmake1010015&amp;rft.aulast=Emmert-Streib&amp;rft.aufirst=Frank&amp;rft.au=Dehmer%2C+Matthias&amp;rft_id=%2F%2Fdoi.org%2F10.3390%252Fmake1010015&amp;rfr_id=info%3Asid%2Fen.wikipedia.org%3AData+science\" class=\"Z3988\"></span></span>\n",
            "</li>\n",
            "<li id=\"cite_note-9\"><span class=\"mw-cite-backlink\"><b><a href=\"#cite_ref-9\">^</a></b></span> <span class=\"reference-text\"><link rel=\"mw-deduplicated-inline-style\" href=\"mw-data:TemplateStyles:r1067248974\"/><cite class=\"citation web cs1\"><a rel=\"nofollow\" class=\"external text\" href=\"https://web.archive.org/web/20200810114002/http://www.datascienceassn.org/about-data-science\">\"About Data Science\"</a>. <i>Data Science Association</i>. Archived from <a rel=\"nofollow\" class=\"external text\" href=\"http://www.datascienceassn.org/about-data-science\">the original</a> on 10 August 2020<span class=\"reference-accessdate\">. Retrieved <span class=\"nowrap\">3 April</span> 2020</span>.</cite><span title=\"ctx_ver=Z39.88-2004&amp;rft_val_fmt=info%3Aofi%2Ffmt%3Akev%3Amtx%3Ajournal&amp;rft.genre=unknown&amp;rft.jtitle=Data+Science+Association&amp;rft.atitle=About+Data+Science&amp;rft_id=http%3A%2F%2Fwww.datascienceassn.org%2Fabout-data-science&amp;rfr_id=info%3Asid%2Fen.wikipedia.org%3AData+science\" class=\"Z3988\"></span></span>\n",
            "</li>\n",
            "<li id=\"cite_note-10\"><span class=\"mw-cite-backlink\"><b><a href=\"#cite_ref-10\">^</a></b></span> <span class=\"reference-text\"><link rel=\"mw-deduplicated-inline-style\" href=\"mw-data:TemplateStyles:r1067248974\"/><cite class=\"citation web cs1\"><a rel=\"nofollow\" class=\"external text\" href=\"https://www.oreilly.com/library/view/doing-data-science/9781449363871/ch01.html\">\"1. Introduction: What Is Data Science?\"</a>. <i>Doing Data Science [Book]</i>. O’Reilly<span class=\"reference-accessdate\">. Retrieved <span class=\"nowrap\">3 April</span> 2020</span>.</cite><span title=\"ctx_ver=Z39.88-2004&amp;rft_val_fmt=info%3Aofi%2Ffmt%3Akev%3Amtx%3Ajournal&amp;rft.genre=unknown&amp;rft.jtitle=Doing+Data+Science+%5BBook%5D&amp;rft.atitle=1.+Introduction%3A+What+Is+Data+Science%3F&amp;rft_id=https%3A%2F%2Fwww.oreilly.com%2Flibrary%2Fview%2Fdoing-data-science%2F9781449363871%2Fch01.html&amp;rfr_id=info%3Asid%2Fen.wikipedia.org%3AData+science\" class=\"Z3988\"></span></span>\n",
            "</li>\n",
            "<li id=\"cite_note-11\"><span class=\"mw-cite-backlink\"><b><a href=\"#cite_ref-11\">^</a></b></span> <span class=\"reference-text\"><link rel=\"mw-deduplicated-inline-style\" href=\"mw-data:TemplateStyles:r1067248974\"/><cite class=\"citation web cs1\"><a rel=\"nofollow\" class=\"external text\" href=\"https://medriscoll.com/post/4740157098/the-three-sexy-skills-of-data-geeks\">\"the three sexy skills of data geeks\"</a>. <i>m.e.driscoll: data utopian</i>. 27 May 2009<span class=\"reference-accessdate\">. Retrieved <span class=\"nowrap\">3 April</span> 2020</span>.</cite><span title=\"ctx_ver=Z39.88-2004&amp;rft_val_fmt=info%3Aofi%2Ffmt%3Akev%3Amtx%3Ajournal&amp;rft.genre=unknown&amp;rft.jtitle=m.e.driscoll%3A+data+utopian&amp;rft.atitle=the+three+sexy+skills+of+data+geeks&amp;rft.date=2009-05-27&amp;rft_id=https%3A%2F%2Fmedriscoll.com%2Fpost%2F4740157098%2Fthe-three-sexy-skills-of-data-geeks&amp;rfr_id=info%3Asid%2Fen.wikipedia.org%3AData+science\" class=\"Z3988\"></span></span>\n",
            "</li>\n",
            "<li id=\"cite_note-12\"><span class=\"mw-cite-backlink\"><b><a href=\"#cite_ref-12\">^</a></b></span> <span class=\"reference-text\"><link rel=\"mw-deduplicated-inline-style\" href=\"mw-data:TemplateStyles:r1067248974\"/><cite id=\"CITEREFYau2009\" class=\"citation web cs1\">Yau, Nathan (4 June 2009). <a rel=\"nofollow\" class=\"external text\" href=\"https://flowingdata.com/2009/06/04/rise-of-the-data-scientist/\">\"Rise of the Data Scientist\"</a>. <i>FlowingData</i><span class=\"reference-accessdate\">. Retrieved <span class=\"nowrap\">3 April</span> 2020</span>.</cite><span title=\"ctx_ver=Z39.88-2004&amp;rft_val_fmt=info%3Aofi%2Ffmt%3Akev%3Amtx%3Ajournal&amp;rft.genre=unknown&amp;rft.jtitle=FlowingData&amp;rft.atitle=Rise+of+the+Data+Scientist&amp;rft.date=2009-06-04&amp;rft.aulast=Yau&amp;rft.aufirst=Nathan&amp;rft_id=https%3A%2F%2Fflowingdata.com%2F2009%2F06%2F04%2Frise-of-the-data-scientist%2F&amp;rfr_id=info%3Asid%2Fen.wikipedia.org%3AData+science\" class=\"Z3988\"></span></span>\n",
            "</li>\n",
            "<li id=\"cite_note-13\"><span class=\"mw-cite-backlink\"><b><a href=\"#cite_ref-13\">^</a></b></span> <span class=\"reference-text\"><link rel=\"mw-deduplicated-inline-style\" href=\"mw-data:TemplateStyles:r1067248974\"/><cite class=\"citation web cs1\"><a rel=\"nofollow\" class=\"external text\" href=\"https://benfry.com/phd/dissertation/2.html\">\"Basic Example\"</a>. <i>benfry.com</i><span class=\"reference-accessdate\">. Retrieved <span class=\"nowrap\">3 April</span> 2020</span>.</cite><span title=\"ctx_ver=Z39.88-2004&amp;rft_val_fmt=info%3Aofi%2Ffmt%3Akev%3Amtx%3Ajournal&amp;rft.genre=unknown&amp;rft.jtitle=benfry.com&amp;rft.atitle=Basic+Example&amp;rft_id=https%3A%2F%2Fbenfry.com%2Fphd%2Fdissertation%2F2.html&amp;rfr_id=info%3Asid%2Fen.wikipedia.org%3AData+science\" class=\"Z3988\"></span></span>\n",
            "</li>\n",
            "<li id=\"cite_note-14\"><span class=\"mw-cite-backlink\"><b><a href=\"#cite_ref-14\">^</a></b></span> <span class=\"reference-text\"><link rel=\"mw-deduplicated-inline-style\" href=\"mw-data:TemplateStyles:r1067248974\"/><cite class=\"citation web cs1\"><a rel=\"nofollow\" class=\"external text\" href=\"https://magazine.amstat.org/blog/2015/10/01/asa-statement-on-the-role-of-statistics-in-data-science/\">\"ASA Statement on the Role of Statistics in Data Science\"</a>. <i>AMSTATNEWS</i>. <a href=\"/wiki/American_Statistical_Association\" title=\"American Statistical Association\">American Statistical Association</a>. 1 October 2015. <a rel=\"nofollow\" class=\"external text\" href=\"https://web.archive.org/web/20190620184935/https://magazine.amstat.org/blog/2015/10/01/asa-statement-on-the-role-of-statistics-in-data-science/\">Archived</a> from the original on 20 June 2019<span class=\"reference-accessdate\">. Retrieved <span class=\"nowrap\">29 May</span> 2019</span>.</cite><span title=\"ctx_ver=Z39.88-2004&amp;rft_val_fmt=info%3Aofi%2Ffmt%3Akev%3Amtx%3Ajournal&amp;rft.genre=unknown&amp;rft.jtitle=AMSTATNEWS&amp;rft.atitle=ASA+Statement+on+the+Role+of+Statistics+in+Data+Science&amp;rft.date=2015-10-01&amp;rft_id=https%3A%2F%2Fmagazine.amstat.org%2Fblog%2F2015%2F10%2F01%2Fasa-statement-on-the-role-of-statistics-in-data-science%2F&amp;rfr_id=info%3Asid%2Fen.wikipedia.org%3AData+science\" class=\"Z3988\"></span></span>\n",
            "</li>\n",
            "<li id=\"cite_note-15\"><span class=\"mw-cite-backlink\"><b><a href=\"#cite_ref-15\">^</a></b></span> <span class=\"reference-text\"><link rel=\"mw-deduplicated-inline-style\" href=\"mw-data:TemplateStyles:r1067248974\"/><cite class=\"citation web cs1\"><a rel=\"nofollow\" class=\"external text\" href=\"https://www.statisticsviews.com/article/nate-silver-what-i-need-from-statisticians/\">\"Nate Silver: What I need from statisticians\"</a>. <i>Statistics Views</i><span class=\"reference-accessdate\">. Retrieved <span class=\"nowrap\">3 April</span> 2020</span>.</cite><span title=\"ctx_ver=Z39.88-2004&amp;rft_val_fmt=info%3Aofi%2Ffmt%3Akev%3Amtx%3Ajournal&amp;rft.genre=unknown&amp;rft.jtitle=Statistics+Views&amp;rft.atitle=Nate+Silver%3A+What+I+need+from+statisticians&amp;rft_id=https%3A%2F%2Fwww.statisticsviews.com%2Farticle%2Fnate-silver-what-i-need-from-statisticians%2F&amp;rfr_id=info%3Asid%2Fen.wikipedia.org%3AData+science\" class=\"Z3988\"></span></span>\n",
            "</li>\n",
            "<li id=\"cite_note-16\"><span class=\"mw-cite-backlink\"><b><a href=\"#cite_ref-16\">^</a></b></span> <span class=\"reference-text\"><link rel=\"mw-deduplicated-inline-style\" href=\"mw-data:TemplateStyles:r1067248974\"/><cite class=\"citation web cs1\"><a rel=\"nofollow\" class=\"external text\" href=\"http://priceonomics.com/whats-the-difference-between-data-science-and/\">\"What's the Difference Between Data Science and Statistics?\"</a>. <i>Priceonomics</i>. 13 October 2015<span class=\"reference-accessdate\">. Retrieved <span class=\"nowrap\">3 April</span> 2020</span>.</cite><span title=\"ctx_ver=Z39.88-2004&amp;rft_val_fmt=info%3Aofi%2Ffmt%3Akev%3Amtx%3Ajournal&amp;rft.genre=unknown&amp;rft.jtitle=Priceonomics&amp;rft.atitle=What%27s+the+Difference+Between+Data+Science+and+Statistics%3F&amp;rft.date=2015-10-13&amp;rft_id=http%3A%2F%2Fpriceonomics.com%2Fwhats-the-difference-between-data-science-and%2F&amp;rfr_id=info%3Asid%2Fen.wikipedia.org%3AData+science\" class=\"Z3988\"></span></span>\n",
            "</li>\n",
            "<li id=\"cite_note-17\"><span class=\"mw-cite-backlink\"><b><a href=\"#cite_ref-17\">^</a></b></span> <span class=\"reference-text\"><link rel=\"mw-deduplicated-inline-style\" href=\"mw-data:TemplateStyles:r1067248974\"/><cite id=\"CITEREFVasant_Dhar2013\" class=\"citation journal cs1\">Vasant Dhar (1 December 2013). <a rel=\"nofollow\" class=\"external text\" href=\"http://archive.nyu.edu/handle/2451/31553\">\"Data science and prediction\"</a>. <i>Communications of the ACM</i>. <b>56</b> (12): 64–73. <a href=\"/wiki/Doi_(identifier)\" class=\"mw-redirect\" title=\"Doi (identifier)\">doi</a>:<a rel=\"nofollow\" class=\"external text\" href=\"https://doi.org/10.1145%2F2500499\">10.1145/2500499</a>. <a href=\"/wiki/S2CID_(identifier)\" class=\"mw-redirect\" title=\"S2CID (identifier)\">S2CID</a>&#160;<a rel=\"nofollow\" class=\"external text\" href=\"https://api.semanticscholar.org/CorpusID:6107147\">6107147</a>.</cite><span title=\"ctx_ver=Z39.88-2004&amp;rft_val_fmt=info%3Aofi%2Ffmt%3Akev%3Amtx%3Ajournal&amp;rft.genre=article&amp;rft.jtitle=Communications+of+the+ACM&amp;rft.atitle=Data+science+and+prediction&amp;rft.volume=56&amp;rft.issue=12&amp;rft.pages=64-73&amp;rft.date=2013-12-01&amp;rft_id=info%3Adoi%2F10.1145%2F2500499&amp;rft_id=https%3A%2F%2Fapi.semanticscholar.org%2FCorpusID%3A6107147%23id-name%3DS2CID&amp;rft.au=Vasant+Dhar&amp;rft_id=http%3A%2F%2Farchive.nyu.edu%2Fhandle%2F2451%2F31553&amp;rfr_id=info%3Asid%2Fen.wikipedia.org%3AData+science\" class=\"Z3988\"></span></span>\n",
            "</li>\n",
            "<li id=\"cite_note-18\"><span class=\"mw-cite-backlink\"><b><a href=\"#cite_ref-18\">^</a></b></span> <span class=\"reference-text\"><link rel=\"mw-deduplicated-inline-style\" href=\"mw-data:TemplateStyles:r1067248974\"/><cite class=\"citation web cs1\"><a rel=\"nofollow\" class=\"external text\" href=\"https://statmodeling.stat.columbia.edu/2013/11/14/statistics-least-important-part-data-science/\">\"Statistics is the least important part of data science «&#160;Statistical Modeling, Causal Inference, and Social Science\"</a>. <i>statmodeling.stat.columbia.edu</i><span class=\"reference-accessdate\">. Retrieved <span class=\"nowrap\">3 April</span> 2020</span>.</cite><span title=\"ctx_ver=Z39.88-2004&amp;rft_val_fmt=info%3Aofi%2Ffmt%3Akev%3Amtx%3Ajournal&amp;rft.genre=unknown&amp;rft.jtitle=statmodeling.stat.columbia.edu&amp;rft.atitle=Statistics+is+the+least+important+part+of+data+science+%C2%AB+Statistical+Modeling%2C+Causal+Inference%2C+and+Social+Science&amp;rft_id=https%3A%2F%2Fstatmodeling.stat.columbia.edu%2F2013%2F11%2F14%2Fstatistics-least-important-part-data-science%2F&amp;rfr_id=info%3Asid%2Fen.wikipedia.org%3AData+science\" class=\"Z3988\"></span></span>\n",
            "</li>\n",
            "<li id=\"cite_note-:7-19\"><span class=\"mw-cite-backlink\">^ <a href=\"#cite_ref-:7_19-0\"><sup><i><b>a</b></i></sup></a> <a href=\"#cite_ref-:7_19-1\"><sup><i><b>b</b></i></sup></a></span> <span class=\"reference-text\"><link rel=\"mw-deduplicated-inline-style\" href=\"mw-data:TemplateStyles:r1067248974\"/><cite id=\"CITEREFDonoho2015\" class=\"citation web cs1\">Donoho, David (18 September 2015). <a rel=\"nofollow\" class=\"external text\" href=\"http://courses.csail.mit.edu/18.337/2015/docs/50YearsDataScience.pdf\">\"50 years of Data Science\"</a> <span class=\"cs1-format\">(PDF)</span><span class=\"reference-accessdate\">. Retrieved <span class=\"nowrap\">2 April</span> 2020</span>.</cite><span title=\"ctx_ver=Z39.88-2004&amp;rft_val_fmt=info%3Aofi%2Ffmt%3Akev%3Amtx%3Abook&amp;rft.genre=unknown&amp;rft.btitle=50+years+of+Data+Science&amp;rft.date=2015-09-18&amp;rft.aulast=Donoho&amp;rft.aufirst=David&amp;rft_id=http%3A%2F%2Fcourses.csail.mit.edu%2F18.337%2F2015%2Fdocs%2F50YearsDataScience.pdf&amp;rfr_id=info%3Asid%2Fen.wikipedia.org%3AData+science\" class=\"Z3988\"></span></span>\n",
            "</li>\n",
            "<li id=\"cite_note-20\"><span class=\"mw-cite-backlink\"><b><a href=\"#cite_ref-20\">^</a></b></span> <span class=\"reference-text\"><link rel=\"mw-deduplicated-inline-style\" href=\"mw-data:TemplateStyles:r1067248974\"/><cite id=\"CITEREFWu1986\" class=\"citation journal cs1\">Wu, C. F. Jeff (1986). <a rel=\"nofollow\" class=\"external text\" href=\"https://www2.isye.gatech.edu/~jeffwu/publications/fazhan.pdf\">\"Future directions of statistical research in China: a historical perspective\"</a> <span class=\"cs1-format\">(PDF)</span>. <i>Application of Statistics and Management</i>. <b>1</b>: 1–7<span class=\"reference-accessdate\">. Retrieved <span class=\"nowrap\">29 November</span> 2020</span>.</cite><span title=\"ctx_ver=Z39.88-2004&amp;rft_val_fmt=info%3Aofi%2Ffmt%3Akev%3Amtx%3Ajournal&amp;rft.genre=article&amp;rft.jtitle=Application+of+Statistics+and+Management&amp;rft.atitle=Future+directions+of+statistical+research+in+China%3A+a+historical+perspective&amp;rft.volume=1&amp;rft.pages=1-7&amp;rft.date=1986&amp;rft.aulast=Wu&amp;rft.aufirst=C.+F.+Jeff&amp;rft_id=https%3A%2F%2Fwww2.isye.gatech.edu%2F~jeffwu%2Fpublications%2Ffazhan.pdf&amp;rfr_id=info%3Asid%2Fen.wikipedia.org%3AData+science\" class=\"Z3988\"></span></span>\n",
            "</li>\n",
            "<li id=\"cite_note-21\"><span class=\"mw-cite-backlink\"><b><a href=\"#cite_ref-21\">^</a></b></span> <span class=\"reference-text\"><link rel=\"mw-deduplicated-inline-style\" href=\"mw-data:TemplateStyles:r1067248974\"/><cite id=\"CITEREFEscoufierHayashiFichet1995\" class=\"citation book cs1\">Escoufier, Yves; Hayashi, Chikio; Fichet, Bernard, eds. (1995). <i>Data science and its applications</i>. Tokyo: Academic Press/Harcourt Brace. <a href=\"/wiki/ISBN_(identifier)\" class=\"mw-redirect\" title=\"ISBN (identifier)\">ISBN</a>&#160;<a href=\"/wiki/Special:BookSources/0-12-241770-4\" title=\"Special:BookSources/0-12-241770-4\"><bdi>0-12-241770-4</bdi></a>. <a href=\"/wiki/OCLC_(identifier)\" class=\"mw-redirect\" title=\"OCLC (identifier)\">OCLC</a>&#160;<a rel=\"nofollow\" class=\"external text\" href=\"//www.worldcat.org/oclc/489990740\">489990740</a>.</cite><span title=\"ctx_ver=Z39.88-2004&amp;rft_val_fmt=info%3Aofi%2Ffmt%3Akev%3Amtx%3Abook&amp;rft.genre=book&amp;rft.btitle=Data+science+and+its+applications&amp;rft.place=Tokyo&amp;rft.pub=Academic+Press%2FHarcourt+Brace&amp;rft.date=1995&amp;rft_id=info%3Aoclcnum%2F489990740&amp;rft.isbn=0-12-241770-4&amp;rfr_id=info%3Asid%2Fen.wikipedia.org%3AData+science\" class=\"Z3988\"></span></span>\n",
            "</li>\n",
            "<li id=\"cite_note-Murtagh_2018_14-22\"><span class=\"mw-cite-backlink\">^ <a href=\"#cite_ref-Murtagh_2018_14_22-0\"><sup><i><b>a</b></i></sup></a> <a href=\"#cite_ref-Murtagh_2018_14_22-1\"><sup><i><b>b</b></i></sup></a></span> <span class=\"reference-text\"><link rel=\"mw-deduplicated-inline-style\" href=\"mw-data:TemplateStyles:r1067248974\"/><cite id=\"CITEREFMurtaghDevlin2018\" class=\"citation journal cs1\">Murtagh, Fionn; Devlin, Keith (2018). <a rel=\"nofollow\" class=\"external text\" href=\"https://doi.org/10.3390%2Fbdcc2020014\">\"The Development of Data Science: Implications for Education, Employment, Research, and the Data Revolution for Sustainable Development\"</a>. <i>Big Data and Cognitive Computing</i>. <b>2</b> (2): 14. <a href=\"/wiki/Doi_(identifier)\" class=\"mw-redirect\" title=\"Doi (identifier)\">doi</a>:<span class=\"cs1-lock-free\" title=\"Freely accessible\"><a rel=\"nofollow\" class=\"external text\" href=\"https://doi.org/10.3390%2Fbdcc2020014\">10.3390/bdcc2020014</a></span>.</cite><span title=\"ctx_ver=Z39.88-2004&amp;rft_val_fmt=info%3Aofi%2Ffmt%3Akev%3Amtx%3Ajournal&amp;rft.genre=article&amp;rft.jtitle=Big+Data+and+Cognitive+Computing&amp;rft.atitle=The+Development+of+Data+Science%3A+Implications+for+Education%2C+Employment%2C+Research%2C+and+the+Data+Revolution+for+Sustainable+Development&amp;rft.volume=2&amp;rft.issue=2&amp;rft.pages=14&amp;rft.date=2018&amp;rft_id=info%3Adoi%2F10.3390%2Fbdcc2020014&amp;rft.aulast=Murtagh&amp;rft.aufirst=Fionn&amp;rft.au=Devlin%2C+Keith&amp;rft_id=%2F%2Fdoi.org%2F10.3390%252Fbdcc2020014&amp;rfr_id=info%3Asid%2Fen.wikipedia.org%3AData+science\" class=\"Z3988\"></span></span>\n",
            "</li>\n",
            "<li id=\"cite_note-23\"><span class=\"mw-cite-backlink\"><b><a href=\"#cite_ref-23\">^</a></b></span> <span class=\"reference-text\"><link rel=\"mw-deduplicated-inline-style\" href=\"mw-data:TemplateStyles:r1067248974\"/><cite id=\"CITEREFWu\" class=\"citation web cs1\">Wu, C.&#160;F. Jeff. <a rel=\"nofollow\" class=\"external text\" href=\"http://www2.isye.gatech.edu/~jeffwu/presentations/datascience.pdf\">\"Statistics=Data Science?\"</a> <span class=\"cs1-format\">(PDF)</span><span class=\"reference-accessdate\">. Retrieved <span class=\"nowrap\">2 April</span> 2020</span>.</cite><span title=\"ctx_ver=Z39.88-2004&amp;rft_val_fmt=info%3Aofi%2Ffmt%3Akev%3Amtx%3Abook&amp;rft.genre=unknown&amp;rft.btitle=Statistics%3DData+Science%3F&amp;rft.aulast=Wu&amp;rft.aufirst=C.+F.+Jeff&amp;rft_id=http%3A%2F%2Fwww2.isye.gatech.edu%2F~jeffwu%2Fpresentations%2Fdatascience.pdf&amp;rfr_id=info%3Asid%2Fen.wikipedia.org%3AData+science\" class=\"Z3988\"></span></span>\n",
            "</li>\n",
            "<li id=\"cite_note-:1-24\"><span class=\"mw-cite-backlink\">^ <a href=\"#cite_ref-:1_24-0\"><sup><i><b>a</b></i></sup></a> <a href=\"#cite_ref-:1_24-1\"><sup><i><b>b</b></i></sup></a> <a href=\"#cite_ref-:1_24-2\"><sup><i><b>c</b></i></sup></a></span> <span class=\"reference-text\"><link rel=\"mw-deduplicated-inline-style\" href=\"mw-data:TemplateStyles:r1067248974\"/><cite id=\"CITEREFPress\" class=\"citation web cs1\">Press, Gil. <a rel=\"nofollow\" class=\"external text\" href=\"https://www.forbes.com/sites/gilpress/2013/05/28/a-very-short-history-of-data-science/\">\"A Very Short History of Data Science\"</a>. <i>Forbes</i><span class=\"reference-accessdate\">. Retrieved <span class=\"nowrap\">3 April</span> 2020</span>.</cite><span title=\"ctx_ver=Z39.88-2004&amp;rft_val_fmt=info%3Aofi%2Ffmt%3Akev%3Amtx%3Ajournal&amp;rft.genre=unknown&amp;rft.jtitle=Forbes&amp;rft.atitle=A+Very+Short+History+of+Data+Science&amp;rft.aulast=Press&amp;rft.aufirst=Gil&amp;rft_id=https%3A%2F%2Fwww.forbes.com%2Fsites%2Fgilpress%2F2013%2F05%2F28%2Fa-very-short-history-of-data-science%2F&amp;rfr_id=info%3Asid%2Fen.wikipedia.org%3AData+science\" class=\"Z3988\"></span></span>\n",
            "</li>\n",
            "<li id=\"cite_note-25\"><span class=\"mw-cite-backlink\"><b><a href=\"#cite_ref-25\">^</a></b></span> <span class=\"reference-text\"><link rel=\"mw-deduplicated-inline-style\" href=\"mw-data:TemplateStyles:r1067248974\"/><cite id=\"CITEREFDavenport2012\" class=\"citation magazine cs1\">Davenport, Thomas (1 October 2012). <a rel=\"nofollow\" class=\"external text\" href=\"https://hbr.org/2012/10/data-scientist-the-sexiest-job-of-the-21st-century\">\"Data Scientist: The Sexiest Job of the 21st Century\"</a>. <i><a href=\"/wiki/Harvard_Business_Review\" title=\"Harvard Business Review\">Harvard Business Review</a></i><span class=\"reference-accessdate\">. Retrieved <span class=\"nowrap\">10 October</span> 2022</span>.</cite><span title=\"ctx_ver=Z39.88-2004&amp;rft_val_fmt=info%3Aofi%2Ffmt%3Akev%3Amtx%3Ajournal&amp;rft.genre=article&amp;rft.jtitle=Harvard+Business+Review&amp;rft.atitle=Data+Scientist%3A+The+Sexiest+Job+of+the+21st+Century&amp;rft.date=2012-10-01&amp;rft.aulast=Davenport&amp;rft.aufirst=Thomas&amp;rft_id=https%3A%2F%2Fhbr.org%2F2012%2F10%2Fdata-scientist-the-sexiest-job-of-the-21st-century&amp;rfr_id=info%3Asid%2Fen.wikipedia.org%3AData+science\" class=\"Z3988\"></span></span>\n",
            "</li>\n",
            "<li id=\"cite_note-26\"><span class=\"mw-cite-backlink\"><b><a href=\"#cite_ref-26\">^</a></b></span> <span class=\"reference-text\"><link rel=\"mw-deduplicated-inline-style\" href=\"mw-data:TemplateStyles:r1067248974\"/><cite id=\"CITEREFMiller2013\" class=\"citation news cs1\">Miller, Claire (4 April 2013). <a rel=\"nofollow\" class=\"external text\" href=\"https://www.nytimes.com/2013/04/14/education/edlife/universities-offer-courses-in-a-hot-new-field-data-science.html\">\"Data Science: The Numbers of Our Lives\"</a>. <i><a href=\"/wiki/New_York_Times\" class=\"mw-redirect\" title=\"New York Times\">New York Times</a></i>. <a href=\"/wiki/New_York_City\" title=\"New York City\">New York City</a><span class=\"reference-accessdate\">. Retrieved <span class=\"nowrap\">10 October</span> 2022</span>.</cite><span title=\"ctx_ver=Z39.88-2004&amp;rft_val_fmt=info%3Aofi%2Ffmt%3Akev%3Amtx%3Ajournal&amp;rft.genre=article&amp;rft.jtitle=New+York+Times&amp;rft.atitle=Data+Science%3A+The+Numbers+of+Our+Lives&amp;rft.date=2013-04-04&amp;rft.aulast=Miller&amp;rft.aufirst=Claire&amp;rft_id=https%3A%2F%2Fwww.nytimes.com%2F2013%2F04%2F14%2Feducation%2Fedlife%2Funiversities-offer-courses-in-a-hot-new-field-data-science.html&amp;rfr_id=info%3Asid%2Fen.wikipedia.org%3AData+science\" class=\"Z3988\"></span></span>\n",
            "</li>\n",
            "<li id=\"cite_note-27\"><span class=\"mw-cite-backlink\"><b><a href=\"#cite_ref-27\">^</a></b></span> <span class=\"reference-text\"><link rel=\"mw-deduplicated-inline-style\" href=\"mw-data:TemplateStyles:r1067248974\"/><cite id=\"CITEREFBorchers2015\" class=\"citation news cs1\">Borchers, Callum (11 November 2015). <a rel=\"nofollow\" class=\"external text\" href=\"https://www.bostonglobe.com/business/2015/11/11/behind-scenes-sexiest-job-century/Kc1cvXIu31DfHhVmyRQeIJ/story.html\">\"Behind the scenes of the 'sexiest job of the 21st century'<span class=\"cs1-kern-right\"></span>\"</a>. <i><a href=\"/wiki/Boston_Globe\" class=\"mw-redirect\" title=\"Boston Globe\">Boston Globe</a></i>. <a href=\"/wiki/Boston\" title=\"Boston\">Boston</a><span class=\"reference-accessdate\">. Retrieved <span class=\"nowrap\">10 October</span> 2022</span>.</cite><span title=\"ctx_ver=Z39.88-2004&amp;rft_val_fmt=info%3Aofi%2Ffmt%3Akev%3Amtx%3Ajournal&amp;rft.genre=article&amp;rft.jtitle=Boston+Globe&amp;rft.atitle=Behind+the+scenes+of+the+%27sexiest+job+of+the+21st+century%27&amp;rft.date=2015-11-11&amp;rft.aulast=Borchers&amp;rft.aufirst=Callum&amp;rft_id=https%3A%2F%2Fwww.bostonglobe.com%2Fbusiness%2F2015%2F11%2F11%2Fbehind-scenes-sexiest-job-century%2FKc1cvXIu31DfHhVmyRQeIJ%2Fstory.html&amp;rfr_id=info%3Asid%2Fen.wikipedia.org%3AData+science\" class=\"Z3988\"></span></span>\n",
            "</li>\n",
            "<li id=\"cite_note-28\"><span class=\"mw-cite-backlink\"><b><a href=\"#cite_ref-28\">^</a></b></span> <span class=\"reference-text\"><link rel=\"mw-deduplicated-inline-style\" href=\"mw-data:TemplateStyles:r1067248974\"/><cite id=\"CITEREFDavenport2022\" class=\"citation magazine cs1\">Davenport, Thomas (15 July 2022). <a rel=\"nofollow\" class=\"external text\" href=\"https://hbr.org/2022/07/is-data-scientist-still-the-sexiest-job-of-the-21st-century\">\"Is Data Scientist Still the Sexiest Job of the 21st Century?\"</a>. <i><a href=\"/wiki/Harvard_Business_Review\" title=\"Harvard Business Review\">Harvard Business Review</a></i><span class=\"reference-accessdate\">. Retrieved <span class=\"nowrap\">10 October</span> 2022</span>.</cite><span title=\"ctx_ver=Z39.88-2004&amp;rft_val_fmt=info%3Aofi%2Ffmt%3Akev%3Amtx%3Ajournal&amp;rft.genre=article&amp;rft.jtitle=Harvard+Business+Review&amp;rft.atitle=Is+Data+Scientist+Still+the+Sexiest+Job+of+the+21st+Century%3F&amp;rft.date=2022-07-15&amp;rft.aulast=Davenport&amp;rft.aufirst=Thomas&amp;rft_id=https%3A%2F%2Fhbr.org%2F2022%2F07%2Fis-data-scientist-still-the-sexiest-job-of-the-21st-century&amp;rfr_id=info%3Asid%2Fen.wikipedia.org%3AData+science\" class=\"Z3988\"></span></span>\n",
            "</li>\n",
            "<li id=\"cite_note-29\"><span class=\"mw-cite-backlink\"><b><a href=\"#cite_ref-29\">^</a></b></span> <span class=\"reference-text\"><link rel=\"mw-deduplicated-inline-style\" href=\"mw-data:TemplateStyles:r1067248974\"/><cite id=\"CITEREFGupta2015\" class=\"citation web cs1\">Gupta, Shanti (11 December 2015). <a rel=\"nofollow\" class=\"external text\" href=\"https://www.stat.purdue.edu/~wsc/\">\"William S. Cleveland\"</a><span class=\"reference-accessdate\">. Retrieved <span class=\"nowrap\">2 April</span> 2020</span>.</cite><span title=\"ctx_ver=Z39.88-2004&amp;rft_val_fmt=info%3Aofi%2Ffmt%3Akev%3Amtx%3Abook&amp;rft.genre=unknown&amp;rft.btitle=William+S.+Cleveland&amp;rft.date=2015-12-11&amp;rft.aulast=Gupta&amp;rft.aufirst=Shanti&amp;rft_id=https%3A%2F%2Fwww.stat.purdue.edu%2F~wsc%2F&amp;rfr_id=info%3Asid%2Fen.wikipedia.org%3AData+science\" class=\"Z3988\"></span></span>\n",
            "</li>\n",
            "<li id=\"cite_note-30\"><span class=\"mw-cite-backlink\"><b><a href=\"#cite_ref-30\">^</a></b></span> <span class=\"reference-text\"><link rel=\"mw-deduplicated-inline-style\" href=\"mw-data:TemplateStyles:r1067248974\"/><cite id=\"CITEREFTalley2016\" class=\"citation news cs1\">Talley, Jill (1 June 2016). <a rel=\"nofollow\" class=\"external text\" href=\"https://magazine.amstat.org/blog/2016/06/01/datascience-2/\">\"ASA Expands Scope, Outreach to Foster Growth, Collaboration in Data Science\"</a>. <i>Amstat News</i>. American Statistical Association.</cite><span title=\"ctx_ver=Z39.88-2004&amp;rft_val_fmt=info%3Aofi%2Ffmt%3Akev%3Amtx%3Ajournal&amp;rft.genre=article&amp;rft.jtitle=Amstat+News&amp;rft.atitle=ASA+Expands+Scope%2C+Outreach+to+Foster+Growth%2C+Collaboration+in+Data+Science&amp;rft.date=2016-06-01&amp;rft.aulast=Talley&amp;rft.aufirst=Jill&amp;rft_id=https%3A%2F%2Fmagazine.amstat.org%2Fblog%2F2016%2F06%2F01%2Fdatascience-2%2F&amp;rfr_id=info%3Asid%2Fen.wikipedia.org%3AData+science\" class=\"Z3988\"></span></span>\n",
            "</li>\n",
            "<li id=\"cite_note-31\"><span class=\"mw-cite-backlink\"><b><a href=\"#cite_ref-31\">^</a></b></span> <span class=\"reference-text\"><link rel=\"mw-deduplicated-inline-style\" href=\"mw-data:TemplateStyles:r1067248974\"/><cite id=\"CITEREFDavenportPatil2012\" class=\"citation news cs1\">Davenport, Thomas H.; Patil, D. J. (1 October 2012). <a rel=\"nofollow\" class=\"external text\" href=\"https://hbr.org/2012/10/data-scientist-the-sexiest-job-of-the-21st-century\">\"Data Scientist: The Sexiest Job of the 21st Century\"</a>. <i>Harvard Business Review</i>. No.&#160;October 2012. <a href=\"/wiki/ISSN_(identifier)\" class=\"mw-redirect\" title=\"ISSN (identifier)\">ISSN</a>&#160;<a rel=\"nofollow\" class=\"external text\" href=\"//www.worldcat.org/issn/0017-8012\">0017-8012</a><span class=\"reference-accessdate\">. Retrieved <span class=\"nowrap\">3 April</span> 2020</span>.</cite><span title=\"ctx_ver=Z39.88-2004&amp;rft_val_fmt=info%3Aofi%2Ffmt%3Akev%3Amtx%3Ajournal&amp;rft.genre=article&amp;rft.jtitle=Harvard+Business+Review&amp;rft.atitle=Data+Scientist%3A+The+Sexiest+Job+of+the+21st+Century&amp;rft.issue=October+2012&amp;rft.date=2012-10-01&amp;rft.issn=0017-8012&amp;rft.aulast=Davenport&amp;rft.aufirst=Thomas+H.&amp;rft.au=Patil%2C+D.+J.&amp;rft_id=https%3A%2F%2Fhbr.org%2F2012%2F10%2Fdata-scientist-the-sexiest-job-of-the-21st-century&amp;rfr_id=info%3Asid%2Fen.wikipedia.org%3AData+science\" class=\"Z3988\"></span></span>\n",
            "</li>\n",
            "<li id=\"cite_note-32\"><span class=\"mw-cite-backlink\"><b><a href=\"#cite_ref-32\">^</a></b></span> <span class=\"reference-text\"><link rel=\"mw-deduplicated-inline-style\" href=\"mw-data:TemplateStyles:r1067248974\"/><cite class=\"citation web cs1\"><a rel=\"nofollow\" class=\"external text\" href=\"https://www.nsf.gov/pubs/2005/nsb0540/\">\"US NSF – NSB-05-40, Long-Lived Digital Data Collections Enabling Research and Education in the 21st Century\"</a>. <i>www.nsf.gov</i><span class=\"reference-accessdate\">. Retrieved <span class=\"nowrap\">3 April</span> 2020</span>.</cite><span title=\"ctx_ver=Z39.88-2004&amp;rft_val_fmt=info%3Aofi%2Ffmt%3Akev%3Amtx%3Ajournal&amp;rft.genre=unknown&amp;rft.jtitle=www.nsf.gov&amp;rft.atitle=US+NSF+%E2%80%93+NSB-05-40%2C+Long-Lived+Digital+Data+Collections+Enabling+Research+and+Education+in+the+21st+Century&amp;rft_id=https%3A%2F%2Fwww.nsf.gov%2Fpubs%2F2005%2Fnsb0540%2F&amp;rfr_id=info%3Asid%2Fen.wikipedia.org%3AData+science\" class=\"Z3988\"></span></span>\n",
            "</li>\n",
            "<li id=\"cite_note-33\"><span class=\"mw-cite-backlink\"><b><a href=\"#cite_ref-33\">^</a></b></span> <span class=\"reference-text\"><link rel=\"mw-deduplicated-inline-style\" href=\"mw-data:TemplateStyles:r1067248974\"/><cite id=\"CITEREFPress\" class=\"citation web cs1\">Press, Gil. <a rel=\"nofollow\" class=\"external text\" href=\"https://www.forbes.com/sites/gilpress/2013/08/19/data-science-whats-the-half-life-of-a-buzzword/\">\"Data Science: What's The Half-Life of a Buzzword?\"</a>. <i>Forbes</i><span class=\"reference-accessdate\">. Retrieved <span class=\"nowrap\">3 April</span> 2020</span>.</cite><span title=\"ctx_ver=Z39.88-2004&amp;rft_val_fmt=info%3Aofi%2Ffmt%3Akev%3Amtx%3Ajournal&amp;rft.genre=unknown&amp;rft.jtitle=Forbes&amp;rft.atitle=Data+Science%3A+What%27s+The+Half-Life+of+a+Buzzword%3F&amp;rft.aulast=Press&amp;rft.aufirst=Gil&amp;rft_id=https%3A%2F%2Fwww.forbes.com%2Fsites%2Fgilpress%2F2013%2F08%2F19%2Fdata-science-whats-the-half-life-of-a-buzzword%2F&amp;rfr_id=info%3Asid%2Fen.wikipedia.org%3AData+science\" class=\"Z3988\"></span></span>\n",
            "</li>\n",
            "<li id=\"cite_note-:5-34\"><span class=\"mw-cite-backlink\"><b><a href=\"#cite_ref-:5_34-0\">^</a></b></span> <span class=\"reference-text\"><link rel=\"mw-deduplicated-inline-style\" href=\"mw-data:TemplateStyles:r1067248974\"/><cite id=\"CITEREFPham\" class=\"citation web cs1\">Pham, Peter. <a rel=\"nofollow\" class=\"external text\" href=\"https://www.forbes.com/sites/peterpham/2015/08/28/the-impacts-of-big-data-that-you-may-not-have-heard-of/\">\"The Impacts of Big Data That You May Not Have Heard Of\"</a>. <i>Forbes</i><span class=\"reference-accessdate\">. Retrieved <span class=\"nowrap\">3 April</span> 2020</span>.</cite><span title=\"ctx_ver=Z39.88-2004&amp;rft_val_fmt=info%3Aofi%2Ffmt%3Akev%3Amtx%3Ajournal&amp;rft.genre=unknown&amp;rft.jtitle=Forbes&amp;rft.atitle=The+Impacts+of+Big+Data+That+You+May+Not+Have+Heard+Of&amp;rft.aulast=Pham&amp;rft.aufirst=Peter&amp;rft_id=https%3A%2F%2Fwww.forbes.com%2Fsites%2Fpeterpham%2F2015%2F08%2F28%2Fthe-impacts-of-big-data-that-you-may-not-have-heard-of%2F&amp;rfr_id=info%3Asid%2Fen.wikipedia.org%3AData+science\" class=\"Z3988\"></span></span>\n",
            "</li>\n",
            "<li id=\"cite_note-:6-35\"><span class=\"mw-cite-backlink\"><b><a href=\"#cite_ref-:6_35-0\">^</a></b></span> <span class=\"reference-text\"><link rel=\"mw-deduplicated-inline-style\" href=\"mw-data:TemplateStyles:r1067248974\"/><cite id=\"CITEREFMartin2019\" class=\"citation web cs1\">Martin, Sophia (20 September 2019). <a rel=\"nofollow\" class=\"external text\" href=\"https://towardsdatascience.com/how-data-science-will-impact-future-of-businesses-7f11f5699c4d\">\"How Data Science will Impact Future of Businesses?\"</a>. <i>Medium</i><span class=\"reference-accessdate\">. Retrieved <span class=\"nowrap\">3 April</span> 2020</span>.</cite><span title=\"ctx_ver=Z39.88-2004&amp;rft_val_fmt=info%3Aofi%2Ffmt%3Akev%3Amtx%3Ajournal&amp;rft.genre=unknown&amp;rft.jtitle=Medium&amp;rft.atitle=How+Data+Science+will+Impact+Future+of+Businesses%3F&amp;rft.date=2019-09-20&amp;rft.aulast=Martin&amp;rft.aufirst=Sophia&amp;rft_id=https%3A%2F%2Ftowardsdatascience.com%2Fhow-data-science-will-impact-future-of-businesses-7f11f5699c4d&amp;rfr_id=info%3Asid%2Fen.wikipedia.org%3AData+science\" class=\"Z3988\"></span></span>\n",
            "</li>\n",
            "</ol></div>\n",
            "<div class=\"navbox-styles nomobile\"><style data-mw-deduplicate=\"TemplateStyles:r1061467846\">.mw-parser-output .navbox{box-sizing:border-box;border:1px solid #a2a9b1;width:100%;clear:both;font-size:88%;text-align:center;padding:1px;margin:1em auto 0}.mw-parser-output .navbox .navbox{margin-top:0}.mw-parser-output .navbox+.navbox,.mw-parser-output .navbox+.navbox-styles+.navbox{margin-top:-1px}.mw-parser-output .navbox-inner,.mw-parser-output .navbox-subgroup{width:100%}.mw-parser-output .navbox-group,.mw-parser-output .navbox-title,.mw-parser-output .navbox-abovebelow{padding:0.25em 1em;line-height:1.5em;text-align:center}.mw-parser-output .navbox-group{white-space:nowrap;text-align:right}.mw-parser-output .navbox,.mw-parser-output .navbox-subgroup{background-color:#fdfdfd}.mw-parser-output .navbox-list{line-height:1.5em;border-color:#fdfdfd}.mw-parser-output .navbox-list-with-group{text-align:left;border-left-width:2px;border-left-style:solid}.mw-parser-output tr+tr>.navbox-abovebelow,.mw-parser-output tr+tr>.navbox-group,.mw-parser-output tr+tr>.navbox-image,.mw-parser-output tr+tr>.navbox-list{border-top:2px solid #fdfdfd}.mw-parser-output .navbox-title{background-color:#ccf}.mw-parser-output .navbox-abovebelow,.mw-parser-output .navbox-group,.mw-parser-output .navbox-subgroup .navbox-title{background-color:#ddf}.mw-parser-output .navbox-subgroup .navbox-group,.mw-parser-output .navbox-subgroup .navbox-abovebelow{background-color:#e6e6ff}.mw-parser-output .navbox-even{background-color:#f7f7f7}.mw-parser-output .navbox-odd{background-color:transparent}.mw-parser-output .navbox .hlist td dl,.mw-parser-output .navbox .hlist td ol,.mw-parser-output .navbox .hlist td ul,.mw-parser-output .navbox td.hlist dl,.mw-parser-output .navbox td.hlist ol,.mw-parser-output .navbox td.hlist ul{padding:0.125em 0}.mw-parser-output .navbox .navbar{display:block;font-size:100%}.mw-parser-output .navbox-title .navbar{float:left;text-align:left;margin-right:0.5em}</style></div><div role=\"navigation\" class=\"navbox\" aria-labelledby=\"Data\" style=\"padding:3px\"><table class=\"nowraplinks mw-collapsible autocollapse navbox-inner\" style=\"border-spacing:0;background:transparent;color:inherit\"><tbody><tr><th scope=\"col\" class=\"navbox-title\" colspan=\"2\"><style data-mw-deduplicate=\"TemplateStyles:r1063604349\">.mw-parser-output .navbar{display:inline;font-size:88%;font-weight:normal}.mw-parser-output .navbar-collapse{float:left;text-align:left}.mw-parser-output .navbar-boxtext{word-spacing:0}.mw-parser-output .navbar ul{display:inline-block;white-space:nowrap;line-height:inherit}.mw-parser-output .navbar-brackets::before{margin-right:-0.125em;content:\"[ \"}.mw-parser-output .navbar-brackets::after{margin-left:-0.125em;content:\" ]\"}.mw-parser-output .navbar li{word-spacing:-0.125em}.mw-parser-output .navbar a>span,.mw-parser-output .navbar a>abbr{text-decoration:inherit}.mw-parser-output .navbar-mini abbr{font-variant:small-caps;border-bottom:none;text-decoration:none;cursor:inherit}.mw-parser-output .navbar-ct-full{font-size:114%;margin:0 7em}.mw-parser-output .navbar-ct-mini{font-size:114%;margin:0 4em}</style><div class=\"navbar plainlinks hlist navbar-mini\"><ul><li class=\"nv-view\"><a href=\"/wiki/Template:Data\" title=\"Template:Data\"><abbr title=\"View this template\" style=\";;background:none transparent;border:none;box-shadow:none;padding:0;\">v</abbr></a></li><li class=\"nv-talk\"><a href=\"/wiki/Template_talk:Data\" title=\"Template talk:Data\"><abbr title=\"Discuss this template\" style=\";;background:none transparent;border:none;box-shadow:none;padding:0;\">t</abbr></a></li><li class=\"nv-edit\"><a class=\"external text\" href=\"https://en.wikipedia.org/w/index.php?title=Template:Data&amp;action=edit\"><abbr title=\"Edit this template\" style=\";;background:none transparent;border:none;box-shadow:none;padding:0;\">e</abbr></a></li></ul></div><div id=\"Data\" style=\"font-size:114%;margin:0 4em\"><a href=\"/wiki/Data_(computing)\" class=\"mw-redirect\" title=\"Data (computing)\">Data</a></div></th></tr><tr><td colspan=\"2\" class=\"navbox-list navbox-odd hlist\" style=\"width:100%;padding:0\"><div style=\"padding:0 0.25em\">\n",
            "<ul><li><a href=\"/wiki/Data_augmentation\" title=\"Data augmentation\">Augmentation</a></li>\n",
            "<li><a href=\"/wiki/Data_analysis\" title=\"Data analysis\">Analysis</a></li>\n",
            "<li><a href=\"/wiki/Data_archaeology\" title=\"Data archaeology\">Archaeology</a></li>\n",
            "<li><a href=\"/wiki/Big_data\" title=\"Big data\">Big</a></li>\n",
            "<li><a href=\"/wiki/Data_cleansing\" title=\"Data cleansing\">Cleansing</a></li>\n",
            "<li><a href=\"/wiki/Data_collection\" title=\"Data collection\">Collection</a></li>\n",
            "<li><a href=\"/wiki/Data_compression\" title=\"Data compression\">Compression</a></li>\n",
            "<li><a href=\"/wiki/Data_corruption\" title=\"Data corruption\">Corruption</a></li>\n",
            "<li><a href=\"/wiki/Data_curation\" title=\"Data curation\">Curation</a></li>\n",
            "<li><a href=\"/wiki/Data_degradation\" title=\"Data degradation\">Degradation</a></li>\n",
            "<li><a href=\"/wiki/Data_editing\" title=\"Data editing\">Editing</a></li>\n",
            "<li><a href=\"/wiki/Extract,_transform,_load\" title=\"Extract, transform, load\">ETL</a>/<a href=\"/wiki/Extract,_load,_transform\" title=\"Extract, load, transform\">ELT</a>\n",
            "<ul><li><a href=\"/wiki/Data_extraction\" title=\"Data extraction\">Extract</a></li>\n",
            "<li><a href=\"/wiki/Data_transformation\" class=\"mw-redirect\" title=\"Data transformation\">Transform</a></li>\n",
            "<li><a href=\"/wiki/Data_loading\" class=\"mw-redirect\" title=\"Data loading\">Load</a></li></ul></li>\n",
            "<li><a href=\"/wiki/Data_farming\" title=\"Data farming\">Farming</a></li>\n",
            "<li><a href=\"/wiki/Data_format_management\" title=\"Data format management\">Format management</a></li>\n",
            "<li><a href=\"/wiki/Data_fusion\" title=\"Data fusion\">Fusion</a></li>\n",
            "<li><a href=\"/wiki/Data_integration\" title=\"Data integration\">Integration</a></li>\n",
            "<li><a href=\"/wiki/Data_integrity\" title=\"Data integrity\">Integrity</a></li>\n",
            "<li><a href=\"/wiki/Data_library\" title=\"Data library\">Library</a></li>\n",
            "<li><a href=\"/wiki/Data_lineage\" title=\"Data lineage\">Lineage</a></li>\n",
            "<li><a href=\"/wiki/Data_loss\" title=\"Data loss\">Loss</a></li>\n",
            "<li><a href=\"/wiki/Data_management\" title=\"Data management\">Management</a></li>\n",
            "<li><a href=\"/wiki/Data_migration\" title=\"Data migration\">Migration</a></li>\n",
            "<li><a href=\"/wiki/Data_mining\" title=\"Data mining\">Mining</a></li>\n",
            "<li><a href=\"/wiki/Data_philanthropy\" title=\"Data philanthropy\">Philanthropy</a></li>\n",
            "<li><a href=\"/wiki/Data_pre-processing\" title=\"Data pre-processing\">Pre-processing</a></li>\n",
            "<li><a href=\"/wiki/Data_preservation\" title=\"Data preservation\">Preservation</a></li>\n",
            "<li><a href=\"/wiki/Information_privacy\" title=\"Information privacy\">Protection (privacy)</a></li>\n",
            "<li><a href=\"/wiki/Data_publishing\" title=\"Data publishing\">Publishing</a></li>\n",
            "<li><a href=\"/wiki/Data_recovery\" title=\"Data recovery\">Recovery</a></li>\n",
            "<li><a href=\"/wiki/Data_reduction\" title=\"Data reduction\">Reduction</a></li>\n",
            "<li><a href=\"/wiki/Data_retention\" title=\"Data retention\">Retention</a></li>\n",
            "<li><a href=\"/wiki/Data_quality\" title=\"Data quality\">Quality</a></li>\n",
            "<li><a class=\"mw-selflink selflink\">Science</a></li>\n",
            "<li><a href=\"/wiki/Data_scraping\" title=\"Data scraping\">Scraping</a></li>\n",
            "<li><a href=\"/wiki/Data_scrubbing\" title=\"Data scrubbing\">Scrubbing</a></li>\n",
            "<li><a href=\"/wiki/Data_security\" title=\"Data security\">Security</a></li>\n",
            "<li><a href=\"/wiki/Data_steward\" title=\"Data steward\">Stewardship</a></li>\n",
            "<li><a href=\"/wiki/Data_storage\" title=\"Data storage\">Storage</a></li>\n",
            "<li><a href=\"/wiki/Data_validation\" title=\"Data validation\">Validation</a></li>\n",
            "<li><a href=\"/wiki/Data_warehouse\" title=\"Data warehouse\">Warehouse</a></li>\n",
            "<li><a href=\"/wiki/Data_wrangling\" title=\"Data wrangling\">Wrangling/munging</a></li></ul>\n",
            "</div></td></tr></tbody></table></div>\n",
            "<!-- \n",
            "NewPP limit report\n",
            "Parsed by mw2327\n",
            "Cached time: 20221107183952\n",
            "Cache expiry: 1814400\n",
            "Reduced expiry: false\n",
            "Complications: [vary‐revision‐sha1, show‐toc]\n",
            "CPU time usage: 0.332 seconds\n",
            "Real time usage: 0.444 seconds\n",
            "Preprocessor visited node count: 1966/1000000\n",
            "Post‐expand include size: 71860/2097152 bytes\n",
            "Template argument size: 1033/2097152 bytes\n",
            "Highest expansion depth: 12/100\n",
            "Expensive parser function count: 2/500\n",
            "Unstrip recursion depth: 1/20\n",
            "Unstrip post‐expand size: 111052/5000000 bytes\n",
            "Lua time usage: 0.211/10.000 seconds\n",
            "Lua memory usage: 6047886/52428800 bytes\n",
            "Number of Wikibase entities loaded: 0/400\n",
            "-->\n",
            "<!--\n",
            "Transclusion expansion time report (%,ms,calls,template)\n",
            "100.00%  390.054      1 -total\n",
            " 57.77%  225.338      1 Template:Reflist\n",
            " 24.10%   94.020      8 Template:Cite_journal\n",
            " 17.91%   69.849      1 Template:Short_description\n",
            " 15.08%   58.832     18 Template:Cite_web\n",
            " 10.50%   40.954      1 Template:Data\n",
            "  9.90%   38.610      1 Template:Navbox\n",
            "  8.34%   32.512      2 Template:Pagetype\n",
            "  6.61%   25.765      4 Template:Main_other\n",
            "  6.11%   23.848      1 Template:Distinguish\n",
            "-->\n",
            "\n",
            "<!-- Saved in parser cache with key enwiki:pcache:idhash:35458904-0!canonical and timestamp 20221107183952 and revision id 1120574273.\n",
            " -->\n",
            "</div><noscript><img src=\"//en.wikipedia.org/wiki/Special:CentralAutoLogin/start?type=1x1\" alt=\"\" title=\"\" width=\"1\" height=\"1\" style=\"border: none; position: absolute;\" /></noscript>\n",
            "<div class=\"printfooter\" data-nosnippet=\"\">Retrieved from \"<a dir=\"ltr\" href=\"https://en.wikipedia.org/w/index.php?title=Data_science&amp;oldid=1120574273\">https://en.wikipedia.org/w/index.php?title=Data_science&amp;oldid=1120574273</a>\"</div></div>\n",
            "\t\t<div id=\"catlinks\" class=\"catlinks\" data-mw=\"interface\"><div id=\"mw-normal-catlinks\" class=\"mw-normal-catlinks\"><a href=\"/wiki/Help:Category\" title=\"Help:Category\">Categories</a>: <ul><li><a href=\"/wiki/Category:Information_science\" title=\"Category:Information science\">Information science</a></li><li><a href=\"/wiki/Category:Computer_occupations\" title=\"Category:Computer occupations\">Computer occupations</a></li><li><a href=\"/wiki/Category:Computational_fields_of_study\" title=\"Category:Computational fields of study\">Computational fields of study</a></li><li><a href=\"/wiki/Category:Data_analysis\" title=\"Category:Data analysis\">Data analysis</a></li></ul></div><div id=\"mw-hidden-catlinks\" class=\"mw-hidden-catlinks mw-hidden-cats-hidden\">Hidden categories: <ul><li><a href=\"/wiki/Category:Articles_with_short_description\" title=\"Category:Articles with short description\">Articles with short description</a></li><li><a href=\"/wiki/Category:Short_description_matches_Wikidata\" title=\"Category:Short description matches Wikidata\">Short description matches Wikidata</a></li><li><a href=\"/wiki/Category:Use_dmy_dates_from_August_2021\" title=\"Category:Use dmy dates from August 2021\">Use dmy dates from August 2021</a></li></ul></div></div>\n",
            "\t</div>\n",
            "</div>\n",
            "\n",
            "<div id=\"mw-navigation\">\n",
            "\t<h2>Navigation menu</h2>\n",
            "\t<div id=\"mw-head\">\n",
            "\t\t\n",
            "\n",
            "<nav id=\"p-personal\" class=\"vector-menu mw-portlet mw-portlet-personal vector-user-menu-legacy\" aria-labelledby=\"p-personal-label\" role=\"navigation\"  >\n",
            "\t<h3\n",
            "\t\tid=\"p-personal-label\"\n",
            "\t\t\n",
            "\t\tclass=\"vector-menu-heading \"\n",
            "\t>\n",
            "\t\t<span class=\"vector-menu-heading-label\">Personal tools</span>\n",
            "\t</h3>\n",
            "\t<div class=\"vector-menu-content\">\n",
            "\t\t\n",
            "\t\t<ul class=\"vector-menu-content-list\"><li id=\"pt-anonuserpage\" class=\"mw-list-item\"><span title=\"The user page for the IP address you are editing as\">Not logged in</span></li><li id=\"pt-anontalk\" class=\"mw-list-item\"><a href=\"/wiki/Special:MyTalk\" title=\"Discussion about edits from this IP address [n]\" accesskey=\"n\"><span>Talk</span></a></li><li id=\"pt-anoncontribs\" class=\"mw-list-item\"><a href=\"/wiki/Special:MyContributions\" title=\"A list of edits made from this IP address [y]\" accesskey=\"y\"><span>Contributions</span></a></li><li id=\"pt-createaccount\" class=\"mw-list-item\"><a href=\"/w/index.php?title=Special:CreateAccount&amp;returnto=Data+science\" title=\"You are encouraged to create an account and log in; however, it is not mandatory\"><span>Create account</span></a></li><li id=\"pt-login\" class=\"mw-list-item\"><a href=\"/w/index.php?title=Special:UserLogin&amp;returnto=Data+science\" title=\"You&#039;re encouraged to log in; however, it&#039;s not mandatory. [o]\" accesskey=\"o\"><span>Log in</span></a></li></ul>\n",
            "\t\t\n",
            "\t</div>\n",
            "</nav>\n",
            "\n",
            "\t\t<div id=\"left-navigation\">\n",
            "\t\t\t\n",
            "\n",
            "<nav id=\"p-namespaces\" class=\"vector-menu mw-portlet mw-portlet-namespaces vector-menu-tabs vector-menu-tabs-legacy\" aria-labelledby=\"p-namespaces-label\" role=\"navigation\"  >\n",
            "\t<h3\n",
            "\t\tid=\"p-namespaces-label\"\n",
            "\t\t\n",
            "\t\tclass=\"vector-menu-heading \"\n",
            "\t>\n",
            "\t\t<span class=\"vector-menu-heading-label\">Namespaces</span>\n",
            "\t</h3>\n",
            "\t<div class=\"vector-menu-content\">\n",
            "\t\t\n",
            "\t\t<ul class=\"vector-menu-content-list\"><li id=\"ca-nstab-main\" class=\"selected mw-list-item\"><a href=\"/wiki/Data_science\" title=\"View the content page [c]\" accesskey=\"c\"><span>Article</span></a></li><li id=\"ca-talk\" class=\"mw-list-item\"><a href=\"/wiki/Talk:Data_science\" rel=\"discussion\" title=\"Discuss improvements to the content page [t]\" accesskey=\"t\"><span>Talk</span></a></li></ul>\n",
            "\t\t\n",
            "\t</div>\n",
            "</nav>\n",
            "\n",
            "\t\t\t\n",
            "\n",
            "<nav id=\"p-variants\" class=\"vector-menu mw-portlet mw-portlet-variants emptyPortlet vector-menu-dropdown-noicon vector-menu-dropdown\" aria-labelledby=\"p-variants-label\" role=\"navigation\"  >\n",
            "\t<input type=\"checkbox\"\n",
            "\t\tid=\"p-variants-checkbox\"\n",
            "\t\trole=\"button\"\n",
            "\t\taria-haspopup=\"true\"\n",
            "\t\tdata-event-name=\"ui.dropdown-p-variants\"\n",
            "\t\tclass=\"vector-menu-checkbox\"\n",
            "\t\taria-labelledby=\"p-variants-label\"\n",
            "\t/>\n",
            "\t<label\n",
            "\t\tid=\"p-variants-label\"\n",
            "\t\t aria-label=\"Change language variant\"\n",
            "\t\tclass=\"vector-menu-heading \"\n",
            "\t>\n",
            "\t\t<span class=\"vector-menu-heading-label\">English</span>\n",
            "\t</label>\n",
            "\t<div class=\"vector-menu-content\">\n",
            "\t\t\n",
            "\t\t<ul class=\"vector-menu-content-list\"></ul>\n",
            "\t\t\n",
            "\t</div>\n",
            "</nav>\n",
            "\n",
            "\t\t</div>\n",
            "\t\t<div id=\"right-navigation\">\n",
            "\t\t\t\n",
            "\n",
            "<nav id=\"p-views\" class=\"vector-menu mw-portlet mw-portlet-views vector-menu-tabs vector-menu-tabs-legacy\" aria-labelledby=\"p-views-label\" role=\"navigation\"  >\n",
            "\t<h3\n",
            "\t\tid=\"p-views-label\"\n",
            "\t\t\n",
            "\t\tclass=\"vector-menu-heading \"\n",
            "\t>\n",
            "\t\t<span class=\"vector-menu-heading-label\">Views</span>\n",
            "\t</h3>\n",
            "\t<div class=\"vector-menu-content\">\n",
            "\t\t\n",
            "\t\t<ul class=\"vector-menu-content-list\"><li id=\"ca-view\" class=\"selected mw-list-item\"><a href=\"/wiki/Data_science\"><span>Read</span></a></li><li id=\"ca-edit\" class=\"mw-list-item\"><a href=\"/w/index.php?title=Data_science&amp;action=edit\" title=\"Edit this page [e]\" accesskey=\"e\"><span>Edit</span></a></li><li id=\"ca-history\" class=\"mw-list-item\"><a href=\"/w/index.php?title=Data_science&amp;action=history\" title=\"Past revisions of this page [h]\" accesskey=\"h\"><span>View history</span></a></li></ul>\n",
            "\t\t\n",
            "\t</div>\n",
            "</nav>\n",
            "\n",
            "\t\t\t\n",
            "\n",
            "<nav id=\"p-cactions\" class=\"vector-menu mw-portlet mw-portlet-cactions emptyPortlet vector-menu-dropdown-noicon vector-menu-dropdown\" aria-labelledby=\"p-cactions-label\" role=\"navigation\"  title=\"More options\" >\n",
            "\t<input type=\"checkbox\"\n",
            "\t\tid=\"p-cactions-checkbox\"\n",
            "\t\trole=\"button\"\n",
            "\t\taria-haspopup=\"true\"\n",
            "\t\tdata-event-name=\"ui.dropdown-p-cactions\"\n",
            "\t\tclass=\"vector-menu-checkbox\"\n",
            "\t\taria-labelledby=\"p-cactions-label\"\n",
            "\t/>\n",
            "\t<label\n",
            "\t\tid=\"p-cactions-label\"\n",
            "\t\t\n",
            "\t\tclass=\"vector-menu-heading \"\n",
            "\t>\n",
            "\t\t<span class=\"vector-menu-heading-label\">More</span>\n",
            "\t</label>\n",
            "\t<div class=\"vector-menu-content\">\n",
            "\t\t\n",
            "\t\t<ul class=\"vector-menu-content-list\"></ul>\n",
            "\t\t\n",
            "\t</div>\n",
            "</nav>\n",
            "\n",
            "\t\t\t\n",
            "<div id=\"p-search\" role=\"search\" class=\"vector-search-box-vue  vector-search-box-show-thumbnail vector-search-box-auto-expand-width vector-search-box\">\n",
            "\t<div>\n",
            "\t\t<form action=\"/w/index.php\" id=\"searchform\"\n",
            "\t\t\tclass=\"vector-search-box-form\">\n",
            "\t\t\t<div id=\"simpleSearch\"\n",
            "\t\t\t\tclass=\"vector-search-box-inner\"\n",
            "\t\t\t\t data-search-loc=\"header-navigation\">\n",
            "\t\t\t\t<input class=\"vector-search-box-input\"\n",
            "\t\t\t\t\t type=\"search\" name=\"search\" placeholder=\"Search Wikipedia\" aria-label=\"Search Wikipedia\" autocapitalize=\"sentences\" title=\"Search Wikipedia [f]\" accesskey=\"f\" id=\"searchInput\"\n",
            "\t\t\t\t>\n",
            "\t\t\t\t<input type=\"hidden\" name=\"title\" value=\"Special:Search\">\n",
            "\t\t\t\t<input id=\"mw-searchButton\"\n",
            "\t\t\t\t\t class=\"searchButton mw-fallbackSearchButton\" type=\"submit\" name=\"fulltext\" title=\"Search Wikipedia for this text\" value=\"Search\">\n",
            "\t\t\t\t<input id=\"searchButton\"\n",
            "\t\t\t\t\t class=\"searchButton\" type=\"submit\" name=\"go\" title=\"Go to a page with this exact name if it exists\" value=\"Go\">\n",
            "\t\t\t</div>\n",
            "\t\t</form>\n",
            "\t</div>\n",
            "</div>\n",
            "\n",
            "\t\t</div>\n",
            "\t</div>\n",
            "\t\n",
            "\n",
            "<div id=\"mw-panel\">\n",
            "\t<div id=\"p-logo\" role=\"banner\">\n",
            "\t\t<a class=\"mw-wiki-logo\" href=\"/wiki/Main_Page\"\n",
            "\t\t\ttitle=\"Visit the main page\"></a>\n",
            "\t</div>\n",
            "\t\n",
            "\n",
            "<nav id=\"p-navigation\" class=\"vector-menu mw-portlet mw-portlet-navigation vector-menu-portal portal\" aria-labelledby=\"p-navigation-label\" role=\"navigation\"  >\n",
            "\t<h3\n",
            "\t\tid=\"p-navigation-label\"\n",
            "\t\t\n",
            "\t\tclass=\"vector-menu-heading \"\n",
            "\t>\n",
            "\t\t<span class=\"vector-menu-heading-label\">Navigation</span>\n",
            "\t</h3>\n",
            "\t<div class=\"vector-menu-content\">\n",
            "\t\t\n",
            "\t\t<ul class=\"vector-menu-content-list\"><li id=\"n-mainpage-description\" class=\"mw-list-item\"><a href=\"/wiki/Main_Page\" title=\"Visit the main page [z]\" accesskey=\"z\"><span>Main page</span></a></li><li id=\"n-contents\" class=\"mw-list-item\"><a href=\"/wiki/Wikipedia:Contents\" title=\"Guides to browsing Wikipedia\"><span>Contents</span></a></li><li id=\"n-currentevents\" class=\"mw-list-item\"><a href=\"/wiki/Portal:Current_events\" title=\"Articles related to current events\"><span>Current events</span></a></li><li id=\"n-randompage\" class=\"mw-list-item\"><a href=\"/wiki/Special:Random\" title=\"Visit a randomly selected article [x]\" accesskey=\"x\"><span>Random article</span></a></li><li id=\"n-aboutsite\" class=\"mw-list-item\"><a href=\"/wiki/Wikipedia:About\" title=\"Learn about Wikipedia and how it works\"><span>About Wikipedia</span></a></li><li id=\"n-contactpage\" class=\"mw-list-item\"><a href=\"//en.wikipedia.org/wiki/Wikipedia:Contact_us\" title=\"How to contact Wikipedia\"><span>Contact us</span></a></li><li id=\"n-sitesupport\" class=\"mw-list-item\"><a href=\"https://donate.wikimedia.org/wiki/Special:FundraiserRedirector?utm_source=donate&amp;utm_medium=sidebar&amp;utm_campaign=C13_en.wikipedia.org&amp;uselang=en\" title=\"Support us by donating to the Wikimedia Foundation\"><span>Donate</span></a></li></ul>\n",
            "\t\t\n",
            "\t</div>\n",
            "</nav>\n",
            "\n",
            "\t\n",
            "\n",
            "<nav id=\"p-interaction\" class=\"vector-menu mw-portlet mw-portlet-interaction vector-menu-portal portal\" aria-labelledby=\"p-interaction-label\" role=\"navigation\"  >\n",
            "\t<h3\n",
            "\t\tid=\"p-interaction-label\"\n",
            "\t\t\n",
            "\t\tclass=\"vector-menu-heading \"\n",
            "\t>\n",
            "\t\t<span class=\"vector-menu-heading-label\">Contribute</span>\n",
            "\t</h3>\n",
            "\t<div class=\"vector-menu-content\">\n",
            "\t\t\n",
            "\t\t<ul class=\"vector-menu-content-list\"><li id=\"n-help\" class=\"mw-list-item\"><a href=\"/wiki/Help:Contents\" title=\"Guidance on how to use and edit Wikipedia\"><span>Help</span></a></li><li id=\"n-introduction\" class=\"mw-list-item\"><a href=\"/wiki/Help:Introduction\" title=\"Learn how to edit Wikipedia\"><span>Learn to edit</span></a></li><li id=\"n-portal\" class=\"mw-list-item\"><a href=\"/wiki/Wikipedia:Community_portal\" title=\"The hub for editors\"><span>Community portal</span></a></li><li id=\"n-recentchanges\" class=\"mw-list-item\"><a href=\"/wiki/Special:RecentChanges\" title=\"A list of recent changes to Wikipedia [r]\" accesskey=\"r\"><span>Recent changes</span></a></li><li id=\"n-upload\" class=\"mw-list-item\"><a href=\"/wiki/Wikipedia:File_Upload_Wizard\" title=\"Add images or other media for use on Wikipedia\"><span>Upload file</span></a></li></ul>\n",
            "\t\t\n",
            "\t</div>\n",
            "</nav>\n",
            "\n",
            "\n",
            "<nav id=\"p-tb\" class=\"vector-menu mw-portlet mw-portlet-tb vector-menu-portal portal\" aria-labelledby=\"p-tb-label\" role=\"navigation\"  >\n",
            "\t<h3\n",
            "\t\tid=\"p-tb-label\"\n",
            "\t\t\n",
            "\t\tclass=\"vector-menu-heading \"\n",
            "\t>\n",
            "\t\t<span class=\"vector-menu-heading-label\">Tools</span>\n",
            "\t</h3>\n",
            "\t<div class=\"vector-menu-content\">\n",
            "\t\t\n",
            "\t\t<ul class=\"vector-menu-content-list\"><li id=\"t-whatlinkshere\" class=\"mw-list-item\"><a href=\"/wiki/Special:WhatLinksHere/Data_science\" title=\"List of all English Wikipedia pages containing links to this page [j]\" accesskey=\"j\"><span>What links here</span></a></li><li id=\"t-recentchangeslinked\" class=\"mw-list-item\"><a href=\"/wiki/Special:RecentChangesLinked/Data_science\" rel=\"nofollow\" title=\"Recent changes in pages linked from this page [k]\" accesskey=\"k\"><span>Related changes</span></a></li><li id=\"t-upload\" class=\"mw-list-item\"><a href=\"/wiki/Wikipedia:File_Upload_Wizard\" title=\"Upload files [u]\" accesskey=\"u\"><span>Upload file</span></a></li><li id=\"t-specialpages\" class=\"mw-list-item\"><a href=\"/wiki/Special:SpecialPages\" title=\"A list of all special pages [q]\" accesskey=\"q\"><span>Special pages</span></a></li><li id=\"t-permalink\" class=\"mw-list-item\"><a href=\"/w/index.php?title=Data_science&amp;oldid=1120574273\" title=\"Permanent link to this revision of this page\"><span>Permanent link</span></a></li><li id=\"t-info\" class=\"mw-list-item\"><a href=\"/w/index.php?title=Data_science&amp;action=info\" title=\"More information about this page\"><span>Page information</span></a></li><li id=\"t-cite\" class=\"mw-list-item\"><a href=\"/w/index.php?title=Special:CiteThisPage&amp;page=Data_science&amp;id=1120574273&amp;wpFormIdentifier=titleform\" title=\"Information on how to cite this page\"><span>Cite this page</span></a></li><li id=\"t-wikibase\" class=\"mw-list-item\"><a href=\"https://www.wikidata.org/wiki/Special:EntityPage/Q2374463\" title=\"Structured data on this page hosted by Wikidata [g]\" accesskey=\"g\"><span>Wikidata item</span></a></li></ul>\n",
            "\t\t\n",
            "\t</div>\n",
            "</nav>\n",
            "\n",
            "\n",
            "<nav id=\"p-coll-print_export\" class=\"vector-menu mw-portlet mw-portlet-coll-print_export vector-menu-portal portal\" aria-labelledby=\"p-coll-print_export-label\" role=\"navigation\"  >\n",
            "\t<h3\n",
            "\t\tid=\"p-coll-print_export-label\"\n",
            "\t\t\n",
            "\t\tclass=\"vector-menu-heading \"\n",
            "\t>\n",
            "\t\t<span class=\"vector-menu-heading-label\">Print/export</span>\n",
            "\t</h3>\n",
            "\t<div class=\"vector-menu-content\">\n",
            "\t\t\n",
            "\t\t<ul class=\"vector-menu-content-list\"><li id=\"coll-download-as-rl\" class=\"mw-list-item\"><a href=\"/w/index.php?title=Special:DownloadAsPdf&amp;page=Data_science&amp;action=show-download-screen\" title=\"Download this page as a PDF file\"><span>Download as PDF</span></a></li><li id=\"t-print\" class=\"mw-list-item\"><a href=\"/w/index.php?title=Data_science&amp;printable=yes\" title=\"Printable version of this page [p]\" accesskey=\"p\"><span>Printable version</span></a></li></ul>\n",
            "\t\t\n",
            "\t</div>\n",
            "</nav>\n",
            "\n",
            "\n",
            "<nav id=\"p-wikibase-otherprojects\" class=\"vector-menu mw-portlet mw-portlet-wikibase-otherprojects vector-menu-portal portal\" aria-labelledby=\"p-wikibase-otherprojects-label\" role=\"navigation\"  >\n",
            "\t<h3\n",
            "\t\tid=\"p-wikibase-otherprojects-label\"\n",
            "\t\t\n",
            "\t\tclass=\"vector-menu-heading \"\n",
            "\t>\n",
            "\t\t<span class=\"vector-menu-heading-label\">In other projects</span>\n",
            "\t</h3>\n",
            "\t<div class=\"vector-menu-content\">\n",
            "\t\t\n",
            "\t\t<ul class=\"vector-menu-content-list\"><li class=\"wb-otherproject-link wb-otherproject-commons mw-list-item\"><a href=\"https://commons.wikimedia.org/wiki/Category:Data_science\" hreflang=\"en\"><span>Wikimedia Commons</span></a></li><li class=\"wb-otherproject-link wb-otherproject-wikiversity mw-list-item\"><a href=\"https://en.wikiversity.org/wiki/Data_science\" hreflang=\"en\"><span>Wikiversity</span></a></li></ul>\n",
            "\t\t\n",
            "\t</div>\n",
            "</nav>\n",
            "\n",
            "\t\n",
            "\n",
            "<nav id=\"p-lang\" class=\"vector-menu mw-portlet mw-portlet-lang vector-menu-portal portal\" aria-labelledby=\"p-lang-label\" role=\"navigation\"  >\n",
            "\t<h3\n",
            "\t\tid=\"p-lang-label\"\n",
            "\t\t\n",
            "\t\tclass=\"vector-menu-heading \"\n",
            "\t>\n",
            "\t\t<span class=\"vector-menu-heading-label\">Languages</span>\n",
            "\t</h3>\n",
            "\t<div class=\"vector-menu-content\">\n",
            "\t\t\n",
            "\t\t<ul class=\"vector-menu-content-list\"><li class=\"interlanguage-link interwiki-ar mw-list-item\"><a href=\"https://ar.wikipedia.org/wiki/%D8%B9%D9%84%D9%85_%D8%A7%D9%84%D8%A8%D9%8A%D8%A7%D9%86%D8%A7%D8%AA\" title=\"علم البيانات – Arabic\" lang=\"ar\" hreflang=\"ar\" class=\"interlanguage-link-target\"><span>العربية</span></a></li><li class=\"interlanguage-link interwiki-az mw-list-item\"><a href=\"https://az.wikipedia.org/wiki/Veril%C9%99nl%C9%99r_elmi_(Data_Science)\" title=\"Verilənlər elmi (Data Science) – Azerbaijani\" lang=\"az\" hreflang=\"az\" class=\"interlanguage-link-target\"><span>Azərbaycanca</span></a></li><li class=\"interlanguage-link interwiki-bn mw-list-item\"><a href=\"https://bn.wikipedia.org/wiki/%E0%A6%89%E0%A6%AA%E0%A6%BE%E0%A6%A4%E0%A7%8D%E0%A6%A4_%E0%A6%AC%E0%A6%BF%E0%A6%9C%E0%A7%8D%E0%A6%9E%E0%A6%BE%E0%A6%A8\" title=\"উপাত্ত বিজ্ঞান – Bangla\" lang=\"bn\" hreflang=\"bn\" class=\"interlanguage-link-target\"><span>বাংলা</span></a></li><li class=\"interlanguage-link interwiki-bg mw-list-item\"><a href=\"https://bg.wikipedia.org/wiki/%D0%9D%D0%B0%D1%83%D0%BA%D0%B0_%D0%B7%D0%B0_%D0%B4%D0%B0%D0%BD%D0%BD%D0%B8%D1%82%D0%B5\" title=\"Наука за данните – Bulgarian\" lang=\"bg\" hreflang=\"bg\" class=\"interlanguage-link-target\"><span>Български</span></a></li><li class=\"interlanguage-link interwiki-ca mw-list-item\"><a href=\"https://ca.wikipedia.org/wiki/Ci%C3%A8ncia_de_les_dades\" title=\"Ciència de les dades – Catalan\" lang=\"ca\" hreflang=\"ca\" class=\"interlanguage-link-target\"><span>Català</span></a></li><li class=\"interlanguage-link interwiki-cs mw-list-item\"><a href=\"https://cs.wikipedia.org/wiki/Data_science\" title=\"Data science – Czech\" lang=\"cs\" hreflang=\"cs\" class=\"interlanguage-link-target\"><span>Čeština</span></a></li><li class=\"interlanguage-link interwiki-de mw-list-item\"><a href=\"https://de.wikipedia.org/wiki/Data_Science\" title=\"Data Science – German\" lang=\"de\" hreflang=\"de\" class=\"interlanguage-link-target\"><span>Deutsch</span></a></li><li class=\"interlanguage-link interwiki-et mw-list-item\"><a href=\"https://et.wikipedia.org/wiki/Andmeteadus\" title=\"Andmeteadus – Estonian\" lang=\"et\" hreflang=\"et\" class=\"interlanguage-link-target\"><span>Eesti</span></a></li><li class=\"interlanguage-link interwiki-el mw-list-item\"><a href=\"https://el.wikipedia.org/wiki/%CE%95%CF%80%CE%B9%CF%83%CF%84%CE%AE%CE%BC%CE%B7_%CE%B4%CE%B5%CE%B4%CE%BF%CE%BC%CE%AD%CE%BD%CF%89%CE%BD\" title=\"Επιστήμη δεδομένων – Greek\" lang=\"el\" hreflang=\"el\" class=\"interlanguage-link-target\"><span>Ελληνικά</span></a></li><li class=\"interlanguage-link interwiki-es mw-list-item\"><a href=\"https://es.wikipedia.org/wiki/Ciencia_de_datos\" title=\"Ciencia de datos – Spanish\" lang=\"es\" hreflang=\"es\" class=\"interlanguage-link-target\"><span>Español</span></a></li><li class=\"interlanguage-link interwiki-eo mw-list-item\"><a href=\"https://eo.wikipedia.org/wiki/Datuma_scienco\" title=\"Datuma scienco – Esperanto\" lang=\"eo\" hreflang=\"eo\" class=\"interlanguage-link-target\"><span>Esperanto</span></a></li><li class=\"interlanguage-link interwiki-eu mw-list-item\"><a href=\"https://eu.wikipedia.org/wiki/Datu_zientzia\" title=\"Datu zientzia – Basque\" lang=\"eu\" hreflang=\"eu\" class=\"interlanguage-link-target\"><span>Euskara</span></a></li><li class=\"interlanguage-link interwiki-fa mw-list-item\"><a href=\"https://fa.wikipedia.org/wiki/%D8%B9%D9%84%D9%85_%D8%AF%D8%A7%D8%AF%D9%87%E2%80%8C%D9%87%D8%A7\" title=\"علم داده‌ها – Persian\" lang=\"fa\" hreflang=\"fa\" class=\"interlanguage-link-target\"><span>فارسی</span></a></li><li class=\"interlanguage-link interwiki-fr mw-list-item\"><a href=\"https://fr.wikipedia.org/wiki/Science_des_donn%C3%A9es\" title=\"Science des données – French\" lang=\"fr\" hreflang=\"fr\" class=\"interlanguage-link-target\"><span>Français</span></a></li><li class=\"interlanguage-link interwiki-ko mw-list-item\"><a href=\"https://ko.wikipedia.org/wiki/%EB%8D%B0%EC%9D%B4%ED%84%B0_%EC%82%AC%EC%9D%B4%EC%96%B8%EC%8A%A4\" title=\"데이터 사이언스 – Korean\" lang=\"ko\" hreflang=\"ko\" class=\"interlanguage-link-target\"><span>한국어</span></a></li><li class=\"interlanguage-link interwiki-hy mw-list-item\"><a href=\"https://hy.wikipedia.org/wiki/%D5%8F%D5%BE%D5%B5%D5%A1%D5%AC%D5%B6%D5%A5%D6%80%D5%AB_%D5%A3%D5%AB%D5%BF%D5%B8%D6%82%D5%A9%D5%B5%D5%B8%D6%82%D5%B6\" title=\"Տվյալների գիտություն – Armenian\" lang=\"hy\" hreflang=\"hy\" class=\"interlanguage-link-target\"><span>Հայերեն</span></a></li><li class=\"interlanguage-link interwiki-hi mw-list-item\"><a href=\"https://hi.wikipedia.org/wiki/%E0%A4%86%E0%A4%81%E0%A4%95%E0%A4%A1%E0%A4%BC%E0%A4%BE_%E0%A4%B5%E0%A4%BF%E0%A4%9C%E0%A5%8D%E0%A4%9E%E0%A4%BE%E0%A4%A8\" title=\"आँकड़ा विज्ञान – Hindi\" lang=\"hi\" hreflang=\"hi\" class=\"interlanguage-link-target\"><span>हिन्दी</span></a></li><li class=\"interlanguage-link interwiki-id mw-list-item\"><a href=\"https://id.wikipedia.org/wiki/Ilmu_data\" title=\"Ilmu data – Indonesian\" lang=\"id\" hreflang=\"id\" class=\"interlanguage-link-target\"><span>Bahasa Indonesia</span></a></li><li class=\"interlanguage-link interwiki-it mw-list-item\"><a href=\"https://it.wikipedia.org/wiki/Scienza_dei_dati\" title=\"Scienza dei dati – Italian\" lang=\"it\" hreflang=\"it\" class=\"interlanguage-link-target\"><span>Italiano</span></a></li><li class=\"interlanguage-link interwiki-he mw-list-item\"><a href=\"https://he.wikipedia.org/wiki/%D7%9E%D7%93%D7%A2_%D7%94%D7%A0%D7%AA%D7%95%D7%A0%D7%99%D7%9D\" title=\"מדע הנתונים – Hebrew\" lang=\"he\" hreflang=\"he\" class=\"interlanguage-link-target\"><span>עברית</span></a></li><li class=\"interlanguage-link interwiki-kn mw-list-item\"><a href=\"https://kn.wikipedia.org/wiki/%E0%B2%A6%E0%B2%A4%E0%B3%8D%E0%B2%A4%E0%B2%BE%E0%B2%82%E0%B2%B6_%E0%B2%B5%E0%B2%BF%E0%B2%9C%E0%B3%8D%E0%B2%9E%E0%B2%BE%E0%B2%A8\" title=\"ದತ್ತಾಂಶ ವಿಜ್ಞಾನ – Kannada\" lang=\"kn\" hreflang=\"kn\" class=\"interlanguage-link-target\"><span>ಕನ್ನಡ</span></a></li><li class=\"interlanguage-link interwiki-kk mw-list-item\"><a href=\"https://kk.wikipedia.org/wiki/%D0%94%D0%B5%D1%80%D0%B5%D0%BA%D1%82%D0%B5%D1%80_%D1%82%D1%83%D1%80%D0%B0%D0%BB%D1%8B_%D2%93%D1%8B%D0%BB%D1%8B%D0%BC\" title=\"Деректер туралы ғылым – Kazakh\" lang=\"kk\" hreflang=\"kk\" class=\"interlanguage-link-target\"><span>Қазақша</span></a></li><li class=\"interlanguage-link interwiki-lv mw-list-item\"><a href=\"https://lv.wikipedia.org/wiki/Datu_m%C4%81c%C4%ABba\" title=\"Datu mācība – Latvian\" lang=\"lv\" hreflang=\"lv\" class=\"interlanguage-link-target\"><span>Latviešu</span></a></li><li class=\"interlanguage-link interwiki-mk mw-list-item\"><a href=\"https://mk.wikipedia.org/wiki/%D0%9D%D0%B0%D1%83%D0%BA%D0%B0_%D0%B7%D0%B0_%D0%BF%D0%BE%D0%B4%D0%B0%D1%82%D0%BE%D1%86%D0%B8%D1%82%D0%B5\" title=\"Наука за податоците – Macedonian\" lang=\"mk\" hreflang=\"mk\" class=\"interlanguage-link-target\"><span>Македонски</span></a></li><li class=\"interlanguage-link interwiki-ms mw-list-item\"><a href=\"https://ms.wikipedia.org/wiki/Sains_data\" title=\"Sains data – Malay\" lang=\"ms\" hreflang=\"ms\" class=\"interlanguage-link-target\"><span>Bahasa Melayu</span></a></li><li class=\"interlanguage-link interwiki-my mw-list-item\"><a href=\"https://my.wikipedia.org/wiki/%E1%80%A1%E1%80%81%E1%80%BB%E1%80%80%E1%80%BA%E1%80%A1%E1%80%9C%E1%80%80%E1%80%BA%E1%80%9E%E1%80%AD%E1%80%95%E1%80%B9%E1%80%95%E1%80%B6%E1%80%95%E1%80%8A%E1%80%AC\" title=\"အချက်အလက်သိပ္ပံပညာ – Burmese\" lang=\"my\" hreflang=\"my\" class=\"interlanguage-link-target\"><span>မြန်မာဘာသာ</span></a></li><li class=\"interlanguage-link interwiki-nl mw-list-item\"><a href=\"https://nl.wikipedia.org/wiki/Datawetenschap\" title=\"Datawetenschap – Dutch\" lang=\"nl\" hreflang=\"nl\" class=\"interlanguage-link-target\"><span>Nederlands</span></a></li><li class=\"interlanguage-link interwiki-ja mw-list-item\"><a href=\"https://ja.wikipedia.org/wiki/%E3%83%87%E3%83%BC%E3%82%BF%E3%82%B5%E3%82%A4%E3%82%A8%E3%83%B3%E3%82%B9\" title=\"データサイエンス – Japanese\" lang=\"ja\" hreflang=\"ja\" class=\"interlanguage-link-target\"><span>日本語</span></a></li><li class=\"interlanguage-link interwiki-uz mw-list-item\"><a href=\"https://uz.wikipedia.org/wiki/Ma%27lumotlar_ombori\" title=\"Ma&#039;lumotlar ombori – Uzbek\" lang=\"uz\" hreflang=\"uz\" class=\"interlanguage-link-target\"><span>Oʻzbekcha/ўзбекча</span></a></li><li class=\"interlanguage-link interwiki-pl mw-list-item\"><a href=\"https://pl.wikipedia.org/wiki/Danologia\" title=\"Danologia – Polish\" lang=\"pl\" hreflang=\"pl\" class=\"interlanguage-link-target\"><span>Polski</span></a></li><li class=\"interlanguage-link interwiki-pt mw-list-item\"><a href=\"https://pt.wikipedia.org/wiki/Ci%C3%AAncia_de_dados\" title=\"Ciência de dados – Portuguese\" lang=\"pt\" hreflang=\"pt\" class=\"interlanguage-link-target\"><span>Português</span></a></li><li class=\"interlanguage-link interwiki-ru mw-list-item\"><a href=\"https://ru.wikipedia.org/wiki/%D0%9D%D0%B0%D1%83%D0%BA%D0%B0_%D0%BE_%D0%B4%D0%B0%D0%BD%D0%BD%D1%8B%D1%85\" title=\"Наука о данных – Russian\" lang=\"ru\" hreflang=\"ru\" class=\"interlanguage-link-target\"><span>Русский</span></a></li><li class=\"interlanguage-link interwiki-simple mw-list-item\"><a href=\"https://simple.wikipedia.org/wiki/Data_science\" title=\"Data science – Simple English\" lang=\"en-simple\" hreflang=\"en-simple\" class=\"interlanguage-link-target\"><span>Simple English</span></a></li><li class=\"interlanguage-link interwiki-fi mw-list-item\"><a href=\"https://fi.wikipedia.org/wiki/Datatiede\" title=\"Datatiede – Finnish\" lang=\"fi\" hreflang=\"fi\" class=\"interlanguage-link-target\"><span>Suomi</span></a></li><li class=\"interlanguage-link interwiki-ta mw-list-item\"><a href=\"https://ta.wikipedia.org/wiki/%E0%AE%A4%E0%AE%B0%E0%AE%B5%E0%AF%81_%E0%AE%85%E0%AE%B1%E0%AE%BF%E0%AE%B5%E0%AE%BF%E0%AE%AF%E0%AE%B2%E0%AF%8D\" title=\"தரவு அறிவியல் – Tamil\" lang=\"ta\" hreflang=\"ta\" class=\"interlanguage-link-target\"><span>தமிழ்</span></a></li><li class=\"interlanguage-link interwiki-th mw-list-item\"><a href=\"https://th.wikipedia.org/wiki/%E0%B8%A7%E0%B8%B4%E0%B8%97%E0%B8%A2%E0%B8%B2%E0%B8%81%E0%B8%B2%E0%B8%A3%E0%B8%82%E0%B9%89%E0%B8%AD%E0%B8%A1%E0%B8%B9%E0%B8%A5\" title=\"วิทยาการข้อมูล – Thai\" lang=\"th\" hreflang=\"th\" class=\"interlanguage-link-target\"><span>ไทย</span></a></li><li class=\"interlanguage-link interwiki-tr mw-list-item\"><a href=\"https://tr.wikipedia.org/wiki/Veri_bilimi\" title=\"Veri bilimi – Turkish\" lang=\"tr\" hreflang=\"tr\" class=\"interlanguage-link-target\"><span>Türkçe</span></a></li><li class=\"interlanguage-link interwiki-uk mw-list-item\"><a href=\"https://uk.wikipedia.org/wiki/%D0%9D%D0%B0%D1%83%D0%BA%D0%B0_%D0%BF%D1%80%D0%BE_%D0%B4%D0%B0%D0%BD%D1%96\" title=\"Наука про дані – Ukrainian\" lang=\"uk\" hreflang=\"uk\" class=\"interlanguage-link-target\"><span>Українська</span></a></li><li class=\"interlanguage-link interwiki-ur mw-list-item\"><a href=\"https://ur.wikipedia.org/wiki/%DA%88%DB%8C%D9%B9%D8%A7_%D8%B3%D8%A7%D8%A6%D9%86%D8%B3\" title=\"ڈیٹا سائنس – Urdu\" lang=\"ur\" hreflang=\"ur\" class=\"interlanguage-link-target\"><span>اردو</span></a></li><li class=\"interlanguage-link interwiki-vi mw-list-item\"><a href=\"https://vi.wikipedia.org/wiki/Khoa_h%E1%BB%8Dc_d%E1%BB%AF_li%E1%BB%87u\" title=\"Khoa học dữ liệu – Vietnamese\" lang=\"vi\" hreflang=\"vi\" class=\"interlanguage-link-target\"><span>Tiếng Việt</span></a></li><li class=\"interlanguage-link interwiki-zh-yue mw-list-item\"><a href=\"https://zh-yue.wikipedia.org/wiki/%E6%95%B8%E6%93%9A%E7%A7%91%E5%AD%B8\" title=\"數據科學 – Cantonese\" lang=\"yue\" hreflang=\"yue\" class=\"interlanguage-link-target\"><span>粵語</span></a></li><li class=\"interlanguage-link interwiki-zh mw-list-item\"><a href=\"https://zh.wikipedia.org/wiki/%E6%95%B0%E6%8D%AE%E7%A7%91%E5%AD%A6\" title=\"数据科学 – Chinese\" lang=\"zh\" hreflang=\"zh\" class=\"interlanguage-link-target\"><span>中文</span></a></li></ul>\n",
            "\t\t<div class=\"after-portlet after-portlet-lang\"><span class=\"wb-langlinks-edit wb-langlinks-link\"><a href=\"https://www.wikidata.org/wiki/Special:EntityPage/Q2374463#sitelinks-wikipedia\" title=\"Edit interlanguage links\" class=\"wbc-editpage\">Edit links</a></span></div>\n",
            "\t</div>\n",
            "</nav>\n",
            "\n",
            "</div>\n",
            "\n",
            "</div>\n",
            "\n",
            "<footer id=\"footer\" class=\"mw-footer\" role=\"contentinfo\" >\n",
            "\t<ul id=\"footer-info\">\n",
            "\t<li id=\"footer-info-lastmod\"> This page was last edited on 7 November 2022, at 18:39<span class=\"anonymous-show\">&#160;(UTC)</span>.</li>\n",
            "\t<li id=\"footer-info-copyright\">Text is available under the <a rel=\"license\" href=\"//en.wikipedia.org/wiki/Wikipedia:Text_of_Creative_Commons_Attribution-ShareAlike_3.0_Unported_License\">Creative Commons Attribution-ShareAlike License 3.0</a><a rel=\"license\" href=\"//creativecommons.org/licenses/by-sa/3.0/\" style=\"display:none;\"></a>;\n",
            "additional terms may apply.  By using this site, you agree to the <a href=\"//foundation.wikimedia.org/wiki/Terms_of_Use\">Terms of Use</a> and <a href=\"//foundation.wikimedia.org/wiki/Privacy_policy\">Privacy Policy</a>. Wikipedia® is a registered trademark of the <a href=\"//www.wikimediafoundation.org/\">Wikimedia Foundation, Inc.</a>, a non-profit organization.</li>\n",
            "</ul>\n",
            "\n",
            "\t<ul id=\"footer-places\">\n",
            "\t<li id=\"footer-places-privacy\"><a href=\"https://foundation.wikimedia.org/wiki/Privacy_policy\">Privacy policy</a></li>\n",
            "\t<li id=\"footer-places-about\"><a href=\"/wiki/Wikipedia:About\">About Wikipedia</a></li>\n",
            "\t<li id=\"footer-places-disclaimers\"><a href=\"/wiki/Wikipedia:General_disclaimer\">Disclaimers</a></li>\n",
            "\t<li id=\"footer-places-contact\"><a href=\"//en.wikipedia.org/wiki/Wikipedia:Contact_us\">Contact Wikipedia</a></li>\n",
            "\t<li id=\"footer-places-mobileview\"><a href=\"//en.m.wikipedia.org/w/index.php?title=Data_science&amp;mobileaction=toggle_view_mobile\" class=\"noprint stopMobileRedirectToggle\">Mobile view</a></li>\n",
            "\t<li id=\"footer-places-developers\"><a href=\"https://developer.wikimedia.org\">Developers</a></li>\n",
            "\t<li id=\"footer-places-statslink\"><a href=\"https://stats.wikimedia.org/#/en.wikipedia.org\">Statistics</a></li>\n",
            "\t<li id=\"footer-places-cookiestatement\"><a href=\"https://foundation.wikimedia.org/wiki/Cookie_statement\">Cookie statement</a></li>\n",
            "</ul>\n",
            "\n",
            "\t<ul id=\"footer-icons\" class=\"noprint\">\n",
            "\t<li id=\"footer-copyrightico\"><a href=\"https://wikimediafoundation.org/\"><img src=\"/static/images/footer/wikimedia-button.png\" srcset=\"/static/images/footer/wikimedia-button-1.5x.png 1.5x, /static/images/footer/wikimedia-button-2x.png 2x\" width=\"88\" height=\"31\" alt=\"Wikimedia Foundation\" loading=\"lazy\" /></a></li>\n",
            "\t<li id=\"footer-poweredbyico\"><a href=\"https://www.mediawiki.org/\"><img src=\"/static/images/footer/poweredby_mediawiki_88x31.png\" alt=\"Powered by MediaWiki\" srcset=\"/static/images/footer/poweredby_mediawiki_132x47.png 1.5x, /static/images/footer/poweredby_mediawiki_176x62.png 2x\" width=\"88\" height=\"31\" loading=\"lazy\"/></a></li>\n",
            "</ul>\n",
            "\n",
            "</footer>\n",
            "\n",
            "<script>(RLQ=window.RLQ||[]).push(function(){mw.config.set({\"wgPageParseReport\":{\"limitreport\":{\"cputime\":\"0.332\",\"walltime\":\"0.444\",\"ppvisitednodes\":{\"value\":1966,\"limit\":1000000},\"postexpandincludesize\":{\"value\":71860,\"limit\":2097152},\"templateargumentsize\":{\"value\":1033,\"limit\":2097152},\"expansiondepth\":{\"value\":12,\"limit\":100},\"expensivefunctioncount\":{\"value\":2,\"limit\":500},\"unstrip-depth\":{\"value\":1,\"limit\":20},\"unstrip-size\":{\"value\":111052,\"limit\":5000000},\"entityaccesscount\":{\"value\":0,\"limit\":400},\"timingprofile\":[\"100.00%  390.054      1 -total\",\" 57.77%  225.338      1 Template:Reflist\",\" 24.10%   94.020      8 Template:Cite_journal\",\" 17.91%   69.849      1 Template:Short_description\",\" 15.08%   58.832     18 Template:Cite_web\",\" 10.50%   40.954      1 Template:Data\",\"  9.90%   38.610      1 Template:Navbox\",\"  8.34%   32.512      2 Template:Pagetype\",\"  6.61%   25.765      4 Template:Main_other\",\"  6.11%   23.848      1 Template:Distinguish\"]},\"scribunto\":{\"limitreport-timeusage\":{\"value\":\"0.211\",\"limit\":\"10.000\"},\"limitreport-memusage\":{\"value\":6047886,\"limit\":52428800}},\"cachereport\":{\"origin\":\"mw2327\",\"timestamp\":\"20221107183952\",\"ttl\":1814400,\"transientcontent\":false}}});});</script>\n",
            "<script type=\"application/ld+json\">{\"@context\":\"https:\\/\\/schema.org\",\"@type\":\"Article\",\"name\":\"Data science\",\"url\":\"https:\\/\\/en.wikipedia.org\\/wiki\\/Data_science\",\"sameAs\":\"http:\\/\\/www.wikidata.org\\/entity\\/Q2374463\",\"mainEntity\":\"http:\\/\\/www.wikidata.org\\/entity\\/Q2374463\",\"author\":{\"@type\":\"Organization\",\"name\":\"Contributors to Wikimedia projects\"},\"publisher\":{\"@type\":\"Organization\",\"name\":\"Wikimedia Foundation, Inc.\",\"logo\":{\"@type\":\"ImageObject\",\"url\":\"https:\\/\\/www.wikimedia.org\\/static\\/images\\/wmf-hor-googpub.png\"}},\"datePublished\":\"2012-04-11T17:34:10Z\",\"dateModified\":\"2022-11-07T18:39:29Z\",\"image\":\"https:\\/\\/upload.wikimedia.org\\/wikipedia\\/commons\\/4\\/45\\/PIA23792-1600x1200%281%29.jpg\",\"headline\":\"interdisciplinary field of study focused on deriving knowledge and insights from data\"}</script><script type=\"application/ld+json\">{\"@context\":\"https:\\/\\/schema.org\",\"@type\":\"Article\",\"name\":\"Data science\",\"url\":\"https:\\/\\/en.wikipedia.org\\/wiki\\/Data_science\",\"sameAs\":\"http:\\/\\/www.wikidata.org\\/entity\\/Q2374463\",\"mainEntity\":\"http:\\/\\/www.wikidata.org\\/entity\\/Q2374463\",\"author\":{\"@type\":\"Organization\",\"name\":\"Contributors to Wikimedia projects\"},\"publisher\":{\"@type\":\"Organization\",\"name\":\"Wikimedia Foundation, Inc.\",\"logo\":{\"@type\":\"ImageObject\",\"url\":\"https:\\/\\/www.wikimedia.org\\/static\\/images\\/wmf-hor-googpub.png\"}},\"datePublished\":\"2012-04-11T17:34:10Z\",\"dateModified\":\"2022-11-07T18:39:29Z\",\"image\":\"https:\\/\\/upload.wikimedia.org\\/wikipedia\\/commons\\/4\\/45\\/PIA23792-1600x1200%281%29.jpg\",\"headline\":\"interdisciplinary field of study focused on deriving knowledge and insights from data\"}</script>\n",
            "<script>(RLQ=window.RLQ||[]).push(function(){mw.config.set({\"wgBackendResponseTime\":99,\"wgHostname\":\"mw2367\"});});</script>\n",
            "</body>\n",
            "</html>\n"
          ]
        }
      ]
    },
    {
      "cell_type": "code",
      "source": [
        "import requests\n",
        "page=requests.get('https://en.wikipedia.org/wiki/Data_science')\n",
        "print(page)"
      ],
      "metadata": {
        "colab": {
          "base_uri": "https://localhost:8080/"
        },
        "id": "qNzVb8teQ0G_",
        "outputId": "76271684-5516-4ec1-c3bc-ef987b8253be"
      },
      "execution_count": null,
      "outputs": [
        {
          "output_type": "stream",
          "name": "stdout",
          "text": [
            "<Response [200]>\n"
          ]
        }
      ]
    },
    {
      "cell_type": "code",
      "source": [
        "page.status_code"
      ],
      "metadata": {
        "colab": {
          "base_uri": "https://localhost:8080/"
        },
        "id": "93H197NlRCwQ",
        "outputId": "fd75b634-be23-44ee-b9f4-daabe3b84bd3"
      },
      "execution_count": null,
      "outputs": [
        {
          "output_type": "execute_result",
          "data": {
            "text/plain": [
              "200"
            ]
          },
          "metadata": {},
          "execution_count": 8
        }
      ]
    },
    {
      "cell_type": "code",
      "source": [
        "from urllib.request import urlopen\n",
        "url=\"https://en.wikipedia.org/wiki/Data_science\"\n",
        "html=urlopen(url)\n",
        "html"
      ],
      "metadata": {
        "colab": {
          "base_uri": "https://localhost:8080/"
        },
        "id": "ufw7UR70RJNX",
        "outputId": "2d17911b-7468-478e-b7d7-5fcc8100b89c"
      },
      "execution_count": null,
      "outputs": [
        {
          "output_type": "execute_result",
          "data": {
            "text/plain": [
              "<http.client.HTTPResponse at 0x7f472d9952d0>"
            ]
          },
          "metadata": {},
          "execution_count": 14
        }
      ]
    },
    {
      "cell_type": "code",
      "source": [
        "html1 = html.read().decode('utf-8')"
      ],
      "metadata": {
        "id": "c4x-r0z4SAWK"
      },
      "execution_count": null,
      "outputs": []
    },
    {
      "cell_type": "code",
      "source": [
        "html1"
      ],
      "metadata": {
        "colab": {
          "base_uri": "https://localhost:8080/",
          "height": 254
        },
        "id": "zg7z09t3TPH-",
        "outputId": "0449ca7c-305a-476f-ff37-96d2eeacd6c1"
      },
      "execution_count": null,
      "outputs": [
        {
          "output_type": "execute_result",
          "data": {
            "text/plain": [
              "'<!DOCTYPE html>\\n<html class=\"client-nojs\" lang=\"en\" dir=\"ltr\">\\n<head>\\n<meta charset=\"UTF-8\"/>\\n<title>Data science - Wikipedia</title>\\n<script>document.documentElement.className=\"client-js\";RLCONF={\"wgBreakFrames\":false,\"wgSeparatorTransformTable\":[\"\",\"\"],\"wgDigitTransformTable\":[\"\",\"\"],\"wgDefaultDateFormat\":\"dmy\",\"wgMonthNames\":[\"\",\"January\",\"February\",\"March\",\"April\",\"May\",\"June\",\"July\",\"August\",\"September\",\"October\",\"November\",\"December\"],\"wgRequestId\":\"8a2773a0-97d5-4f54-a13d-ae59ef5c7294\",\"wgCSPNonce\":false,\"wgCanonicalNamespace\":\"\",\"wgCanonicalSpecialPageName\":false,\"wgNamespaceNumber\":0,\"wgPageName\":\"Data_science\",\"wgTitle\":\"Data science\",\"wgCurRevisionId\":1120574273,\"wgRevisionId\":1120574273,\"wgArticleId\":35458904,\"wgIsArticle\":true,\"wgIsRedirect\":false,\"wgAction\":\"view\",\"wgUserName\":null,\"wgUserGroups\":[\"*\"],\"wgCategories\":[\"Articles with short description\",\"Short description matches Wikidata\",\"Use dmy dates from August 2021\",\"Information science\",\"Computer occupations\",\"Computational fields of study\",\"Data analysis\"],\"wgPageContentLanguage\":\"en\",\"wgPageContentModel\":\"wikitext\",\"wgRelevantPageName\":\"Data_science\",\\n\"wgRelevantArticleId\":35458904,\"wgIsProbablyEditable\":true,\"wgRelevantPageIsProbablyEditable\":true,\"wgRestrictionEdit\":[],\"wgRestrictionMove\":[],\"wgFlaggedRevsParams\":{\"tags\":{\"status\":{\"levels\":1}}},\"wgVisualEditor\":{\"pageLanguageCode\":\"en\",\"pageLanguageDir\":\"ltr\",\"pageVariantFallbacks\":\"en\"},\"wgMFDisplayWikibaseDescriptions\":{\"search\":true,\"watchlist\":true,\"tagline\":false,\"nearby\":true},\"wgWMESchemaEditAttemptStepOversample\":false,\"wgWMEPageLength\":20000,\"wgNoticeProject\":\"wikipedia\",\"wgVector2022PreviewPages\":[],\"wgMediaViewerOnClick\":true,\"wgMediaViewerEnabledByDefault\":true,\"wgPopupsFlags\":10,\"wgULSCurrentAutonym\":\"English\",\"wgEditSubmitButtonLabelPublish\":true,\"wgCentralAuthMobileDomain\":false,\"wgULSPosition\":\"interlanguage\",\"wgULSisCompactLinksEnabled\":true,\"wgWikibaseItemId\":\"Q2374463\",\"GEHomepageSuggestedEditsEnableTopics\":true,\"wgGETopicsMatchModeEnabled\":false,\"wgGEStructuredTaskRejectionReasonTextInputEnabled\":false};RLSTATE={\"ext.globalCssJs.user.styles\":\"ready\",\\n\"site.styles\":\"ready\",\"user.styles\":\"ready\",\"ext.globalCssJs.user\":\"ready\",\"user\":\"ready\",\"user.options\":\"loading\",\"ext.cite.styles\":\"ready\",\"skins.vector.styles.legacy\":\"ready\",\"jquery.makeCollapsible.styles\":\"ready\",\"ext.visualEditor.desktopArticleTarget.noscript\":\"ready\",\"ext.wikimediaBadges\":\"ready\",\"ext.uls.interlanguage\":\"ready\",\"wikibase.client.init\":\"ready\"};RLPAGEMODULES=[\"ext.cite.ux-enhancements\",\"site\",\"mediawiki.page.ready\",\"jquery.makeCollapsible\",\"mediawiki.toc\",\"skins.vector.legacy.js\",\"mmv.head\",\"mmv.bootstrap.autostart\",\"ext.visualEditor.desktopArticleTarget.init\",\"ext.visualEditor.targetLoader\",\"ext.eventLogging\",\"ext.wikimediaEvents\",\"ext.navigationTiming\",\"ext.cx.eventlogging.campaigns\",\"ext.centralNotice.geoIP\",\"ext.centralNotice.startUp\",\"ext.gadget.ReferenceTooltips\",\"ext.gadget.charinsert\",\"ext.gadget.extra-toolbar-buttons\",\"ext.gadget.switcher\",\"ext.centralauth.centralautologin\",\"ext.popups\",\"ext.uls.compactlinks\",\"ext.uls.interface\",\\n\"ext.growthExperiments.SuggestedEditSession\"];</script>\\n<script>(RLQ=window.RLQ||[]).push(function(){mw.loader.implement(\"user.options@12s5i\",function($,jQuery,require,module){mw.user.tokens.set({\"patrolToken\":\"+\\\\\\\\\",\"watchToken\":\"+\\\\\\\\\",\"csrfToken\":\"+\\\\\\\\\"});});});</script>\\n<link rel=\"stylesheet\" href=\"/w/load.php?lang=en&amp;modules=ext.cite.styles%7Cext.uls.interlanguage%7Cext.visualEditor.desktopArticleTarget.noscript%7Cext.wikimediaBadges%7Cjquery.makeCollapsible.styles%7Cskins.vector.styles.legacy%7Cwikibase.client.init&amp;only=styles&amp;skin=vector\"/>\\n<script async=\"\" src=\"/w/load.php?lang=en&amp;modules=startup&amp;only=scripts&amp;raw=1&amp;skin=vector\"></script>\\n<meta name=\"ResourceLoaderDynamicStyles\" content=\"\"/>\\n<link rel=\"stylesheet\" href=\"/w/load.php?lang=en&amp;modules=site.styles&amp;only=styles&amp;skin=vector\"/>\\n<meta name=\"generator\" content=\"MediaWiki 1.40.0-wmf.10\"/>\\n<meta name=\"referrer\" content=\"origin\"/>\\n<meta name=\"referrer\" content=\"origin-when-crossorigin\"/>\\n<meta name=\"referrer\" content=\"origin-when-cross-origin\"/>\\n<meta name=\"robots\" content=\"max-image-preview:standard\"/>\\n<meta name=\"format-detection\" content=\"telephone=no\"/>\\n<meta property=\"og:image\" content=\"https://upload.wikimedia.org/wikipedia/commons/thumb/4/45/PIA23792-1600x1200%281%29.jpg/1200px-PIA23792-1600x1200%281%29.jpg\"/>\\n<meta property=\"og:image:width\" content=\"1200\"/>\\n<meta property=\"og:image:height\" content=\"900\"/>\\n<meta property=\"og:image\" content=\"https://upload.wikimedia.org/wikipedia/commons/thumb/4/45/PIA23792-1600x1200%281%29.jpg/800px-PIA23792-1600x1200%281%29.jpg\"/>\\n<meta property=\"og:image:width\" content=\"800\"/>\\n<meta property=\"og:image:height\" content=\"600\"/>\\n<meta property=\"og:image\" content=\"https://upload.wikimedia.org/wikipedia/commons/thumb/4/45/PIA23792-1600x1200%281%29.jpg/640px-PIA23792-1600x1200%281%29.jpg\"/>\\n<meta property=\"og:image:width\" content=\"640\"/>\\n<meta property=\"og:image:height\" content=\"480\"/>\\n<meta name=\"viewport\" content=\"width=1000\"/>\\n<meta property=\"og:title\" content=\"Data science - Wikipedia\"/>\\n<meta property=\"og:type\" content=\"website\"/>\\n<link rel=\"preconnect\" href=\"//upload.wikimedia.org\"/>\\n<link rel=\"alternate\" media=\"only screen and (max-width: 720px)\" href=\"//en.m.wikipedia.org/wiki/Data_science\"/>\\n<link rel=\"alternate\" type=\"application/x-wiki\" title=\"Edit this page\" href=\"/w/index.php?title=Data_science&amp;action=edit\"/>\\n<link rel=\"apple-touch-icon\" href=\"/static/apple-touch/wikipedia.png\"/>\\n<link rel=\"icon\" href=\"/static/favicon/wikipedia.ico\"/>\\n<link rel=\"search\" type=\"application/opensearchdescription+xml\" href=\"/w/opensearch_desc.php\" title=\"Wikipedia (en)\"/>\\n<link rel=\"EditURI\" type=\"application/rsd+xml\" href=\"//en.wikipedia.org/w/api.php?action=rsd\"/>\\n<link rel=\"license\" href=\"https://creativecommons.org/licenses/by-sa/3.0/\"/>\\n<link rel=\"canonical\" href=\"https://en.wikipedia.org/wiki/Data_science\"/>\\n<link rel=\"dns-prefetch\" href=\"//meta.wikimedia.org\" />\\n<link rel=\"dns-prefetch\" href=\"//login.wikimedia.org\"/>\\n</head>\\n<body class=\"skin-vector-legacy mediawiki ltr sitedir-ltr mw-hide-empty-elt ns-0 ns-subject mw-editable page-Data_science rootpage-Data_science skin-vector action-view vector-feature-language-in-header-enabled vector-feature-language-in-main-page-header-disabled vector-feature-language-alert-in-sidebar-enabled vector-feature-sticky-header-disabled vector-feature-sticky-header-edit-disabled vector-feature-table-of-contents-legacy-toc-disabled vector-feature-visual-enhancement-next-enabled vector-feature-page-tools-disabled vector-feature-limited-width-enabled vector-feature-limited-width-content-enabled\"><div id=\"mw-page-base\" class=\"noprint\"></div>\\n<div id=\"mw-head-base\" class=\"noprint\"></div>\\n<div id=\"content\" class=\"mw-body\" role=\"main\">\\n\\t<a id=\"top\"></a>\\n\\t<div id=\"siteNotice\"><!-- CentralNotice --><!--esi <esi:include src=\"/esitest-fa8a495983347898/content\" /> --> </div>\\n\\t<div class=\"mw-indicators\">\\n\\t</div>\\n\\t<h1 id=\"firstHeading\" class=\"firstHeading mw-first-heading\"><span class=\"mw-page-title-main\">Data science</span></h1>\\n\\t<div id=\"bodyContent\" class=\"vector-body\">\\n\\t\\t<div id=\"siteSub\" class=\"noprint\">From Wikipedia, the free encyclopedia</div>\\n\\t\\t<div id=\"contentSub\"></div>\\n\\t\\t<div id=\"contentSub2\"></div>\\n\\t\\t\\n\\t\\t<div id=\"jump-to-nav\"></div>\\n\\t\\t<a class=\"mw-jump-link\" href=\"#mw-head\">Jump to navigation</a>\\n\\t\\t<a class=\"mw-jump-link\" href=\"#searchInput\">Jump to search</a>\\n\\t\\t<div id=\"mw-content-text\" class=\"mw-body-content mw-content-ltr\" lang=\"en\" dir=\"ltr\"><div class=\"mw-parser-output\"><div class=\"shortdescription nomobile noexcerpt noprint searchaux\" style=\"display:none\">Interdisciplinary field of study focused on deriving knowledge and insights from data</div>\\n<style data-mw-deduplicate=\"TemplateStyles:r1033289096\">.mw-parser-output .hatnote{font-style:italic}.mw-parser-output div.hatnote{padding-left:1.6em;margin-bottom:0.5em}.mw-parser-output .hatnote i{font-style:normal}.mw-parser-output .hatnote+link+.hatnote{margin-top:-0.5em}</style><div role=\"note\" class=\"hatnote navigation-not-searchable\">Not to be confused with <a href=\"/wiki/Information_science\" title=\"Information science\">information science</a>.</div>\\n<p class=\"mw-empty-elt\">\\n</p>\\n<div class=\"thumb tright\"><div class=\"thumbinner\" style=\"width:222px;\"><a href=\"/wiki/File:PIA23792-1600x1200(1).jpg\" class=\"image\"><img alt=\"\" src=\"//upload.wikimedia.org/wikipedia/commons/thumb/4/45/PIA23792-1600x1200%281%29.jpg/220px-PIA23792-1600x1200%281%29.jpg\" decoding=\"async\" width=\"220\" height=\"165\" class=\"thumbimage\" srcset=\"//upload.wikimedia.org/wikipedia/commons/thumb/4/45/PIA23792-1600x1200%281%29.jpg/330px-PIA23792-1600x1200%281%29.jpg 1.5x, //upload.wikimedia.org/wikipedia/commons/thumb/4/45/PIA23792-1600x1200%281%29.jpg/440px-PIA23792-1600x1200%281%29.jpg 2x\" data-file-width=\"1600\" data-file-height=\"1200\" /></a>  <div class=\"thumbcaption\"><div class=\"magnify\"><a href=\"/wiki/File:PIA23792-1600x1200(1).jpg\" class=\"internal\" title=\"Enlarge\"></a></div>The existence of <a href=\"/wiki/Comet_NEOWISE\" title=\"Comet NEOWISE\">Comet NEOWISE</a> (here depicted as a series of red dots) was discovered by analyzing <a href=\"/wiki/Astronomical_survey\" title=\"Astronomical survey\">astronomical survey</a> data acquired by a <a href=\"/wiki/Space_telescope\" title=\"Space telescope\">space telescope</a>, the <a href=\"/wiki/Wide-field_Infrared_Survey_Explorer\" title=\"Wide-field Infrared Survey Explorer\">Wide-field Infrared Survey Explorer</a>.</div></div></div>\\n<p><b>Data science</b> is an <a href=\"/wiki/Interdisciplinary\" class=\"mw-redirect\" title=\"Interdisciplinary\">interdisciplinary</a> field that uses <a href=\"/wiki/Scientific_method\" title=\"Scientific method\">scientific methods</a>, processes, <a href=\"/wiki/Algorithm\" title=\"Algorithm\">algorithms</a> and systems to extract or extrapolate <a href=\"/wiki/Knowledge\" title=\"Knowledge\">knowledge</a> and insights from noisy, structured and <a href=\"/wiki/Unstructured_data\" title=\"Unstructured data\">unstructured data</a>,<sup id=\"cite_ref-1\" class=\"reference\"><a href=\"#cite_note-1\">&#91;1&#93;</a></sup><sup id=\"cite_ref-2\" class=\"reference\"><a href=\"#cite_note-2\">&#91;2&#93;</a></sup> and apply knowledge from data across a broad range of application domains. Data science is related to <a href=\"/wiki/Data_mining\" title=\"Data mining\">data mining</a>, <a href=\"/wiki/Machine_learning\" title=\"Machine learning\">machine learning</a>, <a href=\"/wiki/Big_data\" title=\"Big data\">big data</a>, <a href=\"/wiki/Computational_statistics\" title=\"Computational statistics\">computational statistics</a> and <a href=\"/wiki/Analytics\" title=\"Analytics\">analytics</a>.<sup id=\"cite_ref-:2_3-0\" class=\"reference\"><a href=\"#cite_note-:2-3\">&#91;3&#93;</a></sup>\\n</p><p>Data science is a \"concept to unify <a href=\"/wiki/Statistics\" title=\"Statistics\">statistics</a>, <a href=\"/wiki/Data_analysis\" title=\"Data analysis\">data analysis</a>, <a href=\"/wiki/Informatics\" title=\"Informatics\">informatics</a>, and their related <a href=\"/wiki/Scientific_method\" title=\"Scientific method\">methods</a>\" in order to \"understand and analyse actual <a href=\"/wiki/Phenomena\" class=\"mw-redirect\" title=\"Phenomena\">phenomena</a>\" with <a href=\"/wiki/Data\" title=\"Data\">data</a>.<sup id=\"cite_ref-4\" class=\"reference\"><a href=\"#cite_note-4\">&#91;4&#93;</a></sup> It uses techniques and theories drawn from many fields within the context of <a href=\"/wiki/Mathematics\" title=\"Mathematics\">mathematics</a>, statistics, <a href=\"/wiki/Computer_science\" title=\"Computer science\">computer science</a>, <a href=\"/wiki/Information_science\" title=\"Information science\">information science</a>, and <a href=\"/wiki/Domain_knowledge\" title=\"Domain knowledge\">domain knowledge</a>.<sup id=\"cite_ref-:2_3-1\" class=\"reference\"><a href=\"#cite_note-:2-3\">&#91;3&#93;</a></sup> However, data science is different from <a href=\"/wiki/Computer_science\" title=\"Computer science\">computer science</a> and information science. <a href=\"/wiki/Turing_Award\" title=\"Turing Award\">Turing Award</a> winner <a href=\"/wiki/Jim_Gray_(computer_scientist)\" title=\"Jim Gray (computer scientist)\">Jim Gray</a> imagined data science as a \"fourth paradigm\" of science (<a href=\"/wiki/Empirical_research\" title=\"Empirical research\">empirical</a>, <a href=\"/wiki/Basic_research\" title=\"Basic research\">theoretical</a>, <a href=\"/wiki/Computational_science\" title=\"Computational science\">computational</a>, and now data-driven) and asserted that \"everything about science is changing because of the impact of <a href=\"/wiki/Information_technology\" title=\"Information technology\">information technology</a>\" and the <a href=\"/wiki/Information_explosion\" title=\"Information explosion\">data deluge</a>.<sup id=\"cite_ref-TansleyTolle2009_5-0\" class=\"reference\"><a href=\"#cite_note-TansleyTolle2009-5\">&#91;5&#93;</a></sup><sup id=\"cite_ref-BellHey2009_6-0\" class=\"reference\"><a href=\"#cite_note-BellHey2009-6\">&#91;6&#93;</a></sup>\\n</p><p>A <b>data scientist</b> is someone who creates programming code and combines it with statistical knowledge to create insights from data.<sup id=\"cite_ref-7\" class=\"reference\"><a href=\"#cite_note-7\">&#91;7&#93;</a></sup>\\n</p>\\n<div id=\"toc\" class=\"toc\" role=\"navigation\" aria-labelledby=\"mw-toc-heading\"><input type=\"checkbox\" role=\"button\" id=\"toctogglecheckbox\" class=\"toctogglecheckbox\" style=\"display:none\" /><div class=\"toctitle\" lang=\"en\" dir=\"ltr\"><h2 id=\"mw-toc-heading\">Contents</h2><span class=\"toctogglespan\"><label class=\"toctogglelabel\" for=\"toctogglecheckbox\"></label></span></div>\\n<ul>\\n<li class=\"toclevel-1 tocsection-1\"><a href=\"#Foundations\"><span class=\"tocnumber\">1</span> <span class=\"toctext\">Foundations</span></a>\\n<ul>\\n<li class=\"toclevel-2 tocsection-2\"><a href=\"#Relationship_to_statistics\"><span class=\"tocnumber\">1.1</span> <span class=\"toctext\">Relationship to statistics</span></a></li>\\n</ul>\\n</li>\\n<li class=\"toclevel-1 tocsection-3\"><a href=\"#Etymology\"><span class=\"tocnumber\">2</span> <span class=\"toctext\">Etymology</span></a>\\n<ul>\\n<li class=\"toclevel-2 tocsection-4\"><a href=\"#Early_usage\"><span class=\"tocnumber\">2.1</span> <span class=\"toctext\">Early usage</span></a></li>\\n<li class=\"toclevel-2 tocsection-5\"><a href=\"#Modern_usage\"><span class=\"tocnumber\">2.2</span> <span class=\"toctext\">Modern usage</span></a></li>\\n</ul>\\n</li>\\n<li class=\"toclevel-1 tocsection-6\"><a href=\"#See_also\"><span class=\"tocnumber\">3</span> <span class=\"toctext\">See also</span></a></li>\\n<li class=\"toclevel-1 tocsection-7\"><a href=\"#References\"><span class=\"tocnumber\">4</span> <span class=\"toctext\">References</span></a></li>\\n</ul>\\n</div>\\n\\n<h2><span class=\"mw-headline\" id=\"Foundations\">Foundations</span><span class=\"mw-editsection\"><span class=\"mw-editsection-bracket\">[</span><a href=\"/w/index.php?title=Data_science&amp;action=edit&amp;section=1\" title=\"Edit section: Foundations\">edit</a><span class=\"mw-editsection-bracket\">]</span></span></h2>\\n<p>Data science is an <a href=\"/wiki/Interdisciplinarity\" title=\"Interdisciplinarity\">interdisciplinary</a> <a href=\"/wiki/Academic_discipline\" title=\"Academic discipline\">field</a><sup id=\"cite_ref-8\" class=\"reference\"><a href=\"#cite_note-8\">&#91;8&#93;</a></sup> focused on extracting knowledge from typically <a href=\"/wiki/Big_data\" title=\"Big data\">large</a> <a href=\"/wiki/Data_set\" title=\"Data set\">data sets</a> and applying the knowledge and insights from that data to <a href=\"/wiki/Problem_solving\" title=\"Problem solving\">solve problems</a> in a wide range of application domains.<sup id=\"cite_ref-9\" class=\"reference\"><a href=\"#cite_note-9\">&#91;9&#93;</a></sup> The field encompasses preparing data for analysis, formulating data science problems, <a href=\"/wiki/Analysis\" title=\"Analysis\">analyzing</a> data, developing data-driven solutions, and presenting findings to inform high-level decisions in a broad range of application domains. As such, it incorporates skills from computer science, statistics, information science, mathematics, <a href=\"/wiki/Data_visualization\" class=\"mw-redirect\" title=\"Data visualization\">data visualization</a>, <a href=\"/wiki/Information_visualization\" class=\"mw-redirect\" title=\"Information visualization\">information visualization</a>, <a href=\"/wiki/Data_sonification\" title=\"Data sonification\">data sonification</a>, data <a href=\"/wiki/Data_integration\" title=\"Data integration\">integration</a>, <a href=\"/wiki/Graphic_design\" title=\"Graphic design\">graphic design</a>, <a href=\"/wiki/Complex_systems\" class=\"mw-redirect\" title=\"Complex systems\">complex systems</a>, <a href=\"/wiki/Communication\" title=\"Communication\">communication</a> and <a href=\"/wiki/Business\" title=\"Business\">business</a>.<sup id=\"cite_ref-10\" class=\"reference\"><a href=\"#cite_note-10\">&#91;10&#93;</a></sup><sup id=\"cite_ref-11\" class=\"reference\"><a href=\"#cite_note-11\">&#91;11&#93;</a></sup> Statistician <a href=\"/wiki/Nathan_Yau\" title=\"Nathan Yau\">Nathan Yau</a>, drawing on <a href=\"/wiki/Ben_Fry\" title=\"Ben Fry\">Ben Fry</a>, also links data science to <a href=\"/wiki/Human%E2%80%93computer_interaction\" title=\"Human–computer interaction\">human–computer interaction</a>: users should be able to intuitively control and <a href=\"/wiki/Exploration\" title=\"Exploration\">explore</a> data.<sup id=\"cite_ref-12\" class=\"reference\"><a href=\"#cite_note-12\">&#91;12&#93;</a></sup><sup id=\"cite_ref-13\" class=\"reference\"><a href=\"#cite_note-13\">&#91;13&#93;</a></sup> In 2015, the <a href=\"/wiki/American_Statistical_Association\" title=\"American Statistical Association\">American Statistical Association</a> identified <a href=\"/wiki/Database\" title=\"Database\">database</a> management, statistics and <a href=\"/wiki/Machine_learning\" title=\"Machine learning\">machine learning</a>, and <a href=\"/wiki/Distributed_computing\" title=\"Distributed computing\">distributed and parallel systems</a> as the three emerging foundational professional communities.<sup id=\"cite_ref-14\" class=\"reference\"><a href=\"#cite_note-14\">&#91;14&#93;</a></sup>\\n</p>\\n<h3><span class=\"mw-headline\" id=\"Relationship_to_statistics\">Relationship to statistics</span><span class=\"mw-editsection\"><span class=\"mw-editsection-bracket\">[</span><a href=\"/w/index.php?title=Data_science&amp;action=edit&amp;section=2\" title=\"Edit section: Relationship to statistics\">edit</a><span class=\"mw-editsection-bracket\">]</span></span></h3>\\n<p>Many statisticians, including <a href=\"/wiki/Nate_Silver\" title=\"Nate Silver\">Nate Silver</a>, have argued that data science is not a new field, but rather another name for statistics.<sup id=\"cite_ref-15\" class=\"reference\"><a href=\"#cite_note-15\">&#91;15&#93;</a></sup> Others argue that data science is distinct from statistics because it focuses on problems and techniques unique to digital data.<sup id=\"cite_ref-16\" class=\"reference\"><a href=\"#cite_note-16\">&#91;16&#93;</a></sup> <a href=\"/wiki/Vasant_Dhar\" title=\"Vasant Dhar\">Vasant Dhar</a> writes that statistics emphasizes quantitative data and description. In contrast, data science deals with quantitative and qualitative data (e.g. from images, text, sensors, transactions or customer information, etc) and emphasizes prediction and action.<sup id=\"cite_ref-17\" class=\"reference\"><a href=\"#cite_note-17\">&#91;17&#93;</a></sup> <a href=\"/wiki/Andrew_Gelman\" title=\"Andrew Gelman\">Andrew Gelman</a> of <a href=\"/wiki/Columbia_University\" title=\"Columbia University\">Columbia University</a> has described statistics as a nonessential part of data science.<sup id=\"cite_ref-18\" class=\"reference\"><a href=\"#cite_note-18\">&#91;18&#93;</a></sup>\\n</p><p>Stanford professor <a href=\"/wiki/David_Donoho\" title=\"David Donoho\">David Donoho</a> writes that data science is not distinguished from statistics by the size of datasets or use of computing and that many graduate programs misleadingly advertise their analytics and statistics training as the essence of a data-science program. He describes data science as an applied field growing out of traditional statistics.<sup id=\"cite_ref-:7_19-0\" class=\"reference\"><a href=\"#cite_note-:7-19\">&#91;19&#93;</a></sup>\\n</p>\\n<h2><span class=\"mw-headline\" id=\"Etymology\">Etymology</span><span class=\"mw-editsection\"><span class=\"mw-editsection-bracket\">[</span><a href=\"/w/index.php?title=Data_science&amp;action=edit&amp;section=3\" title=\"Edit section: Etymology\">edit</a><span class=\"mw-editsection-bracket\">]</span></span></h2>\\n<h3><span class=\"mw-headline\" id=\"Early_usage\">Early usage</span><span class=\"mw-editsection\"><span class=\"mw-editsection-bracket\">[</span><a href=\"/w/index.php?title=Data_science&amp;action=edit&amp;section=4\" title=\"Edit section: Early usage\">edit</a><span class=\"mw-editsection-bracket\">]</span></span></h3>\\n<p>In 1962, <a href=\"/wiki/John_Tukey\" title=\"John Tukey\">John Tukey</a> described a field he called \"data analysis\", which resembles modern data science.<sup id=\"cite_ref-:7_19-1\" class=\"reference\"><a href=\"#cite_note-:7-19\">&#91;19&#93;</a></sup> In 1985, in a lecture given to the Chinese Academy of Sciences in Beijing, <a href=\"/wiki/C._F._Jeff_Wu\" title=\"C. F. Jeff Wu\">C.&#160;F. Jeff Wu</a> used the term \"data science\" for the first time as an alternative name for statistics.<sup id=\"cite_ref-20\" class=\"reference\"><a href=\"#cite_note-20\">&#91;20&#93;</a></sup> Later, attendees at a 1992 statistics symposium at the <a href=\"/wiki/Montpellier_2_University\" title=\"Montpellier 2 University\">University of Montpellier&#160;II</a> acknowledged the emergence of a new discipline focused on data of various origins and forms, combining established concepts and principles of statistics and data analysis with computing.<sup id=\"cite_ref-21\" class=\"reference\"><a href=\"#cite_note-21\">&#91;21&#93;</a></sup><sup id=\"cite_ref-Murtagh_2018_14_22-0\" class=\"reference\"><a href=\"#cite_note-Murtagh_2018_14-22\">&#91;22&#93;</a></sup>\\n</p><p>The term \"data science\" has been traced back to 1974, when <a href=\"/wiki/Peter_Naur\" title=\"Peter Naur\">Peter Naur</a> proposed it as an alternative name for computer science.<sup id=\"cite_ref-:2_3-2\" class=\"reference\"><a href=\"#cite_note-:2-3\">&#91;3&#93;</a></sup> In 1996, the International Federation of Classification Societies became the first conference to specifically feature data science as a topic.<sup id=\"cite_ref-:2_3-3\" class=\"reference\"><a href=\"#cite_note-:2-3\">&#91;3&#93;</a></sup> However, the definition was still in flux. After the 1985 lecture at the Chinese Academy of Sciences in Beijing, in 1997 <a href=\"/wiki/C._F._Jeff_Wu\" title=\"C. F. Jeff Wu\">C.&#160;F. Jeff Wu</a> again suggested that statistics should be renamed data science. He reasoned that a new name would help statistics shed inaccurate stereotypes, such as being synonymous with accounting or limited to describing data.<sup id=\"cite_ref-23\" class=\"reference\"><a href=\"#cite_note-23\">&#91;23&#93;</a></sup> In 1998, Hayashi Chikio argued for data science as a new, interdisciplinary concept, with three aspects: data design, collection, and analysis.<sup id=\"cite_ref-Murtagh_2018_14_22-1\" class=\"reference\"><a href=\"#cite_note-Murtagh_2018_14-22\">&#91;22&#93;</a></sup>\\n</p><p>During the 1990s, popular terms for the process of finding patterns in datasets (which were increasingly large) included \"knowledge discovery\" and \"<a href=\"/wiki/Data_mining\" title=\"Data mining\">data mining</a>\".<sup id=\"cite_ref-:2_3-4\" class=\"reference\"><a href=\"#cite_note-:2-3\">&#91;3&#93;</a></sup><sup id=\"cite_ref-:1_24-0\" class=\"reference\"><a href=\"#cite_note-:1-24\">&#91;24&#93;</a></sup>\\n</p>\\n<h3><span class=\"mw-headline\" id=\"Modern_usage\">Modern usage</span><span class=\"mw-editsection\"><span class=\"mw-editsection-bracket\">[</span><a href=\"/w/index.php?title=Data_science&amp;action=edit&amp;section=5\" title=\"Edit section: Modern usage\">edit</a><span class=\"mw-editsection-bracket\">]</span></span></h3>\\n<p>In 2012, technologists <a href=\"/wiki/Thomas_H._Davenport\" title=\"Thomas H. Davenport\">Thomas H. Davenport</a> and <a href=\"/wiki/DJ_Patil\" title=\"DJ Patil\">DJ Patil</a> declared \"Data Scientist: The Sexiest Job of the 21st Century\",<sup id=\"cite_ref-25\" class=\"reference\"><a href=\"#cite_note-25\">&#91;25&#93;</a></sup> a catch-phrase that was picked up even by major-city newspapers like the <a href=\"/wiki/New_York_Times\" class=\"mw-redirect\" title=\"New York Times\">New York Times</a><sup id=\"cite_ref-26\" class=\"reference\"><a href=\"#cite_note-26\">&#91;26&#93;</a></sup> and the <a href=\"/wiki/Boston_Globe\" class=\"mw-redirect\" title=\"Boston Globe\">Boston Globe</a>.<sup id=\"cite_ref-27\" class=\"reference\"><a href=\"#cite_note-27\">&#91;27&#93;</a></sup> A decade later, they reaffirmed it, stating \"the job is more in demand than ever with employers\".<sup id=\"cite_ref-28\" class=\"reference\"><a href=\"#cite_note-28\">&#91;28&#93;</a></sup>\\n</p><p>The modern conception of data science as an independent discipline is sometimes attributed to <a href=\"/wiki/William_S._Cleveland\" title=\"William S. Cleveland\">William S. Cleveland</a>.<sup id=\"cite_ref-29\" class=\"reference\"><a href=\"#cite_note-29\">&#91;29&#93;</a></sup> In a 2001 paper, he advocated an expansion of statistics beyond theory into technical areas; because this would significantly change the field, it warranted a new name.<sup id=\"cite_ref-:1_24-1\" class=\"reference\"><a href=\"#cite_note-:1-24\">&#91;24&#93;</a></sup> \"Data science\" became more widely used in the next few years: in 2002, the <a href=\"/wiki/Committee_on_Data_for_Science_and_Technology\" class=\"mw-redirect\" title=\"Committee on Data for Science and Technology\">Committee on Data for Science and Technology</a> launched <i>Data Science Journal</i>. In 2003, Columbia University launched <i>The Journal of Data Science</i>.<sup id=\"cite_ref-:1_24-2\" class=\"reference\"><a href=\"#cite_note-:1-24\">&#91;24&#93;</a></sup> In 2014, the <a href=\"/wiki/American_Statistical_Association\" title=\"American Statistical Association\">American Statistical Association</a>\\'s Section on Statistical Learning and Data Mining changed its name to the Section on Statistical Learning and Data Science, reflecting the ascendant popularity of data science.<sup id=\"cite_ref-30\" class=\"reference\"><a href=\"#cite_note-30\">&#91;30&#93;</a></sup>\\n</p><p>The professional title of \"data scientist\" has been attributed to <a href=\"/wiki/DJ_Patil\" title=\"DJ Patil\">DJ Patil</a> and <a href=\"/wiki/Jeff_Hammerbacher\" title=\"Jeff Hammerbacher\">Jeff Hammerbacher</a> in 2008.<sup id=\"cite_ref-31\" class=\"reference\"><a href=\"#cite_note-31\">&#91;31&#93;</a></sup> Though it was used by the <a href=\"/wiki/National_Science_Board\" title=\"National Science Board\">National Science Board</a> in their 2005 report \"Long-Lived Digital Data Collections: Enabling Research and Education in the 21st Century\", it referred broadly to any key role in managing a digital data collection.<sup id=\"cite_ref-32\" class=\"reference\"><a href=\"#cite_note-32\">&#91;32&#93;</a></sup>\\n</p><p>There is still no consensus on the definition of data science, and it is considered by some to be a <a href=\"/wiki/Buzzword\" title=\"Buzzword\">buzzword</a>.<sup id=\"cite_ref-33\" class=\"reference\"><a href=\"#cite_note-33\">&#91;33&#93;</a></sup> <a href=\"/wiki/Big_data\" title=\"Big data\">Big data</a> is a related marketing term.<sup id=\"cite_ref-:5_34-0\" class=\"reference\"><a href=\"#cite_note-:5-34\">&#91;34&#93;</a></sup> Data scientists are responsible for breaking down big data into usable information and creating software and algorithms that help companies and organizations determine optimal operations.<sup id=\"cite_ref-:6_35-0\" class=\"reference\"><a href=\"#cite_note-:6-35\">&#91;35&#93;</a></sup>\\n</p>\\n<h2><span class=\"mw-headline\" id=\"See_also\">See also</span><span class=\"mw-editsection\"><span class=\"mw-editsection-bracket\">[</span><a href=\"/w/index.php?title=Data_science&amp;action=edit&amp;section=6\" title=\"Edit section: See also\">edit</a><span class=\"mw-editsection-bracket\">]</span></span></h2>\\n<ul><li><a href=\"/wiki/ODSC\" title=\"ODSC\">Open Data Science Conference</a></li>\\n<li><a href=\"/wiki/Scientific_Data_(journal)\" title=\"Scientific Data (journal)\">Scientific Data</a></li>\\n<li><a href=\"/wiki/Women_in_Data\" title=\"Women in Data\">Women in Data</a></li></ul>\\n<h2><span class=\"mw-headline\" id=\"References\">References</span><span class=\"mw-editsection\"><span class=\"mw-editsection-bracket\">[</span><a href=\"/w/index.php?title=Data_science&amp;action=edit&amp;section=7\" title=\"Edit section: References\">edit</a><span class=\"mw-editsection-bracket\">]</span></span></h2>\\n<style data-mw-deduplicate=\"TemplateStyles:r1011085734\">.mw-parser-output .reflist{font-size:90%;margin-bottom:0.5em;list-style-type:decimal}.mw-parser-output .reflist .references{font-size:100%;margin-bottom:0;list-style-type:inherit}.mw-parser-output .reflist-columns-2{column-width:30em}.mw-parser-output .reflist-columns-3{column-width:25em}.mw-parser-output .reflist-columns{margin-top:0.3em}.mw-parser-output .reflist-columns ol{margin-top:0}.mw-parser-output .reflist-columns li{page-break-inside:avoid;break-inside:avoid-column}.mw-parser-output .reflist-upper-alpha{list-style-type:upper-alpha}.mw-parser-output .reflist-upper-roman{list-style-type:upper-roman}.mw-parser-output .reflist-lower-alpha{list-style-type:lower-alpha}.mw-parser-output .reflist-lower-greek{list-style-type:lower-greek}.mw-parser-output .reflist-lower-roman{list-style-type:lower-roman}</style><div class=\"reflist reflist-columns references-column-width\" style=\"column-width: 30em;\">\\n<ol class=\"references\">\\n<li id=\"cite_note-1\"><span class=\"mw-cite-backlink\"><b><a href=\"#cite_ref-1\">^</a></b></span> <span class=\"reference-text\"><style data-mw-deduplicate=\"TemplateStyles:r1067248974\">.mw-parser-output cite.citation{font-style:inherit;word-wrap:break-word}.mw-parser-output .citation q{quotes:\"\\\\\"\"\"\\\\\"\"\"\\'\"\"\\'\"}.mw-parser-output .citation:target{background-color:rgba(0,127,255,0.133)}.mw-parser-output .id-lock-free a,.mw-parser-output .citation .cs1-lock-free a{background:linear-gradient(transparent,transparent),url(\"//upload.wikimedia.org/wikipedia/commons/6/65/Lock-green.svg\")right 0.1em center/9px no-repeat}.mw-parser-output .id-lock-limited a,.mw-parser-output .id-lock-registration a,.mw-parser-output .citation .cs1-lock-limited a,.mw-parser-output .citation .cs1-lock-registration a{background:linear-gradient(transparent,transparent),url(\"//upload.wikimedia.org/wikipedia/commons/d/d6/Lock-gray-alt-2.svg\")right 0.1em center/9px no-repeat}.mw-parser-output .id-lock-subscription a,.mw-parser-output .citation .cs1-lock-subscription a{background:linear-gradient(transparent,transparent),url(\"//upload.wikimedia.org/wikipedia/commons/a/aa/Lock-red-alt-2.svg\")right 0.1em center/9px no-repeat}.mw-parser-output .cs1-ws-icon a{background:linear-gradient(transparent,transparent),url(\"//upload.wikimedia.org/wikipedia/commons/4/4c/Wikisource-logo.svg\")right 0.1em center/12px no-repeat}.mw-parser-output .cs1-code{color:inherit;background:inherit;border:none;padding:inherit}.mw-parser-output .cs1-hidden-error{display:none;color:#d33}.mw-parser-output .cs1-visible-error{color:#d33}.mw-parser-output .cs1-maint{display:none;color:#3a3;margin-left:0.3em}.mw-parser-output .cs1-format{font-size:95%}.mw-parser-output .cs1-kern-left{padding-left:0.2em}.mw-parser-output .cs1-kern-right{padding-right:0.2em}.mw-parser-output .citation .mw-selflink{font-weight:inherit}</style><cite id=\"CITEREFDhar2013\" class=\"citation journal cs1\">Dhar, V. (2013). <a rel=\"nofollow\" class=\"external text\" href=\"http://cacm.acm.org/magazines/2013/12/169933-data-science-and-prediction/fulltext\">\"Data science and prediction\"</a>. <i>Communications of the ACM</i>. <b>56</b> (12): 64–73. <a href=\"/wiki/Doi_(identifier)\" class=\"mw-redirect\" title=\"Doi (identifier)\">doi</a>:<a rel=\"nofollow\" class=\"external text\" href=\"https://doi.org/10.1145%2F2500499\">10.1145/2500499</a>. <a href=\"/wiki/S2CID_(identifier)\" class=\"mw-redirect\" title=\"S2CID (identifier)\">S2CID</a>&#160;<a rel=\"nofollow\" class=\"external text\" href=\"https://api.semanticscholar.org/CorpusID:6107147\">6107147</a>. <a rel=\"nofollow\" class=\"external text\" href=\"https://web.archive.org/web/20141109113411/http://cacm.acm.org/magazines/2013/12/169933-data-science-and-prediction/fulltext\">Archived</a> from the original on 9 November 2014<span class=\"reference-accessdate\">. Retrieved <span class=\"nowrap\">2 September</span> 2015</span>.</cite><span title=\"ctx_ver=Z39.88-2004&amp;rft_val_fmt=info%3Aofi%2Ffmt%3Akev%3Amtx%3Ajournal&amp;rft.genre=article&amp;rft.jtitle=Communications+of+the+ACM&amp;rft.atitle=Data+science+and+prediction&amp;rft.volume=56&amp;rft.issue=12&amp;rft.pages=64-73&amp;rft.date=2013&amp;rft_id=info%3Adoi%2F10.1145%2F2500499&amp;rft_id=https%3A%2F%2Fapi.semanticscholar.org%2FCorpusID%3A6107147%23id-name%3DS2CID&amp;rft.aulast=Dhar&amp;rft.aufirst=V.&amp;rft_id=http%3A%2F%2Fcacm.acm.org%2Fmagazines%2F2013%2F12%2F169933-data-science-and-prediction%2Ffulltext&amp;rfr_id=info%3Asid%2Fen.wikipedia.org%3AData+science\" class=\"Z3988\"></span></span>\\n</li>\\n<li id=\"cite_note-2\"><span class=\"mw-cite-backlink\"><b><a href=\"#cite_ref-2\">^</a></b></span> <span class=\"reference-text\"><link rel=\"mw-deduplicated-inline-style\" href=\"mw-data:TemplateStyles:r1067248974\"/><cite id=\"CITEREFJeff_Leek2013\" class=\"citation web cs1\"><a href=\"/wiki/Jeffrey_T._Leek\" title=\"Jeffrey T. Leek\">Jeff Leek</a> (12 December 2013). <a rel=\"nofollow\" class=\"external text\" href=\"http://simplystatistics.org/2013/12/12/the-key-word-in-data-science-is-not-data-it-is-science/\">\"The key word in \"Data Science\" is not Data, it is Science\"</a>. Simply Statistics. <a rel=\"nofollow\" class=\"external text\" href=\"https://web.archive.org/web/20140102194117/http://simplystatistics.org/2013/12/12/the-key-word-in-data-science-is-not-data-it-is-science/\">Archived</a> from the original on 2 January 2014<span class=\"reference-accessdate\">. Retrieved <span class=\"nowrap\">1 January</span> 2014</span>.</cite><span title=\"ctx_ver=Z39.88-2004&amp;rft_val_fmt=info%3Aofi%2Ffmt%3Akev%3Amtx%3Abook&amp;rft.genre=unknown&amp;rft.btitle=The+key+word+in+%22Data+Science%22+is+not+Data%2C+it+is+Science&amp;rft.pub=Simply+Statistics&amp;rft.date=2013-12-12&amp;rft.au=Jeff+Leek&amp;rft_id=http%3A%2F%2Fsimplystatistics.org%2F2013%2F12%2F12%2Fthe-key-word-in-data-science-is-not-data-it-is-science%2F&amp;rfr_id=info%3Asid%2Fen.wikipedia.org%3AData+science\" class=\"Z3988\"></span></span>\\n</li>\\n<li id=\"cite_note-:2-3\"><span class=\"mw-cite-backlink\">^ <a href=\"#cite_ref-:2_3-0\"><sup><i><b>a</b></i></sup></a> <a href=\"#cite_ref-:2_3-1\"><sup><i><b>b</b></i></sup></a> <a href=\"#cite_ref-:2_3-2\"><sup><i><b>c</b></i></sup></a> <a href=\"#cite_ref-:2_3-3\"><sup><i><b>d</b></i></sup></a> <a href=\"#cite_ref-:2_3-4\"><sup><i><b>e</b></i></sup></a></span> <span class=\"reference-text\"><link rel=\"mw-deduplicated-inline-style\" href=\"mw-data:TemplateStyles:r1067248974\"/><cite id=\"CITEREFCao2017\" class=\"citation journal cs1\">Cao, Longbing (29 June 2017). \"Data Science: A Comprehensive Overview\". <i>ACM Computing Surveys</i>. <b>50</b> (3): 43:1–43:42. <a href=\"/wiki/Doi_(identifier)\" class=\"mw-redirect\" title=\"Doi (identifier)\">doi</a>:<a rel=\"nofollow\" class=\"external text\" href=\"https://doi.org/10.1145%2F3076253\">10.1145/3076253</a>. <a href=\"/wiki/ISSN_(identifier)\" class=\"mw-redirect\" title=\"ISSN (identifier)\">ISSN</a>&#160;<a rel=\"nofollow\" class=\"external text\" href=\"//www.worldcat.org/issn/0360-0300\">0360-0300</a>. <a href=\"/wiki/S2CID_(identifier)\" class=\"mw-redirect\" title=\"S2CID (identifier)\">S2CID</a>&#160;<a rel=\"nofollow\" class=\"external text\" href=\"https://api.semanticscholar.org/CorpusID:207595944\">207595944</a>.</cite><span title=\"ctx_ver=Z39.88-2004&amp;rft_val_fmt=info%3Aofi%2Ffmt%3Akev%3Amtx%3Ajournal&amp;rft.genre=article&amp;rft.jtitle=ACM+Computing+Surveys&amp;rft.atitle=Data+Science%3A+A+Comprehensive+Overview&amp;rft.volume=50&amp;rft.issue=3&amp;rft.pages=43%3A1-43%3A42&amp;rft.date=2017-06-29&amp;rft_id=https%3A%2F%2Fapi.semanticscholar.org%2FCorpusID%3A207595944%23id-name%3DS2CID&amp;rft.issn=0360-0300&amp;rft_id=info%3Adoi%2F10.1145%2F3076253&amp;rft.aulast=Cao&amp;rft.aufirst=Longbing&amp;rfr_id=info%3Asid%2Fen.wikipedia.org%3AData+science\" class=\"Z3988\"></span></span>\\n</li>\\n<li id=\"cite_note-4\"><span class=\"mw-cite-backlink\"><b><a href=\"#cite_ref-4\">^</a></b></span> <span class=\"reference-text\"><link rel=\"mw-deduplicated-inline-style\" href=\"mw-data:TemplateStyles:r1067248974\"/><cite id=\"CITEREFHayashi1998\" class=\"citation book cs1\">Hayashi, Chikio (1 January 1998). <a rel=\"nofollow\" class=\"external text\" href=\"https://www.springer.com/book/9784431702085\">\"What is Data Science? Fundamental Concepts and a Heuristic Example\"</a>.  In Hayashi, Chikio; Yajima, Keiji; Bock, Hans-Hermann; Ohsumi, Noboru; Tanaka, Yutaka; Baba, Yasumasa (eds.). <i>Data Science, Classification, and Related Methods</i>. Studies in Classification, Data Analysis, and Knowledge Organization. Springer Japan. pp.&#160;40–51. <a href=\"/wiki/Doi_(identifier)\" class=\"mw-redirect\" title=\"Doi (identifier)\">doi</a>:<a rel=\"nofollow\" class=\"external text\" href=\"https://doi.org/10.1007%2F978-4-431-65950-1_3\">10.1007/978-4-431-65950-1_3</a>. <a href=\"/wiki/ISBN_(identifier)\" class=\"mw-redirect\" title=\"ISBN (identifier)\">ISBN</a>&#160;<a href=\"/wiki/Special:BookSources/9784431702085\" title=\"Special:BookSources/9784431702085\"><bdi>9784431702085</bdi></a>.</cite><span title=\"ctx_ver=Z39.88-2004&amp;rft_val_fmt=info%3Aofi%2Ffmt%3Akev%3Amtx%3Abook&amp;rft.genre=bookitem&amp;rft.atitle=What+is+Data+Science%3F+Fundamental+Concepts+and+a+Heuristic+Example&amp;rft.btitle=Data+Science%2C+Classification%2C+and+Related+Methods&amp;rft.series=Studies+in+Classification%2C+Data+Analysis%2C+and+Knowledge+Organization&amp;rft.pages=40-51&amp;rft.pub=Springer+Japan&amp;rft.date=1998-01-01&amp;rft_id=info%3Adoi%2F10.1007%2F978-4-431-65950-1_3&amp;rft.isbn=9784431702085&amp;rft.aulast=Hayashi&amp;rft.aufirst=Chikio&amp;rft_id=https%3A%2F%2Fwww.springer.com%2Fbook%2F9784431702085&amp;rfr_id=info%3Asid%2Fen.wikipedia.org%3AData+science\" class=\"Z3988\"></span></span>\\n</li>\\n<li id=\"cite_note-TansleyTolle2009-5\"><span class=\"mw-cite-backlink\"><b><a href=\"#cite_ref-TansleyTolle2009_5-0\">^</a></b></span> <span class=\"reference-text\"><link rel=\"mw-deduplicated-inline-style\" href=\"mw-data:TemplateStyles:r1067248974\"/><cite id=\"CITEREFTony_HeyStewart_TansleyKristin_Michele_Tolle2009\" class=\"citation book cs1\">Tony Hey; Stewart Tansley; Kristin Michele Tolle (2009). <a rel=\"nofollow\" class=\"external text\" href=\"https://books.google.com/books?id=oGs_AQAAIAAJ\"><i>The Fourth Paradigm: Data-intensive Scientific Discovery</i></a>. Microsoft Research. <a href=\"/wiki/ISBN_(identifier)\" class=\"mw-redirect\" title=\"ISBN (identifier)\">ISBN</a>&#160;<a href=\"/wiki/Special:BookSources/978-0-9825442-0-4\" title=\"Special:BookSources/978-0-9825442-0-4\"><bdi>978-0-9825442-0-4</bdi></a>. <a rel=\"nofollow\" class=\"external text\" href=\"https://web.archive.org/web/20170320193019/https://books.google.com/books?id=oGs_AQAAIAAJ\">Archived</a> from the original on 20 March 2017.</cite><span title=\"ctx_ver=Z39.88-2004&amp;rft_val_fmt=info%3Aofi%2Ffmt%3Akev%3Amtx%3Abook&amp;rft.genre=book&amp;rft.btitle=The+Fourth+Paradigm%3A+Data-intensive+Scientific+Discovery&amp;rft.pub=Microsoft+Research&amp;rft.date=2009&amp;rft.isbn=978-0-9825442-0-4&amp;rft.au=Tony+Hey&amp;rft.au=Stewart+Tansley&amp;rft.au=Kristin+Michele+Tolle&amp;rft_id=https%3A%2F%2Fbooks.google.com%2Fbooks%3Fid%3DoGs_AQAAIAAJ&amp;rfr_id=info%3Asid%2Fen.wikipedia.org%3AData+science\" class=\"Z3988\"></span></span>\\n</li>\\n<li id=\"cite_note-BellHey2009-6\"><span class=\"mw-cite-backlink\"><b><a href=\"#cite_ref-BellHey2009_6-0\">^</a></b></span> <span class=\"reference-text\"><link rel=\"mw-deduplicated-inline-style\" href=\"mw-data:TemplateStyles:r1067248974\"/><cite id=\"CITEREFBellHeySzalay2009\" class=\"citation journal cs1\">Bell, G.; Hey, T.; Szalay, A. (2009). \"Computer Science: Beyond the Data Deluge\". <i>Science</i>. <b>323</b> (5919): 1297–1298. <a href=\"/wiki/Doi_(identifier)\" class=\"mw-redirect\" title=\"Doi (identifier)\">doi</a>:<a rel=\"nofollow\" class=\"external text\" href=\"https://doi.org/10.1126%2Fscience.1170411\">10.1126/science.1170411</a>. <a href=\"/wiki/ISSN_(identifier)\" class=\"mw-redirect\" title=\"ISSN (identifier)\">ISSN</a>&#160;<a rel=\"nofollow\" class=\"external text\" href=\"//www.worldcat.org/issn/0036-8075\">0036-8075</a>. <a href=\"/wiki/PMID_(identifier)\" class=\"mw-redirect\" title=\"PMID (identifier)\">PMID</a>&#160;<a rel=\"nofollow\" class=\"external text\" href=\"//pubmed.ncbi.nlm.nih.gov/19265007\">19265007</a>. <a href=\"/wiki/S2CID_(identifier)\" class=\"mw-redirect\" title=\"S2CID (identifier)\">S2CID</a>&#160;<a rel=\"nofollow\" class=\"external text\" href=\"https://api.semanticscholar.org/CorpusID:9743327\">9743327</a>.</cite><span title=\"ctx_ver=Z39.88-2004&amp;rft_val_fmt=info%3Aofi%2Ffmt%3Akev%3Amtx%3Ajournal&amp;rft.genre=article&amp;rft.jtitle=Science&amp;rft.atitle=Computer+Science%3A+Beyond+the+Data+Deluge&amp;rft.volume=323&amp;rft.issue=5919&amp;rft.pages=1297-1298&amp;rft.date=2009&amp;rft.issn=0036-8075&amp;rft_id=https%3A%2F%2Fapi.semanticscholar.org%2FCorpusID%3A9743327%23id-name%3DS2CID&amp;rft_id=info%3Apmid%2F19265007&amp;rft_id=info%3Adoi%2F10.1126%2Fscience.1170411&amp;rft.aulast=Bell&amp;rft.aufirst=G.&amp;rft.au=Hey%2C+T.&amp;rft.au=Szalay%2C+A.&amp;rfr_id=info%3Asid%2Fen.wikipedia.org%3AData+science\" class=\"Z3988\"></span></span>\\n</li>\\n<li id=\"cite_note-7\"><span class=\"mw-cite-backlink\"><b><a href=\"#cite_ref-7\">^</a></b></span> <span class=\"reference-text\"><link rel=\"mw-deduplicated-inline-style\" href=\"mw-data:TemplateStyles:r1067248974\"/><cite id=\"CITEREFDavenportPatil2012\" class=\"citation journal cs1\">Davenport, Thomas H.; Patil, D. J. (October 2012). <a rel=\"nofollow\" class=\"external text\" href=\"https://hbr.org/2012/10/data-scientist-the-sexiest-job-of-the-21st-century/\">\"Data Scientist: The Sexiest Job of the 21st Century\"</a>. <i>Harvard Business Review</i>. <b>90</b> (10): 70–76, 128. <a href=\"/wiki/PMID_(identifier)\" class=\"mw-redirect\" title=\"PMID (identifier)\">PMID</a>&#160;<a rel=\"nofollow\" class=\"external text\" href=\"//pubmed.ncbi.nlm.nih.gov/23074866\">23074866</a><span class=\"reference-accessdate\">. Retrieved <span class=\"nowrap\">18 January</span> 2016</span>.</cite><span title=\"ctx_ver=Z39.88-2004&amp;rft_val_fmt=info%3Aofi%2Ffmt%3Akev%3Amtx%3Ajournal&amp;rft.genre=article&amp;rft.jtitle=Harvard+Business+Review&amp;rft.atitle=Data+Scientist%3A+The+Sexiest+Job+of+the+21st+Century&amp;rft.volume=90&amp;rft.issue=10&amp;rft.pages=70-76%2C+128&amp;rft.date=2012-10&amp;rft_id=info%3Apmid%2F23074866&amp;rft.aulast=Davenport&amp;rft.aufirst=Thomas+H.&amp;rft.au=Patil%2C+D.+J.&amp;rft_id=https%3A%2F%2Fhbr.org%2F2012%2F10%2Fdata-scientist-the-sexiest-job-of-the-21st-century%2F&amp;rfr_id=info%3Asid%2Fen.wikipedia.org%3AData+science\" class=\"Z3988\"></span></span>\\n</li>\\n<li id=\"cite_note-8\"><span class=\"mw-cite-backlink\"><b><a href=\"#cite_ref-8\">^</a></b></span> <span class=\"reference-text\"><link rel=\"mw-deduplicated-inline-style\" href=\"mw-data:TemplateStyles:r1067248974\"/><cite id=\"CITEREFEmmert-StreibDehmer2018\" class=\"citation journal cs1\">Emmert-Streib, Frank; Dehmer, Matthias (2018). <a rel=\"nofollow\" class=\"external text\" href=\"https://doi.org/10.3390%2Fmake1010015\">\"Defining data science by a data-driven quantification of the community\"</a>. <i>Machine Learning and Knowledge Extraction</i>. <b>1</b>: 235–251. <a href=\"/wiki/Doi_(identifier)\" class=\"mw-redirect\" title=\"Doi (identifier)\">doi</a>:<span class=\"cs1-lock-free\" title=\"Freely accessible\"><a rel=\"nofollow\" class=\"external text\" href=\"https://doi.org/10.3390%2Fmake1010015\">10.3390/make1010015</a></span>.</cite><span title=\"ctx_ver=Z39.88-2004&amp;rft_val_fmt=info%3Aofi%2Ffmt%3Akev%3Amtx%3Ajournal&amp;rft.genre=article&amp;rft.jtitle=Machine+Learning+and+Knowledge+Extraction&amp;rft.atitle=Defining+data+science+by+a+data-driven+quantification+of+the+community&amp;rft.volume=1&amp;rft.pages=235-251&amp;rft.date=2018&amp;rft_id=info%3Adoi%2F10.3390%2Fmake1010015&amp;rft.aulast=Emmert-Streib&amp;rft.aufirst=Frank&amp;rft.au=Dehmer%2C+Matthias&amp;rft_id=%2F%2Fdoi.org%2F10.3390%252Fmake1010015&amp;rfr_id=info%3Asid%2Fen.wikipedia.org%3AData+science\" class=\"Z3988\"></span></span>\\n</li>\\n<li id=\"cite_note-9\"><span class=\"mw-cite-backlink\"><b><a href=\"#cite_ref-9\">^</a></b></span> <span class=\"reference-text\"><link rel=\"mw-deduplicated-inline-style\" href=\"mw-data:TemplateStyles:r1067248974\"/><cite class=\"citation web cs1\"><a rel=\"nofollow\" class=\"external text\" href=\"https://web.archive.org/web/20200810114002/http://www.datascienceassn.org/about-data-science\">\"About Data Science\"</a>. <i>Data Science Association</i>. Archived from <a rel=\"nofollow\" class=\"external text\" href=\"http://www.datascienceassn.org/about-data-science\">the original</a> on 10 August 2020<span class=\"reference-accessdate\">. Retrieved <span class=\"nowrap\">3 April</span> 2020</span>.</cite><span title=\"ctx_ver=Z39.88-2004&amp;rft_val_fmt=info%3Aofi%2Ffmt%3Akev%3Amtx%3Ajournal&amp;rft.genre=unknown&amp;rft.jtitle=Data+Science+Association&amp;rft.atitle=About+Data+Science&amp;rft_id=http%3A%2F%2Fwww.datascienceassn.org%2Fabout-data-science&amp;rfr_id=info%3Asid%2Fen.wikipedia.org%3AData+science\" class=\"Z3988\"></span></span>\\n</li>\\n<li id=\"cite_note-10\"><span class=\"mw-cite-backlink\"><b><a href=\"#cite_ref-10\">^</a></b></span> <span class=\"reference-text\"><link rel=\"mw-deduplicated-inline-style\" href=\"mw-data:TemplateStyles:r1067248974\"/><cite class=\"citation web cs1\"><a rel=\"nofollow\" class=\"external text\" href=\"https://www.oreilly.com/library/view/doing-data-science/9781449363871/ch01.html\">\"1. Introduction: What Is Data Science?\"</a>. <i>Doing Data Science [Book]</i>. O’Reilly<span class=\"reference-accessdate\">. Retrieved <span class=\"nowrap\">3 April</span> 2020</span>.</cite><span title=\"ctx_ver=Z39.88-2004&amp;rft_val_fmt=info%3Aofi%2Ffmt%3Akev%3Amtx%3Ajournal&amp;rft.genre=unknown&amp;rft.jtitle=Doing+Data+Science+%5BBook%5D&amp;rft.atitle=1.+Introduction%3A+What+Is+Data+Science%3F&amp;rft_id=https%3A%2F%2Fwww.oreilly.com%2Flibrary%2Fview%2Fdoing-data-science%2F9781449363871%2Fch01.html&amp;rfr_id=info%3Asid%2Fen.wikipedia.org%3AData+science\" class=\"Z3988\"></span></span>\\n</li>\\n<li id=\"cite_note-11\"><span class=\"mw-cite-backlink\"><b><a href=\"#cite_ref-11\">^</a></b></span> <span class=\"reference-text\"><link rel=\"mw-deduplicated-inline-style\" href=\"mw-data:TemplateStyles:r1067248974\"/><cite class=\"citation web cs1\"><a rel=\"nofollow\" class=\"external text\" href=\"https://medriscoll.com/post/4740157098/the-three-sexy-skills-of-data-geeks\">\"the three sexy skills of data geeks\"</a>. <i>m.e.driscoll: data utopian</i>. 27 May 2009<span class=\"reference-accessdate\">. Retrieved <span class=\"nowrap\">3 April</span> 2020</span>.</cite><span title=\"ctx_ver=Z39.88-2004&amp;rft_val_fmt=info%3Aofi%2Ffmt%3Akev%3Amtx%3Ajournal&amp;rft.genre=unknown&amp;rft.jtitle=m.e.driscoll%3A+data+utopian&amp;rft.atitle=the+three+sexy+skills+of+data+geeks&amp;rft.date=2009-05-27&amp;rft_id=https%3A%2F%2Fmedriscoll.com%2Fpost%2F4740157098%2Fthe-three-sexy-skills-of-data-geeks&amp;rfr_id=info%3Asid%2Fen.wikipedia.org%3AData+science\" class=\"Z3988\"></span></span>\\n</li>\\n<li id=\"cite_note-12\"><span class=\"mw-cite-backlink\"><b><a href=\"#cite_ref-12\">^</a></b></span> <span class=\"reference-text\"><link rel=\"mw-deduplicated-inline-style\" href=\"mw-data:TemplateStyles:r1067248974\"/><cite id=\"CITEREFYau2009\" class=\"citation web cs1\">Yau, Nathan (4 June 2009). <a rel=\"nofollow\" class=\"external text\" href=\"https://flowingdata.com/2009/06/04/rise-of-the-data-scientist/\">\"Rise of the Data Scientist\"</a>. <i>FlowingData</i><span class=\"reference-accessdate\">. Retrieved <span class=\"nowrap\">3 April</span> 2020</span>.</cite><span title=\"ctx_ver=Z39.88-2004&amp;rft_val_fmt=info%3Aofi%2Ffmt%3Akev%3Amtx%3Ajournal&amp;rft.genre=unknown&amp;rft.jtitle=FlowingData&amp;rft.atitle=Rise+of+the+Data+Scientist&amp;rft.date=2009-06-04&amp;rft.aulast=Yau&amp;rft.aufirst=Nathan&amp;rft_id=https%3A%2F%2Fflowingdata.com%2F2009%2F06%2F04%2Frise-of-the-data-scientist%2F&amp;rfr_id=info%3Asid%2Fen.wikipedia.org%3AData+science\" class=\"Z3988\"></span></span>\\n</li>\\n<li id=\"cite_note-13\"><span class=\"mw-cite-backlink\"><b><a href=\"#cite_ref-13\">^</a></b></span> <span class=\"reference-text\"><link rel=\"mw-deduplicated-inline-style\" href=\"mw-data:TemplateStyles:r1067248974\"/><cite class=\"citation web cs1\"><a rel=\"nofollow\" class=\"external text\" href=\"https://benfry.com/phd/dissertation/2.html\">\"Basic Example\"</a>. <i>benfry.com</i><span class=\"reference-accessdate\">. Retrieved <span class=\"nowrap\">3 April</span> 2020</span>.</cite><span title=\"ctx_ver=Z39.88-2004&amp;rft_val_fmt=info%3Aofi%2Ffmt%3Akev%3Amtx%3Ajournal&amp;rft.genre=unknown&amp;rft.jtitle=benfry.com&amp;rft.atitle=Basic+Example&amp;rft_id=https%3A%2F%2Fbenfry.com%2Fphd%2Fdissertation%2F2.html&amp;rfr_id=info%3Asid%2Fen.wikipedia.org%3AData+science\" class=\"Z3988\"></span></span>\\n</li>\\n<li id=\"cite_note-14\"><span class=\"mw-cite-backlink\"><b><a href=\"#cite_ref-14\">^</a></b></span> <span class=\"reference-text\"><link rel=\"mw-deduplicated-inline-style\" href=\"mw-data:TemplateStyles:r1067248974\"/><cite class=\"citation web cs1\"><a rel=\"nofollow\" class=\"external text\" href=\"https://magazine.amstat.org/blog/2015/10/01/asa-statement-on-the-role-of-statistics-in-data-science/\">\"ASA Statement on the Role of Statistics in Data Science\"</a>. <i>AMSTATNEWS</i>. <a href=\"/wiki/American_Statistical_Association\" title=\"American Statistical Association\">American Statistical Association</a>. 1 October 2015. <a rel=\"nofollow\" class=\"external text\" href=\"https://web.archive.org/web/20190620184935/https://magazine.amstat.org/blog/2015/10/01/asa-statement-on-the-role-of-statistics-in-data-science/\">Archived</a> from the original on 20 June 2019<span class=\"reference-accessdate\">. Retrieved <span class=\"nowrap\">29 May</span> 2019</span>.</cite><span title=\"ctx_ver=Z39.88-2004&amp;rft_val_fmt=info%3Aofi%2Ffmt%3Akev%3Amtx%3Ajournal&amp;rft.genre=unknown&amp;rft.jtitle=AMSTATNEWS&amp;rft.atitle=ASA+Statement+on+the+Role+of+Statistics+in+Data+Science&amp;rft.date=2015-10-01&amp;rft_id=https%3A%2F%2Fmagazine.amstat.org%2Fblog%2F2015%2F10%2F01%2Fasa-statement-on-the-role-of-statistics-in-data-science%2F&amp;rfr_id=info%3Asid%2Fen.wikipedia.org%3AData+science\" class=\"Z3988\"></span></span>\\n</li>\\n<li id=\"cite_note-15\"><span class=\"mw-cite-backlink\"><b><a href=\"#cite_ref-15\">^</a></b></span> <span class=\"reference-text\"><link rel=\"mw-deduplicated-inline-style\" href=\"mw-data:TemplateStyles:r1067248974\"/><cite class=\"citation web cs1\"><a rel=\"nofollow\" class=\"external text\" href=\"https://www.statisticsviews.com/article/nate-silver-what-i-need-from-statisticians/\">\"Nate Silver: What I need from statisticians\"</a>. <i>Statistics Views</i><span class=\"reference-accessdate\">. Retrieved <span class=\"nowrap\">3 April</span> 2020</span>.</cite><span title=\"ctx_ver=Z39.88-2004&amp;rft_val_fmt=info%3Aofi%2Ffmt%3Akev%3Amtx%3Ajournal&amp;rft.genre=unknown&amp;rft.jtitle=Statistics+Views&amp;rft.atitle=Nate+Silver%3A+What+I+need+from+statisticians&amp;rft_id=https%3A%2F%2Fwww.statisticsviews.com%2Farticle%2Fnate-silver-what-i-need-from-statisticians%2F&amp;rfr_id=info%3Asid%2Fen.wikipedia.org%3AData+science\" class=\"Z3988\"></span></span>\\n</li>\\n<li id=\"cite_note-16\"><span class=\"mw-cite-backlink\"><b><a href=\"#cite_ref-16\">^</a></b></span> <span class=\"reference-text\"><link rel=\"mw-deduplicated-inline-style\" href=\"mw-data:TemplateStyles:r1067248974\"/><cite class=\"citation web cs1\"><a rel=\"nofollow\" class=\"external text\" href=\"http://priceonomics.com/whats-the-difference-between-data-science-and/\">\"What\\'s the Difference Between Data Science and Statistics?\"</a>. <i>Priceonomics</i>. 13 October 2015<span class=\"reference-accessdate\">. Retrieved <span class=\"nowrap\">3 April</span> 2020</span>.</cite><span title=\"ctx_ver=Z39.88-2004&amp;rft_val_fmt=info%3Aofi%2Ffmt%3Akev%3Amtx%3Ajournal&amp;rft.genre=unknown&amp;rft.jtitle=Priceonomics&amp;rft.atitle=What%27s+the+Difference+Between+Data+Science+and+Statistics%3F&amp;rft.date=2015-10-13&amp;rft_id=http%3A%2F%2Fpriceonomics.com%2Fwhats-the-difference-between-data-science-and%2F&amp;rfr_id=info%3Asid%2Fen.wikipedia.org%3AData+science\" class=\"Z3988\"></span></span>\\n</li>\\n<li id=\"cite_note-17\"><span class=\"mw-cite-backlink\"><b><a href=\"#cite_ref-17\">^</a></b></span> <span class=\"reference-text\"><link rel=\"mw-deduplicated-inline-style\" href=\"mw-data:TemplateStyles:r1067248974\"/><cite id=\"CITEREFVasant_Dhar2013\" class=\"citation journal cs1\">Vasant Dhar (1 December 2013). <a rel=\"nofollow\" class=\"external text\" href=\"http://archive.nyu.edu/handle/2451/31553\">\"Data science and prediction\"</a>. <i>Communications of the ACM</i>. <b>56</b> (12): 64–73. <a href=\"/wiki/Doi_(identifier)\" class=\"mw-redirect\" title=\"Doi (identifier)\">doi</a>:<a rel=\"nofollow\" class=\"external text\" href=\"https://doi.org/10.1145%2F2500499\">10.1145/2500499</a>. <a href=\"/wiki/S2CID_(identifier)\" class=\"mw-redirect\" title=\"S2CID (identifier)\">S2CID</a>&#160;<a rel=\"nofollow\" class=\"external text\" href=\"https://api.semanticscholar.org/CorpusID:6107147\">6107147</a>.</cite><span title=\"ctx_ver=Z39.88-2004&amp;rft_val_fmt=info%3Aofi%2Ffmt%3Akev%3Amtx%3Ajournal&amp;rft.genre=article&amp;rft.jtitle=Communications+of+the+ACM&amp;rft.atitle=Data+science+and+prediction&amp;rft.volume=56&amp;rft.issue=12&amp;rft.pages=64-73&amp;rft.date=2013-12-01&amp;rft_id=info%3Adoi%2F10.1145%2F2500499&amp;rft_id=https%3A%2F%2Fapi.semanticscholar.org%2FCorpusID%3A6107147%23id-name%3DS2CID&amp;rft.au=Vasant+Dhar&amp;rft_id=http%3A%2F%2Farchive.nyu.edu%2Fhandle%2F2451%2F31553&amp;rfr_id=info%3Asid%2Fen.wikipedia.org%3AData+science\" class=\"Z3988\"></span></span>\\n</li>\\n<li id=\"cite_note-18\"><span class=\"mw-cite-backlink\"><b><a href=\"#cite_ref-18\">^</a></b></span> <span class=\"reference-text\"><link rel=\"mw-deduplicated-inline-style\" href=\"mw-data:TemplateStyles:r1067248974\"/><cite class=\"citation web cs1\"><a rel=\"nofollow\" class=\"external text\" href=\"https://statmodeling.stat.columbia.edu/2013/11/14/statistics-least-important-part-data-science/\">\"Statistics is the least important part of data science «&#160;Statistical Modeling, Causal Inference, and Social Science\"</a>. <i>statmodeling.stat.columbia.edu</i><span class=\"reference-accessdate\">. Retrieved <span class=\"nowrap\">3 April</span> 2020</span>.</cite><span title=\"ctx_ver=Z39.88-2004&amp;rft_val_fmt=info%3Aofi%2Ffmt%3Akev%3Amtx%3Ajournal&amp;rft.genre=unknown&amp;rft.jtitle=statmodeling.stat.columbia.edu&amp;rft.atitle=Statistics+is+the+least+important+part+of+data+science+%C2%AB+Statistical+Modeling%2C+Causal+Inference%2C+and+Social+Science&amp;rft_id=https%3A%2F%2Fstatmodeling.stat.columbia.edu%2F2013%2F11%2F14%2Fstatistics-least-important-part-data-science%2F&amp;rfr_id=info%3Asid%2Fen.wikipedia.org%3AData+science\" class=\"Z3988\"></span></span>\\n</li>\\n<li id=\"cite_note-:7-19\"><span class=\"mw-cite-backlink\">^ <a href=\"#cite_ref-:7_19-0\"><sup><i><b>a</b></i></sup></a> <a href=\"#cite_ref-:7_19-1\"><sup><i><b>b</b></i></sup></a></span> <span class=\"reference-text\"><link rel=\"mw-deduplicated-inline-style\" href=\"mw-data:TemplateStyles:r1067248974\"/><cite id=\"CITEREFDonoho2015\" class=\"citation web cs1\">Donoho, David (18 September 2015). <a rel=\"nofollow\" class=\"external text\" href=\"http://courses.csail.mit.edu/18.337/2015/docs/50YearsDataScience.pdf\">\"50 years of Data Science\"</a> <span class=\"cs1-format\">(PDF)</span><span class=\"reference-accessdate\">. Retrieved <span class=\"nowrap\">2 April</span> 2020</span>.</cite><span title=\"ctx_ver=Z39.88-2004&amp;rft_val_fmt=info%3Aofi%2Ffmt%3Akev%3Amtx%3Abook&amp;rft.genre=unknown&amp;rft.btitle=50+years+of+Data+Science&amp;rft.date=2015-09-18&amp;rft.aulast=Donoho&amp;rft.aufirst=David&amp;rft_id=http%3A%2F%2Fcourses.csail.mit.edu%2F18.337%2F2015%2Fdocs%2F50YearsDataScience.pdf&amp;rfr_id=info%3Asid%2Fen.wikipedia.org%3AData+science\" class=\"Z3988\"></span></span>\\n</li>\\n<li id=\"cite_note-20\"><span class=\"mw-cite-backlink\"><b><a href=\"#cite_ref-20\">^</a></b></span> <span class=\"reference-text\"><link rel=\"mw-deduplicated-inline-style\" href=\"mw-data:TemplateStyles:r1067248974\"/><cite id=\"CITEREFWu1986\" class=\"citation journal cs1\">Wu, C. F. Jeff (1986). <a rel=\"nofollow\" class=\"external text\" href=\"https://www2.isye.gatech.edu/~jeffwu/publications/fazhan.pdf\">\"Future directions of statistical research in China: a historical perspective\"</a> <span class=\"cs1-format\">(PDF)</span>. <i>Application of Statistics and Management</i>. <b>1</b>: 1–7<span class=\"reference-accessdate\">. Retrieved <span class=\"nowrap\">29 November</span> 2020</span>.</cite><span title=\"ctx_ver=Z39.88-2004&amp;rft_val_fmt=info%3Aofi%2Ffmt%3Akev%3Amtx%3Ajournal&amp;rft.genre=article&amp;rft.jtitle=Application+of+Statistics+and+Management&amp;rft.atitle=Future+directions+of+statistical+research+in+China%3A+a+historical+perspective&amp;rft.volume=1&amp;rft.pages=1-7&amp;rft.date=1986&amp;rft.aulast=Wu&amp;rft.aufirst=C.+F.+Jeff&amp;rft_id=https%3A%2F%2Fwww2.isye.gatech.edu%2F~jeffwu%2Fpublications%2Ffazhan.pdf&amp;rfr_id=info%3Asid%2Fen.wikipedia.org%3AData+science\" class=\"Z3988\"></span></span>\\n</li>\\n<li id=\"cite_note-21\"><span class=\"mw-cite-backlink\"><b><a href=\"#cite_ref-21\">^</a></b></span> <span class=\"reference-text\"><link rel=\"mw-deduplicated-inline-style\" href=\"mw-data:TemplateStyles:r1067248974\"/><cite id=\"CITEREFEscoufierHayashiFichet1995\" class=\"citation book cs1\">Escoufier, Yves; Hayashi, Chikio; Fichet, Bernard, eds. (1995). <i>Data science and its applications</i>. Tokyo: Academic Press/Harcourt Brace. <a href=\"/wiki/ISBN_(identifier)\" class=\"mw-redirect\" title=\"ISBN (identifier)\">ISBN</a>&#160;<a href=\"/wiki/Special:BookSources/0-12-241770-4\" title=\"Special:BookSources/0-12-241770-4\"><bdi>0-12-241770-4</bdi></a>. <a href=\"/wiki/OCLC_(identifier)\" class=\"mw-redirect\" title=\"OCLC (identifier)\">OCLC</a>&#160;<a rel=\"nofollow\" class=\"external text\" href=\"//www.worldcat.org/oclc/489990740\">489990740</a>.</cite><span title=\"ctx_ver=Z39.88-2004&amp;rft_val_fmt=info%3Aofi%2Ffmt%3Akev%3Amtx%3Abook&amp;rft.genre=book&amp;rft.btitle=Data+science+and+its+applications&amp;rft.place=Tokyo&amp;rft.pub=Academic+Press%2FHarcourt+Brace&amp;rft.date=1995&amp;rft_id=info%3Aoclcnum%2F489990740&amp;rft.isbn=0-12-241770-4&amp;rfr_id=info%3Asid%2Fen.wikipedia.org%3AData+science\" class=\"Z3988\"></span></span>\\n</li>\\n<li id=\"cite_note-Murtagh_2018_14-22\"><span class=\"mw-cite-backlink\">^ <a href=\"#cite_ref-Murtagh_2018_14_22-0\"><sup><i><b>a</b></i></sup></a> <a href=\"#cite_ref-Murtagh_2018_14_22-1\"><sup><i><b>b</b></i></sup></a></span> <span class=\"reference-text\"><link rel=\"mw-deduplicated-inline-style\" href=\"mw-data:TemplateStyles:r1067248974\"/><cite id=\"CITEREFMurtaghDevlin2018\" class=\"citation journal cs1\">Murtagh, Fionn; Devlin, Keith (2018). <a rel=\"nofollow\" class=\"external text\" href=\"https://doi.org/10.3390%2Fbdcc2020014\">\"The Development of Data Science: Implications for Education, Employment, Research, and the Data Revolution for Sustainable Development\"</a>. <i>Big Data and Cognitive Computing</i>. <b>2</b> (2): 14. <a href=\"/wiki/Doi_(identifier)\" class=\"mw-redirect\" title=\"Doi (identifier)\">doi</a>:<span class=\"cs1-lock-free\" title=\"Freely accessible\"><a rel=\"nofollow\" class=\"external text\" href=\"https://doi.org/10.3390%2Fbdcc2020014\">10.3390/bdcc2020014</a></span>.</cite><span title=\"ctx_ver=Z39.88-2004&amp;rft_val_fmt=info%3Aofi%2Ffmt%3Akev%3Amtx%3Ajournal&amp;rft.genre=article&amp;rft.jtitle=Big+Data+and+Cognitive+Computing&amp;rft.atitle=The+Development+of+Data+Science%3A+Implications+for+Education%2C+Employment%2C+Research%2C+and+the+Data+Revolution+for+Sustainable+Development&amp;rft.volume=2&amp;rft.issue=2&amp;rft.pages=14&amp;rft.date=2018&amp;rft_id=info%3Adoi%2F10.3390%2Fbdcc2020014&amp;rft.aulast=Murtagh&amp;rft.aufirst=Fionn&amp;rft.au=Devlin%2C+Keith&amp;rft_id=%2F%2Fdoi.org%2F10.3390%252Fbdcc2020014&amp;rfr_id=info%3Asid%2Fen.wikipedia.org%3AData+science\" class=\"Z3988\"></span></span>\\n</li>\\n<li id=\"cite_note-23\"><span class=\"mw-cite-backlink\"><b><a href=\"#cite_ref-23\">^</a></b></span> <span class=\"reference-text\"><link rel=\"mw-deduplicated-inline-style\" href=\"mw-data:TemplateStyles:r1067248974\"/><cite id=\"CITEREFWu\" class=\"citation web cs1\">Wu, C.&#160;F. Jeff. <a rel=\"nofollow\" class=\"external text\" href=\"http://www2.isye.gatech.edu/~jeffwu/presentations/datascience.pdf\">\"Statistics=Data Science?\"</a> <span class=\"cs1-format\">(PDF)</span><span class=\"reference-accessdate\">. Retrieved <span class=\"nowrap\">2 April</span> 2020</span>.</cite><span title=\"ctx_ver=Z39.88-2004&amp;rft_val_fmt=info%3Aofi%2Ffmt%3Akev%3Amtx%3Abook&amp;rft.genre=unknown&amp;rft.btitle=Statistics%3DData+Science%3F&amp;rft.aulast=Wu&amp;rft.aufirst=C.+F.+Jeff&amp;rft_id=http%3A%2F%2Fwww2.isye.gatech.edu%2F~jeffwu%2Fpresentations%2Fdatascience.pdf&amp;rfr_id=info%3Asid%2Fen.wikipedia.org%3AData+science\" class=\"Z3988\"></span></span>\\n</li>\\n<li id=\"cite_note-:1-24\"><span class=\"mw-cite-backlink\">^ <a href=\"#cite_ref-:1_24-0\"><sup><i><b>a</b></i></sup></a> <a href=\"#cite_ref-:1_24-1\"><sup><i><b>b</b></i></sup></a> <a href=\"#cite_ref-:1_24-2\"><sup><i><b>c</b></i></sup></a></span> <span class=\"reference-text\"><link rel=\"mw-deduplicated-inline-style\" href=\"mw-data:TemplateStyles:r1067248974\"/><cite id=\"CITEREFPress\" class=\"citation web cs1\">Press, Gil. <a rel=\"nofollow\" class=\"external text\" href=\"https://www.forbes.com/sites/gilpress/2013/05/28/a-very-short-history-of-data-science/\">\"A Very Short History of Data Science\"</a>. <i>Forbes</i><span class=\"reference-accessdate\">. Retrieved <span class=\"nowrap\">3 April</span> 2020</span>.</cite><span title=\"ctx_ver=Z39.88-2004&amp;rft_val_fmt=info%3Aofi%2Ffmt%3Akev%3Amtx%3Ajournal&amp;rft.genre=unknown&amp;rft.jtitle=Forbes&amp;rft.atitle=A+Very+Short+History+of+Data+Science&amp;rft.aulast=Press&amp;rft.aufirst=Gil&amp;rft_id=https%3A%2F%2Fwww.forbes.com%2Fsites%2Fgilpress%2F2013%2F05%2F28%2Fa-very-short-history-of-data-science%2F&amp;rfr_id=info%3Asid%2Fen.wikipedia.org%3AData+science\" class=\"Z3988\"></span></span>\\n</li>\\n<li id=\"cite_note-25\"><span class=\"mw-cite-backlink\"><b><a href=\"#cite_ref-25\">^</a></b></span> <span class=\"reference-text\"><link rel=\"mw-deduplicated-inline-style\" href=\"mw-data:TemplateStyles:r1067248974\"/><cite id=\"CITEREFDavenport2012\" class=\"citation magazine cs1\">Davenport, Thomas (1 October 2012). <a rel=\"nofollow\" class=\"external text\" href=\"https://hbr.org/2012/10/data-scientist-the-sexiest-job-of-the-21st-century\">\"Data Scientist: The Sexiest Job of the 21st Century\"</a>. <i><a href=\"/wiki/Harvard_Business_Review\" title=\"Harvard Business Review\">Harvard Business Review</a></i><span class=\"reference-accessdate\">. Retrieved <span class=\"nowrap\">10 October</span> 2022</span>.</cite><span title=\"ctx_ver=Z39.88-2004&amp;rft_val_fmt=info%3Aofi%2Ffmt%3Akev%3Amtx%3Ajournal&amp;rft.genre=article&amp;rft.jtitle=Harvard+Business+Review&amp;rft.atitle=Data+Scientist%3A+The+Sexiest+Job+of+the+21st+Century&amp;rft.date=2012-10-01&amp;rft.aulast=Davenport&amp;rft.aufirst=Thomas&amp;rft_id=https%3A%2F%2Fhbr.org%2F2012%2F10%2Fdata-scientist-the-sexiest-job-of-the-21st-century&amp;rfr_id=info%3Asid%2Fen.wikipedia.org%3AData+science\" class=\"Z3988\"></span></span>\\n</li>\\n<li id=\"cite_note-26\"><span class=\"mw-cite-backlink\"><b><a href=\"#cite_ref-26\">^</a></b></span> <span class=\"reference-text\"><link rel=\"mw-deduplicated-inline-style\" href=\"mw-data:TemplateStyles:r1067248974\"/><cite id=\"CITEREFMiller2013\" class=\"citation news cs1\">Miller, Claire (4 April 2013). <a rel=\"nofollow\" class=\"external text\" href=\"https://www.nytimes.com/2013/04/14/education/edlife/universities-offer-courses-in-a-hot-new-field-data-science.html\">\"Data Science: The Numbers of Our Lives\"</a>. <i><a href=\"/wiki/New_York_Times\" class=\"mw-redirect\" title=\"New York Times\">New York Times</a></i>. <a href=\"/wiki/New_York_City\" title=\"New York City\">New York City</a><span class=\"reference-accessdate\">. Retrieved <span class=\"nowrap\">10 October</span> 2022</span>.</cite><span title=\"ctx_ver=Z39.88-2004&amp;rft_val_fmt=info%3Aofi%2Ffmt%3Akev%3Amtx%3Ajournal&amp;rft.genre=article&amp;rft.jtitle=New+York+Times&amp;rft.atitle=Data+Science%3A+The+Numbers+of+Our+Lives&amp;rft.date=2013-04-04&amp;rft.aulast=Miller&amp;rft.aufirst=Claire&amp;rft_id=https%3A%2F%2Fwww.nytimes.com%2F2013%2F04%2F14%2Feducation%2Fedlife%2Funiversities-offer-courses-in-a-hot-new-field-data-science.html&amp;rfr_id=info%3Asid%2Fen.wikipedia.org%3AData+science\" class=\"Z3988\"></span></span>\\n</li>\\n<li id=\"cite_note-27\"><span class=\"mw-cite-backlink\"><b><a href=\"#cite_ref-27\">^</a></b></span> <span class=\"reference-text\"><link rel=\"mw-deduplicated-inline-style\" href=\"mw-data:TemplateStyles:r1067248974\"/><cite id=\"CITEREFBorchers2015\" class=\"citation news cs1\">Borchers, Callum (11 November 2015). <a rel=\"nofollow\" class=\"external text\" href=\"https://www.bostonglobe.com/business/2015/11/11/behind-scenes-sexiest-job-century/Kc1cvXIu31DfHhVmyRQeIJ/story.html\">\"Behind the scenes of the \\'sexiest job of the 21st century\\'<span class=\"cs1-kern-right\"></span>\"</a>. <i><a href=\"/wiki/Boston_Globe\" class=\"mw-redirect\" title=\"Boston Globe\">Boston Globe</a></i>. <a href=\"/wiki/Boston\" title=\"Boston\">Boston</a><span class=\"reference-accessdate\">. Retrieved <span class=\"nowrap\">10 October</span> 2022</span>.</cite><span title=\"ctx_ver=Z39.88-2004&amp;rft_val_fmt=info%3Aofi%2Ffmt%3Akev%3Amtx%3Ajournal&amp;rft.genre=article&amp;rft.jtitle=Boston+Globe&amp;rft.atitle=Behind+the+scenes+of+the+%27sexiest+job+of+the+21st+century%27&amp;rft.date=2015-11-11&amp;rft.aulast=Borchers&amp;rft.aufirst=Callum&amp;rft_id=https%3A%2F%2Fwww.bostonglobe.com%2Fbusiness%2F2015%2F11%2F11%2Fbehind-scenes-sexiest-job-century%2FKc1cvXIu31DfHhVmyRQeIJ%2Fstory.html&amp;rfr_id=info%3Asid%2Fen.wikipedia.org%3AData+science\" class=\"Z3988\"></span></span>\\n</li>\\n<li id=\"cite_note-28\"><span class=\"mw-cite-backlink\"><b><a href=\"#cite_ref-28\">^</a></b></span> <span class=\"reference-text\"><link rel=\"mw-deduplicated-inline-style\" href=\"mw-data:TemplateStyles:r1067248974\"/><cite id=\"CITEREFDavenport2022\" class=\"citation magazine cs1\">Davenport, Thomas (15 July 2022). <a rel=\"nofollow\" class=\"external text\" href=\"https://hbr.org/2022/07/is-data-scientist-still-the-sexiest-job-of-the-21st-century\">\"Is Data Scientist Still the Sexiest Job of the 21st Century?\"</a>. <i><a href=\"/wiki/Harvard_Business_Review\" title=\"Harvard Business Review\">Harvard Business Review</a></i><span class=\"reference-accessdate\">. Retrieved <span class=\"nowrap\">10 October</span> 2022</span>.</cite><span title=\"ctx_ver=Z39.88-2004&amp;rft_val_fmt=info%3Aofi%2Ffmt%3Akev%3Amtx%3Ajournal&amp;rft.genre=article&amp;rft.jtitle=Harvard+Business+Review&amp;rft.atitle=Is+Data+Scientist+Still+the+Sexiest+Job+of+the+21st+Century%3F&amp;rft.date=2022-07-15&amp;rft.aulast=Davenport&amp;rft.aufirst=Thomas&amp;rft_id=https%3A%2F%2Fhbr.org%2F2022%2F07%2Fis-data-scientist-still-the-sexiest-job-of-the-21st-century&amp;rfr_id=info%3Asid%2Fen.wikipedia.org%3AData+science\" class=\"Z3988\"></span></span>\\n</li>\\n<li id=\"cite_note-29\"><span class=\"mw-cite-backlink\"><b><a href=\"#cite_ref-29\">^</a></b></span> <span class=\"reference-text\"><link rel=\"mw-deduplicated-inline-style\" href=\"mw-data:TemplateStyles:r1067248974\"/><cite id=\"CITEREFGupta2015\" class=\"citation web cs1\">Gupta, Shanti (11 December 2015). <a rel=\"nofollow\" class=\"external text\" href=\"https://www.stat.purdue.edu/~wsc/\">\"William S. Cleveland\"</a><span class=\"reference-accessdate\">. Retrieved <span class=\"nowrap\">2 April</span> 2020</span>.</cite><span title=\"ctx_ver=Z39.88-2004&amp;rft_val_fmt=info%3Aofi%2Ffmt%3Akev%3Amtx%3Abook&amp;rft.genre=unknown&amp;rft.btitle=William+S.+Cleveland&amp;rft.date=2015-12-11&amp;rft.aulast=Gupta&amp;rft.aufirst=Shanti&amp;rft_id=https%3A%2F%2Fwww.stat.purdue.edu%2F~wsc%2F&amp;rfr_id=info%3Asid%2Fen.wikipedia.org%3AData+science\" class=\"Z3988\"></span></span>\\n</li>\\n<li id=\"cite_note-30\"><span class=\"mw-cite-backlink\"><b><a href=\"#cite_ref-30\">^</a></b></span> <span class=\"reference-text\"><link rel=\"mw-deduplicated-inline-style\" href=\"mw-data:TemplateStyles:r1067248974\"/><cite id=\"CITEREFTalley2016\" class=\"citation news cs1\">Talley, Jill (1 June 2016). <a rel=\"nofollow\" class=\"external text\" href=\"https://magazine.amstat.org/blog/2016/06/01/datascience-2/\">\"ASA Expands Scope, Outreach to Foster Growth, Collaboration in Data Science\"</a>. <i>Amstat News</i>. American Statistical Association.</cite><span title=\"ctx_ver=Z39.88-2004&amp;rft_val_fmt=info%3Aofi%2Ffmt%3Akev%3Amtx%3Ajournal&amp;rft.genre=article&amp;rft.jtitle=Amstat+News&amp;rft.atitle=ASA+Expands+Scope%2C+Outreach+to+Foster+Growth%2C+Collaboration+in+Data+Science&amp;rft.date=2016-06-01&amp;rft.aulast=Talley&amp;rft.aufirst=Jill&amp;rft_id=https%3A%2F%2Fmagazine.amstat.org%2Fblog%2F2016%2F06%2F01%2Fdatascience-2%2F&amp;rfr_id=info%3Asid%2Fen.wikipedia.org%3AData+science\" class=\"Z3988\"></span></span>\\n</li>\\n<li id=\"cite_note-31\"><span class=\"mw-cite-backlink\"><b><a href=\"#cite_ref-31\">^</a></b></span> <span class=\"reference-text\"><link rel=\"mw-deduplicated-inline-style\" href=\"mw-data:TemplateStyles:r1067248974\"/><cite id=\"CITEREFDavenportPatil2012\" class=\"citation news cs1\">Davenport, Thomas H.; Patil, D. J. (1 October 2012). <a rel=\"nofollow\" class=\"external text\" href=\"https://hbr.org/2012/10/data-scientist-the-sexiest-job-of-the-21st-century\">\"Data Scientist: The Sexiest Job of the 21st Century\"</a>. <i>Harvard Business Review</i>. No.&#160;October 2012. <a href=\"/wiki/ISSN_(identifier)\" class=\"mw-redirect\" title=\"ISSN (identifier)\">ISSN</a>&#160;<a rel=\"nofollow\" class=\"external text\" href=\"//www.worldcat.org/issn/0017-8012\">0017-8012</a><span class=\"reference-accessdate\">. Retrieved <span class=\"nowrap\">3 April</span> 2020</span>.</cite><span title=\"ctx_ver=Z39.88-2004&amp;rft_val_fmt=info%3Aofi%2Ffmt%3Akev%3Amtx%3Ajournal&amp;rft.genre=article&amp;rft.jtitle=Harvard+Business+Review&amp;rft.atitle=Data+Scientist%3A+The+Sexiest+Job+of+the+21st+Century&amp;rft.issue=October+2012&amp;rft.date=2012-10-01&amp;rft.issn=0017-8012&amp;rft.aulast=Davenport&amp;rft.aufirst=Thomas+H.&amp;rft.au=Patil%2C+D.+J.&amp;rft_id=https%3A%2F%2Fhbr.org%2F2012%2F10%2Fdata-scientist-the-sexiest-job-of-the-21st-century&amp;rfr_id=info%3Asid%2Fen.wikipedia.org%3AData+science\" class=\"Z3988\"></span></span>\\n</li>\\n<li id=\"cite_note-32\"><span class=\"mw-cite-backlink\"><b><a href=\"#cite_ref-32\">^</a></b></span> <span class=\"reference-text\"><link rel=\"mw-deduplicated-inline-style\" href=\"mw-data:TemplateStyles:r1067248974\"/><cite class=\"citation web cs1\"><a rel=\"nofollow\" class=\"external text\" href=\"https://www.nsf.gov/pubs/2005/nsb0540/\">\"US NSF – NSB-05-40, Long-Lived Digital Data Collections Enabling Research and Education in the 21st Century\"</a>. <i>www.nsf.gov</i><span class=\"reference-accessdate\">. Retrieved <span class=\"nowrap\">3 April</span> 2020</span>.</cite><span title=\"ctx_ver=Z39.88-2004&amp;rft_val_fmt=info%3Aofi%2Ffmt%3Akev%3Amtx%3Ajournal&amp;rft.genre=unknown&amp;rft.jtitle=www.nsf.gov&amp;rft.atitle=US+NSF+%E2%80%93+NSB-05-40%2C+Long-Lived+Digital+Data+Collections+Enabling+Research+and+Education+in+the+21st+Century&amp;rft_id=https%3A%2F%2Fwww.nsf.gov%2Fpubs%2F2005%2Fnsb0540%2F&amp;rfr_id=info%3Asid%2Fen.wikipedia.org%3AData+science\" class=\"Z3988\"></span></span>\\n</li>\\n<li id=\"cite_note-33\"><span class=\"mw-cite-backlink\"><b><a href=\"#cite_ref-33\">^</a></b></span> <span class=\"reference-text\"><link rel=\"mw-deduplicated-inline-style\" href=\"mw-data:TemplateStyles:r1067248974\"/><cite id=\"CITEREFPress\" class=\"citation web cs1\">Press, Gil. <a rel=\"nofollow\" class=\"external text\" href=\"https://www.forbes.com/sites/gilpress/2013/08/19/data-science-whats-the-half-life-of-a-buzzword/\">\"Data Science: What\\'s The Half-Life of a Buzzword?\"</a>. <i>Forbes</i><span class=\"reference-accessdate\">. Retrieved <span class=\"nowrap\">3 April</span> 2020</span>.</cite><span title=\"ctx_ver=Z39.88-2004&amp;rft_val_fmt=info%3Aofi%2Ffmt%3Akev%3Amtx%3Ajournal&amp;rft.genre=unknown&amp;rft.jtitle=Forbes&amp;rft.atitle=Data+Science%3A+What%27s+The+Half-Life+of+a+Buzzword%3F&amp;rft.aulast=Press&amp;rft.aufirst=Gil&amp;rft_id=https%3A%2F%2Fwww.forbes.com%2Fsites%2Fgilpress%2F2013%2F08%2F19%2Fdata-science-whats-the-half-life-of-a-buzzword%2F&amp;rfr_id=info%3Asid%2Fen.wikipedia.org%3AData+science\" class=\"Z3988\"></span></span>\\n</li>\\n<li id=\"cite_note-:5-34\"><span class=\"mw-cite-backlink\"><b><a href=\"#cite_ref-:5_34-0\">^</a></b></span> <span class=\"reference-text\"><link rel=\"mw-deduplicated-inline-style\" href=\"mw-data:TemplateStyles:r1067248974\"/><cite id=\"CITEREFPham\" class=\"citation web cs1\">Pham, Peter. <a rel=\"nofollow\" class=\"external text\" href=\"https://www.forbes.com/sites/peterpham/2015/08/28/the-impacts-of-big-data-that-you-may-not-have-heard-of/\">\"The Impacts of Big Data That You May Not Have Heard Of\"</a>. <i>Forbes</i><span class=\"reference-accessdate\">. Retrieved <span class=\"nowrap\">3 April</span> 2020</span>.</cite><span title=\"ctx_ver=Z39.88-2004&amp;rft_val_fmt=info%3Aofi%2Ffmt%3Akev%3Amtx%3Ajournal&amp;rft.genre=unknown&amp;rft.jtitle=Forbes&amp;rft.atitle=The+Impacts+of+Big+Data+That+You+May+Not+Have+Heard+Of&amp;rft.aulast=Pham&amp;rft.aufirst=Peter&amp;rft_id=https%3A%2F%2Fwww.forbes.com%2Fsites%2Fpeterpham%2F2015%2F08%2F28%2Fthe-impacts-of-big-data-that-you-may-not-have-heard-of%2F&amp;rfr_id=info%3Asid%2Fen.wikipedia.org%3AData+science\" class=\"Z3988\"></span></span>\\n</li>\\n<li id=\"cite_note-:6-35\"><span class=\"mw-cite-backlink\"><b><a href=\"#cite_ref-:6_35-0\">^</a></b></span> <span class=\"reference-text\"><link rel=\"mw-deduplicated-inline-style\" href=\"mw-data:TemplateStyles:r1067248974\"/><cite id=\"CITEREFMartin2019\" class=\"citation web cs1\">Martin, Sophia (20 September 2019). <a rel=\"nofollow\" class=\"external text\" href=\"https://towardsdatascience.com/how-data-science-will-impact-future-of-businesses-7f11f5699c4d\">\"How Data Science will Impact Future of Businesses?\"</a>. <i>Medium</i><span class=\"reference-accessdate\">. Retrieved <span class=\"nowrap\">3 April</span> 2020</span>.</cite><span title=\"ctx_ver=Z39.88-2004&amp;rft_val_fmt=info%3Aofi%2Ffmt%3Akev%3Amtx%3Ajournal&amp;rft.genre=unknown&amp;rft.jtitle=Medium&amp;rft.atitle=How+Data+Science+will+Impact+Future+of+Businesses%3F&amp;rft.date=2019-09-20&amp;rft.aulast=Martin&amp;rft.aufirst=Sophia&amp;rft_id=https%3A%2F%2Ftowardsdatascience.com%2Fhow-data-science-will-impact-future-of-businesses-7f11f5699c4d&amp;rfr_id=info%3Asid%2Fen.wikipedia.org%3AData+science\" class=\"Z3988\"></span></span>\\n</li>\\n</ol></div>\\n<div class=\"navbox-styles nomobile\"><style data-mw-deduplicate=\"TemplateStyles:r1061467846\">.mw-parser-output .navbox{box-sizing:border-box;border:1px solid #a2a9b1;width:100%;clear:both;font-size:88%;text-align:center;padding:1px;margin:1em auto 0}.mw-parser-output .navbox .navbox{margin-top:0}.mw-parser-output .navbox+.navbox,.mw-parser-output .navbox+.navbox-styles+.navbox{margin-top:-1px}.mw-parser-output .navbox-inner,.mw-parser-output .navbox-subgroup{width:100%}.mw-parser-output .navbox-group,.mw-parser-output .navbox-title,.mw-parser-output .navbox-abovebelow{padding:0.25em 1em;line-height:1.5em;text-align:center}.mw-parser-output .navbox-group{white-space:nowrap;text-align:right}.mw-parser-output .navbox,.mw-parser-output .navbox-subgroup{background-color:#fdfdfd}.mw-parser-output .navbox-list{line-height:1.5em;border-color:#fdfdfd}.mw-parser-output .navbox-list-with-group{text-align:left;border-left-width:2px;border-left-style:solid}.mw-parser-output tr+tr>.navbox-abovebelow,.mw-parser-output tr+tr>.navbox-group,.mw-parser-output tr+tr>.navbox-image,.mw-parser-output tr+tr>.navbox-list{border-top:2px solid #fdfdfd}.mw-parser-output .navbox-title{background-color:#ccf}.mw-parser-output .navbox-abovebelow,.mw-parser-output .navbox-group,.mw-parser-output .navbox-subgroup .navbox-title{background-color:#ddf}.mw-parser-output .navbox-subgroup .navbox-group,.mw-parser-output .navbox-subgroup .navbox-abovebelow{background-color:#e6e6ff}.mw-parser-output .navbox-even{background-color:#f7f7f7}.mw-parser-output .navbox-odd{background-color:transparent}.mw-parser-output .navbox .hlist td dl,.mw-parser-output .navbox .hlist td ol,.mw-parser-output .navbox .hlist td ul,.mw-parser-output .navbox td.hlist dl,.mw-parser-output .navbox td.hlist ol,.mw-parser-output .navbox td.hlist ul{padding:0.125em 0}.mw-parser-output .navbox .navbar{display:block;font-size:100%}.mw-parser-output .navbox-title .navbar{float:left;text-align:left;margin-right:0.5em}</style></div><div role=\"navigation\" class=\"navbox\" aria-labelledby=\"Data\" style=\"padding:3px\"><table class=\"nowraplinks mw-collapsible autocollapse navbox-inner\" style=\"border-spacing:0;background:transparent;color:inherit\"><tbody><tr><th scope=\"col\" class=\"navbox-title\" colspan=\"2\"><style data-mw-deduplicate=\"TemplateStyles:r1063604349\">.mw-parser-output .navbar{display:inline;font-size:88%;font-weight:normal}.mw-parser-output .navbar-collapse{float:left;text-align:left}.mw-parser-output .navbar-boxtext{word-spacing:0}.mw-parser-output .navbar ul{display:inline-block;white-space:nowrap;line-height:inherit}.mw-parser-output .navbar-brackets::before{margin-right:-0.125em;content:\"[ \"}.mw-parser-output .navbar-brackets::after{margin-left:-0.125em;content:\" ]\"}.mw-parser-output .navbar li{word-spacing:-0.125em}.mw-parser-output .navbar a>span,.mw-parser-output .navbar a>abbr{text-decoration:inherit}.mw-parser-output .navbar-mini abbr{font-variant:small-caps;border-bottom:none;text-decoration:none;cursor:inherit}.mw-parser-output .navbar-ct-full{font-size:114%;margin:0 7em}.mw-parser-output .navbar-ct-mini{font-size:114%;margin:0 4em}</style><div class=\"navbar plainlinks hlist navbar-mini\"><ul><li class=\"nv-view\"><a href=\"/wiki/Template:Data\" title=\"Template:Data\"><abbr title=\"View this template\" style=\";;background:none transparent;border:none;box-shadow:none;padding:0;\">v</abbr></a></li><li class=\"nv-talk\"><a href=\"/wiki/Template_talk:Data\" title=\"Template talk:Data\"><abbr title=\"Discuss this template\" style=\";;background:none transparent;border:none;box-shadow:none;padding:0;\">t</abbr></a></li><li class=\"nv-edit\"><a class=\"external text\" href=\"https://en.wikipedia.org/w/index.php?title=Template:Data&amp;action=edit\"><abbr title=\"Edit this template\" style=\";;background:none transparent;border:none;box-shadow:none;padding:0;\">e</abbr></a></li></ul></div><div id=\"Data\" style=\"font-size:114%;margin:0 4em\"><a href=\"/wiki/Data_(computing)\" class=\"mw-redirect\" title=\"Data (computing)\">Data</a></div></th></tr><tr><td colspan=\"2\" class=\"navbox-list navbox-odd hlist\" style=\"width:100%;padding:0\"><div style=\"padding:0 0.25em\">\\n<ul><li><a href=\"/wiki/Data_augmentation\" title=\"Data augmentation\">Augmentation</a></li>\\n<li><a href=\"/wiki/Data_analysis\" title=\"Data analysis\">Analysis</a></li>\\n<li><a href=\"/wiki/Data_archaeology\" title=\"Data archaeology\">Archaeology</a></li>\\n<li><a href=\"/wiki/Big_data\" title=\"Big data\">Big</a></li>\\n<li><a href=\"/wiki/Data_cleansing\" title=\"Data cleansing\">Cleansing</a></li>\\n<li><a href=\"/wiki/Data_collection\" title=\"Data collection\">Collection</a></li>\\n<li><a href=\"/wiki/Data_compression\" title=\"Data compression\">Compression</a></li>\\n<li><a href=\"/wiki/Data_corruption\" title=\"Data corruption\">Corruption</a></li>\\n<li><a href=\"/wiki/Data_curation\" title=\"Data curation\">Curation</a></li>\\n<li><a href=\"/wiki/Data_degradation\" title=\"Data degradation\">Degradation</a></li>\\n<li><a href=\"/wiki/Data_editing\" title=\"Data editing\">Editing</a></li>\\n<li><a href=\"/wiki/Extract,_transform,_load\" title=\"Extract, transform, load\">ETL</a>/<a href=\"/wiki/Extract,_load,_transform\" title=\"Extract, load, transform\">ELT</a>\\n<ul><li><a href=\"/wiki/Data_extraction\" title=\"Data extraction\">Extract</a></li>\\n<li><a href=\"/wiki/Data_transformation\" class=\"mw-redirect\" title=\"Data transformation\">Transform</a></li>\\n<li><a href=\"/wiki/Data_loading\" class=\"mw-redirect\" title=\"Data loading\">Load</a></li></ul></li>\\n<li><a href=\"/wiki/Data_farming\" title=\"Data farming\">Farming</a></li>\\n<li><a href=\"/wiki/Data_format_management\" title=\"Data format management\">Format management</a></li>\\n<li><a href=\"/wiki/Data_fusion\" title=\"Data fusion\">Fusion</a></li>\\n<li><a href=\"/wiki/Data_integration\" title=\"Data integration\">Integration</a></li>\\n<li><a href=\"/wiki/Data_integrity\" title=\"Data integrity\">Integrity</a></li>\\n<li><a href=\"/wiki/Data_library\" title=\"Data library\">Library</a></li>\\n<li><a href=\"/wiki/Data_lineage\" title=\"Data lineage\">Lineage</a></li>\\n<li><a href=\"/wiki/Data_loss\" title=\"Data loss\">Loss</a></li>\\n<li><a href=\"/wiki/Data_management\" title=\"Data management\">Management</a></li>\\n<li><a href=\"/wiki/Data_migration\" title=\"Data migration\">Migration</a></li>\\n<li><a href=\"/wiki/Data_mining\" title=\"Data mining\">Mining</a></li>\\n<li><a href=\"/wiki/Data_philanthropy\" title=\"Data philanthropy\">Philanthropy</a></li>\\n<li><a href=\"/wiki/Data_pre-processing\" title=\"Data pre-processing\">Pre-processing</a></li>\\n<li><a href=\"/wiki/Data_preservation\" title=\"Data preservation\">Preservation</a></li>\\n<li><a href=\"/wiki/Information_privacy\" title=\"Information privacy\">Protection (privacy)</a></li>\\n<li><a href=\"/wiki/Data_publishing\" title=\"Data publishing\">Publishing</a></li>\\n<li><a href=\"/wiki/Data_recovery\" title=\"Data recovery\">Recovery</a></li>\\n<li><a href=\"/wiki/Data_reduction\" title=\"Data reduction\">Reduction</a></li>\\n<li><a href=\"/wiki/Data_retention\" title=\"Data retention\">Retention</a></li>\\n<li><a href=\"/wiki/Data_quality\" title=\"Data quality\">Quality</a></li>\\n<li><a class=\"mw-selflink selflink\">Science</a></li>\\n<li><a href=\"/wiki/Data_scraping\" title=\"Data scraping\">Scraping</a></li>\\n<li><a href=\"/wiki/Data_scrubbing\" title=\"Data scrubbing\">Scrubbing</a></li>\\n<li><a href=\"/wiki/Data_security\" title=\"Data security\">Security</a></li>\\n<li><a href=\"/wiki/Data_steward\" title=\"Data steward\">Stewardship</a></li>\\n<li><a href=\"/wiki/Data_storage\" title=\"Data storage\">Storage</a></li>\\n<li><a href=\"/wiki/Data_validation\" title=\"Data validation\">Validation</a></li>\\n<li><a href=\"/wiki/Data_warehouse\" title=\"Data warehouse\">Warehouse</a></li>\\n<li><a href=\"/wiki/Data_wrangling\" title=\"Data wrangling\">Wrangling/munging</a></li></ul>\\n</div></td></tr></tbody></table></div>\\n<!-- \\nNewPP limit report\\nParsed by mw2327\\nCached time: 20221107183952\\nCache expiry: 1814400\\nReduced expiry: false\\nComplications: [vary‐revision‐sha1, show‐toc]\\nCPU time usage: 0.332 seconds\\nReal time usage: 0.444 seconds\\nPreprocessor visited node count: 1966/1000000\\nPost‐expand include size: 71860/2097152 bytes\\nTemplate argument size: 1033/2097152 bytes\\nHighest expansion depth: 12/100\\nExpensive parser function count: 2/500\\nUnstrip recursion depth: 1/20\\nUnstrip post‐expand size: 111052/5000000 bytes\\nLua time usage: 0.211/10.000 seconds\\nLua memory usage: 6047886/52428800 bytes\\nNumber of Wikibase entities loaded: 0/400\\n-->\\n<!--\\nTransclusion expansion time report (%,ms,calls,template)\\n100.00%  390.054      1 -total\\n 57.77%  225.338      1 Template:Reflist\\n 24.10%   94.020      8 Template:Cite_journal\\n 17.91%   69.849      1 Template:Short_description\\n 15.08%   58.832     18 Template:Cite_web\\n 10.50%   40.954      1 Template:Data\\n  9.90%   38.610      1 Template:Navbox\\n  8.34%   32.512      2 Template:Pagetype\\n  6.61%   25.765      4 Template:Main_other\\n  6.11%   23.848      1 Template:Distinguish\\n-->\\n\\n<!-- Saved in parser cache with key enwiki:pcache:idhash:35458904-0!canonical and timestamp 20221107183952 and revision id 1120574273.\\n -->\\n</div><noscript><img src=\"//en.wikipedia.org/wiki/Special:CentralAutoLogin/start?type=1x1\" alt=\"\" title=\"\" width=\"1\" height=\"1\" style=\"border: none; position: absolute;\" /></noscript>\\n<div class=\"printfooter\" data-nosnippet=\"\">Retrieved from \"<a dir=\"ltr\" href=\"https://en.wikipedia.org/w/index.php?title=Data_science&amp;oldid=1120574273\">https://en.wikipedia.org/w/index.php?title=Data_science&amp;oldid=1120574273</a>\"</div></div>\\n\\t\\t<div id=\"catlinks\" class=\"catlinks\" data-mw=\"interface\"><div id=\"mw-normal-catlinks\" class=\"mw-normal-catlinks\"><a href=\"/wiki/Help:Category\" title=\"Help:Category\">Categories</a>: <ul><li><a href=\"/wiki/Category:Information_science\" title=\"Category:Information science\">Information science</a></li><li><a href=\"/wiki/Category:Computer_occupations\" title=\"Category:Computer occupations\">Computer occupations</a></li><li><a href=\"/wiki/Category:Computational_fields_of_study\" title=\"Category:Computational fields of study\">Computational fields of study</a></li><li><a href=\"/wiki/Category:Data_analysis\" title=\"Category:Data analysis\">Data analysis</a></li></ul></div><div id=\"mw-hidden-catlinks\" class=\"mw-hidden-catlinks mw-hidden-cats-hidden\">Hidden categories: <ul><li><a href=\"/wiki/Category:Articles_with_short_description\" title=\"Category:Articles with short description\">Articles with short description</a></li><li><a href=\"/wiki/Category:Short_description_matches_Wikidata\" title=\"Category:Short description matches Wikidata\">Short description matches Wikidata</a></li><li><a href=\"/wiki/Category:Use_dmy_dates_from_August_2021\" title=\"Category:Use dmy dates from August 2021\">Use dmy dates from August 2021</a></li></ul></div></div>\\n\\t</div>\\n</div>\\n\\n<div id=\"mw-navigation\">\\n\\t<h2>Navigation menu</h2>\\n\\t<div id=\"mw-head\">\\n\\t\\t\\n\\n<nav id=\"p-personal\" class=\"vector-menu mw-portlet mw-portlet-personal vector-user-menu-legacy\" aria-labelledby=\"p-personal-label\" role=\"navigation\"  >\\n\\t<h3\\n\\t\\tid=\"p-personal-label\"\\n\\t\\t\\n\\t\\tclass=\"vector-menu-heading \"\\n\\t>\\n\\t\\t<span class=\"vector-menu-heading-label\">Personal tools</span>\\n\\t</h3>\\n\\t<div class=\"vector-menu-content\">\\n\\t\\t\\n\\t\\t<ul class=\"vector-menu-content-list\"><li id=\"pt-anonuserpage\" class=\"mw-list-item\"><span title=\"The user page for the IP address you are editing as\">Not logged in</span></li><li id=\"pt-anontalk\" class=\"mw-list-item\"><a href=\"/wiki/Special:MyTalk\" title=\"Discussion about edits from this IP address [n]\" accesskey=\"n\"><span>Talk</span></a></li><li id=\"pt-anoncontribs\" class=\"mw-list-item\"><a href=\"/wiki/Special:MyContributions\" title=\"A list of edits made from this IP address [y]\" accesskey=\"y\"><span>Contributions</span></a></li><li id=\"pt-createaccount\" class=\"mw-list-item\"><a href=\"/w/index.php?title=Special:CreateAccount&amp;returnto=Data+science\" title=\"You are encouraged to create an account and log in; however, it is not mandatory\"><span>Create account</span></a></li><li id=\"pt-login\" class=\"mw-list-item\"><a href=\"/w/index.php?title=Special:UserLogin&amp;returnto=Data+science\" title=\"You&#039;re encouraged to log in; however, it&#039;s not mandatory. [o]\" accesskey=\"o\"><span>Log in</span></a></li></ul>\\n\\t\\t\\n\\t</div>\\n</nav>\\n\\n\\t\\t<div id=\"left-navigation\">\\n\\t\\t\\t\\n\\n<nav id=\"p-namespaces\" class=\"vector-menu mw-portlet mw-portlet-namespaces vector-menu-tabs vector-menu-tabs-legacy\" aria-labelledby=\"p-namespaces-label\" role=\"navigation\"  >\\n\\t<h3\\n\\t\\tid=\"p-namespaces-label\"\\n\\t\\t\\n\\t\\tclass=\"vector-menu-heading \"\\n\\t>\\n\\t\\t<span class=\"vector-menu-heading-label\">Namespaces</span>\\n\\t</h3>\\n\\t<div class=\"vector-menu-content\">\\n\\t\\t\\n\\t\\t<ul class=\"vector-menu-content-list\"><li id=\"ca-nstab-main\" class=\"selected mw-list-item\"><a href=\"/wiki/Data_science\" title=\"View the content page [c]\" accesskey=\"c\"><span>Article</span></a></li><li id=\"ca-talk\" class=\"mw-list-item\"><a href=\"/wiki/Talk:Data_science\" rel=\"discussion\" title=\"Discuss improvements to the content page [t]\" accesskey=\"t\"><span>Talk</span></a></li></ul>\\n\\t\\t\\n\\t</div>\\n</nav>\\n\\n\\t\\t\\t\\n\\n<nav id=\"p-variants\" class=\"vector-menu mw-portlet mw-portlet-variants emptyPortlet vector-menu-dropdown-noicon vector-menu-dropdown\" aria-labelledby=\"p-variants-label\" role=\"navigation\"  >\\n\\t<input type=\"checkbox\"\\n\\t\\tid=\"p-variants-checkbox\"\\n\\t\\trole=\"button\"\\n\\t\\taria-haspopup=\"true\"\\n\\t\\tdata-event-name=\"ui.dropdown-p-variants\"\\n\\t\\tclass=\"vector-menu-checkbox\"\\n\\t\\taria-labelledby=\"p-variants-label\"\\n\\t/>\\n\\t<label\\n\\t\\tid=\"p-variants-label\"\\n\\t\\t aria-label=\"Change language variant\"\\n\\t\\tclass=\"vector-menu-heading \"\\n\\t>\\n\\t\\t<span class=\"vector-menu-heading-label\">English</span>\\n\\t</label>\\n\\t<div class=\"vector-menu-content\">\\n\\t\\t\\n\\t\\t<ul class=\"vector-menu-content-list\"></ul>\\n\\t\\t\\n\\t</div>\\n</nav>\\n\\n\\t\\t</div>\\n\\t\\t<div id=\"right-navigation\">\\n\\t\\t\\t\\n\\n<nav id=\"p-views\" class=\"vector-menu mw-portlet mw-portlet-views vector-menu-tabs vector-menu-tabs-legacy\" aria-labelledby=\"p-views-label\" role=\"navigation\"  >\\n\\t<h3\\n\\t\\tid=\"p-views-label\"\\n\\t\\t\\n\\t\\tclass=\"vector-menu-heading \"\\n\\t>\\n\\t\\t<span class=\"vector-menu-heading-label\">Views</span>\\n\\t</h3>\\n\\t<div class=\"vector-menu-content\">\\n\\t\\t\\n\\t\\t<ul class=\"vector-menu-content-list\"><li id=\"ca-view\" class=\"selected mw-list-item\"><a href=\"/wiki/Data_science\"><span>Read</span></a></li><li id=\"ca-edit\" class=\"mw-list-item\"><a href=\"/w/index.php?title=Data_science&amp;action=edit\" title=\"Edit this page [e]\" accesskey=\"e\"><span>Edit</span></a></li><li id=\"ca-history\" class=\"mw-list-item\"><a href=\"/w/index.php?title=Data_science&amp;action=history\" title=\"Past revisions of this page [h]\" accesskey=\"h\"><span>View history</span></a></li></ul>\\n\\t\\t\\n\\t</div>\\n</nav>\\n\\n\\t\\t\\t\\n\\n<nav id=\"p-cactions\" class=\"vector-menu mw-portlet mw-portlet-cactions emptyPortlet vector-menu-dropdown-noicon vector-menu-dropdown\" aria-labelledby=\"p-cactions-label\" role=\"navigation\"  title=\"More options\" >\\n\\t<input type=\"checkbox\"\\n\\t\\tid=\"p-cactions-checkbox\"\\n\\t\\trole=\"button\"\\n\\t\\taria-haspopup=\"true\"\\n\\t\\tdata-event-name=\"ui.dropdown-p-cactions\"\\n\\t\\tclass=\"vector-menu-checkbox\"\\n\\t\\taria-labelledby=\"p-cactions-label\"\\n\\t/>\\n\\t<label\\n\\t\\tid=\"p-cactions-label\"\\n\\t\\t\\n\\t\\tclass=\"vector-menu-heading \"\\n\\t>\\n\\t\\t<span class=\"vector-menu-heading-label\">More</span>\\n\\t</label>\\n\\t<div class=\"vector-menu-content\">\\n\\t\\t\\n\\t\\t<ul class=\"vector-menu-content-list\"></ul>\\n\\t\\t\\n\\t</div>\\n</nav>\\n\\n\\t\\t\\t\\n<div id=\"p-search\" role=\"search\" class=\"vector-search-box-vue  vector-search-box-show-thumbnail vector-search-box-auto-expand-width vector-search-box\">\\n\\t<div>\\n\\t\\t<form action=\"/w/index.php\" id=\"searchform\"\\n\\t\\t\\tclass=\"vector-search-box-form\">\\n\\t\\t\\t<div id=\"simpleSearch\"\\n\\t\\t\\t\\tclass=\"vector-search-box-inner\"\\n\\t\\t\\t\\t data-search-loc=\"header-navigation\">\\n\\t\\t\\t\\t<input class=\"vector-search-box-input\"\\n\\t\\t\\t\\t\\t type=\"search\" name=\"search\" placeholder=\"Search Wikipedia\" aria-label=\"Search Wikipedia\" autocapitalize=\"sentences\" title=\"Search Wikipedia [f]\" accesskey=\"f\" id=\"searchInput\"\\n\\t\\t\\t\\t>\\n\\t\\t\\t\\t<input type=\"hidden\" name=\"title\" value=\"Special:Search\">\\n\\t\\t\\t\\t<input id=\"mw-searchButton\"\\n\\t\\t\\t\\t\\t class=\"searchButton mw-fallbackSearchButton\" type=\"submit\" name=\"fulltext\" title=\"Search Wikipedia for this text\" value=\"Search\">\\n\\t\\t\\t\\t<input id=\"searchButton\"\\n\\t\\t\\t\\t\\t class=\"searchButton\" type=\"submit\" name=\"go\" title=\"Go to a page with this exact name if it exists\" value=\"Go\">\\n\\t\\t\\t</div>\\n\\t\\t</form>\\n\\t</div>\\n</div>\\n\\n\\t\\t</div>\\n\\t</div>\\n\\t\\n\\n<div id=\"mw-panel\">\\n\\t<div id=\"p-logo\" role=\"banner\">\\n\\t\\t<a class=\"mw-wiki-logo\" href=\"/wiki/Main_Page\"\\n\\t\\t\\ttitle=\"Visit the main page\"></a>\\n\\t</div>\\n\\t\\n\\n<nav id=\"p-navigation\" class=\"vector-menu mw-portlet mw-portlet-navigation vector-menu-portal portal\" aria-labelledby=\"p-navigation-label\" role=\"navigation\"  >\\n\\t<h3\\n\\t\\tid=\"p-navigation-label\"\\n\\t\\t\\n\\t\\tclass=\"vector-menu-heading \"\\n\\t>\\n\\t\\t<span class=\"vector-menu-heading-label\">Navigation</span>\\n\\t</h3>\\n\\t<div class=\"vector-menu-content\">\\n\\t\\t\\n\\t\\t<ul class=\"vector-menu-content-list\"><li id=\"n-mainpage-description\" class=\"mw-list-item\"><a href=\"/wiki/Main_Page\" title=\"Visit the main page [z]\" accesskey=\"z\"><span>Main page</span></a></li><li id=\"n-contents\" class=\"mw-list-item\"><a href=\"/wiki/Wikipedia:Contents\" title=\"Guides to browsing Wikipedia\"><span>Contents</span></a></li><li id=\"n-currentevents\" class=\"mw-list-item\"><a href=\"/wiki/Portal:Current_events\" title=\"Articles related to current events\"><span>Current events</span></a></li><li id=\"n-randompage\" class=\"mw-list-item\"><a href=\"/wiki/Special:Random\" title=\"Visit a randomly selected article [x]\" accesskey=\"x\"><span>Random article</span></a></li><li id=\"n-aboutsite\" class=\"mw-list-item\"><a href=\"/wiki/Wikipedia:About\" title=\"Learn about Wikipedia and how it works\"><span>About Wikipedia</span></a></li><li id=\"n-contactpage\" class=\"mw-list-item\"><a href=\"//en.wikipedia.org/wiki/Wikipedia:Contact_us\" title=\"How to contact Wikipedia\"><span>Contact us</span></a></li><li id=\"n-sitesupport\" class=\"mw-list-item\"><a href=\"https://donate.wikimedia.org/wiki/Special:FundraiserRedirector?utm_source=donate&amp;utm_medium=sidebar&amp;utm_campaign=C13_en.wikipedia.org&amp;uselang=en\" title=\"Support us by donating to the Wikimedia Foundation\"><span>Donate</span></a></li></ul>\\n\\t\\t\\n\\t</div>\\n</nav>\\n\\n\\t\\n\\n<nav id=\"p-interaction\" class=\"vector-menu mw-portlet mw-portlet-interaction vector-menu-portal portal\" aria-labelledby=\"p-interaction-label\" role=\"navigation\"  >\\n\\t<h3\\n\\t\\tid=\"p-interaction-label\"\\n\\t\\t\\n\\t\\tclass=\"vector-menu-heading \"\\n\\t>\\n\\t\\t<span class=\"vector-menu-heading-label\">Contribute</span>\\n\\t</h3>\\n\\t<div class=\"vector-menu-content\">\\n\\t\\t\\n\\t\\t<ul class=\"vector-menu-content-list\"><li id=\"n-help\" class=\"mw-list-item\"><a href=\"/wiki/Help:Contents\" title=\"Guidance on how to use and edit Wikipedia\"><span>Help</span></a></li><li id=\"n-introduction\" class=\"mw-list-item\"><a href=\"/wiki/Help:Introduction\" title=\"Learn how to edit Wikipedia\"><span>Learn to edit</span></a></li><li id=\"n-portal\" class=\"mw-list-item\"><a href=\"/wiki/Wikipedia:Community_portal\" title=\"The hub for editors\"><span>Community portal</span></a></li><li id=\"n-recentchanges\" class=\"mw-list-item\"><a href=\"/wiki/Special:RecentChanges\" title=\"A list of recent changes to Wikipedia [r]\" accesskey=\"r\"><span>Recent changes</span></a></li><li id=\"n-upload\" class=\"mw-list-item\"><a href=\"/wiki/Wikipedia:File_Upload_Wizard\" title=\"Add images or other media for use on Wikipedia\"><span>Upload file</span></a></li></ul>\\n\\t\\t\\n\\t</div>\\n</nav>\\n\\n\\n<nav id=\"p-tb\" class=\"vector-menu mw-portlet mw-portlet-tb vector-menu-portal portal\" aria-labelledby=\"p-tb-label\" role=\"navigation\"  >\\n\\t<h3\\n\\t\\tid=\"p-tb-label\"\\n\\t\\t\\n\\t\\tclass=\"vector-menu-heading \"\\n\\t>\\n\\t\\t<span class=\"vector-menu-heading-label\">Tools</span>\\n\\t</h3>\\n\\t<div class=\"vector-menu-content\">\\n\\t\\t\\n\\t\\t<ul class=\"vector-menu-content-list\"><li id=\"t-whatlinkshere\" class=\"mw-list-item\"><a href=\"/wiki/Special:WhatLinksHere/Data_science\" title=\"List of all English Wikipedia pages containing links to this page [j]\" accesskey=\"j\"><span>What links here</span></a></li><li id=\"t-recentchangeslinked\" class=\"mw-list-item\"><a href=\"/wiki/Special:RecentChangesLinked/Data_science\" rel=\"nofollow\" title=\"Recent changes in pages linked from this page [k]\" accesskey=\"k\"><span>Related changes</span></a></li><li id=\"t-upload\" class=\"mw-list-item\"><a href=\"/wiki/Wikipedia:File_Upload_Wizard\" title=\"Upload files [u]\" accesskey=\"u\"><span>Upload file</span></a></li><li id=\"t-specialpages\" class=\"mw-list-item\"><a href=\"/wiki/Special:SpecialPages\" title=\"A list of all special pages [q]\" accesskey=\"q\"><span>Special pages</span></a></li><li id=\"t-permalink\" class=\"mw-list-item\"><a href=\"/w/index.php?title=Data_science&amp;oldid=1120574273\" title=\"Permanent link to this revision of this page\"><span>Permanent link</span></a></li><li id=\"t-info\" class=\"mw-list-item\"><a href=\"/w/index.php?title=Data_science&amp;action=info\" title=\"More information about this page\"><span>Page information</span></a></li><li id=\"t-cite\" class=\"mw-list-item\"><a href=\"/w/index.php?title=Special:CiteThisPage&amp;page=Data_science&amp;id=1120574273&amp;wpFormIdentifier=titleform\" title=\"Information on how to cite this page\"><span>Cite this page</span></a></li><li id=\"t-wikibase\" class=\"mw-list-item\"><a href=\"https://www.wikidata.org/wiki/Special:EntityPage/Q2374463\" title=\"Structured data on this page hosted by Wikidata [g]\" accesskey=\"g\"><span>Wikidata item</span></a></li></ul>\\n\\t\\t\\n\\t</div>\\n</nav>\\n\\n\\n<nav id=\"p-coll-print_export\" class=\"vector-menu mw-portlet mw-portlet-coll-print_export vector-menu-portal portal\" aria-labelledby=\"p-coll-print_export-label\" role=\"navigation\"  >\\n\\t<h3\\n\\t\\tid=\"p-coll-print_export-label\"\\n\\t\\t\\n\\t\\tclass=\"vector-menu-heading \"\\n\\t>\\n\\t\\t<span class=\"vector-menu-heading-label\">Print/export</span>\\n\\t</h3>\\n\\t<div class=\"vector-menu-content\">\\n\\t\\t\\n\\t\\t<ul class=\"vector-menu-content-list\"><li id=\"coll-download-as-rl\" class=\"mw-list-item\"><a href=\"/w/index.php?title=Special:DownloadAsPdf&amp;page=Data_science&amp;action=show-download-screen\" title=\"Download this page as a PDF file\"><span>Download as PDF</span></a></li><li id=\"t-print\" class=\"mw-list-item\"><a href=\"/w/index.php?title=Data_science&amp;printable=yes\" title=\"Printable version of this page [p]\" accesskey=\"p\"><span>Printable version</span></a></li></ul>\\n\\t\\t\\n\\t</div>\\n</nav>\\n\\n\\n<nav id=\"p-wikibase-otherprojects\" class=\"vector-menu mw-portlet mw-portlet-wikibase-otherprojects vector-menu-portal portal\" aria-labelledby=\"p-wikibase-otherprojects-label\" role=\"navigation\"  >\\n\\t<h3\\n\\t\\tid=\"p-wikibase-otherprojects-label\"\\n\\t\\t\\n\\t\\tclass=\"vector-menu-heading \"\\n\\t>\\n\\t\\t<span class=\"vector-menu-heading-label\">In other projects</span>\\n\\t</h3>\\n\\t<div class=\"vector-menu-content\">\\n\\t\\t\\n\\t\\t<ul class=\"vector-menu-content-list\"><li class=\"wb-otherproject-link wb-otherproject-commons mw-list-item\"><a href=\"https://commons.wikimedia.org/wiki/Category:Data_science\" hreflang=\"en\"><span>Wikimedia Commons</span></a></li><li class=\"wb-otherproject-link wb-otherproject-wikiversity mw-list-item\"><a href=\"https://en.wikiversity.org/wiki/Data_science\" hreflang=\"en\"><span>Wikiversity</span></a></li></ul>\\n\\t\\t\\n\\t</div>\\n</nav>\\n\\n\\t\\n\\n<nav id=\"p-lang\" class=\"vector-menu mw-portlet mw-portlet-lang vector-menu-portal portal\" aria-labelledby=\"p-lang-label\" role=\"navigation\"  >\\n\\t<h3\\n\\t\\tid=\"p-lang-label\"\\n\\t\\t\\n\\t\\tclass=\"vector-menu-heading \"\\n\\t>\\n\\t\\t<span class=\"vector-menu-heading-label\">Languages</span>\\n\\t</h3>\\n\\t<div class=\"vector-menu-content\">\\n\\t\\t\\n\\t\\t<ul class=\"vector-menu-content-list\"><li class=\"interlanguage-link interwiki-ar mw-list-item\"><a href=\"https://ar.wikipedia.org/wiki/%D8%B9%D9%84%D9%85_%D8%A7%D9%84%D8%A8%D9%8A%D8%A7%D9%86%D8%A7%D8%AA\" title=\"علم البيانات – Arabic\" lang=\"ar\" hreflang=\"ar\" class=\"interlanguage-link-target\"><span>العربية</span></a></li><li class=\"interlanguage-link interwiki-az mw-list-item\"><a href=\"https://az.wikipedia.org/wiki/Veril%C9%99nl%C9%99r_elmi_(Data_Science)\" title=\"Verilənlər elmi (Data Science) – Azerbaijani\" lang=\"az\" hreflang=\"az\" class=\"interlanguage-link-target\"><span>Azərbaycanca</span></a></li><li class=\"interlanguage-link interwiki-bn mw-list-item\"><a href=\"https://bn.wikipedia.org/wiki/%E0%A6%89%E0%A6%AA%E0%A6%BE%E0%A6%A4%E0%A7%8D%E0%A6%A4_%E0%A6%AC%E0%A6%BF%E0%A6%9C%E0%A7%8D%E0%A6%9E%E0%A6%BE%E0%A6%A8\" title=\"উপাত্ত বিজ্ঞান – Bangla\" lang=\"bn\" hreflang=\"bn\" class=\"interlanguage-link-target\"><span>বাংলা</span></a></li><li class=\"interlanguage-link interwiki-bg mw-list-item\"><a href=\"https://bg.wikipedia.org/wiki/%D0%9D%D0%B0%D1%83%D0%BA%D0%B0_%D0%B7%D0%B0_%D0%B4%D0%B0%D0%BD%D0%BD%D0%B8%D1%82%D0%B5\" title=\"Наука за данните – Bulgarian\" lang=\"bg\" hreflang=\"bg\" class=\"interlanguage-link-target\"><span>Български</span></a></li><li class=\"interlanguage-link interwiki-ca mw-list-item\"><a href=\"https://ca.wikipedia.org/wiki/Ci%C3%A8ncia_de_les_dades\" title=\"Ciència de les dades – Catalan\" lang=\"ca\" hreflang=\"ca\" class=\"interlanguage-link-target\"><span>Català</span></a></li><li class=\"interlanguage-link interwiki-cs mw-list-item\"><a href=\"https://cs.wikipedia.org/wiki/Data_science\" title=\"Data science – Czech\" lang=\"cs\" hreflang=\"cs\" class=\"interlanguage-link-target\"><span>Čeština</span></a></li><li class=\"interlanguage-link interwiki-de mw-list-item\"><a href=\"https://de.wikipedia.org/wiki/Data_Science\" title=\"Data Science – German\" lang=\"de\" hreflang=\"de\" class=\"interlanguage-link-target\"><span>Deutsch</span></a></li><li class=\"interlanguage-link interwiki-et mw-list-item\"><a href=\"https://et.wikipedia.org/wiki/Andmeteadus\" title=\"Andmeteadus – Estonian\" lang=\"et\" hreflang=\"et\" class=\"interlanguage-link-target\"><span>Eesti</span></a></li><li class=\"interlanguage-link interwiki-el mw-list-item\"><a href=\"https://el.wikipedia.org/wiki/%CE%95%CF%80%CE%B9%CF%83%CF%84%CE%AE%CE%BC%CE%B7_%CE%B4%CE%B5%CE%B4%CE%BF%CE%BC%CE%AD%CE%BD%CF%89%CE%BD\" title=\"Επιστήμη δεδομένων – Greek\" lang=\"el\" hreflang=\"el\" class=\"interlanguage-link-target\"><span>Ελληνικά</span></a></li><li class=\"interlanguage-link interwiki-es mw-list-item\"><a href=\"https://es.wikipedia.org/wiki/Ciencia_de_datos\" title=\"Ciencia de datos – Spanish\" lang=\"es\" hreflang=\"es\" class=\"interlanguage-link-target\"><span>Español</span></a></li><li class=\"interlanguage-link interwiki-eo mw-list-item\"><a href=\"https://eo.wikipedia.org/wiki/Datuma_scienco\" title=\"Datuma scienco – Esperanto\" lang=\"eo\" hreflang=\"eo\" class=\"interlanguage-link-target\"><span>Esperanto</span></a></li><li class=\"interlanguage-link interwiki-eu mw-list-item\"><a href=\"https://eu.wikipedia.org/wiki/Datu_zientzia\" title=\"Datu zientzia – Basque\" lang=\"eu\" hreflang=\"eu\" class=\"interlanguage-link-target\"><span>Euskara</span></a></li><li class=\"interlanguage-link interwiki-fa mw-list-item\"><a href=\"https://fa.wikipedia.org/wiki/%D8%B9%D9%84%D9%85_%D8%AF%D8%A7%D8%AF%D9%87%E2%80%8C%D9%87%D8%A7\" title=\"علم داده\\u200cها – Persian\" lang=\"fa\" hreflang=\"fa\" class=\"interlanguage-link-target\"><span>فارسی</span></a></li><li class=\"interlanguage-link interwiki-fr mw-list-item\"><a href=\"https://fr.wikipedia.org/wiki/Science_des_donn%C3%A9es\" title=\"Science des données – French\" lang=\"fr\" hreflang=\"fr\" class=\"interlanguage-link-target\"><span>Français</span></a></li><li class=\"interlanguage-link interwiki-ko mw-list-item\"><a href=\"https://ko.wikipedia.org/wiki/%EB%8D%B0%EC%9D%B4%ED%84%B0_%EC%82%AC%EC%9D%B4%EC%96%B8%EC%8A%A4\" title=\"데이터 사이언스 – Korean\" lang=\"ko\" hreflang=\"ko\" class=\"interlanguage-link-target\"><span>한국어</span></a></li><li class=\"interlanguage-link interwiki-hy mw-list-item\"><a href=\"https://hy.wikipedia.org/wiki/%D5%8F%D5%BE%D5%B5%D5%A1%D5%AC%D5%B6%D5%A5%D6%80%D5%AB_%D5%A3%D5%AB%D5%BF%D5%B8%D6%82%D5%A9%D5%B5%D5%B8%D6%82%D5%B6\" title=\"Տվյալների գիտություն – Armenian\" lang=\"hy\" hreflang=\"hy\" class=\"interlanguage-link-target\"><span>Հայերեն</span></a></li><li class=\"interlanguage-link interwiki-hi mw-list-item\"><a href=\"https://hi.wikipedia.org/wiki/%E0%A4%86%E0%A4%81%E0%A4%95%E0%A4%A1%E0%A4%BC%E0%A4%BE_%E0%A4%B5%E0%A4%BF%E0%A4%9C%E0%A5%8D%E0%A4%9E%E0%A4%BE%E0%A4%A8\" title=\"आँकड़ा विज्ञान – Hindi\" lang=\"hi\" hreflang=\"hi\" class=\"interlanguage-link-target\"><span>हिन्दी</span></a></li><li class=\"interlanguage-link interwiki-id mw-list-item\"><a href=\"https://id.wikipedia.org/wiki/Ilmu_data\" title=\"Ilmu data – Indonesian\" lang=\"id\" hreflang=\"id\" class=\"interlanguage-link-target\"><span>Bahasa Indonesia</span></a></li><li class=\"interlanguage-link interwiki-it mw-list-item\"><a href=\"https://it.wikipedia.org/wiki/Scienza_dei_dati\" title=\"Scienza dei dati – Italian\" lang=\"it\" hreflang=\"it\" class=\"interlanguage-link-target\"><span>Italiano</span></a></li><li class=\"interlanguage-link interwiki-he mw-list-item\"><a href=\"https://he.wikipedia.org/wiki/%D7%9E%D7%93%D7%A2_%D7%94%D7%A0%D7%AA%D7%95%D7%A0%D7%99%D7%9D\" title=\"מדע הנתונים – Hebrew\" lang=\"he\" hreflang=\"he\" class=\"interlanguage-link-target\"><span>עברית</span></a></li><li class=\"interlanguage-link interwiki-kn mw-list-item\"><a href=\"https://kn.wikipedia.org/wiki/%E0%B2%A6%E0%B2%A4%E0%B3%8D%E0%B2%A4%E0%B2%BE%E0%B2%82%E0%B2%B6_%E0%B2%B5%E0%B2%BF%E0%B2%9C%E0%B3%8D%E0%B2%9E%E0%B2%BE%E0%B2%A8\" title=\"ದತ್ತಾಂಶ ವಿಜ್ಞಾನ – Kannada\" lang=\"kn\" hreflang=\"kn\" class=\"interlanguage-link-target\"><span>ಕನ್ನಡ</span></a></li><li class=\"interlanguage-link interwiki-kk mw-list-item\"><a href=\"https://kk.wikipedia.org/wiki/%D0%94%D0%B5%D1%80%D0%B5%D0%BA%D1%82%D0%B5%D1%80_%D1%82%D1%83%D1%80%D0%B0%D0%BB%D1%8B_%D2%93%D1%8B%D0%BB%D1%8B%D0%BC\" title=\"Деректер туралы ғылым – Kazakh\" lang=\"kk\" hreflang=\"kk\" class=\"interlanguage-link-target\"><span>Қазақша</span></a></li><li class=\"interlanguage-link interwiki-lv mw-list-item\"><a href=\"https://lv.wikipedia.org/wiki/Datu_m%C4%81c%C4%ABba\" title=\"Datu mācība – Latvian\" lang=\"lv\" hreflang=\"lv\" class=\"interlanguage-link-target\"><span>Latviešu</span></a></li><li class=\"interlanguage-link interwiki-mk mw-list-item\"><a href=\"https://mk.wikipedia.org/wiki/%D0%9D%D0%B0%D1%83%D0%BA%D0%B0_%D0%B7%D0%B0_%D0%BF%D0%BE%D0%B4%D0%B0%D1%82%D0%BE%D1%86%D0%B8%D1%82%D0%B5\" title=\"Наука за податоците – Macedonian\" lang=\"mk\" hreflang=\"mk\" class=\"interlanguage-link-target\"><span>Македонски</span></a></li><li class=\"interlanguage-link interwiki-ms mw-list-item\"><a href=\"https://ms.wikipedia.org/wiki/Sains_data\" title=\"Sains data – Malay\" lang=\"ms\" hreflang=\"ms\" class=\"interlanguage-link-target\"><span>Bahasa Melayu</span></a></li><li class=\"interlanguage-link interwiki-my mw-list-item\"><a href=\"https://my.wikipedia.org/wiki/%E1%80%A1%E1%80%81%E1%80%BB%E1%80%80%E1%80%BA%E1%80%A1%E1%80%9C%E1%80%80%E1%80%BA%E1%80%9E%E1%80%AD%E1%80%95%E1%80%B9%E1%80%95%E1%80%B6%E1%80%95%E1%80%8A%E1%80%AC\" title=\"အချက်အလက်သိပ္ပံပညာ – Burmese\" lang=\"my\" hreflang=\"my\" class=\"interlanguage-link-target\"><span>မြန်မာဘာသာ</span></a></li><li class=\"interlanguage-link interwiki-nl mw-list-item\"><a href=\"https://nl.wikipedia.org/wiki/Datawetenschap\" title=\"Datawetenschap – Dutch\" lang=\"nl\" hreflang=\"nl\" class=\"interlanguage-link-target\"><span>Nederlands</span></a></li><li class=\"interlanguage-link interwiki-ja mw-list-item\"><a href=\"https://ja.wikipedia.org/wiki/%E3%83%87%E3%83%BC%E3%82%BF%E3%82%B5%E3%82%A4%E3%82%A8%E3%83%B3%E3%82%B9\" title=\"データサイエンス – Japanese\" lang=\"ja\" hreflang=\"ja\" class=\"interlanguage-link-target\"><span>日本語</span></a></li><li class=\"interlanguage-link interwiki-uz mw-list-item\"><a href=\"https://uz.wikipedia.org/wiki/Ma%27lumotlar_ombori\" title=\"Ma&#039;lumotlar ombori – Uzbek\" lang=\"uz\" hreflang=\"uz\" class=\"interlanguage-link-target\"><span>Oʻzbekcha/ўзбекча</span></a></li><li class=\"interlanguage-link interwiki-pl mw-list-item\"><a href=\"https://pl.wikipedia.org/wiki/Danologia\" title=\"Danologia – Polish\" lang=\"pl\" hreflang=\"pl\" class=\"interlanguage-link-target\"><span>Polski</span></a></li><li class=\"interlanguage-link interwiki-pt mw-list-item\"><a href=\"https://pt.wikipedia.org/wiki/Ci%C3%AAncia_de_dados\" title=\"Ciência de dados – Portuguese\" lang=\"pt\" hreflang=\"pt\" class=\"interlanguage-link-target\"><span>Português</span></a></li><li class=\"interlanguage-link interwiki-ru mw-list-item\"><a href=\"https://ru.wikipedia.org/wiki/%D0%9D%D0%B0%D1%83%D0%BA%D0%B0_%D0%BE_%D0%B4%D0%B0%D0%BD%D0%BD%D1%8B%D1%85\" title=\"Наука о данных – Russian\" lang=\"ru\" hreflang=\"ru\" class=\"interlanguage-link-target\"><span>Русский</span></a></li><li class=\"interlanguage-link interwiki-simple mw-list-item\"><a href=\"https://simple.wikipedia.org/wiki/Data_science\" title=\"Data science – Simple English\" lang=\"en-simple\" hreflang=\"en-simple\" class=\"interlanguage-link-target\"><span>Simple English</span></a></li><li class=\"interlanguage-link interwiki-fi mw-list-item\"><a href=\"https://fi.wikipedia.org/wiki/Datatiede\" title=\"Datatiede – Finnish\" lang=\"fi\" hreflang=\"fi\" class=\"interlanguage-link-target\"><span>Suomi</span></a></li><li class=\"interlanguage-link interwiki-ta mw-list-item\"><a href=\"https://ta.wikipedia.org/wiki/%E0%AE%A4%E0%AE%B0%E0%AE%B5%E0%AF%81_%E0%AE%85%E0%AE%B1%E0%AE%BF%E0%AE%B5%E0%AE%BF%E0%AE%AF%E0%AE%B2%E0%AF%8D\" title=\"தரவு அறிவியல் – Tamil\" lang=\"ta\" hreflang=\"ta\" class=\"interlanguage-link-target\"><span>தமிழ்</span></a></li><li class=\"interlanguage-link interwiki-th mw-list-item\"><a href=\"https://th.wikipedia.org/wiki/%E0%B8%A7%E0%B8%B4%E0%B8%97%E0%B8%A2%E0%B8%B2%E0%B8%81%E0%B8%B2%E0%B8%A3%E0%B8%82%E0%B9%89%E0%B8%AD%E0%B8%A1%E0%B8%B9%E0%B8%A5\" title=\"วิทยาการข้อมูล – Thai\" lang=\"th\" hreflang=\"th\" class=\"interlanguage-link-target\"><span>ไทย</span></a></li><li class=\"interlanguage-link interwiki-tr mw-list-item\"><a href=\"https://tr.wikipedia.org/wiki/Veri_bilimi\" title=\"Veri bilimi – Turkish\" lang=\"tr\" hreflang=\"tr\" class=\"interlanguage-link-target\"><span>Türkçe</span></a></li><li class=\"interlanguage-link interwiki-uk mw-list-item\"><a href=\"https://uk.wikipedia.org/wiki/%D0%9D%D0%B0%D1%83%D0%BA%D0%B0_%D0%BF%D1%80%D0%BE_%D0%B4%D0%B0%D0%BD%D1%96\" title=\"Наука про дані – Ukrainian\" lang=\"uk\" hreflang=\"uk\" class=\"interlanguage-link-target\"><span>Українська</span></a></li><li class=\"interlanguage-link interwiki-ur mw-list-item\"><a href=\"https://ur.wikipedia.org/wiki/%DA%88%DB%8C%D9%B9%D8%A7_%D8%B3%D8%A7%D8%A6%D9%86%D8%B3\" title=\"ڈیٹا سائنس – Urdu\" lang=\"ur\" hreflang=\"ur\" class=\"interlanguage-link-target\"><span>اردو</span></a></li><li class=\"interlanguage-link interwiki-vi mw-list-item\"><a href=\"https://vi.wikipedia.org/wiki/Khoa_h%E1%BB%8Dc_d%E1%BB%AF_li%E1%BB%87u\" title=\"Khoa học dữ liệu – Vietnamese\" lang=\"vi\" hreflang=\"vi\" class=\"interlanguage-link-target\"><span>Tiếng Việt</span></a></li><li class=\"interlanguage-link interwiki-zh-yue mw-list-item\"><a href=\"https://zh-yue.wikipedia.org/wiki/%E6%95%B8%E6%93%9A%E7%A7%91%E5%AD%B8\" title=\"數據科學 – Cantonese\" lang=\"yue\" hreflang=\"yue\" class=\"interlanguage-link-target\"><span>粵語</span></a></li><li class=\"interlanguage-link interwiki-zh mw-list-item\"><a href=\"https://zh.wikipedia.org/wiki/%E6%95%B0%E6%8D%AE%E7%A7%91%E5%AD%A6\" title=\"数据科学 – Chinese\" lang=\"zh\" hreflang=\"zh\" class=\"interlanguage-link-target\"><span>中文</span></a></li></ul>\\n\\t\\t<div class=\"after-portlet after-portlet-lang\"><span class=\"wb-langlinks-edit wb-langlinks-link\"><a href=\"https://www.wikidata.org/wiki/Special:EntityPage/Q2374463#sitelinks-wikipedia\" title=\"Edit interlanguage links\" class=\"wbc-editpage\">Edit links</a></span></div>\\n\\t</div>\\n</nav>\\n\\n</div>\\n\\n</div>\\n\\n<footer id=\"footer\" class=\"mw-footer\" role=\"contentinfo\" >\\n\\t<ul id=\"footer-info\">\\n\\t<li id=\"footer-info-lastmod\"> This page was last edited on 7 November 2022, at 18:39<span class=\"anonymous-show\">&#160;(UTC)</span>.</li>\\n\\t<li id=\"footer-info-copyright\">Text is available under the <a rel=\"license\" href=\"//en.wikipedia.org/wiki/Wikipedia:Text_of_Creative_Commons_Attribution-ShareAlike_3.0_Unported_License\">Creative Commons Attribution-ShareAlike License 3.0</a><a rel=\"license\" href=\"//creativecommons.org/licenses/by-sa/3.0/\" style=\"display:none;\"></a>;\\nadditional terms may apply.  By using this site, you agree to the <a href=\"//foundation.wikimedia.org/wiki/Terms_of_Use\">Terms of Use</a> and <a href=\"//foundation.wikimedia.org/wiki/Privacy_policy\">Privacy Policy</a>. Wikipedia® is a registered trademark of the <a href=\"//www.wikimediafoundation.org/\">Wikimedia Foundation, Inc.</a>, a non-profit organization.</li>\\n</ul>\\n\\n\\t<ul id=\"footer-places\">\\n\\t<li id=\"footer-places-privacy\"><a href=\"https://foundation.wikimedia.org/wiki/Privacy_policy\">Privacy policy</a></li>\\n\\t<li id=\"footer-places-about\"><a href=\"/wiki/Wikipedia:About\">About Wikipedia</a></li>\\n\\t<li id=\"footer-places-disclaimers\"><a href=\"/wiki/Wikipedia:General_disclaimer\">Disclaimers</a></li>\\n\\t<li id=\"footer-places-contact\"><a href=\"//en.wikipedia.org/wiki/Wikipedia:Contact_us\">Contact Wikipedia</a></li>\\n\\t<li id=\"footer-places-mobileview\"><a href=\"//en.m.wikipedia.org/w/index.php?title=Data_science&amp;mobileaction=toggle_view_mobile\" class=\"noprint stopMobileRedirectToggle\">Mobile view</a></li>\\n\\t<li id=\"footer-places-developers\"><a href=\"https://developer.wikimedia.org\">Developers</a></li>\\n\\t<li id=\"footer-places-statslink\"><a href=\"https://stats.wikimedia.org/#/en.wikipedia.org\">Statistics</a></li>\\n\\t<li id=\"footer-places-cookiestatement\"><a href=\"https://foundation.wikimedia.org/wiki/Cookie_statement\">Cookie statement</a></li>\\n</ul>\\n\\n\\t<ul id=\"footer-icons\" class=\"noprint\">\\n\\t<li id=\"footer-copyrightico\"><a href=\"https://wikimediafoundation.org/\"><img src=\"/static/images/footer/wikimedia-button.png\" srcset=\"/static/images/footer/wikimedia-button-1.5x.png 1.5x, /static/images/footer/wikimedia-button-2x.png 2x\" width=\"88\" height=\"31\" alt=\"Wikimedia Foundation\" loading=\"lazy\" /></a></li>\\n\\t<li id=\"footer-poweredbyico\"><a href=\"https://www.mediawiki.org/\"><img src=\"/static/images/footer/poweredby_mediawiki_88x31.png\" alt=\"Powered by MediaWiki\" srcset=\"/static/images/footer/poweredby_mediawiki_132x47.png 1.5x, /static/images/footer/poweredby_mediawiki_176x62.png 2x\" width=\"88\" height=\"31\" loading=\"lazy\"/></a></li>\\n</ul>\\n\\n</footer>\\n\\n<script>(RLQ=window.RLQ||[]).push(function(){mw.config.set({\"wgPageParseReport\":{\"limitreport\":{\"cputime\":\"0.332\",\"walltime\":\"0.444\",\"ppvisitednodes\":{\"value\":1966,\"limit\":1000000},\"postexpandincludesize\":{\"value\":71860,\"limit\":2097152},\"templateargumentsize\":{\"value\":1033,\"limit\":2097152},\"expansiondepth\":{\"value\":12,\"limit\":100},\"expensivefunctioncount\":{\"value\":2,\"limit\":500},\"unstrip-depth\":{\"value\":1,\"limit\":20},\"unstrip-size\":{\"value\":111052,\"limit\":5000000},\"entityaccesscount\":{\"value\":0,\"limit\":400},\"timingprofile\":[\"100.00%  390.054      1 -total\",\" 57.77%  225.338      1 Template:Reflist\",\" 24.10%   94.020      8 Template:Cite_journal\",\" 17.91%   69.849      1 Template:Short_description\",\" 15.08%   58.832     18 Template:Cite_web\",\" 10.50%   40.954      1 Template:Data\",\"  9.90%   38.610      1 Template:Navbox\",\"  8.34%   32.512      2 Template:Pagetype\",\"  6.61%   25.765      4 Template:Main_other\",\"  6.11%   23.848      1 Template:Distinguish\"]},\"scribunto\":{\"limitreport-timeusage\":{\"value\":\"0.211\",\"limit\":\"10.000\"},\"limitreport-memusage\":{\"value\":6047886,\"limit\":52428800}},\"cachereport\":{\"origin\":\"mw2327\",\"timestamp\":\"20221107183952\",\"ttl\":1814400,\"transientcontent\":false}}});});</script>\\n<script type=\"application/ld+json\">{\"@context\":\"https:\\\\/\\\\/schema.org\",\"@type\":\"Article\",\"name\":\"Data science\",\"url\":\"https:\\\\/\\\\/en.wikipedia.org\\\\/wiki\\\\/Data_science\",\"sameAs\":\"http:\\\\/\\\\/www.wikidata.org\\\\/entity\\\\/Q2374463\",\"mainEntity\":\"http:\\\\/\\\\/www.wikidata.org\\\\/entity\\\\/Q2374463\",\"author\":{\"@type\":\"Organization\",\"name\":\"Contributors to Wikimedia projects\"},\"publisher\":{\"@type\":\"Organization\",\"name\":\"Wikimedia Foundation, Inc.\",\"logo\":{\"@type\":\"ImageObject\",\"url\":\"https:\\\\/\\\\/www.wikimedia.org\\\\/static\\\\/images\\\\/wmf-hor-googpub.png\"}},\"datePublished\":\"2012-04-11T17:34:10Z\",\"dateModified\":\"2022-11-07T18:39:29Z\",\"image\":\"https:\\\\/\\\\/upload.wikimedia.org\\\\/wikipedia\\\\/commons\\\\/4\\\\/45\\\\/PIA23792-1600x1200%281%29.jpg\",\"headline\":\"interdisciplinary field of study focused on deriving knowledge and insights from data\"}</script><script type=\"application/ld+json\">{\"@context\":\"https:\\\\/\\\\/schema.org\",\"@type\":\"Article\",\"name\":\"Data science\",\"url\":\"https:\\\\/\\\\/en.wikipedia.org\\\\/wiki\\\\/Data_science\",\"sameAs\":\"http:\\\\/\\\\/www.wikidata.org\\\\/entity\\\\/Q2374463\",\"mainEntity\":\"http:\\\\/\\\\/www.wikidata.org\\\\/entity\\\\/Q2374463\",\"author\":{\"@type\":\"Organization\",\"name\":\"Contributors to Wikimedia projects\"},\"publisher\":{\"@type\":\"Organization\",\"name\":\"Wikimedia Foundation, Inc.\",\"logo\":{\"@type\":\"ImageObject\",\"url\":\"https:\\\\/\\\\/www.wikimedia.org\\\\/static\\\\/images\\\\/wmf-hor-googpub.png\"}},\"datePublished\":\"2012-04-11T17:34:10Z\",\"dateModified\":\"2022-11-07T18:39:29Z\",\"image\":\"https:\\\\/\\\\/upload.wikimedia.org\\\\/wikipedia\\\\/commons\\\\/4\\\\/45\\\\/PIA23792-1600x1200%281%29.jpg\",\"headline\":\"interdisciplinary field of study focused on deriving knowledge and insights from data\"}</script>\\n<script>(RLQ=window.RLQ||[]).push(function(){mw.config.set({\"wgBackendResponseTime\":99,\"wgHostname\":\"mw2367\"});});</script>\\n</body>\\n</html>'"
            ],
            "application/vnd.google.colaboratory.intrinsic+json": {
              "type": "string"
            }
          },
          "metadata": {},
          "execution_count": 39
        }
      ]
    },
    {
      "cell_type": "code",
      "source": [
        "import re\n",
        "html1\n",
        "x=re.findall(\"Data science - Wikipedia\",html1)\n",
        "print(x)"
      ],
      "metadata": {
        "colab": {
          "base_uri": "https://localhost:8080/"
        },
        "id": "14alZLZ5Sut0",
        "outputId": "766d2d92-cf08-440f-9aaf-3250589670f6"
      },
      "execution_count": null,
      "outputs": [
        {
          "output_type": "stream",
          "name": "stdout",
          "text": [
            "['Data science - Wikipedia', 'Data science - Wikipedia']\n"
          ]
        }
      ]
    },
    {
      "cell_type": "code",
      "source": [
        "import re\n",
        "pattern = '<title>.*?</title>'\n",
        "title = re.findall(pattern,html1)\n",
        "title"
      ],
      "metadata": {
        "colab": {
          "base_uri": "https://localhost:8080/"
        },
        "id": "j6ovU05jWMXE",
        "outputId": "11903f48-5e04-4c3a-cf7e-9fa5e557cc2c"
      },
      "execution_count": null,
      "outputs": [
        {
          "output_type": "execute_result",
          "data": {
            "text/plain": [
              "['<title>Data science - Wikipedia</title>']"
            ]
          },
          "metadata": {},
          "execution_count": 41
        }
      ]
    },
    {
      "cell_type": "code",
      "source": [
        "import re\n",
        "pattern = '<title>.*?<title>'\n",
        "match = re.findall(pattern, html1)\n",
        "if match==True:\n",
        "    print(\"string is\")"
      ],
      "metadata": {
        "id": "NHoWzoADXS1B",
        "outputId": "38b95310-f0a9-43bf-d06e-ec78c2cf364d",
        "colab": {
          "base_uri": "https://localhost:8080/",
          "height": 374
        }
      },
      "execution_count": null,
      "outputs": [
        {
          "output_type": "error",
          "ename": "NameError",
          "evalue": "ignored",
          "traceback": [
            "\u001b[0;31m---------------------------------------------------------------------------\u001b[0m",
            "\u001b[0;31mNameError\u001b[0m                                 Traceback (most recent call last)",
            "\u001b[0;32m<ipython-input-1-e4df516d7d02>\u001b[0m in \u001b[0;36m<module>\u001b[0;34m\u001b[0m\n\u001b[1;32m      1\u001b[0m \u001b[0;32mimport\u001b[0m \u001b[0mre\u001b[0m\u001b[0;34m\u001b[0m\u001b[0;34m\u001b[0m\u001b[0m\n\u001b[1;32m      2\u001b[0m \u001b[0mpattern\u001b[0m \u001b[0;34m=\u001b[0m \u001b[0;34m'<title>.*?<title>'\u001b[0m\u001b[0;34m\u001b[0m\u001b[0;34m\u001b[0m\u001b[0m\n\u001b[0;32m----> 3\u001b[0;31m \u001b[0mmatch\u001b[0m \u001b[0;34m=\u001b[0m \u001b[0mre\u001b[0m\u001b[0;34m.\u001b[0m\u001b[0mfindall\u001b[0m\u001b[0;34m(\u001b[0m\u001b[0mpattern\u001b[0m\u001b[0;34m,\u001b[0m \u001b[0mhtml1\u001b[0m\u001b[0;34m)\u001b[0m\u001b[0;34m\u001b[0m\u001b[0;34m\u001b[0m\u001b[0m\n\u001b[0m\u001b[1;32m      4\u001b[0m \u001b[0;32mif\u001b[0m \u001b[0mmatch\u001b[0m\u001b[0;34m==\u001b[0m\u001b[0;32mTrue\u001b[0m\u001b[0;34m:\u001b[0m\u001b[0;34m\u001b[0m\u001b[0;34m\u001b[0m\u001b[0m\n\u001b[1;32m      5\u001b[0m     \u001b[0mprint\u001b[0m\u001b[0;34m(\u001b[0m\u001b[0;34m\"string is\"\u001b[0m\u001b[0;34m)\u001b[0m\u001b[0;34m\u001b[0m\u001b[0;34m\u001b[0m\u001b[0m\n",
            "\u001b[0;31mNameError\u001b[0m: name 'html1' is not defined"
          ]
        }
      ]
    },
    {
      "cell_type": "code",
      "source": [
        "re.findall(\"abc*c\",\"abbc\")"
      ],
      "metadata": {
        "colab": {
          "base_uri": "https://localhost:8080/"
        },
        "id": "JHJgNTL1YHZZ",
        "outputId": "40c01882-74a6-4400-f9ca-b827382b61aa"
      },
      "execution_count": null,
      "outputs": [
        {
          "output_type": "execute_result",
          "data": {
            "text/plain": [
              "[]"
            ]
          },
          "metadata": {},
          "execution_count": 42
        }
      ]
    },
    {
      "cell_type": "code",
      "source": [
        "re.findall(\"abb?c\",\"abbcc\")"
      ],
      "metadata": {
        "colab": {
          "base_uri": "https://localhost:8080/"
        },
        "id": "bY08f8miZenG",
        "outputId": "f688bfc2-62a9-4cf3-92a0-47190180c57f"
      },
      "execution_count": null,
      "outputs": [
        {
          "output_type": "execute_result",
          "data": {
            "text/plain": [
              "['abbc']"
            ]
          },
          "metadata": {},
          "execution_count": 46
        }
      ]
    },
    {
      "cell_type": "code",
      "source": [
        "from bs4 import BeautifulSoup\n",
        "soup = BeautifulSoup(urlopen(url))\n",
        "print (soup.title.get_text())"
      ],
      "metadata": {
        "colab": {
          "base_uri": "https://localhost:8080/"
        },
        "id": "hgGYYgaZZ1NL",
        "outputId": "995851a0-a3a5-4ebe-8692-76294bb2408a"
      },
      "execution_count": null,
      "outputs": [
        {
          "output_type": "stream",
          "name": "stdout",
          "text": [
            "Data science - Wikipedia\n"
          ]
        }
      ]
    },
    {
      "cell_type": "code",
      "source": [
        "from bs4 import BeautifulSoup\n",
        "soup = BeautifulSoup(html1,\"html.parser\")\n",
        "print(soup)"
      ],
      "metadata": {
        "colab": {
          "base_uri": "https://localhost:8080/"
        },
        "id": "2wtUXpCgaTtk",
        "outputId": "f2a15084-ef86-4a85-f1ff-3fc10ec781e5"
      },
      "execution_count": null,
      "outputs": [
        {
          "output_type": "stream",
          "name": "stdout",
          "text": [
            "<!DOCTYPE html>\n",
            "\n",
            "<html class=\"client-nojs\" dir=\"ltr\" lang=\"en\">\n",
            "<head>\n",
            "<meta charset=\"utf-8\"/>\n",
            "<title>Data science - Wikipedia</title>\n",
            "<script>document.documentElement.className=\"client-js\";RLCONF={\"wgBreakFrames\":false,\"wgSeparatorTransformTable\":[\"\",\"\"],\"wgDigitTransformTable\":[\"\",\"\"],\"wgDefaultDateFormat\":\"dmy\",\"wgMonthNames\":[\"\",\"January\",\"February\",\"March\",\"April\",\"May\",\"June\",\"July\",\"August\",\"September\",\"October\",\"November\",\"December\"],\"wgRequestId\":\"8a2773a0-97d5-4f54-a13d-ae59ef5c7294\",\"wgCSPNonce\":false,\"wgCanonicalNamespace\":\"\",\"wgCanonicalSpecialPageName\":false,\"wgNamespaceNumber\":0,\"wgPageName\":\"Data_science\",\"wgTitle\":\"Data science\",\"wgCurRevisionId\":1120574273,\"wgRevisionId\":1120574273,\"wgArticleId\":35458904,\"wgIsArticle\":true,\"wgIsRedirect\":false,\"wgAction\":\"view\",\"wgUserName\":null,\"wgUserGroups\":[\"*\"],\"wgCategories\":[\"Articles with short description\",\"Short description matches Wikidata\",\"Use dmy dates from August 2021\",\"Information science\",\"Computer occupations\",\"Computational fields of study\",\"Data analysis\"],\"wgPageContentLanguage\":\"en\",\"wgPageContentModel\":\"wikitext\",\"wgRelevantPageName\":\"Data_science\",\n",
            "\"wgRelevantArticleId\":35458904,\"wgIsProbablyEditable\":true,\"wgRelevantPageIsProbablyEditable\":true,\"wgRestrictionEdit\":[],\"wgRestrictionMove\":[],\"wgFlaggedRevsParams\":{\"tags\":{\"status\":{\"levels\":1}}},\"wgVisualEditor\":{\"pageLanguageCode\":\"en\",\"pageLanguageDir\":\"ltr\",\"pageVariantFallbacks\":\"en\"},\"wgMFDisplayWikibaseDescriptions\":{\"search\":true,\"watchlist\":true,\"tagline\":false,\"nearby\":true},\"wgWMESchemaEditAttemptStepOversample\":false,\"wgWMEPageLength\":20000,\"wgNoticeProject\":\"wikipedia\",\"wgVector2022PreviewPages\":[],\"wgMediaViewerOnClick\":true,\"wgMediaViewerEnabledByDefault\":true,\"wgPopupsFlags\":10,\"wgULSCurrentAutonym\":\"English\",\"wgEditSubmitButtonLabelPublish\":true,\"wgCentralAuthMobileDomain\":false,\"wgULSPosition\":\"interlanguage\",\"wgULSisCompactLinksEnabled\":true,\"wgWikibaseItemId\":\"Q2374463\",\"GEHomepageSuggestedEditsEnableTopics\":true,\"wgGETopicsMatchModeEnabled\":false,\"wgGEStructuredTaskRejectionReasonTextInputEnabled\":false};RLSTATE={\"ext.globalCssJs.user.styles\":\"ready\",\n",
            "\"site.styles\":\"ready\",\"user.styles\":\"ready\",\"ext.globalCssJs.user\":\"ready\",\"user\":\"ready\",\"user.options\":\"loading\",\"ext.cite.styles\":\"ready\",\"skins.vector.styles.legacy\":\"ready\",\"jquery.makeCollapsible.styles\":\"ready\",\"ext.visualEditor.desktopArticleTarget.noscript\":\"ready\",\"ext.wikimediaBadges\":\"ready\",\"ext.uls.interlanguage\":\"ready\",\"wikibase.client.init\":\"ready\"};RLPAGEMODULES=[\"ext.cite.ux-enhancements\",\"site\",\"mediawiki.page.ready\",\"jquery.makeCollapsible\",\"mediawiki.toc\",\"skins.vector.legacy.js\",\"mmv.head\",\"mmv.bootstrap.autostart\",\"ext.visualEditor.desktopArticleTarget.init\",\"ext.visualEditor.targetLoader\",\"ext.eventLogging\",\"ext.wikimediaEvents\",\"ext.navigationTiming\",\"ext.cx.eventlogging.campaigns\",\"ext.centralNotice.geoIP\",\"ext.centralNotice.startUp\",\"ext.gadget.ReferenceTooltips\",\"ext.gadget.charinsert\",\"ext.gadget.extra-toolbar-buttons\",\"ext.gadget.switcher\",\"ext.centralauth.centralautologin\",\"ext.popups\",\"ext.uls.compactlinks\",\"ext.uls.interface\",\n",
            "\"ext.growthExperiments.SuggestedEditSession\"];</script>\n",
            "<script>(RLQ=window.RLQ||[]).push(function(){mw.loader.implement(\"user.options@12s5i\",function($,jQuery,require,module){mw.user.tokens.set({\"patrolToken\":\"+\\\\\",\"watchToken\":\"+\\\\\",\"csrfToken\":\"+\\\\\"});});});</script>\n",
            "<link href=\"/w/load.php?lang=en&amp;modules=ext.cite.styles%7Cext.uls.interlanguage%7Cext.visualEditor.desktopArticleTarget.noscript%7Cext.wikimediaBadges%7Cjquery.makeCollapsible.styles%7Cskins.vector.styles.legacy%7Cwikibase.client.init&amp;only=styles&amp;skin=vector\" rel=\"stylesheet\"/>\n",
            "<script async=\"\" src=\"/w/load.php?lang=en&amp;modules=startup&amp;only=scripts&amp;raw=1&amp;skin=vector\"></script>\n",
            "<meta content=\"\" name=\"ResourceLoaderDynamicStyles\"/>\n",
            "<link href=\"/w/load.php?lang=en&amp;modules=site.styles&amp;only=styles&amp;skin=vector\" rel=\"stylesheet\"/>\n",
            "<meta content=\"MediaWiki 1.40.0-wmf.10\" name=\"generator\"/>\n",
            "<meta content=\"origin\" name=\"referrer\"/>\n",
            "<meta content=\"origin-when-crossorigin\" name=\"referrer\"/>\n",
            "<meta content=\"origin-when-cross-origin\" name=\"referrer\"/>\n",
            "<meta content=\"max-image-preview:standard\" name=\"robots\"/>\n",
            "<meta content=\"telephone=no\" name=\"format-detection\"/>\n",
            "<meta content=\"https://upload.wikimedia.org/wikipedia/commons/thumb/4/45/PIA23792-1600x1200%281%29.jpg/1200px-PIA23792-1600x1200%281%29.jpg\" property=\"og:image\"/>\n",
            "<meta content=\"1200\" property=\"og:image:width\"/>\n",
            "<meta content=\"900\" property=\"og:image:height\"/>\n",
            "<meta content=\"https://upload.wikimedia.org/wikipedia/commons/thumb/4/45/PIA23792-1600x1200%281%29.jpg/800px-PIA23792-1600x1200%281%29.jpg\" property=\"og:image\"/>\n",
            "<meta content=\"800\" property=\"og:image:width\"/>\n",
            "<meta content=\"600\" property=\"og:image:height\"/>\n",
            "<meta content=\"https://upload.wikimedia.org/wikipedia/commons/thumb/4/45/PIA23792-1600x1200%281%29.jpg/640px-PIA23792-1600x1200%281%29.jpg\" property=\"og:image\"/>\n",
            "<meta content=\"640\" property=\"og:image:width\"/>\n",
            "<meta content=\"480\" property=\"og:image:height\"/>\n",
            "<meta content=\"width=1000\" name=\"viewport\"/>\n",
            "<meta content=\"Data science - Wikipedia\" property=\"og:title\"/>\n",
            "<meta content=\"website\" property=\"og:type\"/>\n",
            "<link href=\"//upload.wikimedia.org\" rel=\"preconnect\"/>\n",
            "<link href=\"//en.m.wikipedia.org/wiki/Data_science\" media=\"only screen and (max-width: 720px)\" rel=\"alternate\"/>\n",
            "<link href=\"/w/index.php?title=Data_science&amp;action=edit\" rel=\"alternate\" title=\"Edit this page\" type=\"application/x-wiki\"/>\n",
            "<link href=\"/static/apple-touch/wikipedia.png\" rel=\"apple-touch-icon\"/>\n",
            "<link href=\"/static/favicon/wikipedia.ico\" rel=\"icon\"/>\n",
            "<link href=\"/w/opensearch_desc.php\" rel=\"search\" title=\"Wikipedia (en)\" type=\"application/opensearchdescription+xml\"/>\n",
            "<link href=\"//en.wikipedia.org/w/api.php?action=rsd\" rel=\"EditURI\" type=\"application/rsd+xml\"/>\n",
            "<link href=\"https://creativecommons.org/licenses/by-sa/3.0/\" rel=\"license\"/>\n",
            "<link href=\"https://en.wikipedia.org/wiki/Data_science\" rel=\"canonical\"/>\n",
            "<link href=\"//meta.wikimedia.org\" rel=\"dns-prefetch\"/>\n",
            "<link href=\"//login.wikimedia.org\" rel=\"dns-prefetch\"/>\n",
            "</head>\n",
            "<body class=\"skin-vector-legacy mediawiki ltr sitedir-ltr mw-hide-empty-elt ns-0 ns-subject mw-editable page-Data_science rootpage-Data_science skin-vector action-view vector-feature-language-in-header-enabled vector-feature-language-in-main-page-header-disabled vector-feature-language-alert-in-sidebar-enabled vector-feature-sticky-header-disabled vector-feature-sticky-header-edit-disabled vector-feature-table-of-contents-legacy-toc-disabled vector-feature-visual-enhancement-next-enabled vector-feature-page-tools-disabled vector-feature-limited-width-enabled vector-feature-limited-width-content-enabled\"><div class=\"noprint\" id=\"mw-page-base\"></div>\n",
            "<div class=\"noprint\" id=\"mw-head-base\"></div>\n",
            "<div class=\"mw-body\" id=\"content\" role=\"main\">\n",
            "<a id=\"top\"></a>\n",
            "<div id=\"siteNotice\"><!-- CentralNotice --><!--esi <esi:include src=\"/esitest-fa8a495983347898/content\" /> --> </div>\n",
            "<div class=\"mw-indicators\">\n",
            "</div>\n",
            "<h1 class=\"firstHeading mw-first-heading\" id=\"firstHeading\"><span class=\"mw-page-title-main\">Data science</span></h1>\n",
            "<div class=\"vector-body\" id=\"bodyContent\">\n",
            "<div class=\"noprint\" id=\"siteSub\">From Wikipedia, the free encyclopedia</div>\n",
            "<div id=\"contentSub\"></div>\n",
            "<div id=\"contentSub2\"></div>\n",
            "<div id=\"jump-to-nav\"></div>\n",
            "<a class=\"mw-jump-link\" href=\"#mw-head\">Jump to navigation</a>\n",
            "<a class=\"mw-jump-link\" href=\"#searchInput\">Jump to search</a>\n",
            "<div class=\"mw-body-content mw-content-ltr\" dir=\"ltr\" id=\"mw-content-text\" lang=\"en\"><div class=\"mw-parser-output\"><div class=\"shortdescription nomobile noexcerpt noprint searchaux\" style=\"display:none\">Interdisciplinary field of study focused on deriving knowledge and insights from data</div>\n",
            "<style data-mw-deduplicate=\"TemplateStyles:r1033289096\">.mw-parser-output .hatnote{font-style:italic}.mw-parser-output div.hatnote{padding-left:1.6em;margin-bottom:0.5em}.mw-parser-output .hatnote i{font-style:normal}.mw-parser-output .hatnote+link+.hatnote{margin-top:-0.5em}</style><div class=\"hatnote navigation-not-searchable\" role=\"note\">Not to be confused with <a href=\"/wiki/Information_science\" title=\"Information science\">information science</a>.</div>\n",
            "<p class=\"mw-empty-elt\">\n",
            "</p>\n",
            "<div class=\"thumb tright\"><div class=\"thumbinner\" style=\"width:222px;\"><a class=\"image\" href=\"/wiki/File:PIA23792-1600x1200(1).jpg\"><img alt=\"\" class=\"thumbimage\" data-file-height=\"1200\" data-file-width=\"1600\" decoding=\"async\" height=\"165\" src=\"//upload.wikimedia.org/wikipedia/commons/thumb/4/45/PIA23792-1600x1200%281%29.jpg/220px-PIA23792-1600x1200%281%29.jpg\" srcset=\"//upload.wikimedia.org/wikipedia/commons/thumb/4/45/PIA23792-1600x1200%281%29.jpg/330px-PIA23792-1600x1200%281%29.jpg 1.5x, //upload.wikimedia.org/wikipedia/commons/thumb/4/45/PIA23792-1600x1200%281%29.jpg/440px-PIA23792-1600x1200%281%29.jpg 2x\" width=\"220\"/></a> <div class=\"thumbcaption\"><div class=\"magnify\"><a class=\"internal\" href=\"/wiki/File:PIA23792-1600x1200(1).jpg\" title=\"Enlarge\"></a></div>The existence of <a href=\"/wiki/Comet_NEOWISE\" title=\"Comet NEOWISE\">Comet NEOWISE</a> (here depicted as a series of red dots) was discovered by analyzing <a href=\"/wiki/Astronomical_survey\" title=\"Astronomical survey\">astronomical survey</a> data acquired by a <a href=\"/wiki/Space_telescope\" title=\"Space telescope\">space telescope</a>, the <a href=\"/wiki/Wide-field_Infrared_Survey_Explorer\" title=\"Wide-field Infrared Survey Explorer\">Wide-field Infrared Survey Explorer</a>.</div></div></div>\n",
            "<p><b>Data science</b> is an <a class=\"mw-redirect\" href=\"/wiki/Interdisciplinary\" title=\"Interdisciplinary\">interdisciplinary</a> field that uses <a href=\"/wiki/Scientific_method\" title=\"Scientific method\">scientific methods</a>, processes, <a href=\"/wiki/Algorithm\" title=\"Algorithm\">algorithms</a> and systems to extract or extrapolate <a href=\"/wiki/Knowledge\" title=\"Knowledge\">knowledge</a> and insights from noisy, structured and <a href=\"/wiki/Unstructured_data\" title=\"Unstructured data\">unstructured data</a>,<sup class=\"reference\" id=\"cite_ref-1\"><a href=\"#cite_note-1\">[1]</a></sup><sup class=\"reference\" id=\"cite_ref-2\"><a href=\"#cite_note-2\">[2]</a></sup> and apply knowledge from data across a broad range of application domains. Data science is related to <a href=\"/wiki/Data_mining\" title=\"Data mining\">data mining</a>, <a href=\"/wiki/Machine_learning\" title=\"Machine learning\">machine learning</a>, <a href=\"/wiki/Big_data\" title=\"Big data\">big data</a>, <a href=\"/wiki/Computational_statistics\" title=\"Computational statistics\">computational statistics</a> and <a href=\"/wiki/Analytics\" title=\"Analytics\">analytics</a>.<sup class=\"reference\" id=\"cite_ref-:2_3-0\"><a href=\"#cite_note-:2-3\">[3]</a></sup>\n",
            "</p><p>Data science is a \"concept to unify <a href=\"/wiki/Statistics\" title=\"Statistics\">statistics</a>, <a href=\"/wiki/Data_analysis\" title=\"Data analysis\">data analysis</a>, <a href=\"/wiki/Informatics\" title=\"Informatics\">informatics</a>, and their related <a href=\"/wiki/Scientific_method\" title=\"Scientific method\">methods</a>\" in order to \"understand and analyse actual <a class=\"mw-redirect\" href=\"/wiki/Phenomena\" title=\"Phenomena\">phenomena</a>\" with <a href=\"/wiki/Data\" title=\"Data\">data</a>.<sup class=\"reference\" id=\"cite_ref-4\"><a href=\"#cite_note-4\">[4]</a></sup> It uses techniques and theories drawn from many fields within the context of <a href=\"/wiki/Mathematics\" title=\"Mathematics\">mathematics</a>, statistics, <a href=\"/wiki/Computer_science\" title=\"Computer science\">computer science</a>, <a href=\"/wiki/Information_science\" title=\"Information science\">information science</a>, and <a href=\"/wiki/Domain_knowledge\" title=\"Domain knowledge\">domain knowledge</a>.<sup class=\"reference\" id=\"cite_ref-:2_3-1\"><a href=\"#cite_note-:2-3\">[3]</a></sup> However, data science is different from <a href=\"/wiki/Computer_science\" title=\"Computer science\">computer science</a> and information science. <a href=\"/wiki/Turing_Award\" title=\"Turing Award\">Turing Award</a> winner <a href=\"/wiki/Jim_Gray_(computer_scientist)\" title=\"Jim Gray (computer scientist)\">Jim Gray</a> imagined data science as a \"fourth paradigm\" of science (<a href=\"/wiki/Empirical_research\" title=\"Empirical research\">empirical</a>, <a href=\"/wiki/Basic_research\" title=\"Basic research\">theoretical</a>, <a href=\"/wiki/Computational_science\" title=\"Computational science\">computational</a>, and now data-driven) and asserted that \"everything about science is changing because of the impact of <a href=\"/wiki/Information_technology\" title=\"Information technology\">information technology</a>\" and the <a href=\"/wiki/Information_explosion\" title=\"Information explosion\">data deluge</a>.<sup class=\"reference\" id=\"cite_ref-TansleyTolle2009_5-0\"><a href=\"#cite_note-TansleyTolle2009-5\">[5]</a></sup><sup class=\"reference\" id=\"cite_ref-BellHey2009_6-0\"><a href=\"#cite_note-BellHey2009-6\">[6]</a></sup>\n",
            "</p><p>A <b>data scientist</b> is someone who creates programming code and combines it with statistical knowledge to create insights from data.<sup class=\"reference\" id=\"cite_ref-7\"><a href=\"#cite_note-7\">[7]</a></sup>\n",
            "</p>\n",
            "<div aria-labelledby=\"mw-toc-heading\" class=\"toc\" id=\"toc\" role=\"navigation\"><input class=\"toctogglecheckbox\" id=\"toctogglecheckbox\" role=\"button\" style=\"display:none\" type=\"checkbox\"/><div class=\"toctitle\" dir=\"ltr\" lang=\"en\"><h2 id=\"mw-toc-heading\">Contents</h2><span class=\"toctogglespan\"><label class=\"toctogglelabel\" for=\"toctogglecheckbox\"></label></span></div>\n",
            "<ul>\n",
            "<li class=\"toclevel-1 tocsection-1\"><a href=\"#Foundations\"><span class=\"tocnumber\">1</span> <span class=\"toctext\">Foundations</span></a>\n",
            "<ul>\n",
            "<li class=\"toclevel-2 tocsection-2\"><a href=\"#Relationship_to_statistics\"><span class=\"tocnumber\">1.1</span> <span class=\"toctext\">Relationship to statistics</span></a></li>\n",
            "</ul>\n",
            "</li>\n",
            "<li class=\"toclevel-1 tocsection-3\"><a href=\"#Etymology\"><span class=\"tocnumber\">2</span> <span class=\"toctext\">Etymology</span></a>\n",
            "<ul>\n",
            "<li class=\"toclevel-2 tocsection-4\"><a href=\"#Early_usage\"><span class=\"tocnumber\">2.1</span> <span class=\"toctext\">Early usage</span></a></li>\n",
            "<li class=\"toclevel-2 tocsection-5\"><a href=\"#Modern_usage\"><span class=\"tocnumber\">2.2</span> <span class=\"toctext\">Modern usage</span></a></li>\n",
            "</ul>\n",
            "</li>\n",
            "<li class=\"toclevel-1 tocsection-6\"><a href=\"#See_also\"><span class=\"tocnumber\">3</span> <span class=\"toctext\">See also</span></a></li>\n",
            "<li class=\"toclevel-1 tocsection-7\"><a href=\"#References\"><span class=\"tocnumber\">4</span> <span class=\"toctext\">References</span></a></li>\n",
            "</ul>\n",
            "</div>\n",
            "<h2><span class=\"mw-headline\" id=\"Foundations\">Foundations</span><span class=\"mw-editsection\"><span class=\"mw-editsection-bracket\">[</span><a href=\"/w/index.php?title=Data_science&amp;action=edit&amp;section=1\" title=\"Edit section: Foundations\">edit</a><span class=\"mw-editsection-bracket\">]</span></span></h2>\n",
            "<p>Data science is an <a href=\"/wiki/Interdisciplinarity\" title=\"Interdisciplinarity\">interdisciplinary</a> <a href=\"/wiki/Academic_discipline\" title=\"Academic discipline\">field</a><sup class=\"reference\" id=\"cite_ref-8\"><a href=\"#cite_note-8\">[8]</a></sup> focused on extracting knowledge from typically <a href=\"/wiki/Big_data\" title=\"Big data\">large</a> <a href=\"/wiki/Data_set\" title=\"Data set\">data sets</a> and applying the knowledge and insights from that data to <a href=\"/wiki/Problem_solving\" title=\"Problem solving\">solve problems</a> in a wide range of application domains.<sup class=\"reference\" id=\"cite_ref-9\"><a href=\"#cite_note-9\">[9]</a></sup> The field encompasses preparing data for analysis, formulating data science problems, <a href=\"/wiki/Analysis\" title=\"Analysis\">analyzing</a> data, developing data-driven solutions, and presenting findings to inform high-level decisions in a broad range of application domains. As such, it incorporates skills from computer science, statistics, information science, mathematics, <a class=\"mw-redirect\" href=\"/wiki/Data_visualization\" title=\"Data visualization\">data visualization</a>, <a class=\"mw-redirect\" href=\"/wiki/Information_visualization\" title=\"Information visualization\">information visualization</a>, <a href=\"/wiki/Data_sonification\" title=\"Data sonification\">data sonification</a>, data <a href=\"/wiki/Data_integration\" title=\"Data integration\">integration</a>, <a href=\"/wiki/Graphic_design\" title=\"Graphic design\">graphic design</a>, <a class=\"mw-redirect\" href=\"/wiki/Complex_systems\" title=\"Complex systems\">complex systems</a>, <a href=\"/wiki/Communication\" title=\"Communication\">communication</a> and <a href=\"/wiki/Business\" title=\"Business\">business</a>.<sup class=\"reference\" id=\"cite_ref-10\"><a href=\"#cite_note-10\">[10]</a></sup><sup class=\"reference\" id=\"cite_ref-11\"><a href=\"#cite_note-11\">[11]</a></sup> Statistician <a href=\"/wiki/Nathan_Yau\" title=\"Nathan Yau\">Nathan Yau</a>, drawing on <a href=\"/wiki/Ben_Fry\" title=\"Ben Fry\">Ben Fry</a>, also links data science to <a href=\"/wiki/Human%E2%80%93computer_interaction\" title=\"Human–computer interaction\">human–computer interaction</a>: users should be able to intuitively control and <a href=\"/wiki/Exploration\" title=\"Exploration\">explore</a> data.<sup class=\"reference\" id=\"cite_ref-12\"><a href=\"#cite_note-12\">[12]</a></sup><sup class=\"reference\" id=\"cite_ref-13\"><a href=\"#cite_note-13\">[13]</a></sup> In 2015, the <a href=\"/wiki/American_Statistical_Association\" title=\"American Statistical Association\">American Statistical Association</a> identified <a href=\"/wiki/Database\" title=\"Database\">database</a> management, statistics and <a href=\"/wiki/Machine_learning\" title=\"Machine learning\">machine learning</a>, and <a href=\"/wiki/Distributed_computing\" title=\"Distributed computing\">distributed and parallel systems</a> as the three emerging foundational professional communities.<sup class=\"reference\" id=\"cite_ref-14\"><a href=\"#cite_note-14\">[14]</a></sup>\n",
            "</p>\n",
            "<h3><span class=\"mw-headline\" id=\"Relationship_to_statistics\">Relationship to statistics</span><span class=\"mw-editsection\"><span class=\"mw-editsection-bracket\">[</span><a href=\"/w/index.php?title=Data_science&amp;action=edit&amp;section=2\" title=\"Edit section: Relationship to statistics\">edit</a><span class=\"mw-editsection-bracket\">]</span></span></h3>\n",
            "<p>Many statisticians, including <a href=\"/wiki/Nate_Silver\" title=\"Nate Silver\">Nate Silver</a>, have argued that data science is not a new field, but rather another name for statistics.<sup class=\"reference\" id=\"cite_ref-15\"><a href=\"#cite_note-15\">[15]</a></sup> Others argue that data science is distinct from statistics because it focuses on problems and techniques unique to digital data.<sup class=\"reference\" id=\"cite_ref-16\"><a href=\"#cite_note-16\">[16]</a></sup> <a href=\"/wiki/Vasant_Dhar\" title=\"Vasant Dhar\">Vasant Dhar</a> writes that statistics emphasizes quantitative data and description. In contrast, data science deals with quantitative and qualitative data (e.g. from images, text, sensors, transactions or customer information, etc) and emphasizes prediction and action.<sup class=\"reference\" id=\"cite_ref-17\"><a href=\"#cite_note-17\">[17]</a></sup> <a href=\"/wiki/Andrew_Gelman\" title=\"Andrew Gelman\">Andrew Gelman</a> of <a href=\"/wiki/Columbia_University\" title=\"Columbia University\">Columbia University</a> has described statistics as a nonessential part of data science.<sup class=\"reference\" id=\"cite_ref-18\"><a href=\"#cite_note-18\">[18]</a></sup>\n",
            "</p><p>Stanford professor <a href=\"/wiki/David_Donoho\" title=\"David Donoho\">David Donoho</a> writes that data science is not distinguished from statistics by the size of datasets or use of computing and that many graduate programs misleadingly advertise their analytics and statistics training as the essence of a data-science program. He describes data science as an applied field growing out of traditional statistics.<sup class=\"reference\" id=\"cite_ref-:7_19-0\"><a href=\"#cite_note-:7-19\">[19]</a></sup>\n",
            "</p>\n",
            "<h2><span class=\"mw-headline\" id=\"Etymology\">Etymology</span><span class=\"mw-editsection\"><span class=\"mw-editsection-bracket\">[</span><a href=\"/w/index.php?title=Data_science&amp;action=edit&amp;section=3\" title=\"Edit section: Etymology\">edit</a><span class=\"mw-editsection-bracket\">]</span></span></h2>\n",
            "<h3><span class=\"mw-headline\" id=\"Early_usage\">Early usage</span><span class=\"mw-editsection\"><span class=\"mw-editsection-bracket\">[</span><a href=\"/w/index.php?title=Data_science&amp;action=edit&amp;section=4\" title=\"Edit section: Early usage\">edit</a><span class=\"mw-editsection-bracket\">]</span></span></h3>\n",
            "<p>In 1962, <a href=\"/wiki/John_Tukey\" title=\"John Tukey\">John Tukey</a> described a field he called \"data analysis\", which resembles modern data science.<sup class=\"reference\" id=\"cite_ref-:7_19-1\"><a href=\"#cite_note-:7-19\">[19]</a></sup> In 1985, in a lecture given to the Chinese Academy of Sciences in Beijing, <a href=\"/wiki/C._F._Jeff_Wu\" title=\"C. F. Jeff Wu\">C. F. Jeff Wu</a> used the term \"data science\" for the first time as an alternative name for statistics.<sup class=\"reference\" id=\"cite_ref-20\"><a href=\"#cite_note-20\">[20]</a></sup> Later, attendees at a 1992 statistics symposium at the <a href=\"/wiki/Montpellier_2_University\" title=\"Montpellier 2 University\">University of Montpellier II</a> acknowledged the emergence of a new discipline focused on data of various origins and forms, combining established concepts and principles of statistics and data analysis with computing.<sup class=\"reference\" id=\"cite_ref-21\"><a href=\"#cite_note-21\">[21]</a></sup><sup class=\"reference\" id=\"cite_ref-Murtagh_2018_14_22-0\"><a href=\"#cite_note-Murtagh_2018_14-22\">[22]</a></sup>\n",
            "</p><p>The term \"data science\" has been traced back to 1974, when <a href=\"/wiki/Peter_Naur\" title=\"Peter Naur\">Peter Naur</a> proposed it as an alternative name for computer science.<sup class=\"reference\" id=\"cite_ref-:2_3-2\"><a href=\"#cite_note-:2-3\">[3]</a></sup> In 1996, the International Federation of Classification Societies became the first conference to specifically feature data science as a topic.<sup class=\"reference\" id=\"cite_ref-:2_3-3\"><a href=\"#cite_note-:2-3\">[3]</a></sup> However, the definition was still in flux. After the 1985 lecture at the Chinese Academy of Sciences in Beijing, in 1997 <a href=\"/wiki/C._F._Jeff_Wu\" title=\"C. F. Jeff Wu\">C. F. Jeff Wu</a> again suggested that statistics should be renamed data science. He reasoned that a new name would help statistics shed inaccurate stereotypes, such as being synonymous with accounting or limited to describing data.<sup class=\"reference\" id=\"cite_ref-23\"><a href=\"#cite_note-23\">[23]</a></sup> In 1998, Hayashi Chikio argued for data science as a new, interdisciplinary concept, with three aspects: data design, collection, and analysis.<sup class=\"reference\" id=\"cite_ref-Murtagh_2018_14_22-1\"><a href=\"#cite_note-Murtagh_2018_14-22\">[22]</a></sup>\n",
            "</p><p>During the 1990s, popular terms for the process of finding patterns in datasets (which were increasingly large) included \"knowledge discovery\" and \"<a href=\"/wiki/Data_mining\" title=\"Data mining\">data mining</a>\".<sup class=\"reference\" id=\"cite_ref-:2_3-4\"><a href=\"#cite_note-:2-3\">[3]</a></sup><sup class=\"reference\" id=\"cite_ref-:1_24-0\"><a href=\"#cite_note-:1-24\">[24]</a></sup>\n",
            "</p>\n",
            "<h3><span class=\"mw-headline\" id=\"Modern_usage\">Modern usage</span><span class=\"mw-editsection\"><span class=\"mw-editsection-bracket\">[</span><a href=\"/w/index.php?title=Data_science&amp;action=edit&amp;section=5\" title=\"Edit section: Modern usage\">edit</a><span class=\"mw-editsection-bracket\">]</span></span></h3>\n",
            "<p>In 2012, technologists <a href=\"/wiki/Thomas_H._Davenport\" title=\"Thomas H. Davenport\">Thomas H. Davenport</a> and <a href=\"/wiki/DJ_Patil\" title=\"DJ Patil\">DJ Patil</a> declared \"Data Scientist: The Sexiest Job of the 21st Century\",<sup class=\"reference\" id=\"cite_ref-25\"><a href=\"#cite_note-25\">[25]</a></sup> a catch-phrase that was picked up even by major-city newspapers like the <a class=\"mw-redirect\" href=\"/wiki/New_York_Times\" title=\"New York Times\">New York Times</a><sup class=\"reference\" id=\"cite_ref-26\"><a href=\"#cite_note-26\">[26]</a></sup> and the <a class=\"mw-redirect\" href=\"/wiki/Boston_Globe\" title=\"Boston Globe\">Boston Globe</a>.<sup class=\"reference\" id=\"cite_ref-27\"><a href=\"#cite_note-27\">[27]</a></sup> A decade later, they reaffirmed it, stating \"the job is more in demand than ever with employers\".<sup class=\"reference\" id=\"cite_ref-28\"><a href=\"#cite_note-28\">[28]</a></sup>\n",
            "</p><p>The modern conception of data science as an independent discipline is sometimes attributed to <a href=\"/wiki/William_S._Cleveland\" title=\"William S. Cleveland\">William S. Cleveland</a>.<sup class=\"reference\" id=\"cite_ref-29\"><a href=\"#cite_note-29\">[29]</a></sup> In a 2001 paper, he advocated an expansion of statistics beyond theory into technical areas; because this would significantly change the field, it warranted a new name.<sup class=\"reference\" id=\"cite_ref-:1_24-1\"><a href=\"#cite_note-:1-24\">[24]</a></sup> \"Data science\" became more widely used in the next few years: in 2002, the <a class=\"mw-redirect\" href=\"/wiki/Committee_on_Data_for_Science_and_Technology\" title=\"Committee on Data for Science and Technology\">Committee on Data for Science and Technology</a> launched <i>Data Science Journal</i>. In 2003, Columbia University launched <i>The Journal of Data Science</i>.<sup class=\"reference\" id=\"cite_ref-:1_24-2\"><a href=\"#cite_note-:1-24\">[24]</a></sup> In 2014, the <a href=\"/wiki/American_Statistical_Association\" title=\"American Statistical Association\">American Statistical Association</a>'s Section on Statistical Learning and Data Mining changed its name to the Section on Statistical Learning and Data Science, reflecting the ascendant popularity of data science.<sup class=\"reference\" id=\"cite_ref-30\"><a href=\"#cite_note-30\">[30]</a></sup>\n",
            "</p><p>The professional title of \"data scientist\" has been attributed to <a href=\"/wiki/DJ_Patil\" title=\"DJ Patil\">DJ Patil</a> and <a href=\"/wiki/Jeff_Hammerbacher\" title=\"Jeff Hammerbacher\">Jeff Hammerbacher</a> in 2008.<sup class=\"reference\" id=\"cite_ref-31\"><a href=\"#cite_note-31\">[31]</a></sup> Though it was used by the <a href=\"/wiki/National_Science_Board\" title=\"National Science Board\">National Science Board</a> in their 2005 report \"Long-Lived Digital Data Collections: Enabling Research and Education in the 21st Century\", it referred broadly to any key role in managing a digital data collection.<sup class=\"reference\" id=\"cite_ref-32\"><a href=\"#cite_note-32\">[32]</a></sup>\n",
            "</p><p>There is still no consensus on the definition of data science, and it is considered by some to be a <a href=\"/wiki/Buzzword\" title=\"Buzzword\">buzzword</a>.<sup class=\"reference\" id=\"cite_ref-33\"><a href=\"#cite_note-33\">[33]</a></sup> <a href=\"/wiki/Big_data\" title=\"Big data\">Big data</a> is a related marketing term.<sup class=\"reference\" id=\"cite_ref-:5_34-0\"><a href=\"#cite_note-:5-34\">[34]</a></sup> Data scientists are responsible for breaking down big data into usable information and creating software and algorithms that help companies and organizations determine optimal operations.<sup class=\"reference\" id=\"cite_ref-:6_35-0\"><a href=\"#cite_note-:6-35\">[35]</a></sup>\n",
            "</p>\n",
            "<h2><span class=\"mw-headline\" id=\"See_also\">See also</span><span class=\"mw-editsection\"><span class=\"mw-editsection-bracket\">[</span><a href=\"/w/index.php?title=Data_science&amp;action=edit&amp;section=6\" title=\"Edit section: See also\">edit</a><span class=\"mw-editsection-bracket\">]</span></span></h2>\n",
            "<ul><li><a href=\"/wiki/ODSC\" title=\"ODSC\">Open Data Science Conference</a></li>\n",
            "<li><a href=\"/wiki/Scientific_Data_(journal)\" title=\"Scientific Data (journal)\">Scientific Data</a></li>\n",
            "<li><a href=\"/wiki/Women_in_Data\" title=\"Women in Data\">Women in Data</a></li></ul>\n",
            "<h2><span class=\"mw-headline\" id=\"References\">References</span><span class=\"mw-editsection\"><span class=\"mw-editsection-bracket\">[</span><a href=\"/w/index.php?title=Data_science&amp;action=edit&amp;section=7\" title=\"Edit section: References\">edit</a><span class=\"mw-editsection-bracket\">]</span></span></h2>\n",
            "<style data-mw-deduplicate=\"TemplateStyles:r1011085734\">.mw-parser-output .reflist{font-size:90%;margin-bottom:0.5em;list-style-type:decimal}.mw-parser-output .reflist .references{font-size:100%;margin-bottom:0;list-style-type:inherit}.mw-parser-output .reflist-columns-2{column-width:30em}.mw-parser-output .reflist-columns-3{column-width:25em}.mw-parser-output .reflist-columns{margin-top:0.3em}.mw-parser-output .reflist-columns ol{margin-top:0}.mw-parser-output .reflist-columns li{page-break-inside:avoid;break-inside:avoid-column}.mw-parser-output .reflist-upper-alpha{list-style-type:upper-alpha}.mw-parser-output .reflist-upper-roman{list-style-type:upper-roman}.mw-parser-output .reflist-lower-alpha{list-style-type:lower-alpha}.mw-parser-output .reflist-lower-greek{list-style-type:lower-greek}.mw-parser-output .reflist-lower-roman{list-style-type:lower-roman}</style><div class=\"reflist reflist-columns references-column-width\" style=\"column-width: 30em;\">\n",
            "<ol class=\"references\">\n",
            "<li id=\"cite_note-1\"><span class=\"mw-cite-backlink\"><b><a href=\"#cite_ref-1\">^</a></b></span> <span class=\"reference-text\"><style data-mw-deduplicate=\"TemplateStyles:r1067248974\">.mw-parser-output cite.citation{font-style:inherit;word-wrap:break-word}.mw-parser-output .citation q{quotes:\"\\\"\"\"\\\"\"\"'\"\"'\"}.mw-parser-output .citation:target{background-color:rgba(0,127,255,0.133)}.mw-parser-output .id-lock-free a,.mw-parser-output .citation .cs1-lock-free a{background:linear-gradient(transparent,transparent),url(\"//upload.wikimedia.org/wikipedia/commons/6/65/Lock-green.svg\")right 0.1em center/9px no-repeat}.mw-parser-output .id-lock-limited a,.mw-parser-output .id-lock-registration a,.mw-parser-output .citation .cs1-lock-limited a,.mw-parser-output .citation .cs1-lock-registration a{background:linear-gradient(transparent,transparent),url(\"//upload.wikimedia.org/wikipedia/commons/d/d6/Lock-gray-alt-2.svg\")right 0.1em center/9px no-repeat}.mw-parser-output .id-lock-subscription a,.mw-parser-output .citation .cs1-lock-subscription a{background:linear-gradient(transparent,transparent),url(\"//upload.wikimedia.org/wikipedia/commons/a/aa/Lock-red-alt-2.svg\")right 0.1em center/9px no-repeat}.mw-parser-output .cs1-ws-icon a{background:linear-gradient(transparent,transparent),url(\"//upload.wikimedia.org/wikipedia/commons/4/4c/Wikisource-logo.svg\")right 0.1em center/12px no-repeat}.mw-parser-output .cs1-code{color:inherit;background:inherit;border:none;padding:inherit}.mw-parser-output .cs1-hidden-error{display:none;color:#d33}.mw-parser-output .cs1-visible-error{color:#d33}.mw-parser-output .cs1-maint{display:none;color:#3a3;margin-left:0.3em}.mw-parser-output .cs1-format{font-size:95%}.mw-parser-output .cs1-kern-left{padding-left:0.2em}.mw-parser-output .cs1-kern-right{padding-right:0.2em}.mw-parser-output .citation .mw-selflink{font-weight:inherit}</style><cite class=\"citation journal cs1\" id=\"CITEREFDhar2013\">Dhar, V. (2013). <a class=\"external text\" href=\"http://cacm.acm.org/magazines/2013/12/169933-data-science-and-prediction/fulltext\" rel=\"nofollow\">\"Data science and prediction\"</a>. <i>Communications of the ACM</i>. <b>56</b> (12): 64–73. <a class=\"mw-redirect\" href=\"/wiki/Doi_(identifier)\" title=\"Doi (identifier)\">doi</a>:<a class=\"external text\" href=\"https://doi.org/10.1145%2F2500499\" rel=\"nofollow\">10.1145/2500499</a>. <a class=\"mw-redirect\" href=\"/wiki/S2CID_(identifier)\" title=\"S2CID (identifier)\">S2CID</a> <a class=\"external text\" href=\"https://api.semanticscholar.org/CorpusID:6107147\" rel=\"nofollow\">6107147</a>. <a class=\"external text\" href=\"https://web.archive.org/web/20141109113411/http://cacm.acm.org/magazines/2013/12/169933-data-science-and-prediction/fulltext\" rel=\"nofollow\">Archived</a> from the original on 9 November 2014<span class=\"reference-accessdate\">. Retrieved <span class=\"nowrap\">2 September</span> 2015</span>.</cite><span class=\"Z3988\" title=\"ctx_ver=Z39.88-2004&amp;rft_val_fmt=info%3Aofi%2Ffmt%3Akev%3Amtx%3Ajournal&amp;rft.genre=article&amp;rft.jtitle=Communications+of+the+ACM&amp;rft.atitle=Data+science+and+prediction&amp;rft.volume=56&amp;rft.issue=12&amp;rft.pages=64-73&amp;rft.date=2013&amp;rft_id=info%3Adoi%2F10.1145%2F2500499&amp;rft_id=https%3A%2F%2Fapi.semanticscholar.org%2FCorpusID%3A6107147%23id-name%3DS2CID&amp;rft.aulast=Dhar&amp;rft.aufirst=V.&amp;rft_id=http%3A%2F%2Fcacm.acm.org%2Fmagazines%2F2013%2F12%2F169933-data-science-and-prediction%2Ffulltext&amp;rfr_id=info%3Asid%2Fen.wikipedia.org%3AData+science\"></span></span>\n",
            "</li>\n",
            "<li id=\"cite_note-2\"><span class=\"mw-cite-backlink\"><b><a href=\"#cite_ref-2\">^</a></b></span> <span class=\"reference-text\"><link href=\"mw-data:TemplateStyles:r1067248974\" rel=\"mw-deduplicated-inline-style\"/><cite class=\"citation web cs1\" id=\"CITEREFJeff_Leek2013\"><a href=\"/wiki/Jeffrey_T._Leek\" title=\"Jeffrey T. Leek\">Jeff Leek</a> (12 December 2013). <a class=\"external text\" href=\"http://simplystatistics.org/2013/12/12/the-key-word-in-data-science-is-not-data-it-is-science/\" rel=\"nofollow\">\"The key word in \"Data Science\" is not Data, it is Science\"</a>. Simply Statistics. <a class=\"external text\" href=\"https://web.archive.org/web/20140102194117/http://simplystatistics.org/2013/12/12/the-key-word-in-data-science-is-not-data-it-is-science/\" rel=\"nofollow\">Archived</a> from the original on 2 January 2014<span class=\"reference-accessdate\">. Retrieved <span class=\"nowrap\">1 January</span> 2014</span>.</cite><span class=\"Z3988\" title=\"ctx_ver=Z39.88-2004&amp;rft_val_fmt=info%3Aofi%2Ffmt%3Akev%3Amtx%3Abook&amp;rft.genre=unknown&amp;rft.btitle=The+key+word+in+%22Data+Science%22+is+not+Data%2C+it+is+Science&amp;rft.pub=Simply+Statistics&amp;rft.date=2013-12-12&amp;rft.au=Jeff+Leek&amp;rft_id=http%3A%2F%2Fsimplystatistics.org%2F2013%2F12%2F12%2Fthe-key-word-in-data-science-is-not-data-it-is-science%2F&amp;rfr_id=info%3Asid%2Fen.wikipedia.org%3AData+science\"></span></span>\n",
            "</li>\n",
            "<li id=\"cite_note-:2-3\"><span class=\"mw-cite-backlink\">^ <a href=\"#cite_ref-:2_3-0\"><sup><i><b>a</b></i></sup></a> <a href=\"#cite_ref-:2_3-1\"><sup><i><b>b</b></i></sup></a> <a href=\"#cite_ref-:2_3-2\"><sup><i><b>c</b></i></sup></a> <a href=\"#cite_ref-:2_3-3\"><sup><i><b>d</b></i></sup></a> <a href=\"#cite_ref-:2_3-4\"><sup><i><b>e</b></i></sup></a></span> <span class=\"reference-text\"><link href=\"mw-data:TemplateStyles:r1067248974\" rel=\"mw-deduplicated-inline-style\"/><cite class=\"citation journal cs1\" id=\"CITEREFCao2017\">Cao, Longbing (29 June 2017). \"Data Science: A Comprehensive Overview\". <i>ACM Computing Surveys</i>. <b>50</b> (3): 43:1–43:42. <a class=\"mw-redirect\" href=\"/wiki/Doi_(identifier)\" title=\"Doi (identifier)\">doi</a>:<a class=\"external text\" href=\"https://doi.org/10.1145%2F3076253\" rel=\"nofollow\">10.1145/3076253</a>. <a class=\"mw-redirect\" href=\"/wiki/ISSN_(identifier)\" title=\"ISSN (identifier)\">ISSN</a> <a class=\"external text\" href=\"//www.worldcat.org/issn/0360-0300\" rel=\"nofollow\">0360-0300</a>. <a class=\"mw-redirect\" href=\"/wiki/S2CID_(identifier)\" title=\"S2CID (identifier)\">S2CID</a> <a class=\"external text\" href=\"https://api.semanticscholar.org/CorpusID:207595944\" rel=\"nofollow\">207595944</a>.</cite><span class=\"Z3988\" title=\"ctx_ver=Z39.88-2004&amp;rft_val_fmt=info%3Aofi%2Ffmt%3Akev%3Amtx%3Ajournal&amp;rft.genre=article&amp;rft.jtitle=ACM+Computing+Surveys&amp;rft.atitle=Data+Science%3A+A+Comprehensive+Overview&amp;rft.volume=50&amp;rft.issue=3&amp;rft.pages=43%3A1-43%3A42&amp;rft.date=2017-06-29&amp;rft_id=https%3A%2F%2Fapi.semanticscholar.org%2FCorpusID%3A207595944%23id-name%3DS2CID&amp;rft.issn=0360-0300&amp;rft_id=info%3Adoi%2F10.1145%2F3076253&amp;rft.aulast=Cao&amp;rft.aufirst=Longbing&amp;rfr_id=info%3Asid%2Fen.wikipedia.org%3AData+science\"></span></span>\n",
            "</li>\n",
            "<li id=\"cite_note-4\"><span class=\"mw-cite-backlink\"><b><a href=\"#cite_ref-4\">^</a></b></span> <span class=\"reference-text\"><link href=\"mw-data:TemplateStyles:r1067248974\" rel=\"mw-deduplicated-inline-style\"/><cite class=\"citation book cs1\" id=\"CITEREFHayashi1998\">Hayashi, Chikio (1 January 1998). <a class=\"external text\" href=\"https://www.springer.com/book/9784431702085\" rel=\"nofollow\">\"What is Data Science? Fundamental Concepts and a Heuristic Example\"</a>.  In Hayashi, Chikio; Yajima, Keiji; Bock, Hans-Hermann; Ohsumi, Noboru; Tanaka, Yutaka; Baba, Yasumasa (eds.). <i>Data Science, Classification, and Related Methods</i>. Studies in Classification, Data Analysis, and Knowledge Organization. Springer Japan. pp. 40–51. <a class=\"mw-redirect\" href=\"/wiki/Doi_(identifier)\" title=\"Doi (identifier)\">doi</a>:<a class=\"external text\" href=\"https://doi.org/10.1007%2F978-4-431-65950-1_3\" rel=\"nofollow\">10.1007/978-4-431-65950-1_3</a>. <a class=\"mw-redirect\" href=\"/wiki/ISBN_(identifier)\" title=\"ISBN (identifier)\">ISBN</a> <a href=\"/wiki/Special:BookSources/9784431702085\" title=\"Special:BookSources/9784431702085\"><bdi>9784431702085</bdi></a>.</cite><span class=\"Z3988\" title=\"ctx_ver=Z39.88-2004&amp;rft_val_fmt=info%3Aofi%2Ffmt%3Akev%3Amtx%3Abook&amp;rft.genre=bookitem&amp;rft.atitle=What+is+Data+Science%3F+Fundamental+Concepts+and+a+Heuristic+Example&amp;rft.btitle=Data+Science%2C+Classification%2C+and+Related+Methods&amp;rft.series=Studies+in+Classification%2C+Data+Analysis%2C+and+Knowledge+Organization&amp;rft.pages=40-51&amp;rft.pub=Springer+Japan&amp;rft.date=1998-01-01&amp;rft_id=info%3Adoi%2F10.1007%2F978-4-431-65950-1_3&amp;rft.isbn=9784431702085&amp;rft.aulast=Hayashi&amp;rft.aufirst=Chikio&amp;rft_id=https%3A%2F%2Fwww.springer.com%2Fbook%2F9784431702085&amp;rfr_id=info%3Asid%2Fen.wikipedia.org%3AData+science\"></span></span>\n",
            "</li>\n",
            "<li id=\"cite_note-TansleyTolle2009-5\"><span class=\"mw-cite-backlink\"><b><a href=\"#cite_ref-TansleyTolle2009_5-0\">^</a></b></span> <span class=\"reference-text\"><link href=\"mw-data:TemplateStyles:r1067248974\" rel=\"mw-deduplicated-inline-style\"/><cite class=\"citation book cs1\" id=\"CITEREFTony_HeyStewart_TansleyKristin_Michele_Tolle2009\">Tony Hey; Stewart Tansley; Kristin Michele Tolle (2009). <a class=\"external text\" href=\"https://books.google.com/books?id=oGs_AQAAIAAJ\" rel=\"nofollow\"><i>The Fourth Paradigm: Data-intensive Scientific Discovery</i></a>. Microsoft Research. <a class=\"mw-redirect\" href=\"/wiki/ISBN_(identifier)\" title=\"ISBN (identifier)\">ISBN</a> <a href=\"/wiki/Special:BookSources/978-0-9825442-0-4\" title=\"Special:BookSources/978-0-9825442-0-4\"><bdi>978-0-9825442-0-4</bdi></a>. <a class=\"external text\" href=\"https://web.archive.org/web/20170320193019/https://books.google.com/books?id=oGs_AQAAIAAJ\" rel=\"nofollow\">Archived</a> from the original on 20 March 2017.</cite><span class=\"Z3988\" title=\"ctx_ver=Z39.88-2004&amp;rft_val_fmt=info%3Aofi%2Ffmt%3Akev%3Amtx%3Abook&amp;rft.genre=book&amp;rft.btitle=The+Fourth+Paradigm%3A+Data-intensive+Scientific+Discovery&amp;rft.pub=Microsoft+Research&amp;rft.date=2009&amp;rft.isbn=978-0-9825442-0-4&amp;rft.au=Tony+Hey&amp;rft.au=Stewart+Tansley&amp;rft.au=Kristin+Michele+Tolle&amp;rft_id=https%3A%2F%2Fbooks.google.com%2Fbooks%3Fid%3DoGs_AQAAIAAJ&amp;rfr_id=info%3Asid%2Fen.wikipedia.org%3AData+science\"></span></span>\n",
            "</li>\n",
            "<li id=\"cite_note-BellHey2009-6\"><span class=\"mw-cite-backlink\"><b><a href=\"#cite_ref-BellHey2009_6-0\">^</a></b></span> <span class=\"reference-text\"><link href=\"mw-data:TemplateStyles:r1067248974\" rel=\"mw-deduplicated-inline-style\"/><cite class=\"citation journal cs1\" id=\"CITEREFBellHeySzalay2009\">Bell, G.; Hey, T.; Szalay, A. (2009). \"Computer Science: Beyond the Data Deluge\". <i>Science</i>. <b>323</b> (5919): 1297–1298. <a class=\"mw-redirect\" href=\"/wiki/Doi_(identifier)\" title=\"Doi (identifier)\">doi</a>:<a class=\"external text\" href=\"https://doi.org/10.1126%2Fscience.1170411\" rel=\"nofollow\">10.1126/science.1170411</a>. <a class=\"mw-redirect\" href=\"/wiki/ISSN_(identifier)\" title=\"ISSN (identifier)\">ISSN</a> <a class=\"external text\" href=\"//www.worldcat.org/issn/0036-8075\" rel=\"nofollow\">0036-8075</a>. <a class=\"mw-redirect\" href=\"/wiki/PMID_(identifier)\" title=\"PMID (identifier)\">PMID</a> <a class=\"external text\" href=\"//pubmed.ncbi.nlm.nih.gov/19265007\" rel=\"nofollow\">19265007</a>. <a class=\"mw-redirect\" href=\"/wiki/S2CID_(identifier)\" title=\"S2CID (identifier)\">S2CID</a> <a class=\"external text\" href=\"https://api.semanticscholar.org/CorpusID:9743327\" rel=\"nofollow\">9743327</a>.</cite><span class=\"Z3988\" title=\"ctx_ver=Z39.88-2004&amp;rft_val_fmt=info%3Aofi%2Ffmt%3Akev%3Amtx%3Ajournal&amp;rft.genre=article&amp;rft.jtitle=Science&amp;rft.atitle=Computer+Science%3A+Beyond+the+Data+Deluge&amp;rft.volume=323&amp;rft.issue=5919&amp;rft.pages=1297-1298&amp;rft.date=2009&amp;rft.issn=0036-8075&amp;rft_id=https%3A%2F%2Fapi.semanticscholar.org%2FCorpusID%3A9743327%23id-name%3DS2CID&amp;rft_id=info%3Apmid%2F19265007&amp;rft_id=info%3Adoi%2F10.1126%2Fscience.1170411&amp;rft.aulast=Bell&amp;rft.aufirst=G.&amp;rft.au=Hey%2C+T.&amp;rft.au=Szalay%2C+A.&amp;rfr_id=info%3Asid%2Fen.wikipedia.org%3AData+science\"></span></span>\n",
            "</li>\n",
            "<li id=\"cite_note-7\"><span class=\"mw-cite-backlink\"><b><a href=\"#cite_ref-7\">^</a></b></span> <span class=\"reference-text\"><link href=\"mw-data:TemplateStyles:r1067248974\" rel=\"mw-deduplicated-inline-style\"/><cite class=\"citation journal cs1\" id=\"CITEREFDavenportPatil2012\">Davenport, Thomas H.; Patil, D. J. (October 2012). <a class=\"external text\" href=\"https://hbr.org/2012/10/data-scientist-the-sexiest-job-of-the-21st-century/\" rel=\"nofollow\">\"Data Scientist: The Sexiest Job of the 21st Century\"</a>. <i>Harvard Business Review</i>. <b>90</b> (10): 70–76, 128. <a class=\"mw-redirect\" href=\"/wiki/PMID_(identifier)\" title=\"PMID (identifier)\">PMID</a> <a class=\"external text\" href=\"//pubmed.ncbi.nlm.nih.gov/23074866\" rel=\"nofollow\">23074866</a><span class=\"reference-accessdate\">. Retrieved <span class=\"nowrap\">18 January</span> 2016</span>.</cite><span class=\"Z3988\" title=\"ctx_ver=Z39.88-2004&amp;rft_val_fmt=info%3Aofi%2Ffmt%3Akev%3Amtx%3Ajournal&amp;rft.genre=article&amp;rft.jtitle=Harvard+Business+Review&amp;rft.atitle=Data+Scientist%3A+The+Sexiest+Job+of+the+21st+Century&amp;rft.volume=90&amp;rft.issue=10&amp;rft.pages=70-76%2C+128&amp;rft.date=2012-10&amp;rft_id=info%3Apmid%2F23074866&amp;rft.aulast=Davenport&amp;rft.aufirst=Thomas+H.&amp;rft.au=Patil%2C+D.+J.&amp;rft_id=https%3A%2F%2Fhbr.org%2F2012%2F10%2Fdata-scientist-the-sexiest-job-of-the-21st-century%2F&amp;rfr_id=info%3Asid%2Fen.wikipedia.org%3AData+science\"></span></span>\n",
            "</li>\n",
            "<li id=\"cite_note-8\"><span class=\"mw-cite-backlink\"><b><a href=\"#cite_ref-8\">^</a></b></span> <span class=\"reference-text\"><link href=\"mw-data:TemplateStyles:r1067248974\" rel=\"mw-deduplicated-inline-style\"/><cite class=\"citation journal cs1\" id=\"CITEREFEmmert-StreibDehmer2018\">Emmert-Streib, Frank; Dehmer, Matthias (2018). <a class=\"external text\" href=\"https://doi.org/10.3390%2Fmake1010015\" rel=\"nofollow\">\"Defining data science by a data-driven quantification of the community\"</a>. <i>Machine Learning and Knowledge Extraction</i>. <b>1</b>: 235–251. <a class=\"mw-redirect\" href=\"/wiki/Doi_(identifier)\" title=\"Doi (identifier)\">doi</a>:<span class=\"cs1-lock-free\" title=\"Freely accessible\"><a class=\"external text\" href=\"https://doi.org/10.3390%2Fmake1010015\" rel=\"nofollow\">10.3390/make1010015</a></span>.</cite><span class=\"Z3988\" title=\"ctx_ver=Z39.88-2004&amp;rft_val_fmt=info%3Aofi%2Ffmt%3Akev%3Amtx%3Ajournal&amp;rft.genre=article&amp;rft.jtitle=Machine+Learning+and+Knowledge+Extraction&amp;rft.atitle=Defining+data+science+by+a+data-driven+quantification+of+the+community&amp;rft.volume=1&amp;rft.pages=235-251&amp;rft.date=2018&amp;rft_id=info%3Adoi%2F10.3390%2Fmake1010015&amp;rft.aulast=Emmert-Streib&amp;rft.aufirst=Frank&amp;rft.au=Dehmer%2C+Matthias&amp;rft_id=%2F%2Fdoi.org%2F10.3390%252Fmake1010015&amp;rfr_id=info%3Asid%2Fen.wikipedia.org%3AData+science\"></span></span>\n",
            "</li>\n",
            "<li id=\"cite_note-9\"><span class=\"mw-cite-backlink\"><b><a href=\"#cite_ref-9\">^</a></b></span> <span class=\"reference-text\"><link href=\"mw-data:TemplateStyles:r1067248974\" rel=\"mw-deduplicated-inline-style\"/><cite class=\"citation web cs1\"><a class=\"external text\" href=\"https://web.archive.org/web/20200810114002/http://www.datascienceassn.org/about-data-science\" rel=\"nofollow\">\"About Data Science\"</a>. <i>Data Science Association</i>. Archived from <a class=\"external text\" href=\"http://www.datascienceassn.org/about-data-science\" rel=\"nofollow\">the original</a> on 10 August 2020<span class=\"reference-accessdate\">. Retrieved <span class=\"nowrap\">3 April</span> 2020</span>.</cite><span class=\"Z3988\" title=\"ctx_ver=Z39.88-2004&amp;rft_val_fmt=info%3Aofi%2Ffmt%3Akev%3Amtx%3Ajournal&amp;rft.genre=unknown&amp;rft.jtitle=Data+Science+Association&amp;rft.atitle=About+Data+Science&amp;rft_id=http%3A%2F%2Fwww.datascienceassn.org%2Fabout-data-science&amp;rfr_id=info%3Asid%2Fen.wikipedia.org%3AData+science\"></span></span>\n",
            "</li>\n",
            "<li id=\"cite_note-10\"><span class=\"mw-cite-backlink\"><b><a href=\"#cite_ref-10\">^</a></b></span> <span class=\"reference-text\"><link href=\"mw-data:TemplateStyles:r1067248974\" rel=\"mw-deduplicated-inline-style\"/><cite class=\"citation web cs1\"><a class=\"external text\" href=\"https://www.oreilly.com/library/view/doing-data-science/9781449363871/ch01.html\" rel=\"nofollow\">\"1. Introduction: What Is Data Science?\"</a>. <i>Doing Data Science [Book]</i>. O’Reilly<span class=\"reference-accessdate\">. Retrieved <span class=\"nowrap\">3 April</span> 2020</span>.</cite><span class=\"Z3988\" title=\"ctx_ver=Z39.88-2004&amp;rft_val_fmt=info%3Aofi%2Ffmt%3Akev%3Amtx%3Ajournal&amp;rft.genre=unknown&amp;rft.jtitle=Doing+Data+Science+%5BBook%5D&amp;rft.atitle=1.+Introduction%3A+What+Is+Data+Science%3F&amp;rft_id=https%3A%2F%2Fwww.oreilly.com%2Flibrary%2Fview%2Fdoing-data-science%2F9781449363871%2Fch01.html&amp;rfr_id=info%3Asid%2Fen.wikipedia.org%3AData+science\"></span></span>\n",
            "</li>\n",
            "<li id=\"cite_note-11\"><span class=\"mw-cite-backlink\"><b><a href=\"#cite_ref-11\">^</a></b></span> <span class=\"reference-text\"><link href=\"mw-data:TemplateStyles:r1067248974\" rel=\"mw-deduplicated-inline-style\"/><cite class=\"citation web cs1\"><a class=\"external text\" href=\"https://medriscoll.com/post/4740157098/the-three-sexy-skills-of-data-geeks\" rel=\"nofollow\">\"the three sexy skills of data geeks\"</a>. <i>m.e.driscoll: data utopian</i>. 27 May 2009<span class=\"reference-accessdate\">. Retrieved <span class=\"nowrap\">3 April</span> 2020</span>.</cite><span class=\"Z3988\" title=\"ctx_ver=Z39.88-2004&amp;rft_val_fmt=info%3Aofi%2Ffmt%3Akev%3Amtx%3Ajournal&amp;rft.genre=unknown&amp;rft.jtitle=m.e.driscoll%3A+data+utopian&amp;rft.atitle=the+three+sexy+skills+of+data+geeks&amp;rft.date=2009-05-27&amp;rft_id=https%3A%2F%2Fmedriscoll.com%2Fpost%2F4740157098%2Fthe-three-sexy-skills-of-data-geeks&amp;rfr_id=info%3Asid%2Fen.wikipedia.org%3AData+science\"></span></span>\n",
            "</li>\n",
            "<li id=\"cite_note-12\"><span class=\"mw-cite-backlink\"><b><a href=\"#cite_ref-12\">^</a></b></span> <span class=\"reference-text\"><link href=\"mw-data:TemplateStyles:r1067248974\" rel=\"mw-deduplicated-inline-style\"/><cite class=\"citation web cs1\" id=\"CITEREFYau2009\">Yau, Nathan (4 June 2009). <a class=\"external text\" href=\"https://flowingdata.com/2009/06/04/rise-of-the-data-scientist/\" rel=\"nofollow\">\"Rise of the Data Scientist\"</a>. <i>FlowingData</i><span class=\"reference-accessdate\">. Retrieved <span class=\"nowrap\">3 April</span> 2020</span>.</cite><span class=\"Z3988\" title=\"ctx_ver=Z39.88-2004&amp;rft_val_fmt=info%3Aofi%2Ffmt%3Akev%3Amtx%3Ajournal&amp;rft.genre=unknown&amp;rft.jtitle=FlowingData&amp;rft.atitle=Rise+of+the+Data+Scientist&amp;rft.date=2009-06-04&amp;rft.aulast=Yau&amp;rft.aufirst=Nathan&amp;rft_id=https%3A%2F%2Fflowingdata.com%2F2009%2F06%2F04%2Frise-of-the-data-scientist%2F&amp;rfr_id=info%3Asid%2Fen.wikipedia.org%3AData+science\"></span></span>\n",
            "</li>\n",
            "<li id=\"cite_note-13\"><span class=\"mw-cite-backlink\"><b><a href=\"#cite_ref-13\">^</a></b></span> <span class=\"reference-text\"><link href=\"mw-data:TemplateStyles:r1067248974\" rel=\"mw-deduplicated-inline-style\"/><cite class=\"citation web cs1\"><a class=\"external text\" href=\"https://benfry.com/phd/dissertation/2.html\" rel=\"nofollow\">\"Basic Example\"</a>. <i>benfry.com</i><span class=\"reference-accessdate\">. Retrieved <span class=\"nowrap\">3 April</span> 2020</span>.</cite><span class=\"Z3988\" title=\"ctx_ver=Z39.88-2004&amp;rft_val_fmt=info%3Aofi%2Ffmt%3Akev%3Amtx%3Ajournal&amp;rft.genre=unknown&amp;rft.jtitle=benfry.com&amp;rft.atitle=Basic+Example&amp;rft_id=https%3A%2F%2Fbenfry.com%2Fphd%2Fdissertation%2F2.html&amp;rfr_id=info%3Asid%2Fen.wikipedia.org%3AData+science\"></span></span>\n",
            "</li>\n",
            "<li id=\"cite_note-14\"><span class=\"mw-cite-backlink\"><b><a href=\"#cite_ref-14\">^</a></b></span> <span class=\"reference-text\"><link href=\"mw-data:TemplateStyles:r1067248974\" rel=\"mw-deduplicated-inline-style\"/><cite class=\"citation web cs1\"><a class=\"external text\" href=\"https://magazine.amstat.org/blog/2015/10/01/asa-statement-on-the-role-of-statistics-in-data-science/\" rel=\"nofollow\">\"ASA Statement on the Role of Statistics in Data Science\"</a>. <i>AMSTATNEWS</i>. <a href=\"/wiki/American_Statistical_Association\" title=\"American Statistical Association\">American Statistical Association</a>. 1 October 2015. <a class=\"external text\" href=\"https://web.archive.org/web/20190620184935/https://magazine.amstat.org/blog/2015/10/01/asa-statement-on-the-role-of-statistics-in-data-science/\" rel=\"nofollow\">Archived</a> from the original on 20 June 2019<span class=\"reference-accessdate\">. Retrieved <span class=\"nowrap\">29 May</span> 2019</span>.</cite><span class=\"Z3988\" title=\"ctx_ver=Z39.88-2004&amp;rft_val_fmt=info%3Aofi%2Ffmt%3Akev%3Amtx%3Ajournal&amp;rft.genre=unknown&amp;rft.jtitle=AMSTATNEWS&amp;rft.atitle=ASA+Statement+on+the+Role+of+Statistics+in+Data+Science&amp;rft.date=2015-10-01&amp;rft_id=https%3A%2F%2Fmagazine.amstat.org%2Fblog%2F2015%2F10%2F01%2Fasa-statement-on-the-role-of-statistics-in-data-science%2F&amp;rfr_id=info%3Asid%2Fen.wikipedia.org%3AData+science\"></span></span>\n",
            "</li>\n",
            "<li id=\"cite_note-15\"><span class=\"mw-cite-backlink\"><b><a href=\"#cite_ref-15\">^</a></b></span> <span class=\"reference-text\"><link href=\"mw-data:TemplateStyles:r1067248974\" rel=\"mw-deduplicated-inline-style\"/><cite class=\"citation web cs1\"><a class=\"external text\" href=\"https://www.statisticsviews.com/article/nate-silver-what-i-need-from-statisticians/\" rel=\"nofollow\">\"Nate Silver: What I need from statisticians\"</a>. <i>Statistics Views</i><span class=\"reference-accessdate\">. Retrieved <span class=\"nowrap\">3 April</span> 2020</span>.</cite><span class=\"Z3988\" title=\"ctx_ver=Z39.88-2004&amp;rft_val_fmt=info%3Aofi%2Ffmt%3Akev%3Amtx%3Ajournal&amp;rft.genre=unknown&amp;rft.jtitle=Statistics+Views&amp;rft.atitle=Nate+Silver%3A+What+I+need+from+statisticians&amp;rft_id=https%3A%2F%2Fwww.statisticsviews.com%2Farticle%2Fnate-silver-what-i-need-from-statisticians%2F&amp;rfr_id=info%3Asid%2Fen.wikipedia.org%3AData+science\"></span></span>\n",
            "</li>\n",
            "<li id=\"cite_note-16\"><span class=\"mw-cite-backlink\"><b><a href=\"#cite_ref-16\">^</a></b></span> <span class=\"reference-text\"><link href=\"mw-data:TemplateStyles:r1067248974\" rel=\"mw-deduplicated-inline-style\"/><cite class=\"citation web cs1\"><a class=\"external text\" href=\"http://priceonomics.com/whats-the-difference-between-data-science-and/\" rel=\"nofollow\">\"What's the Difference Between Data Science and Statistics?\"</a>. <i>Priceonomics</i>. 13 October 2015<span class=\"reference-accessdate\">. Retrieved <span class=\"nowrap\">3 April</span> 2020</span>.</cite><span class=\"Z3988\" title=\"ctx_ver=Z39.88-2004&amp;rft_val_fmt=info%3Aofi%2Ffmt%3Akev%3Amtx%3Ajournal&amp;rft.genre=unknown&amp;rft.jtitle=Priceonomics&amp;rft.atitle=What%27s+the+Difference+Between+Data+Science+and+Statistics%3F&amp;rft.date=2015-10-13&amp;rft_id=http%3A%2F%2Fpriceonomics.com%2Fwhats-the-difference-between-data-science-and%2F&amp;rfr_id=info%3Asid%2Fen.wikipedia.org%3AData+science\"></span></span>\n",
            "</li>\n",
            "<li id=\"cite_note-17\"><span class=\"mw-cite-backlink\"><b><a href=\"#cite_ref-17\">^</a></b></span> <span class=\"reference-text\"><link href=\"mw-data:TemplateStyles:r1067248974\" rel=\"mw-deduplicated-inline-style\"/><cite class=\"citation journal cs1\" id=\"CITEREFVasant_Dhar2013\">Vasant Dhar (1 December 2013). <a class=\"external text\" href=\"http://archive.nyu.edu/handle/2451/31553\" rel=\"nofollow\">\"Data science and prediction\"</a>. <i>Communications of the ACM</i>. <b>56</b> (12): 64–73. <a class=\"mw-redirect\" href=\"/wiki/Doi_(identifier)\" title=\"Doi (identifier)\">doi</a>:<a class=\"external text\" href=\"https://doi.org/10.1145%2F2500499\" rel=\"nofollow\">10.1145/2500499</a>. <a class=\"mw-redirect\" href=\"/wiki/S2CID_(identifier)\" title=\"S2CID (identifier)\">S2CID</a> <a class=\"external text\" href=\"https://api.semanticscholar.org/CorpusID:6107147\" rel=\"nofollow\">6107147</a>.</cite><span class=\"Z3988\" title=\"ctx_ver=Z39.88-2004&amp;rft_val_fmt=info%3Aofi%2Ffmt%3Akev%3Amtx%3Ajournal&amp;rft.genre=article&amp;rft.jtitle=Communications+of+the+ACM&amp;rft.atitle=Data+science+and+prediction&amp;rft.volume=56&amp;rft.issue=12&amp;rft.pages=64-73&amp;rft.date=2013-12-01&amp;rft_id=info%3Adoi%2F10.1145%2F2500499&amp;rft_id=https%3A%2F%2Fapi.semanticscholar.org%2FCorpusID%3A6107147%23id-name%3DS2CID&amp;rft.au=Vasant+Dhar&amp;rft_id=http%3A%2F%2Farchive.nyu.edu%2Fhandle%2F2451%2F31553&amp;rfr_id=info%3Asid%2Fen.wikipedia.org%3AData+science\"></span></span>\n",
            "</li>\n",
            "<li id=\"cite_note-18\"><span class=\"mw-cite-backlink\"><b><a href=\"#cite_ref-18\">^</a></b></span> <span class=\"reference-text\"><link href=\"mw-data:TemplateStyles:r1067248974\" rel=\"mw-deduplicated-inline-style\"/><cite class=\"citation web cs1\"><a class=\"external text\" href=\"https://statmodeling.stat.columbia.edu/2013/11/14/statistics-least-important-part-data-science/\" rel=\"nofollow\">\"Statistics is the least important part of data science « Statistical Modeling, Causal Inference, and Social Science\"</a>. <i>statmodeling.stat.columbia.edu</i><span class=\"reference-accessdate\">. Retrieved <span class=\"nowrap\">3 April</span> 2020</span>.</cite><span class=\"Z3988\" title=\"ctx_ver=Z39.88-2004&amp;rft_val_fmt=info%3Aofi%2Ffmt%3Akev%3Amtx%3Ajournal&amp;rft.genre=unknown&amp;rft.jtitle=statmodeling.stat.columbia.edu&amp;rft.atitle=Statistics+is+the+least+important+part+of+data+science+%C2%AB+Statistical+Modeling%2C+Causal+Inference%2C+and+Social+Science&amp;rft_id=https%3A%2F%2Fstatmodeling.stat.columbia.edu%2F2013%2F11%2F14%2Fstatistics-least-important-part-data-science%2F&amp;rfr_id=info%3Asid%2Fen.wikipedia.org%3AData+science\"></span></span>\n",
            "</li>\n",
            "<li id=\"cite_note-:7-19\"><span class=\"mw-cite-backlink\">^ <a href=\"#cite_ref-:7_19-0\"><sup><i><b>a</b></i></sup></a> <a href=\"#cite_ref-:7_19-1\"><sup><i><b>b</b></i></sup></a></span> <span class=\"reference-text\"><link href=\"mw-data:TemplateStyles:r1067248974\" rel=\"mw-deduplicated-inline-style\"/><cite class=\"citation web cs1\" id=\"CITEREFDonoho2015\">Donoho, David (18 September 2015). <a class=\"external text\" href=\"http://courses.csail.mit.edu/18.337/2015/docs/50YearsDataScience.pdf\" rel=\"nofollow\">\"50 years of Data Science\"</a> <span class=\"cs1-format\">(PDF)</span><span class=\"reference-accessdate\">. Retrieved <span class=\"nowrap\">2 April</span> 2020</span>.</cite><span class=\"Z3988\" title=\"ctx_ver=Z39.88-2004&amp;rft_val_fmt=info%3Aofi%2Ffmt%3Akev%3Amtx%3Abook&amp;rft.genre=unknown&amp;rft.btitle=50+years+of+Data+Science&amp;rft.date=2015-09-18&amp;rft.aulast=Donoho&amp;rft.aufirst=David&amp;rft_id=http%3A%2F%2Fcourses.csail.mit.edu%2F18.337%2F2015%2Fdocs%2F50YearsDataScience.pdf&amp;rfr_id=info%3Asid%2Fen.wikipedia.org%3AData+science\"></span></span>\n",
            "</li>\n",
            "<li id=\"cite_note-20\"><span class=\"mw-cite-backlink\"><b><a href=\"#cite_ref-20\">^</a></b></span> <span class=\"reference-text\"><link href=\"mw-data:TemplateStyles:r1067248974\" rel=\"mw-deduplicated-inline-style\"/><cite class=\"citation journal cs1\" id=\"CITEREFWu1986\">Wu, C. F. Jeff (1986). <a class=\"external text\" href=\"https://www2.isye.gatech.edu/~jeffwu/publications/fazhan.pdf\" rel=\"nofollow\">\"Future directions of statistical research in China: a historical perspective\"</a> <span class=\"cs1-format\">(PDF)</span>. <i>Application of Statistics and Management</i>. <b>1</b>: 1–7<span class=\"reference-accessdate\">. Retrieved <span class=\"nowrap\">29 November</span> 2020</span>.</cite><span class=\"Z3988\" title=\"ctx_ver=Z39.88-2004&amp;rft_val_fmt=info%3Aofi%2Ffmt%3Akev%3Amtx%3Ajournal&amp;rft.genre=article&amp;rft.jtitle=Application+of+Statistics+and+Management&amp;rft.atitle=Future+directions+of+statistical+research+in+China%3A+a+historical+perspective&amp;rft.volume=1&amp;rft.pages=1-7&amp;rft.date=1986&amp;rft.aulast=Wu&amp;rft.aufirst=C.+F.+Jeff&amp;rft_id=https%3A%2F%2Fwww2.isye.gatech.edu%2F~jeffwu%2Fpublications%2Ffazhan.pdf&amp;rfr_id=info%3Asid%2Fen.wikipedia.org%3AData+science\"></span></span>\n",
            "</li>\n",
            "<li id=\"cite_note-21\"><span class=\"mw-cite-backlink\"><b><a href=\"#cite_ref-21\">^</a></b></span> <span class=\"reference-text\"><link href=\"mw-data:TemplateStyles:r1067248974\" rel=\"mw-deduplicated-inline-style\"/><cite class=\"citation book cs1\" id=\"CITEREFEscoufierHayashiFichet1995\">Escoufier, Yves; Hayashi, Chikio; Fichet, Bernard, eds. (1995). <i>Data science and its applications</i>. Tokyo: Academic Press/Harcourt Brace. <a class=\"mw-redirect\" href=\"/wiki/ISBN_(identifier)\" title=\"ISBN (identifier)\">ISBN</a> <a href=\"/wiki/Special:BookSources/0-12-241770-4\" title=\"Special:BookSources/0-12-241770-4\"><bdi>0-12-241770-4</bdi></a>. <a class=\"mw-redirect\" href=\"/wiki/OCLC_(identifier)\" title=\"OCLC (identifier)\">OCLC</a> <a class=\"external text\" href=\"//www.worldcat.org/oclc/489990740\" rel=\"nofollow\">489990740</a>.</cite><span class=\"Z3988\" title=\"ctx_ver=Z39.88-2004&amp;rft_val_fmt=info%3Aofi%2Ffmt%3Akev%3Amtx%3Abook&amp;rft.genre=book&amp;rft.btitle=Data+science+and+its+applications&amp;rft.place=Tokyo&amp;rft.pub=Academic+Press%2FHarcourt+Brace&amp;rft.date=1995&amp;rft_id=info%3Aoclcnum%2F489990740&amp;rft.isbn=0-12-241770-4&amp;rfr_id=info%3Asid%2Fen.wikipedia.org%3AData+science\"></span></span>\n",
            "</li>\n",
            "<li id=\"cite_note-Murtagh_2018_14-22\"><span class=\"mw-cite-backlink\">^ <a href=\"#cite_ref-Murtagh_2018_14_22-0\"><sup><i><b>a</b></i></sup></a> <a href=\"#cite_ref-Murtagh_2018_14_22-1\"><sup><i><b>b</b></i></sup></a></span> <span class=\"reference-text\"><link href=\"mw-data:TemplateStyles:r1067248974\" rel=\"mw-deduplicated-inline-style\"/><cite class=\"citation journal cs1\" id=\"CITEREFMurtaghDevlin2018\">Murtagh, Fionn; Devlin, Keith (2018). <a class=\"external text\" href=\"https://doi.org/10.3390%2Fbdcc2020014\" rel=\"nofollow\">\"The Development of Data Science: Implications for Education, Employment, Research, and the Data Revolution for Sustainable Development\"</a>. <i>Big Data and Cognitive Computing</i>. <b>2</b> (2): 14. <a class=\"mw-redirect\" href=\"/wiki/Doi_(identifier)\" title=\"Doi (identifier)\">doi</a>:<span class=\"cs1-lock-free\" title=\"Freely accessible\"><a class=\"external text\" href=\"https://doi.org/10.3390%2Fbdcc2020014\" rel=\"nofollow\">10.3390/bdcc2020014</a></span>.</cite><span class=\"Z3988\" title=\"ctx_ver=Z39.88-2004&amp;rft_val_fmt=info%3Aofi%2Ffmt%3Akev%3Amtx%3Ajournal&amp;rft.genre=article&amp;rft.jtitle=Big+Data+and+Cognitive+Computing&amp;rft.atitle=The+Development+of+Data+Science%3A+Implications+for+Education%2C+Employment%2C+Research%2C+and+the+Data+Revolution+for+Sustainable+Development&amp;rft.volume=2&amp;rft.issue=2&amp;rft.pages=14&amp;rft.date=2018&amp;rft_id=info%3Adoi%2F10.3390%2Fbdcc2020014&amp;rft.aulast=Murtagh&amp;rft.aufirst=Fionn&amp;rft.au=Devlin%2C+Keith&amp;rft_id=%2F%2Fdoi.org%2F10.3390%252Fbdcc2020014&amp;rfr_id=info%3Asid%2Fen.wikipedia.org%3AData+science\"></span></span>\n",
            "</li>\n",
            "<li id=\"cite_note-23\"><span class=\"mw-cite-backlink\"><b><a href=\"#cite_ref-23\">^</a></b></span> <span class=\"reference-text\"><link href=\"mw-data:TemplateStyles:r1067248974\" rel=\"mw-deduplicated-inline-style\"/><cite class=\"citation web cs1\" id=\"CITEREFWu\">Wu, C. F. Jeff. <a class=\"external text\" href=\"http://www2.isye.gatech.edu/~jeffwu/presentations/datascience.pdf\" rel=\"nofollow\">\"Statistics=Data Science?\"</a> <span class=\"cs1-format\">(PDF)</span><span class=\"reference-accessdate\">. Retrieved <span class=\"nowrap\">2 April</span> 2020</span>.</cite><span class=\"Z3988\" title=\"ctx_ver=Z39.88-2004&amp;rft_val_fmt=info%3Aofi%2Ffmt%3Akev%3Amtx%3Abook&amp;rft.genre=unknown&amp;rft.btitle=Statistics%3DData+Science%3F&amp;rft.aulast=Wu&amp;rft.aufirst=C.+F.+Jeff&amp;rft_id=http%3A%2F%2Fwww2.isye.gatech.edu%2F~jeffwu%2Fpresentations%2Fdatascience.pdf&amp;rfr_id=info%3Asid%2Fen.wikipedia.org%3AData+science\"></span></span>\n",
            "</li>\n",
            "<li id=\"cite_note-:1-24\"><span class=\"mw-cite-backlink\">^ <a href=\"#cite_ref-:1_24-0\"><sup><i><b>a</b></i></sup></a> <a href=\"#cite_ref-:1_24-1\"><sup><i><b>b</b></i></sup></a> <a href=\"#cite_ref-:1_24-2\"><sup><i><b>c</b></i></sup></a></span> <span class=\"reference-text\"><link href=\"mw-data:TemplateStyles:r1067248974\" rel=\"mw-deduplicated-inline-style\"/><cite class=\"citation web cs1\" id=\"CITEREFPress\">Press, Gil. <a class=\"external text\" href=\"https://www.forbes.com/sites/gilpress/2013/05/28/a-very-short-history-of-data-science/\" rel=\"nofollow\">\"A Very Short History of Data Science\"</a>. <i>Forbes</i><span class=\"reference-accessdate\">. Retrieved <span class=\"nowrap\">3 April</span> 2020</span>.</cite><span class=\"Z3988\" title=\"ctx_ver=Z39.88-2004&amp;rft_val_fmt=info%3Aofi%2Ffmt%3Akev%3Amtx%3Ajournal&amp;rft.genre=unknown&amp;rft.jtitle=Forbes&amp;rft.atitle=A+Very+Short+History+of+Data+Science&amp;rft.aulast=Press&amp;rft.aufirst=Gil&amp;rft_id=https%3A%2F%2Fwww.forbes.com%2Fsites%2Fgilpress%2F2013%2F05%2F28%2Fa-very-short-history-of-data-science%2F&amp;rfr_id=info%3Asid%2Fen.wikipedia.org%3AData+science\"></span></span>\n",
            "</li>\n",
            "<li id=\"cite_note-25\"><span class=\"mw-cite-backlink\"><b><a href=\"#cite_ref-25\">^</a></b></span> <span class=\"reference-text\"><link href=\"mw-data:TemplateStyles:r1067248974\" rel=\"mw-deduplicated-inline-style\"/><cite class=\"citation magazine cs1\" id=\"CITEREFDavenport2012\">Davenport, Thomas (1 October 2012). <a class=\"external text\" href=\"https://hbr.org/2012/10/data-scientist-the-sexiest-job-of-the-21st-century\" rel=\"nofollow\">\"Data Scientist: The Sexiest Job of the 21st Century\"</a>. <i><a href=\"/wiki/Harvard_Business_Review\" title=\"Harvard Business Review\">Harvard Business Review</a></i><span class=\"reference-accessdate\">. Retrieved <span class=\"nowrap\">10 October</span> 2022</span>.</cite><span class=\"Z3988\" title=\"ctx_ver=Z39.88-2004&amp;rft_val_fmt=info%3Aofi%2Ffmt%3Akev%3Amtx%3Ajournal&amp;rft.genre=article&amp;rft.jtitle=Harvard+Business+Review&amp;rft.atitle=Data+Scientist%3A+The+Sexiest+Job+of+the+21st+Century&amp;rft.date=2012-10-01&amp;rft.aulast=Davenport&amp;rft.aufirst=Thomas&amp;rft_id=https%3A%2F%2Fhbr.org%2F2012%2F10%2Fdata-scientist-the-sexiest-job-of-the-21st-century&amp;rfr_id=info%3Asid%2Fen.wikipedia.org%3AData+science\"></span></span>\n",
            "</li>\n",
            "<li id=\"cite_note-26\"><span class=\"mw-cite-backlink\"><b><a href=\"#cite_ref-26\">^</a></b></span> <span class=\"reference-text\"><link href=\"mw-data:TemplateStyles:r1067248974\" rel=\"mw-deduplicated-inline-style\"/><cite class=\"citation news cs1\" id=\"CITEREFMiller2013\">Miller, Claire (4 April 2013). <a class=\"external text\" href=\"https://www.nytimes.com/2013/04/14/education/edlife/universities-offer-courses-in-a-hot-new-field-data-science.html\" rel=\"nofollow\">\"Data Science: The Numbers of Our Lives\"</a>. <i><a class=\"mw-redirect\" href=\"/wiki/New_York_Times\" title=\"New York Times\">New York Times</a></i>. <a href=\"/wiki/New_York_City\" title=\"New York City\">New York City</a><span class=\"reference-accessdate\">. Retrieved <span class=\"nowrap\">10 October</span> 2022</span>.</cite><span class=\"Z3988\" title=\"ctx_ver=Z39.88-2004&amp;rft_val_fmt=info%3Aofi%2Ffmt%3Akev%3Amtx%3Ajournal&amp;rft.genre=article&amp;rft.jtitle=New+York+Times&amp;rft.atitle=Data+Science%3A+The+Numbers+of+Our+Lives&amp;rft.date=2013-04-04&amp;rft.aulast=Miller&amp;rft.aufirst=Claire&amp;rft_id=https%3A%2F%2Fwww.nytimes.com%2F2013%2F04%2F14%2Feducation%2Fedlife%2Funiversities-offer-courses-in-a-hot-new-field-data-science.html&amp;rfr_id=info%3Asid%2Fen.wikipedia.org%3AData+science\"></span></span>\n",
            "</li>\n",
            "<li id=\"cite_note-27\"><span class=\"mw-cite-backlink\"><b><a href=\"#cite_ref-27\">^</a></b></span> <span class=\"reference-text\"><link href=\"mw-data:TemplateStyles:r1067248974\" rel=\"mw-deduplicated-inline-style\"/><cite class=\"citation news cs1\" id=\"CITEREFBorchers2015\">Borchers, Callum (11 November 2015). <a class=\"external text\" href=\"https://www.bostonglobe.com/business/2015/11/11/behind-scenes-sexiest-job-century/Kc1cvXIu31DfHhVmyRQeIJ/story.html\" rel=\"nofollow\">\"Behind the scenes of the 'sexiest job of the 21st century'<span class=\"cs1-kern-right\"></span>\"</a>. <i><a class=\"mw-redirect\" href=\"/wiki/Boston_Globe\" title=\"Boston Globe\">Boston Globe</a></i>. <a href=\"/wiki/Boston\" title=\"Boston\">Boston</a><span class=\"reference-accessdate\">. Retrieved <span class=\"nowrap\">10 October</span> 2022</span>.</cite><span class=\"Z3988\" title=\"ctx_ver=Z39.88-2004&amp;rft_val_fmt=info%3Aofi%2Ffmt%3Akev%3Amtx%3Ajournal&amp;rft.genre=article&amp;rft.jtitle=Boston+Globe&amp;rft.atitle=Behind+the+scenes+of+the+%27sexiest+job+of+the+21st+century%27&amp;rft.date=2015-11-11&amp;rft.aulast=Borchers&amp;rft.aufirst=Callum&amp;rft_id=https%3A%2F%2Fwww.bostonglobe.com%2Fbusiness%2F2015%2F11%2F11%2Fbehind-scenes-sexiest-job-century%2FKc1cvXIu31DfHhVmyRQeIJ%2Fstory.html&amp;rfr_id=info%3Asid%2Fen.wikipedia.org%3AData+science\"></span></span>\n",
            "</li>\n",
            "<li id=\"cite_note-28\"><span class=\"mw-cite-backlink\"><b><a href=\"#cite_ref-28\">^</a></b></span> <span class=\"reference-text\"><link href=\"mw-data:TemplateStyles:r1067248974\" rel=\"mw-deduplicated-inline-style\"/><cite class=\"citation magazine cs1\" id=\"CITEREFDavenport2022\">Davenport, Thomas (15 July 2022). <a class=\"external text\" href=\"https://hbr.org/2022/07/is-data-scientist-still-the-sexiest-job-of-the-21st-century\" rel=\"nofollow\">\"Is Data Scientist Still the Sexiest Job of the 21st Century?\"</a>. <i><a href=\"/wiki/Harvard_Business_Review\" title=\"Harvard Business Review\">Harvard Business Review</a></i><span class=\"reference-accessdate\">. Retrieved <span class=\"nowrap\">10 October</span> 2022</span>.</cite><span class=\"Z3988\" title=\"ctx_ver=Z39.88-2004&amp;rft_val_fmt=info%3Aofi%2Ffmt%3Akev%3Amtx%3Ajournal&amp;rft.genre=article&amp;rft.jtitle=Harvard+Business+Review&amp;rft.atitle=Is+Data+Scientist+Still+the+Sexiest+Job+of+the+21st+Century%3F&amp;rft.date=2022-07-15&amp;rft.aulast=Davenport&amp;rft.aufirst=Thomas&amp;rft_id=https%3A%2F%2Fhbr.org%2F2022%2F07%2Fis-data-scientist-still-the-sexiest-job-of-the-21st-century&amp;rfr_id=info%3Asid%2Fen.wikipedia.org%3AData+science\"></span></span>\n",
            "</li>\n",
            "<li id=\"cite_note-29\"><span class=\"mw-cite-backlink\"><b><a href=\"#cite_ref-29\">^</a></b></span> <span class=\"reference-text\"><link href=\"mw-data:TemplateStyles:r1067248974\" rel=\"mw-deduplicated-inline-style\"/><cite class=\"citation web cs1\" id=\"CITEREFGupta2015\">Gupta, Shanti (11 December 2015). <a class=\"external text\" href=\"https://www.stat.purdue.edu/~wsc/\" rel=\"nofollow\">\"William S. Cleveland\"</a><span class=\"reference-accessdate\">. Retrieved <span class=\"nowrap\">2 April</span> 2020</span>.</cite><span class=\"Z3988\" title=\"ctx_ver=Z39.88-2004&amp;rft_val_fmt=info%3Aofi%2Ffmt%3Akev%3Amtx%3Abook&amp;rft.genre=unknown&amp;rft.btitle=William+S.+Cleveland&amp;rft.date=2015-12-11&amp;rft.aulast=Gupta&amp;rft.aufirst=Shanti&amp;rft_id=https%3A%2F%2Fwww.stat.purdue.edu%2F~wsc%2F&amp;rfr_id=info%3Asid%2Fen.wikipedia.org%3AData+science\"></span></span>\n",
            "</li>\n",
            "<li id=\"cite_note-30\"><span class=\"mw-cite-backlink\"><b><a href=\"#cite_ref-30\">^</a></b></span> <span class=\"reference-text\"><link href=\"mw-data:TemplateStyles:r1067248974\" rel=\"mw-deduplicated-inline-style\"/><cite class=\"citation news cs1\" id=\"CITEREFTalley2016\">Talley, Jill (1 June 2016). <a class=\"external text\" href=\"https://magazine.amstat.org/blog/2016/06/01/datascience-2/\" rel=\"nofollow\">\"ASA Expands Scope, Outreach to Foster Growth, Collaboration in Data Science\"</a>. <i>Amstat News</i>. American Statistical Association.</cite><span class=\"Z3988\" title=\"ctx_ver=Z39.88-2004&amp;rft_val_fmt=info%3Aofi%2Ffmt%3Akev%3Amtx%3Ajournal&amp;rft.genre=article&amp;rft.jtitle=Amstat+News&amp;rft.atitle=ASA+Expands+Scope%2C+Outreach+to+Foster+Growth%2C+Collaboration+in+Data+Science&amp;rft.date=2016-06-01&amp;rft.aulast=Talley&amp;rft.aufirst=Jill&amp;rft_id=https%3A%2F%2Fmagazine.amstat.org%2Fblog%2F2016%2F06%2F01%2Fdatascience-2%2F&amp;rfr_id=info%3Asid%2Fen.wikipedia.org%3AData+science\"></span></span>\n",
            "</li>\n",
            "<li id=\"cite_note-31\"><span class=\"mw-cite-backlink\"><b><a href=\"#cite_ref-31\">^</a></b></span> <span class=\"reference-text\"><link href=\"mw-data:TemplateStyles:r1067248974\" rel=\"mw-deduplicated-inline-style\"/><cite class=\"citation news cs1\" id=\"CITEREFDavenportPatil2012\">Davenport, Thomas H.; Patil, D. J. (1 October 2012). <a class=\"external text\" href=\"https://hbr.org/2012/10/data-scientist-the-sexiest-job-of-the-21st-century\" rel=\"nofollow\">\"Data Scientist: The Sexiest Job of the 21st Century\"</a>. <i>Harvard Business Review</i>. No. October 2012. <a class=\"mw-redirect\" href=\"/wiki/ISSN_(identifier)\" title=\"ISSN (identifier)\">ISSN</a> <a class=\"external text\" href=\"//www.worldcat.org/issn/0017-8012\" rel=\"nofollow\">0017-8012</a><span class=\"reference-accessdate\">. Retrieved <span class=\"nowrap\">3 April</span> 2020</span>.</cite><span class=\"Z3988\" title=\"ctx_ver=Z39.88-2004&amp;rft_val_fmt=info%3Aofi%2Ffmt%3Akev%3Amtx%3Ajournal&amp;rft.genre=article&amp;rft.jtitle=Harvard+Business+Review&amp;rft.atitle=Data+Scientist%3A+The+Sexiest+Job+of+the+21st+Century&amp;rft.issue=October+2012&amp;rft.date=2012-10-01&amp;rft.issn=0017-8012&amp;rft.aulast=Davenport&amp;rft.aufirst=Thomas+H.&amp;rft.au=Patil%2C+D.+J.&amp;rft_id=https%3A%2F%2Fhbr.org%2F2012%2F10%2Fdata-scientist-the-sexiest-job-of-the-21st-century&amp;rfr_id=info%3Asid%2Fen.wikipedia.org%3AData+science\"></span></span>\n",
            "</li>\n",
            "<li id=\"cite_note-32\"><span class=\"mw-cite-backlink\"><b><a href=\"#cite_ref-32\">^</a></b></span> <span class=\"reference-text\"><link href=\"mw-data:TemplateStyles:r1067248974\" rel=\"mw-deduplicated-inline-style\"/><cite class=\"citation web cs1\"><a class=\"external text\" href=\"https://www.nsf.gov/pubs/2005/nsb0540/\" rel=\"nofollow\">\"US NSF – NSB-05-40, Long-Lived Digital Data Collections Enabling Research and Education in the 21st Century\"</a>. <i>www.nsf.gov</i><span class=\"reference-accessdate\">. Retrieved <span class=\"nowrap\">3 April</span> 2020</span>.</cite><span class=\"Z3988\" title=\"ctx_ver=Z39.88-2004&amp;rft_val_fmt=info%3Aofi%2Ffmt%3Akev%3Amtx%3Ajournal&amp;rft.genre=unknown&amp;rft.jtitle=www.nsf.gov&amp;rft.atitle=US+NSF+%E2%80%93+NSB-05-40%2C+Long-Lived+Digital+Data+Collections+Enabling+Research+and+Education+in+the+21st+Century&amp;rft_id=https%3A%2F%2Fwww.nsf.gov%2Fpubs%2F2005%2Fnsb0540%2F&amp;rfr_id=info%3Asid%2Fen.wikipedia.org%3AData+science\"></span></span>\n",
            "</li>\n",
            "<li id=\"cite_note-33\"><span class=\"mw-cite-backlink\"><b><a href=\"#cite_ref-33\">^</a></b></span> <span class=\"reference-text\"><link href=\"mw-data:TemplateStyles:r1067248974\" rel=\"mw-deduplicated-inline-style\"/><cite class=\"citation web cs1\" id=\"CITEREFPress\">Press, Gil. <a class=\"external text\" href=\"https://www.forbes.com/sites/gilpress/2013/08/19/data-science-whats-the-half-life-of-a-buzzword/\" rel=\"nofollow\">\"Data Science: What's The Half-Life of a Buzzword?\"</a>. <i>Forbes</i><span class=\"reference-accessdate\">. Retrieved <span class=\"nowrap\">3 April</span> 2020</span>.</cite><span class=\"Z3988\" title=\"ctx_ver=Z39.88-2004&amp;rft_val_fmt=info%3Aofi%2Ffmt%3Akev%3Amtx%3Ajournal&amp;rft.genre=unknown&amp;rft.jtitle=Forbes&amp;rft.atitle=Data+Science%3A+What%27s+The+Half-Life+of+a+Buzzword%3F&amp;rft.aulast=Press&amp;rft.aufirst=Gil&amp;rft_id=https%3A%2F%2Fwww.forbes.com%2Fsites%2Fgilpress%2F2013%2F08%2F19%2Fdata-science-whats-the-half-life-of-a-buzzword%2F&amp;rfr_id=info%3Asid%2Fen.wikipedia.org%3AData+science\"></span></span>\n",
            "</li>\n",
            "<li id=\"cite_note-:5-34\"><span class=\"mw-cite-backlink\"><b><a href=\"#cite_ref-:5_34-0\">^</a></b></span> <span class=\"reference-text\"><link href=\"mw-data:TemplateStyles:r1067248974\" rel=\"mw-deduplicated-inline-style\"/><cite class=\"citation web cs1\" id=\"CITEREFPham\">Pham, Peter. <a class=\"external text\" href=\"https://www.forbes.com/sites/peterpham/2015/08/28/the-impacts-of-big-data-that-you-may-not-have-heard-of/\" rel=\"nofollow\">\"The Impacts of Big Data That You May Not Have Heard Of\"</a>. <i>Forbes</i><span class=\"reference-accessdate\">. Retrieved <span class=\"nowrap\">3 April</span> 2020</span>.</cite><span class=\"Z3988\" title=\"ctx_ver=Z39.88-2004&amp;rft_val_fmt=info%3Aofi%2Ffmt%3Akev%3Amtx%3Ajournal&amp;rft.genre=unknown&amp;rft.jtitle=Forbes&amp;rft.atitle=The+Impacts+of+Big+Data+That+You+May+Not+Have+Heard+Of&amp;rft.aulast=Pham&amp;rft.aufirst=Peter&amp;rft_id=https%3A%2F%2Fwww.forbes.com%2Fsites%2Fpeterpham%2F2015%2F08%2F28%2Fthe-impacts-of-big-data-that-you-may-not-have-heard-of%2F&amp;rfr_id=info%3Asid%2Fen.wikipedia.org%3AData+science\"></span></span>\n",
            "</li>\n",
            "<li id=\"cite_note-:6-35\"><span class=\"mw-cite-backlink\"><b><a href=\"#cite_ref-:6_35-0\">^</a></b></span> <span class=\"reference-text\"><link href=\"mw-data:TemplateStyles:r1067248974\" rel=\"mw-deduplicated-inline-style\"/><cite class=\"citation web cs1\" id=\"CITEREFMartin2019\">Martin, Sophia (20 September 2019). <a class=\"external text\" href=\"https://towardsdatascience.com/how-data-science-will-impact-future-of-businesses-7f11f5699c4d\" rel=\"nofollow\">\"How Data Science will Impact Future of Businesses?\"</a>. <i>Medium</i><span class=\"reference-accessdate\">. Retrieved <span class=\"nowrap\">3 April</span> 2020</span>.</cite><span class=\"Z3988\" title=\"ctx_ver=Z39.88-2004&amp;rft_val_fmt=info%3Aofi%2Ffmt%3Akev%3Amtx%3Ajournal&amp;rft.genre=unknown&amp;rft.jtitle=Medium&amp;rft.atitle=How+Data+Science+will+Impact+Future+of+Businesses%3F&amp;rft.date=2019-09-20&amp;rft.aulast=Martin&amp;rft.aufirst=Sophia&amp;rft_id=https%3A%2F%2Ftowardsdatascience.com%2Fhow-data-science-will-impact-future-of-businesses-7f11f5699c4d&amp;rfr_id=info%3Asid%2Fen.wikipedia.org%3AData+science\"></span></span>\n",
            "</li>\n",
            "</ol></div>\n",
            "<div class=\"navbox-styles nomobile\"><style data-mw-deduplicate=\"TemplateStyles:r1061467846\">.mw-parser-output .navbox{box-sizing:border-box;border:1px solid #a2a9b1;width:100%;clear:both;font-size:88%;text-align:center;padding:1px;margin:1em auto 0}.mw-parser-output .navbox .navbox{margin-top:0}.mw-parser-output .navbox+.navbox,.mw-parser-output .navbox+.navbox-styles+.navbox{margin-top:-1px}.mw-parser-output .navbox-inner,.mw-parser-output .navbox-subgroup{width:100%}.mw-parser-output .navbox-group,.mw-parser-output .navbox-title,.mw-parser-output .navbox-abovebelow{padding:0.25em 1em;line-height:1.5em;text-align:center}.mw-parser-output .navbox-group{white-space:nowrap;text-align:right}.mw-parser-output .navbox,.mw-parser-output .navbox-subgroup{background-color:#fdfdfd}.mw-parser-output .navbox-list{line-height:1.5em;border-color:#fdfdfd}.mw-parser-output .navbox-list-with-group{text-align:left;border-left-width:2px;border-left-style:solid}.mw-parser-output tr+tr>.navbox-abovebelow,.mw-parser-output tr+tr>.navbox-group,.mw-parser-output tr+tr>.navbox-image,.mw-parser-output tr+tr>.navbox-list{border-top:2px solid #fdfdfd}.mw-parser-output .navbox-title{background-color:#ccf}.mw-parser-output .navbox-abovebelow,.mw-parser-output .navbox-group,.mw-parser-output .navbox-subgroup .navbox-title{background-color:#ddf}.mw-parser-output .navbox-subgroup .navbox-group,.mw-parser-output .navbox-subgroup .navbox-abovebelow{background-color:#e6e6ff}.mw-parser-output .navbox-even{background-color:#f7f7f7}.mw-parser-output .navbox-odd{background-color:transparent}.mw-parser-output .navbox .hlist td dl,.mw-parser-output .navbox .hlist td ol,.mw-parser-output .navbox .hlist td ul,.mw-parser-output .navbox td.hlist dl,.mw-parser-output .navbox td.hlist ol,.mw-parser-output .navbox td.hlist ul{padding:0.125em 0}.mw-parser-output .navbox .navbar{display:block;font-size:100%}.mw-parser-output .navbox-title .navbar{float:left;text-align:left;margin-right:0.5em}</style></div><div aria-labelledby=\"Data\" class=\"navbox\" role=\"navigation\" style=\"padding:3px\"><table class=\"nowraplinks mw-collapsible autocollapse navbox-inner\" style=\"border-spacing:0;background:transparent;color:inherit\"><tbody><tr><th class=\"navbox-title\" colspan=\"2\" scope=\"col\"><style data-mw-deduplicate=\"TemplateStyles:r1063604349\">.mw-parser-output .navbar{display:inline;font-size:88%;font-weight:normal}.mw-parser-output .navbar-collapse{float:left;text-align:left}.mw-parser-output .navbar-boxtext{word-spacing:0}.mw-parser-output .navbar ul{display:inline-block;white-space:nowrap;line-height:inherit}.mw-parser-output .navbar-brackets::before{margin-right:-0.125em;content:\"[ \"}.mw-parser-output .navbar-brackets::after{margin-left:-0.125em;content:\" ]\"}.mw-parser-output .navbar li{word-spacing:-0.125em}.mw-parser-output .navbar a>span,.mw-parser-output .navbar a>abbr{text-decoration:inherit}.mw-parser-output .navbar-mini abbr{font-variant:small-caps;border-bottom:none;text-decoration:none;cursor:inherit}.mw-parser-output .navbar-ct-full{font-size:114%;margin:0 7em}.mw-parser-output .navbar-ct-mini{font-size:114%;margin:0 4em}</style><div class=\"navbar plainlinks hlist navbar-mini\"><ul><li class=\"nv-view\"><a href=\"/wiki/Template:Data\" title=\"Template:Data\"><abbr style=\";;background:none transparent;border:none;box-shadow:none;padding:0;\" title=\"View this template\">v</abbr></a></li><li class=\"nv-talk\"><a href=\"/wiki/Template_talk:Data\" title=\"Template talk:Data\"><abbr style=\";;background:none transparent;border:none;box-shadow:none;padding:0;\" title=\"Discuss this template\">t</abbr></a></li><li class=\"nv-edit\"><a class=\"external text\" href=\"https://en.wikipedia.org/w/index.php?title=Template:Data&amp;action=edit\"><abbr style=\";;background:none transparent;border:none;box-shadow:none;padding:0;\" title=\"Edit this template\">e</abbr></a></li></ul></div><div id=\"Data\" style=\"font-size:114%;margin:0 4em\"><a class=\"mw-redirect\" href=\"/wiki/Data_(computing)\" title=\"Data (computing)\">Data</a></div></th></tr><tr><td class=\"navbox-list navbox-odd hlist\" colspan=\"2\" style=\"width:100%;padding:0\"><div style=\"padding:0 0.25em\">\n",
            "<ul><li><a href=\"/wiki/Data_augmentation\" title=\"Data augmentation\">Augmentation</a></li>\n",
            "<li><a href=\"/wiki/Data_analysis\" title=\"Data analysis\">Analysis</a></li>\n",
            "<li><a href=\"/wiki/Data_archaeology\" title=\"Data archaeology\">Archaeology</a></li>\n",
            "<li><a href=\"/wiki/Big_data\" title=\"Big data\">Big</a></li>\n",
            "<li><a href=\"/wiki/Data_cleansing\" title=\"Data cleansing\">Cleansing</a></li>\n",
            "<li><a href=\"/wiki/Data_collection\" title=\"Data collection\">Collection</a></li>\n",
            "<li><a href=\"/wiki/Data_compression\" title=\"Data compression\">Compression</a></li>\n",
            "<li><a href=\"/wiki/Data_corruption\" title=\"Data corruption\">Corruption</a></li>\n",
            "<li><a href=\"/wiki/Data_curation\" title=\"Data curation\">Curation</a></li>\n",
            "<li><a href=\"/wiki/Data_degradation\" title=\"Data degradation\">Degradation</a></li>\n",
            "<li><a href=\"/wiki/Data_editing\" title=\"Data editing\">Editing</a></li>\n",
            "<li><a href=\"/wiki/Extract,_transform,_load\" title=\"Extract, transform, load\">ETL</a>/<a href=\"/wiki/Extract,_load,_transform\" title=\"Extract, load, transform\">ELT</a>\n",
            "<ul><li><a href=\"/wiki/Data_extraction\" title=\"Data extraction\">Extract</a></li>\n",
            "<li><a class=\"mw-redirect\" href=\"/wiki/Data_transformation\" title=\"Data transformation\">Transform</a></li>\n",
            "<li><a class=\"mw-redirect\" href=\"/wiki/Data_loading\" title=\"Data loading\">Load</a></li></ul></li>\n",
            "<li><a href=\"/wiki/Data_farming\" title=\"Data farming\">Farming</a></li>\n",
            "<li><a href=\"/wiki/Data_format_management\" title=\"Data format management\">Format management</a></li>\n",
            "<li><a href=\"/wiki/Data_fusion\" title=\"Data fusion\">Fusion</a></li>\n",
            "<li><a href=\"/wiki/Data_integration\" title=\"Data integration\">Integration</a></li>\n",
            "<li><a href=\"/wiki/Data_integrity\" title=\"Data integrity\">Integrity</a></li>\n",
            "<li><a href=\"/wiki/Data_library\" title=\"Data library\">Library</a></li>\n",
            "<li><a href=\"/wiki/Data_lineage\" title=\"Data lineage\">Lineage</a></li>\n",
            "<li><a href=\"/wiki/Data_loss\" title=\"Data loss\">Loss</a></li>\n",
            "<li><a href=\"/wiki/Data_management\" title=\"Data management\">Management</a></li>\n",
            "<li><a href=\"/wiki/Data_migration\" title=\"Data migration\">Migration</a></li>\n",
            "<li><a href=\"/wiki/Data_mining\" title=\"Data mining\">Mining</a></li>\n",
            "<li><a href=\"/wiki/Data_philanthropy\" title=\"Data philanthropy\">Philanthropy</a></li>\n",
            "<li><a href=\"/wiki/Data_pre-processing\" title=\"Data pre-processing\">Pre-processing</a></li>\n",
            "<li><a href=\"/wiki/Data_preservation\" title=\"Data preservation\">Preservation</a></li>\n",
            "<li><a href=\"/wiki/Information_privacy\" title=\"Information privacy\">Protection (privacy)</a></li>\n",
            "<li><a href=\"/wiki/Data_publishing\" title=\"Data publishing\">Publishing</a></li>\n",
            "<li><a href=\"/wiki/Data_recovery\" title=\"Data recovery\">Recovery</a></li>\n",
            "<li><a href=\"/wiki/Data_reduction\" title=\"Data reduction\">Reduction</a></li>\n",
            "<li><a href=\"/wiki/Data_retention\" title=\"Data retention\">Retention</a></li>\n",
            "<li><a href=\"/wiki/Data_quality\" title=\"Data quality\">Quality</a></li>\n",
            "<li><a class=\"mw-selflink selflink\">Science</a></li>\n",
            "<li><a href=\"/wiki/Data_scraping\" title=\"Data scraping\">Scraping</a></li>\n",
            "<li><a href=\"/wiki/Data_scrubbing\" title=\"Data scrubbing\">Scrubbing</a></li>\n",
            "<li><a href=\"/wiki/Data_security\" title=\"Data security\">Security</a></li>\n",
            "<li><a href=\"/wiki/Data_steward\" title=\"Data steward\">Stewardship</a></li>\n",
            "<li><a href=\"/wiki/Data_storage\" title=\"Data storage\">Storage</a></li>\n",
            "<li><a href=\"/wiki/Data_validation\" title=\"Data validation\">Validation</a></li>\n",
            "<li><a href=\"/wiki/Data_warehouse\" title=\"Data warehouse\">Warehouse</a></li>\n",
            "<li><a href=\"/wiki/Data_wrangling\" title=\"Data wrangling\">Wrangling/munging</a></li></ul>\n",
            "</div></td></tr></tbody></table></div>\n",
            "<!-- \n",
            "NewPP limit report\n",
            "Parsed by mw2327\n",
            "Cached time: 20221107183952\n",
            "Cache expiry: 1814400\n",
            "Reduced expiry: false\n",
            "Complications: [vary‐revision‐sha1, show‐toc]\n",
            "CPU time usage: 0.332 seconds\n",
            "Real time usage: 0.444 seconds\n",
            "Preprocessor visited node count: 1966/1000000\n",
            "Post‐expand include size: 71860/2097152 bytes\n",
            "Template argument size: 1033/2097152 bytes\n",
            "Highest expansion depth: 12/100\n",
            "Expensive parser function count: 2/500\n",
            "Unstrip recursion depth: 1/20\n",
            "Unstrip post‐expand size: 111052/5000000 bytes\n",
            "Lua time usage: 0.211/10.000 seconds\n",
            "Lua memory usage: 6047886/52428800 bytes\n",
            "Number of Wikibase entities loaded: 0/400\n",
            "-->\n",
            "<!--\n",
            "Transclusion expansion time report (%,ms,calls,template)\n",
            "100.00%  390.054      1 -total\n",
            " 57.77%  225.338      1 Template:Reflist\n",
            " 24.10%   94.020      8 Template:Cite_journal\n",
            " 17.91%   69.849      1 Template:Short_description\n",
            " 15.08%   58.832     18 Template:Cite_web\n",
            " 10.50%   40.954      1 Template:Data\n",
            "  9.90%   38.610      1 Template:Navbox\n",
            "  8.34%   32.512      2 Template:Pagetype\n",
            "  6.61%   25.765      4 Template:Main_other\n",
            "  6.11%   23.848      1 Template:Distinguish\n",
            "-->\n",
            "<!-- Saved in parser cache with key enwiki:pcache:idhash:35458904-0!canonical and timestamp 20221107183952 and revision id 1120574273.\n",
            " -->\n",
            "</div><noscript><img alt=\"\" height=\"1\" src=\"//en.wikipedia.org/wiki/Special:CentralAutoLogin/start?type=1x1\" style=\"border: none; position: absolute;\" title=\"\" width=\"1\"/></noscript>\n",
            "<div class=\"printfooter\" data-nosnippet=\"\">Retrieved from \"<a dir=\"ltr\" href=\"https://en.wikipedia.org/w/index.php?title=Data_science&amp;oldid=1120574273\">https://en.wikipedia.org/w/index.php?title=Data_science&amp;oldid=1120574273</a>\"</div></div>\n",
            "<div class=\"catlinks\" data-mw=\"interface\" id=\"catlinks\"><div class=\"mw-normal-catlinks\" id=\"mw-normal-catlinks\"><a href=\"/wiki/Help:Category\" title=\"Help:Category\">Categories</a>: <ul><li><a href=\"/wiki/Category:Information_science\" title=\"Category:Information science\">Information science</a></li><li><a href=\"/wiki/Category:Computer_occupations\" title=\"Category:Computer occupations\">Computer occupations</a></li><li><a href=\"/wiki/Category:Computational_fields_of_study\" title=\"Category:Computational fields of study\">Computational fields of study</a></li><li><a href=\"/wiki/Category:Data_analysis\" title=\"Category:Data analysis\">Data analysis</a></li></ul></div><div class=\"mw-hidden-catlinks mw-hidden-cats-hidden\" id=\"mw-hidden-catlinks\">Hidden categories: <ul><li><a href=\"/wiki/Category:Articles_with_short_description\" title=\"Category:Articles with short description\">Articles with short description</a></li><li><a href=\"/wiki/Category:Short_description_matches_Wikidata\" title=\"Category:Short description matches Wikidata\">Short description matches Wikidata</a></li><li><a href=\"/wiki/Category:Use_dmy_dates_from_August_2021\" title=\"Category:Use dmy dates from August 2021\">Use dmy dates from August 2021</a></li></ul></div></div>\n",
            "</div>\n",
            "</div>\n",
            "<div id=\"mw-navigation\">\n",
            "<h2>Navigation menu</h2>\n",
            "<div id=\"mw-head\">\n",
            "<nav aria-labelledby=\"p-personal-label\" class=\"vector-menu mw-portlet mw-portlet-personal vector-user-menu-legacy\" id=\"p-personal\" role=\"navigation\">\n",
            "<h3 class=\"vector-menu-heading \" id=\"p-personal-label\">\n",
            "<span class=\"vector-menu-heading-label\">Personal tools</span>\n",
            "</h3>\n",
            "<div class=\"vector-menu-content\">\n",
            "<ul class=\"vector-menu-content-list\"><li class=\"mw-list-item\" id=\"pt-anonuserpage\"><span title=\"The user page for the IP address you are editing as\">Not logged in</span></li><li class=\"mw-list-item\" id=\"pt-anontalk\"><a accesskey=\"n\" href=\"/wiki/Special:MyTalk\" title=\"Discussion about edits from this IP address [n]\"><span>Talk</span></a></li><li class=\"mw-list-item\" id=\"pt-anoncontribs\"><a accesskey=\"y\" href=\"/wiki/Special:MyContributions\" title=\"A list of edits made from this IP address [y]\"><span>Contributions</span></a></li><li class=\"mw-list-item\" id=\"pt-createaccount\"><a href=\"/w/index.php?title=Special:CreateAccount&amp;returnto=Data+science\" title=\"You are encouraged to create an account and log in; however, it is not mandatory\"><span>Create account</span></a></li><li class=\"mw-list-item\" id=\"pt-login\"><a accesskey=\"o\" href=\"/w/index.php?title=Special:UserLogin&amp;returnto=Data+science\" title=\"You're encouraged to log in; however, it's not mandatory. [o]\"><span>Log in</span></a></li></ul>\n",
            "</div>\n",
            "</nav>\n",
            "<div id=\"left-navigation\">\n",
            "<nav aria-labelledby=\"p-namespaces-label\" class=\"vector-menu mw-portlet mw-portlet-namespaces vector-menu-tabs vector-menu-tabs-legacy\" id=\"p-namespaces\" role=\"navigation\">\n",
            "<h3 class=\"vector-menu-heading \" id=\"p-namespaces-label\">\n",
            "<span class=\"vector-menu-heading-label\">Namespaces</span>\n",
            "</h3>\n",
            "<div class=\"vector-menu-content\">\n",
            "<ul class=\"vector-menu-content-list\"><li class=\"selected mw-list-item\" id=\"ca-nstab-main\"><a accesskey=\"c\" href=\"/wiki/Data_science\" title=\"View the content page [c]\"><span>Article</span></a></li><li class=\"mw-list-item\" id=\"ca-talk\"><a accesskey=\"t\" href=\"/wiki/Talk:Data_science\" rel=\"discussion\" title=\"Discuss improvements to the content page [t]\"><span>Talk</span></a></li></ul>\n",
            "</div>\n",
            "</nav>\n",
            "<nav aria-labelledby=\"p-variants-label\" class=\"vector-menu mw-portlet mw-portlet-variants emptyPortlet vector-menu-dropdown-noicon vector-menu-dropdown\" id=\"p-variants\" role=\"navigation\">\n",
            "<input aria-haspopup=\"true\" aria-labelledby=\"p-variants-label\" class=\"vector-menu-checkbox\" data-event-name=\"ui.dropdown-p-variants\" id=\"p-variants-checkbox\" role=\"button\" type=\"checkbox\"/>\n",
            "<label aria-label=\"Change language variant\" class=\"vector-menu-heading \" id=\"p-variants-label\">\n",
            "<span class=\"vector-menu-heading-label\">English</span>\n",
            "</label>\n",
            "<div class=\"vector-menu-content\">\n",
            "<ul class=\"vector-menu-content-list\"></ul>\n",
            "</div>\n",
            "</nav>\n",
            "</div>\n",
            "<div id=\"right-navigation\">\n",
            "<nav aria-labelledby=\"p-views-label\" class=\"vector-menu mw-portlet mw-portlet-views vector-menu-tabs vector-menu-tabs-legacy\" id=\"p-views\" role=\"navigation\">\n",
            "<h3 class=\"vector-menu-heading \" id=\"p-views-label\">\n",
            "<span class=\"vector-menu-heading-label\">Views</span>\n",
            "</h3>\n",
            "<div class=\"vector-menu-content\">\n",
            "<ul class=\"vector-menu-content-list\"><li class=\"selected mw-list-item\" id=\"ca-view\"><a href=\"/wiki/Data_science\"><span>Read</span></a></li><li class=\"mw-list-item\" id=\"ca-edit\"><a accesskey=\"e\" href=\"/w/index.php?title=Data_science&amp;action=edit\" title=\"Edit this page [e]\"><span>Edit</span></a></li><li class=\"mw-list-item\" id=\"ca-history\"><a accesskey=\"h\" href=\"/w/index.php?title=Data_science&amp;action=history\" title=\"Past revisions of this page [h]\"><span>View history</span></a></li></ul>\n",
            "</div>\n",
            "</nav>\n",
            "<nav aria-labelledby=\"p-cactions-label\" class=\"vector-menu mw-portlet mw-portlet-cactions emptyPortlet vector-menu-dropdown-noicon vector-menu-dropdown\" id=\"p-cactions\" role=\"navigation\" title=\"More options\">\n",
            "<input aria-haspopup=\"true\" aria-labelledby=\"p-cactions-label\" class=\"vector-menu-checkbox\" data-event-name=\"ui.dropdown-p-cactions\" id=\"p-cactions-checkbox\" role=\"button\" type=\"checkbox\"/>\n",
            "<label class=\"vector-menu-heading \" id=\"p-cactions-label\">\n",
            "<span class=\"vector-menu-heading-label\">More</span>\n",
            "</label>\n",
            "<div class=\"vector-menu-content\">\n",
            "<ul class=\"vector-menu-content-list\"></ul>\n",
            "</div>\n",
            "</nav>\n",
            "<div class=\"vector-search-box-vue vector-search-box-show-thumbnail vector-search-box-auto-expand-width vector-search-box\" id=\"p-search\" role=\"search\">\n",
            "<div>\n",
            "<form action=\"/w/index.php\" class=\"vector-search-box-form\" id=\"searchform\">\n",
            "<div class=\"vector-search-box-inner\" data-search-loc=\"header-navigation\" id=\"simpleSearch\">\n",
            "<input accesskey=\"f\" aria-label=\"Search Wikipedia\" autocapitalize=\"sentences\" class=\"vector-search-box-input\" id=\"searchInput\" name=\"search\" placeholder=\"Search Wikipedia\" title=\"Search Wikipedia [f]\" type=\"search\"/>\n",
            "<input name=\"title\" type=\"hidden\" value=\"Special:Search\"/>\n",
            "<input class=\"searchButton mw-fallbackSearchButton\" id=\"mw-searchButton\" name=\"fulltext\" title=\"Search Wikipedia for this text\" type=\"submit\" value=\"Search\"/>\n",
            "<input class=\"searchButton\" id=\"searchButton\" name=\"go\" title=\"Go to a page with this exact name if it exists\" type=\"submit\" value=\"Go\"/>\n",
            "</div>\n",
            "</form>\n",
            "</div>\n",
            "</div>\n",
            "</div>\n",
            "</div>\n",
            "<div id=\"mw-panel\">\n",
            "<div id=\"p-logo\" role=\"banner\">\n",
            "<a class=\"mw-wiki-logo\" href=\"/wiki/Main_Page\" title=\"Visit the main page\"></a>\n",
            "</div>\n",
            "<nav aria-labelledby=\"p-navigation-label\" class=\"vector-menu mw-portlet mw-portlet-navigation vector-menu-portal portal\" id=\"p-navigation\" role=\"navigation\">\n",
            "<h3 class=\"vector-menu-heading \" id=\"p-navigation-label\">\n",
            "<span class=\"vector-menu-heading-label\">Navigation</span>\n",
            "</h3>\n",
            "<div class=\"vector-menu-content\">\n",
            "<ul class=\"vector-menu-content-list\"><li class=\"mw-list-item\" id=\"n-mainpage-description\"><a accesskey=\"z\" href=\"/wiki/Main_Page\" title=\"Visit the main page [z]\"><span>Main page</span></a></li><li class=\"mw-list-item\" id=\"n-contents\"><a href=\"/wiki/Wikipedia:Contents\" title=\"Guides to browsing Wikipedia\"><span>Contents</span></a></li><li class=\"mw-list-item\" id=\"n-currentevents\"><a href=\"/wiki/Portal:Current_events\" title=\"Articles related to current events\"><span>Current events</span></a></li><li class=\"mw-list-item\" id=\"n-randompage\"><a accesskey=\"x\" href=\"/wiki/Special:Random\" title=\"Visit a randomly selected article [x]\"><span>Random article</span></a></li><li class=\"mw-list-item\" id=\"n-aboutsite\"><a href=\"/wiki/Wikipedia:About\" title=\"Learn about Wikipedia and how it works\"><span>About Wikipedia</span></a></li><li class=\"mw-list-item\" id=\"n-contactpage\"><a href=\"//en.wikipedia.org/wiki/Wikipedia:Contact_us\" title=\"How to contact Wikipedia\"><span>Contact us</span></a></li><li class=\"mw-list-item\" id=\"n-sitesupport\"><a href=\"https://donate.wikimedia.org/wiki/Special:FundraiserRedirector?utm_source=donate&amp;utm_medium=sidebar&amp;utm_campaign=C13_en.wikipedia.org&amp;uselang=en\" title=\"Support us by donating to the Wikimedia Foundation\"><span>Donate</span></a></li></ul>\n",
            "</div>\n",
            "</nav>\n",
            "<nav aria-labelledby=\"p-interaction-label\" class=\"vector-menu mw-portlet mw-portlet-interaction vector-menu-portal portal\" id=\"p-interaction\" role=\"navigation\">\n",
            "<h3 class=\"vector-menu-heading \" id=\"p-interaction-label\">\n",
            "<span class=\"vector-menu-heading-label\">Contribute</span>\n",
            "</h3>\n",
            "<div class=\"vector-menu-content\">\n",
            "<ul class=\"vector-menu-content-list\"><li class=\"mw-list-item\" id=\"n-help\"><a href=\"/wiki/Help:Contents\" title=\"Guidance on how to use and edit Wikipedia\"><span>Help</span></a></li><li class=\"mw-list-item\" id=\"n-introduction\"><a href=\"/wiki/Help:Introduction\" title=\"Learn how to edit Wikipedia\"><span>Learn to edit</span></a></li><li class=\"mw-list-item\" id=\"n-portal\"><a href=\"/wiki/Wikipedia:Community_portal\" title=\"The hub for editors\"><span>Community portal</span></a></li><li class=\"mw-list-item\" id=\"n-recentchanges\"><a accesskey=\"r\" href=\"/wiki/Special:RecentChanges\" title=\"A list of recent changes to Wikipedia [r]\"><span>Recent changes</span></a></li><li class=\"mw-list-item\" id=\"n-upload\"><a href=\"/wiki/Wikipedia:File_Upload_Wizard\" title=\"Add images or other media for use on Wikipedia\"><span>Upload file</span></a></li></ul>\n",
            "</div>\n",
            "</nav>\n",
            "<nav aria-labelledby=\"p-tb-label\" class=\"vector-menu mw-portlet mw-portlet-tb vector-menu-portal portal\" id=\"p-tb\" role=\"navigation\">\n",
            "<h3 class=\"vector-menu-heading \" id=\"p-tb-label\">\n",
            "<span class=\"vector-menu-heading-label\">Tools</span>\n",
            "</h3>\n",
            "<div class=\"vector-menu-content\">\n",
            "<ul class=\"vector-menu-content-list\"><li class=\"mw-list-item\" id=\"t-whatlinkshere\"><a accesskey=\"j\" href=\"/wiki/Special:WhatLinksHere/Data_science\" title=\"List of all English Wikipedia pages containing links to this page [j]\"><span>What links here</span></a></li><li class=\"mw-list-item\" id=\"t-recentchangeslinked\"><a accesskey=\"k\" href=\"/wiki/Special:RecentChangesLinked/Data_science\" rel=\"nofollow\" title=\"Recent changes in pages linked from this page [k]\"><span>Related changes</span></a></li><li class=\"mw-list-item\" id=\"t-upload\"><a accesskey=\"u\" href=\"/wiki/Wikipedia:File_Upload_Wizard\" title=\"Upload files [u]\"><span>Upload file</span></a></li><li class=\"mw-list-item\" id=\"t-specialpages\"><a accesskey=\"q\" href=\"/wiki/Special:SpecialPages\" title=\"A list of all special pages [q]\"><span>Special pages</span></a></li><li class=\"mw-list-item\" id=\"t-permalink\"><a href=\"/w/index.php?title=Data_science&amp;oldid=1120574273\" title=\"Permanent link to this revision of this page\"><span>Permanent link</span></a></li><li class=\"mw-list-item\" id=\"t-info\"><a href=\"/w/index.php?title=Data_science&amp;action=info\" title=\"More information about this page\"><span>Page information</span></a></li><li class=\"mw-list-item\" id=\"t-cite\"><a href=\"/w/index.php?title=Special:CiteThisPage&amp;page=Data_science&amp;id=1120574273&amp;wpFormIdentifier=titleform\" title=\"Information on how to cite this page\"><span>Cite this page</span></a></li><li class=\"mw-list-item\" id=\"t-wikibase\"><a accesskey=\"g\" href=\"https://www.wikidata.org/wiki/Special:EntityPage/Q2374463\" title=\"Structured data on this page hosted by Wikidata [g]\"><span>Wikidata item</span></a></li></ul>\n",
            "</div>\n",
            "</nav>\n",
            "<nav aria-labelledby=\"p-coll-print_export-label\" class=\"vector-menu mw-portlet mw-portlet-coll-print_export vector-menu-portal portal\" id=\"p-coll-print_export\" role=\"navigation\">\n",
            "<h3 class=\"vector-menu-heading \" id=\"p-coll-print_export-label\">\n",
            "<span class=\"vector-menu-heading-label\">Print/export</span>\n",
            "</h3>\n",
            "<div class=\"vector-menu-content\">\n",
            "<ul class=\"vector-menu-content-list\"><li class=\"mw-list-item\" id=\"coll-download-as-rl\"><a href=\"/w/index.php?title=Special:DownloadAsPdf&amp;page=Data_science&amp;action=show-download-screen\" title=\"Download this page as a PDF file\"><span>Download as PDF</span></a></li><li class=\"mw-list-item\" id=\"t-print\"><a accesskey=\"p\" href=\"/w/index.php?title=Data_science&amp;printable=yes\" title=\"Printable version of this page [p]\"><span>Printable version</span></a></li></ul>\n",
            "</div>\n",
            "</nav>\n",
            "<nav aria-labelledby=\"p-wikibase-otherprojects-label\" class=\"vector-menu mw-portlet mw-portlet-wikibase-otherprojects vector-menu-portal portal\" id=\"p-wikibase-otherprojects\" role=\"navigation\">\n",
            "<h3 class=\"vector-menu-heading \" id=\"p-wikibase-otherprojects-label\">\n",
            "<span class=\"vector-menu-heading-label\">In other projects</span>\n",
            "</h3>\n",
            "<div class=\"vector-menu-content\">\n",
            "<ul class=\"vector-menu-content-list\"><li class=\"wb-otherproject-link wb-otherproject-commons mw-list-item\"><a href=\"https://commons.wikimedia.org/wiki/Category:Data_science\" hreflang=\"en\"><span>Wikimedia Commons</span></a></li><li class=\"wb-otherproject-link wb-otherproject-wikiversity mw-list-item\"><a href=\"https://en.wikiversity.org/wiki/Data_science\" hreflang=\"en\"><span>Wikiversity</span></a></li></ul>\n",
            "</div>\n",
            "</nav>\n",
            "<nav aria-labelledby=\"p-lang-label\" class=\"vector-menu mw-portlet mw-portlet-lang vector-menu-portal portal\" id=\"p-lang\" role=\"navigation\">\n",
            "<h3 class=\"vector-menu-heading \" id=\"p-lang-label\">\n",
            "<span class=\"vector-menu-heading-label\">Languages</span>\n",
            "</h3>\n",
            "<div class=\"vector-menu-content\">\n",
            "<ul class=\"vector-menu-content-list\"><li class=\"interlanguage-link interwiki-ar mw-list-item\"><a class=\"interlanguage-link-target\" href=\"https://ar.wikipedia.org/wiki/%D8%B9%D9%84%D9%85_%D8%A7%D9%84%D8%A8%D9%8A%D8%A7%D9%86%D8%A7%D8%AA\" hreflang=\"ar\" lang=\"ar\" title=\"علم البيانات – Arabic\"><span>العربية</span></a></li><li class=\"interlanguage-link interwiki-az mw-list-item\"><a class=\"interlanguage-link-target\" href=\"https://az.wikipedia.org/wiki/Veril%C9%99nl%C9%99r_elmi_(Data_Science)\" hreflang=\"az\" lang=\"az\" title=\"Verilənlər elmi (Data Science) – Azerbaijani\"><span>Azərbaycanca</span></a></li><li class=\"interlanguage-link interwiki-bn mw-list-item\"><a class=\"interlanguage-link-target\" href=\"https://bn.wikipedia.org/wiki/%E0%A6%89%E0%A6%AA%E0%A6%BE%E0%A6%A4%E0%A7%8D%E0%A6%A4_%E0%A6%AC%E0%A6%BF%E0%A6%9C%E0%A7%8D%E0%A6%9E%E0%A6%BE%E0%A6%A8\" hreflang=\"bn\" lang=\"bn\" title=\"উপাত্ত বিজ্ঞান – Bangla\"><span>বাংলা</span></a></li><li class=\"interlanguage-link interwiki-bg mw-list-item\"><a class=\"interlanguage-link-target\" href=\"https://bg.wikipedia.org/wiki/%D0%9D%D0%B0%D1%83%D0%BA%D0%B0_%D0%B7%D0%B0_%D0%B4%D0%B0%D0%BD%D0%BD%D0%B8%D1%82%D0%B5\" hreflang=\"bg\" lang=\"bg\" title=\"Наука за данните – Bulgarian\"><span>Български</span></a></li><li class=\"interlanguage-link interwiki-ca mw-list-item\"><a class=\"interlanguage-link-target\" href=\"https://ca.wikipedia.org/wiki/Ci%C3%A8ncia_de_les_dades\" hreflang=\"ca\" lang=\"ca\" title=\"Ciència de les dades – Catalan\"><span>Català</span></a></li><li class=\"interlanguage-link interwiki-cs mw-list-item\"><a class=\"interlanguage-link-target\" href=\"https://cs.wikipedia.org/wiki/Data_science\" hreflang=\"cs\" lang=\"cs\" title=\"Data science – Czech\"><span>Čeština</span></a></li><li class=\"interlanguage-link interwiki-de mw-list-item\"><a class=\"interlanguage-link-target\" href=\"https://de.wikipedia.org/wiki/Data_Science\" hreflang=\"de\" lang=\"de\" title=\"Data Science – German\"><span>Deutsch</span></a></li><li class=\"interlanguage-link interwiki-et mw-list-item\"><a class=\"interlanguage-link-target\" href=\"https://et.wikipedia.org/wiki/Andmeteadus\" hreflang=\"et\" lang=\"et\" title=\"Andmeteadus – Estonian\"><span>Eesti</span></a></li><li class=\"interlanguage-link interwiki-el mw-list-item\"><a class=\"interlanguage-link-target\" href=\"https://el.wikipedia.org/wiki/%CE%95%CF%80%CE%B9%CF%83%CF%84%CE%AE%CE%BC%CE%B7_%CE%B4%CE%B5%CE%B4%CE%BF%CE%BC%CE%AD%CE%BD%CF%89%CE%BD\" hreflang=\"el\" lang=\"el\" title=\"Επιστήμη δεδομένων – Greek\"><span>Ελληνικά</span></a></li><li class=\"interlanguage-link interwiki-es mw-list-item\"><a class=\"interlanguage-link-target\" href=\"https://es.wikipedia.org/wiki/Ciencia_de_datos\" hreflang=\"es\" lang=\"es\" title=\"Ciencia de datos – Spanish\"><span>Español</span></a></li><li class=\"interlanguage-link interwiki-eo mw-list-item\"><a class=\"interlanguage-link-target\" href=\"https://eo.wikipedia.org/wiki/Datuma_scienco\" hreflang=\"eo\" lang=\"eo\" title=\"Datuma scienco – Esperanto\"><span>Esperanto</span></a></li><li class=\"interlanguage-link interwiki-eu mw-list-item\"><a class=\"interlanguage-link-target\" href=\"https://eu.wikipedia.org/wiki/Datu_zientzia\" hreflang=\"eu\" lang=\"eu\" title=\"Datu zientzia – Basque\"><span>Euskara</span></a></li><li class=\"interlanguage-link interwiki-fa mw-list-item\"><a class=\"interlanguage-link-target\" href=\"https://fa.wikipedia.org/wiki/%D8%B9%D9%84%D9%85_%D8%AF%D8%A7%D8%AF%D9%87%E2%80%8C%D9%87%D8%A7\" hreflang=\"fa\" lang=\"fa\" title=\"علم داده‌ها – Persian\"><span>فارسی</span></a></li><li class=\"interlanguage-link interwiki-fr mw-list-item\"><a class=\"interlanguage-link-target\" href=\"https://fr.wikipedia.org/wiki/Science_des_donn%C3%A9es\" hreflang=\"fr\" lang=\"fr\" title=\"Science des données – French\"><span>Français</span></a></li><li class=\"interlanguage-link interwiki-ko mw-list-item\"><a class=\"interlanguage-link-target\" href=\"https://ko.wikipedia.org/wiki/%EB%8D%B0%EC%9D%B4%ED%84%B0_%EC%82%AC%EC%9D%B4%EC%96%B8%EC%8A%A4\" hreflang=\"ko\" lang=\"ko\" title=\"데이터 사이언스 – Korean\"><span>한국어</span></a></li><li class=\"interlanguage-link interwiki-hy mw-list-item\"><a class=\"interlanguage-link-target\" href=\"https://hy.wikipedia.org/wiki/%D5%8F%D5%BE%D5%B5%D5%A1%D5%AC%D5%B6%D5%A5%D6%80%D5%AB_%D5%A3%D5%AB%D5%BF%D5%B8%D6%82%D5%A9%D5%B5%D5%B8%D6%82%D5%B6\" hreflang=\"hy\" lang=\"hy\" title=\"Տվյալների գիտություն – Armenian\"><span>Հայերեն</span></a></li><li class=\"interlanguage-link interwiki-hi mw-list-item\"><a class=\"interlanguage-link-target\" href=\"https://hi.wikipedia.org/wiki/%E0%A4%86%E0%A4%81%E0%A4%95%E0%A4%A1%E0%A4%BC%E0%A4%BE_%E0%A4%B5%E0%A4%BF%E0%A4%9C%E0%A5%8D%E0%A4%9E%E0%A4%BE%E0%A4%A8\" hreflang=\"hi\" lang=\"hi\" title=\"आँकड़ा विज्ञान – Hindi\"><span>हिन्दी</span></a></li><li class=\"interlanguage-link interwiki-id mw-list-item\"><a class=\"interlanguage-link-target\" href=\"https://id.wikipedia.org/wiki/Ilmu_data\" hreflang=\"id\" lang=\"id\" title=\"Ilmu data – Indonesian\"><span>Bahasa Indonesia</span></a></li><li class=\"interlanguage-link interwiki-it mw-list-item\"><a class=\"interlanguage-link-target\" href=\"https://it.wikipedia.org/wiki/Scienza_dei_dati\" hreflang=\"it\" lang=\"it\" title=\"Scienza dei dati – Italian\"><span>Italiano</span></a></li><li class=\"interlanguage-link interwiki-he mw-list-item\"><a class=\"interlanguage-link-target\" href=\"https://he.wikipedia.org/wiki/%D7%9E%D7%93%D7%A2_%D7%94%D7%A0%D7%AA%D7%95%D7%A0%D7%99%D7%9D\" hreflang=\"he\" lang=\"he\" title=\"מדע הנתונים – Hebrew\"><span>עברית</span></a></li><li class=\"interlanguage-link interwiki-kn mw-list-item\"><a class=\"interlanguage-link-target\" href=\"https://kn.wikipedia.org/wiki/%E0%B2%A6%E0%B2%A4%E0%B3%8D%E0%B2%A4%E0%B2%BE%E0%B2%82%E0%B2%B6_%E0%B2%B5%E0%B2%BF%E0%B2%9C%E0%B3%8D%E0%B2%9E%E0%B2%BE%E0%B2%A8\" hreflang=\"kn\" lang=\"kn\" title=\"ದತ್ತಾಂಶ ವಿಜ್ಞಾನ – Kannada\"><span>ಕನ್ನಡ</span></a></li><li class=\"interlanguage-link interwiki-kk mw-list-item\"><a class=\"interlanguage-link-target\" href=\"https://kk.wikipedia.org/wiki/%D0%94%D0%B5%D1%80%D0%B5%D0%BA%D1%82%D0%B5%D1%80_%D1%82%D1%83%D1%80%D0%B0%D0%BB%D1%8B_%D2%93%D1%8B%D0%BB%D1%8B%D0%BC\" hreflang=\"kk\" lang=\"kk\" title=\"Деректер туралы ғылым – Kazakh\"><span>Қазақша</span></a></li><li class=\"interlanguage-link interwiki-lv mw-list-item\"><a class=\"interlanguage-link-target\" href=\"https://lv.wikipedia.org/wiki/Datu_m%C4%81c%C4%ABba\" hreflang=\"lv\" lang=\"lv\" title=\"Datu mācība – Latvian\"><span>Latviešu</span></a></li><li class=\"interlanguage-link interwiki-mk mw-list-item\"><a class=\"interlanguage-link-target\" href=\"https://mk.wikipedia.org/wiki/%D0%9D%D0%B0%D1%83%D0%BA%D0%B0_%D0%B7%D0%B0_%D0%BF%D0%BE%D0%B4%D0%B0%D1%82%D0%BE%D1%86%D0%B8%D1%82%D0%B5\" hreflang=\"mk\" lang=\"mk\" title=\"Наука за податоците – Macedonian\"><span>Македонски</span></a></li><li class=\"interlanguage-link interwiki-ms mw-list-item\"><a class=\"interlanguage-link-target\" href=\"https://ms.wikipedia.org/wiki/Sains_data\" hreflang=\"ms\" lang=\"ms\" title=\"Sains data – Malay\"><span>Bahasa Melayu</span></a></li><li class=\"interlanguage-link interwiki-my mw-list-item\"><a class=\"interlanguage-link-target\" href=\"https://my.wikipedia.org/wiki/%E1%80%A1%E1%80%81%E1%80%BB%E1%80%80%E1%80%BA%E1%80%A1%E1%80%9C%E1%80%80%E1%80%BA%E1%80%9E%E1%80%AD%E1%80%95%E1%80%B9%E1%80%95%E1%80%B6%E1%80%95%E1%80%8A%E1%80%AC\" hreflang=\"my\" lang=\"my\" title=\"အချက်အလက်သိပ္ပံပညာ – Burmese\"><span>မြန်မာဘာသာ</span></a></li><li class=\"interlanguage-link interwiki-nl mw-list-item\"><a class=\"interlanguage-link-target\" href=\"https://nl.wikipedia.org/wiki/Datawetenschap\" hreflang=\"nl\" lang=\"nl\" title=\"Datawetenschap – Dutch\"><span>Nederlands</span></a></li><li class=\"interlanguage-link interwiki-ja mw-list-item\"><a class=\"interlanguage-link-target\" href=\"https://ja.wikipedia.org/wiki/%E3%83%87%E3%83%BC%E3%82%BF%E3%82%B5%E3%82%A4%E3%82%A8%E3%83%B3%E3%82%B9\" hreflang=\"ja\" lang=\"ja\" title=\"データサイエンス – Japanese\"><span>日本語</span></a></li><li class=\"interlanguage-link interwiki-uz mw-list-item\"><a class=\"interlanguage-link-target\" href=\"https://uz.wikipedia.org/wiki/Ma%27lumotlar_ombori\" hreflang=\"uz\" lang=\"uz\" title=\"Ma'lumotlar ombori – Uzbek\"><span>Oʻzbekcha/ўзбекча</span></a></li><li class=\"interlanguage-link interwiki-pl mw-list-item\"><a class=\"interlanguage-link-target\" href=\"https://pl.wikipedia.org/wiki/Danologia\" hreflang=\"pl\" lang=\"pl\" title=\"Danologia – Polish\"><span>Polski</span></a></li><li class=\"interlanguage-link interwiki-pt mw-list-item\"><a class=\"interlanguage-link-target\" href=\"https://pt.wikipedia.org/wiki/Ci%C3%AAncia_de_dados\" hreflang=\"pt\" lang=\"pt\" title=\"Ciência de dados – Portuguese\"><span>Português</span></a></li><li class=\"interlanguage-link interwiki-ru mw-list-item\"><a class=\"interlanguage-link-target\" href=\"https://ru.wikipedia.org/wiki/%D0%9D%D0%B0%D1%83%D0%BA%D0%B0_%D0%BE_%D0%B4%D0%B0%D0%BD%D0%BD%D1%8B%D1%85\" hreflang=\"ru\" lang=\"ru\" title=\"Наука о данных – Russian\"><span>Русский</span></a></li><li class=\"interlanguage-link interwiki-simple mw-list-item\"><a class=\"interlanguage-link-target\" href=\"https://simple.wikipedia.org/wiki/Data_science\" hreflang=\"en-simple\" lang=\"en-simple\" title=\"Data science – Simple English\"><span>Simple English</span></a></li><li class=\"interlanguage-link interwiki-fi mw-list-item\"><a class=\"interlanguage-link-target\" href=\"https://fi.wikipedia.org/wiki/Datatiede\" hreflang=\"fi\" lang=\"fi\" title=\"Datatiede – Finnish\"><span>Suomi</span></a></li><li class=\"interlanguage-link interwiki-ta mw-list-item\"><a class=\"interlanguage-link-target\" href=\"https://ta.wikipedia.org/wiki/%E0%AE%A4%E0%AE%B0%E0%AE%B5%E0%AF%81_%E0%AE%85%E0%AE%B1%E0%AE%BF%E0%AE%B5%E0%AE%BF%E0%AE%AF%E0%AE%B2%E0%AF%8D\" hreflang=\"ta\" lang=\"ta\" title=\"தரவு அறிவியல் – Tamil\"><span>தமிழ்</span></a></li><li class=\"interlanguage-link interwiki-th mw-list-item\"><a class=\"interlanguage-link-target\" href=\"https://th.wikipedia.org/wiki/%E0%B8%A7%E0%B8%B4%E0%B8%97%E0%B8%A2%E0%B8%B2%E0%B8%81%E0%B8%B2%E0%B8%A3%E0%B8%82%E0%B9%89%E0%B8%AD%E0%B8%A1%E0%B8%B9%E0%B8%A5\" hreflang=\"th\" lang=\"th\" title=\"วิทยาการข้อมูล – Thai\"><span>ไทย</span></a></li><li class=\"interlanguage-link interwiki-tr mw-list-item\"><a class=\"interlanguage-link-target\" href=\"https://tr.wikipedia.org/wiki/Veri_bilimi\" hreflang=\"tr\" lang=\"tr\" title=\"Veri bilimi – Turkish\"><span>Türkçe</span></a></li><li class=\"interlanguage-link interwiki-uk mw-list-item\"><a class=\"interlanguage-link-target\" href=\"https://uk.wikipedia.org/wiki/%D0%9D%D0%B0%D1%83%D0%BA%D0%B0_%D0%BF%D1%80%D0%BE_%D0%B4%D0%B0%D0%BD%D1%96\" hreflang=\"uk\" lang=\"uk\" title=\"Наука про дані – Ukrainian\"><span>Українська</span></a></li><li class=\"interlanguage-link interwiki-ur mw-list-item\"><a class=\"interlanguage-link-target\" href=\"https://ur.wikipedia.org/wiki/%DA%88%DB%8C%D9%B9%D8%A7_%D8%B3%D8%A7%D8%A6%D9%86%D8%B3\" hreflang=\"ur\" lang=\"ur\" title=\"ڈیٹا سائنس – Urdu\"><span>اردو</span></a></li><li class=\"interlanguage-link interwiki-vi mw-list-item\"><a class=\"interlanguage-link-target\" href=\"https://vi.wikipedia.org/wiki/Khoa_h%E1%BB%8Dc_d%E1%BB%AF_li%E1%BB%87u\" hreflang=\"vi\" lang=\"vi\" title=\"Khoa học dữ liệu – Vietnamese\"><span>Tiếng Việt</span></a></li><li class=\"interlanguage-link interwiki-zh-yue mw-list-item\"><a class=\"interlanguage-link-target\" href=\"https://zh-yue.wikipedia.org/wiki/%E6%95%B8%E6%93%9A%E7%A7%91%E5%AD%B8\" hreflang=\"yue\" lang=\"yue\" title=\"數據科學 – Cantonese\"><span>粵語</span></a></li><li class=\"interlanguage-link interwiki-zh mw-list-item\"><a class=\"interlanguage-link-target\" href=\"https://zh.wikipedia.org/wiki/%E6%95%B0%E6%8D%AE%E7%A7%91%E5%AD%A6\" hreflang=\"zh\" lang=\"zh\" title=\"数据科学 – Chinese\"><span>中文</span></a></li></ul>\n",
            "<div class=\"after-portlet after-portlet-lang\"><span class=\"wb-langlinks-edit wb-langlinks-link\"><a class=\"wbc-editpage\" href=\"https://www.wikidata.org/wiki/Special:EntityPage/Q2374463#sitelinks-wikipedia\" title=\"Edit interlanguage links\">Edit links</a></span></div>\n",
            "</div>\n",
            "</nav>\n",
            "</div>\n",
            "</div>\n",
            "<footer class=\"mw-footer\" id=\"footer\" role=\"contentinfo\">\n",
            "<ul id=\"footer-info\">\n",
            "<li id=\"footer-info-lastmod\"> This page was last edited on 7 November 2022, at 18:39<span class=\"anonymous-show\"> (UTC)</span>.</li>\n",
            "<li id=\"footer-info-copyright\">Text is available under the <a href=\"//en.wikipedia.org/wiki/Wikipedia:Text_of_Creative_Commons_Attribution-ShareAlike_3.0_Unported_License\" rel=\"license\">Creative Commons Attribution-ShareAlike License 3.0</a><a href=\"//creativecommons.org/licenses/by-sa/3.0/\" rel=\"license\" style=\"display:none;\"></a>;\n",
            "additional terms may apply.  By using this site, you agree to the <a href=\"//foundation.wikimedia.org/wiki/Terms_of_Use\">Terms of Use</a> and <a href=\"//foundation.wikimedia.org/wiki/Privacy_policy\">Privacy Policy</a>. Wikipedia® is a registered trademark of the <a href=\"//www.wikimediafoundation.org/\">Wikimedia Foundation, Inc.</a>, a non-profit organization.</li>\n",
            "</ul>\n",
            "<ul id=\"footer-places\">\n",
            "<li id=\"footer-places-privacy\"><a href=\"https://foundation.wikimedia.org/wiki/Privacy_policy\">Privacy policy</a></li>\n",
            "<li id=\"footer-places-about\"><a href=\"/wiki/Wikipedia:About\">About Wikipedia</a></li>\n",
            "<li id=\"footer-places-disclaimers\"><a href=\"/wiki/Wikipedia:General_disclaimer\">Disclaimers</a></li>\n",
            "<li id=\"footer-places-contact\"><a href=\"//en.wikipedia.org/wiki/Wikipedia:Contact_us\">Contact Wikipedia</a></li>\n",
            "<li id=\"footer-places-mobileview\"><a class=\"noprint stopMobileRedirectToggle\" href=\"//en.m.wikipedia.org/w/index.php?title=Data_science&amp;mobileaction=toggle_view_mobile\">Mobile view</a></li>\n",
            "<li id=\"footer-places-developers\"><a href=\"https://developer.wikimedia.org\">Developers</a></li>\n",
            "<li id=\"footer-places-statslink\"><a href=\"https://stats.wikimedia.org/#/en.wikipedia.org\">Statistics</a></li>\n",
            "<li id=\"footer-places-cookiestatement\"><a href=\"https://foundation.wikimedia.org/wiki/Cookie_statement\">Cookie statement</a></li>\n",
            "</ul>\n",
            "<ul class=\"noprint\" id=\"footer-icons\">\n",
            "<li id=\"footer-copyrightico\"><a href=\"https://wikimediafoundation.org/\"><img alt=\"Wikimedia Foundation\" height=\"31\" loading=\"lazy\" src=\"/static/images/footer/wikimedia-button.png\" srcset=\"/static/images/footer/wikimedia-button-1.5x.png 1.5x, /static/images/footer/wikimedia-button-2x.png 2x\" width=\"88\"/></a></li>\n",
            "<li id=\"footer-poweredbyico\"><a href=\"https://www.mediawiki.org/\"><img alt=\"Powered by MediaWiki\" height=\"31\" loading=\"lazy\" src=\"/static/images/footer/poweredby_mediawiki_88x31.png\" srcset=\"/static/images/footer/poweredby_mediawiki_132x47.png 1.5x, /static/images/footer/poweredby_mediawiki_176x62.png 2x\" width=\"88\"/></a></li>\n",
            "</ul>\n",
            "</footer>\n",
            "<script>(RLQ=window.RLQ||[]).push(function(){mw.config.set({\"wgPageParseReport\":{\"limitreport\":{\"cputime\":\"0.332\",\"walltime\":\"0.444\",\"ppvisitednodes\":{\"value\":1966,\"limit\":1000000},\"postexpandincludesize\":{\"value\":71860,\"limit\":2097152},\"templateargumentsize\":{\"value\":1033,\"limit\":2097152},\"expansiondepth\":{\"value\":12,\"limit\":100},\"expensivefunctioncount\":{\"value\":2,\"limit\":500},\"unstrip-depth\":{\"value\":1,\"limit\":20},\"unstrip-size\":{\"value\":111052,\"limit\":5000000},\"entityaccesscount\":{\"value\":0,\"limit\":400},\"timingprofile\":[\"100.00%  390.054      1 -total\",\" 57.77%  225.338      1 Template:Reflist\",\" 24.10%   94.020      8 Template:Cite_journal\",\" 17.91%   69.849      1 Template:Short_description\",\" 15.08%   58.832     18 Template:Cite_web\",\" 10.50%   40.954      1 Template:Data\",\"  9.90%   38.610      1 Template:Navbox\",\"  8.34%   32.512      2 Template:Pagetype\",\"  6.61%   25.765      4 Template:Main_other\",\"  6.11%   23.848      1 Template:Distinguish\"]},\"scribunto\":{\"limitreport-timeusage\":{\"value\":\"0.211\",\"limit\":\"10.000\"},\"limitreport-memusage\":{\"value\":6047886,\"limit\":52428800}},\"cachereport\":{\"origin\":\"mw2327\",\"timestamp\":\"20221107183952\",\"ttl\":1814400,\"transientcontent\":false}}});});</script>\n",
            "<script type=\"application/ld+json\">{\"@context\":\"https:\\/\\/schema.org\",\"@type\":\"Article\",\"name\":\"Data science\",\"url\":\"https:\\/\\/en.wikipedia.org\\/wiki\\/Data_science\",\"sameAs\":\"http:\\/\\/www.wikidata.org\\/entity\\/Q2374463\",\"mainEntity\":\"http:\\/\\/www.wikidata.org\\/entity\\/Q2374463\",\"author\":{\"@type\":\"Organization\",\"name\":\"Contributors to Wikimedia projects\"},\"publisher\":{\"@type\":\"Organization\",\"name\":\"Wikimedia Foundation, Inc.\",\"logo\":{\"@type\":\"ImageObject\",\"url\":\"https:\\/\\/www.wikimedia.org\\/static\\/images\\/wmf-hor-googpub.png\"}},\"datePublished\":\"2012-04-11T17:34:10Z\",\"dateModified\":\"2022-11-07T18:39:29Z\",\"image\":\"https:\\/\\/upload.wikimedia.org\\/wikipedia\\/commons\\/4\\/45\\/PIA23792-1600x1200%281%29.jpg\",\"headline\":\"interdisciplinary field of study focused on deriving knowledge and insights from data\"}</script><script type=\"application/ld+json\">{\"@context\":\"https:\\/\\/schema.org\",\"@type\":\"Article\",\"name\":\"Data science\",\"url\":\"https:\\/\\/en.wikipedia.org\\/wiki\\/Data_science\",\"sameAs\":\"http:\\/\\/www.wikidata.org\\/entity\\/Q2374463\",\"mainEntity\":\"http:\\/\\/www.wikidata.org\\/entity\\/Q2374463\",\"author\":{\"@type\":\"Organization\",\"name\":\"Contributors to Wikimedia projects\"},\"publisher\":{\"@type\":\"Organization\",\"name\":\"Wikimedia Foundation, Inc.\",\"logo\":{\"@type\":\"ImageObject\",\"url\":\"https:\\/\\/www.wikimedia.org\\/static\\/images\\/wmf-hor-googpub.png\"}},\"datePublished\":\"2012-04-11T17:34:10Z\",\"dateModified\":\"2022-11-07T18:39:29Z\",\"image\":\"https:\\/\\/upload.wikimedia.org\\/wikipedia\\/commons\\/4\\/45\\/PIA23792-1600x1200%281%29.jpg\",\"headline\":\"interdisciplinary field of study focused on deriving knowledge and insights from data\"}</script>\n",
            "<script>(RLQ=window.RLQ||[]).push(function(){mw.config.set({\"wgBackendResponseTime\":99,\"wgHostname\":\"mw2367\"});});</script>\n",
            "</body>\n",
            "</html>\n"
          ]
        }
      ]
    },
    {
      "cell_type": "code",
      "source": [
        "soup.prettify()"
      ],
      "metadata": {
        "colab": {
          "base_uri": "https://localhost:8080/",
          "height": 54
        },
        "id": "4BFDdiRza3bc",
        "outputId": "6798baa8-e208-41c1-b75f-7041c584923a"
      },
      "execution_count": null,
      "outputs": [
        {
          "output_type": "execute_result",
          "data": {
            "text/plain": [
              "'<html>\\n <body>\\n  <p>\\n   https://en.wikipedia.org/wiki/Data_science\\n  </p>\\n </body>\\n</html>'"
            ],
            "application/vnd.google.colaboratory.intrinsic+json": {
              "type": "string"
            }
          },
          "metadata": {},
          "execution_count": 54
        }
      ]
    },
    {
      "cell_type": "code",
      "source": [
        "from wordcloud import wordcloud\n"
      ],
      "metadata": {
        "id": "Fd0OGg6TbnGI"
      },
      "execution_count": null,
      "outputs": []
    },
    {
      "cell_type": "code",
      "source": [
        "def welcome():\n",
        "  print(\"Good Morning\")\n"
      ],
      "metadata": {
        "id": "9r3QeBCQEPvt"
      },
      "execution_count": null,
      "outputs": []
    },
    {
      "cell_type": "markdown",
      "source": [
        "Beautiful Soup is a Python library for pulling data out of HTML and XML files.\n",
        "#1.we have to set environment\n",
        "#i.e.installing request\n",
        "#installing html5lib\n",
        "#installing beautifulsoup\n",
        "For installing request - pip install request.\n",
        "\n",
        "For installing html5lib - pip install html5lib.\n",
        "\n",
        "For installing beautifulsoup - pip install beautifulsoup.\n",
        "\n",
        "Request help us to bring contains of any website from internet .It will not help in parsing.\n",
        "for parsing beautifulsoup is used.\n",
        "\n",
        "#2.Get the html\n",
        "#3.Parse the html\n",
        "#Commonly used types of objects:\n",
        "#1.Tag\n",
        "#2.NavigableString\n",
        "#3.BeautifulSoup\n",
        "#4.comment\n",
        "\n",
        "Beautiful soup return objects as beautifulsoup objects\n"
      ],
      "metadata": {
        "id": "tnp2Djdoa21e"
      }
    },
    {
      "cell_type": "code",
      "source": [],
      "metadata": {
        "id": "44sdS0QPdKq2"
      },
      "execution_count": null,
      "outputs": []
    },
    {
      "cell_type": "code",
      "source": [
        "import requests\n",
        "from bs4 import BeautifulSoup\n",
        "url=\"https://en.wikipedia.org/wiki/Data_science\"\n",
        "#2.Get the HTML\n",
        "content=requests.get(url)\n",
        "htmlContent=content.content\n",
        "print(htmlContent)\n",
        "#Parse the HTML\n",
        "soup=BeautifulSoup(htmlContent,'html.parser')\n",
        "print(soup)\n",
        "#print(soup.prettify)\n",
        "#3.HTML Tree traversal\n",
        "#Get the title\n",
        "title=soup.title\n",
        "#print(title)\n",
        "#print(type(title))#special type of object which is implemented by beautiful soup\n",
        "#print(type(title.string))#it give us string\n",
        "#Commonly used types of objects:\n",
        "#print(type(title))#1.Tag#special type of object which is implemented by beautiful soup\n",
        "#print(type(title.string))#2.NavigableString\n",
        "#print(type(soup))#3.BeautifulSoup\n",
        "#4.comment\n",
        "markup=\"<p><!---this is a comment---></p>\"\n",
        "soup2=BeautifulSoup(markup)\n",
        "#print(type(soup2.p.string))\n",
        "#exit()\n",
        "#Get all the paragraph from the page\n",
        "paras=soup.find_all('p')\n",
        "#print(paras)\n",
        "#get all the anchor tags from the page\n",
        "anchors=soup.find_all('a')\n",
        "#Get all the link on the page\n",
        "'''for link in anchors:\n",
        "    print(link.get('href'))\n",
        "print(anchors)'''\n",
        "#Get first element in the HTML page\n",
        "#print(soup.find('p'))\n",
        "#GET classes of any element in the html\n",
        "#print(soup.find('p')['class'])\n",
        "#find all the element with class lead\n",
        "#print(soup.find_all('p',class_=\"dark\"))\n",
        "#Get the text from the tags/soup\n",
        "#print(soup.find('p').get_text())\n",
        "#all_links=set()\n",
        "#for links in anchors:\n",
        " #   if(links.get('href')!='#'):\n",
        "  #      set.add(links.get('href'))\n",
        "   #     all_links.add(\"\"https://en.wikipedia.org/wiki/Data_science\"\"+link.get('href'))\n",
        "    #    print(\"\"https://en.wikipedia.org/wiki/Data_science\"\"+link.get('href'))\n",
        "        \n",
        "#navbarSupportedContent=soup.find(id='navbarSupportedContent')\n",
        "#print(navbarSupportedContent)\n",
        "#for elem in navbarSupportedContent.content:\n",
        "    #print(elem)\n",
        "#children-A tag's children are available as a generator\n",
        "#contents-A tag's children are available as a list\n",
        "#for item in navbarSupportedContent.string:\n",
        " #  print(item)\n",
        "#for item in navbarSupportedContent.stripped_string:\n",
        " #   print(item)\n",
        "#print(navbarSupportedContent.parent)\n",
        "#for item in navbarSupportedContent.parents:\n",
        " #   print(item.name)\n",
        "#print(navbarSupportedContent.previousSibling)\n",
        "#print(navbarSupportedContent.nextSibling)\n",
        "'''elem=soup.select('#loginmodal')\n",
        "print(elem)\n",
        "elem1=soup.select('#modal-footer')\n",
        "print(elem1)'''\n",
        "\n"
      ],
      "metadata": {
        "colab": {
          "base_uri": "https://localhost:8080/",
          "height": 1000
        },
        "id": "KVhubeB1B6Lb",
        "outputId": "6d318d87-32ac-4cef-b8f7-f600698f8579"
      },
      "execution_count": null,
      "outputs": [
        {
          "output_type": "stream",
          "name": "stdout",
          "text": [
            "b'<!DOCTYPE html>\\n<html class=\"client-nojs\" lang=\"en\" dir=\"ltr\">\\n<head>\\n<meta charset=\"UTF-8\"/>\\n<title>Data science - Wikipedia</title>\\n<script>document.documentElement.className=\"client-js\";RLCONF={\"wgBreakFrames\":false,\"wgSeparatorTransformTable\":[\"\",\"\"],\"wgDigitTransformTable\":[\"\",\"\"],\"wgDefaultDateFormat\":\"dmy\",\"wgMonthNames\":[\"\",\"January\",\"February\",\"March\",\"April\",\"May\",\"June\",\"July\",\"August\",\"September\",\"October\",\"November\",\"December\"],\"wgRequestId\":\"f5f77acf-03af-4d95-a382-1fc9a247708f\",\"wgCSPNonce\":false,\"wgCanonicalNamespace\":\"\",\"wgCanonicalSpecialPageName\":false,\"wgNamespaceNumber\":0,\"wgPageName\":\"Data_science\",\"wgTitle\":\"Data science\",\"wgCurRevisionId\":1130417671,\"wgRevisionId\":1130417671,\"wgArticleId\":35458904,\"wgIsArticle\":true,\"wgIsRedirect\":false,\"wgAction\":\"view\",\"wgUserName\":null,\"wgUserGroups\":[\"*\"],\"wgCategories\":[\"Articles with short description\",\"Short description matches Wikidata\",\"Use dmy dates from August 2021\",\"Information science\",\"Computer occupations\",\"Computational fields of study\",\"Data analysis\"],\"wgPageContentLanguage\":\"en\",\"wgPageContentModel\":\"wikitext\",\"wgRelevantPageName\":\"Data_science\",\\n\"wgRelevantArticleId\":35458904,\"wgIsProbablyEditable\":true,\"wgRelevantPageIsProbablyEditable\":true,\"wgRestrictionEdit\":[],\"wgRestrictionMove\":[],\"wgFlaggedRevsParams\":{\"tags\":{\"status\":{\"levels\":1}}},\"wgVisualEditor\":{\"pageLanguageCode\":\"en\",\"pageLanguageDir\":\"ltr\",\"pageVariantFallbacks\":\"en\"},\"wgMFDisplayWikibaseDescriptions\":{\"search\":true,\"watchlist\":true,\"tagline\":false,\"nearby\":true},\"wgWMESchemaEditAttemptStepOversample\":false,\"wgWMEPageLength\":20000,\"wgNoticeProject\":\"wikipedia\",\"wgVector2022PreviewPages\":[],\"wgMediaViewerOnClick\":true,\"wgMediaViewerEnabledByDefault\":true,\"wgPopupsFlags\":10,\"wgULSCurrentAutonym\":\"English\",\"wgEditSubmitButtonLabelPublish\":true,\"wgCentralAuthMobileDomain\":false,\"wgULSPosition\":\"interlanguage\",\"wgULSisCompactLinksEnabled\":true,\"wgWikibaseItemId\":\"Q2374463\",\"GEHomepageSuggestedEditsEnableTopics\":true,\"wgGETopicsMatchModeEnabled\":false,\"wgGEStructuredTaskRejectionReasonTextInputEnabled\":false};RLSTATE={\"ext.globalCssJs.user.styles\":\"ready\",\\n\"site.styles\":\"ready\",\"user.styles\":\"ready\",\"ext.globalCssJs.user\":\"ready\",\"user\":\"ready\",\"user.options\":\"loading\",\"ext.cite.styles\":\"ready\",\"skins.vector.styles.legacy\":\"ready\",\"jquery.makeCollapsible.styles\":\"ready\",\"ext.visualEditor.desktopArticleTarget.noscript\":\"ready\",\"ext.wikimediaBadges\":\"ready\",\"ext.uls.interlanguage\":\"ready\",\"wikibase.client.init\":\"ready\"};RLPAGEMODULES=[\"ext.cite.ux-enhancements\",\"site\",\"mediawiki.page.ready\",\"jquery.makeCollapsible\",\"mediawiki.toc\",\"skins.vector.legacy.js\",\"mmv.head\",\"mmv.bootstrap.autostart\",\"ext.visualEditor.desktopArticleTarget.init\",\"ext.visualEditor.targetLoader\",\"ext.eventLogging\",\"ext.wikimediaEvents\",\"ext.navigationTiming\",\"ext.cx.eventlogging.campaigns\",\"ext.centralNotice.geoIP\",\"ext.centralNotice.startUp\",\"ext.gadget.ReferenceTooltips\",\"ext.gadget.charinsert\",\"ext.gadget.extra-toolbar-buttons\",\"ext.gadget.switcher\",\"ext.centralauth.centralautologin\",\"ext.popups\",\"ext.echo.centralauth\",\"ext.uls.compactlinks\",\"ext.uls.interface\",\\n\"ext.growthExperiments.SuggestedEditSession\"];</script>\\n<script>(RLQ=window.RLQ||[]).push(function(){mw.loader.implement(\"user.options@12s5i\",function($,jQuery,require,module){mw.user.tokens.set({\"patrolToken\":\"+\\\\\\\\\",\"watchToken\":\"+\\\\\\\\\",\"csrfToken\":\"+\\\\\\\\\"});});});</script>\\n<link rel=\"stylesheet\" href=\"/w/load.php?lang=en&amp;modules=ext.cite.styles%7Cext.uls.interlanguage%7Cext.visualEditor.desktopArticleTarget.noscript%7Cext.wikimediaBadges%7Cjquery.makeCollapsible.styles%7Cskins.vector.styles.legacy%7Cwikibase.client.init&amp;only=styles&amp;skin=vector\"/>\\n<script async=\"\" src=\"/w/load.php?lang=en&amp;modules=startup&amp;only=scripts&amp;raw=1&amp;skin=vector\"></script>\\n<meta name=\"ResourceLoaderDynamicStyles\" content=\"\"/>\\n<link rel=\"stylesheet\" href=\"/w/load.php?lang=en&amp;modules=site.styles&amp;only=styles&amp;skin=vector\"/>\\n<meta name=\"generator\" content=\"MediaWiki 1.40.0-wmf.14\"/>\\n<meta name=\"referrer\" content=\"origin\"/>\\n<meta name=\"referrer\" content=\"origin-when-crossorigin\"/>\\n<meta name=\"referrer\" content=\"origin-when-cross-origin\"/>\\n<meta name=\"robots\" content=\"max-image-preview:standard\"/>\\n<meta name=\"format-detection\" content=\"telephone=no\"/>\\n<meta property=\"og:image\" content=\"https://upload.wikimedia.org/wikipedia/commons/thumb/4/45/PIA23792-1600x1200%281%29.jpg/1200px-PIA23792-1600x1200%281%29.jpg\"/>\\n<meta property=\"og:image:width\" content=\"1200\"/>\\n<meta property=\"og:image:height\" content=\"900\"/>\\n<meta property=\"og:image\" content=\"https://upload.wikimedia.org/wikipedia/commons/thumb/4/45/PIA23792-1600x1200%281%29.jpg/800px-PIA23792-1600x1200%281%29.jpg\"/>\\n<meta property=\"og:image:width\" content=\"800\"/>\\n<meta property=\"og:image:height\" content=\"600\"/>\\n<meta property=\"og:image\" content=\"https://upload.wikimedia.org/wikipedia/commons/thumb/4/45/PIA23792-1600x1200%281%29.jpg/640px-PIA23792-1600x1200%281%29.jpg\"/>\\n<meta property=\"og:image:width\" content=\"640\"/>\\n<meta property=\"og:image:height\" content=\"480\"/>\\n<meta name=\"viewport\" content=\"width=1000\"/>\\n<meta property=\"og:title\" content=\"Data science - Wikipedia\"/>\\n<meta property=\"og:type\" content=\"website\"/>\\n<link rel=\"preconnect\" href=\"//upload.wikimedia.org\"/>\\n<link rel=\"alternate\" media=\"only screen and (max-width: 720px)\" href=\"//en.m.wikipedia.org/wiki/Data_science\"/>\\n<link rel=\"alternate\" type=\"application/x-wiki\" title=\"Edit this page\" href=\"/w/index.php?title=Data_science&amp;action=edit\"/>\\n<link rel=\"apple-touch-icon\" href=\"/static/apple-touch/wikipedia.png\"/>\\n<link rel=\"icon\" href=\"/static/favicon/wikipedia.ico\"/>\\n<link rel=\"search\" type=\"application/opensearchdescription+xml\" href=\"/w/opensearch_desc.php\" title=\"Wikipedia (en)\"/>\\n<link rel=\"EditURI\" type=\"application/rsd+xml\" href=\"//en.wikipedia.org/w/api.php?action=rsd\"/>\\n<link rel=\"license\" href=\"https://creativecommons.org/licenses/by-sa/3.0/\"/>\\n<link rel=\"canonical\" href=\"https://en.wikipedia.org/wiki/Data_science\"/>\\n<link rel=\"dns-prefetch\" href=\"//meta.wikimedia.org\" />\\n<link rel=\"dns-prefetch\" href=\"//login.wikimedia.org\"/>\\n</head>\\n<body class=\"skin-vector-legacy mediawiki ltr sitedir-ltr mw-hide-empty-elt ns-0 ns-subject mw-editable page-Data_science rootpage-Data_science skin-vector action-view vector-feature-language-in-header-enabled vector-feature-language-in-main-page-header-disabled vector-feature-language-alert-in-sidebar-enabled vector-feature-sticky-header-disabled vector-feature-sticky-header-edit-disabled vector-feature-page-tools-disabled vector-feature-page-tools-pinned-disabled vector-feature-limited-width-enabled vector-feature-limited-width-content-enabled\"><div id=\"mw-page-base\" class=\"noprint\"></div>\\n<div id=\"mw-head-base\" class=\"noprint\"></div>\\n<div id=\"content\" class=\"mw-body\" role=\"main\">\\n\\t<a id=\"top\"></a>\\n\\t<div id=\"siteNotice\"><!-- CentralNotice --><!--esi <esi:include src=\"/esitest-fa8a495983347898/content\" /> --> </div>\\n\\t<div class=\"mw-indicators\">\\n\\t</div>\\n\\t<h1 id=\"firstHeading\" class=\"firstHeading mw-first-heading\"><span class=\"mw-page-title-main\">Data science</span></h1>\\n\\t<div id=\"bodyContent\" class=\"vector-body\">\\n\\t\\t<div id=\"siteSub\" class=\"noprint\">From Wikipedia, the free encyclopedia</div>\\n\\t\\t<div id=\"contentSub\"><div id=\"mw-content-subtitle\"></div></div>\\n\\t\\t<div id=\"contentSub2\"></div>\\n\\t\\t\\n\\t\\t<div id=\"jump-to-nav\"></div>\\n\\t\\t<a class=\"mw-jump-link\" href=\"#mw-head\">Jump to navigation</a>\\n\\t\\t<a class=\"mw-jump-link\" href=\"#searchInput\">Jump to search</a>\\n\\t\\t<div id=\"mw-content-text\" class=\"mw-body-content mw-content-ltr\" lang=\"en\" dir=\"ltr\"><div class=\"mw-parser-output\"><div class=\"shortdescription nomobile noexcerpt noprint searchaux\" style=\"display:none\">Interdisciplinary field of study focused on deriving knowledge and insights from data</div>\\n<style data-mw-deduplicate=\"TemplateStyles:r1033289096\">.mw-parser-output .hatnote{font-style:italic}.mw-parser-output div.hatnote{padding-left:1.6em;margin-bottom:0.5em}.mw-parser-output .hatnote i{font-style:normal}.mw-parser-output .hatnote+link+.hatnote{margin-top:-0.5em}</style><div role=\"note\" class=\"hatnote navigation-not-searchable\">Not to be confused with <a href=\"/wiki/Information_science\" title=\"Information science\">information science</a>.</div>\\n<p class=\"mw-empty-elt\">\\n</p>\\n<div class=\"thumb tright\"><div class=\"thumbinner\" style=\"width:222px;\"><a href=\"/wiki/File:PIA23792-1600x1200(1).jpg\" class=\"image\"><img alt=\"\" src=\"//upload.wikimedia.org/wikipedia/commons/thumb/4/45/PIA23792-1600x1200%281%29.jpg/220px-PIA23792-1600x1200%281%29.jpg\" decoding=\"async\" width=\"220\" height=\"165\" class=\"thumbimage\" srcset=\"//upload.wikimedia.org/wikipedia/commons/thumb/4/45/PIA23792-1600x1200%281%29.jpg/330px-PIA23792-1600x1200%281%29.jpg 1.5x, //upload.wikimedia.org/wikipedia/commons/thumb/4/45/PIA23792-1600x1200%281%29.jpg/440px-PIA23792-1600x1200%281%29.jpg 2x\" data-file-width=\"1600\" data-file-height=\"1200\" /></a>  <div class=\"thumbcaption\"><div class=\"magnify\"><a href=\"/wiki/File:PIA23792-1600x1200(1).jpg\" class=\"internal\" title=\"Enlarge\"></a></div>The existence of <a href=\"/wiki/Comet_NEOWISE\" title=\"Comet NEOWISE\">Comet NEOWISE</a> (here depicted as a series of red dots) was discovered by analyzing <a href=\"/wiki/Astronomical_survey\" title=\"Astronomical survey\">astronomical survey</a> data acquired by a <a href=\"/wiki/Space_telescope\" title=\"Space telescope\">space telescope</a>, the <a href=\"/wiki/Wide-field_Infrared_Survey_Explorer\" title=\"Wide-field Infrared Survey Explorer\">Wide-field Infrared Survey Explorer</a>.</div></div></div>\\n<p><b>Data science</b> is an <a href=\"/wiki/Interdisciplinary\" class=\"mw-redirect\" title=\"Interdisciplinary\">interdisciplinary</a> academic field <sup id=\"cite_ref-1\" class=\"reference\"><a href=\"#cite_note-1\">&#91;1&#93;</a></sup>\\nthat uses <a href=\"/wiki/Statistics\" title=\"Statistics\">statistics</a>, <a href=\"/wiki/Scientific_computing\" class=\"mw-redirect\" title=\"Scientific computing\">scientific computing</a>, <a href=\"/wiki/Scientific_method\" title=\"Scientific method\">scientific methods</a>, processes, <a href=\"/wiki/Algorithm\" title=\"Algorithm\">algorithms</a> and systems to extract or extrapolate <a href=\"/wiki/Knowledge\" title=\"Knowledge\">knowledge</a> and insights from noisy, structured and <a href=\"/wiki/Unstructured_data\" title=\"Unstructured data\">unstructured data</a>.<sup id=\"cite_ref-2\" class=\"reference\"><a href=\"#cite_note-2\">&#91;2&#93;</a></sup>\\n</p><p>Data science is a \"concept to unify <a href=\"/wiki/Statistics\" title=\"Statistics\">statistics</a>, <a href=\"/wiki/Data_analysis\" title=\"Data analysis\">data analysis</a>, <a href=\"/wiki/Informatics\" title=\"Informatics\">informatics</a>, and their related <a href=\"/wiki/Scientific_method\" title=\"Scientific method\">methods</a>\" in order to \"understand and analyse actual <a href=\"/wiki/Phenomena\" class=\"mw-redirect\" title=\"Phenomena\">phenomena</a>\" with <a href=\"/wiki/Data\" title=\"Data\">data</a>.<sup id=\"cite_ref-3\" class=\"reference\"><a href=\"#cite_note-3\">&#91;3&#93;</a></sup> It uses techniques and theories drawn from many fields within the context of <a href=\"/wiki/Mathematics\" title=\"Mathematics\">mathematics</a>, statistics, <a href=\"/wiki/Computer_science\" title=\"Computer science\">computer science</a>, <a href=\"/wiki/Information_science\" title=\"Information science\">information science</a>, and <a href=\"/wiki/Domain_knowledge\" title=\"Domain knowledge\">domain knowledge</a>.<sup id=\"cite_ref-:2_4-0\" class=\"reference\"><a href=\"#cite_note-:2-4\">&#91;4&#93;</a></sup> However, data science is different from <a href=\"/wiki/Computer_science\" title=\"Computer science\">computer science</a> and information science. <a href=\"/wiki/Turing_Award\" title=\"Turing Award\">Turing Award</a> winner <a href=\"/wiki/Jim_Gray_(computer_scientist)\" title=\"Jim Gray (computer scientist)\">Jim Gray</a> imagined data science as a \"fourth paradigm\" of science (<a href=\"/wiki/Empirical_research\" title=\"Empirical research\">empirical</a>, <a href=\"/wiki/Basic_research\" title=\"Basic research\">theoretical</a>, <a href=\"/wiki/Computational_science\" title=\"Computational science\">computational</a>, and now data-driven) and asserted that \"everything about science is changing because of the impact of <a href=\"/wiki/Information_technology\" title=\"Information technology\">information technology</a>\" and the <a href=\"/wiki/Information_explosion\" title=\"Information explosion\">data deluge</a>.<sup id=\"cite_ref-TansleyTolle2009_5-0\" class=\"reference\"><a href=\"#cite_note-TansleyTolle2009-5\">&#91;5&#93;</a></sup><sup id=\"cite_ref-BellHey2009_6-0\" class=\"reference\"><a href=\"#cite_note-BellHey2009-6\">&#91;6&#93;</a></sup>\\n</p><p>A <b>data scientist</b> is someone who creates programming code and combines it with statistical knowledge to create insights from data.<sup id=\"cite_ref-7\" class=\"reference\"><a href=\"#cite_note-7\">&#91;7&#93;</a></sup>\\n</p>\\n<div id=\"toc\" class=\"toc\" role=\"navigation\" aria-labelledby=\"mw-toc-heading\"><input type=\"checkbox\" role=\"button\" id=\"toctogglecheckbox\" class=\"toctogglecheckbox\" style=\"display:none\" /><div class=\"toctitle\" lang=\"en\" dir=\"ltr\"><h2 id=\"mw-toc-heading\">Contents</h2><span class=\"toctogglespan\"><label class=\"toctogglelabel\" for=\"toctogglecheckbox\"></label></span></div>\\n<ul>\\n<li class=\"toclevel-1 tocsection-1\"><a href=\"#Foundations\"><span class=\"tocnumber\">1</span> <span class=\"toctext\">Foundations</span></a>\\n<ul>\\n<li class=\"toclevel-2 tocsection-2\"><a href=\"#Relationship_to_statistics\"><span class=\"tocnumber\">1.1</span> <span class=\"toctext\">Relationship to statistics</span></a></li>\\n</ul>\\n</li>\\n<li class=\"toclevel-1 tocsection-3\"><a href=\"#Etymology\"><span class=\"tocnumber\">2</span> <span class=\"toctext\">Etymology</span></a>\\n<ul>\\n<li class=\"toclevel-2 tocsection-4\"><a href=\"#Early_usage\"><span class=\"tocnumber\">2.1</span> <span class=\"toctext\">Early usage</span></a></li>\\n<li class=\"toclevel-2 tocsection-5\"><a href=\"#Modern_usage\"><span class=\"tocnumber\">2.2</span> <span class=\"toctext\">Modern usage</span></a></li>\\n</ul>\\n</li>\\n<li class=\"toclevel-1 tocsection-6\"><a href=\"#See_also\"><span class=\"tocnumber\">3</span> <span class=\"toctext\">See also</span></a></li>\\n<li class=\"toclevel-1 tocsection-7\"><a href=\"#References\"><span class=\"tocnumber\">4</span> <span class=\"toctext\">References</span></a></li>\\n</ul>\\n</div>\\n\\n<h2><span class=\"mw-headline\" id=\"Foundations\">Foundations</span><span class=\"mw-editsection\"><span class=\"mw-editsection-bracket\">[</span><a href=\"/w/index.php?title=Data_science&amp;action=edit&amp;section=1\" title=\"Edit section: Foundations\">edit</a><span class=\"mw-editsection-bracket\">]</span></span></h2>\\n<p>Data science is an <a href=\"/wiki/Interdisciplinarity\" title=\"Interdisciplinarity\">interdisciplinary</a> <a href=\"/wiki/Academic_discipline\" title=\"Academic discipline\">field</a><sup id=\"cite_ref-8\" class=\"reference\"><a href=\"#cite_note-8\">&#91;8&#93;</a></sup> focused on extracting knowledge from typically <a href=\"/wiki/Big_data\" title=\"Big data\">large</a> <a href=\"/wiki/Data_set\" title=\"Data set\">data sets</a> and applying the knowledge and insights from that data to <a href=\"/wiki/Problem_solving\" title=\"Problem solving\">solve problems</a> in a wide range of application domains.<sup id=\"cite_ref-9\" class=\"reference\"><a href=\"#cite_note-9\">&#91;9&#93;</a></sup> The field encompasses preparing data for analysis, formulating data science problems, <a href=\"/wiki/Analysis\" title=\"Analysis\">analyzing</a> data, developing data-driven solutions, and presenting findings to inform high-level decisions in a broad range of application domains. As such, it incorporates skills from computer science, statistics, information science, mathematics, <a href=\"/wiki/Data_visualization\" class=\"mw-redirect\" title=\"Data visualization\">data visualization</a>, <a href=\"/wiki/Information_visualization\" class=\"mw-redirect\" title=\"Information visualization\">information visualization</a>, <a href=\"/wiki/Data_sonification\" title=\"Data sonification\">data sonification</a>, data <a href=\"/wiki/Data_integration\" title=\"Data integration\">integration</a>, <a href=\"/wiki/Graphic_design\" title=\"Graphic design\">graphic design</a>, <a href=\"/wiki/Complex_systems\" class=\"mw-redirect\" title=\"Complex systems\">complex systems</a>, <a href=\"/wiki/Communication\" title=\"Communication\">communication</a> and <a href=\"/wiki/Business\" title=\"Business\">business</a>.<sup id=\"cite_ref-10\" class=\"reference\"><a href=\"#cite_note-10\">&#91;10&#93;</a></sup><sup id=\"cite_ref-11\" class=\"reference\"><a href=\"#cite_note-11\">&#91;11&#93;</a></sup> Statistician <a href=\"/wiki/Nathan_Yau\" title=\"Nathan Yau\">Nathan Yau</a>, drawing on <a href=\"/wiki/Ben_Fry\" title=\"Ben Fry\">Ben Fry</a>, also links data science to <a href=\"/wiki/Human%E2%80%93computer_interaction\" title=\"Human\\xe2\\x80\\x93computer interaction\">human\\xe2\\x80\\x93computer interaction</a>: users should be able to intuitively control and <a href=\"/wiki/Exploration\" title=\"Exploration\">explore</a> data.<sup id=\"cite_ref-12\" class=\"reference\"><a href=\"#cite_note-12\">&#91;12&#93;</a></sup><sup id=\"cite_ref-13\" class=\"reference\"><a href=\"#cite_note-13\">&#91;13&#93;</a></sup> In 2015, the <a href=\"/wiki/American_Statistical_Association\" title=\"American Statistical Association\">American Statistical Association</a> identified <a href=\"/wiki/Database\" title=\"Database\">database</a> management, statistics and <a href=\"/wiki/Machine_learning\" title=\"Machine learning\">machine learning</a>, and <a href=\"/wiki/Distributed_computing\" title=\"Distributed computing\">distributed and parallel systems</a> as the three emerging foundational professional communities.<sup id=\"cite_ref-14\" class=\"reference\"><a href=\"#cite_note-14\">&#91;14&#93;</a></sup>\\n</p>\\n<h3><span class=\"mw-headline\" id=\"Relationship_to_statistics\">Relationship to statistics</span><span class=\"mw-editsection\"><span class=\"mw-editsection-bracket\">[</span><a href=\"/w/index.php?title=Data_science&amp;action=edit&amp;section=2\" title=\"Edit section: Relationship to statistics\">edit</a><span class=\"mw-editsection-bracket\">]</span></span></h3>\\n<p>Many statisticians, including <a href=\"/wiki/Nate_Silver\" title=\"Nate Silver\">Nate Silver</a>, have argued that data science is not a new field, but rather another name for statistics.<sup id=\"cite_ref-15\" class=\"reference\"><a href=\"#cite_note-15\">&#91;15&#93;</a></sup> Others argue that data science is distinct from statistics because it focuses on problems and techniques unique to digital data.<sup id=\"cite_ref-16\" class=\"reference\"><a href=\"#cite_note-16\">&#91;16&#93;</a></sup> <a href=\"/wiki/Vasant_Dhar\" title=\"Vasant Dhar\">Vasant Dhar</a> writes that statistics emphasizes quantitative data and description. In contrast, data science deals with quantitative and qualitative data (e.g. from images, text, sensors, transactions or customer information, etc) and emphasizes prediction and action.<sup id=\"cite_ref-17\" class=\"reference\"><a href=\"#cite_note-17\">&#91;17&#93;</a></sup> <a href=\"/wiki/Andrew_Gelman\" title=\"Andrew Gelman\">Andrew Gelman</a> of <a href=\"/wiki/Columbia_University\" title=\"Columbia University\">Columbia University</a> has described statistics as a nonessential part of data science.<sup id=\"cite_ref-18\" class=\"reference\"><a href=\"#cite_note-18\">&#91;18&#93;</a></sup>\\n</p><p>Stanford professor <a href=\"/wiki/David_Donoho\" title=\"David Donoho\">David Donoho</a> writes that data science is not distinguished from statistics by the size of datasets or use of computing and that many graduate programs misleadingly advertise their analytics and statistics training as the essence of a data-science program. He describes data science as an applied field growing out of traditional statistics.<sup id=\"cite_ref-:7_19-0\" class=\"reference\"><a href=\"#cite_note-:7-19\">&#91;19&#93;</a></sup>\\n</p>\\n<h2><span class=\"mw-headline\" id=\"Etymology\">Etymology</span><span class=\"mw-editsection\"><span class=\"mw-editsection-bracket\">[</span><a href=\"/w/index.php?title=Data_science&amp;action=edit&amp;section=3\" title=\"Edit section: Etymology\">edit</a><span class=\"mw-editsection-bracket\">]</span></span></h2>\\n<h3><span class=\"mw-headline\" id=\"Early_usage\">Early usage</span><span class=\"mw-editsection\"><span class=\"mw-editsection-bracket\">[</span><a href=\"/w/index.php?title=Data_science&amp;action=edit&amp;section=4\" title=\"Edit section: Early usage\">edit</a><span class=\"mw-editsection-bracket\">]</span></span></h3>\\n<p>In 1962, <a href=\"/wiki/John_Tukey\" title=\"John Tukey\">John Tukey</a> described a field he called \"data analysis\", which resembles modern data science.<sup id=\"cite_ref-:7_19-1\" class=\"reference\"><a href=\"#cite_note-:7-19\">&#91;19&#93;</a></sup> In 1985, in a lecture given to the Chinese Academy of Sciences in Beijing, <a href=\"/wiki/C._F._Jeff_Wu\" title=\"C. F. Jeff Wu\">C.&#160;F. Jeff Wu</a> used the term \"data science\" for the first time as an alternative name for statistics.<sup id=\"cite_ref-20\" class=\"reference\"><a href=\"#cite_note-20\">&#91;20&#93;</a></sup> Later, attendees at a 1992 statistics symposium at the <a href=\"/wiki/Montpellier_2_University\" title=\"Montpellier 2 University\">University of Montpellier&#160;II</a> acknowledged the emergence of a new discipline focused on data of various origins and forms, combining established concepts and principles of statistics and data analysis with computing.<sup id=\"cite_ref-21\" class=\"reference\"><a href=\"#cite_note-21\">&#91;21&#93;</a></sup><sup id=\"cite_ref-Murtagh_2018_14_22-0\" class=\"reference\"><a href=\"#cite_note-Murtagh_2018_14-22\">&#91;22&#93;</a></sup>\\n</p><p>The term \"data science\" has been traced back to 1974, when <a href=\"/wiki/Peter_Naur\" title=\"Peter Naur\">Peter Naur</a> proposed it as an alternative name for computer science.<sup id=\"cite_ref-:2_4-1\" class=\"reference\"><a href=\"#cite_note-:2-4\">&#91;4&#93;</a></sup> In 1996, the International Federation of Classification Societies became the first conference to specifically feature data science as a topic.<sup id=\"cite_ref-:2_4-2\" class=\"reference\"><a href=\"#cite_note-:2-4\">&#91;4&#93;</a></sup> However, the definition was still in flux. After the 1985 lecture at the Chinese Academy of Sciences in Beijing, in 1997 <a href=\"/wiki/C._F._Jeff_Wu\" title=\"C. F. Jeff Wu\">C.&#160;F. Jeff Wu</a> again suggested that statistics should be renamed data science. He reasoned that a new name would help statistics shed inaccurate stereotypes, such as being synonymous with accounting or limited to describing data.<sup id=\"cite_ref-23\" class=\"reference\"><a href=\"#cite_note-23\">&#91;23&#93;</a></sup> In 1998, Hayashi Chikio argued for data science as a new, interdisciplinary concept, with three aspects: data design, collection, and analysis.<sup id=\"cite_ref-Murtagh_2018_14_22-1\" class=\"reference\"><a href=\"#cite_note-Murtagh_2018_14-22\">&#91;22&#93;</a></sup>\\n</p><p>During the 1990s, popular terms for the process of finding patterns in datasets (which were increasingly large) included \"knowledge discovery\" and \"<a href=\"/wiki/Data_mining\" title=\"Data mining\">data mining</a>\".<sup id=\"cite_ref-:2_4-3\" class=\"reference\"><a href=\"#cite_note-:2-4\">&#91;4&#93;</a></sup><sup id=\"cite_ref-:1_24-0\" class=\"reference\"><a href=\"#cite_note-:1-24\">&#91;24&#93;</a></sup>\\n</p>\\n<h3><span class=\"mw-headline\" id=\"Modern_usage\">Modern usage</span><span class=\"mw-editsection\"><span class=\"mw-editsection-bracket\">[</span><a href=\"/w/index.php?title=Data_science&amp;action=edit&amp;section=5\" title=\"Edit section: Modern usage\">edit</a><span class=\"mw-editsection-bracket\">]</span></span></h3>\\n<p>In 2012, technologists <a href=\"/wiki/Thomas_H._Davenport\" title=\"Thomas H. Davenport\">Thomas H. Davenport</a> and <a href=\"/wiki/DJ_Patil\" title=\"DJ Patil\">DJ Patil</a> declared \"Data Scientist: The Sexiest Job of the 21st Century\",<sup id=\"cite_ref-25\" class=\"reference\"><a href=\"#cite_note-25\">&#91;25&#93;</a></sup> a catch-phrase that was picked up even by major-city newspapers like the <a href=\"/wiki/New_York_Times\" class=\"mw-redirect\" title=\"New York Times\">New York Times</a><sup id=\"cite_ref-26\" class=\"reference\"><a href=\"#cite_note-26\">&#91;26&#93;</a></sup> and the <a href=\"/wiki/Boston_Globe\" class=\"mw-redirect\" title=\"Boston Globe\">Boston Globe</a>.<sup id=\"cite_ref-27\" class=\"reference\"><a href=\"#cite_note-27\">&#91;27&#93;</a></sup> A decade later, they reaffirmed it, stating \"the job is more in demand than ever with employers\".<sup id=\"cite_ref-28\" class=\"reference\"><a href=\"#cite_note-28\">&#91;28&#93;</a></sup>\\n</p><p>The modern conception of data science as an independent discipline is sometimes attributed to <a href=\"/wiki/William_S._Cleveland\" title=\"William S. Cleveland\">William S. Cleveland</a>.<sup id=\"cite_ref-29\" class=\"reference\"><a href=\"#cite_note-29\">&#91;29&#93;</a></sup> In a 2001 paper, he advocated an expansion of statistics beyond theory into technical areas; because this would significantly change the field, it warranted a new name.<sup id=\"cite_ref-:1_24-1\" class=\"reference\"><a href=\"#cite_note-:1-24\">&#91;24&#93;</a></sup> \"Data science\" became more widely used in the next few years: in 2002, the <a href=\"/wiki/Committee_on_Data_for_Science_and_Technology\" class=\"mw-redirect\" title=\"Committee on Data for Science and Technology\">Committee on Data for Science and Technology</a> launched <i>Data Science Journal</i>. In 2003, Columbia University launched <i>The Journal of Data Science</i>.<sup id=\"cite_ref-:1_24-2\" class=\"reference\"><a href=\"#cite_note-:1-24\">&#91;24&#93;</a></sup> In 2014, the <a href=\"/wiki/American_Statistical_Association\" title=\"American Statistical Association\">American Statistical Association</a>\\'s Section on Statistical Learning and Data Mining changed its name to the Section on Statistical Learning and Data Science, reflecting the ascendant popularity of data science.<sup id=\"cite_ref-30\" class=\"reference\"><a href=\"#cite_note-30\">&#91;30&#93;</a></sup>\\n</p><p>The professional title of \"data scientist\" has been attributed to <a href=\"/wiki/DJ_Patil\" title=\"DJ Patil\">DJ Patil</a> and <a href=\"/wiki/Jeff_Hammerbacher\" title=\"Jeff Hammerbacher\">Jeff Hammerbacher</a> in 2008.<sup id=\"cite_ref-31\" class=\"reference\"><a href=\"#cite_note-31\">&#91;31&#93;</a></sup> Though it was used by the <a href=\"/wiki/National_Science_Board\" title=\"National Science Board\">National Science Board</a> in their 2005 report \"Long-Lived Digital Data Collections: Enabling Research and Education in the 21st Century\", it referred broadly to any key role in managing a digital data collection.<sup id=\"cite_ref-32\" class=\"reference\"><a href=\"#cite_note-32\">&#91;32&#93;</a></sup>\\n</p><p>There is still no consensus on the definition of data science, and it is considered by some to be a <a href=\"/wiki/Buzzword\" title=\"Buzzword\">buzzword</a>.<sup id=\"cite_ref-33\" class=\"reference\"><a href=\"#cite_note-33\">&#91;33&#93;</a></sup> <a href=\"/wiki/Big_data\" title=\"Big data\">Big data</a> is a related marketing term.<sup id=\"cite_ref-:5_34-0\" class=\"reference\"><a href=\"#cite_note-:5-34\">&#91;34&#93;</a></sup> Data scientists are responsible for breaking down big data into usable information and creating software and algorithms that help companies and organizations determine optimal operations.<sup id=\"cite_ref-:6_35-0\" class=\"reference\"><a href=\"#cite_note-:6-35\">&#91;35&#93;</a></sup>\\n</p>\\n<h2><span class=\"mw-headline\" id=\"See_also\">See also</span><span class=\"mw-editsection\"><span class=\"mw-editsection-bracket\">[</span><a href=\"/w/index.php?title=Data_science&amp;action=edit&amp;section=6\" title=\"Edit section: See also\">edit</a><span class=\"mw-editsection-bracket\">]</span></span></h2>\\n<ul><li><a href=\"/wiki/ODSC\" title=\"ODSC\">Open Data Science Conference</a></li>\\n<li><a href=\"/wiki/Scientific_Data_(journal)\" title=\"Scientific Data (journal)\">Scientific Data</a></li>\\n<li><a href=\"/wiki/Women_in_Data\" title=\"Women in Data\">Women in Data</a></li></ul>\\n<h2><span class=\"mw-headline\" id=\"References\">References</span><span class=\"mw-editsection\"><span class=\"mw-editsection-bracket\">[</span><a href=\"/w/index.php?title=Data_science&amp;action=edit&amp;section=7\" title=\"Edit section: References\">edit</a><span class=\"mw-editsection-bracket\">]</span></span></h2>\\n<style data-mw-deduplicate=\"TemplateStyles:r1011085734\">.mw-parser-output .reflist{font-size:90%;margin-bottom:0.5em;list-style-type:decimal}.mw-parser-output .reflist .references{font-size:100%;margin-bottom:0;list-style-type:inherit}.mw-parser-output .reflist-columns-2{column-width:30em}.mw-parser-output .reflist-columns-3{column-width:25em}.mw-parser-output .reflist-columns{margin-top:0.3em}.mw-parser-output .reflist-columns ol{margin-top:0}.mw-parser-output .reflist-columns li{page-break-inside:avoid;break-inside:avoid-column}.mw-parser-output .reflist-upper-alpha{list-style-type:upper-alpha}.mw-parser-output .reflist-upper-roman{list-style-type:upper-roman}.mw-parser-output .reflist-lower-alpha{list-style-type:lower-alpha}.mw-parser-output .reflist-lower-greek{list-style-type:lower-greek}.mw-parser-output .reflist-lower-roman{list-style-type:lower-roman}</style><div class=\"reflist reflist-columns references-column-width\" style=\"column-width: 30em;\">\\n<ol class=\"references\">\\n<li id=\"cite_note-1\"><span class=\"mw-cite-backlink\"><b><a href=\"#cite_ref-1\">^</a></b></span> <span class=\"reference-text\"><style data-mw-deduplicate=\"TemplateStyles:r1067248974\">.mw-parser-output cite.citation{font-style:inherit;word-wrap:break-word}.mw-parser-output .citation q{quotes:\"\\\\\"\"\"\\\\\"\"\"\\'\"\"\\'\"}.mw-parser-output .citation:target{background-color:rgba(0,127,255,0.133)}.mw-parser-output .id-lock-free a,.mw-parser-output .citation .cs1-lock-free a{background:linear-gradient(transparent,transparent),url(\"//upload.wikimedia.org/wikipedia/commons/6/65/Lock-green.svg\")right 0.1em center/9px no-repeat}.mw-parser-output .id-lock-limited a,.mw-parser-output .id-lock-registration a,.mw-parser-output .citation .cs1-lock-limited a,.mw-parser-output .citation .cs1-lock-registration a{background:linear-gradient(transparent,transparent),url(\"//upload.wikimedia.org/wikipedia/commons/d/d6/Lock-gray-alt-2.svg\")right 0.1em center/9px no-repeat}.mw-parser-output .id-lock-subscription a,.mw-parser-output .citation .cs1-lock-subscription a{background:linear-gradient(transparent,transparent),url(\"//upload.wikimedia.org/wikipedia/commons/a/aa/Lock-red-alt-2.svg\")right 0.1em center/9px no-repeat}.mw-parser-output .cs1-ws-icon a{background:linear-gradient(transparent,transparent),url(\"//upload.wikimedia.org/wikipedia/commons/4/4c/Wikisource-logo.svg\")right 0.1em center/12px no-repeat}.mw-parser-output .cs1-code{color:inherit;background:inherit;border:none;padding:inherit}.mw-parser-output .cs1-hidden-error{display:none;color:#d33}.mw-parser-output .cs1-visible-error{color:#d33}.mw-parser-output .cs1-maint{display:none;color:#3a3;margin-left:0.3em}.mw-parser-output .cs1-format{font-size:95%}.mw-parser-output .cs1-kern-left{padding-left:0.2em}.mw-parser-output .cs1-kern-right{padding-right:0.2em}.mw-parser-output .citation .mw-selflink{font-weight:inherit}</style><cite id=\"CITEREFDonoho\" class=\"citation journal cs1\">Donoho, David. <a rel=\"nofollow\" class=\"external text\" href=\"https://www.tandfonline.com/doi/full/10.1080/10618600.2017.1384734\">\"50 Years of Data Science\"</a>. <i>Journal of Computational and Graphical Statistics</i>. <a href=\"/wiki/Doi_(identifier)\" class=\"mw-redirect\" title=\"Doi (identifier)\">doi</a>:<a rel=\"nofollow\" class=\"external text\" href=\"https://doi.org/10.1080%2F10618600.2017.1384734\">10.1080/10618600.2017.1384734</a>.</cite><span title=\"ctx_ver=Z39.88-2004&amp;rft_val_fmt=info%3Aofi%2Ffmt%3Akev%3Amtx%3Ajournal&amp;rft.genre=article&amp;rft.jtitle=Journal+of+Computational+and+Graphical+Statistics&amp;rft.atitle=50+Years+of+Data+Science&amp;rft_id=info%3Adoi%2F10.1080%2F10618600.2017.1384734&amp;rft.aulast=Donoho&amp;rft.aufirst=David&amp;rft_id=https%3A%2F%2Fwww.tandfonline.com%2Fdoi%2Ffull%2F10.1080%2F10618600.2017.1384734&amp;rfr_id=info%3Asid%2Fen.wikipedia.org%3AData+science\" class=\"Z3988\"></span></span>\\n</li>\\n<li id=\"cite_note-2\"><span class=\"mw-cite-backlink\"><b><a href=\"#cite_ref-2\">^</a></b></span> <span class=\"reference-text\"><link rel=\"mw-deduplicated-inline-style\" href=\"mw-data:TemplateStyles:r1067248974\"/><cite id=\"CITEREFDhar2013\" class=\"citation journal cs1\">Dhar, V. (2013). <a rel=\"nofollow\" class=\"external text\" href=\"http://cacm.acm.org/magazines/2013/12/169933-data-science-and-prediction/fulltext\">\"Data science and prediction\"</a>. <i>Communications of the ACM</i>. <b>56</b> (12): 64\\xe2\\x80\\x9373. <a href=\"/wiki/Doi_(identifier)\" class=\"mw-redirect\" title=\"Doi (identifier)\">doi</a>:<a rel=\"nofollow\" class=\"external text\" href=\"https://doi.org/10.1145%2F2500499\">10.1145/2500499</a>. <a href=\"/wiki/S2CID_(identifier)\" class=\"mw-redirect\" title=\"S2CID (identifier)\">S2CID</a>&#160;<a rel=\"nofollow\" class=\"external text\" href=\"https://api.semanticscholar.org/CorpusID:6107147\">6107147</a>. <a rel=\"nofollow\" class=\"external text\" href=\"https://web.archive.org/web/20141109113411/http://cacm.acm.org/magazines/2013/12/169933-data-science-and-prediction/fulltext\">Archived</a> from the original on 9 November 2014<span class=\"reference-accessdate\">. Retrieved <span class=\"nowrap\">2 September</span> 2015</span>.</cite><span title=\"ctx_ver=Z39.88-2004&amp;rft_val_fmt=info%3Aofi%2Ffmt%3Akev%3Amtx%3Ajournal&amp;rft.genre=article&amp;rft.jtitle=Communications+of+the+ACM&amp;rft.atitle=Data+science+and+prediction&amp;rft.volume=56&amp;rft.issue=12&amp;rft.pages=64-73&amp;rft.date=2013&amp;rft_id=info%3Adoi%2F10.1145%2F2500499&amp;rft_id=https%3A%2F%2Fapi.semanticscholar.org%2FCorpusID%3A6107147%23id-name%3DS2CID&amp;rft.aulast=Dhar&amp;rft.aufirst=V.&amp;rft_id=http%3A%2F%2Fcacm.acm.org%2Fmagazines%2F2013%2F12%2F169933-data-science-and-prediction%2Ffulltext&amp;rfr_id=info%3Asid%2Fen.wikipedia.org%3AData+science\" class=\"Z3988\"></span></span>\\n</li>\\n<li id=\"cite_note-3\"><span class=\"mw-cite-backlink\"><b><a href=\"#cite_ref-3\">^</a></b></span> <span class=\"reference-text\"><link rel=\"mw-deduplicated-inline-style\" href=\"mw-data:TemplateStyles:r1067248974\"/><cite id=\"CITEREFHayashi1998\" class=\"citation book cs1\">Hayashi, Chikio (1 January 1998). <a rel=\"nofollow\" class=\"external text\" href=\"https://www.springer.com/book/9784431702085\">\"What is Data Science? Fundamental Concepts and a Heuristic Example\"</a>.  In Hayashi, Chikio; Yajima, Keiji; Bock, Hans-Hermann; Ohsumi, Noboru; Tanaka, Yutaka; Baba, Yasumasa (eds.). <i>Data Science, Classification, and Related Methods</i>. Studies in Classification, Data Analysis, and Knowledge Organization. Springer Japan. pp.&#160;40\\xe2\\x80\\x9351. <a href=\"/wiki/Doi_(identifier)\" class=\"mw-redirect\" title=\"Doi (identifier)\">doi</a>:<a rel=\"nofollow\" class=\"external text\" href=\"https://doi.org/10.1007%2F978-4-431-65950-1_3\">10.1007/978-4-431-65950-1_3</a>. <a href=\"/wiki/ISBN_(identifier)\" class=\"mw-redirect\" title=\"ISBN (identifier)\">ISBN</a>&#160;<a href=\"/wiki/Special:BookSources/9784431702085\" title=\"Special:BookSources/9784431702085\"><bdi>9784431702085</bdi></a>.</cite><span title=\"ctx_ver=Z39.88-2004&amp;rft_val_fmt=info%3Aofi%2Ffmt%3Akev%3Amtx%3Abook&amp;rft.genre=bookitem&amp;rft.atitle=What+is+Data+Science%3F+Fundamental+Concepts+and+a+Heuristic+Example&amp;rft.btitle=Data+Science%2C+Classification%2C+and+Related+Methods&amp;rft.series=Studies+in+Classification%2C+Data+Analysis%2C+and+Knowledge+Organization&amp;rft.pages=40-51&amp;rft.pub=Springer+Japan&amp;rft.date=1998-01-01&amp;rft_id=info%3Adoi%2F10.1007%2F978-4-431-65950-1_3&amp;rft.isbn=9784431702085&amp;rft.aulast=Hayashi&amp;rft.aufirst=Chikio&amp;rft_id=https%3A%2F%2Fwww.springer.com%2Fbook%2F9784431702085&amp;rfr_id=info%3Asid%2Fen.wikipedia.org%3AData+science\" class=\"Z3988\"></span></span>\\n</li>\\n<li id=\"cite_note-:2-4\"><span class=\"mw-cite-backlink\">^ <a href=\"#cite_ref-:2_4-0\"><sup><i><b>a</b></i></sup></a> <a href=\"#cite_ref-:2_4-1\"><sup><i><b>b</b></i></sup></a> <a href=\"#cite_ref-:2_4-2\"><sup><i><b>c</b></i></sup></a> <a href=\"#cite_ref-:2_4-3\"><sup><i><b>d</b></i></sup></a></span> <span class=\"reference-text\"><link rel=\"mw-deduplicated-inline-style\" href=\"mw-data:TemplateStyles:r1067248974\"/><cite id=\"CITEREFCao2017\" class=\"citation journal cs1\">Cao, Longbing (29 June 2017). \"Data Science: A Comprehensive Overview\". <i>ACM Computing Surveys</i>. <b>50</b> (3): 43:1\\xe2\\x80\\x9343:42. <a href=\"/wiki/Doi_(identifier)\" class=\"mw-redirect\" title=\"Doi (identifier)\">doi</a>:<a rel=\"nofollow\" class=\"external text\" href=\"https://doi.org/10.1145%2F3076253\">10.1145/3076253</a>. <a href=\"/wiki/ISSN_(identifier)\" class=\"mw-redirect\" title=\"ISSN (identifier)\">ISSN</a>&#160;<a rel=\"nofollow\" class=\"external text\" href=\"//www.worldcat.org/issn/0360-0300\">0360-0300</a>. <a href=\"/wiki/S2CID_(identifier)\" class=\"mw-redirect\" title=\"S2CID (identifier)\">S2CID</a>&#160;<a rel=\"nofollow\" class=\"external text\" href=\"https://api.semanticscholar.org/CorpusID:207595944\">207595944</a>.</cite><span title=\"ctx_ver=Z39.88-2004&amp;rft_val_fmt=info%3Aofi%2Ffmt%3Akev%3Amtx%3Ajournal&amp;rft.genre=article&amp;rft.jtitle=ACM+Computing+Surveys&amp;rft.atitle=Data+Science%3A+A+Comprehensive+Overview&amp;rft.volume=50&amp;rft.issue=3&amp;rft.pages=43%3A1-43%3A42&amp;rft.date=2017-06-29&amp;rft_id=https%3A%2F%2Fapi.semanticscholar.org%2FCorpusID%3A207595944%23id-name%3DS2CID&amp;rft.issn=0360-0300&amp;rft_id=info%3Adoi%2F10.1145%2F3076253&amp;rft.aulast=Cao&amp;rft.aufirst=Longbing&amp;rfr_id=info%3Asid%2Fen.wikipedia.org%3AData+science\" class=\"Z3988\"></span></span>\\n</li>\\n<li id=\"cite_note-TansleyTolle2009-5\"><span class=\"mw-cite-backlink\"><b><a href=\"#cite_ref-TansleyTolle2009_5-0\">^</a></b></span> <span class=\"reference-text\"><link rel=\"mw-deduplicated-inline-style\" href=\"mw-data:TemplateStyles:r1067248974\"/><cite id=\"CITEREFTony_HeyStewart_TansleyKristin_Michele_Tolle2009\" class=\"citation book cs1\">Tony Hey; Stewart Tansley; Kristin Michele Tolle (2009). <a rel=\"nofollow\" class=\"external text\" href=\"https://books.google.com/books?id=oGs_AQAAIAAJ\"><i>The Fourth Paradigm: Data-intensive Scientific Discovery</i></a>. Microsoft Research. <a href=\"/wiki/ISBN_(identifier)\" class=\"mw-redirect\" title=\"ISBN (identifier)\">ISBN</a>&#160;<a href=\"/wiki/Special:BookSources/978-0-9825442-0-4\" title=\"Special:BookSources/978-0-9825442-0-4\"><bdi>978-0-9825442-0-4</bdi></a>. <a rel=\"nofollow\" class=\"external text\" href=\"https://web.archive.org/web/20170320193019/https://books.google.com/books?id=oGs_AQAAIAAJ\">Archived</a> from the original on 20 March 2017.</cite><span title=\"ctx_ver=Z39.88-2004&amp;rft_val_fmt=info%3Aofi%2Ffmt%3Akev%3Amtx%3Abook&amp;rft.genre=book&amp;rft.btitle=The+Fourth+Paradigm%3A+Data-intensive+Scientific+Discovery&amp;rft.pub=Microsoft+Research&amp;rft.date=2009&amp;rft.isbn=978-0-9825442-0-4&amp;rft.au=Tony+Hey&amp;rft.au=Stewart+Tansley&amp;rft.au=Kristin+Michele+Tolle&amp;rft_id=https%3A%2F%2Fbooks.google.com%2Fbooks%3Fid%3DoGs_AQAAIAAJ&amp;rfr_id=info%3Asid%2Fen.wikipedia.org%3AData+science\" class=\"Z3988\"></span></span>\\n</li>\\n<li id=\"cite_note-BellHey2009-6\"><span class=\"mw-cite-backlink\"><b><a href=\"#cite_ref-BellHey2009_6-0\">^</a></b></span> <span class=\"reference-text\"><link rel=\"mw-deduplicated-inline-style\" href=\"mw-data:TemplateStyles:r1067248974\"/><cite id=\"CITEREFBellHeySzalay2009\" class=\"citation journal cs1\">Bell, G.; Hey, T.; Szalay, A. (2009). \"Computer Science: Beyond the Data Deluge\". <i>Science</i>. <b>323</b> (5919): 1297\\xe2\\x80\\x931298. <a href=\"/wiki/Doi_(identifier)\" class=\"mw-redirect\" title=\"Doi (identifier)\">doi</a>:<a rel=\"nofollow\" class=\"external text\" href=\"https://doi.org/10.1126%2Fscience.1170411\">10.1126/science.1170411</a>. <a href=\"/wiki/ISSN_(identifier)\" class=\"mw-redirect\" title=\"ISSN (identifier)\">ISSN</a>&#160;<a rel=\"nofollow\" class=\"external text\" href=\"//www.worldcat.org/issn/0036-8075\">0036-8075</a>. <a href=\"/wiki/PMID_(identifier)\" class=\"mw-redirect\" title=\"PMID (identifier)\">PMID</a>&#160;<a rel=\"nofollow\" class=\"external text\" href=\"//pubmed.ncbi.nlm.nih.gov/19265007\">19265007</a>. <a href=\"/wiki/S2CID_(identifier)\" class=\"mw-redirect\" title=\"S2CID (identifier)\">S2CID</a>&#160;<a rel=\"nofollow\" class=\"external text\" href=\"https://api.semanticscholar.org/CorpusID:9743327\">9743327</a>.</cite><span title=\"ctx_ver=Z39.88-2004&amp;rft_val_fmt=info%3Aofi%2Ffmt%3Akev%3Amtx%3Ajournal&amp;rft.genre=article&amp;rft.jtitle=Science&amp;rft.atitle=Computer+Science%3A+Beyond+the+Data+Deluge&amp;rft.volume=323&amp;rft.issue=5919&amp;rft.pages=1297-1298&amp;rft.date=2009&amp;rft.issn=0036-8075&amp;rft_id=https%3A%2F%2Fapi.semanticscholar.org%2FCorpusID%3A9743327%23id-name%3DS2CID&amp;rft_id=info%3Apmid%2F19265007&amp;rft_id=info%3Adoi%2F10.1126%2Fscience.1170411&amp;rft.aulast=Bell&amp;rft.aufirst=G.&amp;rft.au=Hey%2C+T.&amp;rft.au=Szalay%2C+A.&amp;rfr_id=info%3Asid%2Fen.wikipedia.org%3AData+science\" class=\"Z3988\"></span></span>\\n</li>\\n<li id=\"cite_note-7\"><span class=\"mw-cite-backlink\"><b><a href=\"#cite_ref-7\">^</a></b></span> <span class=\"reference-text\"><link rel=\"mw-deduplicated-inline-style\" href=\"mw-data:TemplateStyles:r1067248974\"/><cite id=\"CITEREFDavenportPatil2012\" class=\"citation journal cs1\">Davenport, Thomas H.; Patil, D. J. (October 2012). <a rel=\"nofollow\" class=\"external text\" href=\"https://hbr.org/2012/10/data-scientist-the-sexiest-job-of-the-21st-century/\">\"Data Scientist: The Sexiest Job of the 21st Century\"</a>. <i>Harvard Business Review</i>. <b>90</b> (10): 70\\xe2\\x80\\x9376, 128. <a href=\"/wiki/PMID_(identifier)\" class=\"mw-redirect\" title=\"PMID (identifier)\">PMID</a>&#160;<a rel=\"nofollow\" class=\"external text\" href=\"//pubmed.ncbi.nlm.nih.gov/23074866\">23074866</a><span class=\"reference-accessdate\">. Retrieved <span class=\"nowrap\">18 January</span> 2016</span>.</cite><span title=\"ctx_ver=Z39.88-2004&amp;rft_val_fmt=info%3Aofi%2Ffmt%3Akev%3Amtx%3Ajournal&amp;rft.genre=article&amp;rft.jtitle=Harvard+Business+Review&amp;rft.atitle=Data+Scientist%3A+The+Sexiest+Job+of+the+21st+Century&amp;rft.volume=90&amp;rft.issue=10&amp;rft.pages=70-76%2C+128&amp;rft.date=2012-10&amp;rft_id=info%3Apmid%2F23074866&amp;rft.aulast=Davenport&amp;rft.aufirst=Thomas+H.&amp;rft.au=Patil%2C+D.+J.&amp;rft_id=https%3A%2F%2Fhbr.org%2F2012%2F10%2Fdata-scientist-the-sexiest-job-of-the-21st-century%2F&amp;rfr_id=info%3Asid%2Fen.wikipedia.org%3AData+science\" class=\"Z3988\"></span></span>\\n</li>\\n<li id=\"cite_note-8\"><span class=\"mw-cite-backlink\"><b><a href=\"#cite_ref-8\">^</a></b></span> <span class=\"reference-text\"><link rel=\"mw-deduplicated-inline-style\" href=\"mw-data:TemplateStyles:r1067248974\"/><cite id=\"CITEREFEmmert-StreibDehmer2018\" class=\"citation journal cs1\">Emmert-Streib, Frank; Dehmer, Matthias (2018). <a rel=\"nofollow\" class=\"external text\" href=\"https://doi.org/10.3390%2Fmake1010015\">\"Defining data science by a data-driven quantification of the community\"</a>. <i>Machine Learning and Knowledge Extraction</i>. <b>1</b>: 235\\xe2\\x80\\x93251. <a href=\"/wiki/Doi_(identifier)\" class=\"mw-redirect\" title=\"Doi (identifier)\">doi</a>:<span class=\"cs1-lock-free\" title=\"Freely accessible\"><a rel=\"nofollow\" class=\"external text\" href=\"https://doi.org/10.3390%2Fmake1010015\">10.3390/make1010015</a></span>.</cite><span title=\"ctx_ver=Z39.88-2004&amp;rft_val_fmt=info%3Aofi%2Ffmt%3Akev%3Amtx%3Ajournal&amp;rft.genre=article&amp;rft.jtitle=Machine+Learning+and+Knowledge+Extraction&amp;rft.atitle=Defining+data+science+by+a+data-driven+quantification+of+the+community&amp;rft.volume=1&amp;rft.pages=235-251&amp;rft.date=2018&amp;rft_id=info%3Adoi%2F10.3390%2Fmake1010015&amp;rft.aulast=Emmert-Streib&amp;rft.aufirst=Frank&amp;rft.au=Dehmer%2C+Matthias&amp;rft_id=%2F%2Fdoi.org%2F10.3390%252Fmake1010015&amp;rfr_id=info%3Asid%2Fen.wikipedia.org%3AData+science\" class=\"Z3988\"></span></span>\\n</li>\\n<li id=\"cite_note-9\"><span class=\"mw-cite-backlink\"><b><a href=\"#cite_ref-9\">^</a></b></span> <span class=\"reference-text\"><link rel=\"mw-deduplicated-inline-style\" href=\"mw-data:TemplateStyles:r1067248974\"/><cite class=\"citation web cs1\"><a rel=\"nofollow\" class=\"external text\" href=\"https://web.archive.org/web/20200810114002/http://www.datascienceassn.org/about-data-science\">\"About Data Science\"</a>. <i>Data Science Association</i>. Archived from <a rel=\"nofollow\" class=\"external text\" href=\"http://www.datascienceassn.org/about-data-science\">the original</a> on 10 August 2020<span class=\"reference-accessdate\">. Retrieved <span class=\"nowrap\">3 April</span> 2020</span>.</cite><span title=\"ctx_ver=Z39.88-2004&amp;rft_val_fmt=info%3Aofi%2Ffmt%3Akev%3Amtx%3Ajournal&amp;rft.genre=unknown&amp;rft.jtitle=Data+Science+Association&amp;rft.atitle=About+Data+Science&amp;rft_id=http%3A%2F%2Fwww.datascienceassn.org%2Fabout-data-science&amp;rfr_id=info%3Asid%2Fen.wikipedia.org%3AData+science\" class=\"Z3988\"></span></span>\\n</li>\\n<li id=\"cite_note-10\"><span class=\"mw-cite-backlink\"><b><a href=\"#cite_ref-10\">^</a></b></span> <span class=\"reference-text\"><link rel=\"mw-deduplicated-inline-style\" href=\"mw-data:TemplateStyles:r1067248974\"/><cite class=\"citation web cs1\"><a rel=\"nofollow\" class=\"external text\" href=\"https://www.oreilly.com/library/view/doing-data-science/9781449363871/ch01.html\">\"1. Introduction: What Is Data Science?\"</a>. <i>Doing Data Science [Book]</i>. O\\xe2\\x80\\x99Reilly<span class=\"reference-accessdate\">. Retrieved <span class=\"nowrap\">3 April</span> 2020</span>.</cite><span title=\"ctx_ver=Z39.88-2004&amp;rft_val_fmt=info%3Aofi%2Ffmt%3Akev%3Amtx%3Ajournal&amp;rft.genre=unknown&amp;rft.jtitle=Doing+Data+Science+%5BBook%5D&amp;rft.atitle=1.+Introduction%3A+What+Is+Data+Science%3F&amp;rft_id=https%3A%2F%2Fwww.oreilly.com%2Flibrary%2Fview%2Fdoing-data-science%2F9781449363871%2Fch01.html&amp;rfr_id=info%3Asid%2Fen.wikipedia.org%3AData+science\" class=\"Z3988\"></span></span>\\n</li>\\n<li id=\"cite_note-11\"><span class=\"mw-cite-backlink\"><b><a href=\"#cite_ref-11\">^</a></b></span> <span class=\"reference-text\"><link rel=\"mw-deduplicated-inline-style\" href=\"mw-data:TemplateStyles:r1067248974\"/><cite class=\"citation web cs1\"><a rel=\"nofollow\" class=\"external text\" href=\"https://medriscoll.com/post/4740157098/the-three-sexy-skills-of-data-geeks\">\"the three sexy skills of data geeks\"</a>. <i>m.e.driscoll: data utopian</i>. 27 May 2009<span class=\"reference-accessdate\">. Retrieved <span class=\"nowrap\">3 April</span> 2020</span>.</cite><span title=\"ctx_ver=Z39.88-2004&amp;rft_val_fmt=info%3Aofi%2Ffmt%3Akev%3Amtx%3Ajournal&amp;rft.genre=unknown&amp;rft.jtitle=m.e.driscoll%3A+data+utopian&amp;rft.atitle=the+three+sexy+skills+of+data+geeks&amp;rft.date=2009-05-27&amp;rft_id=https%3A%2F%2Fmedriscoll.com%2Fpost%2F4740157098%2Fthe-three-sexy-skills-of-data-geeks&amp;rfr_id=info%3Asid%2Fen.wikipedia.org%3AData+science\" class=\"Z3988\"></span></span>\\n</li>\\n<li id=\"cite_note-12\"><span class=\"mw-cite-backlink\"><b><a href=\"#cite_ref-12\">^</a></b></span> <span class=\"reference-text\"><link rel=\"mw-deduplicated-inline-style\" href=\"mw-data:TemplateStyles:r1067248974\"/><cite id=\"CITEREFYau2009\" class=\"citation web cs1\">Yau, Nathan (4 June 2009). <a rel=\"nofollow\" class=\"external text\" href=\"https://flowingdata.com/2009/06/04/rise-of-the-data-scientist/\">\"Rise of the Data Scientist\"</a>. <i>FlowingData</i><span class=\"reference-accessdate\">. Retrieved <span class=\"nowrap\">3 April</span> 2020</span>.</cite><span title=\"ctx_ver=Z39.88-2004&amp;rft_val_fmt=info%3Aofi%2Ffmt%3Akev%3Amtx%3Ajournal&amp;rft.genre=unknown&amp;rft.jtitle=FlowingData&amp;rft.atitle=Rise+of+the+Data+Scientist&amp;rft.date=2009-06-04&amp;rft.aulast=Yau&amp;rft.aufirst=Nathan&amp;rft_id=https%3A%2F%2Fflowingdata.com%2F2009%2F06%2F04%2Frise-of-the-data-scientist%2F&amp;rfr_id=info%3Asid%2Fen.wikipedia.org%3AData+science\" class=\"Z3988\"></span></span>\\n</li>\\n<li id=\"cite_note-13\"><span class=\"mw-cite-backlink\"><b><a href=\"#cite_ref-13\">^</a></b></span> <span class=\"reference-text\"><link rel=\"mw-deduplicated-inline-style\" href=\"mw-data:TemplateStyles:r1067248974\"/><cite class=\"citation web cs1\"><a rel=\"nofollow\" class=\"external text\" href=\"https://benfry.com/phd/dissertation/2.html\">\"Basic Example\"</a>. <i>benfry.com</i><span class=\"reference-accessdate\">. Retrieved <span class=\"nowrap\">3 April</span> 2020</span>.</cite><span title=\"ctx_ver=Z39.88-2004&amp;rft_val_fmt=info%3Aofi%2Ffmt%3Akev%3Amtx%3Ajournal&amp;rft.genre=unknown&amp;rft.jtitle=benfry.com&amp;rft.atitle=Basic+Example&amp;rft_id=https%3A%2F%2Fbenfry.com%2Fphd%2Fdissertation%2F2.html&amp;rfr_id=info%3Asid%2Fen.wikipedia.org%3AData+science\" class=\"Z3988\"></span></span>\\n</li>\\n<li id=\"cite_note-14\"><span class=\"mw-cite-backlink\"><b><a href=\"#cite_ref-14\">^</a></b></span> <span class=\"reference-text\"><link rel=\"mw-deduplicated-inline-style\" href=\"mw-data:TemplateStyles:r1067248974\"/><cite class=\"citation web cs1\"><a rel=\"nofollow\" class=\"external text\" href=\"https://magazine.amstat.org/blog/2015/10/01/asa-statement-on-the-role-of-statistics-in-data-science/\">\"ASA Statement on the Role of Statistics in Data Science\"</a>. <i>AMSTATNEWS</i>. <a href=\"/wiki/American_Statistical_Association\" title=\"American Statistical Association\">American Statistical Association</a>. 1 October 2015. <a rel=\"nofollow\" class=\"external text\" href=\"https://web.archive.org/web/20190620184935/https://magazine.amstat.org/blog/2015/10/01/asa-statement-on-the-role-of-statistics-in-data-science/\">Archived</a> from the original on 20 June 2019<span class=\"reference-accessdate\">. Retrieved <span class=\"nowrap\">29 May</span> 2019</span>.</cite><span title=\"ctx_ver=Z39.88-2004&amp;rft_val_fmt=info%3Aofi%2Ffmt%3Akev%3Amtx%3Ajournal&amp;rft.genre=unknown&amp;rft.jtitle=AMSTATNEWS&amp;rft.atitle=ASA+Statement+on+the+Role+of+Statistics+in+Data+Science&amp;rft.date=2015-10-01&amp;rft_id=https%3A%2F%2Fmagazine.amstat.org%2Fblog%2F2015%2F10%2F01%2Fasa-statement-on-the-role-of-statistics-in-data-science%2F&amp;rfr_id=info%3Asid%2Fen.wikipedia.org%3AData+science\" class=\"Z3988\"></span></span>\\n</li>\\n<li id=\"cite_note-15\"><span class=\"mw-cite-backlink\"><b><a href=\"#cite_ref-15\">^</a></b></span> <span class=\"reference-text\"><link rel=\"mw-deduplicated-inline-style\" href=\"mw-data:TemplateStyles:r1067248974\"/><cite class=\"citation web cs1\"><a rel=\"nofollow\" class=\"external text\" href=\"https://www.statisticsviews.com/article/nate-silver-what-i-need-from-statisticians/\">\"Nate Silver: What I need from statisticians\"</a>. <i>Statistics Views</i><span class=\"reference-accessdate\">. Retrieved <span class=\"nowrap\">3 April</span> 2020</span>.</cite><span title=\"ctx_ver=Z39.88-2004&amp;rft_val_fmt=info%3Aofi%2Ffmt%3Akev%3Amtx%3Ajournal&amp;rft.genre=unknown&amp;rft.jtitle=Statistics+Views&amp;rft.atitle=Nate+Silver%3A+What+I+need+from+statisticians&amp;rft_id=https%3A%2F%2Fwww.statisticsviews.com%2Farticle%2Fnate-silver-what-i-need-from-statisticians%2F&amp;rfr_id=info%3Asid%2Fen.wikipedia.org%3AData+science\" class=\"Z3988\"></span></span>\\n</li>\\n<li id=\"cite_note-16\"><span class=\"mw-cite-backlink\"><b><a href=\"#cite_ref-16\">^</a></b></span> <span class=\"reference-text\"><link rel=\"mw-deduplicated-inline-style\" href=\"mw-data:TemplateStyles:r1067248974\"/><cite class=\"citation web cs1\"><a rel=\"nofollow\" class=\"external text\" href=\"http://priceonomics.com/whats-the-difference-between-data-science-and/\">\"What\\'s the Difference Between Data Science and Statistics?\"</a>. <i>Priceonomics</i>. 13 October 2015<span class=\"reference-accessdate\">. Retrieved <span class=\"nowrap\">3 April</span> 2020</span>.</cite><span title=\"ctx_ver=Z39.88-2004&amp;rft_val_fmt=info%3Aofi%2Ffmt%3Akev%3Amtx%3Ajournal&amp;rft.genre=unknown&amp;rft.jtitle=Priceonomics&amp;rft.atitle=What%27s+the+Difference+Between+Data+Science+and+Statistics%3F&amp;rft.date=2015-10-13&amp;rft_id=http%3A%2F%2Fpriceonomics.com%2Fwhats-the-difference-between-data-science-and%2F&amp;rfr_id=info%3Asid%2Fen.wikipedia.org%3AData+science\" class=\"Z3988\"></span></span>\\n</li>\\n<li id=\"cite_note-17\"><span class=\"mw-cite-backlink\"><b><a href=\"#cite_ref-17\">^</a></b></span> <span class=\"reference-text\"><link rel=\"mw-deduplicated-inline-style\" href=\"mw-data:TemplateStyles:r1067248974\"/><cite id=\"CITEREFVasant_Dhar2013\" class=\"citation journal cs1\">Vasant Dhar (1 December 2013). <a rel=\"nofollow\" class=\"external text\" href=\"http://archive.nyu.edu/handle/2451/31553\">\"Data science and prediction\"</a>. <i>Communications of the ACM</i>. <b>56</b> (12): 64\\xe2\\x80\\x9373. <a href=\"/wiki/Doi_(identifier)\" class=\"mw-redirect\" title=\"Doi (identifier)\">doi</a>:<a rel=\"nofollow\" class=\"external text\" href=\"https://doi.org/10.1145%2F2500499\">10.1145/2500499</a>. <a href=\"/wiki/S2CID_(identifier)\" class=\"mw-redirect\" title=\"S2CID (identifier)\">S2CID</a>&#160;<a rel=\"nofollow\" class=\"external text\" href=\"https://api.semanticscholar.org/CorpusID:6107147\">6107147</a>.</cite><span title=\"ctx_ver=Z39.88-2004&amp;rft_val_fmt=info%3Aofi%2Ffmt%3Akev%3Amtx%3Ajournal&amp;rft.genre=article&amp;rft.jtitle=Communications+of+the+ACM&amp;rft.atitle=Data+science+and+prediction&amp;rft.volume=56&amp;rft.issue=12&amp;rft.pages=64-73&amp;rft.date=2013-12-01&amp;rft_id=info%3Adoi%2F10.1145%2F2500499&amp;rft_id=https%3A%2F%2Fapi.semanticscholar.org%2FCorpusID%3A6107147%23id-name%3DS2CID&amp;rft.au=Vasant+Dhar&amp;rft_id=http%3A%2F%2Farchive.nyu.edu%2Fhandle%2F2451%2F31553&amp;rfr_id=info%3Asid%2Fen.wikipedia.org%3AData+science\" class=\"Z3988\"></span></span>\\n</li>\\n<li id=\"cite_note-18\"><span class=\"mw-cite-backlink\"><b><a href=\"#cite_ref-18\">^</a></b></span> <span class=\"reference-text\"><link rel=\"mw-deduplicated-inline-style\" href=\"mw-data:TemplateStyles:r1067248974\"/><cite class=\"citation web cs1\"><a rel=\"nofollow\" class=\"external text\" href=\"https://statmodeling.stat.columbia.edu/2013/11/14/statistics-least-important-part-data-science/\">\"Statistics is the least important part of data science \\xc2\\xab&#160;Statistical Modeling, Causal Inference, and Social Science\"</a>. <i>statmodeling.stat.columbia.edu</i><span class=\"reference-accessdate\">. Retrieved <span class=\"nowrap\">3 April</span> 2020</span>.</cite><span title=\"ctx_ver=Z39.88-2004&amp;rft_val_fmt=info%3Aofi%2Ffmt%3Akev%3Amtx%3Ajournal&amp;rft.genre=unknown&amp;rft.jtitle=statmodeling.stat.columbia.edu&amp;rft.atitle=Statistics+is+the+least+important+part+of+data+science+%C2%AB+Statistical+Modeling%2C+Causal+Inference%2C+and+Social+Science&amp;rft_id=https%3A%2F%2Fstatmodeling.stat.columbia.edu%2F2013%2F11%2F14%2Fstatistics-least-important-part-data-science%2F&amp;rfr_id=info%3Asid%2Fen.wikipedia.org%3AData+science\" class=\"Z3988\"></span></span>\\n</li>\\n<li id=\"cite_note-:7-19\"><span class=\"mw-cite-backlink\">^ <a href=\"#cite_ref-:7_19-0\"><sup><i><b>a</b></i></sup></a> <a href=\"#cite_ref-:7_19-1\"><sup><i><b>b</b></i></sup></a></span> <span class=\"reference-text\"><link rel=\"mw-deduplicated-inline-style\" href=\"mw-data:TemplateStyles:r1067248974\"/><cite id=\"CITEREFDonoho2015\" class=\"citation web cs1\">Donoho, David (18 September 2015). <a rel=\"nofollow\" class=\"external text\" href=\"http://courses.csail.mit.edu/18.337/2015/docs/50YearsDataScience.pdf\">\"50 years of Data Science\"</a> <span class=\"cs1-format\">(PDF)</span><span class=\"reference-accessdate\">. Retrieved <span class=\"nowrap\">2 April</span> 2020</span>.</cite><span title=\"ctx_ver=Z39.88-2004&amp;rft_val_fmt=info%3Aofi%2Ffmt%3Akev%3Amtx%3Abook&amp;rft.genre=unknown&amp;rft.btitle=50+years+of+Data+Science&amp;rft.date=2015-09-18&amp;rft.aulast=Donoho&amp;rft.aufirst=David&amp;rft_id=http%3A%2F%2Fcourses.csail.mit.edu%2F18.337%2F2015%2Fdocs%2F50YearsDataScience.pdf&amp;rfr_id=info%3Asid%2Fen.wikipedia.org%3AData+science\" class=\"Z3988\"></span></span>\\n</li>\\n<li id=\"cite_note-20\"><span class=\"mw-cite-backlink\"><b><a href=\"#cite_ref-20\">^</a></b></span> <span class=\"reference-text\"><link rel=\"mw-deduplicated-inline-style\" href=\"mw-data:TemplateStyles:r1067248974\"/><cite id=\"CITEREFWu1986\" class=\"citation journal cs1\">Wu, C. F. Jeff (1986). <a rel=\"nofollow\" class=\"external text\" href=\"https://www2.isye.gatech.edu/~jeffwu/publications/fazhan.pdf\">\"Future directions of statistical research in China: a historical perspective\"</a> <span class=\"cs1-format\">(PDF)</span>. <i>Application of Statistics and Management</i>. <b>1</b>: 1\\xe2\\x80\\x937<span class=\"reference-accessdate\">. Retrieved <span class=\"nowrap\">29 November</span> 2020</span>.</cite><span title=\"ctx_ver=Z39.88-2004&amp;rft_val_fmt=info%3Aofi%2Ffmt%3Akev%3Amtx%3Ajournal&amp;rft.genre=article&amp;rft.jtitle=Application+of+Statistics+and+Management&amp;rft.atitle=Future+directions+of+statistical+research+in+China%3A+a+historical+perspective&amp;rft.volume=1&amp;rft.pages=1-7&amp;rft.date=1986&amp;rft.aulast=Wu&amp;rft.aufirst=C.+F.+Jeff&amp;rft_id=https%3A%2F%2Fwww2.isye.gatech.edu%2F~jeffwu%2Fpublications%2Ffazhan.pdf&amp;rfr_id=info%3Asid%2Fen.wikipedia.org%3AData+science\" class=\"Z3988\"></span></span>\\n</li>\\n<li id=\"cite_note-21\"><span class=\"mw-cite-backlink\"><b><a href=\"#cite_ref-21\">^</a></b></span> <span class=\"reference-text\"><link rel=\"mw-deduplicated-inline-style\" href=\"mw-data:TemplateStyles:r1067248974\"/><cite id=\"CITEREFEscoufierHayashiFichet1995\" class=\"citation book cs1\">Escoufier, Yves; Hayashi, Chikio; Fichet, Bernard, eds. (1995). <i>Data science and its applications</i>. Tokyo: Academic Press/Harcourt Brace. <a href=\"/wiki/ISBN_(identifier)\" class=\"mw-redirect\" title=\"ISBN (identifier)\">ISBN</a>&#160;<a href=\"/wiki/Special:BookSources/0-12-241770-4\" title=\"Special:BookSources/0-12-241770-4\"><bdi>0-12-241770-4</bdi></a>. <a href=\"/wiki/OCLC_(identifier)\" class=\"mw-redirect\" title=\"OCLC (identifier)\">OCLC</a>&#160;<a rel=\"nofollow\" class=\"external text\" href=\"//www.worldcat.org/oclc/489990740\">489990740</a>.</cite><span title=\"ctx_ver=Z39.88-2004&amp;rft_val_fmt=info%3Aofi%2Ffmt%3Akev%3Amtx%3Abook&amp;rft.genre=book&amp;rft.btitle=Data+science+and+its+applications&amp;rft.place=Tokyo&amp;rft.pub=Academic+Press%2FHarcourt+Brace&amp;rft.date=1995&amp;rft_id=info%3Aoclcnum%2F489990740&amp;rft.isbn=0-12-241770-4&amp;rfr_id=info%3Asid%2Fen.wikipedia.org%3AData+science\" class=\"Z3988\"></span></span>\\n</li>\\n<li id=\"cite_note-Murtagh_2018_14-22\"><span class=\"mw-cite-backlink\">^ <a href=\"#cite_ref-Murtagh_2018_14_22-0\"><sup><i><b>a</b></i></sup></a> <a href=\"#cite_ref-Murtagh_2018_14_22-1\"><sup><i><b>b</b></i></sup></a></span> <span class=\"reference-text\"><link rel=\"mw-deduplicated-inline-style\" href=\"mw-data:TemplateStyles:r1067248974\"/><cite id=\"CITEREFMurtaghDevlin2018\" class=\"citation journal cs1\">Murtagh, Fionn; Devlin, Keith (2018). <a rel=\"nofollow\" class=\"external text\" href=\"https://doi.org/10.3390%2Fbdcc2020014\">\"The Development of Data Science: Implications for Education, Employment, Research, and the Data Revolution for Sustainable Development\"</a>. <i>Big Data and Cognitive Computing</i>. <b>2</b> (2): 14. <a href=\"/wiki/Doi_(identifier)\" class=\"mw-redirect\" title=\"Doi (identifier)\">doi</a>:<span class=\"cs1-lock-free\" title=\"Freely accessible\"><a rel=\"nofollow\" class=\"external text\" href=\"https://doi.org/10.3390%2Fbdcc2020014\">10.3390/bdcc2020014</a></span>.</cite><span title=\"ctx_ver=Z39.88-2004&amp;rft_val_fmt=info%3Aofi%2Ffmt%3Akev%3Amtx%3Ajournal&amp;rft.genre=article&amp;rft.jtitle=Big+Data+and+Cognitive+Computing&amp;rft.atitle=The+Development+of+Data+Science%3A+Implications+for+Education%2C+Employment%2C+Research%2C+and+the+Data+Revolution+for+Sustainable+Development&amp;rft.volume=2&amp;rft.issue=2&amp;rft.pages=14&amp;rft.date=2018&amp;rft_id=info%3Adoi%2F10.3390%2Fbdcc2020014&amp;rft.aulast=Murtagh&amp;rft.aufirst=Fionn&amp;rft.au=Devlin%2C+Keith&amp;rft_id=%2F%2Fdoi.org%2F10.3390%252Fbdcc2020014&amp;rfr_id=info%3Asid%2Fen.wikipedia.org%3AData+science\" class=\"Z3988\"></span></span>\\n</li>\\n<li id=\"cite_note-23\"><span class=\"mw-cite-backlink\"><b><a href=\"#cite_ref-23\">^</a></b></span> <span class=\"reference-text\"><link rel=\"mw-deduplicated-inline-style\" href=\"mw-data:TemplateStyles:r1067248974\"/><cite id=\"CITEREFWu\" class=\"citation web cs1\">Wu, C.&#160;F. Jeff. <a rel=\"nofollow\" class=\"external text\" href=\"http://www2.isye.gatech.edu/~jeffwu/presentations/datascience.pdf\">\"Statistics=Data Science?\"</a> <span class=\"cs1-format\">(PDF)</span><span class=\"reference-accessdate\">. Retrieved <span class=\"nowrap\">2 April</span> 2020</span>.</cite><span title=\"ctx_ver=Z39.88-2004&amp;rft_val_fmt=info%3Aofi%2Ffmt%3Akev%3Amtx%3Abook&amp;rft.genre=unknown&amp;rft.btitle=Statistics%3DData+Science%3F&amp;rft.aulast=Wu&amp;rft.aufirst=C.+F.+Jeff&amp;rft_id=http%3A%2F%2Fwww2.isye.gatech.edu%2F~jeffwu%2Fpresentations%2Fdatascience.pdf&amp;rfr_id=info%3Asid%2Fen.wikipedia.org%3AData+science\" class=\"Z3988\"></span></span>\\n</li>\\n<li id=\"cite_note-:1-24\"><span class=\"mw-cite-backlink\">^ <a href=\"#cite_ref-:1_24-0\"><sup><i><b>a</b></i></sup></a> <a href=\"#cite_ref-:1_24-1\"><sup><i><b>b</b></i></sup></a> <a href=\"#cite_ref-:1_24-2\"><sup><i><b>c</b></i></sup></a></span> <span class=\"reference-text\"><link rel=\"mw-deduplicated-inline-style\" href=\"mw-data:TemplateStyles:r1067248974\"/><cite id=\"CITEREFPress\" class=\"citation web cs1\">Press, Gil. <a rel=\"nofollow\" class=\"external text\" href=\"https://www.forbes.com/sites/gilpress/2013/05/28/a-very-short-history-of-data-science/\">\"A Very Short History of Data Science\"</a>. <i>Forbes</i><span class=\"reference-accessdate\">. Retrieved <span class=\"nowrap\">3 April</span> 2020</span>.</cite><span title=\"ctx_ver=Z39.88-2004&amp;rft_val_fmt=info%3Aofi%2Ffmt%3Akev%3Amtx%3Ajournal&amp;rft.genre=unknown&amp;rft.jtitle=Forbes&amp;rft.atitle=A+Very+Short+History+of+Data+Science&amp;rft.aulast=Press&amp;rft.aufirst=Gil&amp;rft_id=https%3A%2F%2Fwww.forbes.com%2Fsites%2Fgilpress%2F2013%2F05%2F28%2Fa-very-short-history-of-data-science%2F&amp;rfr_id=info%3Asid%2Fen.wikipedia.org%3AData+science\" class=\"Z3988\"></span></span>\\n</li>\\n<li id=\"cite_note-25\"><span class=\"mw-cite-backlink\"><b><a href=\"#cite_ref-25\">^</a></b></span> <span class=\"reference-text\"><link rel=\"mw-deduplicated-inline-style\" href=\"mw-data:TemplateStyles:r1067248974\"/><cite id=\"CITEREFDavenport2012\" class=\"citation magazine cs1\">Davenport, Thomas (1 October 2012). <a rel=\"nofollow\" class=\"external text\" href=\"https://hbr.org/2012/10/data-scientist-the-sexiest-job-of-the-21st-century\">\"Data Scientist: The Sexiest Job of the 21st Century\"</a>. <i><a href=\"/wiki/Harvard_Business_Review\" title=\"Harvard Business Review\">Harvard Business Review</a></i><span class=\"reference-accessdate\">. Retrieved <span class=\"nowrap\">10 October</span> 2022</span>.</cite><span title=\"ctx_ver=Z39.88-2004&amp;rft_val_fmt=info%3Aofi%2Ffmt%3Akev%3Amtx%3Ajournal&amp;rft.genre=article&amp;rft.jtitle=Harvard+Business+Review&amp;rft.atitle=Data+Scientist%3A+The+Sexiest+Job+of+the+21st+Century&amp;rft.date=2012-10-01&amp;rft.aulast=Davenport&amp;rft.aufirst=Thomas&amp;rft_id=https%3A%2F%2Fhbr.org%2F2012%2F10%2Fdata-scientist-the-sexiest-job-of-the-21st-century&amp;rfr_id=info%3Asid%2Fen.wikipedia.org%3AData+science\" class=\"Z3988\"></span></span>\\n</li>\\n<li id=\"cite_note-26\"><span class=\"mw-cite-backlink\"><b><a href=\"#cite_ref-26\">^</a></b></span> <span class=\"reference-text\"><link rel=\"mw-deduplicated-inline-style\" href=\"mw-data:TemplateStyles:r1067248974\"/><cite id=\"CITEREFMiller2013\" class=\"citation news cs1\">Miller, Claire (4 April 2013). <a rel=\"nofollow\" class=\"external text\" href=\"https://www.nytimes.com/2013/04/14/education/edlife/universities-offer-courses-in-a-hot-new-field-data-science.html\">\"Data Science: The Numbers of Our Lives\"</a>. <i><a href=\"/wiki/New_York_Times\" class=\"mw-redirect\" title=\"New York Times\">New York Times</a></i>. <a href=\"/wiki/New_York_City\" title=\"New York City\">New York City</a><span class=\"reference-accessdate\">. Retrieved <span class=\"nowrap\">10 October</span> 2022</span>.</cite><span title=\"ctx_ver=Z39.88-2004&amp;rft_val_fmt=info%3Aofi%2Ffmt%3Akev%3Amtx%3Ajournal&amp;rft.genre=article&amp;rft.jtitle=New+York+Times&amp;rft.atitle=Data+Science%3A+The+Numbers+of+Our+Lives&amp;rft.date=2013-04-04&amp;rft.aulast=Miller&amp;rft.aufirst=Claire&amp;rft_id=https%3A%2F%2Fwww.nytimes.com%2F2013%2F04%2F14%2Feducation%2Fedlife%2Funiversities-offer-courses-in-a-hot-new-field-data-science.html&amp;rfr_id=info%3Asid%2Fen.wikipedia.org%3AData+science\" class=\"Z3988\"></span></span>\\n</li>\\n<li id=\"cite_note-27\"><span class=\"mw-cite-backlink\"><b><a href=\"#cite_ref-27\">^</a></b></span> <span class=\"reference-text\"><link rel=\"mw-deduplicated-inline-style\" href=\"mw-data:TemplateStyles:r1067248974\"/><cite id=\"CITEREFBorchers2015\" class=\"citation news cs1\">Borchers, Callum (11 November 2015). <a rel=\"nofollow\" class=\"external text\" href=\"https://www.bostonglobe.com/business/2015/11/11/behind-scenes-sexiest-job-century/Kc1cvXIu31DfHhVmyRQeIJ/story.html\">\"Behind the scenes of the \\'sexiest job of the 21st century\\'<span class=\"cs1-kern-right\"></span>\"</a>. <i><a href=\"/wiki/Boston_Globe\" class=\"mw-redirect\" title=\"Boston Globe\">Boston Globe</a></i>. <a href=\"/wiki/Boston\" title=\"Boston\">Boston</a><span class=\"reference-accessdate\">. Retrieved <span class=\"nowrap\">10 October</span> 2022</span>.</cite><span title=\"ctx_ver=Z39.88-2004&amp;rft_val_fmt=info%3Aofi%2Ffmt%3Akev%3Amtx%3Ajournal&amp;rft.genre=article&amp;rft.jtitle=Boston+Globe&amp;rft.atitle=Behind+the+scenes+of+the+%27sexiest+job+of+the+21st+century%27&amp;rft.date=2015-11-11&amp;rft.aulast=Borchers&amp;rft.aufirst=Callum&amp;rft_id=https%3A%2F%2Fwww.bostonglobe.com%2Fbusiness%2F2015%2F11%2F11%2Fbehind-scenes-sexiest-job-century%2FKc1cvXIu31DfHhVmyRQeIJ%2Fstory.html&amp;rfr_id=info%3Asid%2Fen.wikipedia.org%3AData+science\" class=\"Z3988\"></span></span>\\n</li>\\n<li id=\"cite_note-28\"><span class=\"mw-cite-backlink\"><b><a href=\"#cite_ref-28\">^</a></b></span> <span class=\"reference-text\"><link rel=\"mw-deduplicated-inline-style\" href=\"mw-data:TemplateStyles:r1067248974\"/><cite id=\"CITEREFDavenport2022\" class=\"citation magazine cs1\">Davenport, Thomas (15 July 2022). <a rel=\"nofollow\" class=\"external text\" href=\"https://hbr.org/2022/07/is-data-scientist-still-the-sexiest-job-of-the-21st-century\">\"Is Data Scientist Still the Sexiest Job of the 21st Century?\"</a>. <i><a href=\"/wiki/Harvard_Business_Review\" title=\"Harvard Business Review\">Harvard Business Review</a></i><span class=\"reference-accessdate\">. Retrieved <span class=\"nowrap\">10 October</span> 2022</span>.</cite><span title=\"ctx_ver=Z39.88-2004&amp;rft_val_fmt=info%3Aofi%2Ffmt%3Akev%3Amtx%3Ajournal&amp;rft.genre=article&amp;rft.jtitle=Harvard+Business+Review&amp;rft.atitle=Is+Data+Scientist+Still+the+Sexiest+Job+of+the+21st+Century%3F&amp;rft.date=2022-07-15&amp;rft.aulast=Davenport&amp;rft.aufirst=Thomas&amp;rft_id=https%3A%2F%2Fhbr.org%2F2022%2F07%2Fis-data-scientist-still-the-sexiest-job-of-the-21st-century&amp;rfr_id=info%3Asid%2Fen.wikipedia.org%3AData+science\" class=\"Z3988\"></span></span>\\n</li>\\n<li id=\"cite_note-29\"><span class=\"mw-cite-backlink\"><b><a href=\"#cite_ref-29\">^</a></b></span> <span class=\"reference-text\"><link rel=\"mw-deduplicated-inline-style\" href=\"mw-data:TemplateStyles:r1067248974\"/><cite id=\"CITEREFGupta2015\" class=\"citation web cs1\">Gupta, Shanti (11 December 2015). <a rel=\"nofollow\" class=\"external text\" href=\"https://www.stat.purdue.edu/~wsc/\">\"William S. Cleveland\"</a><span class=\"reference-accessdate\">. Retrieved <span class=\"nowrap\">2 April</span> 2020</span>.</cite><span title=\"ctx_ver=Z39.88-2004&amp;rft_val_fmt=info%3Aofi%2Ffmt%3Akev%3Amtx%3Abook&amp;rft.genre=unknown&amp;rft.btitle=William+S.+Cleveland&amp;rft.date=2015-12-11&amp;rft.aulast=Gupta&amp;rft.aufirst=Shanti&amp;rft_id=https%3A%2F%2Fwww.stat.purdue.edu%2F~wsc%2F&amp;rfr_id=info%3Asid%2Fen.wikipedia.org%3AData+science\" class=\"Z3988\"></span></span>\\n</li>\\n<li id=\"cite_note-30\"><span class=\"mw-cite-backlink\"><b><a href=\"#cite_ref-30\">^</a></b></span> <span class=\"reference-text\"><link rel=\"mw-deduplicated-inline-style\" href=\"mw-data:TemplateStyles:r1067248974\"/><cite id=\"CITEREFTalley2016\" class=\"citation news cs1\">Talley, Jill (1 June 2016). <a rel=\"nofollow\" class=\"external text\" href=\"https://magazine.amstat.org/blog/2016/06/01/datascience-2/\">\"ASA Expands Scope, Outreach to Foster Growth, Collaboration in Data Science\"</a>. <i>Amstat News</i>. American Statistical Association.</cite><span title=\"ctx_ver=Z39.88-2004&amp;rft_val_fmt=info%3Aofi%2Ffmt%3Akev%3Amtx%3Ajournal&amp;rft.genre=article&amp;rft.jtitle=Amstat+News&amp;rft.atitle=ASA+Expands+Scope%2C+Outreach+to+Foster+Growth%2C+Collaboration+in+Data+Science&amp;rft.date=2016-06-01&amp;rft.aulast=Talley&amp;rft.aufirst=Jill&amp;rft_id=https%3A%2F%2Fmagazine.amstat.org%2Fblog%2F2016%2F06%2F01%2Fdatascience-2%2F&amp;rfr_id=info%3Asid%2Fen.wikipedia.org%3AData+science\" class=\"Z3988\"></span></span>\\n</li>\\n<li id=\"cite_note-31\"><span class=\"mw-cite-backlink\"><b><a href=\"#cite_ref-31\">^</a></b></span> <span class=\"reference-text\"><link rel=\"mw-deduplicated-inline-style\" href=\"mw-data:TemplateStyles:r1067248974\"/><cite id=\"CITEREFDavenportPatil2012\" class=\"citation news cs1\">Davenport, Thomas H.; Patil, D. J. (1 October 2012). <a rel=\"nofollow\" class=\"external text\" href=\"https://hbr.org/2012/10/data-scientist-the-sexiest-job-of-the-21st-century\">\"Data Scientist: The Sexiest Job of the 21st Century\"</a>. <i>Harvard Business Review</i>. No.&#160;October 2012. <a href=\"/wiki/ISSN_(identifier)\" class=\"mw-redirect\" title=\"ISSN (identifier)\">ISSN</a>&#160;<a rel=\"nofollow\" class=\"external text\" href=\"//www.worldcat.org/issn/0017-8012\">0017-8012</a><span class=\"reference-accessdate\">. Retrieved <span class=\"nowrap\">3 April</span> 2020</span>.</cite><span title=\"ctx_ver=Z39.88-2004&amp;rft_val_fmt=info%3Aofi%2Ffmt%3Akev%3Amtx%3Ajournal&amp;rft.genre=article&amp;rft.jtitle=Harvard+Business+Review&amp;rft.atitle=Data+Scientist%3A+The+Sexiest+Job+of+the+21st+Century&amp;rft.issue=October+2012&amp;rft.date=2012-10-01&amp;rft.issn=0017-8012&amp;rft.aulast=Davenport&amp;rft.aufirst=Thomas+H.&amp;rft.au=Patil%2C+D.+J.&amp;rft_id=https%3A%2F%2Fhbr.org%2F2012%2F10%2Fdata-scientist-the-sexiest-job-of-the-21st-century&amp;rfr_id=info%3Asid%2Fen.wikipedia.org%3AData+science\" class=\"Z3988\"></span></span>\\n</li>\\n<li id=\"cite_note-32\"><span class=\"mw-cite-backlink\"><b><a href=\"#cite_ref-32\">^</a></b></span> <span class=\"reference-text\"><link rel=\"mw-deduplicated-inline-style\" href=\"mw-data:TemplateStyles:r1067248974\"/><cite class=\"citation web cs1\"><a rel=\"nofollow\" class=\"external text\" href=\"https://www.nsf.gov/pubs/2005/nsb0540/\">\"US NSF \\xe2\\x80\\x93 NSB-05-40, Long-Lived Digital Data Collections Enabling Research and Education in the 21st Century\"</a>. <i>www.nsf.gov</i><span class=\"reference-accessdate\">. Retrieved <span class=\"nowrap\">3 April</span> 2020</span>.</cite><span title=\"ctx_ver=Z39.88-2004&amp;rft_val_fmt=info%3Aofi%2Ffmt%3Akev%3Amtx%3Ajournal&amp;rft.genre=unknown&amp;rft.jtitle=www.nsf.gov&amp;rft.atitle=US+NSF+%E2%80%93+NSB-05-40%2C+Long-Lived+Digital+Data+Collections+Enabling+Research+and+Education+in+the+21st+Century&amp;rft_id=https%3A%2F%2Fwww.nsf.gov%2Fpubs%2F2005%2Fnsb0540%2F&amp;rfr_id=info%3Asid%2Fen.wikipedia.org%3AData+science\" class=\"Z3988\"></span></span>\\n</li>\\n<li id=\"cite_note-33\"><span class=\"mw-cite-backlink\"><b><a href=\"#cite_ref-33\">^</a></b></span> <span class=\"reference-text\"><link rel=\"mw-deduplicated-inline-style\" href=\"mw-data:TemplateStyles:r1067248974\"/><cite id=\"CITEREFPress\" class=\"citation web cs1\">Press, Gil. <a rel=\"nofollow\" class=\"external text\" href=\"https://www.forbes.com/sites/gilpress/2013/08/19/data-science-whats-the-half-life-of-a-buzzword/\">\"Data Science: What\\'s The Half-Life of a Buzzword?\"</a>. <i>Forbes</i><span class=\"reference-accessdate\">. Retrieved <span class=\"nowrap\">3 April</span> 2020</span>.</cite><span title=\"ctx_ver=Z39.88-2004&amp;rft_val_fmt=info%3Aofi%2Ffmt%3Akev%3Amtx%3Ajournal&amp;rft.genre=unknown&amp;rft.jtitle=Forbes&amp;rft.atitle=Data+Science%3A+What%27s+The+Half-Life+of+a+Buzzword%3F&amp;rft.aulast=Press&amp;rft.aufirst=Gil&amp;rft_id=https%3A%2F%2Fwww.forbes.com%2Fsites%2Fgilpress%2F2013%2F08%2F19%2Fdata-science-whats-the-half-life-of-a-buzzword%2F&amp;rfr_id=info%3Asid%2Fen.wikipedia.org%3AData+science\" class=\"Z3988\"></span></span>\\n</li>\\n<li id=\"cite_note-:5-34\"><span class=\"mw-cite-backlink\"><b><a href=\"#cite_ref-:5_34-0\">^</a></b></span> <span class=\"reference-text\"><link rel=\"mw-deduplicated-inline-style\" href=\"mw-data:TemplateStyles:r1067248974\"/><cite id=\"CITEREFPham\" class=\"citation web cs1\">Pham, Peter. <a rel=\"nofollow\" class=\"external text\" href=\"https://www.forbes.com/sites/peterpham/2015/08/28/the-impacts-of-big-data-that-you-may-not-have-heard-of/\">\"The Impacts of Big Data That You May Not Have Heard Of\"</a>. <i>Forbes</i><span class=\"reference-accessdate\">. Retrieved <span class=\"nowrap\">3 April</span> 2020</span>.</cite><span title=\"ctx_ver=Z39.88-2004&amp;rft_val_fmt=info%3Aofi%2Ffmt%3Akev%3Amtx%3Ajournal&amp;rft.genre=unknown&amp;rft.jtitle=Forbes&amp;rft.atitle=The+Impacts+of+Big+Data+That+You+May+Not+Have+Heard+Of&amp;rft.aulast=Pham&amp;rft.aufirst=Peter&amp;rft_id=https%3A%2F%2Fwww.forbes.com%2Fsites%2Fpeterpham%2F2015%2F08%2F28%2Fthe-impacts-of-big-data-that-you-may-not-have-heard-of%2F&amp;rfr_id=info%3Asid%2Fen.wikipedia.org%3AData+science\" class=\"Z3988\"></span></span>\\n</li>\\n<li id=\"cite_note-:6-35\"><span class=\"mw-cite-backlink\"><b><a href=\"#cite_ref-:6_35-0\">^</a></b></span> <span class=\"reference-text\"><link rel=\"mw-deduplicated-inline-style\" href=\"mw-data:TemplateStyles:r1067248974\"/><cite id=\"CITEREFMartin2019\" class=\"citation web cs1\">Martin, Sophia (20 September 2019). <a rel=\"nofollow\" class=\"external text\" href=\"https://towardsdatascience.com/how-data-science-will-impact-future-of-businesses-7f11f5699c4d\">\"How Data Science will Impact Future of Businesses?\"</a>. <i>Medium</i><span class=\"reference-accessdate\">. Retrieved <span class=\"nowrap\">3 April</span> 2020</span>.</cite><span title=\"ctx_ver=Z39.88-2004&amp;rft_val_fmt=info%3Aofi%2Ffmt%3Akev%3Amtx%3Ajournal&amp;rft.genre=unknown&amp;rft.jtitle=Medium&amp;rft.atitle=How+Data+Science+will+Impact+Future+of+Businesses%3F&amp;rft.date=2019-09-20&amp;rft.aulast=Martin&amp;rft.aufirst=Sophia&amp;rft_id=https%3A%2F%2Ftowardsdatascience.com%2Fhow-data-science-will-impact-future-of-businesses-7f11f5699c4d&amp;rfr_id=info%3Asid%2Fen.wikipedia.org%3AData+science\" class=\"Z3988\"></span></span>\\n</li>\\n</ol></div>\\n<div class=\"navbox-styles\"><style data-mw-deduplicate=\"TemplateStyles:r1129693374\">.mw-parser-output .hlist dl,.mw-parser-output .hlist ol,.mw-parser-output .hlist ul{margin:0;padding:0}.mw-parser-output .hlist dd,.mw-parser-output .hlist dt,.mw-parser-output .hlist li{margin:0;display:inline}.mw-parser-output .hlist.inline,.mw-parser-output .hlist.inline dl,.mw-parser-output .hlist.inline ol,.mw-parser-output .hlist.inline ul,.mw-parser-output .hlist dl dl,.mw-parser-output .hlist dl ol,.mw-parser-output .hlist dl ul,.mw-parser-output .hlist ol dl,.mw-parser-output .hlist ol ol,.mw-parser-output .hlist ol ul,.mw-parser-output .hlist ul dl,.mw-parser-output .hlist ul ol,.mw-parser-output .hlist ul ul{display:inline}.mw-parser-output .hlist .mw-empty-li{display:none}.mw-parser-output .hlist dt::after{content:\": \"}.mw-parser-output .hlist dd::after,.mw-parser-output .hlist li::after{content:\" \\xc2\\xb7 \";font-weight:bold}.mw-parser-output .hlist dd:last-child::after,.mw-parser-output .hlist dt:last-child::after,.mw-parser-output .hlist li:last-child::after{content:none}.mw-parser-output .hlist dd dd:first-child::before,.mw-parser-output .hlist dd dt:first-child::before,.mw-parser-output .hlist dd li:first-child::before,.mw-parser-output .hlist dt dd:first-child::before,.mw-parser-output .hlist dt dt:first-child::before,.mw-parser-output .hlist dt li:first-child::before,.mw-parser-output .hlist li dd:first-child::before,.mw-parser-output .hlist li dt:first-child::before,.mw-parser-output .hlist li li:first-child::before{content:\" (\";font-weight:normal}.mw-parser-output .hlist dd dd:last-child::after,.mw-parser-output .hlist dd dt:last-child::after,.mw-parser-output .hlist dd li:last-child::after,.mw-parser-output .hlist dt dd:last-child::after,.mw-parser-output .hlist dt dt:last-child::after,.mw-parser-output .hlist dt li:last-child::after,.mw-parser-output .hlist li dd:last-child::after,.mw-parser-output .hlist li dt:last-child::after,.mw-parser-output .hlist li li:last-child::after{content:\")\";font-weight:normal}.mw-parser-output .hlist ol{counter-reset:listitem}.mw-parser-output .hlist ol>li{counter-increment:listitem}.mw-parser-output .hlist ol>li::before{content:\" \"counter(listitem)\"\\\\a0 \"}.mw-parser-output .hlist dd ol>li:first-child::before,.mw-parser-output .hlist dt ol>li:first-child::before,.mw-parser-output .hlist li ol>li:first-child::before{content:\" (\"counter(listitem)\"\\\\a0 \"}</style><style data-mw-deduplicate=\"TemplateStyles:r1061467846\">.mw-parser-output .navbox{box-sizing:border-box;border:1px solid #a2a9b1;width:100%;clear:both;font-size:88%;text-align:center;padding:1px;margin:1em auto 0}.mw-parser-output .navbox .navbox{margin-top:0}.mw-parser-output .navbox+.navbox,.mw-parser-output .navbox+.navbox-styles+.navbox{margin-top:-1px}.mw-parser-output .navbox-inner,.mw-parser-output .navbox-subgroup{width:100%}.mw-parser-output .navbox-group,.mw-parser-output .navbox-title,.mw-parser-output .navbox-abovebelow{padding:0.25em 1em;line-height:1.5em;text-align:center}.mw-parser-output .navbox-group{white-space:nowrap;text-align:right}.mw-parser-output .navbox,.mw-parser-output .navbox-subgroup{background-color:#fdfdfd}.mw-parser-output .navbox-list{line-height:1.5em;border-color:#fdfdfd}.mw-parser-output .navbox-list-with-group{text-align:left;border-left-width:2px;border-left-style:solid}.mw-parser-output tr+tr>.navbox-abovebelow,.mw-parser-output tr+tr>.navbox-group,.mw-parser-output tr+tr>.navbox-image,.mw-parser-output tr+tr>.navbox-list{border-top:2px solid #fdfdfd}.mw-parser-output .navbox-title{background-color:#ccf}.mw-parser-output .navbox-abovebelow,.mw-parser-output .navbox-group,.mw-parser-output .navbox-subgroup .navbox-title{background-color:#ddf}.mw-parser-output .navbox-subgroup .navbox-group,.mw-parser-output .navbox-subgroup .navbox-abovebelow{background-color:#e6e6ff}.mw-parser-output .navbox-even{background-color:#f7f7f7}.mw-parser-output .navbox-odd{background-color:transparent}.mw-parser-output .navbox .hlist td dl,.mw-parser-output .navbox .hlist td ol,.mw-parser-output .navbox .hlist td ul,.mw-parser-output .navbox td.hlist dl,.mw-parser-output .navbox td.hlist ol,.mw-parser-output .navbox td.hlist ul{padding:0.125em 0}.mw-parser-output .navbox .navbar{display:block;font-size:100%}.mw-parser-output .navbox-title .navbar{float:left;text-align:left;margin-right:0.5em}</style></div><div role=\"navigation\" class=\"navbox\" aria-labelledby=\"Data\" style=\"padding:3px\"><table class=\"nowraplinks mw-collapsible autocollapse navbox-inner\" style=\"border-spacing:0;background:transparent;color:inherit\"><tbody><tr><th scope=\"col\" class=\"navbox-title\" colspan=\"2\"><link rel=\"mw-deduplicated-inline-style\" href=\"mw-data:TemplateStyles:r1129693374\"/><style data-mw-deduplicate=\"TemplateStyles:r1063604349\">.mw-parser-output .navbar{display:inline;font-size:88%;font-weight:normal}.mw-parser-output .navbar-collapse{float:left;text-align:left}.mw-parser-output .navbar-boxtext{word-spacing:0}.mw-parser-output .navbar ul{display:inline-block;white-space:nowrap;line-height:inherit}.mw-parser-output .navbar-brackets::before{margin-right:-0.125em;content:\"[ \"}.mw-parser-output .navbar-brackets::after{margin-left:-0.125em;content:\" ]\"}.mw-parser-output .navbar li{word-spacing:-0.125em}.mw-parser-output .navbar a>span,.mw-parser-output .navbar a>abbr{text-decoration:inherit}.mw-parser-output .navbar-mini abbr{font-variant:small-caps;border-bottom:none;text-decoration:none;cursor:inherit}.mw-parser-output .navbar-ct-full{font-size:114%;margin:0 7em}.mw-parser-output .navbar-ct-mini{font-size:114%;margin:0 4em}</style><div class=\"navbar plainlinks hlist navbar-mini\"><ul><li class=\"nv-view\"><a href=\"/wiki/Template:Data\" title=\"Template:Data\"><abbr title=\"View this template\" style=\";;background:none transparent;border:none;box-shadow:none;padding:0;\">v</abbr></a></li><li class=\"nv-talk\"><a href=\"/wiki/Template_talk:Data\" title=\"Template talk:Data\"><abbr title=\"Discuss this template\" style=\";;background:none transparent;border:none;box-shadow:none;padding:0;\">t</abbr></a></li><li class=\"nv-edit\"><a class=\"external text\" href=\"https://en.wikipedia.org/w/index.php?title=Template:Data&amp;action=edit\"><abbr title=\"Edit this template\" style=\";;background:none transparent;border:none;box-shadow:none;padding:0;\">e</abbr></a></li></ul></div><div id=\"Data\" style=\"font-size:114%;margin:0 4em\"><a href=\"/wiki/Data_(computing)\" class=\"mw-redirect\" title=\"Data (computing)\">Data</a></div></th></tr><tr><td colspan=\"2\" class=\"navbox-list navbox-odd hlist\" style=\"width:100%;padding:0\"><div style=\"padding:0 0.25em\">\\n<ul><li><a href=\"/wiki/Data_augmentation\" title=\"Data augmentation\">Augmentation</a></li>\\n<li><a href=\"/wiki/Data_analysis\" title=\"Data analysis\">Analysis</a></li>\\n<li><a href=\"/wiki/Data_archaeology\" title=\"Data archaeology\">Archaeology</a></li>\\n<li><a href=\"/wiki/Big_data\" title=\"Big data\">Big</a></li>\\n<li><a href=\"/wiki/Data_cleansing\" title=\"Data cleansing\">Cleansing</a></li>\\n<li><a href=\"/wiki/Data_collection\" title=\"Data collection\">Collection</a></li>\\n<li><a href=\"/wiki/Data_compression\" title=\"Data compression\">Compression</a></li>\\n<li><a href=\"/wiki/Data_corruption\" title=\"Data corruption\">Corruption</a></li>\\n<li><a href=\"/wiki/Data_curation\" title=\"Data curation\">Curation</a></li>\\n<li><a href=\"/wiki/Data_degradation\" title=\"Data degradation\">Degradation</a></li>\\n<li><a href=\"/wiki/Data_editing\" title=\"Data editing\">Editing</a></li>\\n<li><a href=\"/wiki/Extract,_transform,_load\" title=\"Extract, transform, load\">ETL</a>/<a href=\"/wiki/Extract,_load,_transform\" title=\"Extract, load, transform\">ELT</a>\\n<ul><li><a href=\"/wiki/Data_extraction\" title=\"Data extraction\">Extract</a></li>\\n<li><a href=\"/wiki/Data_transformation\" class=\"mw-redirect\" title=\"Data transformation\">Transform</a></li>\\n<li><a href=\"/wiki/Data_loading\" class=\"mw-redirect\" title=\"Data loading\">Load</a></li></ul></li>\\n<li><a href=\"/wiki/Data_farming\" title=\"Data farming\">Farming</a></li>\\n<li><a href=\"/wiki/Data_format_management\" title=\"Data format management\">Format management</a></li>\\n<li><a href=\"/wiki/Data_fusion\" title=\"Data fusion\">Fusion</a></li>\\n<li><a href=\"/wiki/Data_integration\" title=\"Data integration\">Integration</a></li>\\n<li><a href=\"/wiki/Data_integrity\" title=\"Data integrity\">Integrity</a></li>\\n<li><a href=\"/wiki/Data_library\" title=\"Data library\">Library</a></li>\\n<li><a href=\"/wiki/Data_lineage\" title=\"Data lineage\">Lineage</a></li>\\n<li><a href=\"/wiki/Data_loss\" title=\"Data loss\">Loss</a></li>\\n<li><a href=\"/wiki/Data_management\" title=\"Data management\">Management</a></li>\\n<li><a href=\"/wiki/Data_migration\" title=\"Data migration\">Migration</a></li>\\n<li><a href=\"/wiki/Data_mining\" title=\"Data mining\">Mining</a></li>\\n<li><a href=\"/wiki/Data_philanthropy\" title=\"Data philanthropy\">Philanthropy</a></li>\\n<li><a href=\"/wiki/Data_pre-processing\" title=\"Data pre-processing\">Pre-processing</a></li>\\n<li><a href=\"/wiki/Data_preservation\" title=\"Data preservation\">Preservation</a></li>\\n<li><a href=\"/wiki/Information_privacy\" title=\"Information privacy\">Protection (privacy)</a></li>\\n<li><a href=\"/wiki/Data_publishing\" title=\"Data publishing\">Publishing</a></li>\\n<li><a href=\"/wiki/Data_recovery\" title=\"Data recovery\">Recovery</a></li>\\n<li><a href=\"/wiki/Data_reduction\" title=\"Data reduction\">Reduction</a></li>\\n<li><a href=\"/wiki/Data_retention\" title=\"Data retention\">Retention</a></li>\\n<li><a href=\"/wiki/Data_quality\" title=\"Data quality\">Quality</a></li>\\n<li><a class=\"mw-selflink selflink\">Science</a></li>\\n<li><a href=\"/wiki/Data_scraping\" title=\"Data scraping\">Scraping</a></li>\\n<li><a href=\"/wiki/Data_scrubbing\" title=\"Data scrubbing\">Scrubbing</a></li>\\n<li><a href=\"/wiki/Data_security\" title=\"Data security\">Security</a></li>\\n<li><a href=\"/wiki/Data_steward\" title=\"Data steward\">Stewardship</a></li>\\n<li><a href=\"/wiki/Data_storage\" title=\"Data storage\">Storage</a></li>\\n<li><a href=\"/wiki/Data_validation\" title=\"Data validation\">Validation</a></li>\\n<li><a href=\"/wiki/Data_warehouse\" title=\"Data warehouse\">Warehouse</a></li>\\n<li><a href=\"/wiki/Data_wrangling\" title=\"Data wrangling\">Wrangling/munging</a></li></ul>\\n</div></td></tr></tbody></table></div>\\n<!-- \\nNewPP limit report\\nParsed by mw2388\\nCached time: 20221230021231\\nCache expiry: 1814400\\nReduced expiry: false\\nComplications: [vary\\xe2\\x80\\x90revision\\xe2\\x80\\x90sha1, show\\xe2\\x80\\x90toc]\\nCPU time usage: 0.348 seconds\\nReal time usage: 0.423 seconds\\nPreprocessor visited node count: 1975/1000000\\nPost\\xe2\\x80\\x90expand include size: 71679/2097152 bytes\\nTemplate argument size: 1118/2097152 bytes\\nHighest expansion depth: 12/100\\nExpensive parser function count: 2/500\\nUnstrip recursion depth: 1/20\\nUnstrip post\\xe2\\x80\\x90expand size: 115584/5000000 bytes\\nLua time usage: 0.228/10.000 seconds\\nLua memory usage: 6632838/52428800 bytes\\nNumber of Wikibase entities loaded: 0/400\\n-->\\n<!--\\nTransclusion expansion time report (%,ms,calls,template)\\n100.00%  369.509      1 -total\\n 58.10%  214.700      1 Template:Reflist\\n 24.62%   90.989      9 Template:Cite_journal\\n 16.88%   62.363      1 Template:Data\\n 16.43%   60.720      1 Template:Navbox\\n 14.84%   54.840     17 Template:Cite_web\\n 12.59%   46.515      1 Template:Short_description\\n  7.04%   25.998      2 Template:Pagetype\\n  5.16%   19.060      1 Template:Distinguish\\n  4.35%   16.087      4 Template:Cite_news\\n-->\\n\\n<!-- Saved in parser cache with key enwiki:pcache:idhash:35458904-0!canonical and timestamp 20221230021231 and revision id 1130417671.\\n -->\\n</div><noscript><img src=\"//en.wikipedia.org/wiki/Special:CentralAutoLogin/start?type=1x1\" alt=\"\" title=\"\" width=\"1\" height=\"1\" style=\"border: none; position: absolute;\" /></noscript>\\n<div class=\"printfooter\" data-nosnippet=\"\">Retrieved from \"<a dir=\"ltr\" href=\"https://en.wikipedia.org/w/index.php?title=Data_science&amp;oldid=1130417671\">https://en.wikipedia.org/w/index.php?title=Data_science&amp;oldid=1130417671</a>\"</div></div>\\n\\t\\t<div id=\"catlinks\" class=\"catlinks\" data-mw=\"interface\"><div id=\"mw-normal-catlinks\" class=\"mw-normal-catlinks\"><a href=\"/wiki/Help:Category\" title=\"Help:Category\">Categories</a>: <ul><li><a href=\"/wiki/Category:Information_science\" title=\"Category:Information science\">Information science</a></li><li><a href=\"/wiki/Category:Computer_occupations\" title=\"Category:Computer occupations\">Computer occupations</a></li><li><a href=\"/wiki/Category:Computational_fields_of_study\" title=\"Category:Computational fields of study\">Computational fields of study</a></li><li><a href=\"/wiki/Category:Data_analysis\" title=\"Category:Data analysis\">Data analysis</a></li></ul></div><div id=\"mw-hidden-catlinks\" class=\"mw-hidden-catlinks mw-hidden-cats-hidden\">Hidden categories: <ul><li><a href=\"/wiki/Category:Articles_with_short_description\" title=\"Category:Articles with short description\">Articles with short description</a></li><li><a href=\"/wiki/Category:Short_description_matches_Wikidata\" title=\"Category:Short description matches Wikidata\">Short description matches Wikidata</a></li><li><a href=\"/wiki/Category:Use_dmy_dates_from_August_2021\" title=\"Category:Use dmy dates from August 2021\">Use dmy dates from August 2021</a></li></ul></div></div>\\n\\t</div>\\n</div>\\n\\n<div id=\"mw-navigation\">\\n\\t<h2>Navigation menu</h2>\\n\\t<div id=\"mw-head\">\\n\\t\\t\\n\\n<nav id=\"p-personal\" class=\"vector-menu mw-portlet mw-portlet-personal vector-user-menu-legacy\" aria-labelledby=\"p-personal-label\" role=\"navigation\"  >\\n\\t<h3\\n\\t\\tid=\"p-personal-label\"\\n\\t\\t\\n\\t\\tclass=\"vector-menu-heading \"\\n\\t>\\n\\t\\t<span class=\"vector-menu-heading-label\">Personal tools</span>\\n\\t</h3>\\n\\t<div class=\"vector-menu-content\">\\n\\t    \\n\\t    <ul class=\"vector-menu-content-list\"><li id=\"pt-anonuserpage\" class=\"mw-list-item\"><span title=\"The user page for the IP address you are editing as\">Not logged in</span></li><li id=\"pt-anontalk\" class=\"mw-list-item\"><a href=\"/wiki/Special:MyTalk\" title=\"Discussion about edits from this IP address [n]\" accesskey=\"n\"><span>Talk</span></a></li><li id=\"pt-anoncontribs\" class=\"mw-list-item\"><a href=\"/wiki/Special:MyContributions\" title=\"A list of edits made from this IP address [y]\" accesskey=\"y\"><span>Contributions</span></a></li><li id=\"pt-createaccount\" class=\"mw-list-item\"><a href=\"/w/index.php?title=Special:CreateAccount&amp;returnto=Data+science\" title=\"You are encouraged to create an account and log in; however, it is not mandatory\"><span>Create account</span></a></li><li id=\"pt-login\" class=\"mw-list-item\"><a href=\"/w/index.php?title=Special:UserLogin&amp;returnto=Data+science\" title=\"You&#039;re encouraged to log in; however, it&#039;s not mandatory. [o]\" accesskey=\"o\"><span>Log in</span></a></li></ul>\\n\\t    \\n\\t</div>\\n</nav>\\n\\n\\t\\t<div id=\"left-navigation\">\\n\\t\\t\\t\\n\\n<nav id=\"p-namespaces\" class=\"vector-menu mw-portlet mw-portlet-namespaces vector-menu-tabs vector-menu-tabs-legacy\" aria-labelledby=\"p-namespaces-label\" role=\"navigation\"  >\\n\\t<h3\\n\\t\\tid=\"p-namespaces-label\"\\n\\t\\t\\n\\t\\tclass=\"vector-menu-heading \"\\n\\t>\\n\\t\\t<span class=\"vector-menu-heading-label\">Namespaces</span>\\n\\t</h3>\\n\\t<div class=\"vector-menu-content\">\\n\\t    \\n\\t    <ul class=\"vector-menu-content-list\"><li id=\"ca-nstab-main\" class=\"selected mw-list-item\"><a href=\"/wiki/Data_science\" title=\"View the content page [c]\" accesskey=\"c\"><span>Article</span></a></li><li id=\"ca-talk\" class=\"mw-list-item\"><a href=\"/wiki/Talk:Data_science\" rel=\"discussion\" title=\"Discuss improvements to the content page [t]\" accesskey=\"t\"><span>Talk</span></a></li></ul>\\n\\t    \\n\\t</div>\\n</nav>\\n\\n\\t\\t\\t\\n\\n<nav id=\"p-variants\" class=\"vector-menu mw-portlet mw-portlet-variants emptyPortlet vector-menu-dropdown-noicon vector-menu-dropdown\" aria-labelledby=\"p-variants-label\" role=\"navigation\"  >\\n\\t<input type=\"checkbox\"\\n\\t\\tid=\"p-variants-checkbox\"\\n\\t\\trole=\"button\"\\n\\t\\taria-haspopup=\"true\"\\n\\t\\tdata-event-name=\"ui.dropdown-p-variants\"\\n\\t\\tclass=\"vector-menu-checkbox\"\\n\\t\\taria-labelledby=\"p-variants-label\"\\n\\t/>\\n\\t<label\\n\\t\\tid=\"p-variants-label\"\\n\\t\\t aria-label=\"Change language variant\"\\n\\t\\tclass=\"vector-menu-heading \"\\n\\t>\\n\\t\\t<span class=\"vector-menu-heading-label\">English</span>\\n\\t</label>\\n\\t<div class=\"vector-menu-content\">\\n\\t    \\n\\t    <ul class=\"vector-menu-content-list\"></ul>\\n\\t    \\n\\t</div>\\n</nav>\\n\\n\\t\\t</div>\\n\\t\\t<div id=\"right-navigation\">\\n\\t\\t\\t\\n\\n<nav id=\"p-views\" class=\"vector-menu mw-portlet mw-portlet-views vector-menu-tabs vector-menu-tabs-legacy\" aria-labelledby=\"p-views-label\" role=\"navigation\"  >\\n\\t<h3\\n\\t\\tid=\"p-views-label\"\\n\\t\\t\\n\\t\\tclass=\"vector-menu-heading \"\\n\\t>\\n\\t\\t<span class=\"vector-menu-heading-label\">Views</span>\\n\\t</h3>\\n\\t<div class=\"vector-menu-content\">\\n\\t    \\n\\t    <ul class=\"vector-menu-content-list\"><li id=\"ca-view\" class=\"selected mw-list-item\"><a href=\"/wiki/Data_science\"><span>Read</span></a></li><li id=\"ca-edit\" class=\"mw-list-item\"><a href=\"/w/index.php?title=Data_science&amp;action=edit\" title=\"Edit this page [e]\" accesskey=\"e\"><span>Edit</span></a></li><li id=\"ca-history\" class=\"mw-list-item\"><a href=\"/w/index.php?title=Data_science&amp;action=history\" title=\"Past revisions of this page [h]\" accesskey=\"h\"><span>View history</span></a></li></ul>\\n\\t    \\n\\t</div>\\n</nav>\\n\\n\\t\\t\\t\\n\\n<nav id=\"p-cactions\" class=\"vector-menu mw-portlet mw-portlet-cactions emptyPortlet vector-menu-dropdown-noicon vector-menu-dropdown\" aria-labelledby=\"p-cactions-label\" role=\"navigation\"  title=\"More options\" >\\n\\t<input type=\"checkbox\"\\n\\t\\tid=\"p-cactions-checkbox\"\\n\\t\\trole=\"button\"\\n\\t\\taria-haspopup=\"true\"\\n\\t\\tdata-event-name=\"ui.dropdown-p-cactions\"\\n\\t\\tclass=\"vector-menu-checkbox\"\\n\\t\\taria-labelledby=\"p-cactions-label\"\\n\\t/>\\n\\t<label\\n\\t\\tid=\"p-cactions-label\"\\n\\t\\t\\n\\t\\tclass=\"vector-menu-heading \"\\n\\t>\\n\\t\\t<span class=\"vector-menu-heading-label\">More</span>\\n\\t</label>\\n\\t<div class=\"vector-menu-content\">\\n\\t    \\n\\t    <ul class=\"vector-menu-content-list\"></ul>\\n\\t    \\n\\t</div>\\n</nav>\\n\\n\\t\\t\\t\\n<div id=\"p-search\" role=\"search\" class=\"vector-search-box-vue  vector-search-box-show-thumbnail vector-search-box-auto-expand-width vector-search-box\">\\n\\t<div>\\n\\t\\t<form action=\"/w/index.php\" id=\"searchform\"\\n\\t\\t\\tclass=\"vector-search-box-form\">\\n\\t\\t\\t<div id=\"simpleSearch\"\\n\\t\\t\\t\\tclass=\"vector-search-box-inner\"\\n\\t\\t\\t\\t data-search-loc=\"header-navigation\">\\n\\t\\t\\t\\t<input class=\"vector-search-box-input\"\\n\\t\\t\\t\\t\\t type=\"search\" name=\"search\" placeholder=\"Search Wikipedia\" aria-label=\"Search Wikipedia\" autocapitalize=\"sentences\" title=\"Search Wikipedia [f]\" accesskey=\"f\" id=\"searchInput\"\\n\\t\\t\\t\\t>\\n\\t\\t\\t\\t<input type=\"hidden\" name=\"title\" value=\"Special:Search\">\\n\\t\\t\\t\\t<input id=\"mw-searchButton\"\\n\\t\\t\\t\\t\\t class=\"searchButton mw-fallbackSearchButton\" type=\"submit\" name=\"fulltext\" title=\"Search Wikipedia for this text\" value=\"Search\">\\n\\t\\t\\t\\t<input id=\"searchButton\"\\n\\t\\t\\t\\t\\t class=\"searchButton\" type=\"submit\" name=\"go\" title=\"Go to a page with this exact name if it exists\" value=\"Go\">\\n\\t\\t\\t</div>\\n\\t\\t</form>\\n\\t</div>\\n</div>\\n\\n\\t\\t</div>\\n\\t</div>\\n\\t\\n<div id=\"mw-panel\" class=\"vector-legacy-sidebar\">\\n\\t<div id=\"p-logo\" role=\"banner\">\\n\\t\\t<a class=\"mw-wiki-logo\" href=\"/wiki/Main_Page\"\\n\\t\\t\\ttitle=\"Visit the main page\"></a>\\n\\t</div>\\n\\t\\n\\n<nav id=\"p-navigation\" class=\"vector-menu mw-portlet mw-portlet-navigation vector-menu-portal portal\" aria-labelledby=\"p-navigation-label\" role=\"navigation\"  >\\n\\t<h3\\n\\t\\tid=\"p-navigation-label\"\\n\\t\\t\\n\\t\\tclass=\"vector-menu-heading \"\\n\\t>\\n\\t\\t<span class=\"vector-menu-heading-label\">Navigation</span>\\n\\t</h3>\\n\\t<div class=\"vector-menu-content\">\\n\\t    \\n\\t    <ul class=\"vector-menu-content-list\"><li id=\"n-mainpage-description\" class=\"mw-list-item\"><a href=\"/wiki/Main_Page\" title=\"Visit the main page [z]\" accesskey=\"z\"><span>Main page</span></a></li><li id=\"n-contents\" class=\"mw-list-item\"><a href=\"/wiki/Wikipedia:Contents\" title=\"Guides to browsing Wikipedia\"><span>Contents</span></a></li><li id=\"n-currentevents\" class=\"mw-list-item\"><a href=\"/wiki/Portal:Current_events\" title=\"Articles related to current events\"><span>Current events</span></a></li><li id=\"n-randompage\" class=\"mw-list-item\"><a href=\"/wiki/Special:Random\" title=\"Visit a randomly selected article [x]\" accesskey=\"x\"><span>Random article</span></a></li><li id=\"n-aboutsite\" class=\"mw-list-item\"><a href=\"/wiki/Wikipedia:About\" title=\"Learn about Wikipedia and how it works\"><span>About Wikipedia</span></a></li><li id=\"n-contactpage\" class=\"mw-list-item\"><a href=\"//en.wikipedia.org/wiki/Wikipedia:Contact_us\" title=\"How to contact Wikipedia\"><span>Contact us</span></a></li><li id=\"n-sitesupport\" class=\"mw-list-item\"><a href=\"https://donate.wikimedia.org/wiki/Special:FundraiserRedirector?utm_source=donate&amp;utm_medium=sidebar&amp;utm_campaign=C13_en.wikipedia.org&amp;uselang=en\" title=\"Support us by donating to the Wikimedia Foundation\"><span>Donate</span></a></li></ul>\\n\\t    \\n\\t</div>\\n</nav>\\n\\n\\t\\n\\n<nav id=\"p-interaction\" class=\"vector-menu mw-portlet mw-portlet-interaction vector-menu-portal portal\" aria-labelledby=\"p-interaction-label\" role=\"navigation\"  >\\n\\t<h3\\n\\t\\tid=\"p-interaction-label\"\\n\\t\\t\\n\\t\\tclass=\"vector-menu-heading \"\\n\\t>\\n\\t\\t<span class=\"vector-menu-heading-label\">Contribute</span>\\n\\t</h3>\\n\\t<div class=\"vector-menu-content\">\\n\\t    \\n\\t    <ul class=\"vector-menu-content-list\"><li id=\"n-help\" class=\"mw-list-item\"><a href=\"/wiki/Help:Contents\" title=\"Guidance on how to use and edit Wikipedia\"><span>Help</span></a></li><li id=\"n-introduction\" class=\"mw-list-item\"><a href=\"/wiki/Help:Introduction\" title=\"Learn how to edit Wikipedia\"><span>Learn to edit</span></a></li><li id=\"n-portal\" class=\"mw-list-item\"><a href=\"/wiki/Wikipedia:Community_portal\" title=\"The hub for editors\"><span>Community portal</span></a></li><li id=\"n-recentchanges\" class=\"mw-list-item\"><a href=\"/wiki/Special:RecentChanges\" title=\"A list of recent changes to Wikipedia [r]\" accesskey=\"r\"><span>Recent changes</span></a></li><li id=\"n-upload\" class=\"mw-list-item\"><a href=\"/wiki/Wikipedia:File_upload_wizard\" title=\"Add images or other media for use on Wikipedia\"><span>Upload file</span></a></li></ul>\\n\\t    \\n\\t</div>\\n</nav>\\n\\n\\n<nav id=\"p-tb\" class=\"vector-menu mw-portlet mw-portlet-tb vector-menu-portal portal\" aria-labelledby=\"p-tb-label\" role=\"navigation\"  >\\n\\t<h3\\n\\t\\tid=\"p-tb-label\"\\n\\t\\t\\n\\t\\tclass=\"vector-menu-heading \"\\n\\t>\\n\\t\\t<span class=\"vector-menu-heading-label\">Tools</span>\\n\\t</h3>\\n\\t<div class=\"vector-menu-content\">\\n\\t    \\n\\t    <ul class=\"vector-menu-content-list\"><li id=\"t-whatlinkshere\" class=\"mw-list-item\"><a href=\"/wiki/Special:WhatLinksHere/Data_science\" title=\"List of all English Wikipedia pages containing links to this page [j]\" accesskey=\"j\"><span>What links here</span></a></li><li id=\"t-recentchangeslinked\" class=\"mw-list-item\"><a href=\"/wiki/Special:RecentChangesLinked/Data_science\" rel=\"nofollow\" title=\"Recent changes in pages linked from this page [k]\" accesskey=\"k\"><span>Related changes</span></a></li><li id=\"t-upload\" class=\"mw-list-item\"><a href=\"/wiki/Wikipedia:File_Upload_Wizard\" title=\"Upload files [u]\" accesskey=\"u\"><span>Upload file</span></a></li><li id=\"t-specialpages\" class=\"mw-list-item\"><a href=\"/wiki/Special:SpecialPages\" title=\"A list of all special pages [q]\" accesskey=\"q\"><span>Special pages</span></a></li><li id=\"t-permalink\" class=\"mw-list-item\"><a href=\"/w/index.php?title=Data_science&amp;oldid=1130417671\" title=\"Permanent link to this revision of this page\"><span>Permanent link</span></a></li><li id=\"t-info\" class=\"mw-list-item\"><a href=\"/w/index.php?title=Data_science&amp;action=info\" title=\"More information about this page\"><span>Page information</span></a></li><li id=\"t-cite\" class=\"mw-list-item\"><a href=\"/w/index.php?title=Special:CiteThisPage&amp;page=Data_science&amp;id=1130417671&amp;wpFormIdentifier=titleform\" title=\"Information on how to cite this page\"><span>Cite this page</span></a></li><li id=\"t-wikibase\" class=\"mw-list-item\"><a href=\"https://www.wikidata.org/wiki/Special:EntityPage/Q2374463\" title=\"Structured data on this page hosted by Wikidata [g]\" accesskey=\"g\"><span>Wikidata item</span></a></li></ul>\\n\\t    \\n\\t</div>\\n</nav>\\n\\n\\n<nav id=\"p-coll-print_export\" class=\"vector-menu mw-portlet mw-portlet-coll-print_export vector-menu-portal portal\" aria-labelledby=\"p-coll-print_export-label\" role=\"navigation\"  >\\n\\t<h3\\n\\t\\tid=\"p-coll-print_export-label\"\\n\\t\\t\\n\\t\\tclass=\"vector-menu-heading \"\\n\\t>\\n\\t\\t<span class=\"vector-menu-heading-label\">Print/export</span>\\n\\t</h3>\\n\\t<div class=\"vector-menu-content\">\\n\\t    \\n\\t    <ul class=\"vector-menu-content-list\"><li id=\"coll-download-as-rl\" class=\"mw-list-item\"><a href=\"/w/index.php?title=Special:DownloadAsPdf&amp;page=Data_science&amp;action=show-download-screen\" title=\"Download this page as a PDF file\"><span>Download as PDF</span></a></li><li id=\"t-print\" class=\"mw-list-item\"><a href=\"/w/index.php?title=Data_science&amp;printable=yes\" title=\"Printable version of this page [p]\" accesskey=\"p\"><span>Printable version</span></a></li></ul>\\n\\t    \\n\\t</div>\\n</nav>\\n\\n\\n<nav id=\"p-wikibase-otherprojects\" class=\"vector-menu mw-portlet mw-portlet-wikibase-otherprojects vector-menu-portal portal\" aria-labelledby=\"p-wikibase-otherprojects-label\" role=\"navigation\"  >\\n\\t<h3\\n\\t\\tid=\"p-wikibase-otherprojects-label\"\\n\\t\\t\\n\\t\\tclass=\"vector-menu-heading \"\\n\\t>\\n\\t\\t<span class=\"vector-menu-heading-label\">In other projects</span>\\n\\t</h3>\\n\\t<div class=\"vector-menu-content\">\\n\\t    \\n\\t    <ul class=\"vector-menu-content-list\"><li class=\"wb-otherproject-link wb-otherproject-commons mw-list-item\"><a href=\"https://commons.wikimedia.org/wiki/Category:Data_science\" hreflang=\"en\"><span>Wikimedia Commons</span></a></li><li class=\"wb-otherproject-link wb-otherproject-wikiversity mw-list-item\"><a href=\"https://en.wikiversity.org/wiki/Data_science\" hreflang=\"en\"><span>Wikiversity</span></a></li></ul>\\n\\t    \\n\\t</div>\\n</nav>\\n\\n\\t\\n\\n<nav id=\"p-lang\" class=\"vector-menu mw-portlet mw-portlet-lang vector-menu-portal portal\" aria-labelledby=\"p-lang-label\" role=\"navigation\"  >\\n\\t<h3\\n\\t\\tid=\"p-lang-label\"\\n\\t\\t\\n\\t\\tclass=\"vector-menu-heading \"\\n\\t>\\n\\t\\t<span class=\"vector-menu-heading-label\">Languages</span>\\n\\t</h3>\\n\\t<div class=\"vector-menu-content\">\\n\\t    \\n\\t    <ul class=\"vector-menu-content-list\"><li class=\"interlanguage-link interwiki-ar mw-list-item\"><a href=\"https://ar.wikipedia.org/wiki/%D8%B9%D9%84%D9%85_%D8%A7%D9%84%D8%A8%D9%8A%D8%A7%D9%86%D8%A7%D8%AA\" title=\"\\xd8\\xb9\\xd9\\x84\\xd9\\x85 \\xd8\\xa7\\xd9\\x84\\xd8\\xa8\\xd9\\x8a\\xd8\\xa7\\xd9\\x86\\xd8\\xa7\\xd8\\xaa \\xe2\\x80\\x93 Arabic\" lang=\"ar\" hreflang=\"ar\" class=\"interlanguage-link-target\"><span>\\xd8\\xa7\\xd9\\x84\\xd8\\xb9\\xd8\\xb1\\xd8\\xa8\\xd9\\x8a\\xd8\\xa9</span></a></li><li class=\"interlanguage-link interwiki-az mw-list-item\"><a href=\"https://az.wikipedia.org/wiki/Veril%C9%99nl%C9%99r_elmi_(Data_Science)\" title=\"Veril\\xc9\\x99nl\\xc9\\x99r elmi (Data Science) \\xe2\\x80\\x93 Azerbaijani\" lang=\"az\" hreflang=\"az\" class=\"interlanguage-link-target\"><span>Az\\xc9\\x99rbaycanca</span></a></li><li class=\"interlanguage-link interwiki-bn mw-list-item\"><a href=\"https://bn.wikipedia.org/wiki/%E0%A6%89%E0%A6%AA%E0%A6%BE%E0%A6%A4%E0%A7%8D%E0%A6%A4_%E0%A6%AC%E0%A6%BF%E0%A6%9C%E0%A7%8D%E0%A6%9E%E0%A6%BE%E0%A6%A8\" title=\"\\xe0\\xa6\\x89\\xe0\\xa6\\xaa\\xe0\\xa6\\xbe\\xe0\\xa6\\xa4\\xe0\\xa7\\x8d\\xe0\\xa6\\xa4 \\xe0\\xa6\\xac\\xe0\\xa6\\xbf\\xe0\\xa6\\x9c\\xe0\\xa7\\x8d\\xe0\\xa6\\x9e\\xe0\\xa6\\xbe\\xe0\\xa6\\xa8 \\xe2\\x80\\x93 Bangla\" lang=\"bn\" hreflang=\"bn\" class=\"interlanguage-link-target\"><span>\\xe0\\xa6\\xac\\xe0\\xa6\\xbe\\xe0\\xa6\\x82\\xe0\\xa6\\xb2\\xe0\\xa6\\xbe</span></a></li><li class=\"interlanguage-link interwiki-bg mw-list-item\"><a href=\"https://bg.wikipedia.org/wiki/%D0%9D%D0%B0%D1%83%D0%BA%D0%B0_%D0%B7%D0%B0_%D0%B4%D0%B0%D0%BD%D0%BD%D0%B8%D1%82%D0%B5\" title=\"\\xd0\\x9d\\xd0\\xb0\\xd1\\x83\\xd0\\xba\\xd0\\xb0 \\xd0\\xb7\\xd0\\xb0 \\xd0\\xb4\\xd0\\xb0\\xd0\\xbd\\xd0\\xbd\\xd0\\xb8\\xd1\\x82\\xd0\\xb5 \\xe2\\x80\\x93 Bulgarian\" lang=\"bg\" hreflang=\"bg\" class=\"interlanguage-link-target\"><span>\\xd0\\x91\\xd1\\x8a\\xd0\\xbb\\xd0\\xb3\\xd0\\xb0\\xd1\\x80\\xd1\\x81\\xd0\\xba\\xd0\\xb8</span></a></li><li class=\"interlanguage-link interwiki-ca mw-list-item\"><a href=\"https://ca.wikipedia.org/wiki/Ci%C3%A8ncia_de_les_dades\" title=\"Ci\\xc3\\xa8ncia de les dades \\xe2\\x80\\x93 Catalan\" lang=\"ca\" hreflang=\"ca\" class=\"interlanguage-link-target\"><span>Catal\\xc3\\xa0</span></a></li><li class=\"interlanguage-link interwiki-cs mw-list-item\"><a href=\"https://cs.wikipedia.org/wiki/Data_science\" title=\"Data science \\xe2\\x80\\x93 Czech\" lang=\"cs\" hreflang=\"cs\" class=\"interlanguage-link-target\"><span>\\xc4\\x8ce\\xc5\\xa1tina</span></a></li><li class=\"interlanguage-link interwiki-de mw-list-item\"><a href=\"https://de.wikipedia.org/wiki/Data_Science\" title=\"Data Science \\xe2\\x80\\x93 German\" lang=\"de\" hreflang=\"de\" class=\"interlanguage-link-target\"><span>Deutsch</span></a></li><li class=\"interlanguage-link interwiki-et mw-list-item\"><a href=\"https://et.wikipedia.org/wiki/Andmeteadus\" title=\"Andmeteadus \\xe2\\x80\\x93 Estonian\" lang=\"et\" hreflang=\"et\" class=\"interlanguage-link-target\"><span>Eesti</span></a></li><li class=\"interlanguage-link interwiki-el mw-list-item\"><a href=\"https://el.wikipedia.org/wiki/%CE%95%CF%80%CE%B9%CF%83%CF%84%CE%AE%CE%BC%CE%B7_%CE%B4%CE%B5%CE%B4%CE%BF%CE%BC%CE%AD%CE%BD%CF%89%CE%BD\" title=\"\\xce\\x95\\xcf\\x80\\xce\\xb9\\xcf\\x83\\xcf\\x84\\xce\\xae\\xce\\xbc\\xce\\xb7 \\xce\\xb4\\xce\\xb5\\xce\\xb4\\xce\\xbf\\xce\\xbc\\xce\\xad\\xce\\xbd\\xcf\\x89\\xce\\xbd \\xe2\\x80\\x93 Greek\" lang=\"el\" hreflang=\"el\" class=\"interlanguage-link-target\"><span>\\xce\\x95\\xce\\xbb\\xce\\xbb\\xce\\xb7\\xce\\xbd\\xce\\xb9\\xce\\xba\\xce\\xac</span></a></li><li class=\"interlanguage-link interwiki-es mw-list-item\"><a href=\"https://es.wikipedia.org/wiki/Ciencia_de_datos\" title=\"Ciencia de datos \\xe2\\x80\\x93 Spanish\" lang=\"es\" hreflang=\"es\" class=\"interlanguage-link-target\"><span>Espa\\xc3\\xb1ol</span></a></li><li class=\"interlanguage-link interwiki-eo mw-list-item\"><a href=\"https://eo.wikipedia.org/wiki/Datuma_scienco\" title=\"Datuma scienco \\xe2\\x80\\x93 Esperanto\" lang=\"eo\" hreflang=\"eo\" class=\"interlanguage-link-target\"><span>Esperanto</span></a></li><li class=\"interlanguage-link interwiki-eu mw-list-item\"><a href=\"https://eu.wikipedia.org/wiki/Datu_zientzia\" title=\"Datu zientzia \\xe2\\x80\\x93 Basque\" lang=\"eu\" hreflang=\"eu\" class=\"interlanguage-link-target\"><span>Euskara</span></a></li><li class=\"interlanguage-link interwiki-fa mw-list-item\"><a href=\"https://fa.wikipedia.org/wiki/%D8%B9%D9%84%D9%85_%D8%AF%D8%A7%D8%AF%D9%87%E2%80%8C%D9%87%D8%A7\" title=\"\\xd8\\xb9\\xd9\\x84\\xd9\\x85 \\xd8\\xaf\\xd8\\xa7\\xd8\\xaf\\xd9\\x87\\xe2\\x80\\x8c\\xd9\\x87\\xd8\\xa7 \\xe2\\x80\\x93 Persian\" lang=\"fa\" hreflang=\"fa\" class=\"interlanguage-link-target\"><span>\\xd9\\x81\\xd8\\xa7\\xd8\\xb1\\xd8\\xb3\\xdb\\x8c</span></a></li><li class=\"interlanguage-link interwiki-fr mw-list-item\"><a href=\"https://fr.wikipedia.org/wiki/Science_des_donn%C3%A9es\" title=\"Science des donn\\xc3\\xa9es \\xe2\\x80\\x93 French\" lang=\"fr\" hreflang=\"fr\" class=\"interlanguage-link-target\"><span>Fran\\xc3\\xa7ais</span></a></li><li class=\"interlanguage-link interwiki-ko mw-list-item\"><a href=\"https://ko.wikipedia.org/wiki/%EB%8D%B0%EC%9D%B4%ED%84%B0_%EC%82%AC%EC%9D%B4%EC%96%B8%EC%8A%A4\" title=\"\\xeb\\x8d\\xb0\\xec\\x9d\\xb4\\xed\\x84\\xb0 \\xec\\x82\\xac\\xec\\x9d\\xb4\\xec\\x96\\xb8\\xec\\x8a\\xa4 \\xe2\\x80\\x93 Korean\" lang=\"ko\" hreflang=\"ko\" class=\"interlanguage-link-target\"><span>\\xed\\x95\\x9c\\xea\\xb5\\xad\\xec\\x96\\xb4</span></a></li><li class=\"interlanguage-link interwiki-hy mw-list-item\"><a href=\"https://hy.wikipedia.org/wiki/%D5%8F%D5%BE%D5%B5%D5%A1%D5%AC%D5%B6%D5%A5%D6%80%D5%AB_%D5%A3%D5%AB%D5%BF%D5%B8%D6%82%D5%A9%D5%B5%D5%B8%D6%82%D5%B6\" title=\"\\xd5\\x8f\\xd5\\xbe\\xd5\\xb5\\xd5\\xa1\\xd5\\xac\\xd5\\xb6\\xd5\\xa5\\xd6\\x80\\xd5\\xab \\xd5\\xa3\\xd5\\xab\\xd5\\xbf\\xd5\\xb8\\xd6\\x82\\xd5\\xa9\\xd5\\xb5\\xd5\\xb8\\xd6\\x82\\xd5\\xb6 \\xe2\\x80\\x93 Armenian\" lang=\"hy\" hreflang=\"hy\" class=\"interlanguage-link-target\"><span>\\xd5\\x80\\xd5\\xa1\\xd5\\xb5\\xd5\\xa5\\xd6\\x80\\xd5\\xa5\\xd5\\xb6</span></a></li><li class=\"interlanguage-link interwiki-hi mw-list-item\"><a href=\"https://hi.wikipedia.org/wiki/%E0%A4%86%E0%A4%81%E0%A4%95%E0%A4%A1%E0%A4%BC%E0%A4%BE_%E0%A4%B5%E0%A4%BF%E0%A4%9C%E0%A5%8D%E0%A4%9E%E0%A4%BE%E0%A4%A8\" title=\"\\xe0\\xa4\\x86\\xe0\\xa4\\x81\\xe0\\xa4\\x95\\xe0\\xa4\\xa1\\xe0\\xa4\\xbc\\xe0\\xa4\\xbe \\xe0\\xa4\\xb5\\xe0\\xa4\\xbf\\xe0\\xa4\\x9c\\xe0\\xa5\\x8d\\xe0\\xa4\\x9e\\xe0\\xa4\\xbe\\xe0\\xa4\\xa8 \\xe2\\x80\\x93 Hindi\" lang=\"hi\" hreflang=\"hi\" class=\"interlanguage-link-target\"><span>\\xe0\\xa4\\xb9\\xe0\\xa4\\xbf\\xe0\\xa4\\xa8\\xe0\\xa5\\x8d\\xe0\\xa4\\xa6\\xe0\\xa5\\x80</span></a></li><li class=\"interlanguage-link interwiki-id mw-list-item\"><a href=\"https://id.wikipedia.org/wiki/Ilmu_data\" title=\"Ilmu data \\xe2\\x80\\x93 Indonesian\" lang=\"id\" hreflang=\"id\" class=\"interlanguage-link-target\"><span>Bahasa Indonesia</span></a></li><li class=\"interlanguage-link interwiki-it mw-list-item\"><a href=\"https://it.wikipedia.org/wiki/Scienza_dei_dati\" title=\"Scienza dei dati \\xe2\\x80\\x93 Italian\" lang=\"it\" hreflang=\"it\" class=\"interlanguage-link-target\"><span>Italiano</span></a></li><li class=\"interlanguage-link interwiki-he mw-list-item\"><a href=\"https://he.wikipedia.org/wiki/%D7%9E%D7%93%D7%A2_%D7%94%D7%A0%D7%AA%D7%95%D7%A0%D7%99%D7%9D\" title=\"\\xd7\\x9e\\xd7\\x93\\xd7\\xa2 \\xd7\\x94\\xd7\\xa0\\xd7\\xaa\\xd7\\x95\\xd7\\xa0\\xd7\\x99\\xd7\\x9d \\xe2\\x80\\x93 Hebrew\" lang=\"he\" hreflang=\"he\" class=\"interlanguage-link-target\"><span>\\xd7\\xa2\\xd7\\x91\\xd7\\xa8\\xd7\\x99\\xd7\\xaa</span></a></li><li class=\"interlanguage-link interwiki-kn mw-list-item\"><a href=\"https://kn.wikipedia.org/wiki/%E0%B2%A6%E0%B2%A4%E0%B3%8D%E0%B2%A4%E0%B2%BE%E0%B2%82%E0%B2%B6_%E0%B2%B5%E0%B2%BF%E0%B2%9C%E0%B3%8D%E0%B2%9E%E0%B2%BE%E0%B2%A8\" title=\"\\xe0\\xb2\\xa6\\xe0\\xb2\\xa4\\xe0\\xb3\\x8d\\xe0\\xb2\\xa4\\xe0\\xb2\\xbe\\xe0\\xb2\\x82\\xe0\\xb2\\xb6 \\xe0\\xb2\\xb5\\xe0\\xb2\\xbf\\xe0\\xb2\\x9c\\xe0\\xb3\\x8d\\xe0\\xb2\\x9e\\xe0\\xb2\\xbe\\xe0\\xb2\\xa8 \\xe2\\x80\\x93 Kannada\" lang=\"kn\" hreflang=\"kn\" class=\"interlanguage-link-target\"><span>\\xe0\\xb2\\x95\\xe0\\xb2\\xa8\\xe0\\xb3\\x8d\\xe0\\xb2\\xa8\\xe0\\xb2\\xa1</span></a></li><li class=\"interlanguage-link interwiki-kk mw-list-item\"><a href=\"https://kk.wikipedia.org/wiki/%D0%94%D0%B5%D1%80%D0%B5%D0%BA%D1%82%D0%B5%D1%80_%D1%82%D1%83%D1%80%D0%B0%D0%BB%D1%8B_%D2%93%D1%8B%D0%BB%D1%8B%D0%BC\" title=\"\\xd0\\x94\\xd0\\xb5\\xd1\\x80\\xd0\\xb5\\xd0\\xba\\xd1\\x82\\xd0\\xb5\\xd1\\x80 \\xd1\\x82\\xd1\\x83\\xd1\\x80\\xd0\\xb0\\xd0\\xbb\\xd1\\x8b \\xd2\\x93\\xd1\\x8b\\xd0\\xbb\\xd1\\x8b\\xd0\\xbc \\xe2\\x80\\x93 Kazakh\" lang=\"kk\" hreflang=\"kk\" class=\"interlanguage-link-target\"><span>\\xd2\\x9a\\xd0\\xb0\\xd0\\xb7\\xd0\\xb0\\xd2\\x9b\\xd1\\x88\\xd0\\xb0</span></a></li><li class=\"interlanguage-link interwiki-lv mw-list-item\"><a href=\"https://lv.wikipedia.org/wiki/Datu_m%C4%81c%C4%ABba\" title=\"Datu m\\xc4\\x81c\\xc4\\xabba \\xe2\\x80\\x93 Latvian\" lang=\"lv\" hreflang=\"lv\" class=\"interlanguage-link-target\"><span>Latvie\\xc5\\xa1u</span></a></li><li class=\"interlanguage-link interwiki-mk mw-list-item\"><a href=\"https://mk.wikipedia.org/wiki/%D0%9D%D0%B0%D1%83%D0%BA%D0%B0_%D0%B7%D0%B0_%D0%BF%D0%BE%D0%B4%D0%B0%D1%82%D0%BE%D1%86%D0%B8%D1%82%D0%B5\" title=\"\\xd0\\x9d\\xd0\\xb0\\xd1\\x83\\xd0\\xba\\xd0\\xb0 \\xd0\\xb7\\xd0\\xb0 \\xd0\\xbf\\xd0\\xbe\\xd0\\xb4\\xd0\\xb0\\xd1\\x82\\xd0\\xbe\\xd1\\x86\\xd0\\xb8\\xd1\\x82\\xd0\\xb5 \\xe2\\x80\\x93 Macedonian\" lang=\"mk\" hreflang=\"mk\" class=\"interlanguage-link-target\"><span>\\xd0\\x9c\\xd0\\xb0\\xd0\\xba\\xd0\\xb5\\xd0\\xb4\\xd0\\xbe\\xd0\\xbd\\xd1\\x81\\xd0\\xba\\xd0\\xb8</span></a></li><li class=\"interlanguage-link interwiki-ms mw-list-item\"><a href=\"https://ms.wikipedia.org/wiki/Sains_data\" title=\"Sains data \\xe2\\x80\\x93 Malay\" lang=\"ms\" hreflang=\"ms\" class=\"interlanguage-link-target\"><span>Bahasa Melayu</span></a></li><li class=\"interlanguage-link interwiki-my mw-list-item\"><a href=\"https://my.wikipedia.org/wiki/%E1%80%A1%E1%80%81%E1%80%BB%E1%80%80%E1%80%BA%E1%80%A1%E1%80%9C%E1%80%80%E1%80%BA%E1%80%9E%E1%80%AD%E1%80%95%E1%80%B9%E1%80%95%E1%80%B6%E1%80%95%E1%80%8A%E1%80%AC\" title=\"\\xe1\\x80\\xa1\\xe1\\x80\\x81\\xe1\\x80\\xbb\\xe1\\x80\\x80\\xe1\\x80\\xba\\xe1\\x80\\xa1\\xe1\\x80\\x9c\\xe1\\x80\\x80\\xe1\\x80\\xba\\xe1\\x80\\x9e\\xe1\\x80\\xad\\xe1\\x80\\x95\\xe1\\x80\\xb9\\xe1\\x80\\x95\\xe1\\x80\\xb6\\xe1\\x80\\x95\\xe1\\x80\\x8a\\xe1\\x80\\xac \\xe2\\x80\\x93 Burmese\" lang=\"my\" hreflang=\"my\" class=\"interlanguage-link-target\"><span>\\xe1\\x80\\x99\\xe1\\x80\\xbc\\xe1\\x80\\x94\\xe1\\x80\\xba\\xe1\\x80\\x99\\xe1\\x80\\xac\\xe1\\x80\\x98\\xe1\\x80\\xac\\xe1\\x80\\x9e\\xe1\\x80\\xac</span></a></li><li class=\"interlanguage-link interwiki-nl mw-list-item\"><a href=\"https://nl.wikipedia.org/wiki/Datawetenschap\" title=\"Datawetenschap \\xe2\\x80\\x93 Dutch\" lang=\"nl\" hreflang=\"nl\" class=\"interlanguage-link-target\"><span>Nederlands</span></a></li><li class=\"interlanguage-link interwiki-ja mw-list-item\"><a href=\"https://ja.wikipedia.org/wiki/%E3%83%87%E3%83%BC%E3%82%BF%E3%82%B5%E3%82%A4%E3%82%A8%E3%83%B3%E3%82%B9\" title=\"\\xe3\\x83\\x87\\xe3\\x83\\xbc\\xe3\\x82\\xbf\\xe3\\x82\\xb5\\xe3\\x82\\xa4\\xe3\\x82\\xa8\\xe3\\x83\\xb3\\xe3\\x82\\xb9 \\xe2\\x80\\x93 Japanese\" lang=\"ja\" hreflang=\"ja\" class=\"interlanguage-link-target\"><span>\\xe6\\x97\\xa5\\xe6\\x9c\\xac\\xe8\\xaa\\x9e</span></a></li><li class=\"interlanguage-link interwiki-uz mw-list-item\"><a href=\"https://uz.wikipedia.org/wiki/Ma%27lumotlar_ombori\" title=\"Ma&#039;lumotlar ombori \\xe2\\x80\\x93 Uzbek\" lang=\"uz\" hreflang=\"uz\" class=\"interlanguage-link-target\"><span>O\\xca\\xbbzbekcha/\\xd1\\x9e\\xd0\\xb7\\xd0\\xb1\\xd0\\xb5\\xd0\\xba\\xd1\\x87\\xd0\\xb0</span></a></li><li class=\"interlanguage-link interwiki-pl mw-list-item\"><a href=\"https://pl.wikipedia.org/wiki/Danologia\" title=\"Danologia \\xe2\\x80\\x93 Polish\" lang=\"pl\" hreflang=\"pl\" class=\"interlanguage-link-target\"><span>Polski</span></a></li><li class=\"interlanguage-link interwiki-pt mw-list-item\"><a href=\"https://pt.wikipedia.org/wiki/Ci%C3%AAncia_de_dados\" title=\"Ci\\xc3\\xaancia de dados \\xe2\\x80\\x93 Portuguese\" lang=\"pt\" hreflang=\"pt\" class=\"interlanguage-link-target\"><span>Portugu\\xc3\\xaas</span></a></li><li class=\"interlanguage-link interwiki-ru mw-list-item\"><a href=\"https://ru.wikipedia.org/wiki/%D0%9D%D0%B0%D1%83%D0%BA%D0%B0_%D0%BE_%D0%B4%D0%B0%D0%BD%D0%BD%D1%8B%D1%85\" title=\"\\xd0\\x9d\\xd0\\xb0\\xd1\\x83\\xd0\\xba\\xd0\\xb0 \\xd0\\xbe \\xd0\\xb4\\xd0\\xb0\\xd0\\xbd\\xd0\\xbd\\xd1\\x8b\\xd1\\x85 \\xe2\\x80\\x93 Russian\" lang=\"ru\" hreflang=\"ru\" class=\"interlanguage-link-target\"><span>\\xd0\\xa0\\xd1\\x83\\xd1\\x81\\xd1\\x81\\xd0\\xba\\xd0\\xb8\\xd0\\xb9</span></a></li><li class=\"interlanguage-link interwiki-simple mw-list-item\"><a href=\"https://simple.wikipedia.org/wiki/Data_science\" title=\"Data science \\xe2\\x80\\x93 Simple English\" lang=\"en-simple\" hreflang=\"en-simple\" class=\"interlanguage-link-target\"><span>Simple English</span></a></li><li class=\"interlanguage-link interwiki-fi mw-list-item\"><a href=\"https://fi.wikipedia.org/wiki/Datatiede\" title=\"Datatiede \\xe2\\x80\\x93 Finnish\" lang=\"fi\" hreflang=\"fi\" class=\"interlanguage-link-target\"><span>Suomi</span></a></li><li class=\"interlanguage-link interwiki-ta mw-list-item\"><a href=\"https://ta.wikipedia.org/wiki/%E0%AE%A4%E0%AE%B0%E0%AE%B5%E0%AF%81_%E0%AE%85%E0%AE%B1%E0%AE%BF%E0%AE%B5%E0%AE%BF%E0%AE%AF%E0%AE%B2%E0%AF%8D\" title=\"\\xe0\\xae\\xa4\\xe0\\xae\\xb0\\xe0\\xae\\xb5\\xe0\\xaf\\x81 \\xe0\\xae\\x85\\xe0\\xae\\xb1\\xe0\\xae\\xbf\\xe0\\xae\\xb5\\xe0\\xae\\xbf\\xe0\\xae\\xaf\\xe0\\xae\\xb2\\xe0\\xaf\\x8d \\xe2\\x80\\x93 Tamil\" lang=\"ta\" hreflang=\"ta\" class=\"interlanguage-link-target\"><span>\\xe0\\xae\\xa4\\xe0\\xae\\xae\\xe0\\xae\\xbf\\xe0\\xae\\xb4\\xe0\\xaf\\x8d</span></a></li><li class=\"interlanguage-link interwiki-th mw-list-item\"><a href=\"https://th.wikipedia.org/wiki/%E0%B8%A7%E0%B8%B4%E0%B8%97%E0%B8%A2%E0%B8%B2%E0%B8%81%E0%B8%B2%E0%B8%A3%E0%B8%82%E0%B9%89%E0%B8%AD%E0%B8%A1%E0%B8%B9%E0%B8%A5\" title=\"\\xe0\\xb8\\xa7\\xe0\\xb8\\xb4\\xe0\\xb8\\x97\\xe0\\xb8\\xa2\\xe0\\xb8\\xb2\\xe0\\xb8\\x81\\xe0\\xb8\\xb2\\xe0\\xb8\\xa3\\xe0\\xb8\\x82\\xe0\\xb9\\x89\\xe0\\xb8\\xad\\xe0\\xb8\\xa1\\xe0\\xb8\\xb9\\xe0\\xb8\\xa5 \\xe2\\x80\\x93 Thai\" lang=\"th\" hreflang=\"th\" class=\"interlanguage-link-target\"><span>\\xe0\\xb9\\x84\\xe0\\xb8\\x97\\xe0\\xb8\\xa2</span></a></li><li class=\"interlanguage-link interwiki-tr mw-list-item\"><a href=\"https://tr.wikipedia.org/wiki/Veri_bilimi\" title=\"Veri bilimi \\xe2\\x80\\x93 Turkish\" lang=\"tr\" hreflang=\"tr\" class=\"interlanguage-link-target\"><span>T\\xc3\\xbcrk\\xc3\\xa7e</span></a></li><li class=\"interlanguage-link interwiki-uk mw-list-item\"><a href=\"https://uk.wikipedia.org/wiki/%D0%9D%D0%B0%D1%83%D0%BA%D0%B0_%D0%BF%D1%80%D0%BE_%D0%B4%D0%B0%D0%BD%D1%96\" title=\"\\xd0\\x9d\\xd0\\xb0\\xd1\\x83\\xd0\\xba\\xd0\\xb0 \\xd0\\xbf\\xd1\\x80\\xd0\\xbe \\xd0\\xb4\\xd0\\xb0\\xd0\\xbd\\xd1\\x96 \\xe2\\x80\\x93 Ukrainian\" lang=\"uk\" hreflang=\"uk\" class=\"interlanguage-link-target\"><span>\\xd0\\xa3\\xd0\\xba\\xd1\\x80\\xd0\\xb0\\xd1\\x97\\xd0\\xbd\\xd1\\x81\\xd1\\x8c\\xd0\\xba\\xd0\\xb0</span></a></li><li class=\"interlanguage-link interwiki-ur mw-list-item\"><a href=\"https://ur.wikipedia.org/wiki/%DA%88%DB%8C%D9%B9%D8%A7_%D8%B3%D8%A7%D8%A6%D9%86%D8%B3\" title=\"\\xda\\x88\\xdb\\x8c\\xd9\\xb9\\xd8\\xa7 \\xd8\\xb3\\xd8\\xa7\\xd8\\xa6\\xd9\\x86\\xd8\\xb3 \\xe2\\x80\\x93 Urdu\" lang=\"ur\" hreflang=\"ur\" class=\"interlanguage-link-target\"><span>\\xd8\\xa7\\xd8\\xb1\\xd8\\xaf\\xd9\\x88</span></a></li><li class=\"interlanguage-link interwiki-vi mw-list-item\"><a href=\"https://vi.wikipedia.org/wiki/Khoa_h%E1%BB%8Dc_d%E1%BB%AF_li%E1%BB%87u\" title=\"Khoa h\\xe1\\xbb\\x8dc d\\xe1\\xbb\\xaf li\\xe1\\xbb\\x87u \\xe2\\x80\\x93 Vietnamese\" lang=\"vi\" hreflang=\"vi\" class=\"interlanguage-link-target\"><span>Ti\\xe1\\xba\\xbfng Vi\\xe1\\xbb\\x87t</span></a></li><li class=\"interlanguage-link interwiki-zh-yue mw-list-item\"><a href=\"https://zh-yue.wikipedia.org/wiki/%E6%95%B8%E6%93%9A%E7%A7%91%E5%AD%B8\" title=\"\\xe6\\x95\\xb8\\xe6\\x93\\x9a\\xe7\\xa7\\x91\\xe5\\xad\\xb8 \\xe2\\x80\\x93 Cantonese\" lang=\"yue\" hreflang=\"yue\" class=\"interlanguage-link-target\"><span>\\xe7\\xb2\\xb5\\xe8\\xaa\\x9e</span></a></li><li class=\"interlanguage-link interwiki-zh mw-list-item\"><a href=\"https://zh.wikipedia.org/wiki/%E6%95%B0%E6%8D%AE%E7%A7%91%E5%AD%A6\" title=\"\\xe6\\x95\\xb0\\xe6\\x8d\\xae\\xe7\\xa7\\x91\\xe5\\xad\\xa6 \\xe2\\x80\\x93 Chinese\" lang=\"zh\" hreflang=\"zh\" class=\"interlanguage-link-target\"><span>\\xe4\\xb8\\xad\\xe6\\x96\\x87</span></a></li></ul>\\n\\t    <div class=\"after-portlet after-portlet-lang\"><span class=\"wb-langlinks-edit wb-langlinks-link\"><a href=\"https://www.wikidata.org/wiki/Special:EntityPage/Q2374463#sitelinks-wikipedia\" title=\"Edit interlanguage links\" class=\"wbc-editpage\">Edit links</a></span></div>\\n\\t</div>\\n</nav>\\n\\n</div>\\n\\n</div>\\n\\n<footer id=\"footer\" class=\"mw-footer\" role=\"contentinfo\" >\\n\\t<ul id=\"footer-info\">\\n\\t<li id=\"footer-info-lastmod\"> This page was last edited on 30 December 2022, at 02:12<span class=\"anonymous-show\">&#160;(UTC)</span>.</li>\\n\\t<li id=\"footer-info-copyright\">Text is available under the <a rel=\"license\" href=\"//en.wikipedia.org/wiki/Wikipedia:Text_of_Creative_Commons_Attribution-ShareAlike_3.0_Unported_License\">Creative Commons Attribution-ShareAlike License 3.0</a><a rel=\"license\" href=\"//creativecommons.org/licenses/by-sa/3.0/\" style=\"display:none;\"></a>;\\nadditional terms may apply.  By using this site, you agree to the <a href=\"//foundation.wikimedia.org/wiki/Terms_of_Use\">Terms of Use</a> and <a href=\"//foundation.wikimedia.org/wiki/Privacy_policy\">Privacy Policy</a>. Wikipedia\\xc2\\xae is a registered trademark of the <a href=\"//www.wikimediafoundation.org/\">Wikimedia Foundation, Inc.</a>, a non-profit organization.</li>\\n</ul>\\n\\n\\t<ul id=\"footer-places\">\\n\\t<li id=\"footer-places-privacy\"><a href=\"https://foundation.wikimedia.org/wiki/Privacy_policy\">Privacy policy</a></li>\\n\\t<li id=\"footer-places-about\"><a href=\"/wiki/Wikipedia:About\">About Wikipedia</a></li>\\n\\t<li id=\"footer-places-disclaimers\"><a href=\"/wiki/Wikipedia:General_disclaimer\">Disclaimers</a></li>\\n\\t<li id=\"footer-places-contact\"><a href=\"//en.wikipedia.org/wiki/Wikipedia:Contact_us\">Contact Wikipedia</a></li>\\n\\t<li id=\"footer-places-mobileview\"><a href=\"//en.m.wikipedia.org/w/index.php?title=Data_science&amp;mobileaction=toggle_view_mobile\" class=\"noprint stopMobileRedirectToggle\">Mobile view</a></li>\\n\\t<li id=\"footer-places-developers\"><a href=\"https://developer.wikimedia.org\">Developers</a></li>\\n\\t<li id=\"footer-places-statslink\"><a href=\"https://stats.wikimedia.org/#/en.wikipedia.org\">Statistics</a></li>\\n\\t<li id=\"footer-places-cookiestatement\"><a href=\"https://foundation.wikimedia.org/wiki/Cookie_statement\">Cookie statement</a></li>\\n</ul>\\n\\n\\t<ul id=\"footer-icons\" class=\"noprint\">\\n\\t<li id=\"footer-copyrightico\"><a href=\"https://wikimediafoundation.org/\"><img src=\"/static/images/footer/wikimedia-button.png\" srcset=\"/static/images/footer/wikimedia-button-1.5x.png 1.5x, /static/images/footer/wikimedia-button-2x.png 2x\" width=\"88\" height=\"31\" alt=\"Wikimedia Foundation\" loading=\"lazy\" /></a></li>\\n\\t<li id=\"footer-poweredbyico\"><a href=\"https://www.mediawiki.org/\"><img src=\"/static/images/footer/poweredby_mediawiki_88x31.png\" alt=\"Powered by MediaWiki\" srcset=\"/static/images/footer/poweredby_mediawiki_132x47.png 1.5x, /static/images/footer/poweredby_mediawiki_176x62.png 2x\" width=\"88\" height=\"31\" loading=\"lazy\"/></a></li>\\n</ul>\\n\\n</footer>\\n\\n<script>(RLQ=window.RLQ||[]).push(function(){mw.config.set({\"wgPageParseReport\":{\"limitreport\":{\"cputime\":\"0.348\",\"walltime\":\"0.423\",\"ppvisitednodes\":{\"value\":1975,\"limit\":1000000},\"postexpandincludesize\":{\"value\":71679,\"limit\":2097152},\"templateargumentsize\":{\"value\":1118,\"limit\":2097152},\"expansiondepth\":{\"value\":12,\"limit\":100},\"expensivefunctioncount\":{\"value\":2,\"limit\":500},\"unstrip-depth\":{\"value\":1,\"limit\":20},\"unstrip-size\":{\"value\":115584,\"limit\":5000000},\"entityaccesscount\":{\"value\":0,\"limit\":400},\"timingprofile\":[\"100.00%  369.509      1 -total\",\" 58.10%  214.700      1 Template:Reflist\",\" 24.62%   90.989      9 Template:Cite_journal\",\" 16.88%   62.363      1 Template:Data\",\" 16.43%   60.720      1 Template:Navbox\",\" 14.84%   54.840     17 Template:Cite_web\",\" 12.59%   46.515      1 Template:Short_description\",\"  7.04%   25.998      2 Template:Pagetype\",\"  5.16%   19.060      1 Template:Distinguish\",\"  4.35%   16.087      4 Template:Cite_news\"]},\"scribunto\":{\"limitreport-timeusage\":{\"value\":\"0.228\",\"limit\":\"10.000\"},\"limitreport-memusage\":{\"value\":6632838,\"limit\":52428800}},\"cachereport\":{\"origin\":\"mw2388\",\"timestamp\":\"20221230021231\",\"ttl\":1814400,\"transientcontent\":false}}});});</script>\\n<script type=\"application/ld+json\">{\"@context\":\"https:\\\\/\\\\/schema.org\",\"@type\":\"Article\",\"name\":\"Data science\",\"url\":\"https:\\\\/\\\\/en.wikipedia.org\\\\/wiki\\\\/Data_science\",\"sameAs\":\"http:\\\\/\\\\/www.wikidata.org\\\\/entity\\\\/Q2374463\",\"mainEntity\":\"http:\\\\/\\\\/www.wikidata.org\\\\/entity\\\\/Q2374463\",\"author\":{\"@type\":\"Organization\",\"name\":\"Contributors to Wikimedia projects\"},\"publisher\":{\"@type\":\"Organization\",\"name\":\"Wikimedia Foundation, Inc.\",\"logo\":{\"@type\":\"ImageObject\",\"url\":\"https:\\\\/\\\\/www.wikimedia.org\\\\/static\\\\/images\\\\/wmf-hor-googpub.png\"}},\"datePublished\":\"2012-04-11T17:34:10Z\",\"dateModified\":\"2022-12-30T02:12:22Z\",\"image\":\"https:\\\\/\\\\/upload.wikimedia.org\\\\/wikipedia\\\\/commons\\\\/4\\\\/45\\\\/PIA23792-1600x1200%281%29.jpg\",\"headline\":\"interdisciplinary field of study focused on deriving knowledge and insights from data\"}</script><script type=\"application/ld+json\">{\"@context\":\"https:\\\\/\\\\/schema.org\",\"@type\":\"Article\",\"name\":\"Data science\",\"url\":\"https:\\\\/\\\\/en.wikipedia.org\\\\/wiki\\\\/Data_science\",\"sameAs\":\"http:\\\\/\\\\/www.wikidata.org\\\\/entity\\\\/Q2374463\",\"mainEntity\":\"http:\\\\/\\\\/www.wikidata.org\\\\/entity\\\\/Q2374463\",\"author\":{\"@type\":\"Organization\",\"name\":\"Contributors to Wikimedia projects\"},\"publisher\":{\"@type\":\"Organization\",\"name\":\"Wikimedia Foundation, Inc.\",\"logo\":{\"@type\":\"ImageObject\",\"url\":\"https:\\\\/\\\\/www.wikimedia.org\\\\/static\\\\/images\\\\/wmf-hor-googpub.png\"}},\"datePublished\":\"2012-04-11T17:34:10Z\",\"dateModified\":\"2022-12-30T02:12:22Z\",\"image\":\"https:\\\\/\\\\/upload.wikimedia.org\\\\/wikipedia\\\\/commons\\\\/4\\\\/45\\\\/PIA23792-1600x1200%281%29.jpg\",\"headline\":\"interdisciplinary field of study focused on deriving knowledge and insights from data\"}</script>\\n<script>(RLQ=window.RLQ||[]).push(function(){mw.config.set({\"wgBackendResponseTime\":88,\"wgHostname\":\"mw2413\"});});</script>\\n</body>\\n</html>'\n",
            "<!DOCTYPE html>\n",
            "\n",
            "<html class=\"client-nojs\" dir=\"ltr\" lang=\"en\">\n",
            "<head>\n",
            "<meta charset=\"utf-8\"/>\n",
            "<title>Data science - Wikipedia</title>\n",
            "<script>document.documentElement.className=\"client-js\";RLCONF={\"wgBreakFrames\":false,\"wgSeparatorTransformTable\":[\"\",\"\"],\"wgDigitTransformTable\":[\"\",\"\"],\"wgDefaultDateFormat\":\"dmy\",\"wgMonthNames\":[\"\",\"January\",\"February\",\"March\",\"April\",\"May\",\"June\",\"July\",\"August\",\"September\",\"October\",\"November\",\"December\"],\"wgRequestId\":\"f5f77acf-03af-4d95-a382-1fc9a247708f\",\"wgCSPNonce\":false,\"wgCanonicalNamespace\":\"\",\"wgCanonicalSpecialPageName\":false,\"wgNamespaceNumber\":0,\"wgPageName\":\"Data_science\",\"wgTitle\":\"Data science\",\"wgCurRevisionId\":1130417671,\"wgRevisionId\":1130417671,\"wgArticleId\":35458904,\"wgIsArticle\":true,\"wgIsRedirect\":false,\"wgAction\":\"view\",\"wgUserName\":null,\"wgUserGroups\":[\"*\"],\"wgCategories\":[\"Articles with short description\",\"Short description matches Wikidata\",\"Use dmy dates from August 2021\",\"Information science\",\"Computer occupations\",\"Computational fields of study\",\"Data analysis\"],\"wgPageContentLanguage\":\"en\",\"wgPageContentModel\":\"wikitext\",\"wgRelevantPageName\":\"Data_science\",\n",
            "\"wgRelevantArticleId\":35458904,\"wgIsProbablyEditable\":true,\"wgRelevantPageIsProbablyEditable\":true,\"wgRestrictionEdit\":[],\"wgRestrictionMove\":[],\"wgFlaggedRevsParams\":{\"tags\":{\"status\":{\"levels\":1}}},\"wgVisualEditor\":{\"pageLanguageCode\":\"en\",\"pageLanguageDir\":\"ltr\",\"pageVariantFallbacks\":\"en\"},\"wgMFDisplayWikibaseDescriptions\":{\"search\":true,\"watchlist\":true,\"tagline\":false,\"nearby\":true},\"wgWMESchemaEditAttemptStepOversample\":false,\"wgWMEPageLength\":20000,\"wgNoticeProject\":\"wikipedia\",\"wgVector2022PreviewPages\":[],\"wgMediaViewerOnClick\":true,\"wgMediaViewerEnabledByDefault\":true,\"wgPopupsFlags\":10,\"wgULSCurrentAutonym\":\"English\",\"wgEditSubmitButtonLabelPublish\":true,\"wgCentralAuthMobileDomain\":false,\"wgULSPosition\":\"interlanguage\",\"wgULSisCompactLinksEnabled\":true,\"wgWikibaseItemId\":\"Q2374463\",\"GEHomepageSuggestedEditsEnableTopics\":true,\"wgGETopicsMatchModeEnabled\":false,\"wgGEStructuredTaskRejectionReasonTextInputEnabled\":false};RLSTATE={\"ext.globalCssJs.user.styles\":\"ready\",\n",
            "\"site.styles\":\"ready\",\"user.styles\":\"ready\",\"ext.globalCssJs.user\":\"ready\",\"user\":\"ready\",\"user.options\":\"loading\",\"ext.cite.styles\":\"ready\",\"skins.vector.styles.legacy\":\"ready\",\"jquery.makeCollapsible.styles\":\"ready\",\"ext.visualEditor.desktopArticleTarget.noscript\":\"ready\",\"ext.wikimediaBadges\":\"ready\",\"ext.uls.interlanguage\":\"ready\",\"wikibase.client.init\":\"ready\"};RLPAGEMODULES=[\"ext.cite.ux-enhancements\",\"site\",\"mediawiki.page.ready\",\"jquery.makeCollapsible\",\"mediawiki.toc\",\"skins.vector.legacy.js\",\"mmv.head\",\"mmv.bootstrap.autostart\",\"ext.visualEditor.desktopArticleTarget.init\",\"ext.visualEditor.targetLoader\",\"ext.eventLogging\",\"ext.wikimediaEvents\",\"ext.navigationTiming\",\"ext.cx.eventlogging.campaigns\",\"ext.centralNotice.geoIP\",\"ext.centralNotice.startUp\",\"ext.gadget.ReferenceTooltips\",\"ext.gadget.charinsert\",\"ext.gadget.extra-toolbar-buttons\",\"ext.gadget.switcher\",\"ext.centralauth.centralautologin\",\"ext.popups\",\"ext.echo.centralauth\",\"ext.uls.compactlinks\",\"ext.uls.interface\",\n",
            "\"ext.growthExperiments.SuggestedEditSession\"];</script>\n",
            "<script>(RLQ=window.RLQ||[]).push(function(){mw.loader.implement(\"user.options@12s5i\",function($,jQuery,require,module){mw.user.tokens.set({\"patrolToken\":\"+\\\\\",\"watchToken\":\"+\\\\\",\"csrfToken\":\"+\\\\\"});});});</script>\n",
            "<link href=\"/w/load.php?lang=en&amp;modules=ext.cite.styles%7Cext.uls.interlanguage%7Cext.visualEditor.desktopArticleTarget.noscript%7Cext.wikimediaBadges%7Cjquery.makeCollapsible.styles%7Cskins.vector.styles.legacy%7Cwikibase.client.init&amp;only=styles&amp;skin=vector\" rel=\"stylesheet\"/>\n",
            "<script async=\"\" src=\"/w/load.php?lang=en&amp;modules=startup&amp;only=scripts&amp;raw=1&amp;skin=vector\"></script>\n",
            "<meta content=\"\" name=\"ResourceLoaderDynamicStyles\"/>\n",
            "<link href=\"/w/load.php?lang=en&amp;modules=site.styles&amp;only=styles&amp;skin=vector\" rel=\"stylesheet\"/>\n",
            "<meta content=\"MediaWiki 1.40.0-wmf.14\" name=\"generator\"/>\n",
            "<meta content=\"origin\" name=\"referrer\"/>\n",
            "<meta content=\"origin-when-crossorigin\" name=\"referrer\"/>\n",
            "<meta content=\"origin-when-cross-origin\" name=\"referrer\"/>\n",
            "<meta content=\"max-image-preview:standard\" name=\"robots\"/>\n",
            "<meta content=\"telephone=no\" name=\"format-detection\"/>\n",
            "<meta content=\"https://upload.wikimedia.org/wikipedia/commons/thumb/4/45/PIA23792-1600x1200%281%29.jpg/1200px-PIA23792-1600x1200%281%29.jpg\" property=\"og:image\"/>\n",
            "<meta content=\"1200\" property=\"og:image:width\"/>\n",
            "<meta content=\"900\" property=\"og:image:height\"/>\n",
            "<meta content=\"https://upload.wikimedia.org/wikipedia/commons/thumb/4/45/PIA23792-1600x1200%281%29.jpg/800px-PIA23792-1600x1200%281%29.jpg\" property=\"og:image\"/>\n",
            "<meta content=\"800\" property=\"og:image:width\"/>\n",
            "<meta content=\"600\" property=\"og:image:height\"/>\n",
            "<meta content=\"https://upload.wikimedia.org/wikipedia/commons/thumb/4/45/PIA23792-1600x1200%281%29.jpg/640px-PIA23792-1600x1200%281%29.jpg\" property=\"og:image\"/>\n",
            "<meta content=\"640\" property=\"og:image:width\"/>\n",
            "<meta content=\"480\" property=\"og:image:height\"/>\n",
            "<meta content=\"width=1000\" name=\"viewport\"/>\n",
            "<meta content=\"Data science - Wikipedia\" property=\"og:title\"/>\n",
            "<meta content=\"website\" property=\"og:type\"/>\n",
            "<link href=\"//upload.wikimedia.org\" rel=\"preconnect\"/>\n",
            "<link href=\"//en.m.wikipedia.org/wiki/Data_science\" media=\"only screen and (max-width: 720px)\" rel=\"alternate\"/>\n",
            "<link href=\"/w/index.php?title=Data_science&amp;action=edit\" rel=\"alternate\" title=\"Edit this page\" type=\"application/x-wiki\"/>\n",
            "<link href=\"/static/apple-touch/wikipedia.png\" rel=\"apple-touch-icon\"/>\n",
            "<link href=\"/static/favicon/wikipedia.ico\" rel=\"icon\"/>\n",
            "<link href=\"/w/opensearch_desc.php\" rel=\"search\" title=\"Wikipedia (en)\" type=\"application/opensearchdescription+xml\"/>\n",
            "<link href=\"//en.wikipedia.org/w/api.php?action=rsd\" rel=\"EditURI\" type=\"application/rsd+xml\"/>\n",
            "<link href=\"https://creativecommons.org/licenses/by-sa/3.0/\" rel=\"license\"/>\n",
            "<link href=\"https://en.wikipedia.org/wiki/Data_science\" rel=\"canonical\"/>\n",
            "<link href=\"//meta.wikimedia.org\" rel=\"dns-prefetch\"/>\n",
            "<link href=\"//login.wikimedia.org\" rel=\"dns-prefetch\"/>\n",
            "</head>\n",
            "<body class=\"skin-vector-legacy mediawiki ltr sitedir-ltr mw-hide-empty-elt ns-0 ns-subject mw-editable page-Data_science rootpage-Data_science skin-vector action-view vector-feature-language-in-header-enabled vector-feature-language-in-main-page-header-disabled vector-feature-language-alert-in-sidebar-enabled vector-feature-sticky-header-disabled vector-feature-sticky-header-edit-disabled vector-feature-page-tools-disabled vector-feature-page-tools-pinned-disabled vector-feature-limited-width-enabled vector-feature-limited-width-content-enabled\"><div class=\"noprint\" id=\"mw-page-base\"></div>\n",
            "<div class=\"noprint\" id=\"mw-head-base\"></div>\n",
            "<div class=\"mw-body\" id=\"content\" role=\"main\">\n",
            "<a id=\"top\"></a>\n",
            "<div id=\"siteNotice\"><!-- CentralNotice --><!--esi <esi:include src=\"/esitest-fa8a495983347898/content\" /> --> </div>\n",
            "<div class=\"mw-indicators\">\n",
            "</div>\n",
            "<h1 class=\"firstHeading mw-first-heading\" id=\"firstHeading\"><span class=\"mw-page-title-main\">Data science</span></h1>\n",
            "<div class=\"vector-body\" id=\"bodyContent\">\n",
            "<div class=\"noprint\" id=\"siteSub\">From Wikipedia, the free encyclopedia</div>\n",
            "<div id=\"contentSub\"><div id=\"mw-content-subtitle\"></div></div>\n",
            "<div id=\"contentSub2\"></div>\n",
            "<div id=\"jump-to-nav\"></div>\n",
            "<a class=\"mw-jump-link\" href=\"#mw-head\">Jump to navigation</a>\n",
            "<a class=\"mw-jump-link\" href=\"#searchInput\">Jump to search</a>\n",
            "<div class=\"mw-body-content mw-content-ltr\" dir=\"ltr\" id=\"mw-content-text\" lang=\"en\"><div class=\"mw-parser-output\"><div class=\"shortdescription nomobile noexcerpt noprint searchaux\" style=\"display:none\">Interdisciplinary field of study focused on deriving knowledge and insights from data</div>\n",
            "<style data-mw-deduplicate=\"TemplateStyles:r1033289096\">.mw-parser-output .hatnote{font-style:italic}.mw-parser-output div.hatnote{padding-left:1.6em;margin-bottom:0.5em}.mw-parser-output .hatnote i{font-style:normal}.mw-parser-output .hatnote+link+.hatnote{margin-top:-0.5em}</style><div class=\"hatnote navigation-not-searchable\" role=\"note\">Not to be confused with <a href=\"/wiki/Information_science\" title=\"Information science\">information science</a>.</div>\n",
            "<p class=\"mw-empty-elt\">\n",
            "</p>\n",
            "<div class=\"thumb tright\"><div class=\"thumbinner\" style=\"width:222px;\"><a class=\"image\" href=\"/wiki/File:PIA23792-1600x1200(1).jpg\"><img alt=\"\" class=\"thumbimage\" data-file-height=\"1200\" data-file-width=\"1600\" decoding=\"async\" height=\"165\" src=\"//upload.wikimedia.org/wikipedia/commons/thumb/4/45/PIA23792-1600x1200%281%29.jpg/220px-PIA23792-1600x1200%281%29.jpg\" srcset=\"//upload.wikimedia.org/wikipedia/commons/thumb/4/45/PIA23792-1600x1200%281%29.jpg/330px-PIA23792-1600x1200%281%29.jpg 1.5x, //upload.wikimedia.org/wikipedia/commons/thumb/4/45/PIA23792-1600x1200%281%29.jpg/440px-PIA23792-1600x1200%281%29.jpg 2x\" width=\"220\"/></a> <div class=\"thumbcaption\"><div class=\"magnify\"><a class=\"internal\" href=\"/wiki/File:PIA23792-1600x1200(1).jpg\" title=\"Enlarge\"></a></div>The existence of <a href=\"/wiki/Comet_NEOWISE\" title=\"Comet NEOWISE\">Comet NEOWISE</a> (here depicted as a series of red dots) was discovered by analyzing <a href=\"/wiki/Astronomical_survey\" title=\"Astronomical survey\">astronomical survey</a> data acquired by a <a href=\"/wiki/Space_telescope\" title=\"Space telescope\">space telescope</a>, the <a href=\"/wiki/Wide-field_Infrared_Survey_Explorer\" title=\"Wide-field Infrared Survey Explorer\">Wide-field Infrared Survey Explorer</a>.</div></div></div>\n",
            "<p><b>Data science</b> is an <a class=\"mw-redirect\" href=\"/wiki/Interdisciplinary\" title=\"Interdisciplinary\">interdisciplinary</a> academic field <sup class=\"reference\" id=\"cite_ref-1\"><a href=\"#cite_note-1\">[1]</a></sup>\n",
            "that uses <a href=\"/wiki/Statistics\" title=\"Statistics\">statistics</a>, <a class=\"mw-redirect\" href=\"/wiki/Scientific_computing\" title=\"Scientific computing\">scientific computing</a>, <a href=\"/wiki/Scientific_method\" title=\"Scientific method\">scientific methods</a>, processes, <a href=\"/wiki/Algorithm\" title=\"Algorithm\">algorithms</a> and systems to extract or extrapolate <a href=\"/wiki/Knowledge\" title=\"Knowledge\">knowledge</a> and insights from noisy, structured and <a href=\"/wiki/Unstructured_data\" title=\"Unstructured data\">unstructured data</a>.<sup class=\"reference\" id=\"cite_ref-2\"><a href=\"#cite_note-2\">[2]</a></sup>\n",
            "</p><p>Data science is a \"concept to unify <a href=\"/wiki/Statistics\" title=\"Statistics\">statistics</a>, <a href=\"/wiki/Data_analysis\" title=\"Data analysis\">data analysis</a>, <a href=\"/wiki/Informatics\" title=\"Informatics\">informatics</a>, and their related <a href=\"/wiki/Scientific_method\" title=\"Scientific method\">methods</a>\" in order to \"understand and analyse actual <a class=\"mw-redirect\" href=\"/wiki/Phenomena\" title=\"Phenomena\">phenomena</a>\" with <a href=\"/wiki/Data\" title=\"Data\">data</a>.<sup class=\"reference\" id=\"cite_ref-3\"><a href=\"#cite_note-3\">[3]</a></sup> It uses techniques and theories drawn from many fields within the context of <a href=\"/wiki/Mathematics\" title=\"Mathematics\">mathematics</a>, statistics, <a href=\"/wiki/Computer_science\" title=\"Computer science\">computer science</a>, <a href=\"/wiki/Information_science\" title=\"Information science\">information science</a>, and <a href=\"/wiki/Domain_knowledge\" title=\"Domain knowledge\">domain knowledge</a>.<sup class=\"reference\" id=\"cite_ref-:2_4-0\"><a href=\"#cite_note-:2-4\">[4]</a></sup> However, data science is different from <a href=\"/wiki/Computer_science\" title=\"Computer science\">computer science</a> and information science. <a href=\"/wiki/Turing_Award\" title=\"Turing Award\">Turing Award</a> winner <a href=\"/wiki/Jim_Gray_(computer_scientist)\" title=\"Jim Gray (computer scientist)\">Jim Gray</a> imagined data science as a \"fourth paradigm\" of science (<a href=\"/wiki/Empirical_research\" title=\"Empirical research\">empirical</a>, <a href=\"/wiki/Basic_research\" title=\"Basic research\">theoretical</a>, <a href=\"/wiki/Computational_science\" title=\"Computational science\">computational</a>, and now data-driven) and asserted that \"everything about science is changing because of the impact of <a href=\"/wiki/Information_technology\" title=\"Information technology\">information technology</a>\" and the <a href=\"/wiki/Information_explosion\" title=\"Information explosion\">data deluge</a>.<sup class=\"reference\" id=\"cite_ref-TansleyTolle2009_5-0\"><a href=\"#cite_note-TansleyTolle2009-5\">[5]</a></sup><sup class=\"reference\" id=\"cite_ref-BellHey2009_6-0\"><a href=\"#cite_note-BellHey2009-6\">[6]</a></sup>\n",
            "</p><p>A <b>data scientist</b> is someone who creates programming code and combines it with statistical knowledge to create insights from data.<sup class=\"reference\" id=\"cite_ref-7\"><a href=\"#cite_note-7\">[7]</a></sup>\n",
            "</p>\n",
            "<div aria-labelledby=\"mw-toc-heading\" class=\"toc\" id=\"toc\" role=\"navigation\"><input class=\"toctogglecheckbox\" id=\"toctogglecheckbox\" role=\"button\" style=\"display:none\" type=\"checkbox\"/><div class=\"toctitle\" dir=\"ltr\" lang=\"en\"><h2 id=\"mw-toc-heading\">Contents</h2><span class=\"toctogglespan\"><label class=\"toctogglelabel\" for=\"toctogglecheckbox\"></label></span></div>\n",
            "<ul>\n",
            "<li class=\"toclevel-1 tocsection-1\"><a href=\"#Foundations\"><span class=\"tocnumber\">1</span> <span class=\"toctext\">Foundations</span></a>\n",
            "<ul>\n",
            "<li class=\"toclevel-2 tocsection-2\"><a href=\"#Relationship_to_statistics\"><span class=\"tocnumber\">1.1</span> <span class=\"toctext\">Relationship to statistics</span></a></li>\n",
            "</ul>\n",
            "</li>\n",
            "<li class=\"toclevel-1 tocsection-3\"><a href=\"#Etymology\"><span class=\"tocnumber\">2</span> <span class=\"toctext\">Etymology</span></a>\n",
            "<ul>\n",
            "<li class=\"toclevel-2 tocsection-4\"><a href=\"#Early_usage\"><span class=\"tocnumber\">2.1</span> <span class=\"toctext\">Early usage</span></a></li>\n",
            "<li class=\"toclevel-2 tocsection-5\"><a href=\"#Modern_usage\"><span class=\"tocnumber\">2.2</span> <span class=\"toctext\">Modern usage</span></a></li>\n",
            "</ul>\n",
            "</li>\n",
            "<li class=\"toclevel-1 tocsection-6\"><a href=\"#See_also\"><span class=\"tocnumber\">3</span> <span class=\"toctext\">See also</span></a></li>\n",
            "<li class=\"toclevel-1 tocsection-7\"><a href=\"#References\"><span class=\"tocnumber\">4</span> <span class=\"toctext\">References</span></a></li>\n",
            "</ul>\n",
            "</div>\n",
            "<h2><span class=\"mw-headline\" id=\"Foundations\">Foundations</span><span class=\"mw-editsection\"><span class=\"mw-editsection-bracket\">[</span><a href=\"/w/index.php?title=Data_science&amp;action=edit&amp;section=1\" title=\"Edit section: Foundations\">edit</a><span class=\"mw-editsection-bracket\">]</span></span></h2>\n",
            "<p>Data science is an <a href=\"/wiki/Interdisciplinarity\" title=\"Interdisciplinarity\">interdisciplinary</a> <a href=\"/wiki/Academic_discipline\" title=\"Academic discipline\">field</a><sup class=\"reference\" id=\"cite_ref-8\"><a href=\"#cite_note-8\">[8]</a></sup> focused on extracting knowledge from typically <a href=\"/wiki/Big_data\" title=\"Big data\">large</a> <a href=\"/wiki/Data_set\" title=\"Data set\">data sets</a> and applying the knowledge and insights from that data to <a href=\"/wiki/Problem_solving\" title=\"Problem solving\">solve problems</a> in a wide range of application domains.<sup class=\"reference\" id=\"cite_ref-9\"><a href=\"#cite_note-9\">[9]</a></sup> The field encompasses preparing data for analysis, formulating data science problems, <a href=\"/wiki/Analysis\" title=\"Analysis\">analyzing</a> data, developing data-driven solutions, and presenting findings to inform high-level decisions in a broad range of application domains. As such, it incorporates skills from computer science, statistics, information science, mathematics, <a class=\"mw-redirect\" href=\"/wiki/Data_visualization\" title=\"Data visualization\">data visualization</a>, <a class=\"mw-redirect\" href=\"/wiki/Information_visualization\" title=\"Information visualization\">information visualization</a>, <a href=\"/wiki/Data_sonification\" title=\"Data sonification\">data sonification</a>, data <a href=\"/wiki/Data_integration\" title=\"Data integration\">integration</a>, <a href=\"/wiki/Graphic_design\" title=\"Graphic design\">graphic design</a>, <a class=\"mw-redirect\" href=\"/wiki/Complex_systems\" title=\"Complex systems\">complex systems</a>, <a href=\"/wiki/Communication\" title=\"Communication\">communication</a> and <a href=\"/wiki/Business\" title=\"Business\">business</a>.<sup class=\"reference\" id=\"cite_ref-10\"><a href=\"#cite_note-10\">[10]</a></sup><sup class=\"reference\" id=\"cite_ref-11\"><a href=\"#cite_note-11\">[11]</a></sup> Statistician <a href=\"/wiki/Nathan_Yau\" title=\"Nathan Yau\">Nathan Yau</a>, drawing on <a href=\"/wiki/Ben_Fry\" title=\"Ben Fry\">Ben Fry</a>, also links data science to <a href=\"/wiki/Human%E2%80%93computer_interaction\" title=\"Human–computer interaction\">human–computer interaction</a>: users should be able to intuitively control and <a href=\"/wiki/Exploration\" title=\"Exploration\">explore</a> data.<sup class=\"reference\" id=\"cite_ref-12\"><a href=\"#cite_note-12\">[12]</a></sup><sup class=\"reference\" id=\"cite_ref-13\"><a href=\"#cite_note-13\">[13]</a></sup> In 2015, the <a href=\"/wiki/American_Statistical_Association\" title=\"American Statistical Association\">American Statistical Association</a> identified <a href=\"/wiki/Database\" title=\"Database\">database</a> management, statistics and <a href=\"/wiki/Machine_learning\" title=\"Machine learning\">machine learning</a>, and <a href=\"/wiki/Distributed_computing\" title=\"Distributed computing\">distributed and parallel systems</a> as the three emerging foundational professional communities.<sup class=\"reference\" id=\"cite_ref-14\"><a href=\"#cite_note-14\">[14]</a></sup>\n",
            "</p>\n",
            "<h3><span class=\"mw-headline\" id=\"Relationship_to_statistics\">Relationship to statistics</span><span class=\"mw-editsection\"><span class=\"mw-editsection-bracket\">[</span><a href=\"/w/index.php?title=Data_science&amp;action=edit&amp;section=2\" title=\"Edit section: Relationship to statistics\">edit</a><span class=\"mw-editsection-bracket\">]</span></span></h3>\n",
            "<p>Many statisticians, including <a href=\"/wiki/Nate_Silver\" title=\"Nate Silver\">Nate Silver</a>, have argued that data science is not a new field, but rather another name for statistics.<sup class=\"reference\" id=\"cite_ref-15\"><a href=\"#cite_note-15\">[15]</a></sup> Others argue that data science is distinct from statistics because it focuses on problems and techniques unique to digital data.<sup class=\"reference\" id=\"cite_ref-16\"><a href=\"#cite_note-16\">[16]</a></sup> <a href=\"/wiki/Vasant_Dhar\" title=\"Vasant Dhar\">Vasant Dhar</a> writes that statistics emphasizes quantitative data and description. In contrast, data science deals with quantitative and qualitative data (e.g. from images, text, sensors, transactions or customer information, etc) and emphasizes prediction and action.<sup class=\"reference\" id=\"cite_ref-17\"><a href=\"#cite_note-17\">[17]</a></sup> <a href=\"/wiki/Andrew_Gelman\" title=\"Andrew Gelman\">Andrew Gelman</a> of <a href=\"/wiki/Columbia_University\" title=\"Columbia University\">Columbia University</a> has described statistics as a nonessential part of data science.<sup class=\"reference\" id=\"cite_ref-18\"><a href=\"#cite_note-18\">[18]</a></sup>\n",
            "</p><p>Stanford professor <a href=\"/wiki/David_Donoho\" title=\"David Donoho\">David Donoho</a> writes that data science is not distinguished from statistics by the size of datasets or use of computing and that many graduate programs misleadingly advertise their analytics and statistics training as the essence of a data-science program. He describes data science as an applied field growing out of traditional statistics.<sup class=\"reference\" id=\"cite_ref-:7_19-0\"><a href=\"#cite_note-:7-19\">[19]</a></sup>\n",
            "</p>\n",
            "<h2><span class=\"mw-headline\" id=\"Etymology\">Etymology</span><span class=\"mw-editsection\"><span class=\"mw-editsection-bracket\">[</span><a href=\"/w/index.php?title=Data_science&amp;action=edit&amp;section=3\" title=\"Edit section: Etymology\">edit</a><span class=\"mw-editsection-bracket\">]</span></span></h2>\n",
            "<h3><span class=\"mw-headline\" id=\"Early_usage\">Early usage</span><span class=\"mw-editsection\"><span class=\"mw-editsection-bracket\">[</span><a href=\"/w/index.php?title=Data_science&amp;action=edit&amp;section=4\" title=\"Edit section: Early usage\">edit</a><span class=\"mw-editsection-bracket\">]</span></span></h3>\n",
            "<p>In 1962, <a href=\"/wiki/John_Tukey\" title=\"John Tukey\">John Tukey</a> described a field he called \"data analysis\", which resembles modern data science.<sup class=\"reference\" id=\"cite_ref-:7_19-1\"><a href=\"#cite_note-:7-19\">[19]</a></sup> In 1985, in a lecture given to the Chinese Academy of Sciences in Beijing, <a href=\"/wiki/C._F._Jeff_Wu\" title=\"C. F. Jeff Wu\">C. F. Jeff Wu</a> used the term \"data science\" for the first time as an alternative name for statistics.<sup class=\"reference\" id=\"cite_ref-20\"><a href=\"#cite_note-20\">[20]</a></sup> Later, attendees at a 1992 statistics symposium at the <a href=\"/wiki/Montpellier_2_University\" title=\"Montpellier 2 University\">University of Montpellier II</a> acknowledged the emergence of a new discipline focused on data of various origins and forms, combining established concepts and principles of statistics and data analysis with computing.<sup class=\"reference\" id=\"cite_ref-21\"><a href=\"#cite_note-21\">[21]</a></sup><sup class=\"reference\" id=\"cite_ref-Murtagh_2018_14_22-0\"><a href=\"#cite_note-Murtagh_2018_14-22\">[22]</a></sup>\n",
            "</p><p>The term \"data science\" has been traced back to 1974, when <a href=\"/wiki/Peter_Naur\" title=\"Peter Naur\">Peter Naur</a> proposed it as an alternative name for computer science.<sup class=\"reference\" id=\"cite_ref-:2_4-1\"><a href=\"#cite_note-:2-4\">[4]</a></sup> In 1996, the International Federation of Classification Societies became the first conference to specifically feature data science as a topic.<sup class=\"reference\" id=\"cite_ref-:2_4-2\"><a href=\"#cite_note-:2-4\">[4]</a></sup> However, the definition was still in flux. After the 1985 lecture at the Chinese Academy of Sciences in Beijing, in 1997 <a href=\"/wiki/C._F._Jeff_Wu\" title=\"C. F. Jeff Wu\">C. F. Jeff Wu</a> again suggested that statistics should be renamed data science. He reasoned that a new name would help statistics shed inaccurate stereotypes, such as being synonymous with accounting or limited to describing data.<sup class=\"reference\" id=\"cite_ref-23\"><a href=\"#cite_note-23\">[23]</a></sup> In 1998, Hayashi Chikio argued for data science as a new, interdisciplinary concept, with three aspects: data design, collection, and analysis.<sup class=\"reference\" id=\"cite_ref-Murtagh_2018_14_22-1\"><a href=\"#cite_note-Murtagh_2018_14-22\">[22]</a></sup>\n",
            "</p><p>During the 1990s, popular terms for the process of finding patterns in datasets (which were increasingly large) included \"knowledge discovery\" and \"<a href=\"/wiki/Data_mining\" title=\"Data mining\">data mining</a>\".<sup class=\"reference\" id=\"cite_ref-:2_4-3\"><a href=\"#cite_note-:2-4\">[4]</a></sup><sup class=\"reference\" id=\"cite_ref-:1_24-0\"><a href=\"#cite_note-:1-24\">[24]</a></sup>\n",
            "</p>\n",
            "<h3><span class=\"mw-headline\" id=\"Modern_usage\">Modern usage</span><span class=\"mw-editsection\"><span class=\"mw-editsection-bracket\">[</span><a href=\"/w/index.php?title=Data_science&amp;action=edit&amp;section=5\" title=\"Edit section: Modern usage\">edit</a><span class=\"mw-editsection-bracket\">]</span></span></h3>\n",
            "<p>In 2012, technologists <a href=\"/wiki/Thomas_H._Davenport\" title=\"Thomas H. Davenport\">Thomas H. Davenport</a> and <a href=\"/wiki/DJ_Patil\" title=\"DJ Patil\">DJ Patil</a> declared \"Data Scientist: The Sexiest Job of the 21st Century\",<sup class=\"reference\" id=\"cite_ref-25\"><a href=\"#cite_note-25\">[25]</a></sup> a catch-phrase that was picked up even by major-city newspapers like the <a class=\"mw-redirect\" href=\"/wiki/New_York_Times\" title=\"New York Times\">New York Times</a><sup class=\"reference\" id=\"cite_ref-26\"><a href=\"#cite_note-26\">[26]</a></sup> and the <a class=\"mw-redirect\" href=\"/wiki/Boston_Globe\" title=\"Boston Globe\">Boston Globe</a>.<sup class=\"reference\" id=\"cite_ref-27\"><a href=\"#cite_note-27\">[27]</a></sup> A decade later, they reaffirmed it, stating \"the job is more in demand than ever with employers\".<sup class=\"reference\" id=\"cite_ref-28\"><a href=\"#cite_note-28\">[28]</a></sup>\n",
            "</p><p>The modern conception of data science as an independent discipline is sometimes attributed to <a href=\"/wiki/William_S._Cleveland\" title=\"William S. Cleveland\">William S. Cleveland</a>.<sup class=\"reference\" id=\"cite_ref-29\"><a href=\"#cite_note-29\">[29]</a></sup> In a 2001 paper, he advocated an expansion of statistics beyond theory into technical areas; because this would significantly change the field, it warranted a new name.<sup class=\"reference\" id=\"cite_ref-:1_24-1\"><a href=\"#cite_note-:1-24\">[24]</a></sup> \"Data science\" became more widely used in the next few years: in 2002, the <a class=\"mw-redirect\" href=\"/wiki/Committee_on_Data_for_Science_and_Technology\" title=\"Committee on Data for Science and Technology\">Committee on Data for Science and Technology</a> launched <i>Data Science Journal</i>. In 2003, Columbia University launched <i>The Journal of Data Science</i>.<sup class=\"reference\" id=\"cite_ref-:1_24-2\"><a href=\"#cite_note-:1-24\">[24]</a></sup> In 2014, the <a href=\"/wiki/American_Statistical_Association\" title=\"American Statistical Association\">American Statistical Association</a>'s Section on Statistical Learning and Data Mining changed its name to the Section on Statistical Learning and Data Science, reflecting the ascendant popularity of data science.<sup class=\"reference\" id=\"cite_ref-30\"><a href=\"#cite_note-30\">[30]</a></sup>\n",
            "</p><p>The professional title of \"data scientist\" has been attributed to <a href=\"/wiki/DJ_Patil\" title=\"DJ Patil\">DJ Patil</a> and <a href=\"/wiki/Jeff_Hammerbacher\" title=\"Jeff Hammerbacher\">Jeff Hammerbacher</a> in 2008.<sup class=\"reference\" id=\"cite_ref-31\"><a href=\"#cite_note-31\">[31]</a></sup> Though it was used by the <a href=\"/wiki/National_Science_Board\" title=\"National Science Board\">National Science Board</a> in their 2005 report \"Long-Lived Digital Data Collections: Enabling Research and Education in the 21st Century\", it referred broadly to any key role in managing a digital data collection.<sup class=\"reference\" id=\"cite_ref-32\"><a href=\"#cite_note-32\">[32]</a></sup>\n",
            "</p><p>There is still no consensus on the definition of data science, and it is considered by some to be a <a href=\"/wiki/Buzzword\" title=\"Buzzword\">buzzword</a>.<sup class=\"reference\" id=\"cite_ref-33\"><a href=\"#cite_note-33\">[33]</a></sup> <a href=\"/wiki/Big_data\" title=\"Big data\">Big data</a> is a related marketing term.<sup class=\"reference\" id=\"cite_ref-:5_34-0\"><a href=\"#cite_note-:5-34\">[34]</a></sup> Data scientists are responsible for breaking down big data into usable information and creating software and algorithms that help companies and organizations determine optimal operations.<sup class=\"reference\" id=\"cite_ref-:6_35-0\"><a href=\"#cite_note-:6-35\">[35]</a></sup>\n",
            "</p>\n",
            "<h2><span class=\"mw-headline\" id=\"See_also\">See also</span><span class=\"mw-editsection\"><span class=\"mw-editsection-bracket\">[</span><a href=\"/w/index.php?title=Data_science&amp;action=edit&amp;section=6\" title=\"Edit section: See also\">edit</a><span class=\"mw-editsection-bracket\">]</span></span></h2>\n",
            "<ul><li><a href=\"/wiki/ODSC\" title=\"ODSC\">Open Data Science Conference</a></li>\n",
            "<li><a href=\"/wiki/Scientific_Data_(journal)\" title=\"Scientific Data (journal)\">Scientific Data</a></li>\n",
            "<li><a href=\"/wiki/Women_in_Data\" title=\"Women in Data\">Women in Data</a></li></ul>\n",
            "<h2><span class=\"mw-headline\" id=\"References\">References</span><span class=\"mw-editsection\"><span class=\"mw-editsection-bracket\">[</span><a href=\"/w/index.php?title=Data_science&amp;action=edit&amp;section=7\" title=\"Edit section: References\">edit</a><span class=\"mw-editsection-bracket\">]</span></span></h2>\n",
            "<style data-mw-deduplicate=\"TemplateStyles:r1011085734\">.mw-parser-output .reflist{font-size:90%;margin-bottom:0.5em;list-style-type:decimal}.mw-parser-output .reflist .references{font-size:100%;margin-bottom:0;list-style-type:inherit}.mw-parser-output .reflist-columns-2{column-width:30em}.mw-parser-output .reflist-columns-3{column-width:25em}.mw-parser-output .reflist-columns{margin-top:0.3em}.mw-parser-output .reflist-columns ol{margin-top:0}.mw-parser-output .reflist-columns li{page-break-inside:avoid;break-inside:avoid-column}.mw-parser-output .reflist-upper-alpha{list-style-type:upper-alpha}.mw-parser-output .reflist-upper-roman{list-style-type:upper-roman}.mw-parser-output .reflist-lower-alpha{list-style-type:lower-alpha}.mw-parser-output .reflist-lower-greek{list-style-type:lower-greek}.mw-parser-output .reflist-lower-roman{list-style-type:lower-roman}</style><div class=\"reflist reflist-columns references-column-width\" style=\"column-width: 30em;\">\n",
            "<ol class=\"references\">\n",
            "<li id=\"cite_note-1\"><span class=\"mw-cite-backlink\"><b><a href=\"#cite_ref-1\">^</a></b></span> <span class=\"reference-text\"><style data-mw-deduplicate=\"TemplateStyles:r1067248974\">.mw-parser-output cite.citation{font-style:inherit;word-wrap:break-word}.mw-parser-output .citation q{quotes:\"\\\"\"\"\\\"\"\"'\"\"'\"}.mw-parser-output .citation:target{background-color:rgba(0,127,255,0.133)}.mw-parser-output .id-lock-free a,.mw-parser-output .citation .cs1-lock-free a{background:linear-gradient(transparent,transparent),url(\"//upload.wikimedia.org/wikipedia/commons/6/65/Lock-green.svg\")right 0.1em center/9px no-repeat}.mw-parser-output .id-lock-limited a,.mw-parser-output .id-lock-registration a,.mw-parser-output .citation .cs1-lock-limited a,.mw-parser-output .citation .cs1-lock-registration a{background:linear-gradient(transparent,transparent),url(\"//upload.wikimedia.org/wikipedia/commons/d/d6/Lock-gray-alt-2.svg\")right 0.1em center/9px no-repeat}.mw-parser-output .id-lock-subscription a,.mw-parser-output .citation .cs1-lock-subscription a{background:linear-gradient(transparent,transparent),url(\"//upload.wikimedia.org/wikipedia/commons/a/aa/Lock-red-alt-2.svg\")right 0.1em center/9px no-repeat}.mw-parser-output .cs1-ws-icon a{background:linear-gradient(transparent,transparent),url(\"//upload.wikimedia.org/wikipedia/commons/4/4c/Wikisource-logo.svg\")right 0.1em center/12px no-repeat}.mw-parser-output .cs1-code{color:inherit;background:inherit;border:none;padding:inherit}.mw-parser-output .cs1-hidden-error{display:none;color:#d33}.mw-parser-output .cs1-visible-error{color:#d33}.mw-parser-output .cs1-maint{display:none;color:#3a3;margin-left:0.3em}.mw-parser-output .cs1-format{font-size:95%}.mw-parser-output .cs1-kern-left{padding-left:0.2em}.mw-parser-output .cs1-kern-right{padding-right:0.2em}.mw-parser-output .citation .mw-selflink{font-weight:inherit}</style><cite class=\"citation journal cs1\" id=\"CITEREFDonoho\">Donoho, David. <a class=\"external text\" href=\"https://www.tandfonline.com/doi/full/10.1080/10618600.2017.1384734\" rel=\"nofollow\">\"50 Years of Data Science\"</a>. <i>Journal of Computational and Graphical Statistics</i>. <a class=\"mw-redirect\" href=\"/wiki/Doi_(identifier)\" title=\"Doi (identifier)\">doi</a>:<a class=\"external text\" href=\"https://doi.org/10.1080%2F10618600.2017.1384734\" rel=\"nofollow\">10.1080/10618600.2017.1384734</a>.</cite><span class=\"Z3988\" title=\"ctx_ver=Z39.88-2004&amp;rft_val_fmt=info%3Aofi%2Ffmt%3Akev%3Amtx%3Ajournal&amp;rft.genre=article&amp;rft.jtitle=Journal+of+Computational+and+Graphical+Statistics&amp;rft.atitle=50+Years+of+Data+Science&amp;rft_id=info%3Adoi%2F10.1080%2F10618600.2017.1384734&amp;rft.aulast=Donoho&amp;rft.aufirst=David&amp;rft_id=https%3A%2F%2Fwww.tandfonline.com%2Fdoi%2Ffull%2F10.1080%2F10618600.2017.1384734&amp;rfr_id=info%3Asid%2Fen.wikipedia.org%3AData+science\"></span></span>\n",
            "</li>\n",
            "<li id=\"cite_note-2\"><span class=\"mw-cite-backlink\"><b><a href=\"#cite_ref-2\">^</a></b></span> <span class=\"reference-text\"><link href=\"mw-data:TemplateStyles:r1067248974\" rel=\"mw-deduplicated-inline-style\"/><cite class=\"citation journal cs1\" id=\"CITEREFDhar2013\">Dhar, V. (2013). <a class=\"external text\" href=\"http://cacm.acm.org/magazines/2013/12/169933-data-science-and-prediction/fulltext\" rel=\"nofollow\">\"Data science and prediction\"</a>. <i>Communications of the ACM</i>. <b>56</b> (12): 64–73. <a class=\"mw-redirect\" href=\"/wiki/Doi_(identifier)\" title=\"Doi (identifier)\">doi</a>:<a class=\"external text\" href=\"https://doi.org/10.1145%2F2500499\" rel=\"nofollow\">10.1145/2500499</a>. <a class=\"mw-redirect\" href=\"/wiki/S2CID_(identifier)\" title=\"S2CID (identifier)\">S2CID</a> <a class=\"external text\" href=\"https://api.semanticscholar.org/CorpusID:6107147\" rel=\"nofollow\">6107147</a>. <a class=\"external text\" href=\"https://web.archive.org/web/20141109113411/http://cacm.acm.org/magazines/2013/12/169933-data-science-and-prediction/fulltext\" rel=\"nofollow\">Archived</a> from the original on 9 November 2014<span class=\"reference-accessdate\">. Retrieved <span class=\"nowrap\">2 September</span> 2015</span>.</cite><span class=\"Z3988\" title=\"ctx_ver=Z39.88-2004&amp;rft_val_fmt=info%3Aofi%2Ffmt%3Akev%3Amtx%3Ajournal&amp;rft.genre=article&amp;rft.jtitle=Communications+of+the+ACM&amp;rft.atitle=Data+science+and+prediction&amp;rft.volume=56&amp;rft.issue=12&amp;rft.pages=64-73&amp;rft.date=2013&amp;rft_id=info%3Adoi%2F10.1145%2F2500499&amp;rft_id=https%3A%2F%2Fapi.semanticscholar.org%2FCorpusID%3A6107147%23id-name%3DS2CID&amp;rft.aulast=Dhar&amp;rft.aufirst=V.&amp;rft_id=http%3A%2F%2Fcacm.acm.org%2Fmagazines%2F2013%2F12%2F169933-data-science-and-prediction%2Ffulltext&amp;rfr_id=info%3Asid%2Fen.wikipedia.org%3AData+science\"></span></span>\n",
            "</li>\n",
            "<li id=\"cite_note-3\"><span class=\"mw-cite-backlink\"><b><a href=\"#cite_ref-3\">^</a></b></span> <span class=\"reference-text\"><link href=\"mw-data:TemplateStyles:r1067248974\" rel=\"mw-deduplicated-inline-style\"/><cite class=\"citation book cs1\" id=\"CITEREFHayashi1998\">Hayashi, Chikio (1 January 1998). <a class=\"external text\" href=\"https://www.springer.com/book/9784431702085\" rel=\"nofollow\">\"What is Data Science? Fundamental Concepts and a Heuristic Example\"</a>.  In Hayashi, Chikio; Yajima, Keiji; Bock, Hans-Hermann; Ohsumi, Noboru; Tanaka, Yutaka; Baba, Yasumasa (eds.). <i>Data Science, Classification, and Related Methods</i>. Studies in Classification, Data Analysis, and Knowledge Organization. Springer Japan. pp. 40–51. <a class=\"mw-redirect\" href=\"/wiki/Doi_(identifier)\" title=\"Doi (identifier)\">doi</a>:<a class=\"external text\" href=\"https://doi.org/10.1007%2F978-4-431-65950-1_3\" rel=\"nofollow\">10.1007/978-4-431-65950-1_3</a>. <a class=\"mw-redirect\" href=\"/wiki/ISBN_(identifier)\" title=\"ISBN (identifier)\">ISBN</a> <a href=\"/wiki/Special:BookSources/9784431702085\" title=\"Special:BookSources/9784431702085\"><bdi>9784431702085</bdi></a>.</cite><span class=\"Z3988\" title=\"ctx_ver=Z39.88-2004&amp;rft_val_fmt=info%3Aofi%2Ffmt%3Akev%3Amtx%3Abook&amp;rft.genre=bookitem&amp;rft.atitle=What+is+Data+Science%3F+Fundamental+Concepts+and+a+Heuristic+Example&amp;rft.btitle=Data+Science%2C+Classification%2C+and+Related+Methods&amp;rft.series=Studies+in+Classification%2C+Data+Analysis%2C+and+Knowledge+Organization&amp;rft.pages=40-51&amp;rft.pub=Springer+Japan&amp;rft.date=1998-01-01&amp;rft_id=info%3Adoi%2F10.1007%2F978-4-431-65950-1_3&amp;rft.isbn=9784431702085&amp;rft.aulast=Hayashi&amp;rft.aufirst=Chikio&amp;rft_id=https%3A%2F%2Fwww.springer.com%2Fbook%2F9784431702085&amp;rfr_id=info%3Asid%2Fen.wikipedia.org%3AData+science\"></span></span>\n",
            "</li>\n",
            "<li id=\"cite_note-:2-4\"><span class=\"mw-cite-backlink\">^ <a href=\"#cite_ref-:2_4-0\"><sup><i><b>a</b></i></sup></a> <a href=\"#cite_ref-:2_4-1\"><sup><i><b>b</b></i></sup></a> <a href=\"#cite_ref-:2_4-2\"><sup><i><b>c</b></i></sup></a> <a href=\"#cite_ref-:2_4-3\"><sup><i><b>d</b></i></sup></a></span> <span class=\"reference-text\"><link href=\"mw-data:TemplateStyles:r1067248974\" rel=\"mw-deduplicated-inline-style\"/><cite class=\"citation journal cs1\" id=\"CITEREFCao2017\">Cao, Longbing (29 June 2017). \"Data Science: A Comprehensive Overview\". <i>ACM Computing Surveys</i>. <b>50</b> (3): 43:1–43:42. <a class=\"mw-redirect\" href=\"/wiki/Doi_(identifier)\" title=\"Doi (identifier)\">doi</a>:<a class=\"external text\" href=\"https://doi.org/10.1145%2F3076253\" rel=\"nofollow\">10.1145/3076253</a>. <a class=\"mw-redirect\" href=\"/wiki/ISSN_(identifier)\" title=\"ISSN (identifier)\">ISSN</a> <a class=\"external text\" href=\"//www.worldcat.org/issn/0360-0300\" rel=\"nofollow\">0360-0300</a>. <a class=\"mw-redirect\" href=\"/wiki/S2CID_(identifier)\" title=\"S2CID (identifier)\">S2CID</a> <a class=\"external text\" href=\"https://api.semanticscholar.org/CorpusID:207595944\" rel=\"nofollow\">207595944</a>.</cite><span class=\"Z3988\" title=\"ctx_ver=Z39.88-2004&amp;rft_val_fmt=info%3Aofi%2Ffmt%3Akev%3Amtx%3Ajournal&amp;rft.genre=article&amp;rft.jtitle=ACM+Computing+Surveys&amp;rft.atitle=Data+Science%3A+A+Comprehensive+Overview&amp;rft.volume=50&amp;rft.issue=3&amp;rft.pages=43%3A1-43%3A42&amp;rft.date=2017-06-29&amp;rft_id=https%3A%2F%2Fapi.semanticscholar.org%2FCorpusID%3A207595944%23id-name%3DS2CID&amp;rft.issn=0360-0300&amp;rft_id=info%3Adoi%2F10.1145%2F3076253&amp;rft.aulast=Cao&amp;rft.aufirst=Longbing&amp;rfr_id=info%3Asid%2Fen.wikipedia.org%3AData+science\"></span></span>\n",
            "</li>\n",
            "<li id=\"cite_note-TansleyTolle2009-5\"><span class=\"mw-cite-backlink\"><b><a href=\"#cite_ref-TansleyTolle2009_5-0\">^</a></b></span> <span class=\"reference-text\"><link href=\"mw-data:TemplateStyles:r1067248974\" rel=\"mw-deduplicated-inline-style\"/><cite class=\"citation book cs1\" id=\"CITEREFTony_HeyStewart_TansleyKristin_Michele_Tolle2009\">Tony Hey; Stewart Tansley; Kristin Michele Tolle (2009). <a class=\"external text\" href=\"https://books.google.com/books?id=oGs_AQAAIAAJ\" rel=\"nofollow\"><i>The Fourth Paradigm: Data-intensive Scientific Discovery</i></a>. Microsoft Research. <a class=\"mw-redirect\" href=\"/wiki/ISBN_(identifier)\" title=\"ISBN (identifier)\">ISBN</a> <a href=\"/wiki/Special:BookSources/978-0-9825442-0-4\" title=\"Special:BookSources/978-0-9825442-0-4\"><bdi>978-0-9825442-0-4</bdi></a>. <a class=\"external text\" href=\"https://web.archive.org/web/20170320193019/https://books.google.com/books?id=oGs_AQAAIAAJ\" rel=\"nofollow\">Archived</a> from the original on 20 March 2017.</cite><span class=\"Z3988\" title=\"ctx_ver=Z39.88-2004&amp;rft_val_fmt=info%3Aofi%2Ffmt%3Akev%3Amtx%3Abook&amp;rft.genre=book&amp;rft.btitle=The+Fourth+Paradigm%3A+Data-intensive+Scientific+Discovery&amp;rft.pub=Microsoft+Research&amp;rft.date=2009&amp;rft.isbn=978-0-9825442-0-4&amp;rft.au=Tony+Hey&amp;rft.au=Stewart+Tansley&amp;rft.au=Kristin+Michele+Tolle&amp;rft_id=https%3A%2F%2Fbooks.google.com%2Fbooks%3Fid%3DoGs_AQAAIAAJ&amp;rfr_id=info%3Asid%2Fen.wikipedia.org%3AData+science\"></span></span>\n",
            "</li>\n",
            "<li id=\"cite_note-BellHey2009-6\"><span class=\"mw-cite-backlink\"><b><a href=\"#cite_ref-BellHey2009_6-0\">^</a></b></span> <span class=\"reference-text\"><link href=\"mw-data:TemplateStyles:r1067248974\" rel=\"mw-deduplicated-inline-style\"/><cite class=\"citation journal cs1\" id=\"CITEREFBellHeySzalay2009\">Bell, G.; Hey, T.; Szalay, A. (2009). \"Computer Science: Beyond the Data Deluge\". <i>Science</i>. <b>323</b> (5919): 1297–1298. <a class=\"mw-redirect\" href=\"/wiki/Doi_(identifier)\" title=\"Doi (identifier)\">doi</a>:<a class=\"external text\" href=\"https://doi.org/10.1126%2Fscience.1170411\" rel=\"nofollow\">10.1126/science.1170411</a>. <a class=\"mw-redirect\" href=\"/wiki/ISSN_(identifier)\" title=\"ISSN (identifier)\">ISSN</a> <a class=\"external text\" href=\"//www.worldcat.org/issn/0036-8075\" rel=\"nofollow\">0036-8075</a>. <a class=\"mw-redirect\" href=\"/wiki/PMID_(identifier)\" title=\"PMID (identifier)\">PMID</a> <a class=\"external text\" href=\"//pubmed.ncbi.nlm.nih.gov/19265007\" rel=\"nofollow\">19265007</a>. <a class=\"mw-redirect\" href=\"/wiki/S2CID_(identifier)\" title=\"S2CID (identifier)\">S2CID</a> <a class=\"external text\" href=\"https://api.semanticscholar.org/CorpusID:9743327\" rel=\"nofollow\">9743327</a>.</cite><span class=\"Z3988\" title=\"ctx_ver=Z39.88-2004&amp;rft_val_fmt=info%3Aofi%2Ffmt%3Akev%3Amtx%3Ajournal&amp;rft.genre=article&amp;rft.jtitle=Science&amp;rft.atitle=Computer+Science%3A+Beyond+the+Data+Deluge&amp;rft.volume=323&amp;rft.issue=5919&amp;rft.pages=1297-1298&amp;rft.date=2009&amp;rft.issn=0036-8075&amp;rft_id=https%3A%2F%2Fapi.semanticscholar.org%2FCorpusID%3A9743327%23id-name%3DS2CID&amp;rft_id=info%3Apmid%2F19265007&amp;rft_id=info%3Adoi%2F10.1126%2Fscience.1170411&amp;rft.aulast=Bell&amp;rft.aufirst=G.&amp;rft.au=Hey%2C+T.&amp;rft.au=Szalay%2C+A.&amp;rfr_id=info%3Asid%2Fen.wikipedia.org%3AData+science\"></span></span>\n",
            "</li>\n",
            "<li id=\"cite_note-7\"><span class=\"mw-cite-backlink\"><b><a href=\"#cite_ref-7\">^</a></b></span> <span class=\"reference-text\"><link href=\"mw-data:TemplateStyles:r1067248974\" rel=\"mw-deduplicated-inline-style\"/><cite class=\"citation journal cs1\" id=\"CITEREFDavenportPatil2012\">Davenport, Thomas H.; Patil, D. J. (October 2012). <a class=\"external text\" href=\"https://hbr.org/2012/10/data-scientist-the-sexiest-job-of-the-21st-century/\" rel=\"nofollow\">\"Data Scientist: The Sexiest Job of the 21st Century\"</a>. <i>Harvard Business Review</i>. <b>90</b> (10): 70–76, 128. <a class=\"mw-redirect\" href=\"/wiki/PMID_(identifier)\" title=\"PMID (identifier)\">PMID</a> <a class=\"external text\" href=\"//pubmed.ncbi.nlm.nih.gov/23074866\" rel=\"nofollow\">23074866</a><span class=\"reference-accessdate\">. Retrieved <span class=\"nowrap\">18 January</span> 2016</span>.</cite><span class=\"Z3988\" title=\"ctx_ver=Z39.88-2004&amp;rft_val_fmt=info%3Aofi%2Ffmt%3Akev%3Amtx%3Ajournal&amp;rft.genre=article&amp;rft.jtitle=Harvard+Business+Review&amp;rft.atitle=Data+Scientist%3A+The+Sexiest+Job+of+the+21st+Century&amp;rft.volume=90&amp;rft.issue=10&amp;rft.pages=70-76%2C+128&amp;rft.date=2012-10&amp;rft_id=info%3Apmid%2F23074866&amp;rft.aulast=Davenport&amp;rft.aufirst=Thomas+H.&amp;rft.au=Patil%2C+D.+J.&amp;rft_id=https%3A%2F%2Fhbr.org%2F2012%2F10%2Fdata-scientist-the-sexiest-job-of-the-21st-century%2F&amp;rfr_id=info%3Asid%2Fen.wikipedia.org%3AData+science\"></span></span>\n",
            "</li>\n",
            "<li id=\"cite_note-8\"><span class=\"mw-cite-backlink\"><b><a href=\"#cite_ref-8\">^</a></b></span> <span class=\"reference-text\"><link href=\"mw-data:TemplateStyles:r1067248974\" rel=\"mw-deduplicated-inline-style\"/><cite class=\"citation journal cs1\" id=\"CITEREFEmmert-StreibDehmer2018\">Emmert-Streib, Frank; Dehmer, Matthias (2018). <a class=\"external text\" href=\"https://doi.org/10.3390%2Fmake1010015\" rel=\"nofollow\">\"Defining data science by a data-driven quantification of the community\"</a>. <i>Machine Learning and Knowledge Extraction</i>. <b>1</b>: 235–251. <a class=\"mw-redirect\" href=\"/wiki/Doi_(identifier)\" title=\"Doi (identifier)\">doi</a>:<span class=\"cs1-lock-free\" title=\"Freely accessible\"><a class=\"external text\" href=\"https://doi.org/10.3390%2Fmake1010015\" rel=\"nofollow\">10.3390/make1010015</a></span>.</cite><span class=\"Z3988\" title=\"ctx_ver=Z39.88-2004&amp;rft_val_fmt=info%3Aofi%2Ffmt%3Akev%3Amtx%3Ajournal&amp;rft.genre=article&amp;rft.jtitle=Machine+Learning+and+Knowledge+Extraction&amp;rft.atitle=Defining+data+science+by+a+data-driven+quantification+of+the+community&amp;rft.volume=1&amp;rft.pages=235-251&amp;rft.date=2018&amp;rft_id=info%3Adoi%2F10.3390%2Fmake1010015&amp;rft.aulast=Emmert-Streib&amp;rft.aufirst=Frank&amp;rft.au=Dehmer%2C+Matthias&amp;rft_id=%2F%2Fdoi.org%2F10.3390%252Fmake1010015&amp;rfr_id=info%3Asid%2Fen.wikipedia.org%3AData+science\"></span></span>\n",
            "</li>\n",
            "<li id=\"cite_note-9\"><span class=\"mw-cite-backlink\"><b><a href=\"#cite_ref-9\">^</a></b></span> <span class=\"reference-text\"><link href=\"mw-data:TemplateStyles:r1067248974\" rel=\"mw-deduplicated-inline-style\"/><cite class=\"citation web cs1\"><a class=\"external text\" href=\"https://web.archive.org/web/20200810114002/http://www.datascienceassn.org/about-data-science\" rel=\"nofollow\">\"About Data Science\"</a>. <i>Data Science Association</i>. Archived from <a class=\"external text\" href=\"http://www.datascienceassn.org/about-data-science\" rel=\"nofollow\">the original</a> on 10 August 2020<span class=\"reference-accessdate\">. Retrieved <span class=\"nowrap\">3 April</span> 2020</span>.</cite><span class=\"Z3988\" title=\"ctx_ver=Z39.88-2004&amp;rft_val_fmt=info%3Aofi%2Ffmt%3Akev%3Amtx%3Ajournal&amp;rft.genre=unknown&amp;rft.jtitle=Data+Science+Association&amp;rft.atitle=About+Data+Science&amp;rft_id=http%3A%2F%2Fwww.datascienceassn.org%2Fabout-data-science&amp;rfr_id=info%3Asid%2Fen.wikipedia.org%3AData+science\"></span></span>\n",
            "</li>\n",
            "<li id=\"cite_note-10\"><span class=\"mw-cite-backlink\"><b><a href=\"#cite_ref-10\">^</a></b></span> <span class=\"reference-text\"><link href=\"mw-data:TemplateStyles:r1067248974\" rel=\"mw-deduplicated-inline-style\"/><cite class=\"citation web cs1\"><a class=\"external text\" href=\"https://www.oreilly.com/library/view/doing-data-science/9781449363871/ch01.html\" rel=\"nofollow\">\"1. Introduction: What Is Data Science?\"</a>. <i>Doing Data Science [Book]</i>. O’Reilly<span class=\"reference-accessdate\">. Retrieved <span class=\"nowrap\">3 April</span> 2020</span>.</cite><span class=\"Z3988\" title=\"ctx_ver=Z39.88-2004&amp;rft_val_fmt=info%3Aofi%2Ffmt%3Akev%3Amtx%3Ajournal&amp;rft.genre=unknown&amp;rft.jtitle=Doing+Data+Science+%5BBook%5D&amp;rft.atitle=1.+Introduction%3A+What+Is+Data+Science%3F&amp;rft_id=https%3A%2F%2Fwww.oreilly.com%2Flibrary%2Fview%2Fdoing-data-science%2F9781449363871%2Fch01.html&amp;rfr_id=info%3Asid%2Fen.wikipedia.org%3AData+science\"></span></span>\n",
            "</li>\n",
            "<li id=\"cite_note-11\"><span class=\"mw-cite-backlink\"><b><a href=\"#cite_ref-11\">^</a></b></span> <span class=\"reference-text\"><link href=\"mw-data:TemplateStyles:r1067248974\" rel=\"mw-deduplicated-inline-style\"/><cite class=\"citation web cs1\"><a class=\"external text\" href=\"https://medriscoll.com/post/4740157098/the-three-sexy-skills-of-data-geeks\" rel=\"nofollow\">\"the three sexy skills of data geeks\"</a>. <i>m.e.driscoll: data utopian</i>. 27 May 2009<span class=\"reference-accessdate\">. Retrieved <span class=\"nowrap\">3 April</span> 2020</span>.</cite><span class=\"Z3988\" title=\"ctx_ver=Z39.88-2004&amp;rft_val_fmt=info%3Aofi%2Ffmt%3Akev%3Amtx%3Ajournal&amp;rft.genre=unknown&amp;rft.jtitle=m.e.driscoll%3A+data+utopian&amp;rft.atitle=the+three+sexy+skills+of+data+geeks&amp;rft.date=2009-05-27&amp;rft_id=https%3A%2F%2Fmedriscoll.com%2Fpost%2F4740157098%2Fthe-three-sexy-skills-of-data-geeks&amp;rfr_id=info%3Asid%2Fen.wikipedia.org%3AData+science\"></span></span>\n",
            "</li>\n",
            "<li id=\"cite_note-12\"><span class=\"mw-cite-backlink\"><b><a href=\"#cite_ref-12\">^</a></b></span> <span class=\"reference-text\"><link href=\"mw-data:TemplateStyles:r1067248974\" rel=\"mw-deduplicated-inline-style\"/><cite class=\"citation web cs1\" id=\"CITEREFYau2009\">Yau, Nathan (4 June 2009). <a class=\"external text\" href=\"https://flowingdata.com/2009/06/04/rise-of-the-data-scientist/\" rel=\"nofollow\">\"Rise of the Data Scientist\"</a>. <i>FlowingData</i><span class=\"reference-accessdate\">. Retrieved <span class=\"nowrap\">3 April</span> 2020</span>.</cite><span class=\"Z3988\" title=\"ctx_ver=Z39.88-2004&amp;rft_val_fmt=info%3Aofi%2Ffmt%3Akev%3Amtx%3Ajournal&amp;rft.genre=unknown&amp;rft.jtitle=FlowingData&amp;rft.atitle=Rise+of+the+Data+Scientist&amp;rft.date=2009-06-04&amp;rft.aulast=Yau&amp;rft.aufirst=Nathan&amp;rft_id=https%3A%2F%2Fflowingdata.com%2F2009%2F06%2F04%2Frise-of-the-data-scientist%2F&amp;rfr_id=info%3Asid%2Fen.wikipedia.org%3AData+science\"></span></span>\n",
            "</li>\n",
            "<li id=\"cite_note-13\"><span class=\"mw-cite-backlink\"><b><a href=\"#cite_ref-13\">^</a></b></span> <span class=\"reference-text\"><link href=\"mw-data:TemplateStyles:r1067248974\" rel=\"mw-deduplicated-inline-style\"/><cite class=\"citation web cs1\"><a class=\"external text\" href=\"https://benfry.com/phd/dissertation/2.html\" rel=\"nofollow\">\"Basic Example\"</a>. <i>benfry.com</i><span class=\"reference-accessdate\">. Retrieved <span class=\"nowrap\">3 April</span> 2020</span>.</cite><span class=\"Z3988\" title=\"ctx_ver=Z39.88-2004&amp;rft_val_fmt=info%3Aofi%2Ffmt%3Akev%3Amtx%3Ajournal&amp;rft.genre=unknown&amp;rft.jtitle=benfry.com&amp;rft.atitle=Basic+Example&amp;rft_id=https%3A%2F%2Fbenfry.com%2Fphd%2Fdissertation%2F2.html&amp;rfr_id=info%3Asid%2Fen.wikipedia.org%3AData+science\"></span></span>\n",
            "</li>\n",
            "<li id=\"cite_note-14\"><span class=\"mw-cite-backlink\"><b><a href=\"#cite_ref-14\">^</a></b></span> <span class=\"reference-text\"><link href=\"mw-data:TemplateStyles:r1067248974\" rel=\"mw-deduplicated-inline-style\"/><cite class=\"citation web cs1\"><a class=\"external text\" href=\"https://magazine.amstat.org/blog/2015/10/01/asa-statement-on-the-role-of-statistics-in-data-science/\" rel=\"nofollow\">\"ASA Statement on the Role of Statistics in Data Science\"</a>. <i>AMSTATNEWS</i>. <a href=\"/wiki/American_Statistical_Association\" title=\"American Statistical Association\">American Statistical Association</a>. 1 October 2015. <a class=\"external text\" href=\"https://web.archive.org/web/20190620184935/https://magazine.amstat.org/blog/2015/10/01/asa-statement-on-the-role-of-statistics-in-data-science/\" rel=\"nofollow\">Archived</a> from the original on 20 June 2019<span class=\"reference-accessdate\">. Retrieved <span class=\"nowrap\">29 May</span> 2019</span>.</cite><span class=\"Z3988\" title=\"ctx_ver=Z39.88-2004&amp;rft_val_fmt=info%3Aofi%2Ffmt%3Akev%3Amtx%3Ajournal&amp;rft.genre=unknown&amp;rft.jtitle=AMSTATNEWS&amp;rft.atitle=ASA+Statement+on+the+Role+of+Statistics+in+Data+Science&amp;rft.date=2015-10-01&amp;rft_id=https%3A%2F%2Fmagazine.amstat.org%2Fblog%2F2015%2F10%2F01%2Fasa-statement-on-the-role-of-statistics-in-data-science%2F&amp;rfr_id=info%3Asid%2Fen.wikipedia.org%3AData+science\"></span></span>\n",
            "</li>\n",
            "<li id=\"cite_note-15\"><span class=\"mw-cite-backlink\"><b><a href=\"#cite_ref-15\">^</a></b></span> <span class=\"reference-text\"><link href=\"mw-data:TemplateStyles:r1067248974\" rel=\"mw-deduplicated-inline-style\"/><cite class=\"citation web cs1\"><a class=\"external text\" href=\"https://www.statisticsviews.com/article/nate-silver-what-i-need-from-statisticians/\" rel=\"nofollow\">\"Nate Silver: What I need from statisticians\"</a>. <i>Statistics Views</i><span class=\"reference-accessdate\">. Retrieved <span class=\"nowrap\">3 April</span> 2020</span>.</cite><span class=\"Z3988\" title=\"ctx_ver=Z39.88-2004&amp;rft_val_fmt=info%3Aofi%2Ffmt%3Akev%3Amtx%3Ajournal&amp;rft.genre=unknown&amp;rft.jtitle=Statistics+Views&amp;rft.atitle=Nate+Silver%3A+What+I+need+from+statisticians&amp;rft_id=https%3A%2F%2Fwww.statisticsviews.com%2Farticle%2Fnate-silver-what-i-need-from-statisticians%2F&amp;rfr_id=info%3Asid%2Fen.wikipedia.org%3AData+science\"></span></span>\n",
            "</li>\n",
            "<li id=\"cite_note-16\"><span class=\"mw-cite-backlink\"><b><a href=\"#cite_ref-16\">^</a></b></span> <span class=\"reference-text\"><link href=\"mw-data:TemplateStyles:r1067248974\" rel=\"mw-deduplicated-inline-style\"/><cite class=\"citation web cs1\"><a class=\"external text\" href=\"http://priceonomics.com/whats-the-difference-between-data-science-and/\" rel=\"nofollow\">\"What's the Difference Between Data Science and Statistics?\"</a>. <i>Priceonomics</i>. 13 October 2015<span class=\"reference-accessdate\">. Retrieved <span class=\"nowrap\">3 April</span> 2020</span>.</cite><span class=\"Z3988\" title=\"ctx_ver=Z39.88-2004&amp;rft_val_fmt=info%3Aofi%2Ffmt%3Akev%3Amtx%3Ajournal&amp;rft.genre=unknown&amp;rft.jtitle=Priceonomics&amp;rft.atitle=What%27s+the+Difference+Between+Data+Science+and+Statistics%3F&amp;rft.date=2015-10-13&amp;rft_id=http%3A%2F%2Fpriceonomics.com%2Fwhats-the-difference-between-data-science-and%2F&amp;rfr_id=info%3Asid%2Fen.wikipedia.org%3AData+science\"></span></span>\n",
            "</li>\n",
            "<li id=\"cite_note-17\"><span class=\"mw-cite-backlink\"><b><a href=\"#cite_ref-17\">^</a></b></span> <span class=\"reference-text\"><link href=\"mw-data:TemplateStyles:r1067248974\" rel=\"mw-deduplicated-inline-style\"/><cite class=\"citation journal cs1\" id=\"CITEREFVasant_Dhar2013\">Vasant Dhar (1 December 2013). <a class=\"external text\" href=\"http://archive.nyu.edu/handle/2451/31553\" rel=\"nofollow\">\"Data science and prediction\"</a>. <i>Communications of the ACM</i>. <b>56</b> (12): 64–73. <a class=\"mw-redirect\" href=\"/wiki/Doi_(identifier)\" title=\"Doi (identifier)\">doi</a>:<a class=\"external text\" href=\"https://doi.org/10.1145%2F2500499\" rel=\"nofollow\">10.1145/2500499</a>. <a class=\"mw-redirect\" href=\"/wiki/S2CID_(identifier)\" title=\"S2CID (identifier)\">S2CID</a> <a class=\"external text\" href=\"https://api.semanticscholar.org/CorpusID:6107147\" rel=\"nofollow\">6107147</a>.</cite><span class=\"Z3988\" title=\"ctx_ver=Z39.88-2004&amp;rft_val_fmt=info%3Aofi%2Ffmt%3Akev%3Amtx%3Ajournal&amp;rft.genre=article&amp;rft.jtitle=Communications+of+the+ACM&amp;rft.atitle=Data+science+and+prediction&amp;rft.volume=56&amp;rft.issue=12&amp;rft.pages=64-73&amp;rft.date=2013-12-01&amp;rft_id=info%3Adoi%2F10.1145%2F2500499&amp;rft_id=https%3A%2F%2Fapi.semanticscholar.org%2FCorpusID%3A6107147%23id-name%3DS2CID&amp;rft.au=Vasant+Dhar&amp;rft_id=http%3A%2F%2Farchive.nyu.edu%2Fhandle%2F2451%2F31553&amp;rfr_id=info%3Asid%2Fen.wikipedia.org%3AData+science\"></span></span>\n",
            "</li>\n",
            "<li id=\"cite_note-18\"><span class=\"mw-cite-backlink\"><b><a href=\"#cite_ref-18\">^</a></b></span> <span class=\"reference-text\"><link href=\"mw-data:TemplateStyles:r1067248974\" rel=\"mw-deduplicated-inline-style\"/><cite class=\"citation web cs1\"><a class=\"external text\" href=\"https://statmodeling.stat.columbia.edu/2013/11/14/statistics-least-important-part-data-science/\" rel=\"nofollow\">\"Statistics is the least important part of data science « Statistical Modeling, Causal Inference, and Social Science\"</a>. <i>statmodeling.stat.columbia.edu</i><span class=\"reference-accessdate\">. Retrieved <span class=\"nowrap\">3 April</span> 2020</span>.</cite><span class=\"Z3988\" title=\"ctx_ver=Z39.88-2004&amp;rft_val_fmt=info%3Aofi%2Ffmt%3Akev%3Amtx%3Ajournal&amp;rft.genre=unknown&amp;rft.jtitle=statmodeling.stat.columbia.edu&amp;rft.atitle=Statistics+is+the+least+important+part+of+data+science+%C2%AB+Statistical+Modeling%2C+Causal+Inference%2C+and+Social+Science&amp;rft_id=https%3A%2F%2Fstatmodeling.stat.columbia.edu%2F2013%2F11%2F14%2Fstatistics-least-important-part-data-science%2F&amp;rfr_id=info%3Asid%2Fen.wikipedia.org%3AData+science\"></span></span>\n",
            "</li>\n",
            "<li id=\"cite_note-:7-19\"><span class=\"mw-cite-backlink\">^ <a href=\"#cite_ref-:7_19-0\"><sup><i><b>a</b></i></sup></a> <a href=\"#cite_ref-:7_19-1\"><sup><i><b>b</b></i></sup></a></span> <span class=\"reference-text\"><link href=\"mw-data:TemplateStyles:r1067248974\" rel=\"mw-deduplicated-inline-style\"/><cite class=\"citation web cs1\" id=\"CITEREFDonoho2015\">Donoho, David (18 September 2015). <a class=\"external text\" href=\"http://courses.csail.mit.edu/18.337/2015/docs/50YearsDataScience.pdf\" rel=\"nofollow\">\"50 years of Data Science\"</a> <span class=\"cs1-format\">(PDF)</span><span class=\"reference-accessdate\">. Retrieved <span class=\"nowrap\">2 April</span> 2020</span>.</cite><span class=\"Z3988\" title=\"ctx_ver=Z39.88-2004&amp;rft_val_fmt=info%3Aofi%2Ffmt%3Akev%3Amtx%3Abook&amp;rft.genre=unknown&amp;rft.btitle=50+years+of+Data+Science&amp;rft.date=2015-09-18&amp;rft.aulast=Donoho&amp;rft.aufirst=David&amp;rft_id=http%3A%2F%2Fcourses.csail.mit.edu%2F18.337%2F2015%2Fdocs%2F50YearsDataScience.pdf&amp;rfr_id=info%3Asid%2Fen.wikipedia.org%3AData+science\"></span></span>\n",
            "</li>\n",
            "<li id=\"cite_note-20\"><span class=\"mw-cite-backlink\"><b><a href=\"#cite_ref-20\">^</a></b></span> <span class=\"reference-text\"><link href=\"mw-data:TemplateStyles:r1067248974\" rel=\"mw-deduplicated-inline-style\"/><cite class=\"citation journal cs1\" id=\"CITEREFWu1986\">Wu, C. F. Jeff (1986). <a class=\"external text\" href=\"https://www2.isye.gatech.edu/~jeffwu/publications/fazhan.pdf\" rel=\"nofollow\">\"Future directions of statistical research in China: a historical perspective\"</a> <span class=\"cs1-format\">(PDF)</span>. <i>Application of Statistics and Management</i>. <b>1</b>: 1–7<span class=\"reference-accessdate\">. Retrieved <span class=\"nowrap\">29 November</span> 2020</span>.</cite><span class=\"Z3988\" title=\"ctx_ver=Z39.88-2004&amp;rft_val_fmt=info%3Aofi%2Ffmt%3Akev%3Amtx%3Ajournal&amp;rft.genre=article&amp;rft.jtitle=Application+of+Statistics+and+Management&amp;rft.atitle=Future+directions+of+statistical+research+in+China%3A+a+historical+perspective&amp;rft.volume=1&amp;rft.pages=1-7&amp;rft.date=1986&amp;rft.aulast=Wu&amp;rft.aufirst=C.+F.+Jeff&amp;rft_id=https%3A%2F%2Fwww2.isye.gatech.edu%2F~jeffwu%2Fpublications%2Ffazhan.pdf&amp;rfr_id=info%3Asid%2Fen.wikipedia.org%3AData+science\"></span></span>\n",
            "</li>\n",
            "<li id=\"cite_note-21\"><span class=\"mw-cite-backlink\"><b><a href=\"#cite_ref-21\">^</a></b></span> <span class=\"reference-text\"><link href=\"mw-data:TemplateStyles:r1067248974\" rel=\"mw-deduplicated-inline-style\"/><cite class=\"citation book cs1\" id=\"CITEREFEscoufierHayashiFichet1995\">Escoufier, Yves; Hayashi, Chikio; Fichet, Bernard, eds. (1995). <i>Data science and its applications</i>. Tokyo: Academic Press/Harcourt Brace. <a class=\"mw-redirect\" href=\"/wiki/ISBN_(identifier)\" title=\"ISBN (identifier)\">ISBN</a> <a href=\"/wiki/Special:BookSources/0-12-241770-4\" title=\"Special:BookSources/0-12-241770-4\"><bdi>0-12-241770-4</bdi></a>. <a class=\"mw-redirect\" href=\"/wiki/OCLC_(identifier)\" title=\"OCLC (identifier)\">OCLC</a> <a class=\"external text\" href=\"//www.worldcat.org/oclc/489990740\" rel=\"nofollow\">489990740</a>.</cite><span class=\"Z3988\" title=\"ctx_ver=Z39.88-2004&amp;rft_val_fmt=info%3Aofi%2Ffmt%3Akev%3Amtx%3Abook&amp;rft.genre=book&amp;rft.btitle=Data+science+and+its+applications&amp;rft.place=Tokyo&amp;rft.pub=Academic+Press%2FHarcourt+Brace&amp;rft.date=1995&amp;rft_id=info%3Aoclcnum%2F489990740&amp;rft.isbn=0-12-241770-4&amp;rfr_id=info%3Asid%2Fen.wikipedia.org%3AData+science\"></span></span>\n",
            "</li>\n",
            "<li id=\"cite_note-Murtagh_2018_14-22\"><span class=\"mw-cite-backlink\">^ <a href=\"#cite_ref-Murtagh_2018_14_22-0\"><sup><i><b>a</b></i></sup></a> <a href=\"#cite_ref-Murtagh_2018_14_22-1\"><sup><i><b>b</b></i></sup></a></span> <span class=\"reference-text\"><link href=\"mw-data:TemplateStyles:r1067248974\" rel=\"mw-deduplicated-inline-style\"/><cite class=\"citation journal cs1\" id=\"CITEREFMurtaghDevlin2018\">Murtagh, Fionn; Devlin, Keith (2018). <a class=\"external text\" href=\"https://doi.org/10.3390%2Fbdcc2020014\" rel=\"nofollow\">\"The Development of Data Science: Implications for Education, Employment, Research, and the Data Revolution for Sustainable Development\"</a>. <i>Big Data and Cognitive Computing</i>. <b>2</b> (2): 14. <a class=\"mw-redirect\" href=\"/wiki/Doi_(identifier)\" title=\"Doi (identifier)\">doi</a>:<span class=\"cs1-lock-free\" title=\"Freely accessible\"><a class=\"external text\" href=\"https://doi.org/10.3390%2Fbdcc2020014\" rel=\"nofollow\">10.3390/bdcc2020014</a></span>.</cite><span class=\"Z3988\" title=\"ctx_ver=Z39.88-2004&amp;rft_val_fmt=info%3Aofi%2Ffmt%3Akev%3Amtx%3Ajournal&amp;rft.genre=article&amp;rft.jtitle=Big+Data+and+Cognitive+Computing&amp;rft.atitle=The+Development+of+Data+Science%3A+Implications+for+Education%2C+Employment%2C+Research%2C+and+the+Data+Revolution+for+Sustainable+Development&amp;rft.volume=2&amp;rft.issue=2&amp;rft.pages=14&amp;rft.date=2018&amp;rft_id=info%3Adoi%2F10.3390%2Fbdcc2020014&amp;rft.aulast=Murtagh&amp;rft.aufirst=Fionn&amp;rft.au=Devlin%2C+Keith&amp;rft_id=%2F%2Fdoi.org%2F10.3390%252Fbdcc2020014&amp;rfr_id=info%3Asid%2Fen.wikipedia.org%3AData+science\"></span></span>\n",
            "</li>\n",
            "<li id=\"cite_note-23\"><span class=\"mw-cite-backlink\"><b><a href=\"#cite_ref-23\">^</a></b></span> <span class=\"reference-text\"><link href=\"mw-data:TemplateStyles:r1067248974\" rel=\"mw-deduplicated-inline-style\"/><cite class=\"citation web cs1\" id=\"CITEREFWu\">Wu, C. F. Jeff. <a class=\"external text\" href=\"http://www2.isye.gatech.edu/~jeffwu/presentations/datascience.pdf\" rel=\"nofollow\">\"Statistics=Data Science?\"</a> <span class=\"cs1-format\">(PDF)</span><span class=\"reference-accessdate\">. Retrieved <span class=\"nowrap\">2 April</span> 2020</span>.</cite><span class=\"Z3988\" title=\"ctx_ver=Z39.88-2004&amp;rft_val_fmt=info%3Aofi%2Ffmt%3Akev%3Amtx%3Abook&amp;rft.genre=unknown&amp;rft.btitle=Statistics%3DData+Science%3F&amp;rft.aulast=Wu&amp;rft.aufirst=C.+F.+Jeff&amp;rft_id=http%3A%2F%2Fwww2.isye.gatech.edu%2F~jeffwu%2Fpresentations%2Fdatascience.pdf&amp;rfr_id=info%3Asid%2Fen.wikipedia.org%3AData+science\"></span></span>\n",
            "</li>\n",
            "<li id=\"cite_note-:1-24\"><span class=\"mw-cite-backlink\">^ <a href=\"#cite_ref-:1_24-0\"><sup><i><b>a</b></i></sup></a> <a href=\"#cite_ref-:1_24-1\"><sup><i><b>b</b></i></sup></a> <a href=\"#cite_ref-:1_24-2\"><sup><i><b>c</b></i></sup></a></span> <span class=\"reference-text\"><link href=\"mw-data:TemplateStyles:r1067248974\" rel=\"mw-deduplicated-inline-style\"/><cite class=\"citation web cs1\" id=\"CITEREFPress\">Press, Gil. <a class=\"external text\" href=\"https://www.forbes.com/sites/gilpress/2013/05/28/a-very-short-history-of-data-science/\" rel=\"nofollow\">\"A Very Short History of Data Science\"</a>. <i>Forbes</i><span class=\"reference-accessdate\">. Retrieved <span class=\"nowrap\">3 April</span> 2020</span>.</cite><span class=\"Z3988\" title=\"ctx_ver=Z39.88-2004&amp;rft_val_fmt=info%3Aofi%2Ffmt%3Akev%3Amtx%3Ajournal&amp;rft.genre=unknown&amp;rft.jtitle=Forbes&amp;rft.atitle=A+Very+Short+History+of+Data+Science&amp;rft.aulast=Press&amp;rft.aufirst=Gil&amp;rft_id=https%3A%2F%2Fwww.forbes.com%2Fsites%2Fgilpress%2F2013%2F05%2F28%2Fa-very-short-history-of-data-science%2F&amp;rfr_id=info%3Asid%2Fen.wikipedia.org%3AData+science\"></span></span>\n",
            "</li>\n",
            "<li id=\"cite_note-25\"><span class=\"mw-cite-backlink\"><b><a href=\"#cite_ref-25\">^</a></b></span> <span class=\"reference-text\"><link href=\"mw-data:TemplateStyles:r1067248974\" rel=\"mw-deduplicated-inline-style\"/><cite class=\"citation magazine cs1\" id=\"CITEREFDavenport2012\">Davenport, Thomas (1 October 2012). <a class=\"external text\" href=\"https://hbr.org/2012/10/data-scientist-the-sexiest-job-of-the-21st-century\" rel=\"nofollow\">\"Data Scientist: The Sexiest Job of the 21st Century\"</a>. <i><a href=\"/wiki/Harvard_Business_Review\" title=\"Harvard Business Review\">Harvard Business Review</a></i><span class=\"reference-accessdate\">. Retrieved <span class=\"nowrap\">10 October</span> 2022</span>.</cite><span class=\"Z3988\" title=\"ctx_ver=Z39.88-2004&amp;rft_val_fmt=info%3Aofi%2Ffmt%3Akev%3Amtx%3Ajournal&amp;rft.genre=article&amp;rft.jtitle=Harvard+Business+Review&amp;rft.atitle=Data+Scientist%3A+The+Sexiest+Job+of+the+21st+Century&amp;rft.date=2012-10-01&amp;rft.aulast=Davenport&amp;rft.aufirst=Thomas&amp;rft_id=https%3A%2F%2Fhbr.org%2F2012%2F10%2Fdata-scientist-the-sexiest-job-of-the-21st-century&amp;rfr_id=info%3Asid%2Fen.wikipedia.org%3AData+science\"></span></span>\n",
            "</li>\n",
            "<li id=\"cite_note-26\"><span class=\"mw-cite-backlink\"><b><a href=\"#cite_ref-26\">^</a></b></span> <span class=\"reference-text\"><link href=\"mw-data:TemplateStyles:r1067248974\" rel=\"mw-deduplicated-inline-style\"/><cite class=\"citation news cs1\" id=\"CITEREFMiller2013\">Miller, Claire (4 April 2013). <a class=\"external text\" href=\"https://www.nytimes.com/2013/04/14/education/edlife/universities-offer-courses-in-a-hot-new-field-data-science.html\" rel=\"nofollow\">\"Data Science: The Numbers of Our Lives\"</a>. <i><a class=\"mw-redirect\" href=\"/wiki/New_York_Times\" title=\"New York Times\">New York Times</a></i>. <a href=\"/wiki/New_York_City\" title=\"New York City\">New York City</a><span class=\"reference-accessdate\">. Retrieved <span class=\"nowrap\">10 October</span> 2022</span>.</cite><span class=\"Z3988\" title=\"ctx_ver=Z39.88-2004&amp;rft_val_fmt=info%3Aofi%2Ffmt%3Akev%3Amtx%3Ajournal&amp;rft.genre=article&amp;rft.jtitle=New+York+Times&amp;rft.atitle=Data+Science%3A+The+Numbers+of+Our+Lives&amp;rft.date=2013-04-04&amp;rft.aulast=Miller&amp;rft.aufirst=Claire&amp;rft_id=https%3A%2F%2Fwww.nytimes.com%2F2013%2F04%2F14%2Feducation%2Fedlife%2Funiversities-offer-courses-in-a-hot-new-field-data-science.html&amp;rfr_id=info%3Asid%2Fen.wikipedia.org%3AData+science\"></span></span>\n",
            "</li>\n",
            "<li id=\"cite_note-27\"><span class=\"mw-cite-backlink\"><b><a href=\"#cite_ref-27\">^</a></b></span> <span class=\"reference-text\"><link href=\"mw-data:TemplateStyles:r1067248974\" rel=\"mw-deduplicated-inline-style\"/><cite class=\"citation news cs1\" id=\"CITEREFBorchers2015\">Borchers, Callum (11 November 2015). <a class=\"external text\" href=\"https://www.bostonglobe.com/business/2015/11/11/behind-scenes-sexiest-job-century/Kc1cvXIu31DfHhVmyRQeIJ/story.html\" rel=\"nofollow\">\"Behind the scenes of the 'sexiest job of the 21st century'<span class=\"cs1-kern-right\"></span>\"</a>. <i><a class=\"mw-redirect\" href=\"/wiki/Boston_Globe\" title=\"Boston Globe\">Boston Globe</a></i>. <a href=\"/wiki/Boston\" title=\"Boston\">Boston</a><span class=\"reference-accessdate\">. Retrieved <span class=\"nowrap\">10 October</span> 2022</span>.</cite><span class=\"Z3988\" title=\"ctx_ver=Z39.88-2004&amp;rft_val_fmt=info%3Aofi%2Ffmt%3Akev%3Amtx%3Ajournal&amp;rft.genre=article&amp;rft.jtitle=Boston+Globe&amp;rft.atitle=Behind+the+scenes+of+the+%27sexiest+job+of+the+21st+century%27&amp;rft.date=2015-11-11&amp;rft.aulast=Borchers&amp;rft.aufirst=Callum&amp;rft_id=https%3A%2F%2Fwww.bostonglobe.com%2Fbusiness%2F2015%2F11%2F11%2Fbehind-scenes-sexiest-job-century%2FKc1cvXIu31DfHhVmyRQeIJ%2Fstory.html&amp;rfr_id=info%3Asid%2Fen.wikipedia.org%3AData+science\"></span></span>\n",
            "</li>\n",
            "<li id=\"cite_note-28\"><span class=\"mw-cite-backlink\"><b><a href=\"#cite_ref-28\">^</a></b></span> <span class=\"reference-text\"><link href=\"mw-data:TemplateStyles:r1067248974\" rel=\"mw-deduplicated-inline-style\"/><cite class=\"citation magazine cs1\" id=\"CITEREFDavenport2022\">Davenport, Thomas (15 July 2022). <a class=\"external text\" href=\"https://hbr.org/2022/07/is-data-scientist-still-the-sexiest-job-of-the-21st-century\" rel=\"nofollow\">\"Is Data Scientist Still the Sexiest Job of the 21st Century?\"</a>. <i><a href=\"/wiki/Harvard_Business_Review\" title=\"Harvard Business Review\">Harvard Business Review</a></i><span class=\"reference-accessdate\">. Retrieved <span class=\"nowrap\">10 October</span> 2022</span>.</cite><span class=\"Z3988\" title=\"ctx_ver=Z39.88-2004&amp;rft_val_fmt=info%3Aofi%2Ffmt%3Akev%3Amtx%3Ajournal&amp;rft.genre=article&amp;rft.jtitle=Harvard+Business+Review&amp;rft.atitle=Is+Data+Scientist+Still+the+Sexiest+Job+of+the+21st+Century%3F&amp;rft.date=2022-07-15&amp;rft.aulast=Davenport&amp;rft.aufirst=Thomas&amp;rft_id=https%3A%2F%2Fhbr.org%2F2022%2F07%2Fis-data-scientist-still-the-sexiest-job-of-the-21st-century&amp;rfr_id=info%3Asid%2Fen.wikipedia.org%3AData+science\"></span></span>\n",
            "</li>\n",
            "<li id=\"cite_note-29\"><span class=\"mw-cite-backlink\"><b><a href=\"#cite_ref-29\">^</a></b></span> <span class=\"reference-text\"><link href=\"mw-data:TemplateStyles:r1067248974\" rel=\"mw-deduplicated-inline-style\"/><cite class=\"citation web cs1\" id=\"CITEREFGupta2015\">Gupta, Shanti (11 December 2015). <a class=\"external text\" href=\"https://www.stat.purdue.edu/~wsc/\" rel=\"nofollow\">\"William S. Cleveland\"</a><span class=\"reference-accessdate\">. Retrieved <span class=\"nowrap\">2 April</span> 2020</span>.</cite><span class=\"Z3988\" title=\"ctx_ver=Z39.88-2004&amp;rft_val_fmt=info%3Aofi%2Ffmt%3Akev%3Amtx%3Abook&amp;rft.genre=unknown&amp;rft.btitle=William+S.+Cleveland&amp;rft.date=2015-12-11&amp;rft.aulast=Gupta&amp;rft.aufirst=Shanti&amp;rft_id=https%3A%2F%2Fwww.stat.purdue.edu%2F~wsc%2F&amp;rfr_id=info%3Asid%2Fen.wikipedia.org%3AData+science\"></span></span>\n",
            "</li>\n",
            "<li id=\"cite_note-30\"><span class=\"mw-cite-backlink\"><b><a href=\"#cite_ref-30\">^</a></b></span> <span class=\"reference-text\"><link href=\"mw-data:TemplateStyles:r1067248974\" rel=\"mw-deduplicated-inline-style\"/><cite class=\"citation news cs1\" id=\"CITEREFTalley2016\">Talley, Jill (1 June 2016). <a class=\"external text\" href=\"https://magazine.amstat.org/blog/2016/06/01/datascience-2/\" rel=\"nofollow\">\"ASA Expands Scope, Outreach to Foster Growth, Collaboration in Data Science\"</a>. <i>Amstat News</i>. American Statistical Association.</cite><span class=\"Z3988\" title=\"ctx_ver=Z39.88-2004&amp;rft_val_fmt=info%3Aofi%2Ffmt%3Akev%3Amtx%3Ajournal&amp;rft.genre=article&amp;rft.jtitle=Amstat+News&amp;rft.atitle=ASA+Expands+Scope%2C+Outreach+to+Foster+Growth%2C+Collaboration+in+Data+Science&amp;rft.date=2016-06-01&amp;rft.aulast=Talley&amp;rft.aufirst=Jill&amp;rft_id=https%3A%2F%2Fmagazine.amstat.org%2Fblog%2F2016%2F06%2F01%2Fdatascience-2%2F&amp;rfr_id=info%3Asid%2Fen.wikipedia.org%3AData+science\"></span></span>\n",
            "</li>\n",
            "<li id=\"cite_note-31\"><span class=\"mw-cite-backlink\"><b><a href=\"#cite_ref-31\">^</a></b></span> <span class=\"reference-text\"><link href=\"mw-data:TemplateStyles:r1067248974\" rel=\"mw-deduplicated-inline-style\"/><cite class=\"citation news cs1\" id=\"CITEREFDavenportPatil2012\">Davenport, Thomas H.; Patil, D. J. (1 October 2012). <a class=\"external text\" href=\"https://hbr.org/2012/10/data-scientist-the-sexiest-job-of-the-21st-century\" rel=\"nofollow\">\"Data Scientist: The Sexiest Job of the 21st Century\"</a>. <i>Harvard Business Review</i>. No. October 2012. <a class=\"mw-redirect\" href=\"/wiki/ISSN_(identifier)\" title=\"ISSN (identifier)\">ISSN</a> <a class=\"external text\" href=\"//www.worldcat.org/issn/0017-8012\" rel=\"nofollow\">0017-8012</a><span class=\"reference-accessdate\">. Retrieved <span class=\"nowrap\">3 April</span> 2020</span>.</cite><span class=\"Z3988\" title=\"ctx_ver=Z39.88-2004&amp;rft_val_fmt=info%3Aofi%2Ffmt%3Akev%3Amtx%3Ajournal&amp;rft.genre=article&amp;rft.jtitle=Harvard+Business+Review&amp;rft.atitle=Data+Scientist%3A+The+Sexiest+Job+of+the+21st+Century&amp;rft.issue=October+2012&amp;rft.date=2012-10-01&amp;rft.issn=0017-8012&amp;rft.aulast=Davenport&amp;rft.aufirst=Thomas+H.&amp;rft.au=Patil%2C+D.+J.&amp;rft_id=https%3A%2F%2Fhbr.org%2F2012%2F10%2Fdata-scientist-the-sexiest-job-of-the-21st-century&amp;rfr_id=info%3Asid%2Fen.wikipedia.org%3AData+science\"></span></span>\n",
            "</li>\n",
            "<li id=\"cite_note-32\"><span class=\"mw-cite-backlink\"><b><a href=\"#cite_ref-32\">^</a></b></span> <span class=\"reference-text\"><link href=\"mw-data:TemplateStyles:r1067248974\" rel=\"mw-deduplicated-inline-style\"/><cite class=\"citation web cs1\"><a class=\"external text\" href=\"https://www.nsf.gov/pubs/2005/nsb0540/\" rel=\"nofollow\">\"US NSF – NSB-05-40, Long-Lived Digital Data Collections Enabling Research and Education in the 21st Century\"</a>. <i>www.nsf.gov</i><span class=\"reference-accessdate\">. Retrieved <span class=\"nowrap\">3 April</span> 2020</span>.</cite><span class=\"Z3988\" title=\"ctx_ver=Z39.88-2004&amp;rft_val_fmt=info%3Aofi%2Ffmt%3Akev%3Amtx%3Ajournal&amp;rft.genre=unknown&amp;rft.jtitle=www.nsf.gov&amp;rft.atitle=US+NSF+%E2%80%93+NSB-05-40%2C+Long-Lived+Digital+Data+Collections+Enabling+Research+and+Education+in+the+21st+Century&amp;rft_id=https%3A%2F%2Fwww.nsf.gov%2Fpubs%2F2005%2Fnsb0540%2F&amp;rfr_id=info%3Asid%2Fen.wikipedia.org%3AData+science\"></span></span>\n",
            "</li>\n",
            "<li id=\"cite_note-33\"><span class=\"mw-cite-backlink\"><b><a href=\"#cite_ref-33\">^</a></b></span> <span class=\"reference-text\"><link href=\"mw-data:TemplateStyles:r1067248974\" rel=\"mw-deduplicated-inline-style\"/><cite class=\"citation web cs1\" id=\"CITEREFPress\">Press, Gil. <a class=\"external text\" href=\"https://www.forbes.com/sites/gilpress/2013/08/19/data-science-whats-the-half-life-of-a-buzzword/\" rel=\"nofollow\">\"Data Science: What's The Half-Life of a Buzzword?\"</a>. <i>Forbes</i><span class=\"reference-accessdate\">. Retrieved <span class=\"nowrap\">3 April</span> 2020</span>.</cite><span class=\"Z3988\" title=\"ctx_ver=Z39.88-2004&amp;rft_val_fmt=info%3Aofi%2Ffmt%3Akev%3Amtx%3Ajournal&amp;rft.genre=unknown&amp;rft.jtitle=Forbes&amp;rft.atitle=Data+Science%3A+What%27s+The+Half-Life+of+a+Buzzword%3F&amp;rft.aulast=Press&amp;rft.aufirst=Gil&amp;rft_id=https%3A%2F%2Fwww.forbes.com%2Fsites%2Fgilpress%2F2013%2F08%2F19%2Fdata-science-whats-the-half-life-of-a-buzzword%2F&amp;rfr_id=info%3Asid%2Fen.wikipedia.org%3AData+science\"></span></span>\n",
            "</li>\n",
            "<li id=\"cite_note-:5-34\"><span class=\"mw-cite-backlink\"><b><a href=\"#cite_ref-:5_34-0\">^</a></b></span> <span class=\"reference-text\"><link href=\"mw-data:TemplateStyles:r1067248974\" rel=\"mw-deduplicated-inline-style\"/><cite class=\"citation web cs1\" id=\"CITEREFPham\">Pham, Peter. <a class=\"external text\" href=\"https://www.forbes.com/sites/peterpham/2015/08/28/the-impacts-of-big-data-that-you-may-not-have-heard-of/\" rel=\"nofollow\">\"The Impacts of Big Data That You May Not Have Heard Of\"</a>. <i>Forbes</i><span class=\"reference-accessdate\">. Retrieved <span class=\"nowrap\">3 April</span> 2020</span>.</cite><span class=\"Z3988\" title=\"ctx_ver=Z39.88-2004&amp;rft_val_fmt=info%3Aofi%2Ffmt%3Akev%3Amtx%3Ajournal&amp;rft.genre=unknown&amp;rft.jtitle=Forbes&amp;rft.atitle=The+Impacts+of+Big+Data+That+You+May+Not+Have+Heard+Of&amp;rft.aulast=Pham&amp;rft.aufirst=Peter&amp;rft_id=https%3A%2F%2Fwww.forbes.com%2Fsites%2Fpeterpham%2F2015%2F08%2F28%2Fthe-impacts-of-big-data-that-you-may-not-have-heard-of%2F&amp;rfr_id=info%3Asid%2Fen.wikipedia.org%3AData+science\"></span></span>\n",
            "</li>\n",
            "<li id=\"cite_note-:6-35\"><span class=\"mw-cite-backlink\"><b><a href=\"#cite_ref-:6_35-0\">^</a></b></span> <span class=\"reference-text\"><link href=\"mw-data:TemplateStyles:r1067248974\" rel=\"mw-deduplicated-inline-style\"/><cite class=\"citation web cs1\" id=\"CITEREFMartin2019\">Martin, Sophia (20 September 2019). <a class=\"external text\" href=\"https://towardsdatascience.com/how-data-science-will-impact-future-of-businesses-7f11f5699c4d\" rel=\"nofollow\">\"How Data Science will Impact Future of Businesses?\"</a>. <i>Medium</i><span class=\"reference-accessdate\">. Retrieved <span class=\"nowrap\">3 April</span> 2020</span>.</cite><span class=\"Z3988\" title=\"ctx_ver=Z39.88-2004&amp;rft_val_fmt=info%3Aofi%2Ffmt%3Akev%3Amtx%3Ajournal&amp;rft.genre=unknown&amp;rft.jtitle=Medium&amp;rft.atitle=How+Data+Science+will+Impact+Future+of+Businesses%3F&amp;rft.date=2019-09-20&amp;rft.aulast=Martin&amp;rft.aufirst=Sophia&amp;rft_id=https%3A%2F%2Ftowardsdatascience.com%2Fhow-data-science-will-impact-future-of-businesses-7f11f5699c4d&amp;rfr_id=info%3Asid%2Fen.wikipedia.org%3AData+science\"></span></span>\n",
            "</li>\n",
            "</ol></div>\n",
            "<div class=\"navbox-styles\"><style data-mw-deduplicate=\"TemplateStyles:r1129693374\">.mw-parser-output .hlist dl,.mw-parser-output .hlist ol,.mw-parser-output .hlist ul{margin:0;padding:0}.mw-parser-output .hlist dd,.mw-parser-output .hlist dt,.mw-parser-output .hlist li{margin:0;display:inline}.mw-parser-output .hlist.inline,.mw-parser-output .hlist.inline dl,.mw-parser-output .hlist.inline ol,.mw-parser-output .hlist.inline ul,.mw-parser-output .hlist dl dl,.mw-parser-output .hlist dl ol,.mw-parser-output .hlist dl ul,.mw-parser-output .hlist ol dl,.mw-parser-output .hlist ol ol,.mw-parser-output .hlist ol ul,.mw-parser-output .hlist ul dl,.mw-parser-output .hlist ul ol,.mw-parser-output .hlist ul ul{display:inline}.mw-parser-output .hlist .mw-empty-li{display:none}.mw-parser-output .hlist dt::after{content:\": \"}.mw-parser-output .hlist dd::after,.mw-parser-output .hlist li::after{content:\" · \";font-weight:bold}.mw-parser-output .hlist dd:last-child::after,.mw-parser-output .hlist dt:last-child::after,.mw-parser-output .hlist li:last-child::after{content:none}.mw-parser-output .hlist dd dd:first-child::before,.mw-parser-output .hlist dd dt:first-child::before,.mw-parser-output .hlist dd li:first-child::before,.mw-parser-output .hlist dt dd:first-child::before,.mw-parser-output .hlist dt dt:first-child::before,.mw-parser-output .hlist dt li:first-child::before,.mw-parser-output .hlist li dd:first-child::before,.mw-parser-output .hlist li dt:first-child::before,.mw-parser-output .hlist li li:first-child::before{content:\" (\";font-weight:normal}.mw-parser-output .hlist dd dd:last-child::after,.mw-parser-output .hlist dd dt:last-child::after,.mw-parser-output .hlist dd li:last-child::after,.mw-parser-output .hlist dt dd:last-child::after,.mw-parser-output .hlist dt dt:last-child::after,.mw-parser-output .hlist dt li:last-child::after,.mw-parser-output .hlist li dd:last-child::after,.mw-parser-output .hlist li dt:last-child::after,.mw-parser-output .hlist li li:last-child::after{content:\")\";font-weight:normal}.mw-parser-output .hlist ol{counter-reset:listitem}.mw-parser-output .hlist ol>li{counter-increment:listitem}.mw-parser-output .hlist ol>li::before{content:\" \"counter(listitem)\"\\a0 \"}.mw-parser-output .hlist dd ol>li:first-child::before,.mw-parser-output .hlist dt ol>li:first-child::before,.mw-parser-output .hlist li ol>li:first-child::before{content:\" (\"counter(listitem)\"\\a0 \"}</style><style data-mw-deduplicate=\"TemplateStyles:r1061467846\">.mw-parser-output .navbox{box-sizing:border-box;border:1px solid #a2a9b1;width:100%;clear:both;font-size:88%;text-align:center;padding:1px;margin:1em auto 0}.mw-parser-output .navbox .navbox{margin-top:0}.mw-parser-output .navbox+.navbox,.mw-parser-output .navbox+.navbox-styles+.navbox{margin-top:-1px}.mw-parser-output .navbox-inner,.mw-parser-output .navbox-subgroup{width:100%}.mw-parser-output .navbox-group,.mw-parser-output .navbox-title,.mw-parser-output .navbox-abovebelow{padding:0.25em 1em;line-height:1.5em;text-align:center}.mw-parser-output .navbox-group{white-space:nowrap;text-align:right}.mw-parser-output .navbox,.mw-parser-output .navbox-subgroup{background-color:#fdfdfd}.mw-parser-output .navbox-list{line-height:1.5em;border-color:#fdfdfd}.mw-parser-output .navbox-list-with-group{text-align:left;border-left-width:2px;border-left-style:solid}.mw-parser-output tr+tr>.navbox-abovebelow,.mw-parser-output tr+tr>.navbox-group,.mw-parser-output tr+tr>.navbox-image,.mw-parser-output tr+tr>.navbox-list{border-top:2px solid #fdfdfd}.mw-parser-output .navbox-title{background-color:#ccf}.mw-parser-output .navbox-abovebelow,.mw-parser-output .navbox-group,.mw-parser-output .navbox-subgroup .navbox-title{background-color:#ddf}.mw-parser-output .navbox-subgroup .navbox-group,.mw-parser-output .navbox-subgroup .navbox-abovebelow{background-color:#e6e6ff}.mw-parser-output .navbox-even{background-color:#f7f7f7}.mw-parser-output .navbox-odd{background-color:transparent}.mw-parser-output .navbox .hlist td dl,.mw-parser-output .navbox .hlist td ol,.mw-parser-output .navbox .hlist td ul,.mw-parser-output .navbox td.hlist dl,.mw-parser-output .navbox td.hlist ol,.mw-parser-output .navbox td.hlist ul{padding:0.125em 0}.mw-parser-output .navbox .navbar{display:block;font-size:100%}.mw-parser-output .navbox-title .navbar{float:left;text-align:left;margin-right:0.5em}</style></div><div aria-labelledby=\"Data\" class=\"navbox\" role=\"navigation\" style=\"padding:3px\"><table class=\"nowraplinks mw-collapsible autocollapse navbox-inner\" style=\"border-spacing:0;background:transparent;color:inherit\"><tbody><tr><th class=\"navbox-title\" colspan=\"2\" scope=\"col\"><link href=\"mw-data:TemplateStyles:r1129693374\" rel=\"mw-deduplicated-inline-style\"/><style data-mw-deduplicate=\"TemplateStyles:r1063604349\">.mw-parser-output .navbar{display:inline;font-size:88%;font-weight:normal}.mw-parser-output .navbar-collapse{float:left;text-align:left}.mw-parser-output .navbar-boxtext{word-spacing:0}.mw-parser-output .navbar ul{display:inline-block;white-space:nowrap;line-height:inherit}.mw-parser-output .navbar-brackets::before{margin-right:-0.125em;content:\"[ \"}.mw-parser-output .navbar-brackets::after{margin-left:-0.125em;content:\" ]\"}.mw-parser-output .navbar li{word-spacing:-0.125em}.mw-parser-output .navbar a>span,.mw-parser-output .navbar a>abbr{text-decoration:inherit}.mw-parser-output .navbar-mini abbr{font-variant:small-caps;border-bottom:none;text-decoration:none;cursor:inherit}.mw-parser-output .navbar-ct-full{font-size:114%;margin:0 7em}.mw-parser-output .navbar-ct-mini{font-size:114%;margin:0 4em}</style><div class=\"navbar plainlinks hlist navbar-mini\"><ul><li class=\"nv-view\"><a href=\"/wiki/Template:Data\" title=\"Template:Data\"><abbr style=\";;background:none transparent;border:none;box-shadow:none;padding:0;\" title=\"View this template\">v</abbr></a></li><li class=\"nv-talk\"><a href=\"/wiki/Template_talk:Data\" title=\"Template talk:Data\"><abbr style=\";;background:none transparent;border:none;box-shadow:none;padding:0;\" title=\"Discuss this template\">t</abbr></a></li><li class=\"nv-edit\"><a class=\"external text\" href=\"https://en.wikipedia.org/w/index.php?title=Template:Data&amp;action=edit\"><abbr style=\";;background:none transparent;border:none;box-shadow:none;padding:0;\" title=\"Edit this template\">e</abbr></a></li></ul></div><div id=\"Data\" style=\"font-size:114%;margin:0 4em\"><a class=\"mw-redirect\" href=\"/wiki/Data_(computing)\" title=\"Data (computing)\">Data</a></div></th></tr><tr><td class=\"navbox-list navbox-odd hlist\" colspan=\"2\" style=\"width:100%;padding:0\"><div style=\"padding:0 0.25em\">\n",
            "<ul><li><a href=\"/wiki/Data_augmentation\" title=\"Data augmentation\">Augmentation</a></li>\n",
            "<li><a href=\"/wiki/Data_analysis\" title=\"Data analysis\">Analysis</a></li>\n",
            "<li><a href=\"/wiki/Data_archaeology\" title=\"Data archaeology\">Archaeology</a></li>\n",
            "<li><a href=\"/wiki/Big_data\" title=\"Big data\">Big</a></li>\n",
            "<li><a href=\"/wiki/Data_cleansing\" title=\"Data cleansing\">Cleansing</a></li>\n",
            "<li><a href=\"/wiki/Data_collection\" title=\"Data collection\">Collection</a></li>\n",
            "<li><a href=\"/wiki/Data_compression\" title=\"Data compression\">Compression</a></li>\n",
            "<li><a href=\"/wiki/Data_corruption\" title=\"Data corruption\">Corruption</a></li>\n",
            "<li><a href=\"/wiki/Data_curation\" title=\"Data curation\">Curation</a></li>\n",
            "<li><a href=\"/wiki/Data_degradation\" title=\"Data degradation\">Degradation</a></li>\n",
            "<li><a href=\"/wiki/Data_editing\" title=\"Data editing\">Editing</a></li>\n",
            "<li><a href=\"/wiki/Extract,_transform,_load\" title=\"Extract, transform, load\">ETL</a>/<a href=\"/wiki/Extract,_load,_transform\" title=\"Extract, load, transform\">ELT</a>\n",
            "<ul><li><a href=\"/wiki/Data_extraction\" title=\"Data extraction\">Extract</a></li>\n",
            "<li><a class=\"mw-redirect\" href=\"/wiki/Data_transformation\" title=\"Data transformation\">Transform</a></li>\n",
            "<li><a class=\"mw-redirect\" href=\"/wiki/Data_loading\" title=\"Data loading\">Load</a></li></ul></li>\n",
            "<li><a href=\"/wiki/Data_farming\" title=\"Data farming\">Farming</a></li>\n",
            "<li><a href=\"/wiki/Data_format_management\" title=\"Data format management\">Format management</a></li>\n",
            "<li><a href=\"/wiki/Data_fusion\" title=\"Data fusion\">Fusion</a></li>\n",
            "<li><a href=\"/wiki/Data_integration\" title=\"Data integration\">Integration</a></li>\n",
            "<li><a href=\"/wiki/Data_integrity\" title=\"Data integrity\">Integrity</a></li>\n",
            "<li><a href=\"/wiki/Data_library\" title=\"Data library\">Library</a></li>\n",
            "<li><a href=\"/wiki/Data_lineage\" title=\"Data lineage\">Lineage</a></li>\n",
            "<li><a href=\"/wiki/Data_loss\" title=\"Data loss\">Loss</a></li>\n",
            "<li><a href=\"/wiki/Data_management\" title=\"Data management\">Management</a></li>\n",
            "<li><a href=\"/wiki/Data_migration\" title=\"Data migration\">Migration</a></li>\n",
            "<li><a href=\"/wiki/Data_mining\" title=\"Data mining\">Mining</a></li>\n",
            "<li><a href=\"/wiki/Data_philanthropy\" title=\"Data philanthropy\">Philanthropy</a></li>\n",
            "<li><a href=\"/wiki/Data_pre-processing\" title=\"Data pre-processing\">Pre-processing</a></li>\n",
            "<li><a href=\"/wiki/Data_preservation\" title=\"Data preservation\">Preservation</a></li>\n",
            "<li><a href=\"/wiki/Information_privacy\" title=\"Information privacy\">Protection (privacy)</a></li>\n",
            "<li><a href=\"/wiki/Data_publishing\" title=\"Data publishing\">Publishing</a></li>\n",
            "<li><a href=\"/wiki/Data_recovery\" title=\"Data recovery\">Recovery</a></li>\n",
            "<li><a href=\"/wiki/Data_reduction\" title=\"Data reduction\">Reduction</a></li>\n",
            "<li><a href=\"/wiki/Data_retention\" title=\"Data retention\">Retention</a></li>\n",
            "<li><a href=\"/wiki/Data_quality\" title=\"Data quality\">Quality</a></li>\n",
            "<li><a class=\"mw-selflink selflink\">Science</a></li>\n",
            "<li><a href=\"/wiki/Data_scraping\" title=\"Data scraping\">Scraping</a></li>\n",
            "<li><a href=\"/wiki/Data_scrubbing\" title=\"Data scrubbing\">Scrubbing</a></li>\n",
            "<li><a href=\"/wiki/Data_security\" title=\"Data security\">Security</a></li>\n",
            "<li><a href=\"/wiki/Data_steward\" title=\"Data steward\">Stewardship</a></li>\n",
            "<li><a href=\"/wiki/Data_storage\" title=\"Data storage\">Storage</a></li>\n",
            "<li><a href=\"/wiki/Data_validation\" title=\"Data validation\">Validation</a></li>\n",
            "<li><a href=\"/wiki/Data_warehouse\" title=\"Data warehouse\">Warehouse</a></li>\n",
            "<li><a href=\"/wiki/Data_wrangling\" title=\"Data wrangling\">Wrangling/munging</a></li></ul>\n",
            "</div></td></tr></tbody></table></div>\n",
            "<!-- \n",
            "NewPP limit report\n",
            "Parsed by mw2388\n",
            "Cached time: 20221230021231\n",
            "Cache expiry: 1814400\n",
            "Reduced expiry: false\n",
            "Complications: [vary‐revision‐sha1, show‐toc]\n",
            "CPU time usage: 0.348 seconds\n",
            "Real time usage: 0.423 seconds\n",
            "Preprocessor visited node count: 1975/1000000\n",
            "Post‐expand include size: 71679/2097152 bytes\n",
            "Template argument size: 1118/2097152 bytes\n",
            "Highest expansion depth: 12/100\n",
            "Expensive parser function count: 2/500\n",
            "Unstrip recursion depth: 1/20\n",
            "Unstrip post‐expand size: 115584/5000000 bytes\n",
            "Lua time usage: 0.228/10.000 seconds\n",
            "Lua memory usage: 6632838/52428800 bytes\n",
            "Number of Wikibase entities loaded: 0/400\n",
            "-->\n",
            "<!--\n",
            "Transclusion expansion time report (%,ms,calls,template)\n",
            "100.00%  369.509      1 -total\n",
            " 58.10%  214.700      1 Template:Reflist\n",
            " 24.62%   90.989      9 Template:Cite_journal\n",
            " 16.88%   62.363      1 Template:Data\n",
            " 16.43%   60.720      1 Template:Navbox\n",
            " 14.84%   54.840     17 Template:Cite_web\n",
            " 12.59%   46.515      1 Template:Short_description\n",
            "  7.04%   25.998      2 Template:Pagetype\n",
            "  5.16%   19.060      1 Template:Distinguish\n",
            "  4.35%   16.087      4 Template:Cite_news\n",
            "-->\n",
            "<!-- Saved in parser cache with key enwiki:pcache:idhash:35458904-0!canonical and timestamp 20221230021231 and revision id 1130417671.\n",
            " -->\n",
            "</div><noscript><img alt=\"\" height=\"1\" src=\"//en.wikipedia.org/wiki/Special:CentralAutoLogin/start?type=1x1\" style=\"border: none; position: absolute;\" title=\"\" width=\"1\"/></noscript>\n",
            "<div class=\"printfooter\" data-nosnippet=\"\">Retrieved from \"<a dir=\"ltr\" href=\"https://en.wikipedia.org/w/index.php?title=Data_science&amp;oldid=1130417671\">https://en.wikipedia.org/w/index.php?title=Data_science&amp;oldid=1130417671</a>\"</div></div>\n",
            "<div class=\"catlinks\" data-mw=\"interface\" id=\"catlinks\"><div class=\"mw-normal-catlinks\" id=\"mw-normal-catlinks\"><a href=\"/wiki/Help:Category\" title=\"Help:Category\">Categories</a>: <ul><li><a href=\"/wiki/Category:Information_science\" title=\"Category:Information science\">Information science</a></li><li><a href=\"/wiki/Category:Computer_occupations\" title=\"Category:Computer occupations\">Computer occupations</a></li><li><a href=\"/wiki/Category:Computational_fields_of_study\" title=\"Category:Computational fields of study\">Computational fields of study</a></li><li><a href=\"/wiki/Category:Data_analysis\" title=\"Category:Data analysis\">Data analysis</a></li></ul></div><div class=\"mw-hidden-catlinks mw-hidden-cats-hidden\" id=\"mw-hidden-catlinks\">Hidden categories: <ul><li><a href=\"/wiki/Category:Articles_with_short_description\" title=\"Category:Articles with short description\">Articles with short description</a></li><li><a href=\"/wiki/Category:Short_description_matches_Wikidata\" title=\"Category:Short description matches Wikidata\">Short description matches Wikidata</a></li><li><a href=\"/wiki/Category:Use_dmy_dates_from_August_2021\" title=\"Category:Use dmy dates from August 2021\">Use dmy dates from August 2021</a></li></ul></div></div>\n",
            "</div>\n",
            "</div>\n",
            "<div id=\"mw-navigation\">\n",
            "<h2>Navigation menu</h2>\n",
            "<div id=\"mw-head\">\n",
            "<nav aria-labelledby=\"p-personal-label\" class=\"vector-menu mw-portlet mw-portlet-personal vector-user-menu-legacy\" id=\"p-personal\" role=\"navigation\">\n",
            "<h3 class=\"vector-menu-heading \" id=\"p-personal-label\">\n",
            "<span class=\"vector-menu-heading-label\">Personal tools</span>\n",
            "</h3>\n",
            "<div class=\"vector-menu-content\">\n",
            "<ul class=\"vector-menu-content-list\"><li class=\"mw-list-item\" id=\"pt-anonuserpage\"><span title=\"The user page for the IP address you are editing as\">Not logged in</span></li><li class=\"mw-list-item\" id=\"pt-anontalk\"><a accesskey=\"n\" href=\"/wiki/Special:MyTalk\" title=\"Discussion about edits from this IP address [n]\"><span>Talk</span></a></li><li class=\"mw-list-item\" id=\"pt-anoncontribs\"><a accesskey=\"y\" href=\"/wiki/Special:MyContributions\" title=\"A list of edits made from this IP address [y]\"><span>Contributions</span></a></li><li class=\"mw-list-item\" id=\"pt-createaccount\"><a href=\"/w/index.php?title=Special:CreateAccount&amp;returnto=Data+science\" title=\"You are encouraged to create an account and log in; however, it is not mandatory\"><span>Create account</span></a></li><li class=\"mw-list-item\" id=\"pt-login\"><a accesskey=\"o\" href=\"/w/index.php?title=Special:UserLogin&amp;returnto=Data+science\" title=\"You're encouraged to log in; however, it's not mandatory. [o]\"><span>Log in</span></a></li></ul>\n",
            "</div>\n",
            "</nav>\n",
            "<div id=\"left-navigation\">\n",
            "<nav aria-labelledby=\"p-namespaces-label\" class=\"vector-menu mw-portlet mw-portlet-namespaces vector-menu-tabs vector-menu-tabs-legacy\" id=\"p-namespaces\" role=\"navigation\">\n",
            "<h3 class=\"vector-menu-heading \" id=\"p-namespaces-label\">\n",
            "<span class=\"vector-menu-heading-label\">Namespaces</span>\n",
            "</h3>\n",
            "<div class=\"vector-menu-content\">\n",
            "<ul class=\"vector-menu-content-list\"><li class=\"selected mw-list-item\" id=\"ca-nstab-main\"><a accesskey=\"c\" href=\"/wiki/Data_science\" title=\"View the content page [c]\"><span>Article</span></a></li><li class=\"mw-list-item\" id=\"ca-talk\"><a accesskey=\"t\" href=\"/wiki/Talk:Data_science\" rel=\"discussion\" title=\"Discuss improvements to the content page [t]\"><span>Talk</span></a></li></ul>\n",
            "</div>\n",
            "</nav>\n",
            "<nav aria-labelledby=\"p-variants-label\" class=\"vector-menu mw-portlet mw-portlet-variants emptyPortlet vector-menu-dropdown-noicon vector-menu-dropdown\" id=\"p-variants\" role=\"navigation\">\n",
            "<input aria-haspopup=\"true\" aria-labelledby=\"p-variants-label\" class=\"vector-menu-checkbox\" data-event-name=\"ui.dropdown-p-variants\" id=\"p-variants-checkbox\" role=\"button\" type=\"checkbox\"/>\n",
            "<label aria-label=\"Change language variant\" class=\"vector-menu-heading \" id=\"p-variants-label\">\n",
            "<span class=\"vector-menu-heading-label\">English</span>\n",
            "</label>\n",
            "<div class=\"vector-menu-content\">\n",
            "<ul class=\"vector-menu-content-list\"></ul>\n",
            "</div>\n",
            "</nav>\n",
            "</div>\n",
            "<div id=\"right-navigation\">\n",
            "<nav aria-labelledby=\"p-views-label\" class=\"vector-menu mw-portlet mw-portlet-views vector-menu-tabs vector-menu-tabs-legacy\" id=\"p-views\" role=\"navigation\">\n",
            "<h3 class=\"vector-menu-heading \" id=\"p-views-label\">\n",
            "<span class=\"vector-menu-heading-label\">Views</span>\n",
            "</h3>\n",
            "<div class=\"vector-menu-content\">\n",
            "<ul class=\"vector-menu-content-list\"><li class=\"selected mw-list-item\" id=\"ca-view\"><a href=\"/wiki/Data_science\"><span>Read</span></a></li><li class=\"mw-list-item\" id=\"ca-edit\"><a accesskey=\"e\" href=\"/w/index.php?title=Data_science&amp;action=edit\" title=\"Edit this page [e]\"><span>Edit</span></a></li><li class=\"mw-list-item\" id=\"ca-history\"><a accesskey=\"h\" href=\"/w/index.php?title=Data_science&amp;action=history\" title=\"Past revisions of this page [h]\"><span>View history</span></a></li></ul>\n",
            "</div>\n",
            "</nav>\n",
            "<nav aria-labelledby=\"p-cactions-label\" class=\"vector-menu mw-portlet mw-portlet-cactions emptyPortlet vector-menu-dropdown-noicon vector-menu-dropdown\" id=\"p-cactions\" role=\"navigation\" title=\"More options\">\n",
            "<input aria-haspopup=\"true\" aria-labelledby=\"p-cactions-label\" class=\"vector-menu-checkbox\" data-event-name=\"ui.dropdown-p-cactions\" id=\"p-cactions-checkbox\" role=\"button\" type=\"checkbox\"/>\n",
            "<label class=\"vector-menu-heading \" id=\"p-cactions-label\">\n",
            "<span class=\"vector-menu-heading-label\">More</span>\n",
            "</label>\n",
            "<div class=\"vector-menu-content\">\n",
            "<ul class=\"vector-menu-content-list\"></ul>\n",
            "</div>\n",
            "</nav>\n",
            "<div class=\"vector-search-box-vue vector-search-box-show-thumbnail vector-search-box-auto-expand-width vector-search-box\" id=\"p-search\" role=\"search\">\n",
            "<div>\n",
            "<form action=\"/w/index.php\" class=\"vector-search-box-form\" id=\"searchform\">\n",
            "<div class=\"vector-search-box-inner\" data-search-loc=\"header-navigation\" id=\"simpleSearch\">\n",
            "<input accesskey=\"f\" aria-label=\"Search Wikipedia\" autocapitalize=\"sentences\" class=\"vector-search-box-input\" id=\"searchInput\" name=\"search\" placeholder=\"Search Wikipedia\" title=\"Search Wikipedia [f]\" type=\"search\"/>\n",
            "<input name=\"title\" type=\"hidden\" value=\"Special:Search\"/>\n",
            "<input class=\"searchButton mw-fallbackSearchButton\" id=\"mw-searchButton\" name=\"fulltext\" title=\"Search Wikipedia for this text\" type=\"submit\" value=\"Search\"/>\n",
            "<input class=\"searchButton\" id=\"searchButton\" name=\"go\" title=\"Go to a page with this exact name if it exists\" type=\"submit\" value=\"Go\"/>\n",
            "</div>\n",
            "</form>\n",
            "</div>\n",
            "</div>\n",
            "</div>\n",
            "</div>\n",
            "<div class=\"vector-legacy-sidebar\" id=\"mw-panel\">\n",
            "<div id=\"p-logo\" role=\"banner\">\n",
            "<a class=\"mw-wiki-logo\" href=\"/wiki/Main_Page\" title=\"Visit the main page\"></a>\n",
            "</div>\n",
            "<nav aria-labelledby=\"p-navigation-label\" class=\"vector-menu mw-portlet mw-portlet-navigation vector-menu-portal portal\" id=\"p-navigation\" role=\"navigation\">\n",
            "<h3 class=\"vector-menu-heading \" id=\"p-navigation-label\">\n",
            "<span class=\"vector-menu-heading-label\">Navigation</span>\n",
            "</h3>\n",
            "<div class=\"vector-menu-content\">\n",
            "<ul class=\"vector-menu-content-list\"><li class=\"mw-list-item\" id=\"n-mainpage-description\"><a accesskey=\"z\" href=\"/wiki/Main_Page\" title=\"Visit the main page [z]\"><span>Main page</span></a></li><li class=\"mw-list-item\" id=\"n-contents\"><a href=\"/wiki/Wikipedia:Contents\" title=\"Guides to browsing Wikipedia\"><span>Contents</span></a></li><li class=\"mw-list-item\" id=\"n-currentevents\"><a href=\"/wiki/Portal:Current_events\" title=\"Articles related to current events\"><span>Current events</span></a></li><li class=\"mw-list-item\" id=\"n-randompage\"><a accesskey=\"x\" href=\"/wiki/Special:Random\" title=\"Visit a randomly selected article [x]\"><span>Random article</span></a></li><li class=\"mw-list-item\" id=\"n-aboutsite\"><a href=\"/wiki/Wikipedia:About\" title=\"Learn about Wikipedia and how it works\"><span>About Wikipedia</span></a></li><li class=\"mw-list-item\" id=\"n-contactpage\"><a href=\"//en.wikipedia.org/wiki/Wikipedia:Contact_us\" title=\"How to contact Wikipedia\"><span>Contact us</span></a></li><li class=\"mw-list-item\" id=\"n-sitesupport\"><a href=\"https://donate.wikimedia.org/wiki/Special:FundraiserRedirector?utm_source=donate&amp;utm_medium=sidebar&amp;utm_campaign=C13_en.wikipedia.org&amp;uselang=en\" title=\"Support us by donating to the Wikimedia Foundation\"><span>Donate</span></a></li></ul>\n",
            "</div>\n",
            "</nav>\n",
            "<nav aria-labelledby=\"p-interaction-label\" class=\"vector-menu mw-portlet mw-portlet-interaction vector-menu-portal portal\" id=\"p-interaction\" role=\"navigation\">\n",
            "<h3 class=\"vector-menu-heading \" id=\"p-interaction-label\">\n",
            "<span class=\"vector-menu-heading-label\">Contribute</span>\n",
            "</h3>\n",
            "<div class=\"vector-menu-content\">\n",
            "<ul class=\"vector-menu-content-list\"><li class=\"mw-list-item\" id=\"n-help\"><a href=\"/wiki/Help:Contents\" title=\"Guidance on how to use and edit Wikipedia\"><span>Help</span></a></li><li class=\"mw-list-item\" id=\"n-introduction\"><a href=\"/wiki/Help:Introduction\" title=\"Learn how to edit Wikipedia\"><span>Learn to edit</span></a></li><li class=\"mw-list-item\" id=\"n-portal\"><a href=\"/wiki/Wikipedia:Community_portal\" title=\"The hub for editors\"><span>Community portal</span></a></li><li class=\"mw-list-item\" id=\"n-recentchanges\"><a accesskey=\"r\" href=\"/wiki/Special:RecentChanges\" title=\"A list of recent changes to Wikipedia [r]\"><span>Recent changes</span></a></li><li class=\"mw-list-item\" id=\"n-upload\"><a href=\"/wiki/Wikipedia:File_upload_wizard\" title=\"Add images or other media for use on Wikipedia\"><span>Upload file</span></a></li></ul>\n",
            "</div>\n",
            "</nav>\n",
            "<nav aria-labelledby=\"p-tb-label\" class=\"vector-menu mw-portlet mw-portlet-tb vector-menu-portal portal\" id=\"p-tb\" role=\"navigation\">\n",
            "<h3 class=\"vector-menu-heading \" id=\"p-tb-label\">\n",
            "<span class=\"vector-menu-heading-label\">Tools</span>\n",
            "</h3>\n",
            "<div class=\"vector-menu-content\">\n",
            "<ul class=\"vector-menu-content-list\"><li class=\"mw-list-item\" id=\"t-whatlinkshere\"><a accesskey=\"j\" href=\"/wiki/Special:WhatLinksHere/Data_science\" title=\"List of all English Wikipedia pages containing links to this page [j]\"><span>What links here</span></a></li><li class=\"mw-list-item\" id=\"t-recentchangeslinked\"><a accesskey=\"k\" href=\"/wiki/Special:RecentChangesLinked/Data_science\" rel=\"nofollow\" title=\"Recent changes in pages linked from this page [k]\"><span>Related changes</span></a></li><li class=\"mw-list-item\" id=\"t-upload\"><a accesskey=\"u\" href=\"/wiki/Wikipedia:File_Upload_Wizard\" title=\"Upload files [u]\"><span>Upload file</span></a></li><li class=\"mw-list-item\" id=\"t-specialpages\"><a accesskey=\"q\" href=\"/wiki/Special:SpecialPages\" title=\"A list of all special pages [q]\"><span>Special pages</span></a></li><li class=\"mw-list-item\" id=\"t-permalink\"><a href=\"/w/index.php?title=Data_science&amp;oldid=1130417671\" title=\"Permanent link to this revision of this page\"><span>Permanent link</span></a></li><li class=\"mw-list-item\" id=\"t-info\"><a href=\"/w/index.php?title=Data_science&amp;action=info\" title=\"More information about this page\"><span>Page information</span></a></li><li class=\"mw-list-item\" id=\"t-cite\"><a href=\"/w/index.php?title=Special:CiteThisPage&amp;page=Data_science&amp;id=1130417671&amp;wpFormIdentifier=titleform\" title=\"Information on how to cite this page\"><span>Cite this page</span></a></li><li class=\"mw-list-item\" id=\"t-wikibase\"><a accesskey=\"g\" href=\"https://www.wikidata.org/wiki/Special:EntityPage/Q2374463\" title=\"Structured data on this page hosted by Wikidata [g]\"><span>Wikidata item</span></a></li></ul>\n",
            "</div>\n",
            "</nav>\n",
            "<nav aria-labelledby=\"p-coll-print_export-label\" class=\"vector-menu mw-portlet mw-portlet-coll-print_export vector-menu-portal portal\" id=\"p-coll-print_export\" role=\"navigation\">\n",
            "<h3 class=\"vector-menu-heading \" id=\"p-coll-print_export-label\">\n",
            "<span class=\"vector-menu-heading-label\">Print/export</span>\n",
            "</h3>\n",
            "<div class=\"vector-menu-content\">\n",
            "<ul class=\"vector-menu-content-list\"><li class=\"mw-list-item\" id=\"coll-download-as-rl\"><a href=\"/w/index.php?title=Special:DownloadAsPdf&amp;page=Data_science&amp;action=show-download-screen\" title=\"Download this page as a PDF file\"><span>Download as PDF</span></a></li><li class=\"mw-list-item\" id=\"t-print\"><a accesskey=\"p\" href=\"/w/index.php?title=Data_science&amp;printable=yes\" title=\"Printable version of this page [p]\"><span>Printable version</span></a></li></ul>\n",
            "</div>\n",
            "</nav>\n",
            "<nav aria-labelledby=\"p-wikibase-otherprojects-label\" class=\"vector-menu mw-portlet mw-portlet-wikibase-otherprojects vector-menu-portal portal\" id=\"p-wikibase-otherprojects\" role=\"navigation\">\n",
            "<h3 class=\"vector-menu-heading \" id=\"p-wikibase-otherprojects-label\">\n",
            "<span class=\"vector-menu-heading-label\">In other projects</span>\n",
            "</h3>\n",
            "<div class=\"vector-menu-content\">\n",
            "<ul class=\"vector-menu-content-list\"><li class=\"wb-otherproject-link wb-otherproject-commons mw-list-item\"><a href=\"https://commons.wikimedia.org/wiki/Category:Data_science\" hreflang=\"en\"><span>Wikimedia Commons</span></a></li><li class=\"wb-otherproject-link wb-otherproject-wikiversity mw-list-item\"><a href=\"https://en.wikiversity.org/wiki/Data_science\" hreflang=\"en\"><span>Wikiversity</span></a></li></ul>\n",
            "</div>\n",
            "</nav>\n",
            "<nav aria-labelledby=\"p-lang-label\" class=\"vector-menu mw-portlet mw-portlet-lang vector-menu-portal portal\" id=\"p-lang\" role=\"navigation\">\n",
            "<h3 class=\"vector-menu-heading \" id=\"p-lang-label\">\n",
            "<span class=\"vector-menu-heading-label\">Languages</span>\n",
            "</h3>\n",
            "<div class=\"vector-menu-content\">\n",
            "<ul class=\"vector-menu-content-list\"><li class=\"interlanguage-link interwiki-ar mw-list-item\"><a class=\"interlanguage-link-target\" href=\"https://ar.wikipedia.org/wiki/%D8%B9%D9%84%D9%85_%D8%A7%D9%84%D8%A8%D9%8A%D8%A7%D9%86%D8%A7%D8%AA\" hreflang=\"ar\" lang=\"ar\" title=\"علم البيانات – Arabic\"><span>العربية</span></a></li><li class=\"interlanguage-link interwiki-az mw-list-item\"><a class=\"interlanguage-link-target\" href=\"https://az.wikipedia.org/wiki/Veril%C9%99nl%C9%99r_elmi_(Data_Science)\" hreflang=\"az\" lang=\"az\" title=\"Verilənlər elmi (Data Science) – Azerbaijani\"><span>Azərbaycanca</span></a></li><li class=\"interlanguage-link interwiki-bn mw-list-item\"><a class=\"interlanguage-link-target\" href=\"https://bn.wikipedia.org/wiki/%E0%A6%89%E0%A6%AA%E0%A6%BE%E0%A6%A4%E0%A7%8D%E0%A6%A4_%E0%A6%AC%E0%A6%BF%E0%A6%9C%E0%A7%8D%E0%A6%9E%E0%A6%BE%E0%A6%A8\" hreflang=\"bn\" lang=\"bn\" title=\"উপাত্ত বিজ্ঞান – Bangla\"><span>বাংলা</span></a></li><li class=\"interlanguage-link interwiki-bg mw-list-item\"><a class=\"interlanguage-link-target\" href=\"https://bg.wikipedia.org/wiki/%D0%9D%D0%B0%D1%83%D0%BA%D0%B0_%D0%B7%D0%B0_%D0%B4%D0%B0%D0%BD%D0%BD%D0%B8%D1%82%D0%B5\" hreflang=\"bg\" lang=\"bg\" title=\"Наука за данните – Bulgarian\"><span>Български</span></a></li><li class=\"interlanguage-link interwiki-ca mw-list-item\"><a class=\"interlanguage-link-target\" href=\"https://ca.wikipedia.org/wiki/Ci%C3%A8ncia_de_les_dades\" hreflang=\"ca\" lang=\"ca\" title=\"Ciència de les dades – Catalan\"><span>Català</span></a></li><li class=\"interlanguage-link interwiki-cs mw-list-item\"><a class=\"interlanguage-link-target\" href=\"https://cs.wikipedia.org/wiki/Data_science\" hreflang=\"cs\" lang=\"cs\" title=\"Data science – Czech\"><span>Čeština</span></a></li><li class=\"interlanguage-link interwiki-de mw-list-item\"><a class=\"interlanguage-link-target\" href=\"https://de.wikipedia.org/wiki/Data_Science\" hreflang=\"de\" lang=\"de\" title=\"Data Science – German\"><span>Deutsch</span></a></li><li class=\"interlanguage-link interwiki-et mw-list-item\"><a class=\"interlanguage-link-target\" href=\"https://et.wikipedia.org/wiki/Andmeteadus\" hreflang=\"et\" lang=\"et\" title=\"Andmeteadus – Estonian\"><span>Eesti</span></a></li><li class=\"interlanguage-link interwiki-el mw-list-item\"><a class=\"interlanguage-link-target\" href=\"https://el.wikipedia.org/wiki/%CE%95%CF%80%CE%B9%CF%83%CF%84%CE%AE%CE%BC%CE%B7_%CE%B4%CE%B5%CE%B4%CE%BF%CE%BC%CE%AD%CE%BD%CF%89%CE%BD\" hreflang=\"el\" lang=\"el\" title=\"Επιστήμη δεδομένων – Greek\"><span>Ελληνικά</span></a></li><li class=\"interlanguage-link interwiki-es mw-list-item\"><a class=\"interlanguage-link-target\" href=\"https://es.wikipedia.org/wiki/Ciencia_de_datos\" hreflang=\"es\" lang=\"es\" title=\"Ciencia de datos – Spanish\"><span>Español</span></a></li><li class=\"interlanguage-link interwiki-eo mw-list-item\"><a class=\"interlanguage-link-target\" href=\"https://eo.wikipedia.org/wiki/Datuma_scienco\" hreflang=\"eo\" lang=\"eo\" title=\"Datuma scienco – Esperanto\"><span>Esperanto</span></a></li><li class=\"interlanguage-link interwiki-eu mw-list-item\"><a class=\"interlanguage-link-target\" href=\"https://eu.wikipedia.org/wiki/Datu_zientzia\" hreflang=\"eu\" lang=\"eu\" title=\"Datu zientzia – Basque\"><span>Euskara</span></a></li><li class=\"interlanguage-link interwiki-fa mw-list-item\"><a class=\"interlanguage-link-target\" href=\"https://fa.wikipedia.org/wiki/%D8%B9%D9%84%D9%85_%D8%AF%D8%A7%D8%AF%D9%87%E2%80%8C%D9%87%D8%A7\" hreflang=\"fa\" lang=\"fa\" title=\"علم داده‌ها – Persian\"><span>فارسی</span></a></li><li class=\"interlanguage-link interwiki-fr mw-list-item\"><a class=\"interlanguage-link-target\" href=\"https://fr.wikipedia.org/wiki/Science_des_donn%C3%A9es\" hreflang=\"fr\" lang=\"fr\" title=\"Science des données – French\"><span>Français</span></a></li><li class=\"interlanguage-link interwiki-ko mw-list-item\"><a class=\"interlanguage-link-target\" href=\"https://ko.wikipedia.org/wiki/%EB%8D%B0%EC%9D%B4%ED%84%B0_%EC%82%AC%EC%9D%B4%EC%96%B8%EC%8A%A4\" hreflang=\"ko\" lang=\"ko\" title=\"데이터 사이언스 – Korean\"><span>한국어</span></a></li><li class=\"interlanguage-link interwiki-hy mw-list-item\"><a class=\"interlanguage-link-target\" href=\"https://hy.wikipedia.org/wiki/%D5%8F%D5%BE%D5%B5%D5%A1%D5%AC%D5%B6%D5%A5%D6%80%D5%AB_%D5%A3%D5%AB%D5%BF%D5%B8%D6%82%D5%A9%D5%B5%D5%B8%D6%82%D5%B6\" hreflang=\"hy\" lang=\"hy\" title=\"Տվյալների գիտություն – Armenian\"><span>Հայերեն</span></a></li><li class=\"interlanguage-link interwiki-hi mw-list-item\"><a class=\"interlanguage-link-target\" href=\"https://hi.wikipedia.org/wiki/%E0%A4%86%E0%A4%81%E0%A4%95%E0%A4%A1%E0%A4%BC%E0%A4%BE_%E0%A4%B5%E0%A4%BF%E0%A4%9C%E0%A5%8D%E0%A4%9E%E0%A4%BE%E0%A4%A8\" hreflang=\"hi\" lang=\"hi\" title=\"आँकड़ा विज्ञान – Hindi\"><span>हिन्दी</span></a></li><li class=\"interlanguage-link interwiki-id mw-list-item\"><a class=\"interlanguage-link-target\" href=\"https://id.wikipedia.org/wiki/Ilmu_data\" hreflang=\"id\" lang=\"id\" title=\"Ilmu data – Indonesian\"><span>Bahasa Indonesia</span></a></li><li class=\"interlanguage-link interwiki-it mw-list-item\"><a class=\"interlanguage-link-target\" href=\"https://it.wikipedia.org/wiki/Scienza_dei_dati\" hreflang=\"it\" lang=\"it\" title=\"Scienza dei dati – Italian\"><span>Italiano</span></a></li><li class=\"interlanguage-link interwiki-he mw-list-item\"><a class=\"interlanguage-link-target\" href=\"https://he.wikipedia.org/wiki/%D7%9E%D7%93%D7%A2_%D7%94%D7%A0%D7%AA%D7%95%D7%A0%D7%99%D7%9D\" hreflang=\"he\" lang=\"he\" title=\"מדע הנתונים – Hebrew\"><span>עברית</span></a></li><li class=\"interlanguage-link interwiki-kn mw-list-item\"><a class=\"interlanguage-link-target\" href=\"https://kn.wikipedia.org/wiki/%E0%B2%A6%E0%B2%A4%E0%B3%8D%E0%B2%A4%E0%B2%BE%E0%B2%82%E0%B2%B6_%E0%B2%B5%E0%B2%BF%E0%B2%9C%E0%B3%8D%E0%B2%9E%E0%B2%BE%E0%B2%A8\" hreflang=\"kn\" lang=\"kn\" title=\"ದತ್ತಾಂಶ ವಿಜ್ಞಾನ – Kannada\"><span>ಕನ್ನಡ</span></a></li><li class=\"interlanguage-link interwiki-kk mw-list-item\"><a class=\"interlanguage-link-target\" href=\"https://kk.wikipedia.org/wiki/%D0%94%D0%B5%D1%80%D0%B5%D0%BA%D1%82%D0%B5%D1%80_%D1%82%D1%83%D1%80%D0%B0%D0%BB%D1%8B_%D2%93%D1%8B%D0%BB%D1%8B%D0%BC\" hreflang=\"kk\" lang=\"kk\" title=\"Деректер туралы ғылым – Kazakh\"><span>Қазақша</span></a></li><li class=\"interlanguage-link interwiki-lv mw-list-item\"><a class=\"interlanguage-link-target\" href=\"https://lv.wikipedia.org/wiki/Datu_m%C4%81c%C4%ABba\" hreflang=\"lv\" lang=\"lv\" title=\"Datu mācība – Latvian\"><span>Latviešu</span></a></li><li class=\"interlanguage-link interwiki-mk mw-list-item\"><a class=\"interlanguage-link-target\" href=\"https://mk.wikipedia.org/wiki/%D0%9D%D0%B0%D1%83%D0%BA%D0%B0_%D0%B7%D0%B0_%D0%BF%D0%BE%D0%B4%D0%B0%D1%82%D0%BE%D1%86%D0%B8%D1%82%D0%B5\" hreflang=\"mk\" lang=\"mk\" title=\"Наука за податоците – Macedonian\"><span>Македонски</span></a></li><li class=\"interlanguage-link interwiki-ms mw-list-item\"><a class=\"interlanguage-link-target\" href=\"https://ms.wikipedia.org/wiki/Sains_data\" hreflang=\"ms\" lang=\"ms\" title=\"Sains data – Malay\"><span>Bahasa Melayu</span></a></li><li class=\"interlanguage-link interwiki-my mw-list-item\"><a class=\"interlanguage-link-target\" href=\"https://my.wikipedia.org/wiki/%E1%80%A1%E1%80%81%E1%80%BB%E1%80%80%E1%80%BA%E1%80%A1%E1%80%9C%E1%80%80%E1%80%BA%E1%80%9E%E1%80%AD%E1%80%95%E1%80%B9%E1%80%95%E1%80%B6%E1%80%95%E1%80%8A%E1%80%AC\" hreflang=\"my\" lang=\"my\" title=\"အချက်အလက်သိပ္ပံပညာ – Burmese\"><span>မြန်မာဘာသာ</span></a></li><li class=\"interlanguage-link interwiki-nl mw-list-item\"><a class=\"interlanguage-link-target\" href=\"https://nl.wikipedia.org/wiki/Datawetenschap\" hreflang=\"nl\" lang=\"nl\" title=\"Datawetenschap – Dutch\"><span>Nederlands</span></a></li><li class=\"interlanguage-link interwiki-ja mw-list-item\"><a class=\"interlanguage-link-target\" href=\"https://ja.wikipedia.org/wiki/%E3%83%87%E3%83%BC%E3%82%BF%E3%82%B5%E3%82%A4%E3%82%A8%E3%83%B3%E3%82%B9\" hreflang=\"ja\" lang=\"ja\" title=\"データサイエンス – Japanese\"><span>日本語</span></a></li><li class=\"interlanguage-link interwiki-uz mw-list-item\"><a class=\"interlanguage-link-target\" href=\"https://uz.wikipedia.org/wiki/Ma%27lumotlar_ombori\" hreflang=\"uz\" lang=\"uz\" title=\"Ma'lumotlar ombori – Uzbek\"><span>Oʻzbekcha/ўзбекча</span></a></li><li class=\"interlanguage-link interwiki-pl mw-list-item\"><a class=\"interlanguage-link-target\" href=\"https://pl.wikipedia.org/wiki/Danologia\" hreflang=\"pl\" lang=\"pl\" title=\"Danologia – Polish\"><span>Polski</span></a></li><li class=\"interlanguage-link interwiki-pt mw-list-item\"><a class=\"interlanguage-link-target\" href=\"https://pt.wikipedia.org/wiki/Ci%C3%AAncia_de_dados\" hreflang=\"pt\" lang=\"pt\" title=\"Ciência de dados – Portuguese\"><span>Português</span></a></li><li class=\"interlanguage-link interwiki-ru mw-list-item\"><a class=\"interlanguage-link-target\" href=\"https://ru.wikipedia.org/wiki/%D0%9D%D0%B0%D1%83%D0%BA%D0%B0_%D0%BE_%D0%B4%D0%B0%D0%BD%D0%BD%D1%8B%D1%85\" hreflang=\"ru\" lang=\"ru\" title=\"Наука о данных – Russian\"><span>Русский</span></a></li><li class=\"interlanguage-link interwiki-simple mw-list-item\"><a class=\"interlanguage-link-target\" href=\"https://simple.wikipedia.org/wiki/Data_science\" hreflang=\"en-simple\" lang=\"en-simple\" title=\"Data science – Simple English\"><span>Simple English</span></a></li><li class=\"interlanguage-link interwiki-fi mw-list-item\"><a class=\"interlanguage-link-target\" href=\"https://fi.wikipedia.org/wiki/Datatiede\" hreflang=\"fi\" lang=\"fi\" title=\"Datatiede – Finnish\"><span>Suomi</span></a></li><li class=\"interlanguage-link interwiki-ta mw-list-item\"><a class=\"interlanguage-link-target\" href=\"https://ta.wikipedia.org/wiki/%E0%AE%A4%E0%AE%B0%E0%AE%B5%E0%AF%81_%E0%AE%85%E0%AE%B1%E0%AE%BF%E0%AE%B5%E0%AE%BF%E0%AE%AF%E0%AE%B2%E0%AF%8D\" hreflang=\"ta\" lang=\"ta\" title=\"தரவு அறிவியல் – Tamil\"><span>தமிழ்</span></a></li><li class=\"interlanguage-link interwiki-th mw-list-item\"><a class=\"interlanguage-link-target\" href=\"https://th.wikipedia.org/wiki/%E0%B8%A7%E0%B8%B4%E0%B8%97%E0%B8%A2%E0%B8%B2%E0%B8%81%E0%B8%B2%E0%B8%A3%E0%B8%82%E0%B9%89%E0%B8%AD%E0%B8%A1%E0%B8%B9%E0%B8%A5\" hreflang=\"th\" lang=\"th\" title=\"วิทยาการข้อมูล – Thai\"><span>ไทย</span></a></li><li class=\"interlanguage-link interwiki-tr mw-list-item\"><a class=\"interlanguage-link-target\" href=\"https://tr.wikipedia.org/wiki/Veri_bilimi\" hreflang=\"tr\" lang=\"tr\" title=\"Veri bilimi – Turkish\"><span>Türkçe</span></a></li><li class=\"interlanguage-link interwiki-uk mw-list-item\"><a class=\"interlanguage-link-target\" href=\"https://uk.wikipedia.org/wiki/%D0%9D%D0%B0%D1%83%D0%BA%D0%B0_%D0%BF%D1%80%D0%BE_%D0%B4%D0%B0%D0%BD%D1%96\" hreflang=\"uk\" lang=\"uk\" title=\"Наука про дані – Ukrainian\"><span>Українська</span></a></li><li class=\"interlanguage-link interwiki-ur mw-list-item\"><a class=\"interlanguage-link-target\" href=\"https://ur.wikipedia.org/wiki/%DA%88%DB%8C%D9%B9%D8%A7_%D8%B3%D8%A7%D8%A6%D9%86%D8%B3\" hreflang=\"ur\" lang=\"ur\" title=\"ڈیٹا سائنس – Urdu\"><span>اردو</span></a></li><li class=\"interlanguage-link interwiki-vi mw-list-item\"><a class=\"interlanguage-link-target\" href=\"https://vi.wikipedia.org/wiki/Khoa_h%E1%BB%8Dc_d%E1%BB%AF_li%E1%BB%87u\" hreflang=\"vi\" lang=\"vi\" title=\"Khoa học dữ liệu – Vietnamese\"><span>Tiếng Việt</span></a></li><li class=\"interlanguage-link interwiki-zh-yue mw-list-item\"><a class=\"interlanguage-link-target\" href=\"https://zh-yue.wikipedia.org/wiki/%E6%95%B8%E6%93%9A%E7%A7%91%E5%AD%B8\" hreflang=\"yue\" lang=\"yue\" title=\"數據科學 – Cantonese\"><span>粵語</span></a></li><li class=\"interlanguage-link interwiki-zh mw-list-item\"><a class=\"interlanguage-link-target\" href=\"https://zh.wikipedia.org/wiki/%E6%95%B0%E6%8D%AE%E7%A7%91%E5%AD%A6\" hreflang=\"zh\" lang=\"zh\" title=\"数据科学 – Chinese\"><span>中文</span></a></li></ul>\n",
            "<div class=\"after-portlet after-portlet-lang\"><span class=\"wb-langlinks-edit wb-langlinks-link\"><a class=\"wbc-editpage\" href=\"https://www.wikidata.org/wiki/Special:EntityPage/Q2374463#sitelinks-wikipedia\" title=\"Edit interlanguage links\">Edit links</a></span></div>\n",
            "</div>\n",
            "</nav>\n",
            "</div>\n",
            "</div>\n",
            "<footer class=\"mw-footer\" id=\"footer\" role=\"contentinfo\">\n",
            "<ul id=\"footer-info\">\n",
            "<li id=\"footer-info-lastmod\"> This page was last edited on 30 December 2022, at 02:12<span class=\"anonymous-show\"> (UTC)</span>.</li>\n",
            "<li id=\"footer-info-copyright\">Text is available under the <a href=\"//en.wikipedia.org/wiki/Wikipedia:Text_of_Creative_Commons_Attribution-ShareAlike_3.0_Unported_License\" rel=\"license\">Creative Commons Attribution-ShareAlike License 3.0</a><a href=\"//creativecommons.org/licenses/by-sa/3.0/\" rel=\"license\" style=\"display:none;\"></a>;\n",
            "additional terms may apply.  By using this site, you agree to the <a href=\"//foundation.wikimedia.org/wiki/Terms_of_Use\">Terms of Use</a> and <a href=\"//foundation.wikimedia.org/wiki/Privacy_policy\">Privacy Policy</a>. Wikipedia® is a registered trademark of the <a href=\"//www.wikimediafoundation.org/\">Wikimedia Foundation, Inc.</a>, a non-profit organization.</li>\n",
            "</ul>\n",
            "<ul id=\"footer-places\">\n",
            "<li id=\"footer-places-privacy\"><a href=\"https://foundation.wikimedia.org/wiki/Privacy_policy\">Privacy policy</a></li>\n",
            "<li id=\"footer-places-about\"><a href=\"/wiki/Wikipedia:About\">About Wikipedia</a></li>\n",
            "<li id=\"footer-places-disclaimers\"><a href=\"/wiki/Wikipedia:General_disclaimer\">Disclaimers</a></li>\n",
            "<li id=\"footer-places-contact\"><a href=\"//en.wikipedia.org/wiki/Wikipedia:Contact_us\">Contact Wikipedia</a></li>\n",
            "<li id=\"footer-places-mobileview\"><a class=\"noprint stopMobileRedirectToggle\" href=\"//en.m.wikipedia.org/w/index.php?title=Data_science&amp;mobileaction=toggle_view_mobile\">Mobile view</a></li>\n",
            "<li id=\"footer-places-developers\"><a href=\"https://developer.wikimedia.org\">Developers</a></li>\n",
            "<li id=\"footer-places-statslink\"><a href=\"https://stats.wikimedia.org/#/en.wikipedia.org\">Statistics</a></li>\n",
            "<li id=\"footer-places-cookiestatement\"><a href=\"https://foundation.wikimedia.org/wiki/Cookie_statement\">Cookie statement</a></li>\n",
            "</ul>\n",
            "<ul class=\"noprint\" id=\"footer-icons\">\n",
            "<li id=\"footer-copyrightico\"><a href=\"https://wikimediafoundation.org/\"><img alt=\"Wikimedia Foundation\" height=\"31\" loading=\"lazy\" src=\"/static/images/footer/wikimedia-button.png\" srcset=\"/static/images/footer/wikimedia-button-1.5x.png 1.5x, /static/images/footer/wikimedia-button-2x.png 2x\" width=\"88\"/></a></li>\n",
            "<li id=\"footer-poweredbyico\"><a href=\"https://www.mediawiki.org/\"><img alt=\"Powered by MediaWiki\" height=\"31\" loading=\"lazy\" src=\"/static/images/footer/poweredby_mediawiki_88x31.png\" srcset=\"/static/images/footer/poweredby_mediawiki_132x47.png 1.5x, /static/images/footer/poweredby_mediawiki_176x62.png 2x\" width=\"88\"/></a></li>\n",
            "</ul>\n",
            "</footer>\n",
            "<script>(RLQ=window.RLQ||[]).push(function(){mw.config.set({\"wgPageParseReport\":{\"limitreport\":{\"cputime\":\"0.348\",\"walltime\":\"0.423\",\"ppvisitednodes\":{\"value\":1975,\"limit\":1000000},\"postexpandincludesize\":{\"value\":71679,\"limit\":2097152},\"templateargumentsize\":{\"value\":1118,\"limit\":2097152},\"expansiondepth\":{\"value\":12,\"limit\":100},\"expensivefunctioncount\":{\"value\":2,\"limit\":500},\"unstrip-depth\":{\"value\":1,\"limit\":20},\"unstrip-size\":{\"value\":115584,\"limit\":5000000},\"entityaccesscount\":{\"value\":0,\"limit\":400},\"timingprofile\":[\"100.00%  369.509      1 -total\",\" 58.10%  214.700      1 Template:Reflist\",\" 24.62%   90.989      9 Template:Cite_journal\",\" 16.88%   62.363      1 Template:Data\",\" 16.43%   60.720      1 Template:Navbox\",\" 14.84%   54.840     17 Template:Cite_web\",\" 12.59%   46.515      1 Template:Short_description\",\"  7.04%   25.998      2 Template:Pagetype\",\"  5.16%   19.060      1 Template:Distinguish\",\"  4.35%   16.087      4 Template:Cite_news\"]},\"scribunto\":{\"limitreport-timeusage\":{\"value\":\"0.228\",\"limit\":\"10.000\"},\"limitreport-memusage\":{\"value\":6632838,\"limit\":52428800}},\"cachereport\":{\"origin\":\"mw2388\",\"timestamp\":\"20221230021231\",\"ttl\":1814400,\"transientcontent\":false}}});});</script>\n",
            "<script type=\"application/ld+json\">{\"@context\":\"https:\\/\\/schema.org\",\"@type\":\"Article\",\"name\":\"Data science\",\"url\":\"https:\\/\\/en.wikipedia.org\\/wiki\\/Data_science\",\"sameAs\":\"http:\\/\\/www.wikidata.org\\/entity\\/Q2374463\",\"mainEntity\":\"http:\\/\\/www.wikidata.org\\/entity\\/Q2374463\",\"author\":{\"@type\":\"Organization\",\"name\":\"Contributors to Wikimedia projects\"},\"publisher\":{\"@type\":\"Organization\",\"name\":\"Wikimedia Foundation, Inc.\",\"logo\":{\"@type\":\"ImageObject\",\"url\":\"https:\\/\\/www.wikimedia.org\\/static\\/images\\/wmf-hor-googpub.png\"}},\"datePublished\":\"2012-04-11T17:34:10Z\",\"dateModified\":\"2022-12-30T02:12:22Z\",\"image\":\"https:\\/\\/upload.wikimedia.org\\/wikipedia\\/commons\\/4\\/45\\/PIA23792-1600x1200%281%29.jpg\",\"headline\":\"interdisciplinary field of study focused on deriving knowledge and insights from data\"}</script><script type=\"application/ld+json\">{\"@context\":\"https:\\/\\/schema.org\",\"@type\":\"Article\",\"name\":\"Data science\",\"url\":\"https:\\/\\/en.wikipedia.org\\/wiki\\/Data_science\",\"sameAs\":\"http:\\/\\/www.wikidata.org\\/entity\\/Q2374463\",\"mainEntity\":\"http:\\/\\/www.wikidata.org\\/entity\\/Q2374463\",\"author\":{\"@type\":\"Organization\",\"name\":\"Contributors to Wikimedia projects\"},\"publisher\":{\"@type\":\"Organization\",\"name\":\"Wikimedia Foundation, Inc.\",\"logo\":{\"@type\":\"ImageObject\",\"url\":\"https:\\/\\/www.wikimedia.org\\/static\\/images\\/wmf-hor-googpub.png\"}},\"datePublished\":\"2012-04-11T17:34:10Z\",\"dateModified\":\"2022-12-30T02:12:22Z\",\"image\":\"https:\\/\\/upload.wikimedia.org\\/wikipedia\\/commons\\/4\\/45\\/PIA23792-1600x1200%281%29.jpg\",\"headline\":\"interdisciplinary field of study focused on deriving knowledge and insights from data\"}</script>\n",
            "<script>(RLQ=window.RLQ||[]).push(function(){mw.config.set({\"wgBackendResponseTime\":88,\"wgHostname\":\"mw2413\"});});</script>\n",
            "</body>\n",
            "</html>\n"
          ]
        },
        {
          "output_type": "execute_result",
          "data": {
            "text/plain": [
              "\"elem=soup.select('#loginmodal')\\nprint(elem)\\nelem1=soup.select('#modal-footer')\\nprint(elem1)\""
            ],
            "application/vnd.google.colaboratory.intrinsic+json": {
              "type": "string"
            }
          },
          "metadata": {},
          "execution_count": 11
        }
      ]
    }
  ],
  "metadata": {
    "colab": {
      "provenance": [],
      "authorship_tag": "ABX9TyO1te/+BlHrfefaDqVV+LNh",
      "include_colab_link": true
    },
    "kernelspec": {
      "display_name": "Python 3",
      "name": "python3"
    },
    "language_info": {
      "name": "python"
    }
  },
  "nbformat": 4,
  "nbformat_minor": 0
}